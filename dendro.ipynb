{
 "cells": [
  {
   "cell_type": "code",
   "execution_count": 1,
   "metadata": {},
   "outputs": [
    {
     "name": "stderr",
     "output_type": "stream",
     "text": [
      "/home/kaetahr/.local/lib64/python3.6/site-packages/ipykernel_launcher.py:15: FutureWarning:\n",
      "\n",
      "using a dict on a Series for aggregation\n",
      "is deprecated and will be removed in a future version. Use                 named aggregation instead.\n",
      "\n",
      "    >>> grouper.agg(name_1=func_1, name_2=func_2)\n",
      "\n",
      "\n"
     ]
    }
   ],
   "source": [
    "import plotly.offline as pyo\n",
    "import plotly_express as pyx\n",
    "import plotly.graph_objects as go\n",
    "from mlxtend.frequent_patterns import apriori\n",
    "from mlxtend.frequent_patterns import association_rules\n",
    "from mlxtend.preprocessing import TransactionEncoder\n",
    "import plotly.figure_factory as ff\n",
    "import numpy as np\n",
    "from numpy import *\n",
    "import pandas as pd\n",
    "\n",
    "data = pd.read_csv(\"sample_semanai.csv\")\n",
    "data = data.drop_duplicates().iloc[:]\n",
    "top_10 = data.groupby(['Clave platillo'])['Cantidad'].agg(\n",
    "    {\"Cuenta\": len}).sort_values(\n",
    "    \"Cuenta\", ascending=False).head(10).reset_index()\n",
    "top_10 = top_10['Clave platillo']"
   ]
  },
  {
   "cell_type": "code",
   "execution_count": 28,
   "metadata": {
    "scrolled": false
   },
   "outputs": [
    {
     "data": {
      "application/vnd.plotly.v1+json": {
       "config": {
        "plotlyServerURL": "https://plot.ly"
       },
       "data": [
        {
         "alignmentgroup": "True",
         "hoverlabel": {
          "namelength": 0
         },
         "hovertemplate": "Grupo=HAMBURGUESAS<br>Día=%{x}<br>Cantidad=%{y}",
         "legendgroup": "Grupo=HAMBURGUESAS",
         "marker": {
          "color": "#636efa"
         },
         "name": "Grupo=HAMBURGUESAS",
         "offsetgroup": "Grupo=HAMBURGUESAS",
         "orientation": "v",
         "showlegend": true,
         "textposition": "auto",
         "type": "bar",
         "x": [
          "viernes",
          "sábado",
          "miércoles",
          "martes",
          "lunes",
          "jueves",
          "domingo"
         ],
         "xaxis": "x",
         "y": [
          2352,
          2740,
          1872,
          1525,
          1364,
          1708,
          2458
         ],
         "yaxis": "y"
        },
        {
         "alignmentgroup": "True",
         "hoverlabel": {
          "namelength": 0
         },
         "hovertemplate": "Grupo=BEBIDAS CON ALCOHOL<br>Día=%{x}<br>Cantidad=%{y}",
         "legendgroup": "Grupo=BEBIDAS CON ALCOHOL",
         "marker": {
          "color": "#EF553B"
         },
         "name": "Grupo=BEBIDAS CON ALCOHOL",
         "offsetgroup": "Grupo=BEBIDAS CON ALCOHOL",
         "orientation": "v",
         "showlegend": true,
         "textposition": "auto",
         "type": "bar",
         "x": [
          "viernes",
          "sábado",
          "miércoles",
          "martes",
          "lunes",
          "jueves",
          "domingo"
         ],
         "xaxis": "x",
         "y": [
          1252,
          1341,
          1018,
          704,
          637,
          958,
          1126
         ],
         "yaxis": "y"
        },
        {
         "alignmentgroup": "True",
         "hoverlabel": {
          "namelength": 0
         },
         "hovertemplate": "Grupo=BÁSICOS<br>Día=%{x}<br>Cantidad=%{y}",
         "legendgroup": "Grupo=BÁSICOS",
         "marker": {
          "color": "#00cc96"
         },
         "name": "Grupo=BÁSICOS",
         "offsetgroup": "Grupo=BÁSICOS",
         "orientation": "v",
         "showlegend": true,
         "textposition": "auto",
         "type": "bar",
         "x": [
          "viernes",
          "sábado",
          "miércoles",
          "martes",
          "lunes",
          "jueves",
          "domingo"
         ],
         "xaxis": "x",
         "y": [
          1020,
          1157,
          904,
          759,
          662,
          768,
          1097
         ],
         "yaxis": "y"
        },
        {
         "alignmentgroup": "True",
         "hoverlabel": {
          "namelength": 0
         },
         "hovertemplate": "Grupo=CLÁSICOS<br>Día=%{x}<br>Cantidad=%{y}",
         "legendgroup": "Grupo=CLÁSICOS",
         "marker": {
          "color": "#ab63fa"
         },
         "name": "Grupo=CLÁSICOS",
         "offsetgroup": "Grupo=CLÁSICOS",
         "orientation": "v",
         "showlegend": true,
         "textposition": "auto",
         "type": "bar",
         "x": [
          "viernes",
          "sábado",
          "miércoles",
          "martes",
          "lunes",
          "jueves",
          "domingo"
         ],
         "xaxis": "x",
         "y": [
          964,
          1127,
          914,
          699,
          549,
          757,
          1001
         ],
         "yaxis": "y"
        },
        {
         "alignmentgroup": "True",
         "hoverlabel": {
          "namelength": 0
         },
         "hovertemplate": "Grupo=BEBIDAS SIN ALCOHOL<br>Día=%{x}<br>Cantidad=%{y}",
         "legendgroup": "Grupo=BEBIDAS SIN ALCOHOL",
         "marker": {
          "color": "#FFA15A"
         },
         "name": "Grupo=BEBIDAS SIN ALCOHOL",
         "offsetgroup": "Grupo=BEBIDAS SIN ALCOHOL",
         "orientation": "v",
         "showlegend": true,
         "textposition": "auto",
         "type": "bar",
         "x": [
          "viernes",
          "sábado",
          "miércoles",
          "martes",
          "lunes",
          "jueves",
          "domingo"
         ],
         "xaxis": "x",
         "y": [
          807,
          908,
          679,
          536,
          387,
          592,
          767
         ],
         "yaxis": "y"
        },
        {
         "alignmentgroup": "True",
         "hoverlabel": {
          "namelength": 0
         },
         "hovertemplate": "Grupo=ENTRADAS<br>Día=%{x}<br>Cantidad=%{y}",
         "legendgroup": "Grupo=ENTRADAS",
         "marker": {
          "color": "#19d3f3"
         },
         "name": "Grupo=ENTRADAS",
         "offsetgroup": "Grupo=ENTRADAS",
         "orientation": "v",
         "showlegend": true,
         "textposition": "auto",
         "type": "bar",
         "x": [
          "viernes",
          "sábado",
          "miércoles",
          "martes",
          "lunes",
          "jueves",
          "domingo"
         ],
         "xaxis": "x",
         "y": [
          189,
          179,
          132,
          90,
          98,
          120,
          169
         ],
         "yaxis": "y"
        },
        {
         "alignmentgroup": "True",
         "hoverlabel": {
          "namelength": 0
         },
         "hovertemplate": "Grupo=POSTRES<br>Día=%{x}<br>Cantidad=%{y}",
         "legendgroup": "Grupo=POSTRES",
         "marker": {
          "color": "#FF6692"
         },
         "name": "Grupo=POSTRES",
         "offsetgroup": "Grupo=POSTRES",
         "orientation": "v",
         "showlegend": true,
         "textposition": "auto",
         "type": "bar",
         "x": [
          "viernes",
          "sábado",
          "miércoles",
          "martes",
          "lunes",
          "jueves",
          "domingo"
         ],
         "xaxis": "x",
         "y": [
          102,
          73,
          127,
          104,
          89,
          86,
          86
         ],
         "yaxis": "y"
        },
        {
         "alignmentgroup": "True",
         "hoverlabel": {
          "namelength": 0
         },
         "hovertemplate": "Grupo=SANDWICHES<br>Día=%{x}<br>Cantidad=%{y}",
         "legendgroup": "Grupo=SANDWICHES",
         "marker": {
          "color": "#B6E880"
         },
         "name": "Grupo=SANDWICHES",
         "offsetgroup": "Grupo=SANDWICHES",
         "orientation": "v",
         "showlegend": true,
         "textposition": "auto",
         "type": "bar",
         "x": [
          "viernes",
          "sábado",
          "miércoles",
          "martes",
          "lunes",
          "jueves",
          "domingo"
         ],
         "xaxis": "x",
         "y": [
          102,
          102,
          99,
          85,
          71,
          78,
          113
         ],
         "yaxis": "y"
        },
        {
         "alignmentgroup": "True",
         "hoverlabel": {
          "namelength": 0
         },
         "hovertemplate": "Grupo=ENSALADAS<br>Día=%{x}<br>Cantidad=%{y}",
         "legendgroup": "Grupo=ENSALADAS",
         "marker": {
          "color": "#FF97FF"
         },
         "name": "Grupo=ENSALADAS",
         "offsetgroup": "Grupo=ENSALADAS",
         "orientation": "v",
         "showlegend": true,
         "textposition": "auto",
         "type": "bar",
         "x": [
          "viernes",
          "sábado",
          "miércoles",
          "martes",
          "lunes",
          "jueves",
          "domingo"
         ],
         "xaxis": "x",
         "y": [
          100,
          65,
          90,
          74,
          72,
          79,
          88
         ],
         "yaxis": "y"
        },
        {
         "alignmentgroup": "True",
         "hoverlabel": {
          "namelength": 0
         },
         "hovertemplate": "Grupo=EXTRAS COCINA<br>Día=%{x}<br>Cantidad=%{y}",
         "legendgroup": "Grupo=EXTRAS COCINA",
         "marker": {
          "color": "#FECB52"
         },
         "name": "Grupo=EXTRAS COCINA",
         "offsetgroup": "Grupo=EXTRAS COCINA",
         "orientation": "v",
         "showlegend": true,
         "textposition": "auto",
         "type": "bar",
         "x": [
          "viernes",
          "sábado",
          "miércoles",
          "martes",
          "lunes",
          "jueves",
          "domingo"
         ],
         "xaxis": "x",
         "y": [
          98,
          109,
          86,
          79,
          84,
          97,
          91
         ],
         "yaxis": "y"
        },
        {
         "alignmentgroup": "True",
         "hoverlabel": {
          "namelength": 0
         },
         "hovertemplate": "Grupo=PAPAS, PAPAS Y MÁS PAPAS<br>Día=%{x}<br>Cantidad=%{y}",
         "legendgroup": "Grupo=PAPAS, PAPAS Y MÁS PAPAS",
         "marker": {
          "color": "#636efa"
         },
         "name": "Grupo=PAPAS, PAPAS Y MÁS PAPAS",
         "offsetgroup": "Grupo=PAPAS, PAPAS Y MÁS PAPAS",
         "orientation": "v",
         "showlegend": true,
         "textposition": "auto",
         "type": "bar",
         "x": [
          "viernes",
          "sábado",
          "miércoles",
          "martes",
          "lunes",
          "jueves",
          "domingo"
         ],
         "xaxis": "x",
         "y": [
          85,
          100,
          75,
          50,
          54,
          70,
          82
         ],
         "yaxis": "y"
        },
        {
         "alignmentgroup": "True",
         "hoverlabel": {
          "namelength": 0
         },
         "hovertemplate": "Grupo=PASTAS<br>Día=%{x}<br>Cantidad=%{y}",
         "legendgroup": "Grupo=PASTAS",
         "marker": {
          "color": "#EF553B"
         },
         "name": "Grupo=PASTAS",
         "offsetgroup": "Grupo=PASTAS",
         "orientation": "v",
         "showlegend": true,
         "textposition": "auto",
         "type": "bar",
         "x": [
          "viernes",
          "sábado",
          "miércoles",
          "martes",
          "lunes",
          "jueves",
          "domingo"
         ],
         "xaxis": "x",
         "y": [
          53,
          48,
          59,
          42,
          34,
          47,
          55
         ],
         "yaxis": "y"
        },
        {
         "alignmentgroup": "True",
         "hoverlabel": {
          "namelength": 0
         },
         "hovertemplate": "Grupo=BEBIDAS<br>Día=%{x}<br>Cantidad=%{y}",
         "legendgroup": "Grupo=BEBIDAS",
         "marker": {
          "color": "#00cc96"
         },
         "name": "Grupo=BEBIDAS",
         "offsetgroup": "Grupo=BEBIDAS",
         "orientation": "v",
         "showlegend": true,
         "textposition": "auto",
         "type": "bar",
         "x": [
          "viernes",
          "sábado",
          "miércoles",
          "martes",
          "lunes",
          "jueves",
          "domingo"
         ],
         "xaxis": "x",
         "y": [
          42,
          60,
          43,
          22,
          29,
          32,
          40
         ],
         "yaxis": "y"
        },
        {
         "alignmentgroup": "True",
         "hoverlabel": {
          "namelength": 0
         },
         "hovertemplate": "Grupo=DESTILADOS<br>Día=%{x}<br>Cantidad=%{y}",
         "legendgroup": "Grupo=DESTILADOS",
         "marker": {
          "color": "#ab63fa"
         },
         "name": "Grupo=DESTILADOS",
         "offsetgroup": "Grupo=DESTILADOS",
         "orientation": "v",
         "showlegend": true,
         "textposition": "auto",
         "type": "bar",
         "x": [
          "viernes",
          "sábado",
          "miércoles",
          "martes",
          "lunes",
          "jueves",
          "domingo"
         ],
         "xaxis": "x",
         "y": [
          25,
          15,
          24,
          26,
          14,
          35,
          23
         ],
         "yaxis": "y"
        },
        {
         "alignmentgroup": "True",
         "hoverlabel": {
          "namelength": 0
         },
         "hovertemplate": "Grupo=BEBIDAS SÚPER<br>Día=%{x}<br>Cantidad=%{y}",
         "legendgroup": "Grupo=BEBIDAS SÚPER",
         "marker": {
          "color": "#FFA15A"
         },
         "name": "Grupo=BEBIDAS SÚPER",
         "offsetgroup": "Grupo=BEBIDAS SÚPER",
         "orientation": "v",
         "showlegend": true,
         "textposition": "auto",
         "type": "bar",
         "x": [
          "viernes",
          "sábado",
          "miércoles",
          "martes",
          "lunes",
          "jueves",
          "domingo"
         ],
         "xaxis": "x",
         "y": [
          11,
          12,
          12,
          6,
          8,
          15,
          11
         ],
         "yaxis": "y"
        },
        {
         "alignmentgroup": "True",
         "hoverlabel": {
          "namelength": 0
         },
         "hovertemplate": "Grupo=EXTRAS BARRA<br>Día=%{x}<br>Cantidad=%{y}",
         "legendgroup": "Grupo=EXTRAS BARRA",
         "marker": {
          "color": "#19d3f3"
         },
         "name": "Grupo=EXTRAS BARRA",
         "offsetgroup": "Grupo=EXTRAS BARRA",
         "orientation": "v",
         "showlegend": true,
         "textposition": "auto",
         "type": "bar",
         "x": [
          "viernes",
          "sábado",
          "miércoles",
          "martes",
          "lunes",
          "jueves",
          "domingo"
         ],
         "xaxis": "x",
         "y": [
          7,
          2,
          2,
          3,
          1,
          3,
          5
         ],
         "yaxis": "y"
        }
       ],
       "layout": {
        "barmode": "relative",
        "height": 600,
        "legend": {
         "tracegroupgap": 0
        },
        "margin": {
         "t": 60
        },
        "template": {
         "data": {
          "bar": [
           {
            "error_x": {
             "color": "#2a3f5f"
            },
            "error_y": {
             "color": "#2a3f5f"
            },
            "marker": {
             "line": {
              "color": "#E5ECF6",
              "width": 0.5
             }
            },
            "type": "bar"
           }
          ],
          "barpolar": [
           {
            "marker": {
             "line": {
              "color": "#E5ECF6",
              "width": 0.5
             }
            },
            "type": "barpolar"
           }
          ],
          "carpet": [
           {
            "aaxis": {
             "endlinecolor": "#2a3f5f",
             "gridcolor": "white",
             "linecolor": "white",
             "minorgridcolor": "white",
             "startlinecolor": "#2a3f5f"
            },
            "baxis": {
             "endlinecolor": "#2a3f5f",
             "gridcolor": "white",
             "linecolor": "white",
             "minorgridcolor": "white",
             "startlinecolor": "#2a3f5f"
            },
            "type": "carpet"
           }
          ],
          "choropleth": [
           {
            "colorbar": {
             "outlinewidth": 0,
             "ticks": ""
            },
            "type": "choropleth"
           }
          ],
          "contour": [
           {
            "colorbar": {
             "outlinewidth": 0,
             "ticks": ""
            },
            "colorscale": [
             [
              0,
              "#0d0887"
             ],
             [
              0.1111111111111111,
              "#46039f"
             ],
             [
              0.2222222222222222,
              "#7201a8"
             ],
             [
              0.3333333333333333,
              "#9c179e"
             ],
             [
              0.4444444444444444,
              "#bd3786"
             ],
             [
              0.5555555555555556,
              "#d8576b"
             ],
             [
              0.6666666666666666,
              "#ed7953"
             ],
             [
              0.7777777777777778,
              "#fb9f3a"
             ],
             [
              0.8888888888888888,
              "#fdca26"
             ],
             [
              1,
              "#f0f921"
             ]
            ],
            "type": "contour"
           }
          ],
          "contourcarpet": [
           {
            "colorbar": {
             "outlinewidth": 0,
             "ticks": ""
            },
            "type": "contourcarpet"
           }
          ],
          "heatmap": [
           {
            "colorbar": {
             "outlinewidth": 0,
             "ticks": ""
            },
            "colorscale": [
             [
              0,
              "#0d0887"
             ],
             [
              0.1111111111111111,
              "#46039f"
             ],
             [
              0.2222222222222222,
              "#7201a8"
             ],
             [
              0.3333333333333333,
              "#9c179e"
             ],
             [
              0.4444444444444444,
              "#bd3786"
             ],
             [
              0.5555555555555556,
              "#d8576b"
             ],
             [
              0.6666666666666666,
              "#ed7953"
             ],
             [
              0.7777777777777778,
              "#fb9f3a"
             ],
             [
              0.8888888888888888,
              "#fdca26"
             ],
             [
              1,
              "#f0f921"
             ]
            ],
            "type": "heatmap"
           }
          ],
          "heatmapgl": [
           {
            "colorbar": {
             "outlinewidth": 0,
             "ticks": ""
            },
            "colorscale": [
             [
              0,
              "#0d0887"
             ],
             [
              0.1111111111111111,
              "#46039f"
             ],
             [
              0.2222222222222222,
              "#7201a8"
             ],
             [
              0.3333333333333333,
              "#9c179e"
             ],
             [
              0.4444444444444444,
              "#bd3786"
             ],
             [
              0.5555555555555556,
              "#d8576b"
             ],
             [
              0.6666666666666666,
              "#ed7953"
             ],
             [
              0.7777777777777778,
              "#fb9f3a"
             ],
             [
              0.8888888888888888,
              "#fdca26"
             ],
             [
              1,
              "#f0f921"
             ]
            ],
            "type": "heatmapgl"
           }
          ],
          "histogram": [
           {
            "marker": {
             "colorbar": {
              "outlinewidth": 0,
              "ticks": ""
             }
            },
            "type": "histogram"
           }
          ],
          "histogram2d": [
           {
            "colorbar": {
             "outlinewidth": 0,
             "ticks": ""
            },
            "colorscale": [
             [
              0,
              "#0d0887"
             ],
             [
              0.1111111111111111,
              "#46039f"
             ],
             [
              0.2222222222222222,
              "#7201a8"
             ],
             [
              0.3333333333333333,
              "#9c179e"
             ],
             [
              0.4444444444444444,
              "#bd3786"
             ],
             [
              0.5555555555555556,
              "#d8576b"
             ],
             [
              0.6666666666666666,
              "#ed7953"
             ],
             [
              0.7777777777777778,
              "#fb9f3a"
             ],
             [
              0.8888888888888888,
              "#fdca26"
             ],
             [
              1,
              "#f0f921"
             ]
            ],
            "type": "histogram2d"
           }
          ],
          "histogram2dcontour": [
           {
            "colorbar": {
             "outlinewidth": 0,
             "ticks": ""
            },
            "colorscale": [
             [
              0,
              "#0d0887"
             ],
             [
              0.1111111111111111,
              "#46039f"
             ],
             [
              0.2222222222222222,
              "#7201a8"
             ],
             [
              0.3333333333333333,
              "#9c179e"
             ],
             [
              0.4444444444444444,
              "#bd3786"
             ],
             [
              0.5555555555555556,
              "#d8576b"
             ],
             [
              0.6666666666666666,
              "#ed7953"
             ],
             [
              0.7777777777777778,
              "#fb9f3a"
             ],
             [
              0.8888888888888888,
              "#fdca26"
             ],
             [
              1,
              "#f0f921"
             ]
            ],
            "type": "histogram2dcontour"
           }
          ],
          "mesh3d": [
           {
            "colorbar": {
             "outlinewidth": 0,
             "ticks": ""
            },
            "type": "mesh3d"
           }
          ],
          "parcoords": [
           {
            "line": {
             "colorbar": {
              "outlinewidth": 0,
              "ticks": ""
             }
            },
            "type": "parcoords"
           }
          ],
          "scatter": [
           {
            "marker": {
             "colorbar": {
              "outlinewidth": 0,
              "ticks": ""
             }
            },
            "type": "scatter"
           }
          ],
          "scatter3d": [
           {
            "line": {
             "colorbar": {
              "outlinewidth": 0,
              "ticks": ""
             }
            },
            "marker": {
             "colorbar": {
              "outlinewidth": 0,
              "ticks": ""
             }
            },
            "type": "scatter3d"
           }
          ],
          "scattercarpet": [
           {
            "marker": {
             "colorbar": {
              "outlinewidth": 0,
              "ticks": ""
             }
            },
            "type": "scattercarpet"
           }
          ],
          "scattergeo": [
           {
            "marker": {
             "colorbar": {
              "outlinewidth": 0,
              "ticks": ""
             }
            },
            "type": "scattergeo"
           }
          ],
          "scattergl": [
           {
            "marker": {
             "colorbar": {
              "outlinewidth": 0,
              "ticks": ""
             }
            },
            "type": "scattergl"
           }
          ],
          "scattermapbox": [
           {
            "marker": {
             "colorbar": {
              "outlinewidth": 0,
              "ticks": ""
             }
            },
            "type": "scattermapbox"
           }
          ],
          "scatterpolar": [
           {
            "marker": {
             "colorbar": {
              "outlinewidth": 0,
              "ticks": ""
             }
            },
            "type": "scatterpolar"
           }
          ],
          "scatterpolargl": [
           {
            "marker": {
             "colorbar": {
              "outlinewidth": 0,
              "ticks": ""
             }
            },
            "type": "scatterpolargl"
           }
          ],
          "scatterternary": [
           {
            "marker": {
             "colorbar": {
              "outlinewidth": 0,
              "ticks": ""
             }
            },
            "type": "scatterternary"
           }
          ],
          "surface": [
           {
            "colorbar": {
             "outlinewidth": 0,
             "ticks": ""
            },
            "colorscale": [
             [
              0,
              "#0d0887"
             ],
             [
              0.1111111111111111,
              "#46039f"
             ],
             [
              0.2222222222222222,
              "#7201a8"
             ],
             [
              0.3333333333333333,
              "#9c179e"
             ],
             [
              0.4444444444444444,
              "#bd3786"
             ],
             [
              0.5555555555555556,
              "#d8576b"
             ],
             [
              0.6666666666666666,
              "#ed7953"
             ],
             [
              0.7777777777777778,
              "#fb9f3a"
             ],
             [
              0.8888888888888888,
              "#fdca26"
             ],
             [
              1,
              "#f0f921"
             ]
            ],
            "type": "surface"
           }
          ],
          "table": [
           {
            "cells": {
             "fill": {
              "color": "#EBF0F8"
             },
             "line": {
              "color": "white"
             }
            },
            "header": {
             "fill": {
              "color": "#C8D4E3"
             },
             "line": {
              "color": "white"
             }
            },
            "type": "table"
           }
          ]
         },
         "layout": {
          "annotationdefaults": {
           "arrowcolor": "#2a3f5f",
           "arrowhead": 0,
           "arrowwidth": 1
          },
          "colorscale": {
           "diverging": [
            [
             0,
             "#8e0152"
            ],
            [
             0.1,
             "#c51b7d"
            ],
            [
             0.2,
             "#de77ae"
            ],
            [
             0.3,
             "#f1b6da"
            ],
            [
             0.4,
             "#fde0ef"
            ],
            [
             0.5,
             "#f7f7f7"
            ],
            [
             0.6,
             "#e6f5d0"
            ],
            [
             0.7,
             "#b8e186"
            ],
            [
             0.8,
             "#7fbc41"
            ],
            [
             0.9,
             "#4d9221"
            ],
            [
             1,
             "#276419"
            ]
           ],
           "sequential": [
            [
             0,
             "#0d0887"
            ],
            [
             0.1111111111111111,
             "#46039f"
            ],
            [
             0.2222222222222222,
             "#7201a8"
            ],
            [
             0.3333333333333333,
             "#9c179e"
            ],
            [
             0.4444444444444444,
             "#bd3786"
            ],
            [
             0.5555555555555556,
             "#d8576b"
            ],
            [
             0.6666666666666666,
             "#ed7953"
            ],
            [
             0.7777777777777778,
             "#fb9f3a"
            ],
            [
             0.8888888888888888,
             "#fdca26"
            ],
            [
             1,
             "#f0f921"
            ]
           ],
           "sequentialminus": [
            [
             0,
             "#0d0887"
            ],
            [
             0.1111111111111111,
             "#46039f"
            ],
            [
             0.2222222222222222,
             "#7201a8"
            ],
            [
             0.3333333333333333,
             "#9c179e"
            ],
            [
             0.4444444444444444,
             "#bd3786"
            ],
            [
             0.5555555555555556,
             "#d8576b"
            ],
            [
             0.6666666666666666,
             "#ed7953"
            ],
            [
             0.7777777777777778,
             "#fb9f3a"
            ],
            [
             0.8888888888888888,
             "#fdca26"
            ],
            [
             1,
             "#f0f921"
            ]
           ]
          },
          "colorway": [
           "#636efa",
           "#EF553B",
           "#00cc96",
           "#ab63fa",
           "#FFA15A",
           "#19d3f3",
           "#FF6692",
           "#B6E880",
           "#FF97FF",
           "#FECB52"
          ],
          "font": {
           "color": "#2a3f5f"
          },
          "geo": {
           "bgcolor": "white",
           "lakecolor": "white",
           "landcolor": "#E5ECF6",
           "showlakes": true,
           "showland": true,
           "subunitcolor": "white"
          },
          "hoverlabel": {
           "align": "left"
          },
          "hovermode": "closest",
          "mapbox": {
           "style": "light"
          },
          "paper_bgcolor": "white",
          "plot_bgcolor": "#E5ECF6",
          "polar": {
           "angularaxis": {
            "gridcolor": "white",
            "linecolor": "white",
            "ticks": ""
           },
           "bgcolor": "#E5ECF6",
           "radialaxis": {
            "gridcolor": "white",
            "linecolor": "white",
            "ticks": ""
           }
          },
          "scene": {
           "xaxis": {
            "backgroundcolor": "#E5ECF6",
            "gridcolor": "white",
            "gridwidth": 2,
            "linecolor": "white",
            "showbackground": true,
            "ticks": "",
            "zerolinecolor": "white"
           },
           "yaxis": {
            "backgroundcolor": "#E5ECF6",
            "gridcolor": "white",
            "gridwidth": 2,
            "linecolor": "white",
            "showbackground": true,
            "ticks": "",
            "zerolinecolor": "white"
           },
           "zaxis": {
            "backgroundcolor": "#E5ECF6",
            "gridcolor": "white",
            "gridwidth": 2,
            "linecolor": "white",
            "showbackground": true,
            "ticks": "",
            "zerolinecolor": "white"
           }
          },
          "shapedefaults": {
           "line": {
            "color": "#2a3f5f"
           }
          },
          "ternary": {
           "aaxis": {
            "gridcolor": "white",
            "linecolor": "white",
            "ticks": ""
           },
           "baxis": {
            "gridcolor": "white",
            "linecolor": "white",
            "ticks": ""
           },
           "bgcolor": "#E5ECF6",
           "caxis": {
            "gridcolor": "white",
            "linecolor": "white",
            "ticks": ""
           }
          },
          "title": {
           "x": 0.05
          },
          "xaxis": {
           "automargin": true,
           "gridcolor": "white",
           "linecolor": "white",
           "ticks": "",
           "zerolinecolor": "white",
           "zerolinewidth": 2
          },
          "yaxis": {
           "automargin": true,
           "gridcolor": "white",
           "linecolor": "white",
           "ticks": "",
           "zerolinecolor": "white",
           "zerolinewidth": 2
          }
         }
        },
        "xaxis": {
         "anchor": "y",
         "categoryarray": [
          "lunes",
          "martes",
          "miércoles",
          "jueves",
          "viernes",
          "sábado",
          "domingo"
         ],
         "categoryorder": "array",
         "domain": [
          0,
          0.98
         ],
         "title": {
          "text": "Día"
         }
        },
        "yaxis": {
         "anchor": "x",
         "domain": [
          0,
          1
         ],
         "title": {
          "text": "Cantidad"
         }
        }
       }
      },
      "text/html": [
       "<div>\n",
       "        \n",
       "        \n",
       "            <div id=\"e79e4ea6-0176-4343-81fb-b3adbf3d605c\" class=\"plotly-graph-div\" style=\"height:600px; width:100%;\"></div>\n",
       "            <script type=\"text/javascript\">\n",
       "                require([\"plotly\"], function(Plotly) {\n",
       "                    window.PLOTLYENV=window.PLOTLYENV || {};\n",
       "                    \n",
       "                if (document.getElementById(\"e79e4ea6-0176-4343-81fb-b3adbf3d605c\")) {\n",
       "                    Plotly.newPlot(\n",
       "                        'e79e4ea6-0176-4343-81fb-b3adbf3d605c',\n",
       "                        [{\"alignmentgroup\": \"True\", \"hoverlabel\": {\"namelength\": 0}, \"hovertemplate\": \"Grupo=HAMBURGUESAS<br>D\\u00eda=%{x}<br>Cantidad=%{y}\", \"legendgroup\": \"Grupo=HAMBURGUESAS\", \"marker\": {\"color\": \"#636efa\"}, \"name\": \"Grupo=HAMBURGUESAS\", \"offsetgroup\": \"Grupo=HAMBURGUESAS\", \"orientation\": \"v\", \"showlegend\": true, \"textposition\": \"auto\", \"type\": \"bar\", \"x\": [\"viernes\", \"s\\u00e1bado\", \"mi\\u00e9rcoles\", \"martes\", \"lunes\", \"jueves\", \"domingo\"], \"xaxis\": \"x\", \"y\": [2352.0, 2740.0, 1872.0, 1525.0, 1364.0, 1708.0, 2458.0], \"yaxis\": \"y\"}, {\"alignmentgroup\": \"True\", \"hoverlabel\": {\"namelength\": 0}, \"hovertemplate\": \"Grupo=BEBIDAS CON ALCOHOL<br>D\\u00eda=%{x}<br>Cantidad=%{y}\", \"legendgroup\": \"Grupo=BEBIDAS CON ALCOHOL\", \"marker\": {\"color\": \"#EF553B\"}, \"name\": \"Grupo=BEBIDAS CON ALCOHOL\", \"offsetgroup\": \"Grupo=BEBIDAS CON ALCOHOL\", \"orientation\": \"v\", \"showlegend\": true, \"textposition\": \"auto\", \"type\": \"bar\", \"x\": [\"viernes\", \"s\\u00e1bado\", \"mi\\u00e9rcoles\", \"martes\", \"lunes\", \"jueves\", \"domingo\"], \"xaxis\": \"x\", \"y\": [1252.0, 1341.0, 1018.0, 704.0, 637.0, 958.0, 1126.0], \"yaxis\": \"y\"}, {\"alignmentgroup\": \"True\", \"hoverlabel\": {\"namelength\": 0}, \"hovertemplate\": \"Grupo=B\\u00c1SICOS<br>D\\u00eda=%{x}<br>Cantidad=%{y}\", \"legendgroup\": \"Grupo=B\\u00c1SICOS\", \"marker\": {\"color\": \"#00cc96\"}, \"name\": \"Grupo=B\\u00c1SICOS\", \"offsetgroup\": \"Grupo=B\\u00c1SICOS\", \"orientation\": \"v\", \"showlegend\": true, \"textposition\": \"auto\", \"type\": \"bar\", \"x\": [\"viernes\", \"s\\u00e1bado\", \"mi\\u00e9rcoles\", \"martes\", \"lunes\", \"jueves\", \"domingo\"], \"xaxis\": \"x\", \"y\": [1020.0, 1157.0, 904.0, 759.0, 662.0, 768.0, 1097.0], \"yaxis\": \"y\"}, {\"alignmentgroup\": \"True\", \"hoverlabel\": {\"namelength\": 0}, \"hovertemplate\": \"Grupo=CL\\u00c1SICOS<br>D\\u00eda=%{x}<br>Cantidad=%{y}\", \"legendgroup\": \"Grupo=CL\\u00c1SICOS\", \"marker\": {\"color\": \"#ab63fa\"}, \"name\": \"Grupo=CL\\u00c1SICOS\", \"offsetgroup\": \"Grupo=CL\\u00c1SICOS\", \"orientation\": \"v\", \"showlegend\": true, \"textposition\": \"auto\", \"type\": \"bar\", \"x\": [\"viernes\", \"s\\u00e1bado\", \"mi\\u00e9rcoles\", \"martes\", \"lunes\", \"jueves\", \"domingo\"], \"xaxis\": \"x\", \"y\": [964.0, 1127.0, 914.0, 699.0, 549.0, 757.0, 1001.0], \"yaxis\": \"y\"}, {\"alignmentgroup\": \"True\", \"hoverlabel\": {\"namelength\": 0}, \"hovertemplate\": \"Grupo=BEBIDAS SIN ALCOHOL<br>D\\u00eda=%{x}<br>Cantidad=%{y}\", \"legendgroup\": \"Grupo=BEBIDAS SIN ALCOHOL\", \"marker\": {\"color\": \"#FFA15A\"}, \"name\": \"Grupo=BEBIDAS SIN ALCOHOL\", \"offsetgroup\": \"Grupo=BEBIDAS SIN ALCOHOL\", \"orientation\": \"v\", \"showlegend\": true, \"textposition\": \"auto\", \"type\": \"bar\", \"x\": [\"viernes\", \"s\\u00e1bado\", \"mi\\u00e9rcoles\", \"martes\", \"lunes\", \"jueves\", \"domingo\"], \"xaxis\": \"x\", \"y\": [807.0, 908.0, 679.0, 536.0, 387.0, 592.0, 767.0], \"yaxis\": \"y\"}, {\"alignmentgroup\": \"True\", \"hoverlabel\": {\"namelength\": 0}, \"hovertemplate\": \"Grupo=ENTRADAS<br>D\\u00eda=%{x}<br>Cantidad=%{y}\", \"legendgroup\": \"Grupo=ENTRADAS\", \"marker\": {\"color\": \"#19d3f3\"}, \"name\": \"Grupo=ENTRADAS\", \"offsetgroup\": \"Grupo=ENTRADAS\", \"orientation\": \"v\", \"showlegend\": true, \"textposition\": \"auto\", \"type\": \"bar\", \"x\": [\"viernes\", \"s\\u00e1bado\", \"mi\\u00e9rcoles\", \"martes\", \"lunes\", \"jueves\", \"domingo\"], \"xaxis\": \"x\", \"y\": [189.0, 179.0, 132.0, 90.0, 98.0, 120.0, 169.0], \"yaxis\": \"y\"}, {\"alignmentgroup\": \"True\", \"hoverlabel\": {\"namelength\": 0}, \"hovertemplate\": \"Grupo=POSTRES<br>D\\u00eda=%{x}<br>Cantidad=%{y}\", \"legendgroup\": \"Grupo=POSTRES\", \"marker\": {\"color\": \"#FF6692\"}, \"name\": \"Grupo=POSTRES\", \"offsetgroup\": \"Grupo=POSTRES\", \"orientation\": \"v\", \"showlegend\": true, \"textposition\": \"auto\", \"type\": \"bar\", \"x\": [\"viernes\", \"s\\u00e1bado\", \"mi\\u00e9rcoles\", \"martes\", \"lunes\", \"jueves\", \"domingo\"], \"xaxis\": \"x\", \"y\": [102.0, 73.0, 127.0, 104.0, 89.0, 86.0, 86.0], \"yaxis\": \"y\"}, {\"alignmentgroup\": \"True\", \"hoverlabel\": {\"namelength\": 0}, \"hovertemplate\": \"Grupo=SANDWICHES<br>D\\u00eda=%{x}<br>Cantidad=%{y}\", \"legendgroup\": \"Grupo=SANDWICHES\", \"marker\": {\"color\": \"#B6E880\"}, \"name\": \"Grupo=SANDWICHES\", \"offsetgroup\": \"Grupo=SANDWICHES\", \"orientation\": \"v\", \"showlegend\": true, \"textposition\": \"auto\", \"type\": \"bar\", \"x\": [\"viernes\", \"s\\u00e1bado\", \"mi\\u00e9rcoles\", \"martes\", \"lunes\", \"jueves\", \"domingo\"], \"xaxis\": \"x\", \"y\": [102.0, 102.0, 99.0, 85.0, 71.0, 78.0, 113.0], \"yaxis\": \"y\"}, {\"alignmentgroup\": \"True\", \"hoverlabel\": {\"namelength\": 0}, \"hovertemplate\": \"Grupo=ENSALADAS<br>D\\u00eda=%{x}<br>Cantidad=%{y}\", \"legendgroup\": \"Grupo=ENSALADAS\", \"marker\": {\"color\": \"#FF97FF\"}, \"name\": \"Grupo=ENSALADAS\", \"offsetgroup\": \"Grupo=ENSALADAS\", \"orientation\": \"v\", \"showlegend\": true, \"textposition\": \"auto\", \"type\": \"bar\", \"x\": [\"viernes\", \"s\\u00e1bado\", \"mi\\u00e9rcoles\", \"martes\", \"lunes\", \"jueves\", \"domingo\"], \"xaxis\": \"x\", \"y\": [100.0, 65.0, 90.0, 74.0, 72.0, 79.0, 88.0], \"yaxis\": \"y\"}, {\"alignmentgroup\": \"True\", \"hoverlabel\": {\"namelength\": 0}, \"hovertemplate\": \"Grupo=EXTRAS COCINA<br>D\\u00eda=%{x}<br>Cantidad=%{y}\", \"legendgroup\": \"Grupo=EXTRAS COCINA\", \"marker\": {\"color\": \"#FECB52\"}, \"name\": \"Grupo=EXTRAS COCINA\", \"offsetgroup\": \"Grupo=EXTRAS COCINA\", \"orientation\": \"v\", \"showlegend\": true, \"textposition\": \"auto\", \"type\": \"bar\", \"x\": [\"viernes\", \"s\\u00e1bado\", \"mi\\u00e9rcoles\", \"martes\", \"lunes\", \"jueves\", \"domingo\"], \"xaxis\": \"x\", \"y\": [98.0, 109.0, 86.0, 79.0, 84.0, 97.0, 91.0], \"yaxis\": \"y\"}, {\"alignmentgroup\": \"True\", \"hoverlabel\": {\"namelength\": 0}, \"hovertemplate\": \"Grupo=PAPAS, PAPAS Y M\\u00c1S PAPAS<br>D\\u00eda=%{x}<br>Cantidad=%{y}\", \"legendgroup\": \"Grupo=PAPAS, PAPAS Y M\\u00c1S PAPAS\", \"marker\": {\"color\": \"#636efa\"}, \"name\": \"Grupo=PAPAS, PAPAS Y M\\u00c1S PAPAS\", \"offsetgroup\": \"Grupo=PAPAS, PAPAS Y M\\u00c1S PAPAS\", \"orientation\": \"v\", \"showlegend\": true, \"textposition\": \"auto\", \"type\": \"bar\", \"x\": [\"viernes\", \"s\\u00e1bado\", \"mi\\u00e9rcoles\", \"martes\", \"lunes\", \"jueves\", \"domingo\"], \"xaxis\": \"x\", \"y\": [85.0, 100.0, 75.0, 50.0, 54.0, 70.0, 82.0], \"yaxis\": \"y\"}, {\"alignmentgroup\": \"True\", \"hoverlabel\": {\"namelength\": 0}, \"hovertemplate\": \"Grupo=PASTAS<br>D\\u00eda=%{x}<br>Cantidad=%{y}\", \"legendgroup\": \"Grupo=PASTAS\", \"marker\": {\"color\": \"#EF553B\"}, \"name\": \"Grupo=PASTAS\", \"offsetgroup\": \"Grupo=PASTAS\", \"orientation\": \"v\", \"showlegend\": true, \"textposition\": \"auto\", \"type\": \"bar\", \"x\": [\"viernes\", \"s\\u00e1bado\", \"mi\\u00e9rcoles\", \"martes\", \"lunes\", \"jueves\", \"domingo\"], \"xaxis\": \"x\", \"y\": [53.0, 48.0, 59.0, 42.0, 34.0, 47.0, 55.0], \"yaxis\": \"y\"}, {\"alignmentgroup\": \"True\", \"hoverlabel\": {\"namelength\": 0}, \"hovertemplate\": \"Grupo=BEBIDAS<br>D\\u00eda=%{x}<br>Cantidad=%{y}\", \"legendgroup\": \"Grupo=BEBIDAS\", \"marker\": {\"color\": \"#00cc96\"}, \"name\": \"Grupo=BEBIDAS\", \"offsetgroup\": \"Grupo=BEBIDAS\", \"orientation\": \"v\", \"showlegend\": true, \"textposition\": \"auto\", \"type\": \"bar\", \"x\": [\"viernes\", \"s\\u00e1bado\", \"mi\\u00e9rcoles\", \"martes\", \"lunes\", \"jueves\", \"domingo\"], \"xaxis\": \"x\", \"y\": [42.0, 60.0, 43.0, 22.0, 29.0, 32.0, 40.0], \"yaxis\": \"y\"}, {\"alignmentgroup\": \"True\", \"hoverlabel\": {\"namelength\": 0}, \"hovertemplate\": \"Grupo=DESTILADOS<br>D\\u00eda=%{x}<br>Cantidad=%{y}\", \"legendgroup\": \"Grupo=DESTILADOS\", \"marker\": {\"color\": \"#ab63fa\"}, \"name\": \"Grupo=DESTILADOS\", \"offsetgroup\": \"Grupo=DESTILADOS\", \"orientation\": \"v\", \"showlegend\": true, \"textposition\": \"auto\", \"type\": \"bar\", \"x\": [\"viernes\", \"s\\u00e1bado\", \"mi\\u00e9rcoles\", \"martes\", \"lunes\", \"jueves\", \"domingo\"], \"xaxis\": \"x\", \"y\": [25.0, 15.0, 24.0, 26.0, 14.0, 35.0, 23.0], \"yaxis\": \"y\"}, {\"alignmentgroup\": \"True\", \"hoverlabel\": {\"namelength\": 0}, \"hovertemplate\": \"Grupo=BEBIDAS S\\u00daPER<br>D\\u00eda=%{x}<br>Cantidad=%{y}\", \"legendgroup\": \"Grupo=BEBIDAS S\\u00daPER\", \"marker\": {\"color\": \"#FFA15A\"}, \"name\": \"Grupo=BEBIDAS S\\u00daPER\", \"offsetgroup\": \"Grupo=BEBIDAS S\\u00daPER\", \"orientation\": \"v\", \"showlegend\": true, \"textposition\": \"auto\", \"type\": \"bar\", \"x\": [\"viernes\", \"s\\u00e1bado\", \"mi\\u00e9rcoles\", \"martes\", \"lunes\", \"jueves\", \"domingo\"], \"xaxis\": \"x\", \"y\": [11.0, 12.0, 12.0, 6.0, 8.0, 15.0, 11.0], \"yaxis\": \"y\"}, {\"alignmentgroup\": \"True\", \"hoverlabel\": {\"namelength\": 0}, \"hovertemplate\": \"Grupo=EXTRAS BARRA<br>D\\u00eda=%{x}<br>Cantidad=%{y}\", \"legendgroup\": \"Grupo=EXTRAS BARRA\", \"marker\": {\"color\": \"#19d3f3\"}, \"name\": \"Grupo=EXTRAS BARRA\", \"offsetgroup\": \"Grupo=EXTRAS BARRA\", \"orientation\": \"v\", \"showlegend\": true, \"textposition\": \"auto\", \"type\": \"bar\", \"x\": [\"viernes\", \"s\\u00e1bado\", \"mi\\u00e9rcoles\", \"martes\", \"lunes\", \"jueves\", \"domingo\"], \"xaxis\": \"x\", \"y\": [7.0, 2.0, 2.0, 3.0, 1.0, 3.0, 5.0], \"yaxis\": \"y\"}],\n",
       "                        {\"barmode\": \"relative\", \"height\": 600, \"legend\": {\"tracegroupgap\": 0}, \"margin\": {\"t\": 60}, \"template\": {\"data\": {\"bar\": [{\"error_x\": {\"color\": \"#2a3f5f\"}, \"error_y\": {\"color\": \"#2a3f5f\"}, \"marker\": {\"line\": {\"color\": \"#E5ECF6\", \"width\": 0.5}}, \"type\": \"bar\"}], \"barpolar\": [{\"marker\": {\"line\": {\"color\": \"#E5ECF6\", \"width\": 0.5}}, \"type\": \"barpolar\"}], \"carpet\": [{\"aaxis\": {\"endlinecolor\": \"#2a3f5f\", \"gridcolor\": \"white\", \"linecolor\": \"white\", \"minorgridcolor\": \"white\", \"startlinecolor\": \"#2a3f5f\"}, \"baxis\": {\"endlinecolor\": \"#2a3f5f\", \"gridcolor\": \"white\", \"linecolor\": \"white\", \"minorgridcolor\": \"white\", \"startlinecolor\": \"#2a3f5f\"}, \"type\": \"carpet\"}], \"choropleth\": [{\"colorbar\": {\"outlinewidth\": 0, \"ticks\": \"\"}, \"type\": \"choropleth\"}], \"contour\": [{\"colorbar\": {\"outlinewidth\": 0, \"ticks\": \"\"}, \"colorscale\": [[0.0, \"#0d0887\"], [0.1111111111111111, \"#46039f\"], [0.2222222222222222, \"#7201a8\"], [0.3333333333333333, \"#9c179e\"], [0.4444444444444444, \"#bd3786\"], [0.5555555555555556, \"#d8576b\"], [0.6666666666666666, \"#ed7953\"], [0.7777777777777778, \"#fb9f3a\"], [0.8888888888888888, \"#fdca26\"], [1.0, \"#f0f921\"]], \"type\": \"contour\"}], \"contourcarpet\": [{\"colorbar\": {\"outlinewidth\": 0, \"ticks\": \"\"}, \"type\": \"contourcarpet\"}], \"heatmap\": [{\"colorbar\": {\"outlinewidth\": 0, \"ticks\": \"\"}, \"colorscale\": [[0.0, \"#0d0887\"], [0.1111111111111111, \"#46039f\"], [0.2222222222222222, \"#7201a8\"], [0.3333333333333333, \"#9c179e\"], [0.4444444444444444, \"#bd3786\"], [0.5555555555555556, \"#d8576b\"], [0.6666666666666666, \"#ed7953\"], [0.7777777777777778, \"#fb9f3a\"], [0.8888888888888888, \"#fdca26\"], [1.0, \"#f0f921\"]], \"type\": \"heatmap\"}], \"heatmapgl\": [{\"colorbar\": {\"outlinewidth\": 0, \"ticks\": \"\"}, \"colorscale\": [[0.0, \"#0d0887\"], [0.1111111111111111, \"#46039f\"], [0.2222222222222222, \"#7201a8\"], [0.3333333333333333, \"#9c179e\"], [0.4444444444444444, \"#bd3786\"], [0.5555555555555556, \"#d8576b\"], [0.6666666666666666, \"#ed7953\"], [0.7777777777777778, \"#fb9f3a\"], [0.8888888888888888, \"#fdca26\"], [1.0, \"#f0f921\"]], \"type\": \"heatmapgl\"}], \"histogram\": [{\"marker\": {\"colorbar\": {\"outlinewidth\": 0, \"ticks\": \"\"}}, \"type\": \"histogram\"}], \"histogram2d\": [{\"colorbar\": {\"outlinewidth\": 0, \"ticks\": \"\"}, \"colorscale\": [[0.0, \"#0d0887\"], [0.1111111111111111, \"#46039f\"], [0.2222222222222222, \"#7201a8\"], [0.3333333333333333, \"#9c179e\"], [0.4444444444444444, \"#bd3786\"], [0.5555555555555556, \"#d8576b\"], [0.6666666666666666, \"#ed7953\"], [0.7777777777777778, \"#fb9f3a\"], [0.8888888888888888, \"#fdca26\"], [1.0, \"#f0f921\"]], \"type\": \"histogram2d\"}], \"histogram2dcontour\": [{\"colorbar\": {\"outlinewidth\": 0, \"ticks\": \"\"}, \"colorscale\": [[0.0, \"#0d0887\"], [0.1111111111111111, \"#46039f\"], [0.2222222222222222, \"#7201a8\"], [0.3333333333333333, \"#9c179e\"], [0.4444444444444444, \"#bd3786\"], [0.5555555555555556, \"#d8576b\"], [0.6666666666666666, \"#ed7953\"], [0.7777777777777778, \"#fb9f3a\"], [0.8888888888888888, \"#fdca26\"], [1.0, \"#f0f921\"]], \"type\": \"histogram2dcontour\"}], \"mesh3d\": [{\"colorbar\": {\"outlinewidth\": 0, \"ticks\": \"\"}, \"type\": \"mesh3d\"}], \"parcoords\": [{\"line\": {\"colorbar\": {\"outlinewidth\": 0, \"ticks\": \"\"}}, \"type\": \"parcoords\"}], \"scatter\": [{\"marker\": {\"colorbar\": {\"outlinewidth\": 0, \"ticks\": \"\"}}, \"type\": \"scatter\"}], \"scatter3d\": [{\"line\": {\"colorbar\": {\"outlinewidth\": 0, \"ticks\": \"\"}}, \"marker\": {\"colorbar\": {\"outlinewidth\": 0, \"ticks\": \"\"}}, \"type\": \"scatter3d\"}], \"scattercarpet\": [{\"marker\": {\"colorbar\": {\"outlinewidth\": 0, \"ticks\": \"\"}}, \"type\": \"scattercarpet\"}], \"scattergeo\": [{\"marker\": {\"colorbar\": {\"outlinewidth\": 0, \"ticks\": \"\"}}, \"type\": \"scattergeo\"}], \"scattergl\": [{\"marker\": {\"colorbar\": {\"outlinewidth\": 0, \"ticks\": \"\"}}, \"type\": \"scattergl\"}], \"scattermapbox\": [{\"marker\": {\"colorbar\": {\"outlinewidth\": 0, \"ticks\": \"\"}}, \"type\": \"scattermapbox\"}], \"scatterpolar\": [{\"marker\": {\"colorbar\": {\"outlinewidth\": 0, \"ticks\": \"\"}}, \"type\": \"scatterpolar\"}], \"scatterpolargl\": [{\"marker\": {\"colorbar\": {\"outlinewidth\": 0, \"ticks\": \"\"}}, \"type\": \"scatterpolargl\"}], \"scatterternary\": [{\"marker\": {\"colorbar\": {\"outlinewidth\": 0, \"ticks\": \"\"}}, \"type\": \"scatterternary\"}], \"surface\": [{\"colorbar\": {\"outlinewidth\": 0, \"ticks\": \"\"}, \"colorscale\": [[0.0, \"#0d0887\"], [0.1111111111111111, \"#46039f\"], [0.2222222222222222, \"#7201a8\"], [0.3333333333333333, \"#9c179e\"], [0.4444444444444444, \"#bd3786\"], [0.5555555555555556, \"#d8576b\"], [0.6666666666666666, \"#ed7953\"], [0.7777777777777778, \"#fb9f3a\"], [0.8888888888888888, \"#fdca26\"], [1.0, \"#f0f921\"]], \"type\": \"surface\"}], \"table\": [{\"cells\": {\"fill\": {\"color\": \"#EBF0F8\"}, \"line\": {\"color\": \"white\"}}, \"header\": {\"fill\": {\"color\": \"#C8D4E3\"}, \"line\": {\"color\": \"white\"}}, \"type\": \"table\"}]}, \"layout\": {\"annotationdefaults\": {\"arrowcolor\": \"#2a3f5f\", \"arrowhead\": 0, \"arrowwidth\": 1}, \"colorscale\": {\"diverging\": [[0, \"#8e0152\"], [0.1, \"#c51b7d\"], [0.2, \"#de77ae\"], [0.3, \"#f1b6da\"], [0.4, \"#fde0ef\"], [0.5, \"#f7f7f7\"], [0.6, \"#e6f5d0\"], [0.7, \"#b8e186\"], [0.8, \"#7fbc41\"], [0.9, \"#4d9221\"], [1, \"#276419\"]], \"sequential\": [[0.0, \"#0d0887\"], [0.1111111111111111, \"#46039f\"], [0.2222222222222222, \"#7201a8\"], [0.3333333333333333, \"#9c179e\"], [0.4444444444444444, \"#bd3786\"], [0.5555555555555556, \"#d8576b\"], [0.6666666666666666, \"#ed7953\"], [0.7777777777777778, \"#fb9f3a\"], [0.8888888888888888, \"#fdca26\"], [1.0, \"#f0f921\"]], \"sequentialminus\": [[0.0, \"#0d0887\"], [0.1111111111111111, \"#46039f\"], [0.2222222222222222, \"#7201a8\"], [0.3333333333333333, \"#9c179e\"], [0.4444444444444444, \"#bd3786\"], [0.5555555555555556, \"#d8576b\"], [0.6666666666666666, \"#ed7953\"], [0.7777777777777778, \"#fb9f3a\"], [0.8888888888888888, \"#fdca26\"], [1.0, \"#f0f921\"]]}, \"colorway\": [\"#636efa\", \"#EF553B\", \"#00cc96\", \"#ab63fa\", \"#FFA15A\", \"#19d3f3\", \"#FF6692\", \"#B6E880\", \"#FF97FF\", \"#FECB52\"], \"font\": {\"color\": \"#2a3f5f\"}, \"geo\": {\"bgcolor\": \"white\", \"lakecolor\": \"white\", \"landcolor\": \"#E5ECF6\", \"showlakes\": true, \"showland\": true, \"subunitcolor\": \"white\"}, \"hoverlabel\": {\"align\": \"left\"}, \"hovermode\": \"closest\", \"mapbox\": {\"style\": \"light\"}, \"paper_bgcolor\": \"white\", \"plot_bgcolor\": \"#E5ECF6\", \"polar\": {\"angularaxis\": {\"gridcolor\": \"white\", \"linecolor\": \"white\", \"ticks\": \"\"}, \"bgcolor\": \"#E5ECF6\", \"radialaxis\": {\"gridcolor\": \"white\", \"linecolor\": \"white\", \"ticks\": \"\"}}, \"scene\": {\"xaxis\": {\"backgroundcolor\": \"#E5ECF6\", \"gridcolor\": \"white\", \"gridwidth\": 2, \"linecolor\": \"white\", \"showbackground\": true, \"ticks\": \"\", \"zerolinecolor\": \"white\"}, \"yaxis\": {\"backgroundcolor\": \"#E5ECF6\", \"gridcolor\": \"white\", \"gridwidth\": 2, \"linecolor\": \"white\", \"showbackground\": true, \"ticks\": \"\", \"zerolinecolor\": \"white\"}, \"zaxis\": {\"backgroundcolor\": \"#E5ECF6\", \"gridcolor\": \"white\", \"gridwidth\": 2, \"linecolor\": \"white\", \"showbackground\": true, \"ticks\": \"\", \"zerolinecolor\": \"white\"}}, \"shapedefaults\": {\"line\": {\"color\": \"#2a3f5f\"}}, \"ternary\": {\"aaxis\": {\"gridcolor\": \"white\", \"linecolor\": \"white\", \"ticks\": \"\"}, \"baxis\": {\"gridcolor\": \"white\", \"linecolor\": \"white\", \"ticks\": \"\"}, \"bgcolor\": \"#E5ECF6\", \"caxis\": {\"gridcolor\": \"white\", \"linecolor\": \"white\", \"ticks\": \"\"}}, \"title\": {\"x\": 0.05}, \"xaxis\": {\"automargin\": true, \"gridcolor\": \"white\", \"linecolor\": \"white\", \"ticks\": \"\", \"zerolinecolor\": \"white\", \"zerolinewidth\": 2}, \"yaxis\": {\"automargin\": true, \"gridcolor\": \"white\", \"linecolor\": \"white\", \"ticks\": \"\", \"zerolinecolor\": \"white\", \"zerolinewidth\": 2}}}, \"xaxis\": {\"anchor\": \"y\", \"categoryarray\": [\"lunes\", \"martes\", \"mi\\u00e9rcoles\", \"jueves\", \"viernes\", \"s\\u00e1bado\", \"domingo\"], \"categoryorder\": \"array\", \"domain\": [0.0, 0.98], \"title\": {\"text\": \"D\\u00eda\"}}, \"yaxis\": {\"anchor\": \"x\", \"domain\": [0.0, 1.0], \"title\": {\"text\": \"Cantidad\"}}},\n",
       "                        {\"responsive\": true}\n",
       "                    ).then(function(){\n",
       "                            \n",
       "var gd = document.getElementById('e79e4ea6-0176-4343-81fb-b3adbf3d605c');\n",
       "var x = new MutationObserver(function (mutations, observer) {{\n",
       "        var display = window.getComputedStyle(gd).display;\n",
       "        if (!display || display === 'none') {{\n",
       "            console.log([gd, 'removed!']);\n",
       "            Plotly.purge(gd);\n",
       "            observer.disconnect();\n",
       "        }}\n",
       "}});\n",
       "\n",
       "// Listen for the removal of the full notebook cells\n",
       "var notebookContainer = gd.closest('#notebook-container');\n",
       "if (notebookContainer) {{\n",
       "    x.observe(notebookContainer, {childList: true});\n",
       "}}\n",
       "\n",
       "// Listen for the clearing of the current output cell\n",
       "var outputEl = gd.closest('.output');\n",
       "if (outputEl) {{\n",
       "    x.observe(outputEl, {childList: true});\n",
       "}}\n",
       "\n",
       "                        })\n",
       "                };\n",
       "                });\n",
       "            </script>\n",
       "        </div>"
      ]
     },
     "metadata": {},
     "output_type": "display_data"
    }
   ],
   "source": [
    "data_stacked = data.groupby(['Día', 'Grupo'])['Cantidad'].sum().reset_index().sort_values(['Día','Cantidad'],ascending=False)\n",
    "fig = pyx.bar(data_stacked, x='Día', y='Cantidad', color='Grupo', category_orders = {\n",
    "    'Día' : ['lunes', 'martes', 'miércoles', 'jueves', 'viernes', 'sábado', 'domingo' ]\n",
    "})\n",
    "fig.show()"
   ]
  },
  {
   "cell_type": "code",
   "execution_count": 13,
   "metadata": {},
   "outputs": [
    {
     "data": {
      "application/vnd.plotly.v1+json": {
       "config": {
        "plotlyServerURL": "https://plot.ly"
       },
       "data": [
        {
         "alignmentgroup": "True",
         "hoverlabel": {
          "namelength": 0
         },
         "hovertemplate": "Clave platillo=mcla9006<br>Grupo=%{x}<br>Cantidad=%{y}",
         "legendgroup": "Clave platillo=mcla9006",
         "marker": {
          "color": "#636efa"
         },
         "name": "Clave platillo=mcla9006",
         "offsetgroup": "Clave platillo=mcla9006",
         "orientation": "v",
         "showlegend": true,
         "textposition": "auto",
         "type": "bar",
         "x": [
          "CLÁSICOS"
         ],
         "xaxis": "x",
         "y": [
          8
         ],
         "yaxis": "y"
        },
        {
         "alignmentgroup": "True",
         "hoverlabel": {
          "namelength": 0
         },
         "hovertemplate": "Clave platillo=mcl90009<br>Grupo=%{x}<br>Cantidad=%{y}",
         "legendgroup": "Clave platillo=mcl90009",
         "marker": {
          "color": "#EF553B"
         },
         "name": "Clave platillo=mcl90009",
         "offsetgroup": "Clave platillo=mcl90009",
         "orientation": "v",
         "showlegend": true,
         "textposition": "auto",
         "type": "bar",
         "x": [
          "CLÁSICOS"
         ],
         "xaxis": "x",
         "y": [
          1
         ],
         "yaxis": "y"
        },
        {
         "alignmentgroup": "True",
         "hoverlabel": {
          "namelength": 0
         },
         "hovertemplate": "Clave platillo=mcl90005<br>Grupo=%{x}<br>Cantidad=%{y}",
         "legendgroup": "Clave platillo=mcl90005",
         "marker": {
          "color": "#00cc96"
         },
         "name": "Clave platillo=mcl90005",
         "offsetgroup": "Clave platillo=mcl90005",
         "orientation": "v",
         "showlegend": true,
         "textposition": "auto",
         "type": "bar",
         "x": [
          "CLÁSICOS"
         ],
         "xaxis": "x",
         "y": [
          1
         ],
         "yaxis": "y"
        },
        {
         "alignmentgroup": "True",
         "hoverlabel": {
          "namelength": 0
         },
         "hovertemplate": "Clave platillo=mcl90004<br>Grupo=%{x}<br>Cantidad=%{y}",
         "legendgroup": "Clave platillo=mcl90004",
         "marker": {
          "color": "#ab63fa"
         },
         "name": "Clave platillo=mcl90004",
         "offsetgroup": "Clave platillo=mcl90004",
         "orientation": "v",
         "showlegend": true,
         "textposition": "auto",
         "type": "bar",
         "x": [
          "CLÁSICOS"
         ],
         "xaxis": "x",
         "y": [
          6
         ],
         "yaxis": "y"
        },
        {
         "alignmentgroup": "True",
         "hoverlabel": {
          "namelength": 0
         },
         "hovertemplate": "Clave platillo=bebi03<br>Grupo=%{x}<br>Cantidad=%{y}",
         "legendgroup": "Clave platillo=bebi03",
         "marker": {
          "color": "#FFA15A"
         },
         "name": "Clave platillo=bebi03",
         "offsetgroup": "Clave platillo=bebi03",
         "orientation": "v",
         "showlegend": true,
         "textposition": "auto",
         "type": "bar",
         "x": [
          "BEBIDAS CON ALCOHOL"
         ],
         "xaxis": "x",
         "y": [
          75
         ],
         "yaxis": "y"
        },
        {
         "alignmentgroup": "True",
         "hoverlabel": {
          "namelength": 0
         },
         "hovertemplate": "Clave platillo=bebi02<br>Grupo=%{x}<br>Cantidad=%{y}",
         "legendgroup": "Clave platillo=bebi02",
         "marker": {
          "color": "#19d3f3"
         },
         "name": "Clave platillo=bebi02",
         "offsetgroup": "Clave platillo=bebi02",
         "orientation": "v",
         "showlegend": true,
         "textposition": "auto",
         "type": "bar",
         "x": [
          "BEBIDAS CON ALCOHOL"
         ],
         "xaxis": "x",
         "y": [
          35
         ],
         "yaxis": "y"
        },
        {
         "alignmentgroup": "True",
         "hoverlabel": {
          "namelength": 0
         },
         "hovertemplate": "Clave platillo=bebi01<br>Grupo=%{x}<br>Cantidad=%{y}",
         "legendgroup": "Clave platillo=bebi01",
         "marker": {
          "color": "#FF6692"
         },
         "name": "Clave platillo=bebi01",
         "offsetgroup": "Clave platillo=bebi01",
         "orientation": "v",
         "showlegend": true,
         "textposition": "auto",
         "type": "bar",
         "x": [
          "BEBIDAS CON ALCOHOL"
         ],
         "xaxis": "x",
         "y": [
          26
         ],
         "yaxis": "y"
        },
        {
         "alignmentgroup": "True",
         "hoverlabel": {
          "namelength": 0
         },
         "hovertemplate": "Clave platillo=bebi006<br>Grupo=%{x}<br>Cantidad=%{y}",
         "legendgroup": "Clave platillo=bebi006",
         "marker": {
          "color": "#B6E880"
         },
         "name": "Clave platillo=bebi006",
         "offsetgroup": "Clave platillo=bebi006",
         "orientation": "v",
         "showlegend": true,
         "textposition": "auto",
         "type": "bar",
         "x": [
          "BEBIDAS CON ALCOHOL"
         ],
         "xaxis": "x",
         "y": [
          55
         ],
         "yaxis": "y"
        },
        {
         "alignmentgroup": "True",
         "hoverlabel": {
          "namelength": 0
         },
         "hovertemplate": "Clave platillo=bebi005<br>Grupo=%{x}<br>Cantidad=%{y}",
         "legendgroup": "Clave platillo=bebi005",
         "marker": {
          "color": "#FF97FF"
         },
         "name": "Clave platillo=bebi005",
         "offsetgroup": "Clave platillo=bebi005",
         "orientation": "v",
         "showlegend": true,
         "textposition": "auto",
         "type": "bar",
         "x": [
          "BEBIDAS CON ALCOHOL"
         ],
         "xaxis": "x",
         "y": [
          11
         ],
         "yaxis": "y"
        },
        {
         "alignmentgroup": "True",
         "hoverlabel": {
          "namelength": 0
         },
         "hovertemplate": "Clave platillo=bebi004<br>Grupo=%{x}<br>Cantidad=%{y}",
         "legendgroup": "Clave platillo=bebi004",
         "marker": {
          "color": "#FECB52"
         },
         "name": "Clave platillo=bebi004",
         "offsetgroup": "Clave platillo=bebi004",
         "orientation": "v",
         "showlegend": true,
         "textposition": "auto",
         "type": "bar",
         "x": [
          "BEBIDAS CON ALCOHOL"
         ],
         "xaxis": "x",
         "y": [
          55
         ],
         "yaxis": "y"
        },
        {
         "alignmentgroup": "True",
         "hoverlabel": {
          "namelength": 0
         },
         "hovertemplate": "Clave platillo=bas15<br>Grupo=%{x}<br>Cantidad=%{y}",
         "legendgroup": "Clave platillo=bas15",
         "marker": {
          "color": "#636efa"
         },
         "name": "Clave platillo=bas15",
         "offsetgroup": "Clave platillo=bas15",
         "orientation": "v",
         "showlegend": true,
         "textposition": "auto",
         "type": "bar",
         "x": [
          "BÁSICOS"
         ],
         "xaxis": "x",
         "y": [
          96
         ],
         "yaxis": "y"
        },
        {
         "alignmentgroup": "True",
         "hoverlabel": {
          "namelength": 0
         },
         "hovertemplate": "Clave platillo=SAN4<br>Grupo=%{x}<br>Cantidad=%{y}",
         "legendgroup": "Clave platillo=SAN4",
         "marker": {
          "color": "#EF553B"
         },
         "name": "Clave platillo=SAN4",
         "offsetgroup": "Clave platillo=SAN4",
         "orientation": "v",
         "showlegend": true,
         "textposition": "auto",
         "type": "bar",
         "x": [
          "SANDWICHES"
         ],
         "xaxis": "x",
         "y": [
          107
         ],
         "yaxis": "y"
        },
        {
         "alignmentgroup": "True",
         "hoverlabel": {
          "namelength": 0
         },
         "hovertemplate": "Clave platillo=SAN3<br>Grupo=%{x}<br>Cantidad=%{y}",
         "legendgroup": "Clave platillo=SAN3",
         "marker": {
          "color": "#00cc96"
         },
         "name": "Clave platillo=SAN3",
         "offsetgroup": "Clave platillo=SAN3",
         "orientation": "v",
         "showlegend": true,
         "textposition": "auto",
         "type": "bar",
         "x": [
          "SANDWICHES"
         ],
         "xaxis": "x",
         "y": [
          179
         ],
         "yaxis": "y"
        },
        {
         "alignmentgroup": "True",
         "hoverlabel": {
          "namelength": 0
         },
         "hovertemplate": "Clave platillo=SAN2<br>Grupo=%{x}<br>Cantidad=%{y}",
         "legendgroup": "Clave platillo=SAN2",
         "marker": {
          "color": "#ab63fa"
         },
         "name": "Clave platillo=SAN2",
         "offsetgroup": "Clave platillo=SAN2",
         "orientation": "v",
         "showlegend": true,
         "textposition": "auto",
         "type": "bar",
         "x": [
          "SANDWICHES"
         ],
         "xaxis": "x",
         "y": [
          154
         ],
         "yaxis": "y"
        },
        {
         "alignmentgroup": "True",
         "hoverlabel": {
          "namelength": 0
         },
         "hovertemplate": "Clave platillo=SAN1<br>Grupo=%{x}<br>Cantidad=%{y}",
         "legendgroup": "Clave platillo=SAN1",
         "marker": {
          "color": "#FFA15A"
         },
         "name": "Clave platillo=SAN1",
         "offsetgroup": "Clave platillo=SAN1",
         "orientation": "v",
         "showlegend": true,
         "textposition": "auto",
         "type": "bar",
         "x": [
          "SANDWICHES"
         ],
         "xaxis": "x",
         "y": [
          209
         ],
         "yaxis": "y"
        },
        {
         "alignmentgroup": "True",
         "hoverlabel": {
          "namelength": 0
         },
         "hovertemplate": "Clave platillo=PPP4<br>Grupo=%{x}<br>Cantidad=%{y}",
         "legendgroup": "Clave platillo=PPP4",
         "marker": {
          "color": "#19d3f3"
         },
         "name": "Clave platillo=PPP4",
         "offsetgroup": "Clave platillo=PPP4",
         "orientation": "v",
         "showlegend": true,
         "textposition": "auto",
         "type": "bar",
         "x": [
          "PAPAS, PAPAS Y MÁS PAPAS"
         ],
         "xaxis": "x",
         "y": [
          86
         ],
         "yaxis": "y"
        },
        {
         "alignmentgroup": "True",
         "hoverlabel": {
          "namelength": 0
         },
         "hovertemplate": "Clave platillo=PPP3<br>Grupo=%{x}<br>Cantidad=%{y}",
         "legendgroup": "Clave platillo=PPP3",
         "marker": {
          "color": "#FF6692"
         },
         "name": "Clave platillo=PPP3",
         "offsetgroup": "Clave platillo=PPP3",
         "orientation": "v",
         "showlegend": true,
         "textposition": "auto",
         "type": "bar",
         "x": [
          "PAPAS, PAPAS Y MÁS PAPAS"
         ],
         "xaxis": "x",
         "y": [
          24
         ],
         "yaxis": "y"
        },
        {
         "alignmentgroup": "True",
         "hoverlabel": {
          "namelength": 0
         },
         "hovertemplate": "Clave platillo=PPP2<br>Grupo=%{x}<br>Cantidad=%{y}",
         "legendgroup": "Clave platillo=PPP2",
         "marker": {
          "color": "#B6E880"
         },
         "name": "Clave platillo=PPP2",
         "offsetgroup": "Clave platillo=PPP2",
         "orientation": "v",
         "showlegend": true,
         "textposition": "auto",
         "type": "bar",
         "x": [
          "PAPAS, PAPAS Y MÁS PAPAS"
         ],
         "xaxis": "x",
         "y": [
          207
         ],
         "yaxis": "y"
        },
        {
         "alignmentgroup": "True",
         "hoverlabel": {
          "namelength": 0
         },
         "hovertemplate": "Clave platillo=PPP1<br>Grupo=%{x}<br>Cantidad=%{y}",
         "legendgroup": "Clave platillo=PPP1",
         "marker": {
          "color": "#FF97FF"
         },
         "name": "Clave platillo=PPP1",
         "offsetgroup": "Clave platillo=PPP1",
         "orientation": "v",
         "showlegend": true,
         "textposition": "auto",
         "type": "bar",
         "x": [
          "PAPAS, PAPAS Y MÁS PAPAS"
         ],
         "xaxis": "x",
         "y": [
          193
         ],
         "yaxis": "y"
        },
        {
         "alignmentgroup": "True",
         "hoverlabel": {
          "namelength": 0
         },
         "hovertemplate": "Clave platillo=POS5<br>Grupo=%{x}<br>Cantidad=%{y}",
         "legendgroup": "Clave platillo=POS5",
         "marker": {
          "color": "#FECB52"
         },
         "name": "Clave platillo=POS5",
         "offsetgroup": "Clave platillo=POS5",
         "orientation": "v",
         "showlegend": true,
         "textposition": "auto",
         "type": "bar",
         "x": [
          "POSTRES"
         ],
         "xaxis": "x",
         "y": [
          19
         ],
         "yaxis": "y"
        },
        {
         "alignmentgroup": "True",
         "hoverlabel": {
          "namelength": 0
         },
         "hovertemplate": "Clave platillo=POS4<br>Grupo=%{x}<br>Cantidad=%{y}",
         "legendgroup": "Clave platillo=POS4",
         "marker": {
          "color": "#636efa"
         },
         "name": "Clave platillo=POS4",
         "offsetgroup": "Clave platillo=POS4",
         "orientation": "v",
         "showlegend": true,
         "textposition": "auto",
         "type": "bar",
         "x": [
          "POSTRES"
         ],
         "xaxis": "x",
         "y": [
          10
         ],
         "yaxis": "y"
        },
        {
         "alignmentgroup": "True",
         "hoverlabel": {
          "namelength": 0
         },
         "hovertemplate": "Clave platillo=POS3<br>Grupo=%{x}<br>Cantidad=%{y}",
         "legendgroup": "Clave platillo=POS3",
         "marker": {
          "color": "#EF553B"
         },
         "name": "Clave platillo=POS3",
         "offsetgroup": "Clave platillo=POS3",
         "orientation": "v",
         "showlegend": true,
         "textposition": "auto",
         "type": "bar",
         "x": [
          "POSTRES"
         ],
         "xaxis": "x",
         "y": [
          30
         ],
         "yaxis": "y"
        },
        {
         "alignmentgroup": "True",
         "hoverlabel": {
          "namelength": 0
         },
         "hovertemplate": "Clave platillo=POS2<br>Grupo=%{x}<br>Cantidad=%{y}",
         "legendgroup": "Clave platillo=POS2",
         "marker": {
          "color": "#00cc96"
         },
         "name": "Clave platillo=POS2",
         "offsetgroup": "Clave platillo=POS2",
         "orientation": "v",
         "showlegend": true,
         "textposition": "auto",
         "type": "bar",
         "x": [
          "POSTRES"
         ],
         "xaxis": "x",
         "y": [
          53
         ],
         "yaxis": "y"
        },
        {
         "alignmentgroup": "True",
         "hoverlabel": {
          "namelength": 0
         },
         "hovertemplate": "Clave platillo=POS1<br>Grupo=%{x}<br>Cantidad=%{y}",
         "legendgroup": "Clave platillo=POS1",
         "marker": {
          "color": "#ab63fa"
         },
         "name": "Clave platillo=POS1",
         "offsetgroup": "Clave platillo=POS1",
         "orientation": "v",
         "showlegend": true,
         "textposition": "auto",
         "type": "bar",
         "x": [
          "POSTRES"
         ],
         "xaxis": "x",
         "y": [
          212
         ],
         "yaxis": "y"
        },
        {
         "alignmentgroup": "True",
         "hoverlabel": {
          "namelength": 0
         },
         "hovertemplate": "Clave platillo=PAS478602<br>Grupo=%{x}<br>Cantidad=%{y}",
         "legendgroup": "Clave platillo=PAS478602",
         "marker": {
          "color": "#FFA15A"
         },
         "name": "Clave platillo=PAS478602",
         "offsetgroup": "Clave platillo=PAS478602",
         "orientation": "v",
         "showlegend": true,
         "textposition": "auto",
         "type": "bar",
         "x": [
          "PASTAS"
         ],
         "xaxis": "x",
         "y": [
          1
         ],
         "yaxis": "y"
        },
        {
         "alignmentgroup": "True",
         "hoverlabel": {
          "namelength": 0
         },
         "hovertemplate": "Clave platillo=PAS478601<br>Grupo=%{x}<br>Cantidad=%{y}",
         "legendgroup": "Clave platillo=PAS478601",
         "marker": {
          "color": "#19d3f3"
         },
         "name": "Clave platillo=PAS478601",
         "offsetgroup": "Clave platillo=PAS478601",
         "orientation": "v",
         "showlegend": true,
         "textposition": "auto",
         "type": "bar",
         "x": [
          "PASTAS"
         ],
         "xaxis": "x",
         "y": [
          1
         ],
         "yaxis": "y"
        },
        {
         "alignmentgroup": "True",
         "hoverlabel": {
          "namelength": 0
         },
         "hovertemplate": "Clave platillo=PAS478599<br>Grupo=%{x}<br>Cantidad=%{y}",
         "legendgroup": "Clave platillo=PAS478599",
         "marker": {
          "color": "#FF6692"
         },
         "name": "Clave platillo=PAS478599",
         "offsetgroup": "Clave platillo=PAS478599",
         "orientation": "v",
         "showlegend": true,
         "textposition": "auto",
         "type": "bar",
         "x": [
          "PASTAS"
         ],
         "xaxis": "x",
         "y": [
          4
         ],
         "yaxis": "y"
        },
        {
         "alignmentgroup": "True",
         "hoverlabel": {
          "namelength": 0
         },
         "hovertemplate": "Clave platillo=PAS478597<br>Grupo=%{x}<br>Cantidad=%{y}",
         "legendgroup": "Clave platillo=PAS478597",
         "marker": {
          "color": "#B6E880"
         },
         "name": "Clave platillo=PAS478597",
         "offsetgroup": "Clave platillo=PAS478597",
         "orientation": "v",
         "showlegend": true,
         "textposition": "auto",
         "type": "bar",
         "x": [
          "PASTAS"
         ],
         "xaxis": "x",
         "y": [
          1
         ],
         "yaxis": "y"
        },
        {
         "alignmentgroup": "True",
         "hoverlabel": {
          "namelength": 0
         },
         "hovertemplate": "Clave platillo=PAS478596<br>Grupo=%{x}<br>Cantidad=%{y}",
         "legendgroup": "Clave platillo=PAS478596",
         "marker": {
          "color": "#FF97FF"
         },
         "name": "Clave platillo=PAS478596",
         "offsetgroup": "Clave platillo=PAS478596",
         "orientation": "v",
         "showlegend": true,
         "textposition": "auto",
         "type": "bar",
         "x": [
          "PASTAS"
         ],
         "xaxis": "x",
         "y": [
          1
         ],
         "yaxis": "y"
        },
        {
         "alignmentgroup": "True",
         "hoverlabel": {
          "namelength": 0
         },
         "hovertemplate": "Clave platillo=PAS3<br>Grupo=%{x}<br>Cantidad=%{y}",
         "legendgroup": "Clave platillo=PAS3",
         "marker": {
          "color": "#FECB52"
         },
         "name": "Clave platillo=PAS3",
         "offsetgroup": "Clave platillo=PAS3",
         "orientation": "v",
         "showlegend": true,
         "textposition": "auto",
         "type": "bar",
         "x": [
          "PASTAS"
         ],
         "xaxis": "x",
         "y": [
          209
         ],
         "yaxis": "y"
        },
        {
         "alignmentgroup": "True",
         "hoverlabel": {
          "namelength": 0
         },
         "hovertemplate": "Clave platillo=PAS2<br>Grupo=%{x}<br>Cantidad=%{y}",
         "legendgroup": "Clave platillo=PAS2",
         "marker": {
          "color": "#636efa"
         },
         "name": "Clave platillo=PAS2",
         "offsetgroup": "Clave platillo=PAS2",
         "orientation": "v",
         "showlegend": true,
         "textposition": "auto",
         "type": "bar",
         "x": [
          "PASTAS"
         ],
         "xaxis": "x",
         "y": [
          55
         ],
         "yaxis": "y"
        },
        {
         "alignmentgroup": "True",
         "hoverlabel": {
          "namelength": 0
         },
         "hovertemplate": "Clave platillo=PAS1<br>Grupo=%{x}<br>Cantidad=%{y}",
         "legendgroup": "Clave platillo=PAS1",
         "marker": {
          "color": "#EF553B"
         },
         "name": "Clave platillo=PAS1",
         "offsetgroup": "Clave platillo=PAS1",
         "orientation": "v",
         "showlegend": true,
         "textposition": "auto",
         "type": "bar",
         "x": [
          "PASTAS"
         ],
         "xaxis": "x",
         "y": [
          65
         ],
         "yaxis": "y"
        },
        {
         "alignmentgroup": "True",
         "hoverlabel": {
          "namelength": 0
         },
         "hovertemplate": "Clave platillo=MSAN16<br>Grupo=%{x}<br>Cantidad=%{y}",
         "legendgroup": "Clave platillo=MSAN16",
         "marker": {
          "color": "#00cc96"
         },
         "name": "Clave platillo=MSAN16",
         "offsetgroup": "Clave platillo=MSAN16",
         "orientation": "v",
         "showlegend": true,
         "textposition": "auto",
         "type": "bar",
         "x": [
          "SANDWICHES"
         ],
         "xaxis": "x",
         "y": [
          1
         ],
         "yaxis": "y"
        },
        {
         "alignmentgroup": "True",
         "hoverlabel": {
          "namelength": 0
         },
         "hovertemplate": "Clave platillo=MPOS9<br>Grupo=%{x}<br>Cantidad=%{y}",
         "legendgroup": "Clave platillo=MPOS9",
         "marker": {
          "color": "#ab63fa"
         },
         "name": "Clave platillo=MPOS9",
         "offsetgroup": "Clave platillo=MPOS9",
         "orientation": "v",
         "showlegend": true,
         "textposition": "auto",
         "type": "bar",
         "x": [
          "POSTRES"
         ],
         "xaxis": "x",
         "y": [
          9
         ],
         "yaxis": "y"
        },
        {
         "alignmentgroup": "True",
         "hoverlabel": {
          "namelength": 0
         },
         "hovertemplate": "Clave platillo=MPOS8<br>Grupo=%{x}<br>Cantidad=%{y}",
         "legendgroup": "Clave platillo=MPOS8",
         "marker": {
          "color": "#FFA15A"
         },
         "name": "Clave platillo=MPOS8",
         "offsetgroup": "Clave platillo=MPOS8",
         "orientation": "v",
         "showlegend": true,
         "textposition": "auto",
         "type": "bar",
         "x": [
          "POSTRES"
         ],
         "xaxis": "x",
         "y": [
          7
         ],
         "yaxis": "y"
        },
        {
         "alignmentgroup": "True",
         "hoverlabel": {
          "namelength": 0
         },
         "hovertemplate": "Clave platillo=MPOS7<br>Grupo=%{x}<br>Cantidad=%{y}",
         "legendgroup": "Clave platillo=MPOS7",
         "marker": {
          "color": "#19d3f3"
         },
         "name": "Clave platillo=MPOS7",
         "offsetgroup": "Clave platillo=MPOS7",
         "orientation": "v",
         "showlegend": true,
         "textposition": "auto",
         "type": "bar",
         "x": [
          "POSTRES"
         ],
         "xaxis": "x",
         "y": [
          3
         ],
         "yaxis": "y"
        },
        {
         "alignmentgroup": "True",
         "hoverlabel": {
          "namelength": 0
         },
         "hovertemplate": "Clave platillo=MPOS6<br>Grupo=%{x}<br>Cantidad=%{y}",
         "legendgroup": "Clave platillo=MPOS6",
         "marker": {
          "color": "#FF6692"
         },
         "name": "Clave platillo=MPOS6",
         "offsetgroup": "Clave platillo=MPOS6",
         "orientation": "v",
         "showlegend": true,
         "textposition": "auto",
         "type": "bar",
         "x": [
          "POSTRES"
         ],
         "xaxis": "x",
         "y": [
          4
         ],
         "yaxis": "y"
        },
        {
         "alignmentgroup": "True",
         "hoverlabel": {
          "namelength": 0
         },
         "hovertemplate": "Clave platillo=MPOS5<br>Grupo=%{x}<br>Cantidad=%{y}",
         "legendgroup": "Clave platillo=MPOS5",
         "marker": {
          "color": "#B6E880"
         },
         "name": "Clave platillo=MPOS5",
         "offsetgroup": "Clave platillo=MPOS5",
         "orientation": "v",
         "showlegend": true,
         "textposition": "auto",
         "type": "bar",
         "x": [
          "POSTRES"
         ],
         "xaxis": "x",
         "y": [
          2
         ],
         "yaxis": "y"
        },
        {
         "alignmentgroup": "True",
         "hoverlabel": {
          "namelength": 0
         },
         "hovertemplate": "Clave platillo=MPOS4<br>Grupo=%{x}<br>Cantidad=%{y}",
         "legendgroup": "Clave platillo=MPOS4",
         "marker": {
          "color": "#FF97FF"
         },
         "name": "Clave platillo=MPOS4",
         "offsetgroup": "Clave platillo=MPOS4",
         "orientation": "v",
         "showlegend": true,
         "textposition": "auto",
         "type": "bar",
         "x": [
          "POSTRES"
         ],
         "xaxis": "x",
         "y": [
          2
         ],
         "yaxis": "y"
        },
        {
         "alignmentgroup": "True",
         "hoverlabel": {
          "namelength": 0
         },
         "hovertemplate": "Clave platillo=MPOS3<br>Grupo=%{x}<br>Cantidad=%{y}",
         "legendgroup": "Clave platillo=MPOS3",
         "marker": {
          "color": "#FECB52"
         },
         "name": "Clave platillo=MPOS3",
         "offsetgroup": "Clave platillo=MPOS3",
         "orientation": "v",
         "showlegend": true,
         "textposition": "auto",
         "type": "bar",
         "x": [
          "POSTRES"
         ],
         "xaxis": "x",
         "y": [
          14
         ],
         "yaxis": "y"
        },
        {
         "alignmentgroup": "True",
         "hoverlabel": {
          "namelength": 0
         },
         "hovertemplate": "Clave platillo=MPOS2<br>Grupo=%{x}<br>Cantidad=%{y}",
         "legendgroup": "Clave platillo=MPOS2",
         "marker": {
          "color": "#636efa"
         },
         "name": "Clave platillo=MPOS2",
         "offsetgroup": "Clave platillo=MPOS2",
         "orientation": "v",
         "showlegend": true,
         "textposition": "auto",
         "type": "bar",
         "x": [
          "POSTRES"
         ],
         "xaxis": "x",
         "y": [
          25
         ],
         "yaxis": "y"
        },
        {
         "alignmentgroup": "True",
         "hoverlabel": {
          "namelength": 0
         },
         "hovertemplate": "Clave platillo=MPOS10<br>Grupo=%{x}<br>Cantidad=%{y}",
         "legendgroup": "Clave platillo=MPOS10",
         "marker": {
          "color": "#EF553B"
         },
         "name": "Clave platillo=MPOS10",
         "offsetgroup": "Clave platillo=MPOS10",
         "orientation": "v",
         "showlegend": true,
         "textposition": "auto",
         "type": "bar",
         "x": [
          "POSTRES"
         ],
         "xaxis": "x",
         "y": [
          9
         ],
         "yaxis": "y"
        },
        {
         "alignmentgroup": "True",
         "hoverlabel": {
          "namelength": 0
         },
         "hovertemplate": "Clave platillo=MPOS1<br>Grupo=%{x}<br>Cantidad=%{y}",
         "legendgroup": "Clave platillo=MPOS1",
         "marker": {
          "color": "#00cc96"
         },
         "name": "Clave platillo=MPOS1",
         "offsetgroup": "Clave platillo=MPOS1",
         "orientation": "v",
         "showlegend": true,
         "textposition": "auto",
         "type": "bar",
         "x": [
          "POSTRES"
         ],
         "xaxis": "x",
         "y": [
          62
         ],
         "yaxis": "y"
        },
        {
         "alignmentgroup": "True",
         "hoverlabel": {
          "namelength": 0
         },
         "hovertemplate": "Clave platillo=MPAP4<br>Grupo=%{x}<br>Cantidad=%{y}",
         "legendgroup": "Clave platillo=MPAP4",
         "marker": {
          "color": "#ab63fa"
         },
         "name": "Clave platillo=MPAP4",
         "offsetgroup": "Clave platillo=MPAP4",
         "orientation": "v",
         "showlegend": true,
         "textposition": "auto",
         "type": "bar",
         "x": [
          "PAPAS, PAPAS Y MÁS PAPAS"
         ],
         "xaxis": "x",
         "y": [
          1
         ],
         "yaxis": "y"
        },
        {
         "alignmentgroup": "True",
         "hoverlabel": {
          "namelength": 0
         },
         "hovertemplate": "Clave platillo=MPAP2<br>Grupo=%{x}<br>Cantidad=%{y}",
         "legendgroup": "Clave platillo=MPAP2",
         "marker": {
          "color": "#FFA15A"
         },
         "name": "Clave platillo=MPAP2",
         "offsetgroup": "Clave platillo=MPAP2",
         "orientation": "v",
         "showlegend": true,
         "textposition": "auto",
         "type": "bar",
         "x": [
          "PAPAS, PAPAS Y MÁS PAPAS"
         ],
         "xaxis": "x",
         "y": [
          1
         ],
         "yaxis": "y"
        },
        {
         "alignmentgroup": "True",
         "hoverlabel": {
          "namelength": 0
         },
         "hovertemplate": "Clave platillo=MPAP1<br>Grupo=%{x}<br>Cantidad=%{y}",
         "legendgroup": "Clave platillo=MPAP1",
         "marker": {
          "color": "#19d3f3"
         },
         "name": "Clave platillo=MPAP1",
         "offsetgroup": "Clave platillo=MPAP1",
         "orientation": "v",
         "showlegend": true,
         "textposition": "auto",
         "type": "bar",
         "x": [
          "PAPAS, PAPAS Y MÁS PAPAS"
         ],
         "xaxis": "x",
         "y": [
          3
         ],
         "yaxis": "y"
        },
        {
         "alignmentgroup": "True",
         "hoverlabel": {
          "namelength": 0
         },
         "hovertemplate": "Clave platillo=MHAM9<br>Grupo=%{x}<br>Cantidad=%{y}",
         "legendgroup": "Clave platillo=MHAM9",
         "marker": {
          "color": "#FF6692"
         },
         "name": "Clave platillo=MHAM9",
         "offsetgroup": "Clave platillo=MHAM9",
         "orientation": "v",
         "showlegend": true,
         "textposition": "auto",
         "type": "bar",
         "x": [
          "HAMBURGUESAS"
         ],
         "xaxis": "x",
         "y": [
          73
         ],
         "yaxis": "y"
        },
        {
         "alignmentgroup": "True",
         "hoverlabel": {
          "namelength": 0
         },
         "hovertemplate": "Clave platillo=MHAM8<br>Grupo=%{x}<br>Cantidad=%{y}",
         "legendgroup": "Clave platillo=MHAM8",
         "marker": {
          "color": "#B6E880"
         },
         "name": "Clave platillo=MHAM8",
         "offsetgroup": "Clave platillo=MHAM8",
         "orientation": "v",
         "showlegend": true,
         "textposition": "auto",
         "type": "bar",
         "x": [
          "HAMBURGUESAS"
         ],
         "xaxis": "x",
         "y": [
          68
         ],
         "yaxis": "y"
        },
        {
         "alignmentgroup": "True",
         "hoverlabel": {
          "namelength": 0
         },
         "hovertemplate": "Clave platillo=MHAM75<br>Grupo=%{x}<br>Cantidad=%{y}",
         "legendgroup": "Clave platillo=MHAM75",
         "marker": {
          "color": "#FF97FF"
         },
         "name": "Clave platillo=MHAM75",
         "offsetgroup": "Clave platillo=MHAM75",
         "orientation": "v",
         "showlegend": true,
         "textposition": "auto",
         "type": "bar",
         "x": [
          "HAMBURGUESAS"
         ],
         "xaxis": "x",
         "y": [
          1
         ],
         "yaxis": "y"
        },
        {
         "alignmentgroup": "True",
         "hoverlabel": {
          "namelength": 0
         },
         "hovertemplate": "Clave platillo=MHAM72<br>Grupo=%{x}<br>Cantidad=%{y}",
         "legendgroup": "Clave platillo=MHAM72",
         "marker": {
          "color": "#FECB52"
         },
         "name": "Clave platillo=MHAM72",
         "offsetgroup": "Clave platillo=MHAM72",
         "orientation": "v",
         "showlegend": true,
         "textposition": "auto",
         "type": "bar",
         "x": [
          "HAMBURGUESAS"
         ],
         "xaxis": "x",
         "y": [
          3
         ],
         "yaxis": "y"
        },
        {
         "alignmentgroup": "True",
         "hoverlabel": {
          "namelength": 0
         },
         "hovertemplate": "Clave platillo=MHAM71<br>Grupo=%{x}<br>Cantidad=%{y}",
         "legendgroup": "Clave platillo=MHAM71",
         "marker": {
          "color": "#636efa"
         },
         "name": "Clave platillo=MHAM71",
         "offsetgroup": "Clave platillo=MHAM71",
         "orientation": "v",
         "showlegend": true,
         "textposition": "auto",
         "type": "bar",
         "x": [
          "HAMBURGUESAS"
         ],
         "xaxis": "x",
         "y": [
          2
         ],
         "yaxis": "y"
        },
        {
         "alignmentgroup": "True",
         "hoverlabel": {
          "namelength": 0
         },
         "hovertemplate": "Clave platillo=MHAM70<br>Grupo=%{x}<br>Cantidad=%{y}",
         "legendgroup": "Clave platillo=MHAM70",
         "marker": {
          "color": "#EF553B"
         },
         "name": "Clave platillo=MHAM70",
         "offsetgroup": "Clave platillo=MHAM70",
         "orientation": "v",
         "showlegend": true,
         "textposition": "auto",
         "type": "bar",
         "x": [
          "HAMBURGUESAS"
         ],
         "xaxis": "x",
         "y": [
          1
         ],
         "yaxis": "y"
        },
        {
         "alignmentgroup": "True",
         "hoverlabel": {
          "namelength": 0
         },
         "hovertemplate": "Clave platillo=MHAM69<br>Grupo=%{x}<br>Cantidad=%{y}",
         "legendgroup": "Clave platillo=MHAM69",
         "marker": {
          "color": "#00cc96"
         },
         "name": "Clave platillo=MHAM69",
         "offsetgroup": "Clave platillo=MHAM69",
         "orientation": "v",
         "showlegend": true,
         "textposition": "auto",
         "type": "bar",
         "x": [
          "HAMBURGUESAS"
         ],
         "xaxis": "x",
         "y": [
          1
         ],
         "yaxis": "y"
        },
        {
         "alignmentgroup": "True",
         "hoverlabel": {
          "namelength": 0
         },
         "hovertemplate": "Clave platillo=MHAM68<br>Grupo=%{x}<br>Cantidad=%{y}",
         "legendgroup": "Clave platillo=MHAM68",
         "marker": {
          "color": "#ab63fa"
         },
         "name": "Clave platillo=MHAM68",
         "offsetgroup": "Clave platillo=MHAM68",
         "orientation": "v",
         "showlegend": true,
         "textposition": "auto",
         "type": "bar",
         "x": [
          "HAMBURGUESAS"
         ],
         "xaxis": "x",
         "y": [
          1
         ],
         "yaxis": "y"
        },
        {
         "alignmentgroup": "True",
         "hoverlabel": {
          "namelength": 0
         },
         "hovertemplate": "Clave platillo=MHAM67<br>Grupo=%{x}<br>Cantidad=%{y}",
         "legendgroup": "Clave platillo=MHAM67",
         "marker": {
          "color": "#FFA15A"
         },
         "name": "Clave platillo=MHAM67",
         "offsetgroup": "Clave platillo=MHAM67",
         "orientation": "v",
         "showlegend": true,
         "textposition": "auto",
         "type": "bar",
         "x": [
          "HAMBURGUESAS"
         ],
         "xaxis": "x",
         "y": [
          11
         ],
         "yaxis": "y"
        },
        {
         "alignmentgroup": "True",
         "hoverlabel": {
          "namelength": 0
         },
         "hovertemplate": "Clave platillo=MHAM66<br>Grupo=%{x}<br>Cantidad=%{y}",
         "legendgroup": "Clave platillo=MHAM66",
         "marker": {
          "color": "#19d3f3"
         },
         "name": "Clave platillo=MHAM66",
         "offsetgroup": "Clave platillo=MHAM66",
         "orientation": "v",
         "showlegend": true,
         "textposition": "auto",
         "type": "bar",
         "x": [
          "HAMBURGUESAS"
         ],
         "xaxis": "x",
         "y": [
          4
         ],
         "yaxis": "y"
        },
        {
         "alignmentgroup": "True",
         "hoverlabel": {
          "namelength": 0
         },
         "hovertemplate": "Clave platillo=MHAM65<br>Grupo=%{x}<br>Cantidad=%{y}",
         "legendgroup": "Clave platillo=MHAM65",
         "marker": {
          "color": "#FF6692"
         },
         "name": "Clave platillo=MHAM65",
         "offsetgroup": "Clave platillo=MHAM65",
         "orientation": "v",
         "showlegend": true,
         "textposition": "auto",
         "type": "bar",
         "x": [
          "HAMBURGUESAS"
         ],
         "xaxis": "x",
         "y": [
          1
         ],
         "yaxis": "y"
        },
        {
         "alignmentgroup": "True",
         "hoverlabel": {
          "namelength": 0
         },
         "hovertemplate": "Clave platillo=MHAM64<br>Grupo=%{x}<br>Cantidad=%{y}",
         "legendgroup": "Clave platillo=MHAM64",
         "marker": {
          "color": "#B6E880"
         },
         "name": "Clave platillo=MHAM64",
         "offsetgroup": "Clave platillo=MHAM64",
         "orientation": "v",
         "showlegend": true,
         "textposition": "auto",
         "type": "bar",
         "x": [
          "HAMBURGUESAS"
         ],
         "xaxis": "x",
         "y": [
          1
         ],
         "yaxis": "y"
        },
        {
         "alignmentgroup": "True",
         "hoverlabel": {
          "namelength": 0
         },
         "hovertemplate": "Clave platillo=MHAM63<br>Grupo=%{x}<br>Cantidad=%{y}",
         "legendgroup": "Clave platillo=MHAM63",
         "marker": {
          "color": "#FF97FF"
         },
         "name": "Clave platillo=MHAM63",
         "offsetgroup": "Clave platillo=MHAM63",
         "orientation": "v",
         "showlegend": true,
         "textposition": "auto",
         "type": "bar",
         "x": [
          "HAMBURGUESAS"
         ],
         "xaxis": "x",
         "y": [
          1
         ],
         "yaxis": "y"
        },
        {
         "alignmentgroup": "True",
         "hoverlabel": {
          "namelength": 0
         },
         "hovertemplate": "Clave platillo=MHAM53<br>Grupo=%{x}<br>Cantidad=%{y}",
         "legendgroup": "Clave platillo=MHAM53",
         "marker": {
          "color": "#FECB52"
         },
         "name": "Clave platillo=MHAM53",
         "offsetgroup": "Clave platillo=MHAM53",
         "orientation": "v",
         "showlegend": true,
         "textposition": "auto",
         "type": "bar",
         "x": [
          "HAMBURGUESAS"
         ],
         "xaxis": "x",
         "y": [
          5
         ],
         "yaxis": "y"
        },
        {
         "alignmentgroup": "True",
         "hoverlabel": {
          "namelength": 0
         },
         "hovertemplate": "Clave platillo=MHAM52<br>Grupo=%{x}<br>Cantidad=%{y}",
         "legendgroup": "Clave platillo=MHAM52",
         "marker": {
          "color": "#636efa"
         },
         "name": "Clave platillo=MHAM52",
         "offsetgroup": "Clave platillo=MHAM52",
         "orientation": "v",
         "showlegend": true,
         "textposition": "auto",
         "type": "bar",
         "x": [
          "HAMBURGUESAS"
         ],
         "xaxis": "x",
         "y": [
          3
         ],
         "yaxis": "y"
        },
        {
         "alignmentgroup": "True",
         "hoverlabel": {
          "namelength": 0
         },
         "hovertemplate": "Clave platillo=MHAM5<br>Grupo=%{x}<br>Cantidad=%{y}",
         "legendgroup": "Clave platillo=MHAM5",
         "marker": {
          "color": "#EF553B"
         },
         "name": "Clave platillo=MHAM5",
         "offsetgroup": "Clave platillo=MHAM5",
         "orientation": "v",
         "showlegend": true,
         "textposition": "auto",
         "type": "bar",
         "x": [
          "HAMBURGUESAS"
         ],
         "xaxis": "x",
         "y": [
          6
         ],
         "yaxis": "y"
        },
        {
         "alignmentgroup": "True",
         "hoverlabel": {
          "namelength": 0
         },
         "hovertemplate": "Clave platillo=MHAM45<br>Grupo=%{x}<br>Cantidad=%{y}",
         "legendgroup": "Clave platillo=MHAM45",
         "marker": {
          "color": "#00cc96"
         },
         "name": "Clave platillo=MHAM45",
         "offsetgroup": "Clave platillo=MHAM45",
         "orientation": "v",
         "showlegend": true,
         "textposition": "auto",
         "type": "bar",
         "x": [
          "HAMBURGUESAS"
         ],
         "xaxis": "x",
         "y": [
          1
         ],
         "yaxis": "y"
        },
        {
         "alignmentgroup": "True",
         "hoverlabel": {
          "namelength": 0
         },
         "hovertemplate": "Clave platillo=MHAM42<br>Grupo=%{x}<br>Cantidad=%{y}",
         "legendgroup": "Clave platillo=MHAM42",
         "marker": {
          "color": "#ab63fa"
         },
         "name": "Clave platillo=MHAM42",
         "offsetgroup": "Clave platillo=MHAM42",
         "orientation": "v",
         "showlegend": true,
         "textposition": "auto",
         "type": "bar",
         "x": [
          "HAMBURGUESAS"
         ],
         "xaxis": "x",
         "y": [
          4
         ],
         "yaxis": "y"
        },
        {
         "alignmentgroup": "True",
         "hoverlabel": {
          "namelength": 0
         },
         "hovertemplate": "Clave platillo=MHAM41<br>Grupo=%{x}<br>Cantidad=%{y}",
         "legendgroup": "Clave platillo=MHAM41",
         "marker": {
          "color": "#FFA15A"
         },
         "name": "Clave platillo=MHAM41",
         "offsetgroup": "Clave platillo=MHAM41",
         "orientation": "v",
         "showlegend": true,
         "textposition": "auto",
         "type": "bar",
         "x": [
          "HAMBURGUESAS"
         ],
         "xaxis": "x",
         "y": [
          1
         ],
         "yaxis": "y"
        },
        {
         "alignmentgroup": "True",
         "hoverlabel": {
          "namelength": 0
         },
         "hovertemplate": "Clave platillo=MHAM39<br>Grupo=%{x}<br>Cantidad=%{y}",
         "legendgroup": "Clave platillo=MHAM39",
         "marker": {
          "color": "#19d3f3"
         },
         "name": "Clave platillo=MHAM39",
         "offsetgroup": "Clave platillo=MHAM39",
         "orientation": "v",
         "showlegend": true,
         "textposition": "auto",
         "type": "bar",
         "x": [
          "HAMBURGUESAS"
         ],
         "xaxis": "x",
         "y": [
          2
         ],
         "yaxis": "y"
        },
        {
         "alignmentgroup": "True",
         "hoverlabel": {
          "namelength": 0
         },
         "hovertemplate": "Clave platillo=MHAM35<br>Grupo=%{x}<br>Cantidad=%{y}",
         "legendgroup": "Clave platillo=MHAM35",
         "marker": {
          "color": "#FF6692"
         },
         "name": "Clave platillo=MHAM35",
         "offsetgroup": "Clave platillo=MHAM35",
         "orientation": "v",
         "showlegend": true,
         "textposition": "auto",
         "type": "bar",
         "x": [
          "HAMBURGUESAS"
         ],
         "xaxis": "x",
         "y": [
          1
         ],
         "yaxis": "y"
        },
        {
         "alignmentgroup": "True",
         "hoverlabel": {
          "namelength": 0
         },
         "hovertemplate": "Clave platillo=MHAM33<br>Grupo=%{x}<br>Cantidad=%{y}",
         "legendgroup": "Clave platillo=MHAM33",
         "marker": {
          "color": "#B6E880"
         },
         "name": "Clave platillo=MHAM33",
         "offsetgroup": "Clave platillo=MHAM33",
         "orientation": "v",
         "showlegend": true,
         "textposition": "auto",
         "type": "bar",
         "x": [
          "HAMBURGUESAS"
         ],
         "xaxis": "x",
         "y": [
          127
         ],
         "yaxis": "y"
        },
        {
         "alignmentgroup": "True",
         "hoverlabel": {
          "namelength": 0
         },
         "hovertemplate": "Clave platillo=MHAM32<br>Grupo=%{x}<br>Cantidad=%{y}",
         "legendgroup": "Clave platillo=MHAM32",
         "marker": {
          "color": "#FF97FF"
         },
         "name": "Clave platillo=MHAM32",
         "offsetgroup": "Clave platillo=MHAM32",
         "orientation": "v",
         "showlegend": true,
         "textposition": "auto",
         "type": "bar",
         "x": [
          "HAMBURGUESAS"
         ],
         "xaxis": "x",
         "y": [
          103
         ],
         "yaxis": "y"
        },
        {
         "alignmentgroup": "True",
         "hoverlabel": {
          "namelength": 0
         },
         "hovertemplate": "Clave platillo=MHAM31<br>Grupo=%{x}<br>Cantidad=%{y}",
         "legendgroup": "Clave platillo=MHAM31",
         "marker": {
          "color": "#FECB52"
         },
         "name": "Clave platillo=MHAM31",
         "offsetgroup": "Clave platillo=MHAM31",
         "orientation": "v",
         "showlegend": true,
         "textposition": "auto",
         "type": "bar",
         "x": [
          "HAMBURGUESAS"
         ],
         "xaxis": "x",
         "y": [
          163
         ],
         "yaxis": "y"
        },
        {
         "alignmentgroup": "True",
         "hoverlabel": {
          "namelength": 0
         },
         "hovertemplate": "Clave platillo=MHAM30<br>Grupo=%{x}<br>Cantidad=%{y}",
         "legendgroup": "Clave platillo=MHAM30",
         "marker": {
          "color": "#636efa"
         },
         "name": "Clave platillo=MHAM30",
         "offsetgroup": "Clave platillo=MHAM30",
         "orientation": "v",
         "showlegend": true,
         "textposition": "auto",
         "type": "bar",
         "x": [
          "HAMBURGUESAS"
         ],
         "xaxis": "x",
         "y": [
          6454
         ],
         "yaxis": "y"
        },
        {
         "alignmentgroup": "True",
         "hoverlabel": {
          "namelength": 0
         },
         "hovertemplate": "Clave platillo=MHAM3<br>Grupo=%{x}<br>Cantidad=%{y}",
         "legendgroup": "Clave platillo=MHAM3",
         "marker": {
          "color": "#EF553B"
         },
         "name": "Clave platillo=MHAM3",
         "offsetgroup": "Clave platillo=MHAM3",
         "orientation": "v",
         "showlegend": true,
         "textposition": "auto",
         "type": "bar",
         "x": [
          "HAMBURGUESAS"
         ],
         "xaxis": "x",
         "y": [
          32
         ],
         "yaxis": "y"
        },
        {
         "alignmentgroup": "True",
         "hoverlabel": {
          "namelength": 0
         },
         "hovertemplate": "Clave platillo=MHAM29<br>Grupo=%{x}<br>Cantidad=%{y}",
         "legendgroup": "Clave platillo=MHAM29",
         "marker": {
          "color": "#00cc96"
         },
         "name": "Clave platillo=MHAM29",
         "offsetgroup": "Clave platillo=MHAM29",
         "orientation": "v",
         "showlegend": true,
         "textposition": "auto",
         "type": "bar",
         "x": [
          "HAMBURGUESAS"
         ],
         "xaxis": "x",
         "y": [
          292
         ],
         "yaxis": "y"
        },
        {
         "alignmentgroup": "True",
         "hoverlabel": {
          "namelength": 0
         },
         "hovertemplate": "Clave platillo=MHAM28<br>Grupo=%{x}<br>Cantidad=%{y}",
         "legendgroup": "Clave platillo=MHAM28",
         "marker": {
          "color": "#ab63fa"
         },
         "name": "Clave platillo=MHAM28",
         "offsetgroup": "Clave platillo=MHAM28",
         "orientation": "v",
         "showlegend": true,
         "textposition": "auto",
         "type": "bar",
         "x": [
          "HAMBURGUESAS"
         ],
         "xaxis": "x",
         "y": [
          14
         ],
         "yaxis": "y"
        },
        {
         "alignmentgroup": "True",
         "hoverlabel": {
          "namelength": 0
         },
         "hovertemplate": "Clave platillo=MHAM27<br>Grupo=%{x}<br>Cantidad=%{y}",
         "legendgroup": "Clave platillo=MHAM27",
         "marker": {
          "color": "#FFA15A"
         },
         "name": "Clave platillo=MHAM27",
         "offsetgroup": "Clave platillo=MHAM27",
         "orientation": "v",
         "showlegend": true,
         "textposition": "auto",
         "type": "bar",
         "x": [
          "HAMBURGUESAS"
         ],
         "xaxis": "x",
         "y": [
          66
         ],
         "yaxis": "y"
        },
        {
         "alignmentgroup": "True",
         "hoverlabel": {
          "namelength": 0
         },
         "hovertemplate": "Clave platillo=MHAM24<br>Grupo=%{x}<br>Cantidad=%{y}",
         "legendgroup": "Clave platillo=MHAM24",
         "marker": {
          "color": "#19d3f3"
         },
         "name": "Clave platillo=MHAM24",
         "offsetgroup": "Clave platillo=MHAM24",
         "orientation": "v",
         "showlegend": true,
         "textposition": "auto",
         "type": "bar",
         "x": [
          "HAMBURGUESAS"
         ],
         "xaxis": "x",
         "y": [
          1
         ],
         "yaxis": "y"
        },
        {
         "alignmentgroup": "True",
         "hoverlabel": {
          "namelength": 0
         },
         "hovertemplate": "Clave platillo=MHAM23<br>Grupo=%{x}<br>Cantidad=%{y}",
         "legendgroup": "Clave platillo=MHAM23",
         "marker": {
          "color": "#FF6692"
         },
         "name": "Clave platillo=MHAM23",
         "offsetgroup": "Clave platillo=MHAM23",
         "orientation": "v",
         "showlegend": true,
         "textposition": "auto",
         "type": "bar",
         "x": [
          "HAMBURGUESAS"
         ],
         "xaxis": "x",
         "y": [
          14
         ],
         "yaxis": "y"
        },
        {
         "alignmentgroup": "True",
         "hoverlabel": {
          "namelength": 0
         },
         "hovertemplate": "Clave platillo=MHAM2<br>Grupo=%{x}<br>Cantidad=%{y}",
         "legendgroup": "Clave platillo=MHAM2",
         "marker": {
          "color": "#B6E880"
         },
         "name": "Clave platillo=MHAM2",
         "offsetgroup": "Clave platillo=MHAM2",
         "orientation": "v",
         "showlegend": true,
         "textposition": "auto",
         "type": "bar",
         "x": [
          "HAMBURGUESAS"
         ],
         "xaxis": "x",
         "y": [
          4
         ],
         "yaxis": "y"
        },
        {
         "alignmentgroup": "True",
         "hoverlabel": {
          "namelength": 0
         },
         "hovertemplate": "Clave platillo=MHAM18<br>Grupo=%{x}<br>Cantidad=%{y}",
         "legendgroup": "Clave platillo=MHAM18",
         "marker": {
          "color": "#FF97FF"
         },
         "name": "Clave platillo=MHAM18",
         "offsetgroup": "Clave platillo=MHAM18",
         "orientation": "v",
         "showlegend": true,
         "textposition": "auto",
         "type": "bar",
         "x": [
          "HAMBURGUESAS"
         ],
         "xaxis": "x",
         "y": [
          9
         ],
         "yaxis": "y"
        },
        {
         "alignmentgroup": "True",
         "hoverlabel": {
          "namelength": 0
         },
         "hovertemplate": "Clave platillo=MHAM17<br>Grupo=%{x}<br>Cantidad=%{y}",
         "legendgroup": "Clave platillo=MHAM17",
         "marker": {
          "color": "#FECB52"
         },
         "name": "Clave platillo=MHAM17",
         "offsetgroup": "Clave platillo=MHAM17",
         "orientation": "v",
         "showlegend": true,
         "textposition": "auto",
         "type": "bar",
         "x": [
          "HAMBURGUESAS"
         ],
         "xaxis": "x",
         "y": [
          9
         ],
         "yaxis": "y"
        },
        {
         "alignmentgroup": "True",
         "hoverlabel": {
          "namelength": 0
         },
         "hovertemplate": "Clave platillo=MHAM16<br>Grupo=%{x}<br>Cantidad=%{y}",
         "legendgroup": "Clave platillo=MHAM16",
         "marker": {
          "color": "#636efa"
         },
         "name": "Clave platillo=MHAM16",
         "offsetgroup": "Clave platillo=MHAM16",
         "orientation": "v",
         "showlegend": true,
         "textposition": "auto",
         "type": "bar",
         "x": [
          "HAMBURGUESAS"
         ],
         "xaxis": "x",
         "y": [
          1
         ],
         "yaxis": "y"
        },
        {
         "alignmentgroup": "True",
         "hoverlabel": {
          "namelength": 0
         },
         "hovertemplate": "Clave platillo=MHAM15<br>Grupo=%{x}<br>Cantidad=%{y}",
         "legendgroup": "Clave platillo=MHAM15",
         "marker": {
          "color": "#EF553B"
         },
         "name": "Clave platillo=MHAM15",
         "offsetgroup": "Clave platillo=MHAM15",
         "orientation": "v",
         "showlegend": true,
         "textposition": "auto",
         "type": "bar",
         "x": [
          "HAMBURGUESAS"
         ],
         "xaxis": "x",
         "y": [
          2
         ],
         "yaxis": "y"
        },
        {
         "alignmentgroup": "True",
         "hoverlabel": {
          "namelength": 0
         },
         "hovertemplate": "Clave platillo=MHAM14<br>Grupo=%{x}<br>Cantidad=%{y}",
         "legendgroup": "Clave platillo=MHAM14",
         "marker": {
          "color": "#00cc96"
         },
         "name": "Clave platillo=MHAM14",
         "offsetgroup": "Clave platillo=MHAM14",
         "orientation": "v",
         "showlegend": true,
         "textposition": "auto",
         "type": "bar",
         "x": [
          "HAMBURGUESAS"
         ],
         "xaxis": "x",
         "y": [
          1
         ],
         "yaxis": "y"
        },
        {
         "alignmentgroup": "True",
         "hoverlabel": {
          "namelength": 0
         },
         "hovertemplate": "Clave platillo=MHAM13<br>Grupo=%{x}<br>Cantidad=%{y}",
         "legendgroup": "Clave platillo=MHAM13",
         "marker": {
          "color": "#ab63fa"
         },
         "name": "Clave platillo=MHAM13",
         "offsetgroup": "Clave platillo=MHAM13",
         "orientation": "v",
         "showlegend": true,
         "textposition": "auto",
         "type": "bar",
         "x": [
          "HAMBURGUESAS"
         ],
         "xaxis": "x",
         "y": [
          34
         ],
         "yaxis": "y"
        },
        {
         "alignmentgroup": "True",
         "hoverlabel": {
          "namelength": 0
         },
         "hovertemplate": "Clave platillo=MHAM12<br>Grupo=%{x}<br>Cantidad=%{y}",
         "legendgroup": "Clave platillo=MHAM12",
         "marker": {
          "color": "#FFA15A"
         },
         "name": "Clave platillo=MHAM12",
         "offsetgroup": "Clave platillo=MHAM12",
         "orientation": "v",
         "showlegend": true,
         "textposition": "auto",
         "type": "bar",
         "x": [
          "HAMBURGUESAS"
         ],
         "xaxis": "x",
         "y": [
          16
         ],
         "yaxis": "y"
        },
        {
         "alignmentgroup": "True",
         "hoverlabel": {
          "namelength": 0
         },
         "hovertemplate": "Clave platillo=MENS9<br>Grupo=%{x}<br>Cantidad=%{y}",
         "legendgroup": "Clave platillo=MENS9",
         "marker": {
          "color": "#19d3f3"
         },
         "name": "Clave platillo=MENS9",
         "offsetgroup": "Clave platillo=MENS9",
         "orientation": "v",
         "showlegend": true,
         "textposition": "auto",
         "type": "bar",
         "x": [
          "ENSALADAS"
         ],
         "xaxis": "x",
         "y": [
          2
         ],
         "yaxis": "y"
        },
        {
         "alignmentgroup": "True",
         "hoverlabel": {
          "namelength": 0
         },
         "hovertemplate": "Clave platillo=MENS5<br>Grupo=%{x}<br>Cantidad=%{y}",
         "legendgroup": "Clave platillo=MENS5",
         "marker": {
          "color": "#FF6692"
         },
         "name": "Clave platillo=MENS5",
         "offsetgroup": "Clave platillo=MENS5",
         "orientation": "v",
         "showlegend": true,
         "textposition": "auto",
         "type": "bar",
         "x": [
          "ENSALADAS"
         ],
         "xaxis": "x",
         "y": [
          1
         ],
         "yaxis": "y"
        },
        {
         "alignmentgroup": "True",
         "hoverlabel": {
          "namelength": 0
         },
         "hovertemplate": "Clave platillo=MENS4<br>Grupo=%{x}<br>Cantidad=%{y}",
         "legendgroup": "Clave platillo=MENS4",
         "marker": {
          "color": "#B6E880"
         },
         "name": "Clave platillo=MENS4",
         "offsetgroup": "Clave platillo=MENS4",
         "orientation": "v",
         "showlegend": true,
         "textposition": "auto",
         "type": "bar",
         "x": [
          "ENSALADAS"
         ],
         "xaxis": "x",
         "y": [
          4
         ],
         "yaxis": "y"
        },
        {
         "alignmentgroup": "True",
         "hoverlabel": {
          "namelength": 0
         },
         "hovertemplate": "Clave platillo=MENS21<br>Grupo=%{x}<br>Cantidad=%{y}",
         "legendgroup": "Clave platillo=MENS21",
         "marker": {
          "color": "#FF97FF"
         },
         "name": "Clave platillo=MENS21",
         "offsetgroup": "Clave platillo=MENS21",
         "orientation": "v",
         "showlegend": true,
         "textposition": "auto",
         "type": "bar",
         "x": [
          "ENSALADAS"
         ],
         "xaxis": "x",
         "y": [
          1
         ],
         "yaxis": "y"
        },
        {
         "alignmentgroup": "True",
         "hoverlabel": {
          "namelength": 0
         },
         "hovertemplate": "Clave platillo=MENS20<br>Grupo=%{x}<br>Cantidad=%{y}",
         "legendgroup": "Clave platillo=MENS20",
         "marker": {
          "color": "#FECB52"
         },
         "name": "Clave platillo=MENS20",
         "offsetgroup": "Clave platillo=MENS20",
         "orientation": "v",
         "showlegend": true,
         "textposition": "auto",
         "type": "bar",
         "x": [
          "ENSALADAS"
         ],
         "xaxis": "x",
         "y": [
          8
         ],
         "yaxis": "y"
        },
        {
         "alignmentgroup": "True",
         "hoverlabel": {
          "namelength": 0
         },
         "hovertemplate": "Clave platillo=MENS19<br>Grupo=%{x}<br>Cantidad=%{y}",
         "legendgroup": "Clave platillo=MENS19",
         "marker": {
          "color": "#636efa"
         },
         "name": "Clave platillo=MENS19",
         "offsetgroup": "Clave platillo=MENS19",
         "orientation": "v",
         "showlegend": true,
         "textposition": "auto",
         "type": "bar",
         "x": [
          "ENSALADAS"
         ],
         "xaxis": "x",
         "y": [
          282
         ],
         "yaxis": "y"
        },
        {
         "alignmentgroup": "True",
         "hoverlabel": {
          "namelength": 0
         },
         "hovertemplate": "Clave platillo=MENS18<br>Grupo=%{x}<br>Cantidad=%{y}",
         "legendgroup": "Clave platillo=MENS18",
         "marker": {
          "color": "#EF553B"
         },
         "name": "Clave platillo=MENS18",
         "offsetgroup": "Clave platillo=MENS18",
         "orientation": "v",
         "showlegend": true,
         "textposition": "auto",
         "type": "bar",
         "x": [
          "ENSALADAS"
         ],
         "xaxis": "x",
         "y": [
          11
         ],
         "yaxis": "y"
        },
        {
         "alignmentgroup": "True",
         "hoverlabel": {
          "namelength": 0
         },
         "hovertemplate": "Clave platillo=MENS16<br>Grupo=%{x}<br>Cantidad=%{y}",
         "legendgroup": "Clave platillo=MENS16",
         "marker": {
          "color": "#00cc96"
         },
         "name": "Clave platillo=MENS16",
         "offsetgroup": "Clave platillo=MENS16",
         "orientation": "v",
         "showlegend": true,
         "textposition": "auto",
         "type": "bar",
         "x": [
          "ENSALADAS"
         ],
         "xaxis": "x",
         "y": [
          1
         ],
         "yaxis": "y"
        },
        {
         "alignmentgroup": "True",
         "hoverlabel": {
          "namelength": 0
         },
         "hovertemplate": "Clave platillo=MENS13<br>Grupo=%{x}<br>Cantidad=%{y}",
         "legendgroup": "Clave platillo=MENS13",
         "marker": {
          "color": "#ab63fa"
         },
         "name": "Clave platillo=MENS13",
         "offsetgroup": "Clave platillo=MENS13",
         "orientation": "v",
         "showlegend": true,
         "textposition": "auto",
         "type": "bar",
         "x": [
          "ENSALADAS"
         ],
         "xaxis": "x",
         "y": [
          1
         ],
         "yaxis": "y"
        },
        {
         "alignmentgroup": "True",
         "hoverlabel": {
          "namelength": 0
         },
         "hovertemplate": "Clave platillo=MCLÁ8<br>Grupo=%{x}<br>Cantidad=%{y}",
         "legendgroup": "Clave platillo=MCLÁ8",
         "marker": {
          "color": "#FFA15A"
         },
         "name": "Clave platillo=MCLÁ8",
         "offsetgroup": "Clave platillo=MCLÁ8",
         "orientation": "v",
         "showlegend": true,
         "textposition": "auto",
         "type": "bar",
         "x": [
          "CLÁSICOS"
         ],
         "xaxis": "x",
         "y": [
          117
         ],
         "yaxis": "y"
        },
        {
         "alignmentgroup": "True",
         "hoverlabel": {
          "namelength": 0
         },
         "hovertemplate": "Clave platillo=MCLÁ7<br>Grupo=%{x}<br>Cantidad=%{y}",
         "legendgroup": "Clave platillo=MCLÁ7",
         "marker": {
          "color": "#19d3f3"
         },
         "name": "Clave platillo=MCLÁ7",
         "offsetgroup": "Clave platillo=MCLÁ7",
         "orientation": "v",
         "showlegend": true,
         "textposition": "auto",
         "type": "bar",
         "x": [
          "CLÁSICOS"
         ],
         "xaxis": "x",
         "y": [
          7
         ],
         "yaxis": "y"
        },
        {
         "alignmentgroup": "True",
         "hoverlabel": {
          "namelength": 0
         },
         "hovertemplate": "Clave platillo=MCLÁ69<br>Grupo=%{x}<br>Cantidad=%{y}",
         "legendgroup": "Clave platillo=MCLÁ69",
         "marker": {
          "color": "#FF6692"
         },
         "name": "Clave platillo=MCLÁ69",
         "offsetgroup": "Clave platillo=MCLÁ69",
         "orientation": "v",
         "showlegend": true,
         "textposition": "auto",
         "type": "bar",
         "x": [
          "CLÁSICOS"
         ],
         "xaxis": "x",
         "y": [
          1
         ],
         "yaxis": "y"
        },
        {
         "alignmentgroup": "True",
         "hoverlabel": {
          "namelength": 0
         },
         "hovertemplate": "Clave platillo=MCLÁ65<br>Grupo=%{x}<br>Cantidad=%{y}",
         "legendgroup": "Clave platillo=MCLÁ65",
         "marker": {
          "color": "#B6E880"
         },
         "name": "Clave platillo=MCLÁ65",
         "offsetgroup": "Clave platillo=MCLÁ65",
         "orientation": "v",
         "showlegend": true,
         "textposition": "auto",
         "type": "bar",
         "x": [
          "CLÁSICOS"
         ],
         "xaxis": "x",
         "y": [
          1
         ],
         "yaxis": "y"
        },
        {
         "alignmentgroup": "True",
         "hoverlabel": {
          "namelength": 0
         },
         "hovertemplate": "Clave platillo=MCLÁ64<br>Grupo=%{x}<br>Cantidad=%{y}",
         "legendgroup": "Clave platillo=MCLÁ64",
         "marker": {
          "color": "#FF97FF"
         },
         "name": "Clave platillo=MCLÁ64",
         "offsetgroup": "Clave platillo=MCLÁ64",
         "orientation": "v",
         "showlegend": true,
         "textposition": "auto",
         "type": "bar",
         "x": [
          "CLÁSICOS"
         ],
         "xaxis": "x",
         "y": [
          231
         ],
         "yaxis": "y"
        },
        {
         "alignmentgroup": "True",
         "hoverlabel": {
          "namelength": 0
         },
         "hovertemplate": "Clave platillo=MCLÁ63<br>Grupo=%{x}<br>Cantidad=%{y}",
         "legendgroup": "Clave platillo=MCLÁ63",
         "marker": {
          "color": "#FECB52"
         },
         "name": "Clave platillo=MCLÁ63",
         "offsetgroup": "Clave platillo=MCLÁ63",
         "orientation": "v",
         "showlegend": true,
         "textposition": "auto",
         "type": "bar",
         "x": [
          "CLÁSICOS"
         ],
         "xaxis": "x",
         "y": [
          1
         ],
         "yaxis": "y"
        },
        {
         "alignmentgroup": "True",
         "hoverlabel": {
          "namelength": 0
         },
         "hovertemplate": "Clave platillo=MCLÁ62<br>Grupo=%{x}<br>Cantidad=%{y}",
         "legendgroup": "Clave platillo=MCLÁ62",
         "marker": {
          "color": "#636efa"
         },
         "name": "Clave platillo=MCLÁ62",
         "offsetgroup": "Clave platillo=MCLÁ62",
         "orientation": "v",
         "showlegend": true,
         "textposition": "auto",
         "type": "bar",
         "x": [
          "CLÁSICOS"
         ],
         "xaxis": "x",
         "y": [
          1
         ],
         "yaxis": "y"
        },
        {
         "alignmentgroup": "True",
         "hoverlabel": {
          "namelength": 0
         },
         "hovertemplate": "Clave platillo=MCLÁ6<br>Grupo=%{x}<br>Cantidad=%{y}",
         "legendgroup": "Clave platillo=MCLÁ6",
         "marker": {
          "color": "#EF553B"
         },
         "name": "Clave platillo=MCLÁ6",
         "offsetgroup": "Clave platillo=MCLÁ6",
         "orientation": "v",
         "showlegend": true,
         "textposition": "auto",
         "type": "bar",
         "x": [
          "CLÁSICOS"
         ],
         "xaxis": "x",
         "y": [
          12
         ],
         "yaxis": "y"
        },
        {
         "alignmentgroup": "True",
         "hoverlabel": {
          "namelength": 0
         },
         "hovertemplate": "Clave platillo=MCLÁ59<br>Grupo=%{x}<br>Cantidad=%{y}",
         "legendgroup": "Clave platillo=MCLÁ59",
         "marker": {
          "color": "#00cc96"
         },
         "name": "Clave platillo=MCLÁ59",
         "offsetgroup": "Clave platillo=MCLÁ59",
         "orientation": "v",
         "showlegend": true,
         "textposition": "auto",
         "type": "bar",
         "x": [
          "CLÁSICOS"
         ],
         "xaxis": "x",
         "y": [
          1
         ],
         "yaxis": "y"
        },
        {
         "alignmentgroup": "True",
         "hoverlabel": {
          "namelength": 0
         },
         "hovertemplate": "Clave platillo=MCLÁ58<br>Grupo=%{x}<br>Cantidad=%{y}",
         "legendgroup": "Clave platillo=MCLÁ58",
         "marker": {
          "color": "#ab63fa"
         },
         "name": "Clave platillo=MCLÁ58",
         "offsetgroup": "Clave platillo=MCLÁ58",
         "orientation": "v",
         "showlegend": true,
         "textposition": "auto",
         "type": "bar",
         "x": [
          "CLÁSICOS"
         ],
         "xaxis": "x",
         "y": [
          1
         ],
         "yaxis": "y"
        },
        {
         "alignmentgroup": "True",
         "hoverlabel": {
          "namelength": 0
         },
         "hovertemplate": "Clave platillo=MCLÁ57<br>Grupo=%{x}<br>Cantidad=%{y}",
         "legendgroup": "Clave platillo=MCLÁ57",
         "marker": {
          "color": "#FFA15A"
         },
         "name": "Clave platillo=MCLÁ57",
         "offsetgroup": "Clave platillo=MCLÁ57",
         "orientation": "v",
         "showlegend": true,
         "textposition": "auto",
         "type": "bar",
         "x": [
          "CLÁSICOS"
         ],
         "xaxis": "x",
         "y": [
          328
         ],
         "yaxis": "y"
        },
        {
         "alignmentgroup": "True",
         "hoverlabel": {
          "namelength": 0
         },
         "hovertemplate": "Clave platillo=MCLÁ56<br>Grupo=%{x}<br>Cantidad=%{y}",
         "legendgroup": "Clave platillo=MCLÁ56",
         "marker": {
          "color": "#19d3f3"
         },
         "name": "Clave platillo=MCLÁ56",
         "offsetgroup": "Clave platillo=MCLÁ56",
         "orientation": "v",
         "showlegend": true,
         "textposition": "auto",
         "type": "bar",
         "x": [
          "CLÁSICOS"
         ],
         "xaxis": "x",
         "y": [
          20
         ],
         "yaxis": "y"
        },
        {
         "alignmentgroup": "True",
         "hoverlabel": {
          "namelength": 0
         },
         "hovertemplate": "Clave platillo=MCLÁ55<br>Grupo=%{x}<br>Cantidad=%{y}",
         "legendgroup": "Clave platillo=MCLÁ55",
         "marker": {
          "color": "#FF6692"
         },
         "name": "Clave platillo=MCLÁ55",
         "offsetgroup": "Clave platillo=MCLÁ55",
         "orientation": "v",
         "showlegend": true,
         "textposition": "auto",
         "type": "bar",
         "x": [
          "CLÁSICOS"
         ],
         "xaxis": "x",
         "y": [
          8
         ],
         "yaxis": "y"
        },
        {
         "alignmentgroup": "True",
         "hoverlabel": {
          "namelength": 0
         },
         "hovertemplate": "Clave platillo=MCLÁ54<br>Grupo=%{x}<br>Cantidad=%{y}",
         "legendgroup": "Clave platillo=MCLÁ54",
         "marker": {
          "color": "#B6E880"
         },
         "name": "Clave platillo=MCLÁ54",
         "offsetgroup": "Clave platillo=MCLÁ54",
         "orientation": "v",
         "showlegend": true,
         "textposition": "auto",
         "type": "bar",
         "x": [
          "CLÁSICOS"
         ],
         "xaxis": "x",
         "y": [
          516
         ],
         "yaxis": "y"
        },
        {
         "alignmentgroup": "True",
         "hoverlabel": {
          "namelength": 0
         },
         "hovertemplate": "Clave platillo=MCLÁ53<br>Grupo=%{x}<br>Cantidad=%{y}",
         "legendgroup": "Clave platillo=MCLÁ53",
         "marker": {
          "color": "#FF97FF"
         },
         "name": "Clave platillo=MCLÁ53",
         "offsetgroup": "Clave platillo=MCLÁ53",
         "orientation": "v",
         "showlegend": true,
         "textposition": "auto",
         "type": "bar",
         "x": [
          "CLÁSICOS"
         ],
         "xaxis": "x",
         "y": [
          195
         ],
         "yaxis": "y"
        },
        {
         "alignmentgroup": "True",
         "hoverlabel": {
          "namelength": 0
         },
         "hovertemplate": "Clave platillo=MCLÁ52<br>Grupo=%{x}<br>Cantidad=%{y}",
         "legendgroup": "Clave platillo=MCLÁ52",
         "marker": {
          "color": "#FECB52"
         },
         "name": "Clave platillo=MCLÁ52",
         "offsetgroup": "Clave platillo=MCLÁ52",
         "orientation": "v",
         "showlegend": true,
         "textposition": "auto",
         "type": "bar",
         "x": [
          "CLÁSICOS"
         ],
         "xaxis": "x",
         "y": [
          4
         ],
         "yaxis": "y"
        },
        {
         "alignmentgroup": "True",
         "hoverlabel": {
          "namelength": 0
         },
         "hovertemplate": "Clave platillo=MCLÁ51<br>Grupo=%{x}<br>Cantidad=%{y}",
         "legendgroup": "Clave platillo=MCLÁ51",
         "marker": {
          "color": "#636efa"
         },
         "name": "Clave platillo=MCLÁ51",
         "offsetgroup": "Clave platillo=MCLÁ51",
         "orientation": "v",
         "showlegend": true,
         "textposition": "auto",
         "type": "bar",
         "x": [
          "CLÁSICOS"
         ],
         "xaxis": "x",
         "y": [
          6
         ],
         "yaxis": "y"
        },
        {
         "alignmentgroup": "True",
         "hoverlabel": {
          "namelength": 0
         },
         "hovertemplate": "Clave platillo=MCLÁ50<br>Grupo=%{x}<br>Cantidad=%{y}",
         "legendgroup": "Clave platillo=MCLÁ50",
         "marker": {
          "color": "#EF553B"
         },
         "name": "Clave platillo=MCLÁ50",
         "offsetgroup": "Clave platillo=MCLÁ50",
         "orientation": "v",
         "showlegend": true,
         "textposition": "auto",
         "type": "bar",
         "x": [
          "CLÁSICOS"
         ],
         "xaxis": "x",
         "y": [
          572
         ],
         "yaxis": "y"
        },
        {
         "alignmentgroup": "True",
         "hoverlabel": {
          "namelength": 0
         },
         "hovertemplate": "Clave platillo=MCLÁ5<br>Grupo=%{x}<br>Cantidad=%{y}",
         "legendgroup": "Clave platillo=MCLÁ5",
         "marker": {
          "color": "#00cc96"
         },
         "name": "Clave platillo=MCLÁ5",
         "offsetgroup": "Clave platillo=MCLÁ5",
         "orientation": "v",
         "showlegend": true,
         "textposition": "auto",
         "type": "bar",
         "x": [
          "CLÁSICOS"
         ],
         "xaxis": "x",
         "y": [
          5
         ],
         "yaxis": "y"
        },
        {
         "alignmentgroup": "True",
         "hoverlabel": {
          "namelength": 0
         },
         "hovertemplate": "Clave platillo=MCLÁ49<br>Grupo=%{x}<br>Cantidad=%{y}",
         "legendgroup": "Clave platillo=MCLÁ49",
         "marker": {
          "color": "#ab63fa"
         },
         "name": "Clave platillo=MCLÁ49",
         "offsetgroup": "Clave platillo=MCLÁ49",
         "orientation": "v",
         "showlegend": true,
         "textposition": "auto",
         "type": "bar",
         "x": [
          "CLÁSICOS"
         ],
         "xaxis": "x",
         "y": [
          491
         ],
         "yaxis": "y"
        },
        {
         "alignmentgroup": "True",
         "hoverlabel": {
          "namelength": 0
         },
         "hovertemplate": "Clave platillo=MCLÁ48<br>Grupo=%{x}<br>Cantidad=%{y}",
         "legendgroup": "Clave platillo=MCLÁ48",
         "marker": {
          "color": "#FFA15A"
         },
         "name": "Clave platillo=MCLÁ48",
         "offsetgroup": "Clave platillo=MCLÁ48",
         "orientation": "v",
         "showlegend": true,
         "textposition": "auto",
         "type": "bar",
         "x": [
          "CLÁSICOS"
         ],
         "xaxis": "x",
         "y": [
          3
         ],
         "yaxis": "y"
        },
        {
         "alignmentgroup": "True",
         "hoverlabel": {
          "namelength": 0
         },
         "hovertemplate": "Clave platillo=MCLÁ47<br>Grupo=%{x}<br>Cantidad=%{y}",
         "legendgroup": "Clave platillo=MCLÁ47",
         "marker": {
          "color": "#19d3f3"
         },
         "name": "Clave platillo=MCLÁ47",
         "offsetgroup": "Clave platillo=MCLÁ47",
         "orientation": "v",
         "showlegend": true,
         "textposition": "auto",
         "type": "bar",
         "x": [
          "CLÁSICOS"
         ],
         "xaxis": "x",
         "y": [
          3
         ],
         "yaxis": "y"
        },
        {
         "alignmentgroup": "True",
         "hoverlabel": {
          "namelength": 0
         },
         "hovertemplate": "Clave platillo=MCLÁ46<br>Grupo=%{x}<br>Cantidad=%{y}",
         "legendgroup": "Clave platillo=MCLÁ46",
         "marker": {
          "color": "#FF6692"
         },
         "name": "Clave platillo=MCLÁ46",
         "offsetgroup": "Clave platillo=MCLÁ46",
         "orientation": "v",
         "showlegend": true,
         "textposition": "auto",
         "type": "bar",
         "x": [
          "CLÁSICOS"
         ],
         "xaxis": "x",
         "y": [
          3
         ],
         "yaxis": "y"
        },
        {
         "alignmentgroup": "True",
         "hoverlabel": {
          "namelength": 0
         },
         "hovertemplate": "Clave platillo=MCLÁ45<br>Grupo=%{x}<br>Cantidad=%{y}",
         "legendgroup": "Clave platillo=MCLÁ45",
         "marker": {
          "color": "#B6E880"
         },
         "name": "Clave platillo=MCLÁ45",
         "offsetgroup": "Clave platillo=MCLÁ45",
         "orientation": "v",
         "showlegend": true,
         "textposition": "auto",
         "type": "bar",
         "x": [
          "CLÁSICOS"
         ],
         "xaxis": "x",
         "y": [
          5
         ],
         "yaxis": "y"
        },
        {
         "alignmentgroup": "True",
         "hoverlabel": {
          "namelength": 0
         },
         "hovertemplate": "Clave platillo=MCLÁ44<br>Grupo=%{x}<br>Cantidad=%{y}",
         "legendgroup": "Clave platillo=MCLÁ44",
         "marker": {
          "color": "#FF97FF"
         },
         "name": "Clave platillo=MCLÁ44",
         "offsetgroup": "Clave platillo=MCLÁ44",
         "orientation": "v",
         "showlegend": true,
         "textposition": "auto",
         "type": "bar",
         "x": [
          "CLÁSICOS"
         ],
         "xaxis": "x",
         "y": [
          14
         ],
         "yaxis": "y"
        },
        {
         "alignmentgroup": "True",
         "hoverlabel": {
          "namelength": 0
         },
         "hovertemplate": "Clave platillo=MCLÁ43<br>Grupo=%{x}<br>Cantidad=%{y}",
         "legendgroup": "Clave platillo=MCLÁ43",
         "marker": {
          "color": "#FECB52"
         },
         "name": "Clave platillo=MCLÁ43",
         "offsetgroup": "Clave platillo=MCLÁ43",
         "orientation": "v",
         "showlegend": true,
         "textposition": "auto",
         "type": "bar",
         "x": [
          "CLÁSICOS"
         ],
         "xaxis": "x",
         "y": [
          12
         ],
         "yaxis": "y"
        },
        {
         "alignmentgroup": "True",
         "hoverlabel": {
          "namelength": 0
         },
         "hovertemplate": "Clave platillo=MCLÁ42<br>Grupo=%{x}<br>Cantidad=%{y}",
         "legendgroup": "Clave platillo=MCLÁ42",
         "marker": {
          "color": "#636efa"
         },
         "name": "Clave platillo=MCLÁ42",
         "offsetgroup": "Clave platillo=MCLÁ42",
         "orientation": "v",
         "showlegend": true,
         "textposition": "auto",
         "type": "bar",
         "x": [
          "CLÁSICOS"
         ],
         "xaxis": "x",
         "y": [
          43
         ],
         "yaxis": "y"
        },
        {
         "alignmentgroup": "True",
         "hoverlabel": {
          "namelength": 0
         },
         "hovertemplate": "Clave platillo=MCLÁ41<br>Grupo=%{x}<br>Cantidad=%{y}",
         "legendgroup": "Clave platillo=MCLÁ41",
         "marker": {
          "color": "#EF553B"
         },
         "name": "Clave platillo=MCLÁ41",
         "offsetgroup": "Clave platillo=MCLÁ41",
         "orientation": "v",
         "showlegend": true,
         "textposition": "auto",
         "type": "bar",
         "x": [
          "CLÁSICOS"
         ],
         "xaxis": "x",
         "y": [
          47
         ],
         "yaxis": "y"
        },
        {
         "alignmentgroup": "True",
         "hoverlabel": {
          "namelength": 0
         },
         "hovertemplate": "Clave platillo=MCLÁ40<br>Grupo=%{x}<br>Cantidad=%{y}",
         "legendgroup": "Clave platillo=MCLÁ40",
         "marker": {
          "color": "#00cc96"
         },
         "name": "Clave platillo=MCLÁ40",
         "offsetgroup": "Clave platillo=MCLÁ40",
         "orientation": "v",
         "showlegend": true,
         "textposition": "auto",
         "type": "bar",
         "x": [
          "CLÁSICOS"
         ],
         "xaxis": "x",
         "y": [
          2
         ],
         "yaxis": "y"
        },
        {
         "alignmentgroup": "True",
         "hoverlabel": {
          "namelength": 0
         },
         "hovertemplate": "Clave platillo=MCLÁ4<br>Grupo=%{x}<br>Cantidad=%{y}",
         "legendgroup": "Clave platillo=MCLÁ4",
         "marker": {
          "color": "#ab63fa"
         },
         "name": "Clave platillo=MCLÁ4",
         "offsetgroup": "Clave platillo=MCLÁ4",
         "orientation": "v",
         "showlegend": true,
         "textposition": "auto",
         "type": "bar",
         "x": [
          "CLÁSICOS"
         ],
         "xaxis": "x",
         "y": [
          12
         ],
         "yaxis": "y"
        },
        {
         "alignmentgroup": "True",
         "hoverlabel": {
          "namelength": 0
         },
         "hovertemplate": "Clave platillo=MCLÁ39<br>Grupo=%{x}<br>Cantidad=%{y}",
         "legendgroup": "Clave platillo=MCLÁ39",
         "marker": {
          "color": "#FFA15A"
         },
         "name": "Clave platillo=MCLÁ39",
         "offsetgroup": "Clave platillo=MCLÁ39",
         "orientation": "v",
         "showlegend": true,
         "textposition": "auto",
         "type": "bar",
         "x": [
          "CLÁSICOS"
         ],
         "xaxis": "x",
         "y": [
          1
         ],
         "yaxis": "y"
        },
        {
         "alignmentgroup": "True",
         "hoverlabel": {
          "namelength": 0
         },
         "hovertemplate": "Clave platillo=MCLÁ38<br>Grupo=%{x}<br>Cantidad=%{y}",
         "legendgroup": "Clave platillo=MCLÁ38",
         "marker": {
          "color": "#19d3f3"
         },
         "name": "Clave platillo=MCLÁ38",
         "offsetgroup": "Clave platillo=MCLÁ38",
         "orientation": "v",
         "showlegend": true,
         "textposition": "auto",
         "type": "bar",
         "x": [
          "CLÁSICOS"
         ],
         "xaxis": "x",
         "y": [
          4
         ],
         "yaxis": "y"
        },
        {
         "alignmentgroup": "True",
         "hoverlabel": {
          "namelength": 0
         },
         "hovertemplate": "Clave platillo=MCLÁ37<br>Grupo=%{x}<br>Cantidad=%{y}",
         "legendgroup": "Clave platillo=MCLÁ37",
         "marker": {
          "color": "#FF6692"
         },
         "name": "Clave platillo=MCLÁ37",
         "offsetgroup": "Clave platillo=MCLÁ37",
         "orientation": "v",
         "showlegend": true,
         "textposition": "auto",
         "type": "bar",
         "x": [
          "CLÁSICOS"
         ],
         "xaxis": "x",
         "y": [
          1
         ],
         "yaxis": "y"
        },
        {
         "alignmentgroup": "True",
         "hoverlabel": {
          "namelength": 0
         },
         "hovertemplate": "Clave platillo=MCLÁ36<br>Grupo=%{x}<br>Cantidad=%{y}",
         "legendgroup": "Clave platillo=MCLÁ36",
         "marker": {
          "color": "#B6E880"
         },
         "name": "Clave platillo=MCLÁ36",
         "offsetgroup": "Clave platillo=MCLÁ36",
         "orientation": "v",
         "showlegend": true,
         "textposition": "auto",
         "type": "bar",
         "x": [
          "CLÁSICOS"
         ],
         "xaxis": "x",
         "y": [
          5
         ],
         "yaxis": "y"
        },
        {
         "alignmentgroup": "True",
         "hoverlabel": {
          "namelength": 0
         },
         "hovertemplate": "Clave platillo=MCLÁ35<br>Grupo=%{x}<br>Cantidad=%{y}",
         "legendgroup": "Clave platillo=MCLÁ35",
         "marker": {
          "color": "#FF97FF"
         },
         "name": "Clave platillo=MCLÁ35",
         "offsetgroup": "Clave platillo=MCLÁ35",
         "orientation": "v",
         "showlegend": true,
         "textposition": "auto",
         "type": "bar",
         "x": [
          "CLÁSICOS"
         ],
         "xaxis": "x",
         "y": [
          1
         ],
         "yaxis": "y"
        },
        {
         "alignmentgroup": "True",
         "hoverlabel": {
          "namelength": 0
         },
         "hovertemplate": "Clave platillo=MCLÁ34<br>Grupo=%{x}<br>Cantidad=%{y}",
         "legendgroup": "Clave platillo=MCLÁ34",
         "marker": {
          "color": "#FECB52"
         },
         "name": "Clave platillo=MCLÁ34",
         "offsetgroup": "Clave platillo=MCLÁ34",
         "orientation": "v",
         "showlegend": true,
         "textposition": "auto",
         "type": "bar",
         "x": [
          "CLÁSICOS"
         ],
         "xaxis": "x",
         "y": [
          88
         ],
         "yaxis": "y"
        },
        {
         "alignmentgroup": "True",
         "hoverlabel": {
          "namelength": 0
         },
         "hovertemplate": "Clave platillo=MCLÁ33<br>Grupo=%{x}<br>Cantidad=%{y}",
         "legendgroup": "Clave platillo=MCLÁ33",
         "marker": {
          "color": "#636efa"
         },
         "name": "Clave platillo=MCLÁ33",
         "offsetgroup": "Clave platillo=MCLÁ33",
         "orientation": "v",
         "showlegend": true,
         "textposition": "auto",
         "type": "bar",
         "x": [
          "CLÁSICOS"
         ],
         "xaxis": "x",
         "y": [
          18
         ],
         "yaxis": "y"
        },
        {
         "alignmentgroup": "True",
         "hoverlabel": {
          "namelength": 0
         },
         "hovertemplate": "Clave platillo=MCLÁ32<br>Grupo=%{x}<br>Cantidad=%{y}",
         "legendgroup": "Clave platillo=MCLÁ32",
         "marker": {
          "color": "#EF553B"
         },
         "name": "Clave platillo=MCLÁ32",
         "offsetgroup": "Clave platillo=MCLÁ32",
         "orientation": "v",
         "showlegend": true,
         "textposition": "auto",
         "type": "bar",
         "x": [
          "CLÁSICOS"
         ],
         "xaxis": "x",
         "y": [
          13
         ],
         "yaxis": "y"
        },
        {
         "alignmentgroup": "True",
         "hoverlabel": {
          "namelength": 0
         },
         "hovertemplate": "Clave platillo=MCLÁ31<br>Grupo=%{x}<br>Cantidad=%{y}",
         "legendgroup": "Clave platillo=MCLÁ31",
         "marker": {
          "color": "#00cc96"
         },
         "name": "Clave platillo=MCLÁ31",
         "offsetgroup": "Clave platillo=MCLÁ31",
         "orientation": "v",
         "showlegend": true,
         "textposition": "auto",
         "type": "bar",
         "x": [
          "CLÁSICOS"
         ],
         "xaxis": "x",
         "y": [
          13
         ],
         "yaxis": "y"
        },
        {
         "alignmentgroup": "True",
         "hoverlabel": {
          "namelength": 0
         },
         "hovertemplate": "Clave platillo=MCLÁ30<br>Grupo=%{x}<br>Cantidad=%{y}",
         "legendgroup": "Clave platillo=MCLÁ30",
         "marker": {
          "color": "#ab63fa"
         },
         "name": "Clave platillo=MCLÁ30",
         "offsetgroup": "Clave platillo=MCLÁ30",
         "orientation": "v",
         "showlegend": true,
         "textposition": "auto",
         "type": "bar",
         "x": [
          "CLÁSICOS"
         ],
         "xaxis": "x",
         "y": [
          28
         ],
         "yaxis": "y"
        },
        {
         "alignmentgroup": "True",
         "hoverlabel": {
          "namelength": 0
         },
         "hovertemplate": "Clave platillo=MCLÁ28<br>Grupo=%{x}<br>Cantidad=%{y}",
         "legendgroup": "Clave platillo=MCLÁ28",
         "marker": {
          "color": "#FFA15A"
         },
         "name": "Clave platillo=MCLÁ28",
         "offsetgroup": "Clave platillo=MCLÁ28",
         "orientation": "v",
         "showlegend": true,
         "textposition": "auto",
         "type": "bar",
         "x": [
          "CLÁSICOS"
         ],
         "xaxis": "x",
         "y": [
          25
         ],
         "yaxis": "y"
        },
        {
         "alignmentgroup": "True",
         "hoverlabel": {
          "namelength": 0
         },
         "hovertemplate": "Clave platillo=MCLÁ27<br>Grupo=%{x}<br>Cantidad=%{y}",
         "legendgroup": "Clave platillo=MCLÁ27",
         "marker": {
          "color": "#19d3f3"
         },
         "name": "Clave platillo=MCLÁ27",
         "offsetgroup": "Clave platillo=MCLÁ27",
         "orientation": "v",
         "showlegend": true,
         "textposition": "auto",
         "type": "bar",
         "x": [
          "CLÁSICOS"
         ],
         "xaxis": "x",
         "y": [
          9
         ],
         "yaxis": "y"
        },
        {
         "alignmentgroup": "True",
         "hoverlabel": {
          "namelength": 0
         },
         "hovertemplate": "Clave platillo=MCLÁ26<br>Grupo=%{x}<br>Cantidad=%{y}",
         "legendgroup": "Clave platillo=MCLÁ26",
         "marker": {
          "color": "#FF6692"
         },
         "name": "Clave platillo=MCLÁ26",
         "offsetgroup": "Clave platillo=MCLÁ26",
         "orientation": "v",
         "showlegend": true,
         "textposition": "auto",
         "type": "bar",
         "x": [
          "CLÁSICOS"
         ],
         "xaxis": "x",
         "y": [
          1
         ],
         "yaxis": "y"
        },
        {
         "alignmentgroup": "True",
         "hoverlabel": {
          "namelength": 0
         },
         "hovertemplate": "Clave platillo=MCLÁ25<br>Grupo=%{x}<br>Cantidad=%{y}",
         "legendgroup": "Clave platillo=MCLÁ25",
         "marker": {
          "color": "#B6E880"
         },
         "name": "Clave platillo=MCLÁ25",
         "offsetgroup": "Clave platillo=MCLÁ25",
         "orientation": "v",
         "showlegend": true,
         "textposition": "auto",
         "type": "bar",
         "x": [
          "CLÁSICOS"
         ],
         "xaxis": "x",
         "y": [
          804
         ],
         "yaxis": "y"
        },
        {
         "alignmentgroup": "True",
         "hoverlabel": {
          "namelength": 0
         },
         "hovertemplate": "Clave platillo=MCLÁ24<br>Grupo=%{x}<br>Cantidad=%{y}",
         "legendgroup": "Clave platillo=MCLÁ24",
         "marker": {
          "color": "#FF97FF"
         },
         "name": "Clave platillo=MCLÁ24",
         "offsetgroup": "Clave platillo=MCLÁ24",
         "orientation": "v",
         "showlegend": true,
         "textposition": "auto",
         "type": "bar",
         "x": [
          "CLÁSICOS"
         ],
         "xaxis": "x",
         "y": [
          39
         ],
         "yaxis": "y"
        },
        {
         "alignmentgroup": "True",
         "hoverlabel": {
          "namelength": 0
         },
         "hovertemplate": "Clave platillo=MCLÁ23<br>Grupo=%{x}<br>Cantidad=%{y}",
         "legendgroup": "Clave platillo=MCLÁ23",
         "marker": {
          "color": "#FECB52"
         },
         "name": "Clave platillo=MCLÁ23",
         "offsetgroup": "Clave platillo=MCLÁ23",
         "orientation": "v",
         "showlegend": true,
         "textposition": "auto",
         "type": "bar",
         "x": [
          "CLÁSICOS"
         ],
         "xaxis": "x",
         "y": [
          56
         ],
         "yaxis": "y"
        },
        {
         "alignmentgroup": "True",
         "hoverlabel": {
          "namelength": 0
         },
         "hovertemplate": "Clave platillo=MCLÁ22<br>Grupo=%{x}<br>Cantidad=%{y}",
         "legendgroup": "Clave platillo=MCLÁ22",
         "marker": {
          "color": "#636efa"
         },
         "name": "Clave platillo=MCLÁ22",
         "offsetgroup": "Clave platillo=MCLÁ22",
         "orientation": "v",
         "showlegend": true,
         "textposition": "auto",
         "type": "bar",
         "x": [
          "CLÁSICOS"
         ],
         "xaxis": "x",
         "y": [
          58
         ],
         "yaxis": "y"
        },
        {
         "alignmentgroup": "True",
         "hoverlabel": {
          "namelength": 0
         },
         "hovertemplate": "Clave platillo=MCLÁ21<br>Grupo=%{x}<br>Cantidad=%{y}",
         "legendgroup": "Clave platillo=MCLÁ21",
         "marker": {
          "color": "#EF553B"
         },
         "name": "Clave platillo=MCLÁ21",
         "offsetgroup": "Clave platillo=MCLÁ21",
         "orientation": "v",
         "showlegend": true,
         "textposition": "auto",
         "type": "bar",
         "x": [
          "CLÁSICOS"
         ],
         "xaxis": "x",
         "y": [
          62
         ],
         "yaxis": "y"
        },
        {
         "alignmentgroup": "True",
         "hoverlabel": {
          "namelength": 0
         },
         "hovertemplate": "Clave platillo=MCLÁ20<br>Grupo=%{x}<br>Cantidad=%{y}",
         "legendgroup": "Clave platillo=MCLÁ20",
         "marker": {
          "color": "#00cc96"
         },
         "name": "Clave platillo=MCLÁ20",
         "offsetgroup": "Clave platillo=MCLÁ20",
         "orientation": "v",
         "showlegend": true,
         "textposition": "auto",
         "type": "bar",
         "x": [
          "CLÁSICOS"
         ],
         "xaxis": "x",
         "y": [
          13
         ],
         "yaxis": "y"
        },
        {
         "alignmentgroup": "True",
         "hoverlabel": {
          "namelength": 0
         },
         "hovertemplate": "Clave platillo=MCLÁ2<br>Grupo=%{x}<br>Cantidad=%{y}",
         "legendgroup": "Clave platillo=MCLÁ2",
         "marker": {
          "color": "#ab63fa"
         },
         "name": "Clave platillo=MCLÁ2",
         "offsetgroup": "Clave platillo=MCLÁ2",
         "orientation": "v",
         "showlegend": true,
         "textposition": "auto",
         "type": "bar",
         "x": [
          "CLÁSICOS"
         ],
         "xaxis": "x",
         "y": [
          14
         ],
         "yaxis": "y"
        },
        {
         "alignmentgroup": "True",
         "hoverlabel": {
          "namelength": 0
         },
         "hovertemplate": "Clave platillo=MCLÁ19<br>Grupo=%{x}<br>Cantidad=%{y}",
         "legendgroup": "Clave platillo=MCLÁ19",
         "marker": {
          "color": "#FFA15A"
         },
         "name": "Clave platillo=MCLÁ19",
         "offsetgroup": "Clave platillo=MCLÁ19",
         "orientation": "v",
         "showlegend": true,
         "textposition": "auto",
         "type": "bar",
         "x": [
          "CLÁSICOS"
         ],
         "xaxis": "x",
         "y": [
          100
         ],
         "yaxis": "y"
        },
        {
         "alignmentgroup": "True",
         "hoverlabel": {
          "namelength": 0
         },
         "hovertemplate": "Clave platillo=MCLÁ18<br>Grupo=%{x}<br>Cantidad=%{y}",
         "legendgroup": "Clave platillo=MCLÁ18",
         "marker": {
          "color": "#19d3f3"
         },
         "name": "Clave platillo=MCLÁ18",
         "offsetgroup": "Clave platillo=MCLÁ18",
         "orientation": "v",
         "showlegend": true,
         "textposition": "auto",
         "type": "bar",
         "x": [
          "CLÁSICOS"
         ],
         "xaxis": "x",
         "y": [
          44
         ],
         "yaxis": "y"
        },
        {
         "alignmentgroup": "True",
         "hoverlabel": {
          "namelength": 0
         },
         "hovertemplate": "Clave platillo=MCLÁ17<br>Grupo=%{x}<br>Cantidad=%{y}",
         "legendgroup": "Clave platillo=MCLÁ17",
         "marker": {
          "color": "#FF6692"
         },
         "name": "Clave platillo=MCLÁ17",
         "offsetgroup": "Clave platillo=MCLÁ17",
         "orientation": "v",
         "showlegend": true,
         "textposition": "auto",
         "type": "bar",
         "x": [
          "CLÁSICOS"
         ],
         "xaxis": "x",
         "y": [
          35
         ],
         "yaxis": "y"
        },
        {
         "alignmentgroup": "True",
         "hoverlabel": {
          "namelength": 0
         },
         "hovertemplate": "Clave platillo=MCLÁ16<br>Grupo=%{x}<br>Cantidad=%{y}",
         "legendgroup": "Clave platillo=MCLÁ16",
         "marker": {
          "color": "#B6E880"
         },
         "name": "Clave platillo=MCLÁ16",
         "offsetgroup": "Clave platillo=MCLÁ16",
         "orientation": "v",
         "showlegend": true,
         "textposition": "auto",
         "type": "bar",
         "x": [
          "CLÁSICOS"
         ],
         "xaxis": "x",
         "y": [
          12
         ],
         "yaxis": "y"
        },
        {
         "alignmentgroup": "True",
         "hoverlabel": {
          "namelength": 0
         },
         "hovertemplate": "Clave platillo=MCLÁ15<br>Grupo=%{x}<br>Cantidad=%{y}",
         "legendgroup": "Clave platillo=MCLÁ15",
         "marker": {
          "color": "#FF97FF"
         },
         "name": "Clave platillo=MCLÁ15",
         "offsetgroup": "Clave platillo=MCLÁ15",
         "orientation": "v",
         "showlegend": true,
         "textposition": "auto",
         "type": "bar",
         "x": [
          "CLÁSICOS"
         ],
         "xaxis": "x",
         "y": [
          9
         ],
         "yaxis": "y"
        },
        {
         "alignmentgroup": "True",
         "hoverlabel": {
          "namelength": 0
         },
         "hovertemplate": "Clave platillo=MCLÁ14<br>Grupo=%{x}<br>Cantidad=%{y}",
         "legendgroup": "Clave platillo=MCLÁ14",
         "marker": {
          "color": "#FECB52"
         },
         "name": "Clave platillo=MCLÁ14",
         "offsetgroup": "Clave platillo=MCLÁ14",
         "orientation": "v",
         "showlegend": true,
         "textposition": "auto",
         "type": "bar",
         "x": [
          "CLÁSICOS"
         ],
         "xaxis": "x",
         "y": [
          8
         ],
         "yaxis": "y"
        },
        {
         "alignmentgroup": "True",
         "hoverlabel": {
          "namelength": 0
         },
         "hovertemplate": "Clave platillo=MCLÁ13<br>Grupo=%{x}<br>Cantidad=%{y}",
         "legendgroup": "Clave platillo=MCLÁ13",
         "marker": {
          "color": "#636efa"
         },
         "name": "Clave platillo=MCLÁ13",
         "offsetgroup": "Clave platillo=MCLÁ13",
         "orientation": "v",
         "showlegend": true,
         "textposition": "auto",
         "type": "bar",
         "x": [
          "CLÁSICOS"
         ],
         "xaxis": "x",
         "y": [
          7
         ],
         "yaxis": "y"
        },
        {
         "alignmentgroup": "True",
         "hoverlabel": {
          "namelength": 0
         },
         "hovertemplate": "Clave platillo=MCLÁ11<br>Grupo=%{x}<br>Cantidad=%{y}",
         "legendgroup": "Clave platillo=MCLÁ11",
         "marker": {
          "color": "#EF553B"
         },
         "name": "Clave platillo=MCLÁ11",
         "offsetgroup": "Clave platillo=MCLÁ11",
         "orientation": "v",
         "showlegend": true,
         "textposition": "auto",
         "type": "bar",
         "x": [
          "CLÁSICOS"
         ],
         "xaxis": "x",
         "y": [
          3
         ],
         "yaxis": "y"
        },
        {
         "alignmentgroup": "True",
         "hoverlabel": {
          "namelength": 0
         },
         "hovertemplate": "Clave platillo=MCLÁ10<br>Grupo=%{x}<br>Cantidad=%{y}",
         "legendgroup": "Clave platillo=MCLÁ10",
         "marker": {
          "color": "#00cc96"
         },
         "name": "Clave platillo=MCLÁ10",
         "offsetgroup": "Clave platillo=MCLÁ10",
         "orientation": "v",
         "showlegend": true,
         "textposition": "auto",
         "type": "bar",
         "x": [
          "CLÁSICOS"
         ],
         "xaxis": "x",
         "y": [
          4
         ],
         "yaxis": "y"
        },
        {
         "alignmentgroup": "True",
         "hoverlabel": {
          "namelength": 0
         },
         "hovertemplate": "Clave platillo=MCLÁ1<br>Grupo=%{x}<br>Cantidad=%{y}",
         "legendgroup": "Clave platillo=MCLÁ1",
         "marker": {
          "color": "#ab63fa"
         },
         "name": "Clave platillo=MCLÁ1",
         "offsetgroup": "Clave platillo=MCLÁ1",
         "orientation": "v",
         "showlegend": true,
         "textposition": "auto",
         "type": "bar",
         "x": [
          "CLÁSICOS"
         ],
         "xaxis": "x",
         "y": [
          6
         ],
         "yaxis": "y"
        },
        {
         "alignmentgroup": "True",
         "hoverlabel": {
          "namelength": 0
         },
         "hovertemplate": "Clave platillo=MCL90003<br>Grupo=%{x}<br>Cantidad=%{y}",
         "legendgroup": "Clave platillo=MCL90003",
         "marker": {
          "color": "#FFA15A"
         },
         "name": "Clave platillo=MCL90003",
         "offsetgroup": "Clave platillo=MCL90003",
         "orientation": "v",
         "showlegend": true,
         "textposition": "auto",
         "type": "bar",
         "x": [
          "CLÁSICOS"
         ],
         "xaxis": "x",
         "y": [
          2
         ],
         "yaxis": "y"
        },
        {
         "alignmentgroup": "True",
         "hoverlabel": {
          "namelength": 0
         },
         "hovertemplate": "Clave platillo=MCL90002<br>Grupo=%{x}<br>Cantidad=%{y}",
         "legendgroup": "Clave platillo=MCL90002",
         "marker": {
          "color": "#19d3f3"
         },
         "name": "Clave platillo=MCL90002",
         "offsetgroup": "Clave platillo=MCL90002",
         "orientation": "v",
         "showlegend": true,
         "textposition": "auto",
         "type": "bar",
         "x": [
          "CLÁSICOS"
         ],
         "xaxis": "x",
         "y": [
          115
         ],
         "yaxis": "y"
        },
        {
         "alignmentgroup": "True",
         "hoverlabel": {
          "namelength": 0
         },
         "hovertemplate": "Clave platillo=MCL90001<br>Grupo=%{x}<br>Cantidad=%{y}",
         "legendgroup": "Clave platillo=MCL90001",
         "marker": {
          "color": "#FF6692"
         },
         "name": "Clave platillo=MCL90001",
         "offsetgroup": "Clave platillo=MCL90001",
         "orientation": "v",
         "showlegend": true,
         "textposition": "auto",
         "type": "bar",
         "x": [
          "CLÁSICOS"
         ],
         "xaxis": "x",
         "y": [
          31
         ],
         "yaxis": "y"
        },
        {
         "alignmentgroup": "True",
         "hoverlabel": {
          "namelength": 0
         },
         "hovertemplate": "Clave platillo=MBEB7<br>Grupo=%{x}<br>Cantidad=%{y}",
         "legendgroup": "Clave platillo=MBEB7",
         "marker": {
          "color": "#B6E880"
         },
         "name": "Clave platillo=MBEB7",
         "offsetgroup": "Clave platillo=MBEB7",
         "orientation": "v",
         "showlegend": true,
         "textposition": "auto",
         "type": "bar",
         "x": [
          "BEBIDAS"
         ],
         "xaxis": "x",
         "y": [
          10
         ],
         "yaxis": "y"
        },
        {
         "alignmentgroup": "True",
         "hoverlabel": {
          "namelength": 0
         },
         "hovertemplate": "Clave platillo=MBEB6<br>Grupo=%{x}<br>Cantidad=%{y}",
         "legendgroup": "Clave platillo=MBEB6",
         "marker": {
          "color": "#FF97FF"
         },
         "name": "Clave platillo=MBEB6",
         "offsetgroup": "Clave platillo=MBEB6",
         "orientation": "v",
         "showlegend": true,
         "textposition": "auto",
         "type": "bar",
         "x": [
          "BEBIDAS"
         ],
         "xaxis": "x",
         "y": [
          93
         ],
         "yaxis": "y"
        },
        {
         "alignmentgroup": "True",
         "hoverlabel": {
          "namelength": 0
         },
         "hovertemplate": "Clave platillo=MBEB5<br>Grupo=%{x}<br>Cantidad=%{y}",
         "legendgroup": "Clave platillo=MBEB5",
         "marker": {
          "color": "#FECB52"
         },
         "name": "Clave platillo=MBEB5",
         "offsetgroup": "Clave platillo=MBEB5",
         "orientation": "v",
         "showlegend": true,
         "textposition": "auto",
         "type": "bar",
         "x": [
          "BEBIDAS"
         ],
         "xaxis": "x",
         "y": [
          11
         ],
         "yaxis": "y"
        },
        {
         "alignmentgroup": "True",
         "hoverlabel": {
          "namelength": 0
         },
         "hovertemplate": "Clave platillo=MBEB4<br>Grupo=%{x}<br>Cantidad=%{y}",
         "legendgroup": "Clave platillo=MBEB4",
         "marker": {
          "color": "#636efa"
         },
         "name": "Clave platillo=MBEB4",
         "offsetgroup": "Clave platillo=MBEB4",
         "orientation": "v",
         "showlegend": true,
         "textposition": "auto",
         "type": "bar",
         "x": [
          "BEBIDAS"
         ],
         "xaxis": "x",
         "y": [
          120
         ],
         "yaxis": "y"
        },
        {
         "alignmentgroup": "True",
         "hoverlabel": {
          "namelength": 0
         },
         "hovertemplate": "Clave platillo=MBEB3<br>Grupo=%{x}<br>Cantidad=%{y}",
         "legendgroup": "Clave platillo=MBEB3",
         "marker": {
          "color": "#EF553B"
         },
         "name": "Clave platillo=MBEB3",
         "offsetgroup": "Clave platillo=MBEB3",
         "orientation": "v",
         "showlegend": true,
         "textposition": "auto",
         "type": "bar",
         "x": [
          "BEBIDAS"
         ],
         "xaxis": "x",
         "y": [
          3
         ],
         "yaxis": "y"
        },
        {
         "alignmentgroup": "True",
         "hoverlabel": {
          "namelength": 0
         },
         "hovertemplate": "Clave platillo=MBEB1<br>Grupo=%{x}<br>Cantidad=%{y}",
         "legendgroup": "Clave platillo=MBEB1",
         "marker": {
          "color": "#00cc96"
         },
         "name": "Clave platillo=MBEB1",
         "offsetgroup": "Clave platillo=MBEB1",
         "orientation": "v",
         "showlegend": true,
         "textposition": "auto",
         "type": "bar",
         "x": [
          "BEBIDAS"
         ],
         "xaxis": "x",
         "y": [
          31
         ],
         "yaxis": "y"
        },
        {
         "alignmentgroup": "True",
         "hoverlabel": {
          "namelength": 0
         },
         "hovertemplate": "Clave platillo=MBCA9<br>Grupo=%{x}<br>Cantidad=%{y}",
         "legendgroup": "Clave platillo=MBCA9",
         "marker": {
          "color": "#ab63fa"
         },
         "name": "Clave platillo=MBCA9",
         "offsetgroup": "Clave platillo=MBCA9",
         "orientation": "v",
         "showlegend": true,
         "textposition": "auto",
         "type": "bar",
         "x": [
          "BEBIDAS CON ALCOHOL"
         ],
         "xaxis": "x",
         "y": [
          10
         ],
         "yaxis": "y"
        },
        {
         "alignmentgroup": "True",
         "hoverlabel": {
          "namelength": 0
         },
         "hovertemplate": "Clave platillo=MBCA8<br>Grupo=%{x}<br>Cantidad=%{y}",
         "legendgroup": "Clave platillo=MBCA8",
         "marker": {
          "color": "#FFA15A"
         },
         "name": "Clave platillo=MBCA8",
         "offsetgroup": "Clave platillo=MBCA8",
         "orientation": "v",
         "showlegend": true,
         "textposition": "auto",
         "type": "bar",
         "x": [
          "BEBIDAS CON ALCOHOL"
         ],
         "xaxis": "x",
         "y": [
          54
         ],
         "yaxis": "y"
        },
        {
         "alignmentgroup": "True",
         "hoverlabel": {
          "namelength": 0
         },
         "hovertemplate": "Clave platillo=MBCA73<br>Grupo=%{x}<br>Cantidad=%{y}",
         "legendgroup": "Clave platillo=MBCA73",
         "marker": {
          "color": "#19d3f3"
         },
         "name": "Clave platillo=MBCA73",
         "offsetgroup": "Clave platillo=MBCA73",
         "orientation": "v",
         "showlegend": true,
         "textposition": "auto",
         "type": "bar",
         "x": [
          "BEBIDAS CON ALCOHOL"
         ],
         "xaxis": "x",
         "y": [
          3
         ],
         "yaxis": "y"
        },
        {
         "alignmentgroup": "True",
         "hoverlabel": {
          "namelength": 0
         },
         "hovertemplate": "Clave platillo=MBCA72<br>Grupo=%{x}<br>Cantidad=%{y}",
         "legendgroup": "Clave platillo=MBCA72",
         "marker": {
          "color": "#FF6692"
         },
         "name": "Clave platillo=MBCA72",
         "offsetgroup": "Clave platillo=MBCA72",
         "orientation": "v",
         "showlegend": true,
         "textposition": "auto",
         "type": "bar",
         "x": [
          "BEBIDAS CON ALCOHOL"
         ],
         "xaxis": "x",
         "y": [
          142
         ],
         "yaxis": "y"
        },
        {
         "alignmentgroup": "True",
         "hoverlabel": {
          "namelength": 0
         },
         "hovertemplate": "Clave platillo=MBCA71<br>Grupo=%{x}<br>Cantidad=%{y}",
         "legendgroup": "Clave platillo=MBCA71",
         "marker": {
          "color": "#B6E880"
         },
         "name": "Clave platillo=MBCA71",
         "offsetgroup": "Clave platillo=MBCA71",
         "orientation": "v",
         "showlegend": true,
         "textposition": "auto",
         "type": "bar",
         "x": [
          "BEBIDAS CON ALCOHOL"
         ],
         "xaxis": "x",
         "y": [
          19
         ],
         "yaxis": "y"
        },
        {
         "alignmentgroup": "True",
         "hoverlabel": {
          "namelength": 0
         },
         "hovertemplate": "Clave platillo=MBCA70<br>Grupo=%{x}<br>Cantidad=%{y}",
         "legendgroup": "Clave platillo=MBCA70",
         "marker": {
          "color": "#FF97FF"
         },
         "name": "Clave platillo=MBCA70",
         "offsetgroup": "Clave platillo=MBCA70",
         "orientation": "v",
         "showlegend": true,
         "textposition": "auto",
         "type": "bar",
         "x": [
          "BEBIDAS CON ALCOHOL"
         ],
         "xaxis": "x",
         "y": [
          224
         ],
         "yaxis": "y"
        },
        {
         "alignmentgroup": "True",
         "hoverlabel": {
          "namelength": 0
         },
         "hovertemplate": "Clave platillo=MBCA7<br>Grupo=%{x}<br>Cantidad=%{y}",
         "legendgroup": "Clave platillo=MBCA7",
         "marker": {
          "color": "#FECB52"
         },
         "name": "Clave platillo=MBCA7",
         "offsetgroup": "Clave platillo=MBCA7",
         "orientation": "v",
         "showlegend": true,
         "textposition": "auto",
         "type": "bar",
         "x": [
          "BEBIDAS CON ALCOHOL"
         ],
         "xaxis": "x",
         "y": [
          10
         ],
         "yaxis": "y"
        },
        {
         "alignmentgroup": "True",
         "hoverlabel": {
          "namelength": 0
         },
         "hovertemplate": "Clave platillo=MBCA66<br>Grupo=%{x}<br>Cantidad=%{y}",
         "legendgroup": "Clave platillo=MBCA66",
         "marker": {
          "color": "#636efa"
         },
         "name": "Clave platillo=MBCA66",
         "offsetgroup": "Clave platillo=MBCA66",
         "orientation": "v",
         "showlegend": true,
         "textposition": "auto",
         "type": "bar",
         "x": [
          "BEBIDAS SIN ALCOHOL"
         ],
         "xaxis": "x",
         "y": [
          6
         ],
         "yaxis": "y"
        },
        {
         "alignmentgroup": "True",
         "hoverlabel": {
          "namelength": 0
         },
         "hovertemplate": "Clave platillo=MBCA65<br>Grupo=%{x}<br>Cantidad=%{y}",
         "legendgroup": "Clave platillo=MBCA65",
         "marker": {
          "color": "#EF553B"
         },
         "name": "Clave platillo=MBCA65",
         "offsetgroup": "Clave platillo=MBCA65",
         "orientation": "v",
         "showlegend": true,
         "textposition": "auto",
         "type": "bar",
         "x": [
          "BEBIDAS SIN ALCOHOL"
         ],
         "xaxis": "x",
         "y": [
          8
         ],
         "yaxis": "y"
        },
        {
         "alignmentgroup": "True",
         "hoverlabel": {
          "namelength": 0
         },
         "hovertemplate": "Clave platillo=MBCA64<br>Grupo=%{x}<br>Cantidad=%{y}",
         "legendgroup": "Clave platillo=MBCA64",
         "marker": {
          "color": "#00cc96"
         },
         "name": "Clave platillo=MBCA64",
         "offsetgroup": "Clave platillo=MBCA64",
         "orientation": "v",
         "showlegend": true,
         "textposition": "auto",
         "type": "bar",
         "x": [
          "BEBIDAS SIN ALCOHOL"
         ],
         "xaxis": "x",
         "y": [
          342
         ],
         "yaxis": "y"
        },
        {
         "alignmentgroup": "True",
         "hoverlabel": {
          "namelength": 0
         },
         "hovertemplate": "Clave platillo=MBCA63<br>Grupo=%{x}<br>Cantidad=%{y}",
         "legendgroup": "Clave platillo=MBCA63",
         "marker": {
          "color": "#ab63fa"
         },
         "name": "Clave platillo=MBCA63",
         "offsetgroup": "Clave platillo=MBCA63",
         "orientation": "v",
         "showlegend": true,
         "textposition": "auto",
         "type": "bar",
         "x": [
          "BEBIDAS SIN ALCOHOL"
         ],
         "xaxis": "x",
         "y": [
          2002
         ],
         "yaxis": "y"
        },
        {
         "alignmentgroup": "True",
         "hoverlabel": {
          "namelength": 0
         },
         "hovertemplate": "Clave platillo=MBCA61<br>Grupo=%{x}<br>Cantidad=%{y}",
         "legendgroup": "Clave platillo=MBCA61",
         "marker": {
          "color": "#FFA15A"
         },
         "name": "Clave platillo=MBCA61",
         "offsetgroup": "Clave platillo=MBCA61",
         "orientation": "v",
         "showlegend": true,
         "textposition": "auto",
         "type": "bar",
         "x": [
          "BEBIDAS CON ALCOHOL"
         ],
         "xaxis": "x",
         "y": [
          28
         ],
         "yaxis": "y"
        },
        {
         "alignmentgroup": "True",
         "hoverlabel": {
          "namelength": 0
         },
         "hovertemplate": "Clave platillo=MBCA60<br>Grupo=%{x}<br>Cantidad=%{y}",
         "legendgroup": "Clave platillo=MBCA60",
         "marker": {
          "color": "#19d3f3"
         },
         "name": "Clave platillo=MBCA60",
         "offsetgroup": "Clave platillo=MBCA60",
         "orientation": "v",
         "showlegend": true,
         "textposition": "auto",
         "type": "bar",
         "x": [
          "BEBIDAS CON ALCOHOL"
         ],
         "xaxis": "x",
         "y": [
          10
         ],
         "yaxis": "y"
        },
        {
         "alignmentgroup": "True",
         "hoverlabel": {
          "namelength": 0
         },
         "hovertemplate": "Clave platillo=MBCA6<br>Grupo=%{x}<br>Cantidad=%{y}",
         "legendgroup": "Clave platillo=MBCA6",
         "marker": {
          "color": "#FF6692"
         },
         "name": "Clave platillo=MBCA6",
         "offsetgroup": "Clave platillo=MBCA6",
         "orientation": "v",
         "showlegend": true,
         "textposition": "auto",
         "type": "bar",
         "x": [
          "BEBIDAS CON ALCOHOL"
         ],
         "xaxis": "x",
         "y": [
          6
         ],
         "yaxis": "y"
        },
        {
         "alignmentgroup": "True",
         "hoverlabel": {
          "namelength": 0
         },
         "hovertemplate": "Clave platillo=MBCA58<br>Grupo=%{x}<br>Cantidad=%{y}",
         "legendgroup": "Clave platillo=MBCA58",
         "marker": {
          "color": "#B6E880"
         },
         "name": "Clave platillo=MBCA58",
         "offsetgroup": "Clave platillo=MBCA58",
         "orientation": "v",
         "showlegend": true,
         "textposition": "auto",
         "type": "bar",
         "x": [
          "BEBIDAS CON ALCOHOL"
         ],
         "xaxis": "x",
         "y": [
          8
         ],
         "yaxis": "y"
        },
        {
         "alignmentgroup": "True",
         "hoverlabel": {
          "namelength": 0
         },
         "hovertemplate": "Clave platillo=MBCA56<br>Grupo=%{x}<br>Cantidad=%{y}",
         "legendgroup": "Clave platillo=MBCA56",
         "marker": {
          "color": "#FF97FF"
         },
         "name": "Clave platillo=MBCA56",
         "offsetgroup": "Clave platillo=MBCA56",
         "orientation": "v",
         "showlegend": true,
         "textposition": "auto",
         "type": "bar",
         "x": [
          "BEBIDAS CON ALCOHOL"
         ],
         "xaxis": "x",
         "y": [
          260
         ],
         "yaxis": "y"
        },
        {
         "alignmentgroup": "True",
         "hoverlabel": {
          "namelength": 0
         },
         "hovertemplate": "Clave platillo=MBCA54<br>Grupo=%{x}<br>Cantidad=%{y}",
         "legendgroup": "Clave platillo=MBCA54",
         "marker": {
          "color": "#FECB52"
         },
         "name": "Clave platillo=MBCA54",
         "offsetgroup": "Clave platillo=MBCA54",
         "orientation": "v",
         "showlegend": true,
         "textposition": "auto",
         "type": "bar",
         "x": [
          "BEBIDAS CON ALCOHOL"
         ],
         "xaxis": "x",
         "y": [
          26
         ],
         "yaxis": "y"
        },
        {
         "alignmentgroup": "True",
         "hoverlabel": {
          "namelength": 0
         },
         "hovertemplate": "Clave platillo=MBCA52<br>Grupo=%{x}<br>Cantidad=%{y}",
         "legendgroup": "Clave platillo=MBCA52",
         "marker": {
          "color": "#636efa"
         },
         "name": "Clave platillo=MBCA52",
         "offsetgroup": "Clave platillo=MBCA52",
         "orientation": "v",
         "showlegend": true,
         "textposition": "auto",
         "type": "bar",
         "x": [
          "BEBIDAS CON ALCOHOL"
         ],
         "xaxis": "x",
         "y": [
          8
         ],
         "yaxis": "y"
        },
        {
         "alignmentgroup": "True",
         "hoverlabel": {
          "namelength": 0
         },
         "hovertemplate": "Clave platillo=MBCA50<br>Grupo=%{x}<br>Cantidad=%{y}",
         "legendgroup": "Clave platillo=MBCA50",
         "marker": {
          "color": "#EF553B"
         },
         "name": "Clave platillo=MBCA50",
         "offsetgroup": "Clave platillo=MBCA50",
         "orientation": "v",
         "showlegend": true,
         "textposition": "auto",
         "type": "bar",
         "x": [
          "BEBIDAS CON ALCOHOL"
         ],
         "xaxis": "x",
         "y": [
          65
         ],
         "yaxis": "y"
        },
        {
         "alignmentgroup": "True",
         "hoverlabel": {
          "namelength": 0
         },
         "hovertemplate": "Clave platillo=MBCA5<br>Grupo=%{x}<br>Cantidad=%{y}",
         "legendgroup": "Clave platillo=MBCA5",
         "marker": {
          "color": "#00cc96"
         },
         "name": "Clave platillo=MBCA5",
         "offsetgroup": "Clave platillo=MBCA5",
         "orientation": "v",
         "showlegend": true,
         "textposition": "auto",
         "type": "bar",
         "x": [
          "BEBIDAS CON ALCOHOL"
         ],
         "xaxis": "x",
         "y": [
          125
         ],
         "yaxis": "y"
        },
        {
         "alignmentgroup": "True",
         "hoverlabel": {
          "namelength": 0
         },
         "hovertemplate": "Clave platillo=MBCA49<br>Grupo=%{x}<br>Cantidad=%{y}",
         "legendgroup": "Clave platillo=MBCA49",
         "marker": {
          "color": "#ab63fa"
         },
         "name": "Clave platillo=MBCA49",
         "offsetgroup": "Clave platillo=MBCA49",
         "orientation": "v",
         "showlegend": true,
         "textposition": "auto",
         "type": "bar",
         "x": [
          "BEBIDAS CON ALCOHOL"
         ],
         "xaxis": "x",
         "y": [
          2
         ],
         "yaxis": "y"
        },
        {
         "alignmentgroup": "True",
         "hoverlabel": {
          "namelength": 0
         },
         "hovertemplate": "Clave platillo=MBCA48<br>Grupo=%{x}<br>Cantidad=%{y}",
         "legendgroup": "Clave platillo=MBCA48",
         "marker": {
          "color": "#FFA15A"
         },
         "name": "Clave platillo=MBCA48",
         "offsetgroup": "Clave platillo=MBCA48",
         "orientation": "v",
         "showlegend": true,
         "textposition": "auto",
         "type": "bar",
         "x": [
          "BEBIDAS CON ALCOHOL"
         ],
         "xaxis": "x",
         "y": [
          46
         ],
         "yaxis": "y"
        },
        {
         "alignmentgroup": "True",
         "hoverlabel": {
          "namelength": 0
         },
         "hovertemplate": "Clave platillo=MBCA47<br>Grupo=%{x}<br>Cantidad=%{y}",
         "legendgroup": "Clave platillo=MBCA47",
         "marker": {
          "color": "#19d3f3"
         },
         "name": "Clave platillo=MBCA47",
         "offsetgroup": "Clave platillo=MBCA47",
         "orientation": "v",
         "showlegend": true,
         "textposition": "auto",
         "type": "bar",
         "x": [
          "BEBIDAS CON ALCOHOL"
         ],
         "xaxis": "x",
         "y": [
          11
         ],
         "yaxis": "y"
        },
        {
         "alignmentgroup": "True",
         "hoverlabel": {
          "namelength": 0
         },
         "hovertemplate": "Clave platillo=MBCA46<br>Grupo=%{x}<br>Cantidad=%{y}",
         "legendgroup": "Clave platillo=MBCA46",
         "marker": {
          "color": "#FF6692"
         },
         "name": "Clave platillo=MBCA46",
         "offsetgroup": "Clave platillo=MBCA46",
         "orientation": "v",
         "showlegend": true,
         "textposition": "auto",
         "type": "bar",
         "x": [
          "BEBIDAS CON ALCOHOL"
         ],
         "xaxis": "x",
         "y": [
          2
         ],
         "yaxis": "y"
        },
        {
         "alignmentgroup": "True",
         "hoverlabel": {
          "namelength": 0
         },
         "hovertemplate": "Clave platillo=MBCA44<br>Grupo=%{x}<br>Cantidad=%{y}",
         "legendgroup": "Clave platillo=MBCA44",
         "marker": {
          "color": "#B6E880"
         },
         "name": "Clave platillo=MBCA44",
         "offsetgroup": "Clave platillo=MBCA44",
         "orientation": "v",
         "showlegend": true,
         "textposition": "auto",
         "type": "bar",
         "x": [
          "BEBIDAS CON ALCOHOL"
         ],
         "xaxis": "x",
         "y": [
          10
         ],
         "yaxis": "y"
        },
        {
         "alignmentgroup": "True",
         "hoverlabel": {
          "namelength": 0
         },
         "hovertemplate": "Clave platillo=MBCA43<br>Grupo=%{x}<br>Cantidad=%{y}",
         "legendgroup": "Clave platillo=MBCA43",
         "marker": {
          "color": "#FF97FF"
         },
         "name": "Clave platillo=MBCA43",
         "offsetgroup": "Clave platillo=MBCA43",
         "orientation": "v",
         "showlegend": true,
         "textposition": "auto",
         "type": "bar",
         "x": [
          "BEBIDAS CON ALCOHOL"
         ],
         "xaxis": "x",
         "y": [
          202
         ],
         "yaxis": "y"
        },
        {
         "alignmentgroup": "True",
         "hoverlabel": {
          "namelength": 0
         },
         "hovertemplate": "Clave platillo=MBCA40<br>Grupo=%{x}<br>Cantidad=%{y}",
         "legendgroup": "Clave platillo=MBCA40",
         "marker": {
          "color": "#FECB52"
         },
         "name": "Clave platillo=MBCA40",
         "offsetgroup": "Clave platillo=MBCA40",
         "orientation": "v",
         "showlegend": true,
         "textposition": "auto",
         "type": "bar",
         "x": [
          "BEBIDAS CON ALCOHOL"
         ],
         "xaxis": "x",
         "y": [
          279
         ],
         "yaxis": "y"
        },
        {
         "alignmentgroup": "True",
         "hoverlabel": {
          "namelength": 0
         },
         "hovertemplate": "Clave platillo=MBCA4<br>Grupo=%{x}<br>Cantidad=%{y}",
         "legendgroup": "Clave platillo=MBCA4",
         "marker": {
          "color": "#636efa"
         },
         "name": "Clave platillo=MBCA4",
         "offsetgroup": "Clave platillo=MBCA4",
         "orientation": "v",
         "showlegend": true,
         "textposition": "auto",
         "type": "bar",
         "x": [
          "BEBIDAS CON ALCOHOL"
         ],
         "xaxis": "x",
         "y": [
          109
         ],
         "yaxis": "y"
        },
        {
         "alignmentgroup": "True",
         "hoverlabel": {
          "namelength": 0
         },
         "hovertemplate": "Clave platillo=MBCA39<br>Grupo=%{x}<br>Cantidad=%{y}",
         "legendgroup": "Clave platillo=MBCA39",
         "marker": {
          "color": "#EF553B"
         },
         "name": "Clave platillo=MBCA39",
         "offsetgroup": "Clave platillo=MBCA39",
         "orientation": "v",
         "showlegend": true,
         "textposition": "auto",
         "type": "bar",
         "x": [
          "BEBIDAS CON ALCOHOL"
         ],
         "xaxis": "x",
         "y": [
          263
         ],
         "yaxis": "y"
        },
        {
         "alignmentgroup": "True",
         "hoverlabel": {
          "namelength": 0
         },
         "hovertemplate": "Clave platillo=MBCA38<br>Grupo=%{x}<br>Cantidad=%{y}",
         "legendgroup": "Clave platillo=MBCA38",
         "marker": {
          "color": "#00cc96"
         },
         "name": "Clave platillo=MBCA38",
         "offsetgroup": "Clave platillo=MBCA38",
         "orientation": "v",
         "showlegend": true,
         "textposition": "auto",
         "type": "bar",
         "x": [
          "BEBIDAS CON ALCOHOL"
         ],
         "xaxis": "x",
         "y": [
          694
         ],
         "yaxis": "y"
        },
        {
         "alignmentgroup": "True",
         "hoverlabel": {
          "namelength": 0
         },
         "hovertemplate": "Clave platillo=MBCA37<br>Grupo=%{x}<br>Cantidad=%{y}",
         "legendgroup": "Clave platillo=MBCA37",
         "marker": {
          "color": "#ab63fa"
         },
         "name": "Clave platillo=MBCA37",
         "offsetgroup": "Clave platillo=MBCA37",
         "orientation": "v",
         "showlegend": true,
         "textposition": "auto",
         "type": "bar",
         "x": [
          "BEBIDAS CON ALCOHOL"
         ],
         "xaxis": "x",
         "y": [
          245
         ],
         "yaxis": "y"
        },
        {
         "alignmentgroup": "True",
         "hoverlabel": {
          "namelength": 0
         },
         "hovertemplate": "Clave platillo=MBCA33<br>Grupo=%{x}<br>Cantidad=%{y}",
         "legendgroup": "Clave platillo=MBCA33",
         "marker": {
          "color": "#FFA15A"
         },
         "name": "Clave platillo=MBCA33",
         "offsetgroup": "Clave platillo=MBCA33",
         "orientation": "v",
         "showlegend": true,
         "textposition": "auto",
         "type": "bar",
         "x": [
          "BEBIDAS CON ALCOHOL"
         ],
         "xaxis": "x",
         "y": [
          3
         ],
         "yaxis": "y"
        },
        {
         "alignmentgroup": "True",
         "hoverlabel": {
          "namelength": 0
         },
         "hovertemplate": "Clave platillo=MBCA32<br>Grupo=%{x}<br>Cantidad=%{y}",
         "legendgroup": "Clave platillo=MBCA32",
         "marker": {
          "color": "#19d3f3"
         },
         "name": "Clave platillo=MBCA32",
         "offsetgroup": "Clave platillo=MBCA32",
         "orientation": "v",
         "showlegend": true,
         "textposition": "auto",
         "type": "bar",
         "x": [
          "BEBIDAS CON ALCOHOL"
         ],
         "xaxis": "x",
         "y": [
          1
         ],
         "yaxis": "y"
        },
        {
         "alignmentgroup": "True",
         "hoverlabel": {
          "namelength": 0
         },
         "hovertemplate": "Clave platillo=MBCA31<br>Grupo=%{x}<br>Cantidad=%{y}",
         "legendgroup": "Clave platillo=MBCA31",
         "marker": {
          "color": "#FF6692"
         },
         "name": "Clave platillo=MBCA31",
         "offsetgroup": "Clave platillo=MBCA31",
         "orientation": "v",
         "showlegend": true,
         "textposition": "auto",
         "type": "bar",
         "x": [
          "BEBIDAS CON ALCOHOL"
         ],
         "xaxis": "x",
         "y": [
          1
         ],
         "yaxis": "y"
        },
        {
         "alignmentgroup": "True",
         "hoverlabel": {
          "namelength": 0
         },
         "hovertemplate": "Clave platillo=MBCA30<br>Grupo=%{x}<br>Cantidad=%{y}",
         "legendgroup": "Clave platillo=MBCA30",
         "marker": {
          "color": "#B6E880"
         },
         "name": "Clave platillo=MBCA30",
         "offsetgroup": "Clave platillo=MBCA30",
         "orientation": "v",
         "showlegend": true,
         "textposition": "auto",
         "type": "bar",
         "x": [
          "BEBIDAS CON ALCOHOL"
         ],
         "xaxis": "x",
         "y": [
          2
         ],
         "yaxis": "y"
        },
        {
         "alignmentgroup": "True",
         "hoverlabel": {
          "namelength": 0
         },
         "hovertemplate": "Clave platillo=MBCA3<br>Grupo=%{x}<br>Cantidad=%{y}",
         "legendgroup": "Clave platillo=MBCA3",
         "marker": {
          "color": "#FF97FF"
         },
         "name": "Clave platillo=MBCA3",
         "offsetgroup": "Clave platillo=MBCA3",
         "orientation": "v",
         "showlegend": true,
         "textposition": "auto",
         "type": "bar",
         "x": [
          "BEBIDAS CON ALCOHOL"
         ],
         "xaxis": "x",
         "y": [
          5
         ],
         "yaxis": "y"
        },
        {
         "alignmentgroup": "True",
         "hoverlabel": {
          "namelength": 0
         },
         "hovertemplate": "Clave platillo=MBCA29<br>Grupo=%{x}<br>Cantidad=%{y}",
         "legendgroup": "Clave platillo=MBCA29",
         "marker": {
          "color": "#FECB52"
         },
         "name": "Clave platillo=MBCA29",
         "offsetgroup": "Clave platillo=MBCA29",
         "orientation": "v",
         "showlegend": true,
         "textposition": "auto",
         "type": "bar",
         "x": [
          "BEBIDAS CON ALCOHOL"
         ],
         "xaxis": "x",
         "y": [
          30
         ],
         "yaxis": "y"
        },
        {
         "alignmentgroup": "True",
         "hoverlabel": {
          "namelength": 0
         },
         "hovertemplate": "Clave platillo=MBCA27<br>Grupo=%{x}<br>Cantidad=%{y}",
         "legendgroup": "Clave platillo=MBCA27",
         "marker": {
          "color": "#636efa"
         },
         "name": "Clave platillo=MBCA27",
         "offsetgroup": "Clave platillo=MBCA27",
         "orientation": "v",
         "showlegend": true,
         "textposition": "auto",
         "type": "bar",
         "x": [
          "BEBIDAS CON ALCOHOL"
         ],
         "xaxis": "x",
         "y": [
          1
         ],
         "yaxis": "y"
        },
        {
         "alignmentgroup": "True",
         "hoverlabel": {
          "namelength": 0
         },
         "hovertemplate": "Clave platillo=MBCA26<br>Grupo=%{x}<br>Cantidad=%{y}",
         "legendgroup": "Clave platillo=MBCA26",
         "marker": {
          "color": "#EF553B"
         },
         "name": "Clave platillo=MBCA26",
         "offsetgroup": "Clave platillo=MBCA26",
         "orientation": "v",
         "showlegend": true,
         "textposition": "auto",
         "type": "bar",
         "x": [
          "BEBIDAS CON ALCOHOL"
         ],
         "xaxis": "x",
         "y": [
          6
         ],
         "yaxis": "y"
        },
        {
         "alignmentgroup": "True",
         "hoverlabel": {
          "namelength": 0
         },
         "hovertemplate": "Clave platillo=MBCA25<br>Grupo=%{x}<br>Cantidad=%{y}",
         "legendgroup": "Clave platillo=MBCA25",
         "marker": {
          "color": "#00cc96"
         },
         "name": "Clave platillo=MBCA25",
         "offsetgroup": "Clave platillo=MBCA25",
         "orientation": "v",
         "showlegend": true,
         "textposition": "auto",
         "type": "bar",
         "x": [
          "BEBIDAS CON ALCOHOL"
         ],
         "xaxis": "x",
         "y": [
          13
         ],
         "yaxis": "y"
        },
        {
         "alignmentgroup": "True",
         "hoverlabel": {
          "namelength": 0
         },
         "hovertemplate": "Clave platillo=MBCA23<br>Grupo=%{x}<br>Cantidad=%{y}",
         "legendgroup": "Clave platillo=MBCA23",
         "marker": {
          "color": "#ab63fa"
         },
         "name": "Clave platillo=MBCA23",
         "offsetgroup": "Clave platillo=MBCA23",
         "orientation": "v",
         "showlegend": true,
         "textposition": "auto",
         "type": "bar",
         "x": [
          "BEBIDAS CON ALCOHOL"
         ],
         "xaxis": "x",
         "y": [
          11
         ],
         "yaxis": "y"
        },
        {
         "alignmentgroup": "True",
         "hoverlabel": {
          "namelength": 0
         },
         "hovertemplate": "Clave platillo=MBCA2<br>Grupo=%{x}<br>Cantidad=%{y}",
         "legendgroup": "Clave platillo=MBCA2",
         "marker": {
          "color": "#FFA15A"
         },
         "name": "Clave platillo=MBCA2",
         "offsetgroup": "Clave platillo=MBCA2",
         "orientation": "v",
         "showlegend": true,
         "textposition": "auto",
         "type": "bar",
         "x": [
          "BEBIDAS CON ALCOHOL"
         ],
         "xaxis": "x",
         "y": [
          5
         ],
         "yaxis": "y"
        },
        {
         "alignmentgroup": "True",
         "hoverlabel": {
          "namelength": 0
         },
         "hovertemplate": "Clave platillo=MBCA19<br>Grupo=%{x}<br>Cantidad=%{y}",
         "legendgroup": "Clave platillo=MBCA19",
         "marker": {
          "color": "#19d3f3"
         },
         "name": "Clave platillo=MBCA19",
         "offsetgroup": "Clave platillo=MBCA19",
         "orientation": "v",
         "showlegend": true,
         "textposition": "auto",
         "type": "bar",
         "x": [
          "BEBIDAS CON ALCOHOL"
         ],
         "xaxis": "x",
         "y": [
          373
         ],
         "yaxis": "y"
        },
        {
         "alignmentgroup": "True",
         "hoverlabel": {
          "namelength": 0
         },
         "hovertemplate": "Clave platillo=MBCA18<br>Grupo=%{x}<br>Cantidad=%{y}",
         "legendgroup": "Clave platillo=MBCA18",
         "marker": {
          "color": "#FF6692"
         },
         "name": "Clave platillo=MBCA18",
         "offsetgroup": "Clave platillo=MBCA18",
         "orientation": "v",
         "showlegend": true,
         "textposition": "auto",
         "type": "bar",
         "x": [
          "BEBIDAS CON ALCOHOL"
         ],
         "xaxis": "x",
         "y": [
          1
         ],
         "yaxis": "y"
        },
        {
         "alignmentgroup": "True",
         "hoverlabel": {
          "namelength": 0
         },
         "hovertemplate": "Clave platillo=MBCA16<br>Grupo=%{x}<br>Cantidad=%{y}",
         "legendgroup": "Clave platillo=MBCA16",
         "marker": {
          "color": "#B6E880"
         },
         "name": "Clave platillo=MBCA16",
         "offsetgroup": "Clave platillo=MBCA16",
         "orientation": "v",
         "showlegend": true,
         "textposition": "auto",
         "type": "bar",
         "x": [
          "BEBIDAS CON ALCOHOL"
         ],
         "xaxis": "x",
         "y": [
          19
         ],
         "yaxis": "y"
        },
        {
         "alignmentgroup": "True",
         "hoverlabel": {
          "namelength": 0
         },
         "hovertemplate": "Clave platillo=MBCA14<br>Grupo=%{x}<br>Cantidad=%{y}",
         "legendgroup": "Clave platillo=MBCA14",
         "marker": {
          "color": "#FF97FF"
         },
         "name": "Clave platillo=MBCA14",
         "offsetgroup": "Clave platillo=MBCA14",
         "orientation": "v",
         "showlegend": true,
         "textposition": "auto",
         "type": "bar",
         "x": [
          "BEBIDAS CON ALCOHOL"
         ],
         "xaxis": "x",
         "y": [
          1
         ],
         "yaxis": "y"
        },
        {
         "alignmentgroup": "True",
         "hoverlabel": {
          "namelength": 0
         },
         "hovertemplate": "Clave platillo=MBCA13<br>Grupo=%{x}<br>Cantidad=%{y}",
         "legendgroup": "Clave platillo=MBCA13",
         "marker": {
          "color": "#FECB52"
         },
         "name": "Clave platillo=MBCA13",
         "offsetgroup": "Clave platillo=MBCA13",
         "orientation": "v",
         "showlegend": true,
         "textposition": "auto",
         "type": "bar",
         "x": [
          "BEBIDAS CON ALCOHOL"
         ],
         "xaxis": "x",
         "y": [
          39
         ],
         "yaxis": "y"
        },
        {
         "alignmentgroup": "True",
         "hoverlabel": {
          "namelength": 0
         },
         "hovertemplate": "Clave platillo=MBCA111<br>Grupo=%{x}<br>Cantidad=%{y}",
         "legendgroup": "Clave platillo=MBCA111",
         "marker": {
          "color": "#636efa"
         },
         "name": "Clave platillo=MBCA111",
         "offsetgroup": "Clave platillo=MBCA111",
         "orientation": "v",
         "showlegend": true,
         "textposition": "auto",
         "type": "bar",
         "x": [
          "BEBIDAS CON ALCOHOL"
         ],
         "xaxis": "x",
         "y": [
          18
         ],
         "yaxis": "y"
        },
        {
         "alignmentgroup": "True",
         "hoverlabel": {
          "namelength": 0
         },
         "hovertemplate": "Clave platillo=MBCA11<br>Grupo=%{x}<br>Cantidad=%{y}",
         "legendgroup": "Clave platillo=MBCA11",
         "marker": {
          "color": "#EF553B"
         },
         "name": "Clave platillo=MBCA11",
         "offsetgroup": "Clave platillo=MBCA11",
         "orientation": "v",
         "showlegend": true,
         "textposition": "auto",
         "type": "bar",
         "x": [
          "BEBIDAS CON ALCOHOL"
         ],
         "xaxis": "x",
         "y": [
          1
         ],
         "yaxis": "y"
        },
        {
         "alignmentgroup": "True",
         "hoverlabel": {
          "namelength": 0
         },
         "hovertemplate": "Clave platillo=MBCA10<br>Grupo=%{x}<br>Cantidad=%{y}",
         "legendgroup": "Clave platillo=MBCA10",
         "marker": {
          "color": "#00cc96"
         },
         "name": "Clave platillo=MBCA10",
         "offsetgroup": "Clave platillo=MBCA10",
         "orientation": "v",
         "showlegend": true,
         "textposition": "auto",
         "type": "bar",
         "x": [
          "BEBIDAS CON ALCOHOL"
         ],
         "xaxis": "x",
         "y": [
          48
         ],
         "yaxis": "y"
        },
        {
         "alignmentgroup": "True",
         "hoverlabel": {
          "namelength": 0
         },
         "hovertemplate": "Clave platillo=MBCA1<br>Grupo=%{x}<br>Cantidad=%{y}",
         "legendgroup": "Clave platillo=MBCA1",
         "marker": {
          "color": "#ab63fa"
         },
         "name": "Clave platillo=MBCA1",
         "offsetgroup": "Clave platillo=MBCA1",
         "orientation": "v",
         "showlegend": true,
         "textposition": "auto",
         "type": "bar",
         "x": [
          "BEBIDAS CON ALCOHOL"
         ],
         "xaxis": "x",
         "y": [
          151
         ],
         "yaxis": "y"
        },
        {
         "alignmentgroup": "True",
         "hoverlabel": {
          "namelength": 0
         },
         "hovertemplate": "Clave platillo=MBCA<br>Grupo=%{x}<br>Cantidad=%{y}",
         "legendgroup": "Clave platillo=MBCA",
         "marker": {
          "color": "#FFA15A"
         },
         "name": "Clave platillo=MBCA",
         "offsetgroup": "Clave platillo=MBCA",
         "orientation": "v",
         "showlegend": true,
         "textposition": "auto",
         "type": "bar",
         "x": [
          "BEBIDAS CON ALCOHOL"
         ],
         "xaxis": "x",
         "y": [
          37
         ],
         "yaxis": "y"
        },
        {
         "alignmentgroup": "True",
         "hoverlabel": {
          "namelength": 0
         },
         "hovertemplate": "Clave platillo=HAM9<br>Grupo=%{x}<br>Cantidad=%{y}",
         "legendgroup": "Clave platillo=HAM9",
         "marker": {
          "color": "#19d3f3"
         },
         "name": "Clave platillo=HAM9",
         "offsetgroup": "Clave platillo=HAM9",
         "orientation": "v",
         "showlegend": true,
         "textposition": "auto",
         "type": "bar",
         "x": [
          "HAMBURGUESAS"
         ],
         "xaxis": "x",
         "y": [
          28
         ],
         "yaxis": "y"
        },
        {
         "alignmentgroup": "True",
         "hoverlabel": {
          "namelength": 0
         },
         "hovertemplate": "Clave platillo=HAM8<br>Grupo=%{x}<br>Cantidad=%{y}",
         "legendgroup": "Clave platillo=HAM8",
         "marker": {
          "color": "#FF6692"
         },
         "name": "Clave platillo=HAM8",
         "offsetgroup": "Clave platillo=HAM8",
         "orientation": "v",
         "showlegend": true,
         "textposition": "auto",
         "type": "bar",
         "x": [
          "HAMBURGUESAS"
         ],
         "xaxis": "x",
         "y": [
          142
         ],
         "yaxis": "y"
        },
        {
         "alignmentgroup": "True",
         "hoverlabel": {
          "namelength": 0
         },
         "hovertemplate": "Clave platillo=HAM7<br>Grupo=%{x}<br>Cantidad=%{y}",
         "legendgroup": "Clave platillo=HAM7",
         "marker": {
          "color": "#B6E880"
         },
         "name": "Clave platillo=HAM7",
         "offsetgroup": "Clave platillo=HAM7",
         "orientation": "v",
         "showlegend": true,
         "textposition": "auto",
         "type": "bar",
         "x": [
          "HAMBURGUESAS"
         ],
         "xaxis": "x",
         "y": [
          1137
         ],
         "yaxis": "y"
        },
        {
         "alignmentgroup": "True",
         "hoverlabel": {
          "namelength": 0
         },
         "hovertemplate": "Clave platillo=HAM6<br>Grupo=%{x}<br>Cantidad=%{y}",
         "legendgroup": "Clave platillo=HAM6",
         "marker": {
          "color": "#FF97FF"
         },
         "name": "Clave platillo=HAM6",
         "offsetgroup": "Clave platillo=HAM6",
         "orientation": "v",
         "showlegend": true,
         "textposition": "auto",
         "type": "bar",
         "x": [
          "HAMBURGUESAS"
         ],
         "xaxis": "x",
         "y": [
          328
         ],
         "yaxis": "y"
        },
        {
         "alignmentgroup": "True",
         "hoverlabel": {
          "namelength": 0
         },
         "hovertemplate": "Clave platillo=HAM5<br>Grupo=%{x}<br>Cantidad=%{y}",
         "legendgroup": "Clave platillo=HAM5",
         "marker": {
          "color": "#FECB52"
         },
         "name": "Clave platillo=HAM5",
         "offsetgroup": "Clave platillo=HAM5",
         "orientation": "v",
         "showlegend": true,
         "textposition": "auto",
         "type": "bar",
         "x": [
          "HAMBURGUESAS"
         ],
         "xaxis": "x",
         "y": [
          124
         ],
         "yaxis": "y"
        },
        {
         "alignmentgroup": "True",
         "hoverlabel": {
          "namelength": 0
         },
         "hovertemplate": "Clave platillo=HAM4<br>Grupo=%{x}<br>Cantidad=%{y}",
         "legendgroup": "Clave platillo=HAM4",
         "marker": {
          "color": "#636efa"
         },
         "name": "Clave platillo=HAM4",
         "offsetgroup": "Clave platillo=HAM4",
         "orientation": "v",
         "showlegend": true,
         "textposition": "auto",
         "type": "bar",
         "x": [
          "HAMBURGUESAS"
         ],
         "xaxis": "x",
         "y": [
          37
         ],
         "yaxis": "y"
        },
        {
         "alignmentgroup": "True",
         "hoverlabel": {
          "namelength": 0
         },
         "hovertemplate": "Clave platillo=HAM3<br>Grupo=%{x}<br>Cantidad=%{y}",
         "legendgroup": "Clave platillo=HAM3",
         "marker": {
          "color": "#EF553B"
         },
         "name": "Clave platillo=HAM3",
         "offsetgroup": "Clave platillo=HAM3",
         "orientation": "v",
         "showlegend": true,
         "textposition": "auto",
         "type": "bar",
         "x": [
          "HAMBURGUESAS"
         ],
         "xaxis": "x",
         "y": [
          145
         ],
         "yaxis": "y"
        },
        {
         "alignmentgroup": "True",
         "hoverlabel": {
          "namelength": 0
         },
         "hovertemplate": "Clave platillo=HAM2<br>Grupo=%{x}<br>Cantidad=%{y}",
         "legendgroup": "Clave platillo=HAM2",
         "marker": {
          "color": "#00cc96"
         },
         "name": "Clave platillo=HAM2",
         "offsetgroup": "Clave platillo=HAM2",
         "orientation": "v",
         "showlegend": true,
         "textposition": "auto",
         "type": "bar",
         "x": [
          "HAMBURGUESAS"
         ],
         "xaxis": "x",
         "y": [
          166
         ],
         "yaxis": "y"
        },
        {
         "alignmentgroup": "True",
         "hoverlabel": {
          "namelength": 0
         },
         "hovertemplate": "Clave platillo=HAM12<br>Grupo=%{x}<br>Cantidad=%{y}",
         "legendgroup": "Clave platillo=HAM12",
         "marker": {
          "color": "#ab63fa"
         },
         "name": "Clave platillo=HAM12",
         "offsetgroup": "Clave platillo=HAM12",
         "orientation": "v",
         "showlegend": true,
         "textposition": "auto",
         "type": "bar",
         "x": [
          "HAMBURGUESAS"
         ],
         "xaxis": "x",
         "y": [
          2261
         ],
         "yaxis": "y"
        },
        {
         "alignmentgroup": "True",
         "hoverlabel": {
          "namelength": 0
         },
         "hovertemplate": "Clave platillo=HAM11<br>Grupo=%{x}<br>Cantidad=%{y}",
         "legendgroup": "Clave platillo=HAM11",
         "marker": {
          "color": "#FFA15A"
         },
         "name": "Clave platillo=HAM11",
         "offsetgroup": "Clave platillo=HAM11",
         "orientation": "v",
         "showlegend": true,
         "textposition": "auto",
         "type": "bar",
         "x": [
          "HAMBURGUESAS"
         ],
         "xaxis": "x",
         "y": [
          578
         ],
         "yaxis": "y"
        },
        {
         "alignmentgroup": "True",
         "hoverlabel": {
          "namelength": 0
         },
         "hovertemplate": "Clave platillo=HAM10<br>Grupo=%{x}<br>Cantidad=%{y}",
         "legendgroup": "Clave platillo=HAM10",
         "marker": {
          "color": "#19d3f3"
         },
         "name": "Clave platillo=HAM10",
         "offsetgroup": "Clave platillo=HAM10",
         "orientation": "v",
         "showlegend": true,
         "textposition": "auto",
         "type": "bar",
         "x": [
          "HAMBURGUESAS"
         ],
         "xaxis": "x",
         "y": [
          187
         ],
         "yaxis": "y"
        },
        {
         "alignmentgroup": "True",
         "hoverlabel": {
          "namelength": 0
         },
         "hovertemplate": "Clave platillo=HAM1<br>Grupo=%{x}<br>Cantidad=%{y}",
         "legendgroup": "Clave platillo=HAM1",
         "marker": {
          "color": "#FF6692"
         },
         "name": "Clave platillo=HAM1",
         "offsetgroup": "Clave platillo=HAM1",
         "orientation": "v",
         "showlegend": true,
         "textposition": "auto",
         "type": "bar",
         "x": [
          "HAMBURGUESAS"
         ],
         "xaxis": "x",
         "y": [
          1345
         ],
         "yaxis": "y"
        },
        {
         "alignmentgroup": "True",
         "hoverlabel": {
          "namelength": 0
         },
         "hovertemplate": "Clave platillo=EXT4651<br>Grupo=%{x}<br>Cantidad=%{y}",
         "legendgroup": "Clave platillo=EXT4651",
         "marker": {
          "color": "#B6E880"
         },
         "name": "Clave platillo=EXT4651",
         "offsetgroup": "Clave platillo=EXT4651",
         "orientation": "v",
         "showlegend": true,
         "textposition": "auto",
         "type": "bar",
         "x": [
          "EXTRAS COCINA"
         ],
         "xaxis": "x",
         "y": [
          4
         ],
         "yaxis": "y"
        },
        {
         "alignmentgroup": "True",
         "hoverlabel": {
          "namelength": 0
         },
         "hovertemplate": "Clave platillo=EXT4650<br>Grupo=%{x}<br>Cantidad=%{y}",
         "legendgroup": "Clave platillo=EXT4650",
         "marker": {
          "color": "#FF97FF"
         },
         "name": "Clave platillo=EXT4650",
         "offsetgroup": "Clave platillo=EXT4650",
         "orientation": "v",
         "showlegend": true,
         "textposition": "auto",
         "type": "bar",
         "x": [
          "EXTRAS COCINA"
         ],
         "xaxis": "x",
         "y": [
          3
         ],
         "yaxis": "y"
        },
        {
         "alignmentgroup": "True",
         "hoverlabel": {
          "namelength": 0
         },
         "hovertemplate": "Clave platillo=EXT4620<br>Grupo=%{x}<br>Cantidad=%{y}",
         "legendgroup": "Clave platillo=EXT4620",
         "marker": {
          "color": "#FECB52"
         },
         "name": "Clave platillo=EXT4620",
         "offsetgroup": "Clave platillo=EXT4620",
         "orientation": "v",
         "showlegend": true,
         "textposition": "auto",
         "type": "bar",
         "x": [
          "EXTRAS COCINA"
         ],
         "xaxis": "x",
         "y": [
          4
         ],
         "yaxis": "y"
        },
        {
         "alignmentgroup": "True",
         "hoverlabel": {
          "namelength": 0
         },
         "hovertemplate": "Clave platillo=EXT4619<br>Grupo=%{x}<br>Cantidad=%{y}",
         "legendgroup": "Clave platillo=EXT4619",
         "marker": {
          "color": "#636efa"
         },
         "name": "Clave platillo=EXT4619",
         "offsetgroup": "Clave platillo=EXT4619",
         "orientation": "v",
         "showlegend": true,
         "textposition": "auto",
         "type": "bar",
         "x": [
          "EXTRAS COCINA"
         ],
         "xaxis": "x",
         "y": [
          3
         ],
         "yaxis": "y"
        },
        {
         "alignmentgroup": "True",
         "hoverlabel": {
          "namelength": 0
         },
         "hovertemplate": "Clave platillo=EXT4617<br>Grupo=%{x}<br>Cantidad=%{y}",
         "legendgroup": "Clave platillo=EXT4617",
         "marker": {
          "color": "#EF553B"
         },
         "name": "Clave platillo=EXT4617",
         "offsetgroup": "Clave platillo=EXT4617",
         "orientation": "v",
         "showlegend": true,
         "textposition": "auto",
         "type": "bar",
         "x": [
          "EXTRAS COCINA"
         ],
         "xaxis": "x",
         "y": [
          6
         ],
         "yaxis": "y"
        },
        {
         "alignmentgroup": "True",
         "hoverlabel": {
          "namelength": 0
         },
         "hovertemplate": "Clave platillo=EXT4616<br>Grupo=%{x}<br>Cantidad=%{y}",
         "legendgroup": "Clave platillo=EXT4616",
         "marker": {
          "color": "#00cc96"
         },
         "name": "Clave platillo=EXT4616",
         "offsetgroup": "Clave platillo=EXT4616",
         "orientation": "v",
         "showlegend": true,
         "textposition": "auto",
         "type": "bar",
         "x": [
          "EXTRAS COCINA"
         ],
         "xaxis": "x",
         "y": [
          13
         ],
         "yaxis": "y"
        },
        {
         "alignmentgroup": "True",
         "hoverlabel": {
          "namelength": 0
         },
         "hovertemplate": "Clave platillo=EXT4615<br>Grupo=%{x}<br>Cantidad=%{y}",
         "legendgroup": "Clave platillo=EXT4615",
         "marker": {
          "color": "#ab63fa"
         },
         "name": "Clave platillo=EXT4615",
         "offsetgroup": "Clave platillo=EXT4615",
         "orientation": "v",
         "showlegend": true,
         "textposition": "auto",
         "type": "bar",
         "x": [
          "EXTRAS COCINA"
         ],
         "xaxis": "x",
         "y": [
          1
         ],
         "yaxis": "y"
        },
        {
         "alignmentgroup": "True",
         "hoverlabel": {
          "namelength": 0
         },
         "hovertemplate": "Clave platillo=EXT4614<br>Grupo=%{x}<br>Cantidad=%{y}",
         "legendgroup": "Clave platillo=EXT4614",
         "marker": {
          "color": "#FFA15A"
         },
         "name": "Clave platillo=EXT4614",
         "offsetgroup": "Clave platillo=EXT4614",
         "orientation": "v",
         "showlegend": true,
         "textposition": "auto",
         "type": "bar",
         "x": [
          "EXTRAS COCINA"
         ],
         "xaxis": "x",
         "y": [
          49
         ],
         "yaxis": "y"
        },
        {
         "alignmentgroup": "True",
         "hoverlabel": {
          "namelength": 0
         },
         "hovertemplate": "Clave platillo=EXT4613<br>Grupo=%{x}<br>Cantidad=%{y}",
         "legendgroup": "Clave platillo=EXT4613",
         "marker": {
          "color": "#19d3f3"
         },
         "name": "Clave platillo=EXT4613",
         "offsetgroup": "Clave platillo=EXT4613",
         "orientation": "v",
         "showlegend": true,
         "textposition": "auto",
         "type": "bar",
         "x": [
          "EXTRAS COCINA"
         ],
         "xaxis": "x",
         "y": [
          129
         ],
         "yaxis": "y"
        },
        {
         "alignmentgroup": "True",
         "hoverlabel": {
          "namelength": 0
         },
         "hovertemplate": "Clave platillo=EXT4612<br>Grupo=%{x}<br>Cantidad=%{y}",
         "legendgroup": "Clave platillo=EXT4612",
         "marker": {
          "color": "#FF6692"
         },
         "name": "Clave platillo=EXT4612",
         "offsetgroup": "Clave platillo=EXT4612",
         "orientation": "v",
         "showlegend": true,
         "textposition": "auto",
         "type": "bar",
         "x": [
          "EXTRAS COCINA"
         ],
         "xaxis": "x",
         "y": [
          14
         ],
         "yaxis": "y"
        },
        {
         "alignmentgroup": "True",
         "hoverlabel": {
          "namelength": 0
         },
         "hovertemplate": "Clave platillo=EXT4611<br>Grupo=%{x}<br>Cantidad=%{y}",
         "legendgroup": "Clave platillo=EXT4611",
         "marker": {
          "color": "#B6E880"
         },
         "name": "Clave platillo=EXT4611",
         "offsetgroup": "Clave platillo=EXT4611",
         "orientation": "v",
         "showlegend": true,
         "textposition": "auto",
         "type": "bar",
         "x": [
          "EXTRAS COCINA"
         ],
         "xaxis": "x",
         "y": [
          5
         ],
         "yaxis": "y"
        },
        {
         "alignmentgroup": "True",
         "hoverlabel": {
          "namelength": 0
         },
         "hovertemplate": "Clave platillo=EXT4610<br>Grupo=%{x}<br>Cantidad=%{y}",
         "legendgroup": "Clave platillo=EXT4610",
         "marker": {
          "color": "#FF97FF"
         },
         "name": "Clave platillo=EXT4610",
         "offsetgroup": "Clave platillo=EXT4610",
         "orientation": "v",
         "showlegend": true,
         "textposition": "auto",
         "type": "bar",
         "x": [
          "EXTRAS COCINA"
         ],
         "xaxis": "x",
         "y": [
          10
         ],
         "yaxis": "y"
        },
        {
         "alignmentgroup": "True",
         "hoverlabel": {
          "namelength": 0
         },
         "hovertemplate": "Clave platillo=EXT4609<br>Grupo=%{x}<br>Cantidad=%{y}",
         "legendgroup": "Clave platillo=EXT4609",
         "marker": {
          "color": "#FECB52"
         },
         "name": "Clave platillo=EXT4609",
         "offsetgroup": "Clave platillo=EXT4609",
         "orientation": "v",
         "showlegend": true,
         "textposition": "auto",
         "type": "bar",
         "x": [
          "EXTRAS COCINA"
         ],
         "xaxis": "x",
         "y": [
          8
         ],
         "yaxis": "y"
        },
        {
         "alignmentgroup": "True",
         "hoverlabel": {
          "namelength": 0
         },
         "hovertemplate": "Clave platillo=EXT4608<br>Grupo=%{x}<br>Cantidad=%{y}",
         "legendgroup": "Clave platillo=EXT4608",
         "marker": {
          "color": "#636efa"
         },
         "name": "Clave platillo=EXT4608",
         "offsetgroup": "Clave platillo=EXT4608",
         "orientation": "v",
         "showlegend": true,
         "textposition": "auto",
         "type": "bar",
         "x": [
          "EXTRAS COCINA"
         ],
         "xaxis": "x",
         "y": [
          53
         ],
         "yaxis": "y"
        },
        {
         "alignmentgroup": "True",
         "hoverlabel": {
          "namelength": 0
         },
         "hovertemplate": "Clave platillo=EXT4607<br>Grupo=%{x}<br>Cantidad=%{y}",
         "legendgroup": "Clave platillo=EXT4607",
         "marker": {
          "color": "#EF553B"
         },
         "name": "Clave platillo=EXT4607",
         "offsetgroup": "Clave platillo=EXT4607",
         "orientation": "v",
         "showlegend": true,
         "textposition": "auto",
         "type": "bar",
         "x": [
          "EXTRAS COCINA"
         ],
         "xaxis": "x",
         "y": [
          28
         ],
         "yaxis": "y"
        },
        {
         "alignmentgroup": "True",
         "hoverlabel": {
          "namelength": 0
         },
         "hovertemplate": "Clave platillo=EXT4606<br>Grupo=%{x}<br>Cantidad=%{y}",
         "legendgroup": "Clave platillo=EXT4606",
         "marker": {
          "color": "#00cc96"
         },
         "name": "Clave platillo=EXT4606",
         "offsetgroup": "Clave platillo=EXT4606",
         "orientation": "v",
         "showlegend": true,
         "textposition": "auto",
         "type": "bar",
         "x": [
          "EXTRAS COCINA"
         ],
         "xaxis": "x",
         "y": [
          54
         ],
         "yaxis": "y"
        },
        {
         "alignmentgroup": "True",
         "hoverlabel": {
          "namelength": 0
         },
         "hovertemplate": "Clave platillo=EXT4603<br>Grupo=%{x}<br>Cantidad=%{y}",
         "legendgroup": "Clave platillo=EXT4603",
         "marker": {
          "color": "#ab63fa"
         },
         "name": "Clave platillo=EXT4603",
         "offsetgroup": "Clave platillo=EXT4603",
         "orientation": "v",
         "showlegend": true,
         "textposition": "auto",
         "type": "bar",
         "x": [
          "EXTRAS COCINA"
         ],
         "xaxis": "x",
         "y": [
          7
         ],
         "yaxis": "y"
        },
        {
         "alignmentgroup": "True",
         "hoverlabel": {
          "namelength": 0
         },
         "hovertemplate": "Clave platillo=EXT4602<br>Grupo=%{x}<br>Cantidad=%{y}",
         "legendgroup": "Clave platillo=EXT4602",
         "marker": {
          "color": "#FFA15A"
         },
         "name": "Clave platillo=EXT4602",
         "offsetgroup": "Clave platillo=EXT4602",
         "orientation": "v",
         "showlegend": true,
         "textposition": "auto",
         "type": "bar",
         "x": [
          "EXTRAS COCINA"
         ],
         "xaxis": "x",
         "y": [
          4
         ],
         "yaxis": "y"
        },
        {
         "alignmentgroup": "True",
         "hoverlabel": {
          "namelength": 0
         },
         "hovertemplate": "Clave platillo=EXT4599<br>Grupo=%{x}<br>Cantidad=%{y}",
         "legendgroup": "Clave platillo=EXT4599",
         "marker": {
          "color": "#19d3f3"
         },
         "name": "Clave platillo=EXT4599",
         "offsetgroup": "Clave platillo=EXT4599",
         "orientation": "v",
         "showlegend": true,
         "textposition": "auto",
         "type": "bar",
         "x": [
          "EXTRAS COCINA"
         ],
         "xaxis": "x",
         "y": [
          3
         ],
         "yaxis": "y"
        },
        {
         "alignmentgroup": "True",
         "hoverlabel": {
          "namelength": 0
         },
         "hovertemplate": "Clave platillo=EXT4598<br>Grupo=%{x}<br>Cantidad=%{y}",
         "legendgroup": "Clave platillo=EXT4598",
         "marker": {
          "color": "#FF6692"
         },
         "name": "Clave platillo=EXT4598",
         "offsetgroup": "Clave platillo=EXT4598",
         "orientation": "v",
         "showlegend": true,
         "textposition": "auto",
         "type": "bar",
         "x": [
          "EXTRAS COCINA"
         ],
         "xaxis": "x",
         "y": [
          15
         ],
         "yaxis": "y"
        },
        {
         "alignmentgroup": "True",
         "hoverlabel": {
          "namelength": 0
         },
         "hovertemplate": "Clave platillo=EXT4596<br>Grupo=%{x}<br>Cantidad=%{y}",
         "legendgroup": "Clave platillo=EXT4596",
         "marker": {
          "color": "#B6E880"
         },
         "name": "Clave platillo=EXT4596",
         "offsetgroup": "Clave platillo=EXT4596",
         "orientation": "v",
         "showlegend": true,
         "textposition": "auto",
         "type": "bar",
         "x": [
          "EXTRAS COCINA"
         ],
         "xaxis": "x",
         "y": [
          25
         ],
         "yaxis": "y"
        },
        {
         "alignmentgroup": "True",
         "hoverlabel": {
          "namelength": 0
         },
         "hovertemplate": "Clave platillo=EXT4595<br>Grupo=%{x}<br>Cantidad=%{y}",
         "legendgroup": "Clave platillo=EXT4595",
         "marker": {
          "color": "#FF97FF"
         },
         "name": "Clave platillo=EXT4595",
         "offsetgroup": "Clave platillo=EXT4595",
         "orientation": "v",
         "showlegend": true,
         "textposition": "auto",
         "type": "bar",
         "x": [
          "EXTRAS COCINA"
         ],
         "xaxis": "x",
         "y": [
          4
         ],
         "yaxis": "y"
        },
        {
         "alignmentgroup": "True",
         "hoverlabel": {
          "namelength": 0
         },
         "hovertemplate": "Clave platillo=EXT4594<br>Grupo=%{x}<br>Cantidad=%{y}",
         "legendgroup": "Clave platillo=EXT4594",
         "marker": {
          "color": "#FECB52"
         },
         "name": "Clave platillo=EXT4594",
         "offsetgroup": "Clave platillo=EXT4594",
         "orientation": "v",
         "showlegend": true,
         "textposition": "auto",
         "type": "bar",
         "x": [
          "EXTRAS COCINA"
         ],
         "xaxis": "x",
         "y": [
          1
         ],
         "yaxis": "y"
        },
        {
         "alignmentgroup": "True",
         "hoverlabel": {
          "namelength": 0
         },
         "hovertemplate": "Clave platillo=EXT4593<br>Grupo=%{x}<br>Cantidad=%{y}",
         "legendgroup": "Clave platillo=EXT4593",
         "marker": {
          "color": "#636efa"
         },
         "name": "Clave platillo=EXT4593",
         "offsetgroup": "Clave platillo=EXT4593",
         "orientation": "v",
         "showlegend": true,
         "textposition": "auto",
         "type": "bar",
         "x": [
          "EXTRAS COCINA"
         ],
         "xaxis": "x",
         "y": [
          20
         ],
         "yaxis": "y"
        },
        {
         "alignmentgroup": "True",
         "hoverlabel": {
          "namelength": 0
         },
         "hovertemplate": "Clave platillo=EXT4590<br>Grupo=%{x}<br>Cantidad=%{y}",
         "legendgroup": "Clave platillo=EXT4590",
         "marker": {
          "color": "#EF553B"
         },
         "name": "Clave platillo=EXT4590",
         "offsetgroup": "Clave platillo=EXT4590",
         "orientation": "v",
         "showlegend": true,
         "textposition": "auto",
         "type": "bar",
         "x": [
          "EXTRAS COCINA"
         ],
         "xaxis": "x",
         "y": [
          2
         ],
         "yaxis": "y"
        },
        {
         "alignmentgroup": "True",
         "hoverlabel": {
          "namelength": 0
         },
         "hovertemplate": "Clave platillo=EXT4589<br>Grupo=%{x}<br>Cantidad=%{y}",
         "legendgroup": "Clave platillo=EXT4589",
         "marker": {
          "color": "#00cc96"
         },
         "name": "Clave platillo=EXT4589",
         "offsetgroup": "Clave platillo=EXT4589",
         "orientation": "v",
         "showlegend": true,
         "textposition": "auto",
         "type": "bar",
         "x": [
          "EXTRAS COCINA"
         ],
         "xaxis": "x",
         "y": [
          6
         ],
         "yaxis": "y"
        },
        {
         "alignmentgroup": "True",
         "hoverlabel": {
          "namelength": 0
         },
         "hovertemplate": "Clave platillo=EXT0105<br>Grupo=%{x}<br>Cantidad=%{y}",
         "legendgroup": "Clave platillo=EXT0105",
         "marker": {
          "color": "#ab63fa"
         },
         "name": "Clave platillo=EXT0105",
         "offsetgroup": "Clave platillo=EXT0105",
         "orientation": "v",
         "showlegend": true,
         "textposition": "auto",
         "type": "bar",
         "x": [
          "EXTRAS COCINA"
         ],
         "xaxis": "x",
         "y": [
          8
         ],
         "yaxis": "y"
        },
        {
         "alignmentgroup": "True",
         "hoverlabel": {
          "namelength": 0
         },
         "hovertemplate": "Clave platillo=EXT0104<br>Grupo=%{x}<br>Cantidad=%{y}",
         "legendgroup": "Clave platillo=EXT0104",
         "marker": {
          "color": "#FFA15A"
         },
         "name": "Clave platillo=EXT0104",
         "offsetgroup": "Clave platillo=EXT0104",
         "orientation": "v",
         "showlegend": true,
         "textposition": "auto",
         "type": "bar",
         "x": [
          "EXTRAS COCINA"
         ],
         "xaxis": "x",
         "y": [
          19
         ],
         "yaxis": "y"
        },
        {
         "alignmentgroup": "True",
         "hoverlabel": {
          "namelength": 0
         },
         "hovertemplate": "Clave platillo=EXT0103<br>Grupo=%{x}<br>Cantidad=%{y}",
         "legendgroup": "Clave platillo=EXT0103",
         "marker": {
          "color": "#19d3f3"
         },
         "name": "Clave platillo=EXT0103",
         "offsetgroup": "Clave platillo=EXT0103",
         "orientation": "v",
         "showlegend": true,
         "textposition": "auto",
         "type": "bar",
         "x": [
          "EXTRAS COCINA"
         ],
         "xaxis": "x",
         "y": [
          135
         ],
         "yaxis": "y"
        },
        {
         "alignmentgroup": "True",
         "hoverlabel": {
          "namelength": 0
         },
         "hovertemplate": "Clave platillo=EXT0102<br>Grupo=%{x}<br>Cantidad=%{y}",
         "legendgroup": "Clave platillo=EXT0102",
         "marker": {
          "color": "#FF6692"
         },
         "name": "Clave platillo=EXT0102",
         "offsetgroup": "Clave platillo=EXT0102",
         "orientation": "v",
         "showlegend": true,
         "textposition": "auto",
         "type": "bar",
         "x": [
          "EXTRAS COCINA"
         ],
         "xaxis": "x",
         "y": [
          6
         ],
         "yaxis": "y"
        },
        {
         "alignmentgroup": "True",
         "hoverlabel": {
          "namelength": 0
         },
         "hovertemplate": "Clave platillo=EXT005<br>Grupo=%{x}<br>Cantidad=%{y}",
         "legendgroup": "Clave platillo=EXT005",
         "marker": {
          "color": "#B6E880"
         },
         "name": "Clave platillo=EXT005",
         "offsetgroup": "Clave platillo=EXT005",
         "orientation": "v",
         "showlegend": true,
         "textposition": "auto",
         "type": "bar",
         "x": [
          "EXTRAS BARRA"
         ],
         "xaxis": "x",
         "y": [
          9
         ],
         "yaxis": "y"
        },
        {
         "alignmentgroup": "True",
         "hoverlabel": {
          "namelength": 0
         },
         "hovertemplate": "Clave platillo=EXT004<br>Grupo=%{x}<br>Cantidad=%{y}",
         "legendgroup": "Clave platillo=EXT004",
         "marker": {
          "color": "#FF97FF"
         },
         "name": "Clave platillo=EXT004",
         "offsetgroup": "Clave platillo=EXT004",
         "orientation": "v",
         "showlegend": true,
         "textposition": "auto",
         "type": "bar",
         "x": [
          "EXTRAS BARRA"
         ],
         "xaxis": "x",
         "y": [
          6
         ],
         "yaxis": "y"
        },
        {
         "alignmentgroup": "True",
         "hoverlabel": {
          "namelength": 0
         },
         "hovertemplate": "Clave platillo=EXT003<br>Grupo=%{x}<br>Cantidad=%{y}",
         "legendgroup": "Clave platillo=EXT003",
         "marker": {
          "color": "#FECB52"
         },
         "name": "Clave platillo=EXT003",
         "offsetgroup": "Clave platillo=EXT003",
         "orientation": "v",
         "showlegend": true,
         "textposition": "auto",
         "type": "bar",
         "x": [
          "EXTRAS BARRA"
         ],
         "xaxis": "x",
         "y": [
          8
         ],
         "yaxis": "y"
        },
        {
         "alignmentgroup": "True",
         "hoverlabel": {
          "namelength": 0
         },
         "hovertemplate": "Clave platillo=ENT4<br>Grupo=%{x}<br>Cantidad=%{y}",
         "legendgroup": "Clave platillo=ENT4",
         "marker": {
          "color": "#636efa"
         },
         "name": "Clave platillo=ENT4",
         "offsetgroup": "Clave platillo=ENT4",
         "orientation": "v",
         "showlegend": true,
         "textposition": "auto",
         "type": "bar",
         "x": [
          "ENTRADAS"
         ],
         "xaxis": "x",
         "y": [
          555
         ],
         "yaxis": "y"
        },
        {
         "alignmentgroup": "True",
         "hoverlabel": {
          "namelength": 0
         },
         "hovertemplate": "Clave platillo=ENT3<br>Grupo=%{x}<br>Cantidad=%{y}",
         "legendgroup": "Clave platillo=ENT3",
         "marker": {
          "color": "#EF553B"
         },
         "name": "Clave platillo=ENT3",
         "offsetgroup": "Clave platillo=ENT3",
         "orientation": "v",
         "showlegend": true,
         "textposition": "auto",
         "type": "bar",
         "x": [
          "ENTRADAS"
         ],
         "xaxis": "x",
         "y": [
          45
         ],
         "yaxis": "y"
        },
        {
         "alignmentgroup": "True",
         "hoverlabel": {
          "namelength": 0
         },
         "hovertemplate": "Clave platillo=ENT2<br>Grupo=%{x}<br>Cantidad=%{y}",
         "legendgroup": "Clave platillo=ENT2",
         "marker": {
          "color": "#00cc96"
         },
         "name": "Clave platillo=ENT2",
         "offsetgroup": "Clave platillo=ENT2",
         "orientation": "v",
         "showlegend": true,
         "textposition": "auto",
         "type": "bar",
         "x": [
          "ENTRADAS"
         ],
         "xaxis": "x",
         "y": [
          56
         ],
         "yaxis": "y"
        },
        {
         "alignmentgroup": "True",
         "hoverlabel": {
          "namelength": 0
         },
         "hovertemplate": "Clave platillo=ENT1<br>Grupo=%{x}<br>Cantidad=%{y}",
         "legendgroup": "Clave platillo=ENT1",
         "marker": {
          "color": "#ab63fa"
         },
         "name": "Clave platillo=ENT1",
         "offsetgroup": "Clave platillo=ENT1",
         "orientation": "v",
         "showlegend": true,
         "textposition": "auto",
         "type": "bar",
         "x": [
          "ENTRADAS"
         ],
         "xaxis": "x",
         "y": [
          318
         ],
         "yaxis": "y"
        },
        {
         "alignmentgroup": "True",
         "hoverlabel": {
          "namelength": 0
         },
         "hovertemplate": "Clave platillo=ENS4<br>Grupo=%{x}<br>Cantidad=%{y}",
         "legendgroup": "Clave platillo=ENS4",
         "marker": {
          "color": "#FFA15A"
         },
         "name": "Clave platillo=ENS4",
         "offsetgroup": "Clave platillo=ENS4",
         "orientation": "v",
         "showlegend": true,
         "textposition": "auto",
         "type": "bar",
         "x": [
          "ENSALADAS"
         ],
         "xaxis": "x",
         "y": [
          68
         ],
         "yaxis": "y"
        },
        {
         "alignmentgroup": "True",
         "hoverlabel": {
          "namelength": 0
         },
         "hovertemplate": "Clave platillo=ENS3<br>Grupo=%{x}<br>Cantidad=%{y}",
         "legendgroup": "Clave platillo=ENS3",
         "marker": {
          "color": "#19d3f3"
         },
         "name": "Clave platillo=ENS3",
         "offsetgroup": "Clave platillo=ENS3",
         "orientation": "v",
         "showlegend": true,
         "textposition": "auto",
         "type": "bar",
         "x": [
          "ENSALADAS"
         ],
         "xaxis": "x",
         "y": [
          50
         ],
         "yaxis": "y"
        },
        {
         "alignmentgroup": "True",
         "hoverlabel": {
          "namelength": 0
         },
         "hovertemplate": "Clave platillo=ENS2<br>Grupo=%{x}<br>Cantidad=%{y}",
         "legendgroup": "Clave platillo=ENS2",
         "marker": {
          "color": "#FF6692"
         },
         "name": "Clave platillo=ENS2",
         "offsetgroup": "Clave platillo=ENS2",
         "orientation": "v",
         "showlegend": true,
         "textposition": "auto",
         "type": "bar",
         "x": [
          "ENSALADAS"
         ],
         "xaxis": "x",
         "y": [
          57
         ],
         "yaxis": "y"
        },
        {
         "alignmentgroup": "True",
         "hoverlabel": {
          "namelength": 0
         },
         "hovertemplate": "Clave platillo=ENS1<br>Grupo=%{x}<br>Cantidad=%{y}",
         "legendgroup": "Clave platillo=ENS1",
         "marker": {
          "color": "#B6E880"
         },
         "name": "Clave platillo=ENS1",
         "offsetgroup": "Clave platillo=ENS1",
         "orientation": "v",
         "showlegend": true,
         "textposition": "auto",
         "type": "bar",
         "x": [
          "ENSALADAS"
         ],
         "xaxis": "x",
         "y": [
          81
         ],
         "yaxis": "y"
        },
        {
         "alignmentgroup": "True",
         "hoverlabel": {
          "namelength": 0
         },
         "hovertemplate": "Clave platillo=DES61<br>Grupo=%{x}<br>Cantidad=%{y}",
         "legendgroup": "Clave platillo=DES61",
         "marker": {
          "color": "#FF97FF"
         },
         "name": "Clave platillo=DES61",
         "offsetgroup": "Clave platillo=DES61",
         "orientation": "v",
         "showlegend": true,
         "textposition": "auto",
         "type": "bar",
         "x": [
          "DESTILADOS"
         ],
         "xaxis": "x",
         "y": [
          1
         ],
         "yaxis": "y"
        },
        {
         "alignmentgroup": "True",
         "hoverlabel": {
          "namelength": 0
         },
         "hovertemplate": "Clave platillo=DES5<br>Grupo=%{x}<br>Cantidad=%{y}",
         "legendgroup": "Clave platillo=DES5",
         "marker": {
          "color": "#FECB52"
         },
         "name": "Clave platillo=DES5",
         "offsetgroup": "Clave platillo=DES5",
         "orientation": "v",
         "showlegend": true,
         "textposition": "auto",
         "type": "bar",
         "x": [
          "DESTILADOS"
         ],
         "xaxis": "x",
         "y": [
          14
         ],
         "yaxis": "y"
        },
        {
         "alignmentgroup": "True",
         "hoverlabel": {
          "namelength": 0
         },
         "hovertemplate": "Clave platillo=DES41<br>Grupo=%{x}<br>Cantidad=%{y}",
         "legendgroup": "Clave platillo=DES41",
         "marker": {
          "color": "#636efa"
         },
         "name": "Clave platillo=DES41",
         "offsetgroup": "Clave platillo=DES41",
         "orientation": "v",
         "showlegend": true,
         "textposition": "auto",
         "type": "bar",
         "x": [
          "DESTILADOS"
         ],
         "xaxis": "x",
         "y": [
          4
         ],
         "yaxis": "y"
        },
        {
         "alignmentgroup": "True",
         "hoverlabel": {
          "namelength": 0
         },
         "hovertemplate": "Clave platillo=DES40<br>Grupo=%{x}<br>Cantidad=%{y}",
         "legendgroup": "Clave platillo=DES40",
         "marker": {
          "color": "#EF553B"
         },
         "name": "Clave platillo=DES40",
         "offsetgroup": "Clave platillo=DES40",
         "orientation": "v",
         "showlegend": true,
         "textposition": "auto",
         "type": "bar",
         "x": [
          "DESTILADOS"
         ],
         "xaxis": "x",
         "y": [
          1
         ],
         "yaxis": "y"
        },
        {
         "alignmentgroup": "True",
         "hoverlabel": {
          "namelength": 0
         },
         "hovertemplate": "Clave platillo=DES39<br>Grupo=%{x}<br>Cantidad=%{y}",
         "legendgroup": "Clave platillo=DES39",
         "marker": {
          "color": "#00cc96"
         },
         "name": "Clave platillo=DES39",
         "offsetgroup": "Clave platillo=DES39",
         "orientation": "v",
         "showlegend": true,
         "textposition": "auto",
         "type": "bar",
         "x": [
          "DESTILADOS"
         ],
         "xaxis": "x",
         "y": [
          1
         ],
         "yaxis": "y"
        },
        {
         "alignmentgroup": "True",
         "hoverlabel": {
          "namelength": 0
         },
         "hovertemplate": "Clave platillo=DES36<br>Grupo=%{x}<br>Cantidad=%{y}",
         "legendgroup": "Clave platillo=DES36",
         "marker": {
          "color": "#ab63fa"
         },
         "name": "Clave platillo=DES36",
         "offsetgroup": "Clave platillo=DES36",
         "orientation": "v",
         "showlegend": true,
         "textposition": "auto",
         "type": "bar",
         "x": [
          "DESTILADOS"
         ],
         "xaxis": "x",
         "y": [
          3
         ],
         "yaxis": "y"
        },
        {
         "alignmentgroup": "True",
         "hoverlabel": {
          "namelength": 0
         },
         "hovertemplate": "Clave platillo=DES32<br>Grupo=%{x}<br>Cantidad=%{y}",
         "legendgroup": "Clave platillo=DES32",
         "marker": {
          "color": "#FFA15A"
         },
         "name": "Clave platillo=DES32",
         "offsetgroup": "Clave platillo=DES32",
         "orientation": "v",
         "showlegend": true,
         "textposition": "auto",
         "type": "bar",
         "x": [
          "DESTILADOS"
         ],
         "xaxis": "x",
         "y": [
          7
         ],
         "yaxis": "y"
        },
        {
         "alignmentgroup": "True",
         "hoverlabel": {
          "namelength": 0
         },
         "hovertemplate": "Clave platillo=DES28<br>Grupo=%{x}<br>Cantidad=%{y}",
         "legendgroup": "Clave platillo=DES28",
         "marker": {
          "color": "#19d3f3"
         },
         "name": "Clave platillo=DES28",
         "offsetgroup": "Clave platillo=DES28",
         "orientation": "v",
         "showlegend": true,
         "textposition": "auto",
         "type": "bar",
         "x": [
          "DESTILADOS"
         ],
         "xaxis": "x",
         "y": [
          8
         ],
         "yaxis": "y"
        },
        {
         "alignmentgroup": "True",
         "hoverlabel": {
          "namelength": 0
         },
         "hovertemplate": "Clave platillo=DES27<br>Grupo=%{x}<br>Cantidad=%{y}",
         "legendgroup": "Clave platillo=DES27",
         "marker": {
          "color": "#FF6692"
         },
         "name": "Clave platillo=DES27",
         "offsetgroup": "Clave platillo=DES27",
         "orientation": "v",
         "showlegend": true,
         "textposition": "auto",
         "type": "bar",
         "x": [
          "DESTILADOS"
         ],
         "xaxis": "x",
         "y": [
          14
         ],
         "yaxis": "y"
        },
        {
         "alignmentgroup": "True",
         "hoverlabel": {
          "namelength": 0
         },
         "hovertemplate": "Clave platillo=DES26<br>Grupo=%{x}<br>Cantidad=%{y}",
         "legendgroup": "Clave platillo=DES26",
         "marker": {
          "color": "#B6E880"
         },
         "name": "Clave platillo=DES26",
         "offsetgroup": "Clave platillo=DES26",
         "orientation": "v",
         "showlegend": true,
         "textposition": "auto",
         "type": "bar",
         "x": [
          "DESTILADOS"
         ],
         "xaxis": "x",
         "y": [
          4
         ],
         "yaxis": "y"
        },
        {
         "alignmentgroup": "True",
         "hoverlabel": {
          "namelength": 0
         },
         "hovertemplate": "Clave platillo=DES25<br>Grupo=%{x}<br>Cantidad=%{y}",
         "legendgroup": "Clave platillo=DES25",
         "marker": {
          "color": "#FF97FF"
         },
         "name": "Clave platillo=DES25",
         "offsetgroup": "Clave platillo=DES25",
         "orientation": "v",
         "showlegend": true,
         "textposition": "auto",
         "type": "bar",
         "x": [
          "DESTILADOS"
         ],
         "xaxis": "x",
         "y": [
          2
         ],
         "yaxis": "y"
        },
        {
         "alignmentgroup": "True",
         "hoverlabel": {
          "namelength": 0
         },
         "hovertemplate": "Clave platillo=DES23<br>Grupo=%{x}<br>Cantidad=%{y}",
         "legendgroup": "Clave platillo=DES23",
         "marker": {
          "color": "#FECB52"
         },
         "name": "Clave platillo=DES23",
         "offsetgroup": "Clave platillo=DES23",
         "orientation": "v",
         "showlegend": true,
         "textposition": "auto",
         "type": "bar",
         "x": [
          "DESTILADOS"
         ],
         "xaxis": "x",
         "y": [
          7
         ],
         "yaxis": "y"
        },
        {
         "alignmentgroup": "True",
         "hoverlabel": {
          "namelength": 0
         },
         "hovertemplate": "Clave platillo=DES22<br>Grupo=%{x}<br>Cantidad=%{y}",
         "legendgroup": "Clave platillo=DES22",
         "marker": {
          "color": "#636efa"
         },
         "name": "Clave platillo=DES22",
         "offsetgroup": "Clave platillo=DES22",
         "orientation": "v",
         "showlegend": true,
         "textposition": "auto",
         "type": "bar",
         "x": [
          "DESTILADOS"
         ],
         "xaxis": "x",
         "y": [
          12
         ],
         "yaxis": "y"
        },
        {
         "alignmentgroup": "True",
         "hoverlabel": {
          "namelength": 0
         },
         "hovertemplate": "Clave platillo=DES21<br>Grupo=%{x}<br>Cantidad=%{y}",
         "legendgroup": "Clave platillo=DES21",
         "marker": {
          "color": "#EF553B"
         },
         "name": "Clave platillo=DES21",
         "offsetgroup": "Clave platillo=DES21",
         "orientation": "v",
         "showlegend": true,
         "textposition": "auto",
         "type": "bar",
         "x": [
          "DESTILADOS"
         ],
         "xaxis": "x",
         "y": [
          2
         ],
         "yaxis": "y"
        },
        {
         "alignmentgroup": "True",
         "hoverlabel": {
          "namelength": 0
         },
         "hovertemplate": "Clave platillo=DES20<br>Grupo=%{x}<br>Cantidad=%{y}",
         "legendgroup": "Clave platillo=DES20",
         "marker": {
          "color": "#00cc96"
         },
         "name": "Clave platillo=DES20",
         "offsetgroup": "Clave platillo=DES20",
         "orientation": "v",
         "showlegend": true,
         "textposition": "auto",
         "type": "bar",
         "x": [
          "DESTILADOS"
         ],
         "xaxis": "x",
         "y": [
          2
         ],
         "yaxis": "y"
        },
        {
         "alignmentgroup": "True",
         "hoverlabel": {
          "namelength": 0
         },
         "hovertemplate": "Clave platillo=DES2<br>Grupo=%{x}<br>Cantidad=%{y}",
         "legendgroup": "Clave platillo=DES2",
         "marker": {
          "color": "#ab63fa"
         },
         "name": "Clave platillo=DES2",
         "offsetgroup": "Clave platillo=DES2",
         "orientation": "v",
         "showlegend": true,
         "textposition": "auto",
         "type": "bar",
         "x": [
          "DESTILADOS"
         ],
         "xaxis": "x",
         "y": [
          23
         ],
         "yaxis": "y"
        },
        {
         "alignmentgroup": "True",
         "hoverlabel": {
          "namelength": 0
         },
         "hovertemplate": "Clave platillo=DES19<br>Grupo=%{x}<br>Cantidad=%{y}",
         "legendgroup": "Clave platillo=DES19",
         "marker": {
          "color": "#FFA15A"
         },
         "name": "Clave platillo=DES19",
         "offsetgroup": "Clave platillo=DES19",
         "orientation": "v",
         "showlegend": true,
         "textposition": "auto",
         "type": "bar",
         "x": [
          "DESTILADOS"
         ],
         "xaxis": "x",
         "y": [
          4
         ],
         "yaxis": "y"
        },
        {
         "alignmentgroup": "True",
         "hoverlabel": {
          "namelength": 0
         },
         "hovertemplate": "Clave platillo=DES17<br>Grupo=%{x}<br>Cantidad=%{y}",
         "legendgroup": "Clave platillo=DES17",
         "marker": {
          "color": "#19d3f3"
         },
         "name": "Clave platillo=DES17",
         "offsetgroup": "Clave platillo=DES17",
         "orientation": "v",
         "showlegend": true,
         "textposition": "auto",
         "type": "bar",
         "x": [
          "DESTILADOS"
         ],
         "xaxis": "x",
         "y": [
          4
         ],
         "yaxis": "y"
        },
        {
         "alignmentgroup": "True",
         "hoverlabel": {
          "namelength": 0
         },
         "hovertemplate": "Clave platillo=DES15<br>Grupo=%{x}<br>Cantidad=%{y}",
         "legendgroup": "Clave platillo=DES15",
         "marker": {
          "color": "#FF6692"
         },
         "name": "Clave platillo=DES15",
         "offsetgroup": "Clave platillo=DES15",
         "orientation": "v",
         "showlegend": true,
         "textposition": "auto",
         "type": "bar",
         "x": [
          "DESTILADOS"
         ],
         "xaxis": "x",
         "y": [
          2
         ],
         "yaxis": "y"
        },
        {
         "alignmentgroup": "True",
         "hoverlabel": {
          "namelength": 0
         },
         "hovertemplate": "Clave platillo=DES14<br>Grupo=%{x}<br>Cantidad=%{y}",
         "legendgroup": "Clave platillo=DES14",
         "marker": {
          "color": "#B6E880"
         },
         "name": "Clave platillo=DES14",
         "offsetgroup": "Clave platillo=DES14",
         "orientation": "v",
         "showlegend": true,
         "textposition": "auto",
         "type": "bar",
         "x": [
          "DESTILADOS"
         ],
         "xaxis": "x",
         "y": [
          4
         ],
         "yaxis": "y"
        },
        {
         "alignmentgroup": "True",
         "hoverlabel": {
          "namelength": 0
         },
         "hovertemplate": "Clave platillo=DES12<br>Grupo=%{x}<br>Cantidad=%{y}",
         "legendgroup": "Clave platillo=DES12",
         "marker": {
          "color": "#FF97FF"
         },
         "name": "Clave platillo=DES12",
         "offsetgroup": "Clave platillo=DES12",
         "orientation": "v",
         "showlegend": true,
         "textposition": "auto",
         "type": "bar",
         "x": [
          "DESTILADOS"
         ],
         "xaxis": "x",
         "y": [
          2
         ],
         "yaxis": "y"
        },
        {
         "alignmentgroup": "True",
         "hoverlabel": {
          "namelength": 0
         },
         "hovertemplate": "Clave platillo=DES10<br>Grupo=%{x}<br>Cantidad=%{y}",
         "legendgroup": "Clave platillo=DES10",
         "marker": {
          "color": "#FECB52"
         },
         "name": "Clave platillo=DES10",
         "offsetgroup": "Clave platillo=DES10",
         "orientation": "v",
         "showlegend": true,
         "textposition": "auto",
         "type": "bar",
         "x": [
          "DESTILADOS"
         ],
         "xaxis": "x",
         "y": [
          1
         ],
         "yaxis": "y"
        },
        {
         "alignmentgroup": "True",
         "hoverlabel": {
          "namelength": 0
         },
         "hovertemplate": "Clave platillo=DES1<br>Grupo=%{x}<br>Cantidad=%{y}",
         "legendgroup": "Clave platillo=DES1",
         "marker": {
          "color": "#636efa"
         },
         "name": "Clave platillo=DES1",
         "offsetgroup": "Clave platillo=DES1",
         "orientation": "v",
         "showlegend": true,
         "textposition": "auto",
         "type": "bar",
         "x": [
          "DESTILADOS"
         ],
         "xaxis": "x",
         "y": [
          6
         ],
         "yaxis": "y"
        },
        {
         "alignmentgroup": "True",
         "hoverlabel": {
          "namelength": 0
         },
         "hovertemplate": "Clave platillo=DES08<br>Grupo=%{x}<br>Cantidad=%{y}",
         "legendgroup": "Clave platillo=DES08",
         "marker": {
          "color": "#EF553B"
         },
         "name": "Clave platillo=DES08",
         "offsetgroup": "Clave platillo=DES08",
         "orientation": "v",
         "showlegend": true,
         "textposition": "auto",
         "type": "bar",
         "x": [
          "DESTILADOS"
         ],
         "xaxis": "x",
         "y": [
          3
         ],
         "yaxis": "y"
        },
        {
         "alignmentgroup": "True",
         "hoverlabel": {
          "namelength": 0
         },
         "hovertemplate": "Clave platillo=DES07<br>Grupo=%{x}<br>Cantidad=%{y}",
         "legendgroup": "Clave platillo=DES07",
         "marker": {
          "color": "#00cc96"
         },
         "name": "Clave platillo=DES07",
         "offsetgroup": "Clave platillo=DES07",
         "orientation": "v",
         "showlegend": true,
         "textposition": "auto",
         "type": "bar",
         "x": [
          "DESTILADOS"
         ],
         "xaxis": "x",
         "y": [
          3
         ],
         "yaxis": "y"
        },
        {
         "alignmentgroup": "True",
         "hoverlabel": {
          "namelength": 0
         },
         "hovertemplate": "Clave platillo=DES06<br>Grupo=%{x}<br>Cantidad=%{y}",
         "legendgroup": "Clave platillo=DES06",
         "marker": {
          "color": "#ab63fa"
         },
         "name": "Clave platillo=DES06",
         "offsetgroup": "Clave platillo=DES06",
         "orientation": "v",
         "showlegend": true,
         "textposition": "auto",
         "type": "bar",
         "x": [
          "DESTILADOS"
         ],
         "xaxis": "x",
         "y": [
          14
         ],
         "yaxis": "y"
        },
        {
         "alignmentgroup": "True",
         "hoverlabel": {
          "namelength": 0
         },
         "hovertemplate": "Clave platillo=DES05<br>Grupo=%{x}<br>Cantidad=%{y}",
         "legendgroup": "Clave platillo=DES05",
         "marker": {
          "color": "#FFA15A"
         },
         "name": "Clave platillo=DES05",
         "offsetgroup": "Clave platillo=DES05",
         "orientation": "v",
         "showlegend": true,
         "textposition": "auto",
         "type": "bar",
         "x": [
          "DESTILADOS"
         ],
         "xaxis": "x",
         "y": [
          4
         ],
         "yaxis": "y"
        },
        {
         "alignmentgroup": "True",
         "hoverlabel": {
          "namelength": 0
         },
         "hovertemplate": "Clave platillo=DES04<br>Grupo=%{x}<br>Cantidad=%{y}",
         "legendgroup": "Clave platillo=DES04",
         "marker": {
          "color": "#19d3f3"
         },
         "name": "Clave platillo=DES04",
         "offsetgroup": "Clave platillo=DES04",
         "orientation": "v",
         "showlegend": true,
         "textposition": "auto",
         "type": "bar",
         "x": [
          "DESTILADOS"
         ],
         "xaxis": "x",
         "y": [
          1
         ],
         "yaxis": "y"
        },
        {
         "alignmentgroup": "True",
         "hoverlabel": {
          "namelength": 0
         },
         "hovertemplate": "Clave platillo=DES03<br>Grupo=%{x}<br>Cantidad=%{y}",
         "legendgroup": "Clave platillo=DES03",
         "marker": {
          "color": "#FF6692"
         },
         "name": "Clave platillo=DES03",
         "offsetgroup": "Clave platillo=DES03",
         "orientation": "v",
         "showlegend": true,
         "textposition": "auto",
         "type": "bar",
         "x": [
          "DESTILADOS"
         ],
         "xaxis": "x",
         "y": [
          1
         ],
         "yaxis": "y"
        },
        {
         "alignmentgroup": "True",
         "hoverlabel": {
          "namelength": 0
         },
         "hovertemplate": "Clave platillo=DES02<br>Grupo=%{x}<br>Cantidad=%{y}",
         "legendgroup": "Clave platillo=DES02",
         "marker": {
          "color": "#B6E880"
         },
         "name": "Clave platillo=DES02",
         "offsetgroup": "Clave platillo=DES02",
         "orientation": "v",
         "showlegend": true,
         "textposition": "auto",
         "type": "bar",
         "x": [
          "DESTILADOS"
         ],
         "xaxis": "x",
         "y": [
          5
         ],
         "yaxis": "y"
        },
        {
         "alignmentgroup": "True",
         "hoverlabel": {
          "namelength": 0
         },
         "hovertemplate": "Clave platillo=DES01<br>Grupo=%{x}<br>Cantidad=%{y}",
         "legendgroup": "Clave platillo=DES01",
         "marker": {
          "color": "#FF97FF"
         },
         "name": "Clave platillo=DES01",
         "offsetgroup": "Clave platillo=DES01",
         "orientation": "v",
         "showlegend": true,
         "textposition": "auto",
         "type": "bar",
         "x": [
          "DESTILADOS"
         ],
         "xaxis": "x",
         "y": [
          2
         ],
         "yaxis": "y"
        },
        {
         "alignmentgroup": "True",
         "hoverlabel": {
          "namelength": 0
         },
         "hovertemplate": "Clave platillo=CLA5<br>Grupo=%{x}<br>Cantidad=%{y}",
         "legendgroup": "Clave platillo=CLA5",
         "marker": {
          "color": "#FECB52"
         },
         "name": "Clave platillo=CLA5",
         "offsetgroup": "Clave platillo=CLA5",
         "orientation": "v",
         "showlegend": true,
         "textposition": "auto",
         "type": "bar",
         "x": [
          "CLÁSICOS"
         ],
         "xaxis": "x",
         "y": [
          110
         ],
         "yaxis": "y"
        },
        {
         "alignmentgroup": "True",
         "hoverlabel": {
          "namelength": 0
         },
         "hovertemplate": "Clave platillo=CLA4<br>Grupo=%{x}<br>Cantidad=%{y}",
         "legendgroup": "Clave platillo=CLA4",
         "marker": {
          "color": "#636efa"
         },
         "name": "Clave platillo=CLA4",
         "offsetgroup": "Clave platillo=CLA4",
         "orientation": "v",
         "showlegend": true,
         "textposition": "auto",
         "type": "bar",
         "x": [
          "CLÁSICOS"
         ],
         "xaxis": "x",
         "y": [
          58
         ],
         "yaxis": "y"
        },
        {
         "alignmentgroup": "True",
         "hoverlabel": {
          "namelength": 0
         },
         "hovertemplate": "Clave platillo=CLA3<br>Grupo=%{x}<br>Cantidad=%{y}",
         "legendgroup": "Clave platillo=CLA3",
         "marker": {
          "color": "#EF553B"
         },
         "name": "Clave platillo=CLA3",
         "offsetgroup": "Clave platillo=CLA3",
         "orientation": "v",
         "showlegend": true,
         "textposition": "auto",
         "type": "bar",
         "x": [
          "CLÁSICOS"
         ],
         "xaxis": "x",
         "y": [
          189
         ],
         "yaxis": "y"
        },
        {
         "alignmentgroup": "True",
         "hoverlabel": {
          "namelength": 0
         },
         "hovertemplate": "Clave platillo=CLA2<br>Grupo=%{x}<br>Cantidad=%{y}",
         "legendgroup": "Clave platillo=CLA2",
         "marker": {
          "color": "#00cc96"
         },
         "name": "Clave platillo=CLA2",
         "offsetgroup": "Clave platillo=CLA2",
         "orientation": "v",
         "showlegend": true,
         "textposition": "auto",
         "type": "bar",
         "x": [
          "CLÁSICOS"
         ],
         "xaxis": "x",
         "y": [
          121
         ],
         "yaxis": "y"
        },
        {
         "alignmentgroup": "True",
         "hoverlabel": {
          "namelength": 0
         },
         "hovertemplate": "Clave platillo=CLA1<br>Grupo=%{x}<br>Cantidad=%{y}",
         "legendgroup": "Clave platillo=CLA1",
         "marker": {
          "color": "#ab63fa"
         },
         "name": "Clave platillo=CLA1",
         "offsetgroup": "Clave platillo=CLA1",
         "orientation": "v",
         "showlegend": true,
         "textposition": "auto",
         "type": "bar",
         "x": [
          "CLÁSICOS"
         ],
         "xaxis": "x",
         "y": [
          1219
         ],
         "yaxis": "y"
        },
        {
         "alignmentgroup": "True",
         "hoverlabel": {
          "namelength": 0
         },
         "hovertemplate": "Clave platillo=BSP9<br>Grupo=%{x}<br>Cantidad=%{y}",
         "legendgroup": "Clave platillo=BSP9",
         "marker": {
          "color": "#FFA15A"
         },
         "name": "Clave platillo=BSP9",
         "offsetgroup": "Clave platillo=BSP9",
         "orientation": "v",
         "showlegend": true,
         "textposition": "auto",
         "type": "bar",
         "x": [
          "BEBIDAS SÚPER"
         ],
         "xaxis": "x",
         "y": [
          5
         ],
         "yaxis": "y"
        },
        {
         "alignmentgroup": "True",
         "hoverlabel": {
          "namelength": 0
         },
         "hovertemplate": "Clave platillo=BSP7<br>Grupo=%{x}<br>Cantidad=%{y}",
         "legendgroup": "Clave platillo=BSP7",
         "marker": {
          "color": "#19d3f3"
         },
         "name": "Clave platillo=BSP7",
         "offsetgroup": "Clave platillo=BSP7",
         "orientation": "v",
         "showlegend": true,
         "textposition": "auto",
         "type": "bar",
         "x": [
          "BEBIDAS SÚPER"
         ],
         "xaxis": "x",
         "y": [
          3
         ],
         "yaxis": "y"
        },
        {
         "alignmentgroup": "True",
         "hoverlabel": {
          "namelength": 0
         },
         "hovertemplate": "Clave platillo=BSP6<br>Grupo=%{x}<br>Cantidad=%{y}",
         "legendgroup": "Clave platillo=BSP6",
         "marker": {
          "color": "#FF6692"
         },
         "name": "Clave platillo=BSP6",
         "offsetgroup": "Clave platillo=BSP6",
         "orientation": "v",
         "showlegend": true,
         "textposition": "auto",
         "type": "bar",
         "x": [
          "BEBIDAS SÚPER"
         ],
         "xaxis": "x",
         "y": [
          1
         ],
         "yaxis": "y"
        },
        {
         "alignmentgroup": "True",
         "hoverlabel": {
          "namelength": 0
         },
         "hovertemplate": "Clave platillo=BSP5<br>Grupo=%{x}<br>Cantidad=%{y}",
         "legendgroup": "Clave platillo=BSP5",
         "marker": {
          "color": "#B6E880"
         },
         "name": "Clave platillo=BSP5",
         "offsetgroup": "Clave platillo=BSP5",
         "orientation": "v",
         "showlegend": true,
         "textposition": "auto",
         "type": "bar",
         "x": [
          "BEBIDAS SÚPER"
         ],
         "xaxis": "x",
         "y": [
          3
         ],
         "yaxis": "y"
        },
        {
         "alignmentgroup": "True",
         "hoverlabel": {
          "namelength": 0
         },
         "hovertemplate": "Clave platillo=BSP3<br>Grupo=%{x}<br>Cantidad=%{y}",
         "legendgroup": "Clave platillo=BSP3",
         "marker": {
          "color": "#FF97FF"
         },
         "name": "Clave platillo=BSP3",
         "offsetgroup": "Clave platillo=BSP3",
         "orientation": "v",
         "showlegend": true,
         "textposition": "auto",
         "type": "bar",
         "x": [
          "BEBIDAS SÚPER"
         ],
         "xaxis": "x",
         "y": [
          7
         ],
         "yaxis": "y"
        },
        {
         "alignmentgroup": "True",
         "hoverlabel": {
          "namelength": 0
         },
         "hovertemplate": "Clave platillo=BSP2<br>Grupo=%{x}<br>Cantidad=%{y}",
         "legendgroup": "Clave platillo=BSP2",
         "marker": {
          "color": "#FECB52"
         },
         "name": "Clave platillo=BSP2",
         "offsetgroup": "Clave platillo=BSP2",
         "orientation": "v",
         "showlegend": true,
         "textposition": "auto",
         "type": "bar",
         "x": [
          "BEBIDAS SÚPER"
         ],
         "xaxis": "x",
         "y": [
          2
         ],
         "yaxis": "y"
        },
        {
         "alignmentgroup": "True",
         "hoverlabel": {
          "namelength": 0
         },
         "hovertemplate": "Clave platillo=BSP18<br>Grupo=%{x}<br>Cantidad=%{y}",
         "legendgroup": "Clave platillo=BSP18",
         "marker": {
          "color": "#636efa"
         },
         "name": "Clave platillo=BSP18",
         "offsetgroup": "Clave platillo=BSP18",
         "orientation": "v",
         "showlegend": true,
         "textposition": "auto",
         "type": "bar",
         "x": [
          "BEBIDAS SÚPER"
         ],
         "xaxis": "x",
         "y": [
          1
         ],
         "yaxis": "y"
        },
        {
         "alignmentgroup": "True",
         "hoverlabel": {
          "namelength": 0
         },
         "hovertemplate": "Clave platillo=BSP17<br>Grupo=%{x}<br>Cantidad=%{y}",
         "legendgroup": "Clave platillo=BSP17",
         "marker": {
          "color": "#EF553B"
         },
         "name": "Clave platillo=BSP17",
         "offsetgroup": "Clave platillo=BSP17",
         "orientation": "v",
         "showlegend": true,
         "textposition": "auto",
         "type": "bar",
         "x": [
          "BEBIDAS SÚPER"
         ],
         "xaxis": "x",
         "y": [
          3
         ],
         "yaxis": "y"
        },
        {
         "alignmentgroup": "True",
         "hoverlabel": {
          "namelength": 0
         },
         "hovertemplate": "Clave platillo=BSP16<br>Grupo=%{x}<br>Cantidad=%{y}",
         "legendgroup": "Clave platillo=BSP16",
         "marker": {
          "color": "#00cc96"
         },
         "name": "Clave platillo=BSP16",
         "offsetgroup": "Clave platillo=BSP16",
         "orientation": "v",
         "showlegend": true,
         "textposition": "auto",
         "type": "bar",
         "x": [
          "BEBIDAS SÚPER"
         ],
         "xaxis": "x",
         "y": [
          3
         ],
         "yaxis": "y"
        },
        {
         "alignmentgroup": "True",
         "hoverlabel": {
          "namelength": 0
         },
         "hovertemplate": "Clave platillo=BSP15<br>Grupo=%{x}<br>Cantidad=%{y}",
         "legendgroup": "Clave platillo=BSP15",
         "marker": {
          "color": "#ab63fa"
         },
         "name": "Clave platillo=BSP15",
         "offsetgroup": "Clave platillo=BSP15",
         "orientation": "v",
         "showlegend": true,
         "textposition": "auto",
         "type": "bar",
         "x": [
          "BEBIDAS SÚPER"
         ],
         "xaxis": "x",
         "y": [
          24
         ],
         "yaxis": "y"
        },
        {
         "alignmentgroup": "True",
         "hoverlabel": {
          "namelength": 0
         },
         "hovertemplate": "Clave platillo=BSP14<br>Grupo=%{x}<br>Cantidad=%{y}",
         "legendgroup": "Clave platillo=BSP14",
         "marker": {
          "color": "#FFA15A"
         },
         "name": "Clave platillo=BSP14",
         "offsetgroup": "Clave platillo=BSP14",
         "orientation": "v",
         "showlegend": true,
         "textposition": "auto",
         "type": "bar",
         "x": [
          "BEBIDAS SÚPER"
         ],
         "xaxis": "x",
         "y": [
          1
         ],
         "yaxis": "y"
        },
        {
         "alignmentgroup": "True",
         "hoverlabel": {
          "namelength": 0
         },
         "hovertemplate": "Clave platillo=BSP12<br>Grupo=%{x}<br>Cantidad=%{y}",
         "legendgroup": "Clave platillo=BSP12",
         "marker": {
          "color": "#19d3f3"
         },
         "name": "Clave platillo=BSP12",
         "offsetgroup": "Clave platillo=BSP12",
         "orientation": "v",
         "showlegend": true,
         "textposition": "auto",
         "type": "bar",
         "x": [
          "BEBIDAS SÚPER"
         ],
         "xaxis": "x",
         "y": [
          1
         ],
         "yaxis": "y"
        },
        {
         "alignmentgroup": "True",
         "hoverlabel": {
          "namelength": 0
         },
         "hovertemplate": "Clave platillo=BSP11<br>Grupo=%{x}<br>Cantidad=%{y}",
         "legendgroup": "Clave platillo=BSP11",
         "marker": {
          "color": "#FF6692"
         },
         "name": "Clave platillo=BSP11",
         "offsetgroup": "Clave platillo=BSP11",
         "orientation": "v",
         "showlegend": true,
         "textposition": "auto",
         "type": "bar",
         "x": [
          "BEBIDAS SÚPER"
         ],
         "xaxis": "x",
         "y": [
          3
         ],
         "yaxis": "y"
        },
        {
         "alignmentgroup": "True",
         "hoverlabel": {
          "namelength": 0
         },
         "hovertemplate": "Clave platillo=BSP1<br>Grupo=%{x}<br>Cantidad=%{y}",
         "legendgroup": "Clave platillo=BSP1",
         "marker": {
          "color": "#B6E880"
         },
         "name": "Clave platillo=BSP1",
         "offsetgroup": "Clave platillo=BSP1",
         "orientation": "v",
         "showlegend": true,
         "textposition": "auto",
         "type": "bar",
         "x": [
          "BEBIDAS SÚPER"
         ],
         "xaxis": "x",
         "y": [
          14
         ],
         "yaxis": "y"
        },
        {
         "alignmentgroup": "True",
         "hoverlabel": {
          "namelength": 0
         },
         "hovertemplate": "Clave platillo=BSA9<br>Grupo=%{x}<br>Cantidad=%{y}",
         "legendgroup": "Clave platillo=BSA9",
         "marker": {
          "color": "#FF97FF"
         },
         "name": "Clave platillo=BSA9",
         "offsetgroup": "Clave platillo=BSA9",
         "orientation": "v",
         "showlegend": true,
         "textposition": "auto",
         "type": "bar",
         "x": [
          "BEBIDAS SIN ALCOHOL"
         ],
         "xaxis": "x",
         "y": [
          65
         ],
         "yaxis": "y"
        },
        {
         "alignmentgroup": "True",
         "hoverlabel": {
          "namelength": 0
         },
         "hovertemplate": "Clave platillo=BSA8<br>Grupo=%{x}<br>Cantidad=%{y}",
         "legendgroup": "Clave platillo=BSA8",
         "marker": {
          "color": "#FECB52"
         },
         "name": "Clave platillo=BSA8",
         "offsetgroup": "Clave platillo=BSA8",
         "orientation": "v",
         "showlegend": true,
         "textposition": "auto",
         "type": "bar",
         "x": [
          "BEBIDAS SIN ALCOHOL"
         ],
         "xaxis": "x",
         "y": [
          338
         ],
         "yaxis": "y"
        },
        {
         "alignmentgroup": "True",
         "hoverlabel": {
          "namelength": 0
         },
         "hovertemplate": "Clave platillo=BSA7<br>Grupo=%{x}<br>Cantidad=%{y}",
         "legendgroup": "Clave platillo=BSA7",
         "marker": {
          "color": "#636efa"
         },
         "name": "Clave platillo=BSA7",
         "offsetgroup": "Clave platillo=BSA7",
         "orientation": "v",
         "showlegend": true,
         "textposition": "auto",
         "type": "bar",
         "x": [
          "BEBIDAS SIN ALCOHOL"
         ],
         "xaxis": "x",
         "y": [
          29
         ],
         "yaxis": "y"
        },
        {
         "alignmentgroup": "True",
         "hoverlabel": {
          "namelength": 0
         },
         "hovertemplate": "Clave platillo=BSA6<br>Grupo=%{x}<br>Cantidad=%{y}",
         "legendgroup": "Clave platillo=BSA6",
         "marker": {
          "color": "#EF553B"
         },
         "name": "Clave platillo=BSA6",
         "offsetgroup": "Clave platillo=BSA6",
         "orientation": "v",
         "showlegend": true,
         "textposition": "auto",
         "type": "bar",
         "x": [
          "BEBIDAS SIN ALCOHOL"
         ],
         "xaxis": "x",
         "y": [
          143
         ],
         "yaxis": "y"
        },
        {
         "alignmentgroup": "True",
         "hoverlabel": {
          "namelength": 0
         },
         "hovertemplate": "Clave platillo=BSA5<br>Grupo=%{x}<br>Cantidad=%{y}",
         "legendgroup": "Clave platillo=BSA5",
         "marker": {
          "color": "#00cc96"
         },
         "name": "Clave platillo=BSA5",
         "offsetgroup": "Clave platillo=BSA5",
         "orientation": "v",
         "showlegend": true,
         "textposition": "auto",
         "type": "bar",
         "x": [
          "BEBIDAS SIN ALCOHOL"
         ],
         "xaxis": "x",
         "y": [
          252
         ],
         "yaxis": "y"
        },
        {
         "alignmentgroup": "True",
         "hoverlabel": {
          "namelength": 0
         },
         "hovertemplate": "Clave platillo=BSA4<br>Grupo=%{x}<br>Cantidad=%{y}",
         "legendgroup": "Clave platillo=BSA4",
         "marker": {
          "color": "#ab63fa"
         },
         "name": "Clave platillo=BSA4",
         "offsetgroup": "Clave platillo=BSA4",
         "orientation": "v",
         "showlegend": true,
         "textposition": "auto",
         "type": "bar",
         "x": [
          "BEBIDAS SIN ALCOHOL"
         ],
         "xaxis": "x",
         "y": [
          109
         ],
         "yaxis": "y"
        },
        {
         "alignmentgroup": "True",
         "hoverlabel": {
          "namelength": 0
         },
         "hovertemplate": "Clave platillo=BSA3<br>Grupo=%{x}<br>Cantidad=%{y}",
         "legendgroup": "Clave platillo=BSA3",
         "marker": {
          "color": "#FFA15A"
         },
         "name": "Clave platillo=BSA3",
         "offsetgroup": "Clave platillo=BSA3",
         "orientation": "v",
         "showlegend": true,
         "textposition": "auto",
         "type": "bar",
         "x": [
          "BEBIDAS SIN ALCOHOL"
         ],
         "xaxis": "x",
         "y": [
          186
         ],
         "yaxis": "y"
        },
        {
         "alignmentgroup": "True",
         "hoverlabel": {
          "namelength": 0
         },
         "hovertemplate": "Clave platillo=BSA2<br>Grupo=%{x}<br>Cantidad=%{y}",
         "legendgroup": "Clave platillo=BSA2",
         "marker": {
          "color": "#19d3f3"
         },
         "name": "Clave platillo=BSA2",
         "offsetgroup": "Clave platillo=BSA2",
         "orientation": "v",
         "showlegend": true,
         "textposition": "auto",
         "type": "bar",
         "x": [
          "BEBIDAS SIN ALCOHOL"
         ],
         "xaxis": "x",
         "y": [
          500
         ],
         "yaxis": "y"
        },
        {
         "alignmentgroup": "True",
         "hoverlabel": {
          "namelength": 0
         },
         "hovertemplate": "Clave platillo=BSA1<br>Grupo=%{x}<br>Cantidad=%{y}",
         "legendgroup": "Clave platillo=BSA1",
         "marker": {
          "color": "#FF6692"
         },
         "name": "Clave platillo=BSA1",
         "offsetgroup": "Clave platillo=BSA1",
         "orientation": "v",
         "showlegend": true,
         "textposition": "auto",
         "type": "bar",
         "x": [
          "BEBIDAS SIN ALCOHOL"
         ],
         "xaxis": "x",
         "y": [
          692
         ],
         "yaxis": "y"
        },
        {
         "alignmentgroup": "True",
         "hoverlabel": {
          "namelength": 0
         },
         "hovertemplate": "Clave platillo=BCA8<br>Grupo=%{x}<br>Cantidad=%{y}",
         "legendgroup": "Clave platillo=BCA8",
         "marker": {
          "color": "#B6E880"
         },
         "name": "Clave platillo=BCA8",
         "offsetgroup": "Clave platillo=BCA8",
         "orientation": "v",
         "showlegend": true,
         "textposition": "auto",
         "type": "bar",
         "x": [
          "BEBIDAS CON ALCOHOL"
         ],
         "xaxis": "x",
         "y": [
          1981
         ],
         "yaxis": "y"
        },
        {
         "alignmentgroup": "True",
         "hoverlabel": {
          "namelength": 0
         },
         "hovertemplate": "Clave platillo=BCA7<br>Grupo=%{x}<br>Cantidad=%{y}",
         "legendgroup": "Clave platillo=BCA7",
         "marker": {
          "color": "#FF97FF"
         },
         "name": "Clave platillo=BCA7",
         "offsetgroup": "Clave platillo=BCA7",
         "orientation": "v",
         "showlegend": true,
         "textposition": "auto",
         "type": "bar",
         "x": [
          "BEBIDAS CON ALCOHOL"
         ],
         "xaxis": "x",
         "y": [
          29
         ],
         "yaxis": "y"
        },
        {
         "alignmentgroup": "True",
         "hoverlabel": {
          "namelength": 0
         },
         "hovertemplate": "Clave platillo=BCA6<br>Grupo=%{x}<br>Cantidad=%{y}",
         "legendgroup": "Clave platillo=BCA6",
         "marker": {
          "color": "#FECB52"
         },
         "name": "Clave platillo=BCA6",
         "offsetgroup": "Clave platillo=BCA6",
         "orientation": "v",
         "showlegend": true,
         "textposition": "auto",
         "type": "bar",
         "x": [
          "BEBIDAS CON ALCOHOL"
         ],
         "xaxis": "x",
         "y": [
          248
         ],
         "yaxis": "y"
        },
        {
         "alignmentgroup": "True",
         "hoverlabel": {
          "namelength": 0
         },
         "hovertemplate": "Clave platillo=BCA5<br>Grupo=%{x}<br>Cantidad=%{y}",
         "legendgroup": "Clave platillo=BCA5",
         "marker": {
          "color": "#636efa"
         },
         "name": "Clave platillo=BCA5",
         "offsetgroup": "Clave platillo=BCA5",
         "orientation": "v",
         "showlegend": true,
         "textposition": "auto",
         "type": "bar",
         "x": [
          "BEBIDAS CON ALCOHOL"
         ],
         "xaxis": "x",
         "y": [
          232
         ],
         "yaxis": "y"
        },
        {
         "alignmentgroup": "True",
         "hoverlabel": {
          "namelength": 0
         },
         "hovertemplate": "Clave platillo=BCA4<br>Grupo=%{x}<br>Cantidad=%{y}",
         "legendgroup": "Clave platillo=BCA4",
         "marker": {
          "color": "#EF553B"
         },
         "name": "Clave platillo=BCA4",
         "offsetgroup": "Clave platillo=BCA4",
         "orientation": "v",
         "showlegend": true,
         "textposition": "auto",
         "type": "bar",
         "x": [
          "BEBIDAS CON ALCOHOL"
         ],
         "xaxis": "x",
         "y": [
          205
         ],
         "yaxis": "y"
        },
        {
         "alignmentgroup": "True",
         "hoverlabel": {
          "namelength": 0
         },
         "hovertemplate": "Clave platillo=BCA3<br>Grupo=%{x}<br>Cantidad=%{y}",
         "legendgroup": "Clave platillo=BCA3",
         "marker": {
          "color": "#00cc96"
         },
         "name": "Clave platillo=BCA3",
         "offsetgroup": "Clave platillo=BCA3",
         "orientation": "v",
         "showlegend": true,
         "textposition": "auto",
         "type": "bar",
         "x": [
          "BEBIDAS CON ALCOHOL"
         ],
         "xaxis": "x",
         "y": [
          151
         ],
         "yaxis": "y"
        },
        {
         "alignmentgroup": "True",
         "hoverlabel": {
          "namelength": 0
         },
         "hovertemplate": "Clave platillo=BCA2<br>Grupo=%{x}<br>Cantidad=%{y}",
         "legendgroup": "Clave platillo=BCA2",
         "marker": {
          "color": "#ab63fa"
         },
         "name": "Clave platillo=BCA2",
         "offsetgroup": "Clave platillo=BCA2",
         "orientation": "v",
         "showlegend": true,
         "textposition": "auto",
         "type": "bar",
         "x": [
          "BEBIDAS CON ALCOHOL"
         ],
         "xaxis": "x",
         "y": [
          69
         ],
         "yaxis": "y"
        },
        {
         "alignmentgroup": "True",
         "hoverlabel": {
          "namelength": 0
         },
         "hovertemplate": "Clave platillo=BCA10<br>Grupo=%{x}<br>Cantidad=%{y}",
         "legendgroup": "Clave platillo=BCA10",
         "marker": {
          "color": "#FFA15A"
         },
         "name": "Clave platillo=BCA10",
         "offsetgroup": "Clave platillo=BCA10",
         "orientation": "v",
         "showlegend": true,
         "textposition": "auto",
         "type": "bar",
         "x": [
          "BEBIDAS CON ALCOHOL"
         ],
         "xaxis": "x",
         "y": [
          12
         ],
         "yaxis": "y"
        },
        {
         "alignmentgroup": "True",
         "hoverlabel": {
          "namelength": 0
         },
         "hovertemplate": "Clave platillo=BCA1<br>Grupo=%{x}<br>Cantidad=%{y}",
         "legendgroup": "Clave platillo=BCA1",
         "marker": {
          "color": "#19d3f3"
         },
         "name": "Clave platillo=BCA1",
         "offsetgroup": "Clave platillo=BCA1",
         "orientation": "v",
         "showlegend": true,
         "textposition": "auto",
         "type": "bar",
         "x": [
          "BEBIDAS CON ALCOHOL"
         ],
         "xaxis": "x",
         "y": [
          221
         ],
         "yaxis": "y"
        },
        {
         "alignmentgroup": "True",
         "hoverlabel": {
          "namelength": 0
         },
         "hovertemplate": "Clave platillo=BAS9<br>Grupo=%{x}<br>Cantidad=%{y}",
         "legendgroup": "Clave platillo=BAS9",
         "marker": {
          "color": "#FF6692"
         },
         "name": "Clave platillo=BAS9",
         "offsetgroup": "Clave platillo=BAS9",
         "orientation": "v",
         "showlegend": true,
         "textposition": "auto",
         "type": "bar",
         "x": [
          "BÁSICOS"
         ],
         "xaxis": "x",
         "y": [
          14
         ],
         "yaxis": "y"
        },
        {
         "alignmentgroup": "True",
         "hoverlabel": {
          "namelength": 0
         },
         "hovertemplate": "Clave platillo=BAS8<br>Grupo=%{x}<br>Cantidad=%{y}",
         "legendgroup": "Clave platillo=BAS8",
         "marker": {
          "color": "#B6E880"
         },
         "name": "Clave platillo=BAS8",
         "offsetgroup": "Clave platillo=BAS8",
         "orientation": "v",
         "showlegend": true,
         "textposition": "auto",
         "type": "bar",
         "x": [
          "BÁSICOS"
         ],
         "xaxis": "x",
         "y": [
          6
         ],
         "yaxis": "y"
        },
        {
         "alignmentgroup": "True",
         "hoverlabel": {
          "namelength": 0
         },
         "hovertemplate": "Clave platillo=BAS7<br>Grupo=%{x}<br>Cantidad=%{y}",
         "legendgroup": "Clave platillo=BAS7",
         "marker": {
          "color": "#FF97FF"
         },
         "name": "Clave platillo=BAS7",
         "offsetgroup": "Clave platillo=BAS7",
         "orientation": "v",
         "showlegend": true,
         "textposition": "auto",
         "type": "bar",
         "x": [
          "BÁSICOS"
         ],
         "xaxis": "x",
         "y": [
          40
         ],
         "yaxis": "y"
        },
        {
         "alignmentgroup": "True",
         "hoverlabel": {
          "namelength": 0
         },
         "hovertemplate": "Clave platillo=BAS6<br>Grupo=%{x}<br>Cantidad=%{y}",
         "legendgroup": "Clave platillo=BAS6",
         "marker": {
          "color": "#FECB52"
         },
         "name": "Clave platillo=BAS6",
         "offsetgroup": "Clave platillo=BAS6",
         "orientation": "v",
         "showlegend": true,
         "textposition": "auto",
         "type": "bar",
         "x": [
          "BÁSICOS"
         ],
         "xaxis": "x",
         "y": [
          25
         ],
         "yaxis": "y"
        },
        {
         "alignmentgroup": "True",
         "hoverlabel": {
          "namelength": 0
         },
         "hovertemplate": "Clave platillo=BAS53<br>Grupo=%{x}<br>Cantidad=%{y}",
         "legendgroup": "Clave platillo=BAS53",
         "marker": {
          "color": "#636efa"
         },
         "name": "Clave platillo=BAS53",
         "offsetgroup": "Clave platillo=BAS53",
         "orientation": "v",
         "showlegend": true,
         "textposition": "auto",
         "type": "bar",
         "x": [
          "BÁSICOS"
         ],
         "xaxis": "x",
         "y": [
          339
         ],
         "yaxis": "y"
        },
        {
         "alignmentgroup": "True",
         "hoverlabel": {
          "namelength": 0
         },
         "hovertemplate": "Clave platillo=BAS52<br>Grupo=%{x}<br>Cantidad=%{y}",
         "legendgroup": "Clave platillo=BAS52",
         "marker": {
          "color": "#EF553B"
         },
         "name": "Clave platillo=BAS52",
         "offsetgroup": "Clave platillo=BAS52",
         "orientation": "v",
         "showlegend": true,
         "textposition": "auto",
         "type": "bar",
         "x": [
          "BÁSICOS"
         ],
         "xaxis": "x",
         "y": [
          174
         ],
         "yaxis": "y"
        },
        {
         "alignmentgroup": "True",
         "hoverlabel": {
          "namelength": 0
         },
         "hovertemplate": "Clave platillo=BAS51<br>Grupo=%{x}<br>Cantidad=%{y}",
         "legendgroup": "Clave platillo=BAS51",
         "marker": {
          "color": "#00cc96"
         },
         "name": "Clave platillo=BAS51",
         "offsetgroup": "Clave platillo=BAS51",
         "orientation": "v",
         "showlegend": true,
         "textposition": "auto",
         "type": "bar",
         "x": [
          "BÁSICOS"
         ],
         "xaxis": "x",
         "y": [
          470
         ],
         "yaxis": "y"
        },
        {
         "alignmentgroup": "True",
         "hoverlabel": {
          "namelength": 0
         },
         "hovertemplate": "Clave platillo=BAS50<br>Grupo=%{x}<br>Cantidad=%{y}",
         "legendgroup": "Clave platillo=BAS50",
         "marker": {
          "color": "#ab63fa"
         },
         "name": "Clave platillo=BAS50",
         "offsetgroup": "Clave platillo=BAS50",
         "orientation": "v",
         "showlegend": true,
         "textposition": "auto",
         "type": "bar",
         "x": [
          "BÁSICOS"
         ],
         "xaxis": "x",
         "y": [
          1420
         ],
         "yaxis": "y"
        },
        {
         "alignmentgroup": "True",
         "hoverlabel": {
          "namelength": 0
         },
         "hovertemplate": "Clave platillo=BAS5<br>Grupo=%{x}<br>Cantidad=%{y}",
         "legendgroup": "Clave platillo=BAS5",
         "marker": {
          "color": "#FFA15A"
         },
         "name": "Clave platillo=BAS5",
         "offsetgroup": "Clave platillo=BAS5",
         "orientation": "v",
         "showlegend": true,
         "textposition": "auto",
         "type": "bar",
         "x": [
          "BÁSICOS"
         ],
         "xaxis": "x",
         "y": [
          77
         ],
         "yaxis": "y"
        },
        {
         "alignmentgroup": "True",
         "hoverlabel": {
          "namelength": 0
         },
         "hovertemplate": "Clave platillo=BAS4<br>Grupo=%{x}<br>Cantidad=%{y}",
         "legendgroup": "Clave platillo=BAS4",
         "marker": {
          "color": "#19d3f3"
         },
         "name": "Clave platillo=BAS4",
         "offsetgroup": "Clave platillo=BAS4",
         "orientation": "v",
         "showlegend": true,
         "textposition": "auto",
         "type": "bar",
         "x": [
          "BÁSICOS"
         ],
         "xaxis": "x",
         "y": [
          49
         ],
         "yaxis": "y"
        },
        {
         "alignmentgroup": "True",
         "hoverlabel": {
          "namelength": 0
         },
         "hovertemplate": "Clave platillo=BAS3<br>Grupo=%{x}<br>Cantidad=%{y}",
         "legendgroup": "Clave platillo=BAS3",
         "marker": {
          "color": "#FF6692"
         },
         "name": "Clave platillo=BAS3",
         "offsetgroup": "Clave platillo=BAS3",
         "orientation": "v",
         "showlegend": true,
         "textposition": "auto",
         "type": "bar",
         "x": [
          "BÁSICOS"
         ],
         "xaxis": "x",
         "y": [
          170
         ],
         "yaxis": "y"
        },
        {
         "alignmentgroup": "True",
         "hoverlabel": {
          "namelength": 0
         },
         "hovertemplate": "Clave platillo=BAS2<br>Grupo=%{x}<br>Cantidad=%{y}",
         "legendgroup": "Clave platillo=BAS2",
         "marker": {
          "color": "#B6E880"
         },
         "name": "Clave platillo=BAS2",
         "offsetgroup": "Clave platillo=BAS2",
         "orientation": "v",
         "showlegend": true,
         "textposition": "auto",
         "type": "bar",
         "x": [
          "BÁSICOS"
         ],
         "xaxis": "x",
         "y": [
          713
         ],
         "yaxis": "y"
        },
        {
         "alignmentgroup": "True",
         "hoverlabel": {
          "namelength": 0
         },
         "hovertemplate": "Clave platillo=BAS14<br>Grupo=%{x}<br>Cantidad=%{y}",
         "legendgroup": "Clave platillo=BAS14",
         "marker": {
          "color": "#FF97FF"
         },
         "name": "Clave platillo=BAS14",
         "offsetgroup": "Clave platillo=BAS14",
         "orientation": "v",
         "showlegend": true,
         "textposition": "auto",
         "type": "bar",
         "x": [
          "BÁSICOS"
         ],
         "xaxis": "x",
         "y": [
          8
         ],
         "yaxis": "y"
        },
        {
         "alignmentgroup": "True",
         "hoverlabel": {
          "namelength": 0
         },
         "hovertemplate": "Clave platillo=BAS13<br>Grupo=%{x}<br>Cantidad=%{y}",
         "legendgroup": "Clave platillo=BAS13",
         "marker": {
          "color": "#FECB52"
         },
         "name": "Clave platillo=BAS13",
         "offsetgroup": "Clave platillo=BAS13",
         "orientation": "v",
         "showlegend": true,
         "textposition": "auto",
         "type": "bar",
         "x": [
          "BÁSICOS"
         ],
         "xaxis": "x",
         "y": [
          25
         ],
         "yaxis": "y"
        },
        {
         "alignmentgroup": "True",
         "hoverlabel": {
          "namelength": 0
         },
         "hovertemplate": "Clave platillo=BAS12<br>Grupo=%{x}<br>Cantidad=%{y}",
         "legendgroup": "Clave platillo=BAS12",
         "marker": {
          "color": "#636efa"
         },
         "name": "Clave platillo=BAS12",
         "offsetgroup": "Clave platillo=BAS12",
         "orientation": "v",
         "showlegend": true,
         "textposition": "auto",
         "type": "bar",
         "x": [
          "BÁSICOS"
         ],
         "xaxis": "x",
         "y": [
          11
         ],
         "yaxis": "y"
        },
        {
         "alignmentgroup": "True",
         "hoverlabel": {
          "namelength": 0
         },
         "hovertemplate": "Clave platillo=BAS11<br>Grupo=%{x}<br>Cantidad=%{y}",
         "legendgroup": "Clave platillo=BAS11",
         "marker": {
          "color": "#EF553B"
         },
         "name": "Clave platillo=BAS11",
         "offsetgroup": "Clave platillo=BAS11",
         "orientation": "v",
         "showlegend": true,
         "textposition": "auto",
         "type": "bar",
         "x": [
          "BÁSICOS"
         ],
         "xaxis": "x",
         "y": [
          1
         ],
         "yaxis": "y"
        },
        {
         "alignmentgroup": "True",
         "hoverlabel": {
          "namelength": 0
         },
         "hovertemplate": "Clave platillo=BAS10<br>Grupo=%{x}<br>Cantidad=%{y}",
         "legendgroup": "Clave platillo=BAS10",
         "marker": {
          "color": "#00cc96"
         },
         "name": "Clave platillo=BAS10",
         "offsetgroup": "Clave platillo=BAS10",
         "orientation": "v",
         "showlegend": true,
         "textposition": "auto",
         "type": "bar",
         "x": [
          "BÁSICOS"
         ],
         "xaxis": "x",
         "y": [
          4
         ],
         "yaxis": "y"
        },
        {
         "alignmentgroup": "True",
         "hoverlabel": {
          "namelength": 0
         },
         "hovertemplate": "Clave platillo=BAS1<br>Grupo=%{x}<br>Cantidad=%{y}",
         "legendgroup": "Clave platillo=BAS1",
         "marker": {
          "color": "#ab63fa"
         },
         "name": "Clave platillo=BAS1",
         "offsetgroup": "Clave platillo=BAS1",
         "orientation": "v",
         "showlegend": true,
         "textposition": "auto",
         "type": "bar",
         "x": [
          "BÁSICOS"
         ],
         "xaxis": "x",
         "y": [
          2712
         ],
         "yaxis": "y"
        }
       ],
       "layout": {
        "barmode": "relative",
        "height": 600,
        "legend": {
         "tracegroupgap": 0
        },
        "margin": {
         "t": 60
        },
        "template": {
         "data": {
          "bar": [
           {
            "error_x": {
             "color": "#2a3f5f"
            },
            "error_y": {
             "color": "#2a3f5f"
            },
            "marker": {
             "line": {
              "color": "#E5ECF6",
              "width": 0.5
             }
            },
            "type": "bar"
           }
          ],
          "barpolar": [
           {
            "marker": {
             "line": {
              "color": "#E5ECF6",
              "width": 0.5
             }
            },
            "type": "barpolar"
           }
          ],
          "carpet": [
           {
            "aaxis": {
             "endlinecolor": "#2a3f5f",
             "gridcolor": "white",
             "linecolor": "white",
             "minorgridcolor": "white",
             "startlinecolor": "#2a3f5f"
            },
            "baxis": {
             "endlinecolor": "#2a3f5f",
             "gridcolor": "white",
             "linecolor": "white",
             "minorgridcolor": "white",
             "startlinecolor": "#2a3f5f"
            },
            "type": "carpet"
           }
          ],
          "choropleth": [
           {
            "colorbar": {
             "outlinewidth": 0,
             "ticks": ""
            },
            "type": "choropleth"
           }
          ],
          "contour": [
           {
            "colorbar": {
             "outlinewidth": 0,
             "ticks": ""
            },
            "colorscale": [
             [
              0,
              "#0d0887"
             ],
             [
              0.1111111111111111,
              "#46039f"
             ],
             [
              0.2222222222222222,
              "#7201a8"
             ],
             [
              0.3333333333333333,
              "#9c179e"
             ],
             [
              0.4444444444444444,
              "#bd3786"
             ],
             [
              0.5555555555555556,
              "#d8576b"
             ],
             [
              0.6666666666666666,
              "#ed7953"
             ],
             [
              0.7777777777777778,
              "#fb9f3a"
             ],
             [
              0.8888888888888888,
              "#fdca26"
             ],
             [
              1,
              "#f0f921"
             ]
            ],
            "type": "contour"
           }
          ],
          "contourcarpet": [
           {
            "colorbar": {
             "outlinewidth": 0,
             "ticks": ""
            },
            "type": "contourcarpet"
           }
          ],
          "heatmap": [
           {
            "colorbar": {
             "outlinewidth": 0,
             "ticks": ""
            },
            "colorscale": [
             [
              0,
              "#0d0887"
             ],
             [
              0.1111111111111111,
              "#46039f"
             ],
             [
              0.2222222222222222,
              "#7201a8"
             ],
             [
              0.3333333333333333,
              "#9c179e"
             ],
             [
              0.4444444444444444,
              "#bd3786"
             ],
             [
              0.5555555555555556,
              "#d8576b"
             ],
             [
              0.6666666666666666,
              "#ed7953"
             ],
             [
              0.7777777777777778,
              "#fb9f3a"
             ],
             [
              0.8888888888888888,
              "#fdca26"
             ],
             [
              1,
              "#f0f921"
             ]
            ],
            "type": "heatmap"
           }
          ],
          "heatmapgl": [
           {
            "colorbar": {
             "outlinewidth": 0,
             "ticks": ""
            },
            "colorscale": [
             [
              0,
              "#0d0887"
             ],
             [
              0.1111111111111111,
              "#46039f"
             ],
             [
              0.2222222222222222,
              "#7201a8"
             ],
             [
              0.3333333333333333,
              "#9c179e"
             ],
             [
              0.4444444444444444,
              "#bd3786"
             ],
             [
              0.5555555555555556,
              "#d8576b"
             ],
             [
              0.6666666666666666,
              "#ed7953"
             ],
             [
              0.7777777777777778,
              "#fb9f3a"
             ],
             [
              0.8888888888888888,
              "#fdca26"
             ],
             [
              1,
              "#f0f921"
             ]
            ],
            "type": "heatmapgl"
           }
          ],
          "histogram": [
           {
            "marker": {
             "colorbar": {
              "outlinewidth": 0,
              "ticks": ""
             }
            },
            "type": "histogram"
           }
          ],
          "histogram2d": [
           {
            "colorbar": {
             "outlinewidth": 0,
             "ticks": ""
            },
            "colorscale": [
             [
              0,
              "#0d0887"
             ],
             [
              0.1111111111111111,
              "#46039f"
             ],
             [
              0.2222222222222222,
              "#7201a8"
             ],
             [
              0.3333333333333333,
              "#9c179e"
             ],
             [
              0.4444444444444444,
              "#bd3786"
             ],
             [
              0.5555555555555556,
              "#d8576b"
             ],
             [
              0.6666666666666666,
              "#ed7953"
             ],
             [
              0.7777777777777778,
              "#fb9f3a"
             ],
             [
              0.8888888888888888,
              "#fdca26"
             ],
             [
              1,
              "#f0f921"
             ]
            ],
            "type": "histogram2d"
           }
          ],
          "histogram2dcontour": [
           {
            "colorbar": {
             "outlinewidth": 0,
             "ticks": ""
            },
            "colorscale": [
             [
              0,
              "#0d0887"
             ],
             [
              0.1111111111111111,
              "#46039f"
             ],
             [
              0.2222222222222222,
              "#7201a8"
             ],
             [
              0.3333333333333333,
              "#9c179e"
             ],
             [
              0.4444444444444444,
              "#bd3786"
             ],
             [
              0.5555555555555556,
              "#d8576b"
             ],
             [
              0.6666666666666666,
              "#ed7953"
             ],
             [
              0.7777777777777778,
              "#fb9f3a"
             ],
             [
              0.8888888888888888,
              "#fdca26"
             ],
             [
              1,
              "#f0f921"
             ]
            ],
            "type": "histogram2dcontour"
           }
          ],
          "mesh3d": [
           {
            "colorbar": {
             "outlinewidth": 0,
             "ticks": ""
            },
            "type": "mesh3d"
           }
          ],
          "parcoords": [
           {
            "line": {
             "colorbar": {
              "outlinewidth": 0,
              "ticks": ""
             }
            },
            "type": "parcoords"
           }
          ],
          "scatter": [
           {
            "marker": {
             "colorbar": {
              "outlinewidth": 0,
              "ticks": ""
             }
            },
            "type": "scatter"
           }
          ],
          "scatter3d": [
           {
            "line": {
             "colorbar": {
              "outlinewidth": 0,
              "ticks": ""
             }
            },
            "marker": {
             "colorbar": {
              "outlinewidth": 0,
              "ticks": ""
             }
            },
            "type": "scatter3d"
           }
          ],
          "scattercarpet": [
           {
            "marker": {
             "colorbar": {
              "outlinewidth": 0,
              "ticks": ""
             }
            },
            "type": "scattercarpet"
           }
          ],
          "scattergeo": [
           {
            "marker": {
             "colorbar": {
              "outlinewidth": 0,
              "ticks": ""
             }
            },
            "type": "scattergeo"
           }
          ],
          "scattergl": [
           {
            "marker": {
             "colorbar": {
              "outlinewidth": 0,
              "ticks": ""
             }
            },
            "type": "scattergl"
           }
          ],
          "scattermapbox": [
           {
            "marker": {
             "colorbar": {
              "outlinewidth": 0,
              "ticks": ""
             }
            },
            "type": "scattermapbox"
           }
          ],
          "scatterpolar": [
           {
            "marker": {
             "colorbar": {
              "outlinewidth": 0,
              "ticks": ""
             }
            },
            "type": "scatterpolar"
           }
          ],
          "scatterpolargl": [
           {
            "marker": {
             "colorbar": {
              "outlinewidth": 0,
              "ticks": ""
             }
            },
            "type": "scatterpolargl"
           }
          ],
          "scatterternary": [
           {
            "marker": {
             "colorbar": {
              "outlinewidth": 0,
              "ticks": ""
             }
            },
            "type": "scatterternary"
           }
          ],
          "surface": [
           {
            "colorbar": {
             "outlinewidth": 0,
             "ticks": ""
            },
            "colorscale": [
             [
              0,
              "#0d0887"
             ],
             [
              0.1111111111111111,
              "#46039f"
             ],
             [
              0.2222222222222222,
              "#7201a8"
             ],
             [
              0.3333333333333333,
              "#9c179e"
             ],
             [
              0.4444444444444444,
              "#bd3786"
             ],
             [
              0.5555555555555556,
              "#d8576b"
             ],
             [
              0.6666666666666666,
              "#ed7953"
             ],
             [
              0.7777777777777778,
              "#fb9f3a"
             ],
             [
              0.8888888888888888,
              "#fdca26"
             ],
             [
              1,
              "#f0f921"
             ]
            ],
            "type": "surface"
           }
          ],
          "table": [
           {
            "cells": {
             "fill": {
              "color": "#EBF0F8"
             },
             "line": {
              "color": "white"
             }
            },
            "header": {
             "fill": {
              "color": "#C8D4E3"
             },
             "line": {
              "color": "white"
             }
            },
            "type": "table"
           }
          ]
         },
         "layout": {
          "annotationdefaults": {
           "arrowcolor": "#2a3f5f",
           "arrowhead": 0,
           "arrowwidth": 1
          },
          "colorscale": {
           "diverging": [
            [
             0,
             "#8e0152"
            ],
            [
             0.1,
             "#c51b7d"
            ],
            [
             0.2,
             "#de77ae"
            ],
            [
             0.3,
             "#f1b6da"
            ],
            [
             0.4,
             "#fde0ef"
            ],
            [
             0.5,
             "#f7f7f7"
            ],
            [
             0.6,
             "#e6f5d0"
            ],
            [
             0.7,
             "#b8e186"
            ],
            [
             0.8,
             "#7fbc41"
            ],
            [
             0.9,
             "#4d9221"
            ],
            [
             1,
             "#276419"
            ]
           ],
           "sequential": [
            [
             0,
             "#0d0887"
            ],
            [
             0.1111111111111111,
             "#46039f"
            ],
            [
             0.2222222222222222,
             "#7201a8"
            ],
            [
             0.3333333333333333,
             "#9c179e"
            ],
            [
             0.4444444444444444,
             "#bd3786"
            ],
            [
             0.5555555555555556,
             "#d8576b"
            ],
            [
             0.6666666666666666,
             "#ed7953"
            ],
            [
             0.7777777777777778,
             "#fb9f3a"
            ],
            [
             0.8888888888888888,
             "#fdca26"
            ],
            [
             1,
             "#f0f921"
            ]
           ],
           "sequentialminus": [
            [
             0,
             "#0d0887"
            ],
            [
             0.1111111111111111,
             "#46039f"
            ],
            [
             0.2222222222222222,
             "#7201a8"
            ],
            [
             0.3333333333333333,
             "#9c179e"
            ],
            [
             0.4444444444444444,
             "#bd3786"
            ],
            [
             0.5555555555555556,
             "#d8576b"
            ],
            [
             0.6666666666666666,
             "#ed7953"
            ],
            [
             0.7777777777777778,
             "#fb9f3a"
            ],
            [
             0.8888888888888888,
             "#fdca26"
            ],
            [
             1,
             "#f0f921"
            ]
           ]
          },
          "colorway": [
           "#636efa",
           "#EF553B",
           "#00cc96",
           "#ab63fa",
           "#FFA15A",
           "#19d3f3",
           "#FF6692",
           "#B6E880",
           "#FF97FF",
           "#FECB52"
          ],
          "font": {
           "color": "#2a3f5f"
          },
          "geo": {
           "bgcolor": "white",
           "lakecolor": "white",
           "landcolor": "#E5ECF6",
           "showlakes": true,
           "showland": true,
           "subunitcolor": "white"
          },
          "hoverlabel": {
           "align": "left"
          },
          "hovermode": "closest",
          "mapbox": {
           "style": "light"
          },
          "paper_bgcolor": "white",
          "plot_bgcolor": "#E5ECF6",
          "polar": {
           "angularaxis": {
            "gridcolor": "white",
            "linecolor": "white",
            "ticks": ""
           },
           "bgcolor": "#E5ECF6",
           "radialaxis": {
            "gridcolor": "white",
            "linecolor": "white",
            "ticks": ""
           }
          },
          "scene": {
           "xaxis": {
            "backgroundcolor": "#E5ECF6",
            "gridcolor": "white",
            "gridwidth": 2,
            "linecolor": "white",
            "showbackground": true,
            "ticks": "",
            "zerolinecolor": "white"
           },
           "yaxis": {
            "backgroundcolor": "#E5ECF6",
            "gridcolor": "white",
            "gridwidth": 2,
            "linecolor": "white",
            "showbackground": true,
            "ticks": "",
            "zerolinecolor": "white"
           },
           "zaxis": {
            "backgroundcolor": "#E5ECF6",
            "gridcolor": "white",
            "gridwidth": 2,
            "linecolor": "white",
            "showbackground": true,
            "ticks": "",
            "zerolinecolor": "white"
           }
          },
          "shapedefaults": {
           "line": {
            "color": "#2a3f5f"
           }
          },
          "ternary": {
           "aaxis": {
            "gridcolor": "white",
            "linecolor": "white",
            "ticks": ""
           },
           "baxis": {
            "gridcolor": "white",
            "linecolor": "white",
            "ticks": ""
           },
           "bgcolor": "#E5ECF6",
           "caxis": {
            "gridcolor": "white",
            "linecolor": "white",
            "ticks": ""
           }
          },
          "title": {
           "x": 0.05
          },
          "xaxis": {
           "automargin": true,
           "gridcolor": "white",
           "linecolor": "white",
           "ticks": "",
           "zerolinecolor": "white",
           "zerolinewidth": 2
          },
          "yaxis": {
           "automargin": true,
           "gridcolor": "white",
           "linecolor": "white",
           "ticks": "",
           "zerolinecolor": "white",
           "zerolinewidth": 2
          }
         }
        },
        "xaxis": {
         "anchor": "y",
         "domain": [
          0,
          0.98
         ],
         "title": {
          "text": "Grupo"
         }
        },
        "yaxis": {
         "anchor": "x",
         "domain": [
          0,
          1
         ],
         "title": {
          "text": "Cantidad"
         }
        }
       }
      },
      "text/html": [
       "<div>\n",
       "        \n",
       "        \n",
       "            <div id=\"c69b22a7-9466-46b8-99ac-a99be118f0f7\" class=\"plotly-graph-div\" style=\"height:600px; width:100%;\"></div>\n",
       "            <script type=\"text/javascript\">\n",
       "                require([\"plotly\"], function(Plotly) {\n",
       "                    window.PLOTLYENV=window.PLOTLYENV || {};\n",
       "                    \n",
       "                if (document.getElementById(\"c69b22a7-9466-46b8-99ac-a99be118f0f7\")) {\n",
       "                    Plotly.newPlot(\n",
       "                        'c69b22a7-9466-46b8-99ac-a99be118f0f7',\n",
       "                        [{\"alignmentgroup\": \"True\", \"hoverlabel\": {\"namelength\": 0}, \"hovertemplate\": \"Clave platillo=mcla9006<br>Grupo=%{x}<br>Cantidad=%{y}\", \"legendgroup\": \"Clave platillo=mcla9006\", \"marker\": {\"color\": \"#636efa\"}, \"name\": \"Clave platillo=mcla9006\", \"offsetgroup\": \"Clave platillo=mcla9006\", \"orientation\": \"v\", \"showlegend\": true, \"textposition\": \"auto\", \"type\": \"bar\", \"x\": [\"CL\\u00c1SICOS\"], \"xaxis\": \"x\", \"y\": [8.0], \"yaxis\": \"y\"}, {\"alignmentgroup\": \"True\", \"hoverlabel\": {\"namelength\": 0}, \"hovertemplate\": \"Clave platillo=mcl90009<br>Grupo=%{x}<br>Cantidad=%{y}\", \"legendgroup\": \"Clave platillo=mcl90009\", \"marker\": {\"color\": \"#EF553B\"}, \"name\": \"Clave platillo=mcl90009\", \"offsetgroup\": \"Clave platillo=mcl90009\", \"orientation\": \"v\", \"showlegend\": true, \"textposition\": \"auto\", \"type\": \"bar\", \"x\": [\"CL\\u00c1SICOS\"], \"xaxis\": \"x\", \"y\": [1.0], \"yaxis\": \"y\"}, {\"alignmentgroup\": \"True\", \"hoverlabel\": {\"namelength\": 0}, \"hovertemplate\": \"Clave platillo=mcl90005<br>Grupo=%{x}<br>Cantidad=%{y}\", \"legendgroup\": \"Clave platillo=mcl90005\", \"marker\": {\"color\": \"#00cc96\"}, \"name\": \"Clave platillo=mcl90005\", \"offsetgroup\": \"Clave platillo=mcl90005\", \"orientation\": \"v\", \"showlegend\": true, \"textposition\": \"auto\", \"type\": \"bar\", \"x\": [\"CL\\u00c1SICOS\"], \"xaxis\": \"x\", \"y\": [1.0], \"yaxis\": \"y\"}, {\"alignmentgroup\": \"True\", \"hoverlabel\": {\"namelength\": 0}, \"hovertemplate\": \"Clave platillo=mcl90004<br>Grupo=%{x}<br>Cantidad=%{y}\", \"legendgroup\": \"Clave platillo=mcl90004\", \"marker\": {\"color\": \"#ab63fa\"}, \"name\": \"Clave platillo=mcl90004\", \"offsetgroup\": \"Clave platillo=mcl90004\", \"orientation\": \"v\", \"showlegend\": true, \"textposition\": \"auto\", \"type\": \"bar\", \"x\": [\"CL\\u00c1SICOS\"], \"xaxis\": \"x\", \"y\": [6.0], \"yaxis\": \"y\"}, {\"alignmentgroup\": \"True\", \"hoverlabel\": {\"namelength\": 0}, \"hovertemplate\": \"Clave platillo=bebi03<br>Grupo=%{x}<br>Cantidad=%{y}\", \"legendgroup\": \"Clave platillo=bebi03\", \"marker\": {\"color\": \"#FFA15A\"}, \"name\": \"Clave platillo=bebi03\", \"offsetgroup\": \"Clave platillo=bebi03\", \"orientation\": \"v\", \"showlegend\": true, \"textposition\": \"auto\", \"type\": \"bar\", \"x\": [\"BEBIDAS CON ALCOHOL\"], \"xaxis\": \"x\", \"y\": [75.0], \"yaxis\": \"y\"}, {\"alignmentgroup\": \"True\", \"hoverlabel\": {\"namelength\": 0}, \"hovertemplate\": \"Clave platillo=bebi02<br>Grupo=%{x}<br>Cantidad=%{y}\", \"legendgroup\": \"Clave platillo=bebi02\", \"marker\": {\"color\": \"#19d3f3\"}, \"name\": \"Clave platillo=bebi02\", \"offsetgroup\": \"Clave platillo=bebi02\", \"orientation\": \"v\", \"showlegend\": true, \"textposition\": \"auto\", \"type\": \"bar\", \"x\": [\"BEBIDAS CON ALCOHOL\"], \"xaxis\": \"x\", \"y\": [35.0], \"yaxis\": \"y\"}, {\"alignmentgroup\": \"True\", \"hoverlabel\": {\"namelength\": 0}, \"hovertemplate\": \"Clave platillo=bebi01<br>Grupo=%{x}<br>Cantidad=%{y}\", \"legendgroup\": \"Clave platillo=bebi01\", \"marker\": {\"color\": \"#FF6692\"}, \"name\": \"Clave platillo=bebi01\", \"offsetgroup\": \"Clave platillo=bebi01\", \"orientation\": \"v\", \"showlegend\": true, \"textposition\": \"auto\", \"type\": \"bar\", \"x\": [\"BEBIDAS CON ALCOHOL\"], \"xaxis\": \"x\", \"y\": [26.0], \"yaxis\": \"y\"}, {\"alignmentgroup\": \"True\", \"hoverlabel\": {\"namelength\": 0}, \"hovertemplate\": \"Clave platillo=bebi006<br>Grupo=%{x}<br>Cantidad=%{y}\", \"legendgroup\": \"Clave platillo=bebi006\", \"marker\": {\"color\": \"#B6E880\"}, \"name\": \"Clave platillo=bebi006\", \"offsetgroup\": \"Clave platillo=bebi006\", \"orientation\": \"v\", \"showlegend\": true, \"textposition\": \"auto\", \"type\": \"bar\", \"x\": [\"BEBIDAS CON ALCOHOL\"], \"xaxis\": \"x\", \"y\": [55.0], \"yaxis\": \"y\"}, {\"alignmentgroup\": \"True\", \"hoverlabel\": {\"namelength\": 0}, \"hovertemplate\": \"Clave platillo=bebi005<br>Grupo=%{x}<br>Cantidad=%{y}\", \"legendgroup\": \"Clave platillo=bebi005\", \"marker\": {\"color\": \"#FF97FF\"}, \"name\": \"Clave platillo=bebi005\", \"offsetgroup\": \"Clave platillo=bebi005\", \"orientation\": \"v\", \"showlegend\": true, \"textposition\": \"auto\", \"type\": \"bar\", \"x\": [\"BEBIDAS CON ALCOHOL\"], \"xaxis\": \"x\", \"y\": [11.0], \"yaxis\": \"y\"}, {\"alignmentgroup\": \"True\", \"hoverlabel\": {\"namelength\": 0}, \"hovertemplate\": \"Clave platillo=bebi004<br>Grupo=%{x}<br>Cantidad=%{y}\", \"legendgroup\": \"Clave platillo=bebi004\", \"marker\": {\"color\": \"#FECB52\"}, \"name\": \"Clave platillo=bebi004\", \"offsetgroup\": \"Clave platillo=bebi004\", \"orientation\": \"v\", \"showlegend\": true, \"textposition\": \"auto\", \"type\": \"bar\", \"x\": [\"BEBIDAS CON ALCOHOL\"], \"xaxis\": \"x\", \"y\": [55.0], \"yaxis\": \"y\"}, {\"alignmentgroup\": \"True\", \"hoverlabel\": {\"namelength\": 0}, \"hovertemplate\": \"Clave platillo=bas15<br>Grupo=%{x}<br>Cantidad=%{y}\", \"legendgroup\": \"Clave platillo=bas15\", \"marker\": {\"color\": \"#636efa\"}, \"name\": \"Clave platillo=bas15\", \"offsetgroup\": \"Clave platillo=bas15\", \"orientation\": \"v\", \"showlegend\": true, \"textposition\": \"auto\", \"type\": \"bar\", \"x\": [\"B\\u00c1SICOS\"], \"xaxis\": \"x\", \"y\": [96.0], \"yaxis\": \"y\"}, {\"alignmentgroup\": \"True\", \"hoverlabel\": {\"namelength\": 0}, \"hovertemplate\": \"Clave platillo=SAN4<br>Grupo=%{x}<br>Cantidad=%{y}\", \"legendgroup\": \"Clave platillo=SAN4\", \"marker\": {\"color\": \"#EF553B\"}, \"name\": \"Clave platillo=SAN4\", \"offsetgroup\": \"Clave platillo=SAN4\", \"orientation\": \"v\", \"showlegend\": true, \"textposition\": \"auto\", \"type\": \"bar\", \"x\": [\"SANDWICHES\"], \"xaxis\": \"x\", \"y\": [107.0], \"yaxis\": \"y\"}, {\"alignmentgroup\": \"True\", \"hoverlabel\": {\"namelength\": 0}, \"hovertemplate\": \"Clave platillo=SAN3<br>Grupo=%{x}<br>Cantidad=%{y}\", \"legendgroup\": \"Clave platillo=SAN3\", \"marker\": {\"color\": \"#00cc96\"}, \"name\": \"Clave platillo=SAN3\", \"offsetgroup\": \"Clave platillo=SAN3\", \"orientation\": \"v\", \"showlegend\": true, \"textposition\": \"auto\", \"type\": \"bar\", \"x\": [\"SANDWICHES\"], \"xaxis\": \"x\", \"y\": [179.0], \"yaxis\": \"y\"}, {\"alignmentgroup\": \"True\", \"hoverlabel\": {\"namelength\": 0}, \"hovertemplate\": \"Clave platillo=SAN2<br>Grupo=%{x}<br>Cantidad=%{y}\", \"legendgroup\": \"Clave platillo=SAN2\", \"marker\": {\"color\": \"#ab63fa\"}, \"name\": \"Clave platillo=SAN2\", \"offsetgroup\": \"Clave platillo=SAN2\", \"orientation\": \"v\", \"showlegend\": true, \"textposition\": \"auto\", \"type\": \"bar\", \"x\": [\"SANDWICHES\"], \"xaxis\": \"x\", \"y\": [154.0], \"yaxis\": \"y\"}, {\"alignmentgroup\": \"True\", \"hoverlabel\": {\"namelength\": 0}, \"hovertemplate\": \"Clave platillo=SAN1<br>Grupo=%{x}<br>Cantidad=%{y}\", \"legendgroup\": \"Clave platillo=SAN1\", \"marker\": {\"color\": \"#FFA15A\"}, \"name\": \"Clave platillo=SAN1\", \"offsetgroup\": \"Clave platillo=SAN1\", \"orientation\": \"v\", \"showlegend\": true, \"textposition\": \"auto\", \"type\": \"bar\", \"x\": [\"SANDWICHES\"], \"xaxis\": \"x\", \"y\": [209.0], \"yaxis\": \"y\"}, {\"alignmentgroup\": \"True\", \"hoverlabel\": {\"namelength\": 0}, \"hovertemplate\": \"Clave platillo=PPP4<br>Grupo=%{x}<br>Cantidad=%{y}\", \"legendgroup\": \"Clave platillo=PPP4\", \"marker\": {\"color\": \"#19d3f3\"}, \"name\": \"Clave platillo=PPP4\", \"offsetgroup\": \"Clave platillo=PPP4\", \"orientation\": \"v\", \"showlegend\": true, \"textposition\": \"auto\", \"type\": \"bar\", \"x\": [\"PAPAS, PAPAS Y M\\u00c1S PAPAS\"], \"xaxis\": \"x\", \"y\": [86.0], \"yaxis\": \"y\"}, {\"alignmentgroup\": \"True\", \"hoverlabel\": {\"namelength\": 0}, \"hovertemplate\": \"Clave platillo=PPP3<br>Grupo=%{x}<br>Cantidad=%{y}\", \"legendgroup\": \"Clave platillo=PPP3\", \"marker\": {\"color\": \"#FF6692\"}, \"name\": \"Clave platillo=PPP3\", \"offsetgroup\": \"Clave platillo=PPP3\", \"orientation\": \"v\", \"showlegend\": true, \"textposition\": \"auto\", \"type\": \"bar\", \"x\": [\"PAPAS, PAPAS Y M\\u00c1S PAPAS\"], \"xaxis\": \"x\", \"y\": [24.0], \"yaxis\": \"y\"}, {\"alignmentgroup\": \"True\", \"hoverlabel\": {\"namelength\": 0}, \"hovertemplate\": \"Clave platillo=PPP2<br>Grupo=%{x}<br>Cantidad=%{y}\", \"legendgroup\": \"Clave platillo=PPP2\", \"marker\": {\"color\": \"#B6E880\"}, \"name\": \"Clave platillo=PPP2\", \"offsetgroup\": \"Clave platillo=PPP2\", \"orientation\": \"v\", \"showlegend\": true, \"textposition\": \"auto\", \"type\": \"bar\", \"x\": [\"PAPAS, PAPAS Y M\\u00c1S PAPAS\"], \"xaxis\": \"x\", \"y\": [207.0], \"yaxis\": \"y\"}, {\"alignmentgroup\": \"True\", \"hoverlabel\": {\"namelength\": 0}, \"hovertemplate\": \"Clave platillo=PPP1<br>Grupo=%{x}<br>Cantidad=%{y}\", \"legendgroup\": \"Clave platillo=PPP1\", \"marker\": {\"color\": \"#FF97FF\"}, \"name\": \"Clave platillo=PPP1\", \"offsetgroup\": \"Clave platillo=PPP1\", \"orientation\": \"v\", \"showlegend\": true, \"textposition\": \"auto\", \"type\": \"bar\", \"x\": [\"PAPAS, PAPAS Y M\\u00c1S PAPAS\"], \"xaxis\": \"x\", \"y\": [193.0], \"yaxis\": \"y\"}, {\"alignmentgroup\": \"True\", \"hoverlabel\": {\"namelength\": 0}, \"hovertemplate\": \"Clave platillo=POS5<br>Grupo=%{x}<br>Cantidad=%{y}\", \"legendgroup\": \"Clave platillo=POS5\", \"marker\": {\"color\": \"#FECB52\"}, \"name\": \"Clave platillo=POS5\", \"offsetgroup\": \"Clave platillo=POS5\", \"orientation\": \"v\", \"showlegend\": true, \"textposition\": \"auto\", \"type\": \"bar\", \"x\": [\"POSTRES\"], \"xaxis\": \"x\", \"y\": [19.0], \"yaxis\": \"y\"}, {\"alignmentgroup\": \"True\", \"hoverlabel\": {\"namelength\": 0}, \"hovertemplate\": \"Clave platillo=POS4<br>Grupo=%{x}<br>Cantidad=%{y}\", \"legendgroup\": \"Clave platillo=POS4\", \"marker\": {\"color\": \"#636efa\"}, \"name\": \"Clave platillo=POS4\", \"offsetgroup\": \"Clave platillo=POS4\", \"orientation\": \"v\", \"showlegend\": true, \"textposition\": \"auto\", \"type\": \"bar\", \"x\": [\"POSTRES\"], \"xaxis\": \"x\", \"y\": [10.0], \"yaxis\": \"y\"}, {\"alignmentgroup\": \"True\", \"hoverlabel\": {\"namelength\": 0}, \"hovertemplate\": \"Clave platillo=POS3<br>Grupo=%{x}<br>Cantidad=%{y}\", \"legendgroup\": \"Clave platillo=POS3\", \"marker\": {\"color\": \"#EF553B\"}, \"name\": \"Clave platillo=POS3\", \"offsetgroup\": \"Clave platillo=POS3\", \"orientation\": \"v\", \"showlegend\": true, \"textposition\": \"auto\", \"type\": \"bar\", \"x\": [\"POSTRES\"], \"xaxis\": \"x\", \"y\": [30.0], \"yaxis\": \"y\"}, {\"alignmentgroup\": \"True\", \"hoverlabel\": {\"namelength\": 0}, \"hovertemplate\": \"Clave platillo=POS2<br>Grupo=%{x}<br>Cantidad=%{y}\", \"legendgroup\": \"Clave platillo=POS2\", \"marker\": {\"color\": \"#00cc96\"}, \"name\": \"Clave platillo=POS2\", \"offsetgroup\": \"Clave platillo=POS2\", \"orientation\": \"v\", \"showlegend\": true, \"textposition\": \"auto\", \"type\": \"bar\", \"x\": [\"POSTRES\"], \"xaxis\": \"x\", \"y\": [53.0], \"yaxis\": \"y\"}, {\"alignmentgroup\": \"True\", \"hoverlabel\": {\"namelength\": 0}, \"hovertemplate\": \"Clave platillo=POS1<br>Grupo=%{x}<br>Cantidad=%{y}\", \"legendgroup\": \"Clave platillo=POS1\", \"marker\": {\"color\": \"#ab63fa\"}, \"name\": \"Clave platillo=POS1\", \"offsetgroup\": \"Clave platillo=POS1\", \"orientation\": \"v\", \"showlegend\": true, \"textposition\": \"auto\", \"type\": \"bar\", \"x\": [\"POSTRES\"], \"xaxis\": \"x\", \"y\": [212.0], \"yaxis\": \"y\"}, {\"alignmentgroup\": \"True\", \"hoverlabel\": {\"namelength\": 0}, \"hovertemplate\": \"Clave platillo=PAS478602<br>Grupo=%{x}<br>Cantidad=%{y}\", \"legendgroup\": \"Clave platillo=PAS478602\", \"marker\": {\"color\": \"#FFA15A\"}, \"name\": \"Clave platillo=PAS478602\", \"offsetgroup\": \"Clave platillo=PAS478602\", \"orientation\": \"v\", \"showlegend\": true, \"textposition\": \"auto\", \"type\": \"bar\", \"x\": [\"PASTAS\"], \"xaxis\": \"x\", \"y\": [1.0], \"yaxis\": \"y\"}, {\"alignmentgroup\": \"True\", \"hoverlabel\": {\"namelength\": 0}, \"hovertemplate\": \"Clave platillo=PAS478601<br>Grupo=%{x}<br>Cantidad=%{y}\", \"legendgroup\": \"Clave platillo=PAS478601\", \"marker\": {\"color\": \"#19d3f3\"}, \"name\": \"Clave platillo=PAS478601\", \"offsetgroup\": \"Clave platillo=PAS478601\", \"orientation\": \"v\", \"showlegend\": true, \"textposition\": \"auto\", \"type\": \"bar\", \"x\": [\"PASTAS\"], \"xaxis\": \"x\", \"y\": [1.0], \"yaxis\": \"y\"}, {\"alignmentgroup\": \"True\", \"hoverlabel\": {\"namelength\": 0}, \"hovertemplate\": \"Clave platillo=PAS478599<br>Grupo=%{x}<br>Cantidad=%{y}\", \"legendgroup\": \"Clave platillo=PAS478599\", \"marker\": {\"color\": \"#FF6692\"}, \"name\": \"Clave platillo=PAS478599\", \"offsetgroup\": \"Clave platillo=PAS478599\", \"orientation\": \"v\", \"showlegend\": true, \"textposition\": \"auto\", \"type\": \"bar\", \"x\": [\"PASTAS\"], \"xaxis\": \"x\", \"y\": [4.0], \"yaxis\": \"y\"}, {\"alignmentgroup\": \"True\", \"hoverlabel\": {\"namelength\": 0}, \"hovertemplate\": \"Clave platillo=PAS478597<br>Grupo=%{x}<br>Cantidad=%{y}\", \"legendgroup\": \"Clave platillo=PAS478597\", \"marker\": {\"color\": \"#B6E880\"}, \"name\": \"Clave platillo=PAS478597\", \"offsetgroup\": \"Clave platillo=PAS478597\", \"orientation\": \"v\", \"showlegend\": true, \"textposition\": \"auto\", \"type\": \"bar\", \"x\": [\"PASTAS\"], \"xaxis\": \"x\", \"y\": [1.0], \"yaxis\": \"y\"}, {\"alignmentgroup\": \"True\", \"hoverlabel\": {\"namelength\": 0}, \"hovertemplate\": \"Clave platillo=PAS478596<br>Grupo=%{x}<br>Cantidad=%{y}\", \"legendgroup\": \"Clave platillo=PAS478596\", \"marker\": {\"color\": \"#FF97FF\"}, \"name\": \"Clave platillo=PAS478596\", \"offsetgroup\": \"Clave platillo=PAS478596\", \"orientation\": \"v\", \"showlegend\": true, \"textposition\": \"auto\", \"type\": \"bar\", \"x\": [\"PASTAS\"], \"xaxis\": \"x\", \"y\": [1.0], \"yaxis\": \"y\"}, {\"alignmentgroup\": \"True\", \"hoverlabel\": {\"namelength\": 0}, \"hovertemplate\": \"Clave platillo=PAS3<br>Grupo=%{x}<br>Cantidad=%{y}\", \"legendgroup\": \"Clave platillo=PAS3\", \"marker\": {\"color\": \"#FECB52\"}, \"name\": \"Clave platillo=PAS3\", \"offsetgroup\": \"Clave platillo=PAS3\", \"orientation\": \"v\", \"showlegend\": true, \"textposition\": \"auto\", \"type\": \"bar\", \"x\": [\"PASTAS\"], \"xaxis\": \"x\", \"y\": [209.0], \"yaxis\": \"y\"}, {\"alignmentgroup\": \"True\", \"hoverlabel\": {\"namelength\": 0}, \"hovertemplate\": \"Clave platillo=PAS2<br>Grupo=%{x}<br>Cantidad=%{y}\", \"legendgroup\": \"Clave platillo=PAS2\", \"marker\": {\"color\": \"#636efa\"}, \"name\": \"Clave platillo=PAS2\", \"offsetgroup\": \"Clave platillo=PAS2\", \"orientation\": \"v\", \"showlegend\": true, \"textposition\": \"auto\", \"type\": \"bar\", \"x\": [\"PASTAS\"], \"xaxis\": \"x\", \"y\": [55.0], \"yaxis\": \"y\"}, {\"alignmentgroup\": \"True\", \"hoverlabel\": {\"namelength\": 0}, \"hovertemplate\": \"Clave platillo=PAS1<br>Grupo=%{x}<br>Cantidad=%{y}\", \"legendgroup\": \"Clave platillo=PAS1\", \"marker\": {\"color\": \"#EF553B\"}, \"name\": \"Clave platillo=PAS1\", \"offsetgroup\": \"Clave platillo=PAS1\", \"orientation\": \"v\", \"showlegend\": true, \"textposition\": \"auto\", \"type\": \"bar\", \"x\": [\"PASTAS\"], \"xaxis\": \"x\", \"y\": [65.0], \"yaxis\": \"y\"}, {\"alignmentgroup\": \"True\", \"hoverlabel\": {\"namelength\": 0}, \"hovertemplate\": \"Clave platillo=MSAN16<br>Grupo=%{x}<br>Cantidad=%{y}\", \"legendgroup\": \"Clave platillo=MSAN16\", \"marker\": {\"color\": \"#00cc96\"}, \"name\": \"Clave platillo=MSAN16\", \"offsetgroup\": \"Clave platillo=MSAN16\", \"orientation\": \"v\", \"showlegend\": true, \"textposition\": \"auto\", \"type\": \"bar\", \"x\": [\"SANDWICHES\"], \"xaxis\": \"x\", \"y\": [1.0], \"yaxis\": \"y\"}, {\"alignmentgroup\": \"True\", \"hoverlabel\": {\"namelength\": 0}, \"hovertemplate\": \"Clave platillo=MPOS9<br>Grupo=%{x}<br>Cantidad=%{y}\", \"legendgroup\": \"Clave platillo=MPOS9\", \"marker\": {\"color\": \"#ab63fa\"}, \"name\": \"Clave platillo=MPOS9\", \"offsetgroup\": \"Clave platillo=MPOS9\", \"orientation\": \"v\", \"showlegend\": true, \"textposition\": \"auto\", \"type\": \"bar\", \"x\": [\"POSTRES\"], \"xaxis\": \"x\", \"y\": [9.0], \"yaxis\": \"y\"}, {\"alignmentgroup\": \"True\", \"hoverlabel\": {\"namelength\": 0}, \"hovertemplate\": \"Clave platillo=MPOS8<br>Grupo=%{x}<br>Cantidad=%{y}\", \"legendgroup\": \"Clave platillo=MPOS8\", \"marker\": {\"color\": \"#FFA15A\"}, \"name\": \"Clave platillo=MPOS8\", \"offsetgroup\": \"Clave platillo=MPOS8\", \"orientation\": \"v\", \"showlegend\": true, \"textposition\": \"auto\", \"type\": \"bar\", \"x\": [\"POSTRES\"], \"xaxis\": \"x\", \"y\": [7.0], \"yaxis\": \"y\"}, {\"alignmentgroup\": \"True\", \"hoverlabel\": {\"namelength\": 0}, \"hovertemplate\": \"Clave platillo=MPOS7<br>Grupo=%{x}<br>Cantidad=%{y}\", \"legendgroup\": \"Clave platillo=MPOS7\", \"marker\": {\"color\": \"#19d3f3\"}, \"name\": \"Clave platillo=MPOS7\", \"offsetgroup\": \"Clave platillo=MPOS7\", \"orientation\": \"v\", \"showlegend\": true, \"textposition\": \"auto\", \"type\": \"bar\", \"x\": [\"POSTRES\"], \"xaxis\": \"x\", \"y\": [3.0], \"yaxis\": \"y\"}, {\"alignmentgroup\": \"True\", \"hoverlabel\": {\"namelength\": 0}, \"hovertemplate\": \"Clave platillo=MPOS6<br>Grupo=%{x}<br>Cantidad=%{y}\", \"legendgroup\": \"Clave platillo=MPOS6\", \"marker\": {\"color\": \"#FF6692\"}, \"name\": \"Clave platillo=MPOS6\", \"offsetgroup\": \"Clave platillo=MPOS6\", \"orientation\": \"v\", \"showlegend\": true, \"textposition\": \"auto\", \"type\": \"bar\", \"x\": [\"POSTRES\"], \"xaxis\": \"x\", \"y\": [4.0], \"yaxis\": \"y\"}, {\"alignmentgroup\": \"True\", \"hoverlabel\": {\"namelength\": 0}, \"hovertemplate\": \"Clave platillo=MPOS5<br>Grupo=%{x}<br>Cantidad=%{y}\", \"legendgroup\": \"Clave platillo=MPOS5\", \"marker\": {\"color\": \"#B6E880\"}, \"name\": \"Clave platillo=MPOS5\", \"offsetgroup\": \"Clave platillo=MPOS5\", \"orientation\": \"v\", \"showlegend\": true, \"textposition\": \"auto\", \"type\": \"bar\", \"x\": [\"POSTRES\"], \"xaxis\": \"x\", \"y\": [2.0], \"yaxis\": \"y\"}, {\"alignmentgroup\": \"True\", \"hoverlabel\": {\"namelength\": 0}, \"hovertemplate\": \"Clave platillo=MPOS4<br>Grupo=%{x}<br>Cantidad=%{y}\", \"legendgroup\": \"Clave platillo=MPOS4\", \"marker\": {\"color\": \"#FF97FF\"}, \"name\": \"Clave platillo=MPOS4\", \"offsetgroup\": \"Clave platillo=MPOS4\", \"orientation\": \"v\", \"showlegend\": true, \"textposition\": \"auto\", \"type\": \"bar\", \"x\": [\"POSTRES\"], \"xaxis\": \"x\", \"y\": [2.0], \"yaxis\": \"y\"}, {\"alignmentgroup\": \"True\", \"hoverlabel\": {\"namelength\": 0}, \"hovertemplate\": \"Clave platillo=MPOS3<br>Grupo=%{x}<br>Cantidad=%{y}\", \"legendgroup\": \"Clave platillo=MPOS3\", \"marker\": {\"color\": \"#FECB52\"}, \"name\": \"Clave platillo=MPOS3\", \"offsetgroup\": \"Clave platillo=MPOS3\", \"orientation\": \"v\", \"showlegend\": true, \"textposition\": \"auto\", \"type\": \"bar\", \"x\": [\"POSTRES\"], \"xaxis\": \"x\", \"y\": [14.0], \"yaxis\": \"y\"}, {\"alignmentgroup\": \"True\", \"hoverlabel\": {\"namelength\": 0}, \"hovertemplate\": \"Clave platillo=MPOS2<br>Grupo=%{x}<br>Cantidad=%{y}\", \"legendgroup\": \"Clave platillo=MPOS2\", \"marker\": {\"color\": \"#636efa\"}, \"name\": \"Clave platillo=MPOS2\", \"offsetgroup\": \"Clave platillo=MPOS2\", \"orientation\": \"v\", \"showlegend\": true, \"textposition\": \"auto\", \"type\": \"bar\", \"x\": [\"POSTRES\"], \"xaxis\": \"x\", \"y\": [25.0], \"yaxis\": \"y\"}, {\"alignmentgroup\": \"True\", \"hoverlabel\": {\"namelength\": 0}, \"hovertemplate\": \"Clave platillo=MPOS10<br>Grupo=%{x}<br>Cantidad=%{y}\", \"legendgroup\": \"Clave platillo=MPOS10\", \"marker\": {\"color\": \"#EF553B\"}, \"name\": \"Clave platillo=MPOS10\", \"offsetgroup\": \"Clave platillo=MPOS10\", \"orientation\": \"v\", \"showlegend\": true, \"textposition\": \"auto\", \"type\": \"bar\", \"x\": [\"POSTRES\"], \"xaxis\": \"x\", \"y\": [9.0], \"yaxis\": \"y\"}, {\"alignmentgroup\": \"True\", \"hoverlabel\": {\"namelength\": 0}, \"hovertemplate\": \"Clave platillo=MPOS1<br>Grupo=%{x}<br>Cantidad=%{y}\", \"legendgroup\": \"Clave platillo=MPOS1\", \"marker\": {\"color\": \"#00cc96\"}, \"name\": \"Clave platillo=MPOS1\", \"offsetgroup\": \"Clave platillo=MPOS1\", \"orientation\": \"v\", \"showlegend\": true, \"textposition\": \"auto\", \"type\": \"bar\", \"x\": [\"POSTRES\"], \"xaxis\": \"x\", \"y\": [62.0], \"yaxis\": \"y\"}, {\"alignmentgroup\": \"True\", \"hoverlabel\": {\"namelength\": 0}, \"hovertemplate\": \"Clave platillo=MPAP4<br>Grupo=%{x}<br>Cantidad=%{y}\", \"legendgroup\": \"Clave platillo=MPAP4\", \"marker\": {\"color\": \"#ab63fa\"}, \"name\": \"Clave platillo=MPAP4\", \"offsetgroup\": \"Clave platillo=MPAP4\", \"orientation\": \"v\", \"showlegend\": true, \"textposition\": \"auto\", \"type\": \"bar\", \"x\": [\"PAPAS, PAPAS Y M\\u00c1S PAPAS\"], \"xaxis\": \"x\", \"y\": [1.0], \"yaxis\": \"y\"}, {\"alignmentgroup\": \"True\", \"hoverlabel\": {\"namelength\": 0}, \"hovertemplate\": \"Clave platillo=MPAP2<br>Grupo=%{x}<br>Cantidad=%{y}\", \"legendgroup\": \"Clave platillo=MPAP2\", \"marker\": {\"color\": \"#FFA15A\"}, \"name\": \"Clave platillo=MPAP2\", \"offsetgroup\": \"Clave platillo=MPAP2\", \"orientation\": \"v\", \"showlegend\": true, \"textposition\": \"auto\", \"type\": \"bar\", \"x\": [\"PAPAS, PAPAS Y M\\u00c1S PAPAS\"], \"xaxis\": \"x\", \"y\": [1.0], \"yaxis\": \"y\"}, {\"alignmentgroup\": \"True\", \"hoverlabel\": {\"namelength\": 0}, \"hovertemplate\": \"Clave platillo=MPAP1<br>Grupo=%{x}<br>Cantidad=%{y}\", \"legendgroup\": \"Clave platillo=MPAP1\", \"marker\": {\"color\": \"#19d3f3\"}, \"name\": \"Clave platillo=MPAP1\", \"offsetgroup\": \"Clave platillo=MPAP1\", \"orientation\": \"v\", \"showlegend\": true, \"textposition\": \"auto\", \"type\": \"bar\", \"x\": [\"PAPAS, PAPAS Y M\\u00c1S PAPAS\"], \"xaxis\": \"x\", \"y\": [3.0], \"yaxis\": \"y\"}, {\"alignmentgroup\": \"True\", \"hoverlabel\": {\"namelength\": 0}, \"hovertemplate\": \"Clave platillo=MHAM9<br>Grupo=%{x}<br>Cantidad=%{y}\", \"legendgroup\": \"Clave platillo=MHAM9\", \"marker\": {\"color\": \"#FF6692\"}, \"name\": \"Clave platillo=MHAM9\", \"offsetgroup\": \"Clave platillo=MHAM9\", \"orientation\": \"v\", \"showlegend\": true, \"textposition\": \"auto\", \"type\": \"bar\", \"x\": [\"HAMBURGUESAS\"], \"xaxis\": \"x\", \"y\": [73.0], \"yaxis\": \"y\"}, {\"alignmentgroup\": \"True\", \"hoverlabel\": {\"namelength\": 0}, \"hovertemplate\": \"Clave platillo=MHAM8<br>Grupo=%{x}<br>Cantidad=%{y}\", \"legendgroup\": \"Clave platillo=MHAM8\", \"marker\": {\"color\": \"#B6E880\"}, \"name\": \"Clave platillo=MHAM8\", \"offsetgroup\": \"Clave platillo=MHAM8\", \"orientation\": \"v\", \"showlegend\": true, \"textposition\": \"auto\", \"type\": \"bar\", \"x\": [\"HAMBURGUESAS\"], \"xaxis\": \"x\", \"y\": [68.0], \"yaxis\": \"y\"}, {\"alignmentgroup\": \"True\", \"hoverlabel\": {\"namelength\": 0}, \"hovertemplate\": \"Clave platillo=MHAM75<br>Grupo=%{x}<br>Cantidad=%{y}\", \"legendgroup\": \"Clave platillo=MHAM75\", \"marker\": {\"color\": \"#FF97FF\"}, \"name\": \"Clave platillo=MHAM75\", \"offsetgroup\": \"Clave platillo=MHAM75\", \"orientation\": \"v\", \"showlegend\": true, \"textposition\": \"auto\", \"type\": \"bar\", \"x\": [\"HAMBURGUESAS\"], \"xaxis\": \"x\", \"y\": [1.0], \"yaxis\": \"y\"}, {\"alignmentgroup\": \"True\", \"hoverlabel\": {\"namelength\": 0}, \"hovertemplate\": \"Clave platillo=MHAM72<br>Grupo=%{x}<br>Cantidad=%{y}\", \"legendgroup\": \"Clave platillo=MHAM72\", \"marker\": {\"color\": \"#FECB52\"}, \"name\": \"Clave platillo=MHAM72\", \"offsetgroup\": \"Clave platillo=MHAM72\", \"orientation\": \"v\", \"showlegend\": true, \"textposition\": \"auto\", \"type\": \"bar\", \"x\": [\"HAMBURGUESAS\"], \"xaxis\": \"x\", \"y\": [3.0], \"yaxis\": \"y\"}, {\"alignmentgroup\": \"True\", \"hoverlabel\": {\"namelength\": 0}, \"hovertemplate\": \"Clave platillo=MHAM71<br>Grupo=%{x}<br>Cantidad=%{y}\", \"legendgroup\": \"Clave platillo=MHAM71\", \"marker\": {\"color\": \"#636efa\"}, \"name\": \"Clave platillo=MHAM71\", \"offsetgroup\": \"Clave platillo=MHAM71\", \"orientation\": \"v\", \"showlegend\": true, \"textposition\": \"auto\", \"type\": \"bar\", \"x\": [\"HAMBURGUESAS\"], \"xaxis\": \"x\", \"y\": [2.0], \"yaxis\": \"y\"}, {\"alignmentgroup\": \"True\", \"hoverlabel\": {\"namelength\": 0}, \"hovertemplate\": \"Clave platillo=MHAM70<br>Grupo=%{x}<br>Cantidad=%{y}\", \"legendgroup\": \"Clave platillo=MHAM70\", \"marker\": {\"color\": \"#EF553B\"}, \"name\": \"Clave platillo=MHAM70\", \"offsetgroup\": \"Clave platillo=MHAM70\", \"orientation\": \"v\", \"showlegend\": true, \"textposition\": \"auto\", \"type\": \"bar\", \"x\": [\"HAMBURGUESAS\"], \"xaxis\": \"x\", \"y\": [1.0], \"yaxis\": \"y\"}, {\"alignmentgroup\": \"True\", \"hoverlabel\": {\"namelength\": 0}, \"hovertemplate\": \"Clave platillo=MHAM69<br>Grupo=%{x}<br>Cantidad=%{y}\", \"legendgroup\": \"Clave platillo=MHAM69\", \"marker\": {\"color\": \"#00cc96\"}, \"name\": \"Clave platillo=MHAM69\", \"offsetgroup\": \"Clave platillo=MHAM69\", \"orientation\": \"v\", \"showlegend\": true, \"textposition\": \"auto\", \"type\": \"bar\", \"x\": [\"HAMBURGUESAS\"], \"xaxis\": \"x\", \"y\": [1.0], \"yaxis\": \"y\"}, {\"alignmentgroup\": \"True\", \"hoverlabel\": {\"namelength\": 0}, \"hovertemplate\": \"Clave platillo=MHAM68<br>Grupo=%{x}<br>Cantidad=%{y}\", \"legendgroup\": \"Clave platillo=MHAM68\", \"marker\": {\"color\": \"#ab63fa\"}, \"name\": \"Clave platillo=MHAM68\", \"offsetgroup\": \"Clave platillo=MHAM68\", \"orientation\": \"v\", \"showlegend\": true, \"textposition\": \"auto\", \"type\": \"bar\", \"x\": [\"HAMBURGUESAS\"], \"xaxis\": \"x\", \"y\": [1.0], \"yaxis\": \"y\"}, {\"alignmentgroup\": \"True\", \"hoverlabel\": {\"namelength\": 0}, \"hovertemplate\": \"Clave platillo=MHAM67<br>Grupo=%{x}<br>Cantidad=%{y}\", \"legendgroup\": \"Clave platillo=MHAM67\", \"marker\": {\"color\": \"#FFA15A\"}, \"name\": \"Clave platillo=MHAM67\", \"offsetgroup\": \"Clave platillo=MHAM67\", \"orientation\": \"v\", \"showlegend\": true, \"textposition\": \"auto\", \"type\": \"bar\", \"x\": [\"HAMBURGUESAS\"], \"xaxis\": \"x\", \"y\": [11.0], \"yaxis\": \"y\"}, {\"alignmentgroup\": \"True\", \"hoverlabel\": {\"namelength\": 0}, \"hovertemplate\": \"Clave platillo=MHAM66<br>Grupo=%{x}<br>Cantidad=%{y}\", \"legendgroup\": \"Clave platillo=MHAM66\", \"marker\": {\"color\": \"#19d3f3\"}, \"name\": \"Clave platillo=MHAM66\", \"offsetgroup\": \"Clave platillo=MHAM66\", \"orientation\": \"v\", \"showlegend\": true, \"textposition\": \"auto\", \"type\": \"bar\", \"x\": [\"HAMBURGUESAS\"], \"xaxis\": \"x\", \"y\": [4.0], \"yaxis\": \"y\"}, {\"alignmentgroup\": \"True\", \"hoverlabel\": {\"namelength\": 0}, \"hovertemplate\": \"Clave platillo=MHAM65<br>Grupo=%{x}<br>Cantidad=%{y}\", \"legendgroup\": \"Clave platillo=MHAM65\", \"marker\": {\"color\": \"#FF6692\"}, \"name\": \"Clave platillo=MHAM65\", \"offsetgroup\": \"Clave platillo=MHAM65\", \"orientation\": \"v\", \"showlegend\": true, \"textposition\": \"auto\", \"type\": \"bar\", \"x\": [\"HAMBURGUESAS\"], \"xaxis\": \"x\", \"y\": [1.0], \"yaxis\": \"y\"}, {\"alignmentgroup\": \"True\", \"hoverlabel\": {\"namelength\": 0}, \"hovertemplate\": \"Clave platillo=MHAM64<br>Grupo=%{x}<br>Cantidad=%{y}\", \"legendgroup\": \"Clave platillo=MHAM64\", \"marker\": {\"color\": \"#B6E880\"}, \"name\": \"Clave platillo=MHAM64\", \"offsetgroup\": \"Clave platillo=MHAM64\", \"orientation\": \"v\", \"showlegend\": true, \"textposition\": \"auto\", \"type\": \"bar\", \"x\": [\"HAMBURGUESAS\"], \"xaxis\": \"x\", \"y\": [1.0], \"yaxis\": \"y\"}, {\"alignmentgroup\": \"True\", \"hoverlabel\": {\"namelength\": 0}, \"hovertemplate\": \"Clave platillo=MHAM63<br>Grupo=%{x}<br>Cantidad=%{y}\", \"legendgroup\": \"Clave platillo=MHAM63\", \"marker\": {\"color\": \"#FF97FF\"}, \"name\": \"Clave platillo=MHAM63\", \"offsetgroup\": \"Clave platillo=MHAM63\", \"orientation\": \"v\", \"showlegend\": true, \"textposition\": \"auto\", \"type\": \"bar\", \"x\": [\"HAMBURGUESAS\"], \"xaxis\": \"x\", \"y\": [1.0], \"yaxis\": \"y\"}, {\"alignmentgroup\": \"True\", \"hoverlabel\": {\"namelength\": 0}, \"hovertemplate\": \"Clave platillo=MHAM53<br>Grupo=%{x}<br>Cantidad=%{y}\", \"legendgroup\": \"Clave platillo=MHAM53\", \"marker\": {\"color\": \"#FECB52\"}, \"name\": \"Clave platillo=MHAM53\", \"offsetgroup\": \"Clave platillo=MHAM53\", \"orientation\": \"v\", \"showlegend\": true, \"textposition\": \"auto\", \"type\": \"bar\", \"x\": [\"HAMBURGUESAS\"], \"xaxis\": \"x\", \"y\": [5.0], \"yaxis\": \"y\"}, {\"alignmentgroup\": \"True\", \"hoverlabel\": {\"namelength\": 0}, \"hovertemplate\": \"Clave platillo=MHAM52<br>Grupo=%{x}<br>Cantidad=%{y}\", \"legendgroup\": \"Clave platillo=MHAM52\", \"marker\": {\"color\": \"#636efa\"}, \"name\": \"Clave platillo=MHAM52\", \"offsetgroup\": \"Clave platillo=MHAM52\", \"orientation\": \"v\", \"showlegend\": true, \"textposition\": \"auto\", \"type\": \"bar\", \"x\": [\"HAMBURGUESAS\"], \"xaxis\": \"x\", \"y\": [3.0], \"yaxis\": \"y\"}, {\"alignmentgroup\": \"True\", \"hoverlabel\": {\"namelength\": 0}, \"hovertemplate\": \"Clave platillo=MHAM5<br>Grupo=%{x}<br>Cantidad=%{y}\", \"legendgroup\": \"Clave platillo=MHAM5\", \"marker\": {\"color\": \"#EF553B\"}, \"name\": \"Clave platillo=MHAM5\", \"offsetgroup\": \"Clave platillo=MHAM5\", \"orientation\": \"v\", \"showlegend\": true, \"textposition\": \"auto\", \"type\": \"bar\", \"x\": [\"HAMBURGUESAS\"], \"xaxis\": \"x\", \"y\": [6.0], \"yaxis\": \"y\"}, {\"alignmentgroup\": \"True\", \"hoverlabel\": {\"namelength\": 0}, \"hovertemplate\": \"Clave platillo=MHAM45<br>Grupo=%{x}<br>Cantidad=%{y}\", \"legendgroup\": \"Clave platillo=MHAM45\", \"marker\": {\"color\": \"#00cc96\"}, \"name\": \"Clave platillo=MHAM45\", \"offsetgroup\": \"Clave platillo=MHAM45\", \"orientation\": \"v\", \"showlegend\": true, \"textposition\": \"auto\", \"type\": \"bar\", \"x\": [\"HAMBURGUESAS\"], \"xaxis\": \"x\", \"y\": [1.0], \"yaxis\": \"y\"}, {\"alignmentgroup\": \"True\", \"hoverlabel\": {\"namelength\": 0}, \"hovertemplate\": \"Clave platillo=MHAM42<br>Grupo=%{x}<br>Cantidad=%{y}\", \"legendgroup\": \"Clave platillo=MHAM42\", \"marker\": {\"color\": \"#ab63fa\"}, \"name\": \"Clave platillo=MHAM42\", \"offsetgroup\": \"Clave platillo=MHAM42\", \"orientation\": \"v\", \"showlegend\": true, \"textposition\": \"auto\", \"type\": \"bar\", \"x\": [\"HAMBURGUESAS\"], \"xaxis\": \"x\", \"y\": [4.0], \"yaxis\": \"y\"}, {\"alignmentgroup\": \"True\", \"hoverlabel\": {\"namelength\": 0}, \"hovertemplate\": \"Clave platillo=MHAM41<br>Grupo=%{x}<br>Cantidad=%{y}\", \"legendgroup\": \"Clave platillo=MHAM41\", \"marker\": {\"color\": \"#FFA15A\"}, \"name\": \"Clave platillo=MHAM41\", \"offsetgroup\": \"Clave platillo=MHAM41\", \"orientation\": \"v\", \"showlegend\": true, \"textposition\": \"auto\", \"type\": \"bar\", \"x\": [\"HAMBURGUESAS\"], \"xaxis\": \"x\", \"y\": [1.0], \"yaxis\": \"y\"}, {\"alignmentgroup\": \"True\", \"hoverlabel\": {\"namelength\": 0}, \"hovertemplate\": \"Clave platillo=MHAM39<br>Grupo=%{x}<br>Cantidad=%{y}\", \"legendgroup\": \"Clave platillo=MHAM39\", \"marker\": {\"color\": \"#19d3f3\"}, \"name\": \"Clave platillo=MHAM39\", \"offsetgroup\": \"Clave platillo=MHAM39\", \"orientation\": \"v\", \"showlegend\": true, \"textposition\": \"auto\", \"type\": \"bar\", \"x\": [\"HAMBURGUESAS\"], \"xaxis\": \"x\", \"y\": [2.0], \"yaxis\": \"y\"}, {\"alignmentgroup\": \"True\", \"hoverlabel\": {\"namelength\": 0}, \"hovertemplate\": \"Clave platillo=MHAM35<br>Grupo=%{x}<br>Cantidad=%{y}\", \"legendgroup\": \"Clave platillo=MHAM35\", \"marker\": {\"color\": \"#FF6692\"}, \"name\": \"Clave platillo=MHAM35\", \"offsetgroup\": \"Clave platillo=MHAM35\", \"orientation\": \"v\", \"showlegend\": true, \"textposition\": \"auto\", \"type\": \"bar\", \"x\": [\"HAMBURGUESAS\"], \"xaxis\": \"x\", \"y\": [1.0], \"yaxis\": \"y\"}, {\"alignmentgroup\": \"True\", \"hoverlabel\": {\"namelength\": 0}, \"hovertemplate\": \"Clave platillo=MHAM33<br>Grupo=%{x}<br>Cantidad=%{y}\", \"legendgroup\": \"Clave platillo=MHAM33\", \"marker\": {\"color\": \"#B6E880\"}, \"name\": \"Clave platillo=MHAM33\", \"offsetgroup\": \"Clave platillo=MHAM33\", \"orientation\": \"v\", \"showlegend\": true, \"textposition\": \"auto\", \"type\": \"bar\", \"x\": [\"HAMBURGUESAS\"], \"xaxis\": \"x\", \"y\": [127.0], \"yaxis\": \"y\"}, {\"alignmentgroup\": \"True\", \"hoverlabel\": {\"namelength\": 0}, \"hovertemplate\": \"Clave platillo=MHAM32<br>Grupo=%{x}<br>Cantidad=%{y}\", \"legendgroup\": \"Clave platillo=MHAM32\", \"marker\": {\"color\": \"#FF97FF\"}, \"name\": \"Clave platillo=MHAM32\", \"offsetgroup\": \"Clave platillo=MHAM32\", \"orientation\": \"v\", \"showlegend\": true, \"textposition\": \"auto\", \"type\": \"bar\", \"x\": [\"HAMBURGUESAS\"], \"xaxis\": \"x\", \"y\": [103.0], \"yaxis\": \"y\"}, {\"alignmentgroup\": \"True\", \"hoverlabel\": {\"namelength\": 0}, \"hovertemplate\": \"Clave platillo=MHAM31<br>Grupo=%{x}<br>Cantidad=%{y}\", \"legendgroup\": \"Clave platillo=MHAM31\", \"marker\": {\"color\": \"#FECB52\"}, \"name\": \"Clave platillo=MHAM31\", \"offsetgroup\": \"Clave platillo=MHAM31\", \"orientation\": \"v\", \"showlegend\": true, \"textposition\": \"auto\", \"type\": \"bar\", \"x\": [\"HAMBURGUESAS\"], \"xaxis\": \"x\", \"y\": [163.0], \"yaxis\": \"y\"}, {\"alignmentgroup\": \"True\", \"hoverlabel\": {\"namelength\": 0}, \"hovertemplate\": \"Clave platillo=MHAM30<br>Grupo=%{x}<br>Cantidad=%{y}\", \"legendgroup\": \"Clave platillo=MHAM30\", \"marker\": {\"color\": \"#636efa\"}, \"name\": \"Clave platillo=MHAM30\", \"offsetgroup\": \"Clave platillo=MHAM30\", \"orientation\": \"v\", \"showlegend\": true, \"textposition\": \"auto\", \"type\": \"bar\", \"x\": [\"HAMBURGUESAS\"], \"xaxis\": \"x\", \"y\": [6454.0], \"yaxis\": \"y\"}, {\"alignmentgroup\": \"True\", \"hoverlabel\": {\"namelength\": 0}, \"hovertemplate\": \"Clave platillo=MHAM3<br>Grupo=%{x}<br>Cantidad=%{y}\", \"legendgroup\": \"Clave platillo=MHAM3\", \"marker\": {\"color\": \"#EF553B\"}, \"name\": \"Clave platillo=MHAM3\", \"offsetgroup\": \"Clave platillo=MHAM3\", \"orientation\": \"v\", \"showlegend\": true, \"textposition\": \"auto\", \"type\": \"bar\", \"x\": [\"HAMBURGUESAS\"], \"xaxis\": \"x\", \"y\": [32.0], \"yaxis\": \"y\"}, {\"alignmentgroup\": \"True\", \"hoverlabel\": {\"namelength\": 0}, \"hovertemplate\": \"Clave platillo=MHAM29<br>Grupo=%{x}<br>Cantidad=%{y}\", \"legendgroup\": \"Clave platillo=MHAM29\", \"marker\": {\"color\": \"#00cc96\"}, \"name\": \"Clave platillo=MHAM29\", \"offsetgroup\": \"Clave platillo=MHAM29\", \"orientation\": \"v\", \"showlegend\": true, \"textposition\": \"auto\", \"type\": \"bar\", \"x\": [\"HAMBURGUESAS\"], \"xaxis\": \"x\", \"y\": [292.0], \"yaxis\": \"y\"}, {\"alignmentgroup\": \"True\", \"hoverlabel\": {\"namelength\": 0}, \"hovertemplate\": \"Clave platillo=MHAM28<br>Grupo=%{x}<br>Cantidad=%{y}\", \"legendgroup\": \"Clave platillo=MHAM28\", \"marker\": {\"color\": \"#ab63fa\"}, \"name\": \"Clave platillo=MHAM28\", \"offsetgroup\": \"Clave platillo=MHAM28\", \"orientation\": \"v\", \"showlegend\": true, \"textposition\": \"auto\", \"type\": \"bar\", \"x\": [\"HAMBURGUESAS\"], \"xaxis\": \"x\", \"y\": [14.0], \"yaxis\": \"y\"}, {\"alignmentgroup\": \"True\", \"hoverlabel\": {\"namelength\": 0}, \"hovertemplate\": \"Clave platillo=MHAM27<br>Grupo=%{x}<br>Cantidad=%{y}\", \"legendgroup\": \"Clave platillo=MHAM27\", \"marker\": {\"color\": \"#FFA15A\"}, \"name\": \"Clave platillo=MHAM27\", \"offsetgroup\": \"Clave platillo=MHAM27\", \"orientation\": \"v\", \"showlegend\": true, \"textposition\": \"auto\", \"type\": \"bar\", \"x\": [\"HAMBURGUESAS\"], \"xaxis\": \"x\", \"y\": [66.0], \"yaxis\": \"y\"}, {\"alignmentgroup\": \"True\", \"hoverlabel\": {\"namelength\": 0}, \"hovertemplate\": \"Clave platillo=MHAM24<br>Grupo=%{x}<br>Cantidad=%{y}\", \"legendgroup\": \"Clave platillo=MHAM24\", \"marker\": {\"color\": \"#19d3f3\"}, \"name\": \"Clave platillo=MHAM24\", \"offsetgroup\": \"Clave platillo=MHAM24\", \"orientation\": \"v\", \"showlegend\": true, \"textposition\": \"auto\", \"type\": \"bar\", \"x\": [\"HAMBURGUESAS\"], \"xaxis\": \"x\", \"y\": [1.0], \"yaxis\": \"y\"}, {\"alignmentgroup\": \"True\", \"hoverlabel\": {\"namelength\": 0}, \"hovertemplate\": \"Clave platillo=MHAM23<br>Grupo=%{x}<br>Cantidad=%{y}\", \"legendgroup\": \"Clave platillo=MHAM23\", \"marker\": {\"color\": \"#FF6692\"}, \"name\": \"Clave platillo=MHAM23\", \"offsetgroup\": \"Clave platillo=MHAM23\", \"orientation\": \"v\", \"showlegend\": true, \"textposition\": \"auto\", \"type\": \"bar\", \"x\": [\"HAMBURGUESAS\"], \"xaxis\": \"x\", \"y\": [14.0], \"yaxis\": \"y\"}, {\"alignmentgroup\": \"True\", \"hoverlabel\": {\"namelength\": 0}, \"hovertemplate\": \"Clave platillo=MHAM2<br>Grupo=%{x}<br>Cantidad=%{y}\", \"legendgroup\": \"Clave platillo=MHAM2\", \"marker\": {\"color\": \"#B6E880\"}, \"name\": \"Clave platillo=MHAM2\", \"offsetgroup\": \"Clave platillo=MHAM2\", \"orientation\": \"v\", \"showlegend\": true, \"textposition\": \"auto\", \"type\": \"bar\", \"x\": [\"HAMBURGUESAS\"], \"xaxis\": \"x\", \"y\": [4.0], \"yaxis\": \"y\"}, {\"alignmentgroup\": \"True\", \"hoverlabel\": {\"namelength\": 0}, \"hovertemplate\": \"Clave platillo=MHAM18<br>Grupo=%{x}<br>Cantidad=%{y}\", \"legendgroup\": \"Clave platillo=MHAM18\", \"marker\": {\"color\": \"#FF97FF\"}, \"name\": \"Clave platillo=MHAM18\", \"offsetgroup\": \"Clave platillo=MHAM18\", \"orientation\": \"v\", \"showlegend\": true, \"textposition\": \"auto\", \"type\": \"bar\", \"x\": [\"HAMBURGUESAS\"], \"xaxis\": \"x\", \"y\": [9.0], \"yaxis\": \"y\"}, {\"alignmentgroup\": \"True\", \"hoverlabel\": {\"namelength\": 0}, \"hovertemplate\": \"Clave platillo=MHAM17<br>Grupo=%{x}<br>Cantidad=%{y}\", \"legendgroup\": \"Clave platillo=MHAM17\", \"marker\": {\"color\": \"#FECB52\"}, \"name\": \"Clave platillo=MHAM17\", \"offsetgroup\": \"Clave platillo=MHAM17\", \"orientation\": \"v\", \"showlegend\": true, \"textposition\": \"auto\", \"type\": \"bar\", \"x\": [\"HAMBURGUESAS\"], \"xaxis\": \"x\", \"y\": [9.0], \"yaxis\": \"y\"}, {\"alignmentgroup\": \"True\", \"hoverlabel\": {\"namelength\": 0}, \"hovertemplate\": \"Clave platillo=MHAM16<br>Grupo=%{x}<br>Cantidad=%{y}\", \"legendgroup\": \"Clave platillo=MHAM16\", \"marker\": {\"color\": \"#636efa\"}, \"name\": \"Clave platillo=MHAM16\", \"offsetgroup\": \"Clave platillo=MHAM16\", \"orientation\": \"v\", \"showlegend\": true, \"textposition\": \"auto\", \"type\": \"bar\", \"x\": [\"HAMBURGUESAS\"], \"xaxis\": \"x\", \"y\": [1.0], \"yaxis\": \"y\"}, {\"alignmentgroup\": \"True\", \"hoverlabel\": {\"namelength\": 0}, \"hovertemplate\": \"Clave platillo=MHAM15<br>Grupo=%{x}<br>Cantidad=%{y}\", \"legendgroup\": \"Clave platillo=MHAM15\", \"marker\": {\"color\": \"#EF553B\"}, \"name\": \"Clave platillo=MHAM15\", \"offsetgroup\": \"Clave platillo=MHAM15\", \"orientation\": \"v\", \"showlegend\": true, \"textposition\": \"auto\", \"type\": \"bar\", \"x\": [\"HAMBURGUESAS\"], \"xaxis\": \"x\", \"y\": [2.0], \"yaxis\": \"y\"}, {\"alignmentgroup\": \"True\", \"hoverlabel\": {\"namelength\": 0}, \"hovertemplate\": \"Clave platillo=MHAM14<br>Grupo=%{x}<br>Cantidad=%{y}\", \"legendgroup\": \"Clave platillo=MHAM14\", \"marker\": {\"color\": \"#00cc96\"}, \"name\": \"Clave platillo=MHAM14\", \"offsetgroup\": \"Clave platillo=MHAM14\", \"orientation\": \"v\", \"showlegend\": true, \"textposition\": \"auto\", \"type\": \"bar\", \"x\": [\"HAMBURGUESAS\"], \"xaxis\": \"x\", \"y\": [1.0], \"yaxis\": \"y\"}, {\"alignmentgroup\": \"True\", \"hoverlabel\": {\"namelength\": 0}, \"hovertemplate\": \"Clave platillo=MHAM13<br>Grupo=%{x}<br>Cantidad=%{y}\", \"legendgroup\": \"Clave platillo=MHAM13\", \"marker\": {\"color\": \"#ab63fa\"}, \"name\": \"Clave platillo=MHAM13\", \"offsetgroup\": \"Clave platillo=MHAM13\", \"orientation\": \"v\", \"showlegend\": true, \"textposition\": \"auto\", \"type\": \"bar\", \"x\": [\"HAMBURGUESAS\"], \"xaxis\": \"x\", \"y\": [34.0], \"yaxis\": \"y\"}, {\"alignmentgroup\": \"True\", \"hoverlabel\": {\"namelength\": 0}, \"hovertemplate\": \"Clave platillo=MHAM12<br>Grupo=%{x}<br>Cantidad=%{y}\", \"legendgroup\": \"Clave platillo=MHAM12\", \"marker\": {\"color\": \"#FFA15A\"}, \"name\": \"Clave platillo=MHAM12\", \"offsetgroup\": \"Clave platillo=MHAM12\", \"orientation\": \"v\", \"showlegend\": true, \"textposition\": \"auto\", \"type\": \"bar\", \"x\": [\"HAMBURGUESAS\"], \"xaxis\": \"x\", \"y\": [16.0], \"yaxis\": \"y\"}, {\"alignmentgroup\": \"True\", \"hoverlabel\": {\"namelength\": 0}, \"hovertemplate\": \"Clave platillo=MENS9<br>Grupo=%{x}<br>Cantidad=%{y}\", \"legendgroup\": \"Clave platillo=MENS9\", \"marker\": {\"color\": \"#19d3f3\"}, \"name\": \"Clave platillo=MENS9\", \"offsetgroup\": \"Clave platillo=MENS9\", \"orientation\": \"v\", \"showlegend\": true, \"textposition\": \"auto\", \"type\": \"bar\", \"x\": [\"ENSALADAS\"], \"xaxis\": \"x\", \"y\": [2.0], \"yaxis\": \"y\"}, {\"alignmentgroup\": \"True\", \"hoverlabel\": {\"namelength\": 0}, \"hovertemplate\": \"Clave platillo=MENS5<br>Grupo=%{x}<br>Cantidad=%{y}\", \"legendgroup\": \"Clave platillo=MENS5\", \"marker\": {\"color\": \"#FF6692\"}, \"name\": \"Clave platillo=MENS5\", \"offsetgroup\": \"Clave platillo=MENS5\", \"orientation\": \"v\", \"showlegend\": true, \"textposition\": \"auto\", \"type\": \"bar\", \"x\": [\"ENSALADAS\"], \"xaxis\": \"x\", \"y\": [1.0], \"yaxis\": \"y\"}, {\"alignmentgroup\": \"True\", \"hoverlabel\": {\"namelength\": 0}, \"hovertemplate\": \"Clave platillo=MENS4<br>Grupo=%{x}<br>Cantidad=%{y}\", \"legendgroup\": \"Clave platillo=MENS4\", \"marker\": {\"color\": \"#B6E880\"}, \"name\": \"Clave platillo=MENS4\", \"offsetgroup\": \"Clave platillo=MENS4\", \"orientation\": \"v\", \"showlegend\": true, \"textposition\": \"auto\", \"type\": \"bar\", \"x\": [\"ENSALADAS\"], \"xaxis\": \"x\", \"y\": [4.0], \"yaxis\": \"y\"}, {\"alignmentgroup\": \"True\", \"hoverlabel\": {\"namelength\": 0}, \"hovertemplate\": \"Clave platillo=MENS21<br>Grupo=%{x}<br>Cantidad=%{y}\", \"legendgroup\": \"Clave platillo=MENS21\", \"marker\": {\"color\": \"#FF97FF\"}, \"name\": \"Clave platillo=MENS21\", \"offsetgroup\": \"Clave platillo=MENS21\", \"orientation\": \"v\", \"showlegend\": true, \"textposition\": \"auto\", \"type\": \"bar\", \"x\": [\"ENSALADAS\"], \"xaxis\": \"x\", \"y\": [1.0], \"yaxis\": \"y\"}, {\"alignmentgroup\": \"True\", \"hoverlabel\": {\"namelength\": 0}, \"hovertemplate\": \"Clave platillo=MENS20<br>Grupo=%{x}<br>Cantidad=%{y}\", \"legendgroup\": \"Clave platillo=MENS20\", \"marker\": {\"color\": \"#FECB52\"}, \"name\": \"Clave platillo=MENS20\", \"offsetgroup\": \"Clave platillo=MENS20\", \"orientation\": \"v\", \"showlegend\": true, \"textposition\": \"auto\", \"type\": \"bar\", \"x\": [\"ENSALADAS\"], \"xaxis\": \"x\", \"y\": [8.0], \"yaxis\": \"y\"}, {\"alignmentgroup\": \"True\", \"hoverlabel\": {\"namelength\": 0}, \"hovertemplate\": \"Clave platillo=MENS19<br>Grupo=%{x}<br>Cantidad=%{y}\", \"legendgroup\": \"Clave platillo=MENS19\", \"marker\": {\"color\": \"#636efa\"}, \"name\": \"Clave platillo=MENS19\", \"offsetgroup\": \"Clave platillo=MENS19\", \"orientation\": \"v\", \"showlegend\": true, \"textposition\": \"auto\", \"type\": \"bar\", \"x\": [\"ENSALADAS\"], \"xaxis\": \"x\", \"y\": [282.0], \"yaxis\": \"y\"}, {\"alignmentgroup\": \"True\", \"hoverlabel\": {\"namelength\": 0}, \"hovertemplate\": \"Clave platillo=MENS18<br>Grupo=%{x}<br>Cantidad=%{y}\", \"legendgroup\": \"Clave platillo=MENS18\", \"marker\": {\"color\": \"#EF553B\"}, \"name\": \"Clave platillo=MENS18\", \"offsetgroup\": \"Clave platillo=MENS18\", \"orientation\": \"v\", \"showlegend\": true, \"textposition\": \"auto\", \"type\": \"bar\", \"x\": [\"ENSALADAS\"], \"xaxis\": \"x\", \"y\": [11.0], \"yaxis\": \"y\"}, {\"alignmentgroup\": \"True\", \"hoverlabel\": {\"namelength\": 0}, \"hovertemplate\": \"Clave platillo=MENS16<br>Grupo=%{x}<br>Cantidad=%{y}\", \"legendgroup\": \"Clave platillo=MENS16\", \"marker\": {\"color\": \"#00cc96\"}, \"name\": \"Clave platillo=MENS16\", \"offsetgroup\": \"Clave platillo=MENS16\", \"orientation\": \"v\", \"showlegend\": true, \"textposition\": \"auto\", \"type\": \"bar\", \"x\": [\"ENSALADAS\"], \"xaxis\": \"x\", \"y\": [1.0], \"yaxis\": \"y\"}, {\"alignmentgroup\": \"True\", \"hoverlabel\": {\"namelength\": 0}, \"hovertemplate\": \"Clave platillo=MENS13<br>Grupo=%{x}<br>Cantidad=%{y}\", \"legendgroup\": \"Clave platillo=MENS13\", \"marker\": {\"color\": \"#ab63fa\"}, \"name\": \"Clave platillo=MENS13\", \"offsetgroup\": \"Clave platillo=MENS13\", \"orientation\": \"v\", \"showlegend\": true, \"textposition\": \"auto\", \"type\": \"bar\", \"x\": [\"ENSALADAS\"], \"xaxis\": \"x\", \"y\": [1.0], \"yaxis\": \"y\"}, {\"alignmentgroup\": \"True\", \"hoverlabel\": {\"namelength\": 0}, \"hovertemplate\": \"Clave platillo=MCL\\u00c18<br>Grupo=%{x}<br>Cantidad=%{y}\", \"legendgroup\": \"Clave platillo=MCL\\u00c18\", \"marker\": {\"color\": \"#FFA15A\"}, \"name\": \"Clave platillo=MCL\\u00c18\", \"offsetgroup\": \"Clave platillo=MCL\\u00c18\", \"orientation\": \"v\", \"showlegend\": true, \"textposition\": \"auto\", \"type\": \"bar\", \"x\": [\"CL\\u00c1SICOS\"], \"xaxis\": \"x\", \"y\": [117.0], \"yaxis\": \"y\"}, {\"alignmentgroup\": \"True\", \"hoverlabel\": {\"namelength\": 0}, \"hovertemplate\": \"Clave platillo=MCL\\u00c17<br>Grupo=%{x}<br>Cantidad=%{y}\", \"legendgroup\": \"Clave platillo=MCL\\u00c17\", \"marker\": {\"color\": \"#19d3f3\"}, \"name\": \"Clave platillo=MCL\\u00c17\", \"offsetgroup\": \"Clave platillo=MCL\\u00c17\", \"orientation\": \"v\", \"showlegend\": true, \"textposition\": \"auto\", \"type\": \"bar\", \"x\": [\"CL\\u00c1SICOS\"], \"xaxis\": \"x\", \"y\": [7.0], \"yaxis\": \"y\"}, {\"alignmentgroup\": \"True\", \"hoverlabel\": {\"namelength\": 0}, \"hovertemplate\": \"Clave platillo=MCL\\u00c169<br>Grupo=%{x}<br>Cantidad=%{y}\", \"legendgroup\": \"Clave platillo=MCL\\u00c169\", \"marker\": {\"color\": \"#FF6692\"}, \"name\": \"Clave platillo=MCL\\u00c169\", \"offsetgroup\": \"Clave platillo=MCL\\u00c169\", \"orientation\": \"v\", \"showlegend\": true, \"textposition\": \"auto\", \"type\": \"bar\", \"x\": [\"CL\\u00c1SICOS\"], \"xaxis\": \"x\", \"y\": [1.0], \"yaxis\": \"y\"}, {\"alignmentgroup\": \"True\", \"hoverlabel\": {\"namelength\": 0}, \"hovertemplate\": \"Clave platillo=MCL\\u00c165<br>Grupo=%{x}<br>Cantidad=%{y}\", \"legendgroup\": \"Clave platillo=MCL\\u00c165\", \"marker\": {\"color\": \"#B6E880\"}, \"name\": \"Clave platillo=MCL\\u00c165\", \"offsetgroup\": \"Clave platillo=MCL\\u00c165\", \"orientation\": \"v\", \"showlegend\": true, \"textposition\": \"auto\", \"type\": \"bar\", \"x\": [\"CL\\u00c1SICOS\"], \"xaxis\": \"x\", \"y\": [1.0], \"yaxis\": \"y\"}, {\"alignmentgroup\": \"True\", \"hoverlabel\": {\"namelength\": 0}, \"hovertemplate\": \"Clave platillo=MCL\\u00c164<br>Grupo=%{x}<br>Cantidad=%{y}\", \"legendgroup\": \"Clave platillo=MCL\\u00c164\", \"marker\": {\"color\": \"#FF97FF\"}, \"name\": \"Clave platillo=MCL\\u00c164\", \"offsetgroup\": \"Clave platillo=MCL\\u00c164\", \"orientation\": \"v\", \"showlegend\": true, \"textposition\": \"auto\", \"type\": \"bar\", \"x\": [\"CL\\u00c1SICOS\"], \"xaxis\": \"x\", \"y\": [231.0], \"yaxis\": \"y\"}, {\"alignmentgroup\": \"True\", \"hoverlabel\": {\"namelength\": 0}, \"hovertemplate\": \"Clave platillo=MCL\\u00c163<br>Grupo=%{x}<br>Cantidad=%{y}\", \"legendgroup\": \"Clave platillo=MCL\\u00c163\", \"marker\": {\"color\": \"#FECB52\"}, \"name\": \"Clave platillo=MCL\\u00c163\", \"offsetgroup\": \"Clave platillo=MCL\\u00c163\", \"orientation\": \"v\", \"showlegend\": true, \"textposition\": \"auto\", \"type\": \"bar\", \"x\": [\"CL\\u00c1SICOS\"], \"xaxis\": \"x\", \"y\": [1.0], \"yaxis\": \"y\"}, {\"alignmentgroup\": \"True\", \"hoverlabel\": {\"namelength\": 0}, \"hovertemplate\": \"Clave platillo=MCL\\u00c162<br>Grupo=%{x}<br>Cantidad=%{y}\", \"legendgroup\": \"Clave platillo=MCL\\u00c162\", \"marker\": {\"color\": \"#636efa\"}, \"name\": \"Clave platillo=MCL\\u00c162\", \"offsetgroup\": \"Clave platillo=MCL\\u00c162\", \"orientation\": \"v\", \"showlegend\": true, \"textposition\": \"auto\", \"type\": \"bar\", \"x\": [\"CL\\u00c1SICOS\"], \"xaxis\": \"x\", \"y\": [1.0], \"yaxis\": \"y\"}, {\"alignmentgroup\": \"True\", \"hoverlabel\": {\"namelength\": 0}, \"hovertemplate\": \"Clave platillo=MCL\\u00c16<br>Grupo=%{x}<br>Cantidad=%{y}\", \"legendgroup\": \"Clave platillo=MCL\\u00c16\", \"marker\": {\"color\": \"#EF553B\"}, \"name\": \"Clave platillo=MCL\\u00c16\", \"offsetgroup\": \"Clave platillo=MCL\\u00c16\", \"orientation\": \"v\", \"showlegend\": true, \"textposition\": \"auto\", \"type\": \"bar\", \"x\": [\"CL\\u00c1SICOS\"], \"xaxis\": \"x\", \"y\": [12.0], \"yaxis\": \"y\"}, {\"alignmentgroup\": \"True\", \"hoverlabel\": {\"namelength\": 0}, \"hovertemplate\": \"Clave platillo=MCL\\u00c159<br>Grupo=%{x}<br>Cantidad=%{y}\", \"legendgroup\": \"Clave platillo=MCL\\u00c159\", \"marker\": {\"color\": \"#00cc96\"}, \"name\": \"Clave platillo=MCL\\u00c159\", \"offsetgroup\": \"Clave platillo=MCL\\u00c159\", \"orientation\": \"v\", \"showlegend\": true, \"textposition\": \"auto\", \"type\": \"bar\", \"x\": [\"CL\\u00c1SICOS\"], \"xaxis\": \"x\", \"y\": [1.0], \"yaxis\": \"y\"}, {\"alignmentgroup\": \"True\", \"hoverlabel\": {\"namelength\": 0}, \"hovertemplate\": \"Clave platillo=MCL\\u00c158<br>Grupo=%{x}<br>Cantidad=%{y}\", \"legendgroup\": \"Clave platillo=MCL\\u00c158\", \"marker\": {\"color\": \"#ab63fa\"}, \"name\": \"Clave platillo=MCL\\u00c158\", \"offsetgroup\": \"Clave platillo=MCL\\u00c158\", \"orientation\": \"v\", \"showlegend\": true, \"textposition\": \"auto\", \"type\": \"bar\", \"x\": [\"CL\\u00c1SICOS\"], \"xaxis\": \"x\", \"y\": [1.0], \"yaxis\": \"y\"}, {\"alignmentgroup\": \"True\", \"hoverlabel\": {\"namelength\": 0}, \"hovertemplate\": \"Clave platillo=MCL\\u00c157<br>Grupo=%{x}<br>Cantidad=%{y}\", \"legendgroup\": \"Clave platillo=MCL\\u00c157\", \"marker\": {\"color\": \"#FFA15A\"}, \"name\": \"Clave platillo=MCL\\u00c157\", \"offsetgroup\": \"Clave platillo=MCL\\u00c157\", \"orientation\": \"v\", \"showlegend\": true, \"textposition\": \"auto\", \"type\": \"bar\", \"x\": [\"CL\\u00c1SICOS\"], \"xaxis\": \"x\", \"y\": [328.0], \"yaxis\": \"y\"}, {\"alignmentgroup\": \"True\", \"hoverlabel\": {\"namelength\": 0}, \"hovertemplate\": \"Clave platillo=MCL\\u00c156<br>Grupo=%{x}<br>Cantidad=%{y}\", \"legendgroup\": \"Clave platillo=MCL\\u00c156\", \"marker\": {\"color\": \"#19d3f3\"}, \"name\": \"Clave platillo=MCL\\u00c156\", \"offsetgroup\": \"Clave platillo=MCL\\u00c156\", \"orientation\": \"v\", \"showlegend\": true, \"textposition\": \"auto\", \"type\": \"bar\", \"x\": [\"CL\\u00c1SICOS\"], \"xaxis\": \"x\", \"y\": [20.0], \"yaxis\": \"y\"}, {\"alignmentgroup\": \"True\", \"hoverlabel\": {\"namelength\": 0}, \"hovertemplate\": \"Clave platillo=MCL\\u00c155<br>Grupo=%{x}<br>Cantidad=%{y}\", \"legendgroup\": \"Clave platillo=MCL\\u00c155\", \"marker\": {\"color\": \"#FF6692\"}, \"name\": \"Clave platillo=MCL\\u00c155\", \"offsetgroup\": \"Clave platillo=MCL\\u00c155\", \"orientation\": \"v\", \"showlegend\": true, \"textposition\": \"auto\", \"type\": \"bar\", \"x\": [\"CL\\u00c1SICOS\"], \"xaxis\": \"x\", \"y\": [8.0], \"yaxis\": \"y\"}, {\"alignmentgroup\": \"True\", \"hoverlabel\": {\"namelength\": 0}, \"hovertemplate\": \"Clave platillo=MCL\\u00c154<br>Grupo=%{x}<br>Cantidad=%{y}\", \"legendgroup\": \"Clave platillo=MCL\\u00c154\", \"marker\": {\"color\": \"#B6E880\"}, \"name\": \"Clave platillo=MCL\\u00c154\", \"offsetgroup\": \"Clave platillo=MCL\\u00c154\", \"orientation\": \"v\", \"showlegend\": true, \"textposition\": \"auto\", \"type\": \"bar\", \"x\": [\"CL\\u00c1SICOS\"], \"xaxis\": \"x\", \"y\": [516.0], \"yaxis\": \"y\"}, {\"alignmentgroup\": \"True\", \"hoverlabel\": {\"namelength\": 0}, \"hovertemplate\": \"Clave platillo=MCL\\u00c153<br>Grupo=%{x}<br>Cantidad=%{y}\", \"legendgroup\": \"Clave platillo=MCL\\u00c153\", \"marker\": {\"color\": \"#FF97FF\"}, \"name\": \"Clave platillo=MCL\\u00c153\", \"offsetgroup\": \"Clave platillo=MCL\\u00c153\", \"orientation\": \"v\", \"showlegend\": true, \"textposition\": \"auto\", \"type\": \"bar\", \"x\": [\"CL\\u00c1SICOS\"], \"xaxis\": \"x\", \"y\": [195.0], \"yaxis\": \"y\"}, {\"alignmentgroup\": \"True\", \"hoverlabel\": {\"namelength\": 0}, \"hovertemplate\": \"Clave platillo=MCL\\u00c152<br>Grupo=%{x}<br>Cantidad=%{y}\", \"legendgroup\": \"Clave platillo=MCL\\u00c152\", \"marker\": {\"color\": \"#FECB52\"}, \"name\": \"Clave platillo=MCL\\u00c152\", \"offsetgroup\": \"Clave platillo=MCL\\u00c152\", \"orientation\": \"v\", \"showlegend\": true, \"textposition\": \"auto\", \"type\": \"bar\", \"x\": [\"CL\\u00c1SICOS\"], \"xaxis\": \"x\", \"y\": [4.0], \"yaxis\": \"y\"}, {\"alignmentgroup\": \"True\", \"hoverlabel\": {\"namelength\": 0}, \"hovertemplate\": \"Clave platillo=MCL\\u00c151<br>Grupo=%{x}<br>Cantidad=%{y}\", \"legendgroup\": \"Clave platillo=MCL\\u00c151\", \"marker\": {\"color\": \"#636efa\"}, \"name\": \"Clave platillo=MCL\\u00c151\", \"offsetgroup\": \"Clave platillo=MCL\\u00c151\", \"orientation\": \"v\", \"showlegend\": true, \"textposition\": \"auto\", \"type\": \"bar\", \"x\": [\"CL\\u00c1SICOS\"], \"xaxis\": \"x\", \"y\": [6.0], \"yaxis\": \"y\"}, {\"alignmentgroup\": \"True\", \"hoverlabel\": {\"namelength\": 0}, \"hovertemplate\": \"Clave platillo=MCL\\u00c150<br>Grupo=%{x}<br>Cantidad=%{y}\", \"legendgroup\": \"Clave platillo=MCL\\u00c150\", \"marker\": {\"color\": \"#EF553B\"}, \"name\": \"Clave platillo=MCL\\u00c150\", \"offsetgroup\": \"Clave platillo=MCL\\u00c150\", \"orientation\": \"v\", \"showlegend\": true, \"textposition\": \"auto\", \"type\": \"bar\", \"x\": [\"CL\\u00c1SICOS\"], \"xaxis\": \"x\", \"y\": [572.0], \"yaxis\": \"y\"}, {\"alignmentgroup\": \"True\", \"hoverlabel\": {\"namelength\": 0}, \"hovertemplate\": \"Clave platillo=MCL\\u00c15<br>Grupo=%{x}<br>Cantidad=%{y}\", \"legendgroup\": \"Clave platillo=MCL\\u00c15\", \"marker\": {\"color\": \"#00cc96\"}, \"name\": \"Clave platillo=MCL\\u00c15\", \"offsetgroup\": \"Clave platillo=MCL\\u00c15\", \"orientation\": \"v\", \"showlegend\": true, \"textposition\": \"auto\", \"type\": \"bar\", \"x\": [\"CL\\u00c1SICOS\"], \"xaxis\": \"x\", \"y\": [5.0], \"yaxis\": \"y\"}, {\"alignmentgroup\": \"True\", \"hoverlabel\": {\"namelength\": 0}, \"hovertemplate\": \"Clave platillo=MCL\\u00c149<br>Grupo=%{x}<br>Cantidad=%{y}\", \"legendgroup\": \"Clave platillo=MCL\\u00c149\", \"marker\": {\"color\": \"#ab63fa\"}, \"name\": \"Clave platillo=MCL\\u00c149\", \"offsetgroup\": \"Clave platillo=MCL\\u00c149\", \"orientation\": \"v\", \"showlegend\": true, \"textposition\": \"auto\", \"type\": \"bar\", \"x\": [\"CL\\u00c1SICOS\"], \"xaxis\": \"x\", \"y\": [491.0], \"yaxis\": \"y\"}, {\"alignmentgroup\": \"True\", \"hoverlabel\": {\"namelength\": 0}, \"hovertemplate\": \"Clave platillo=MCL\\u00c148<br>Grupo=%{x}<br>Cantidad=%{y}\", \"legendgroup\": \"Clave platillo=MCL\\u00c148\", \"marker\": {\"color\": \"#FFA15A\"}, \"name\": \"Clave platillo=MCL\\u00c148\", \"offsetgroup\": \"Clave platillo=MCL\\u00c148\", \"orientation\": \"v\", \"showlegend\": true, \"textposition\": \"auto\", \"type\": \"bar\", \"x\": [\"CL\\u00c1SICOS\"], \"xaxis\": \"x\", \"y\": [3.0], \"yaxis\": \"y\"}, {\"alignmentgroup\": \"True\", \"hoverlabel\": {\"namelength\": 0}, \"hovertemplate\": \"Clave platillo=MCL\\u00c147<br>Grupo=%{x}<br>Cantidad=%{y}\", \"legendgroup\": \"Clave platillo=MCL\\u00c147\", \"marker\": {\"color\": \"#19d3f3\"}, \"name\": \"Clave platillo=MCL\\u00c147\", \"offsetgroup\": \"Clave platillo=MCL\\u00c147\", \"orientation\": \"v\", \"showlegend\": true, \"textposition\": \"auto\", \"type\": \"bar\", \"x\": [\"CL\\u00c1SICOS\"], \"xaxis\": \"x\", \"y\": [3.0], \"yaxis\": \"y\"}, {\"alignmentgroup\": \"True\", \"hoverlabel\": {\"namelength\": 0}, \"hovertemplate\": \"Clave platillo=MCL\\u00c146<br>Grupo=%{x}<br>Cantidad=%{y}\", \"legendgroup\": \"Clave platillo=MCL\\u00c146\", \"marker\": {\"color\": \"#FF6692\"}, \"name\": \"Clave platillo=MCL\\u00c146\", \"offsetgroup\": \"Clave platillo=MCL\\u00c146\", \"orientation\": \"v\", \"showlegend\": true, \"textposition\": \"auto\", \"type\": \"bar\", \"x\": [\"CL\\u00c1SICOS\"], \"xaxis\": \"x\", \"y\": [3.0], \"yaxis\": \"y\"}, {\"alignmentgroup\": \"True\", \"hoverlabel\": {\"namelength\": 0}, \"hovertemplate\": \"Clave platillo=MCL\\u00c145<br>Grupo=%{x}<br>Cantidad=%{y}\", \"legendgroup\": \"Clave platillo=MCL\\u00c145\", \"marker\": {\"color\": \"#B6E880\"}, \"name\": \"Clave platillo=MCL\\u00c145\", \"offsetgroup\": \"Clave platillo=MCL\\u00c145\", \"orientation\": \"v\", \"showlegend\": true, \"textposition\": \"auto\", \"type\": \"bar\", \"x\": [\"CL\\u00c1SICOS\"], \"xaxis\": \"x\", \"y\": [5.0], \"yaxis\": \"y\"}, {\"alignmentgroup\": \"True\", \"hoverlabel\": {\"namelength\": 0}, \"hovertemplate\": \"Clave platillo=MCL\\u00c144<br>Grupo=%{x}<br>Cantidad=%{y}\", \"legendgroup\": \"Clave platillo=MCL\\u00c144\", \"marker\": {\"color\": \"#FF97FF\"}, \"name\": \"Clave platillo=MCL\\u00c144\", \"offsetgroup\": \"Clave platillo=MCL\\u00c144\", \"orientation\": \"v\", \"showlegend\": true, \"textposition\": \"auto\", \"type\": \"bar\", \"x\": [\"CL\\u00c1SICOS\"], \"xaxis\": \"x\", \"y\": [14.0], \"yaxis\": \"y\"}, {\"alignmentgroup\": \"True\", \"hoverlabel\": {\"namelength\": 0}, \"hovertemplate\": \"Clave platillo=MCL\\u00c143<br>Grupo=%{x}<br>Cantidad=%{y}\", \"legendgroup\": \"Clave platillo=MCL\\u00c143\", \"marker\": {\"color\": \"#FECB52\"}, \"name\": \"Clave platillo=MCL\\u00c143\", \"offsetgroup\": \"Clave platillo=MCL\\u00c143\", \"orientation\": \"v\", \"showlegend\": true, \"textposition\": \"auto\", \"type\": \"bar\", \"x\": [\"CL\\u00c1SICOS\"], \"xaxis\": \"x\", \"y\": [12.0], \"yaxis\": \"y\"}, {\"alignmentgroup\": \"True\", \"hoverlabel\": {\"namelength\": 0}, \"hovertemplate\": \"Clave platillo=MCL\\u00c142<br>Grupo=%{x}<br>Cantidad=%{y}\", \"legendgroup\": \"Clave platillo=MCL\\u00c142\", \"marker\": {\"color\": \"#636efa\"}, \"name\": \"Clave platillo=MCL\\u00c142\", \"offsetgroup\": \"Clave platillo=MCL\\u00c142\", \"orientation\": \"v\", \"showlegend\": true, \"textposition\": \"auto\", \"type\": \"bar\", \"x\": [\"CL\\u00c1SICOS\"], \"xaxis\": \"x\", \"y\": [43.0], \"yaxis\": \"y\"}, {\"alignmentgroup\": \"True\", \"hoverlabel\": {\"namelength\": 0}, \"hovertemplate\": \"Clave platillo=MCL\\u00c141<br>Grupo=%{x}<br>Cantidad=%{y}\", \"legendgroup\": \"Clave platillo=MCL\\u00c141\", \"marker\": {\"color\": \"#EF553B\"}, \"name\": \"Clave platillo=MCL\\u00c141\", \"offsetgroup\": \"Clave platillo=MCL\\u00c141\", \"orientation\": \"v\", \"showlegend\": true, \"textposition\": \"auto\", \"type\": \"bar\", \"x\": [\"CL\\u00c1SICOS\"], \"xaxis\": \"x\", \"y\": [47.0], \"yaxis\": \"y\"}, {\"alignmentgroup\": \"True\", \"hoverlabel\": {\"namelength\": 0}, \"hovertemplate\": \"Clave platillo=MCL\\u00c140<br>Grupo=%{x}<br>Cantidad=%{y}\", \"legendgroup\": \"Clave platillo=MCL\\u00c140\", \"marker\": {\"color\": \"#00cc96\"}, \"name\": \"Clave platillo=MCL\\u00c140\", \"offsetgroup\": \"Clave platillo=MCL\\u00c140\", \"orientation\": \"v\", \"showlegend\": true, \"textposition\": \"auto\", \"type\": \"bar\", \"x\": [\"CL\\u00c1SICOS\"], \"xaxis\": \"x\", \"y\": [2.0], \"yaxis\": \"y\"}, {\"alignmentgroup\": \"True\", \"hoverlabel\": {\"namelength\": 0}, \"hovertemplate\": \"Clave platillo=MCL\\u00c14<br>Grupo=%{x}<br>Cantidad=%{y}\", \"legendgroup\": \"Clave platillo=MCL\\u00c14\", \"marker\": {\"color\": \"#ab63fa\"}, \"name\": \"Clave platillo=MCL\\u00c14\", \"offsetgroup\": \"Clave platillo=MCL\\u00c14\", \"orientation\": \"v\", \"showlegend\": true, \"textposition\": \"auto\", \"type\": \"bar\", \"x\": [\"CL\\u00c1SICOS\"], \"xaxis\": \"x\", \"y\": [12.0], \"yaxis\": \"y\"}, {\"alignmentgroup\": \"True\", \"hoverlabel\": {\"namelength\": 0}, \"hovertemplate\": \"Clave platillo=MCL\\u00c139<br>Grupo=%{x}<br>Cantidad=%{y}\", \"legendgroup\": \"Clave platillo=MCL\\u00c139\", \"marker\": {\"color\": \"#FFA15A\"}, \"name\": \"Clave platillo=MCL\\u00c139\", \"offsetgroup\": \"Clave platillo=MCL\\u00c139\", \"orientation\": \"v\", \"showlegend\": true, \"textposition\": \"auto\", \"type\": \"bar\", \"x\": [\"CL\\u00c1SICOS\"], \"xaxis\": \"x\", \"y\": [1.0], \"yaxis\": \"y\"}, {\"alignmentgroup\": \"True\", \"hoverlabel\": {\"namelength\": 0}, \"hovertemplate\": \"Clave platillo=MCL\\u00c138<br>Grupo=%{x}<br>Cantidad=%{y}\", \"legendgroup\": \"Clave platillo=MCL\\u00c138\", \"marker\": {\"color\": \"#19d3f3\"}, \"name\": \"Clave platillo=MCL\\u00c138\", \"offsetgroup\": \"Clave platillo=MCL\\u00c138\", \"orientation\": \"v\", \"showlegend\": true, \"textposition\": \"auto\", \"type\": \"bar\", \"x\": [\"CL\\u00c1SICOS\"], \"xaxis\": \"x\", \"y\": [4.0], \"yaxis\": \"y\"}, {\"alignmentgroup\": \"True\", \"hoverlabel\": {\"namelength\": 0}, \"hovertemplate\": \"Clave platillo=MCL\\u00c137<br>Grupo=%{x}<br>Cantidad=%{y}\", \"legendgroup\": \"Clave platillo=MCL\\u00c137\", \"marker\": {\"color\": \"#FF6692\"}, \"name\": \"Clave platillo=MCL\\u00c137\", \"offsetgroup\": \"Clave platillo=MCL\\u00c137\", \"orientation\": \"v\", \"showlegend\": true, \"textposition\": \"auto\", \"type\": \"bar\", \"x\": [\"CL\\u00c1SICOS\"], \"xaxis\": \"x\", \"y\": [1.0], \"yaxis\": \"y\"}, {\"alignmentgroup\": \"True\", \"hoverlabel\": {\"namelength\": 0}, \"hovertemplate\": \"Clave platillo=MCL\\u00c136<br>Grupo=%{x}<br>Cantidad=%{y}\", \"legendgroup\": \"Clave platillo=MCL\\u00c136\", \"marker\": {\"color\": \"#B6E880\"}, \"name\": \"Clave platillo=MCL\\u00c136\", \"offsetgroup\": \"Clave platillo=MCL\\u00c136\", \"orientation\": \"v\", \"showlegend\": true, \"textposition\": \"auto\", \"type\": \"bar\", \"x\": [\"CL\\u00c1SICOS\"], \"xaxis\": \"x\", \"y\": [5.0], \"yaxis\": \"y\"}, {\"alignmentgroup\": \"True\", \"hoverlabel\": {\"namelength\": 0}, \"hovertemplate\": \"Clave platillo=MCL\\u00c135<br>Grupo=%{x}<br>Cantidad=%{y}\", \"legendgroup\": \"Clave platillo=MCL\\u00c135\", \"marker\": {\"color\": \"#FF97FF\"}, \"name\": \"Clave platillo=MCL\\u00c135\", \"offsetgroup\": \"Clave platillo=MCL\\u00c135\", \"orientation\": \"v\", \"showlegend\": true, \"textposition\": \"auto\", \"type\": \"bar\", \"x\": [\"CL\\u00c1SICOS\"], \"xaxis\": \"x\", \"y\": [1.0], \"yaxis\": \"y\"}, {\"alignmentgroup\": \"True\", \"hoverlabel\": {\"namelength\": 0}, \"hovertemplate\": \"Clave platillo=MCL\\u00c134<br>Grupo=%{x}<br>Cantidad=%{y}\", \"legendgroup\": \"Clave platillo=MCL\\u00c134\", \"marker\": {\"color\": \"#FECB52\"}, \"name\": \"Clave platillo=MCL\\u00c134\", \"offsetgroup\": \"Clave platillo=MCL\\u00c134\", \"orientation\": \"v\", \"showlegend\": true, \"textposition\": \"auto\", \"type\": \"bar\", \"x\": [\"CL\\u00c1SICOS\"], \"xaxis\": \"x\", \"y\": [88.0], \"yaxis\": \"y\"}, {\"alignmentgroup\": \"True\", \"hoverlabel\": {\"namelength\": 0}, \"hovertemplate\": \"Clave platillo=MCL\\u00c133<br>Grupo=%{x}<br>Cantidad=%{y}\", \"legendgroup\": \"Clave platillo=MCL\\u00c133\", \"marker\": {\"color\": \"#636efa\"}, \"name\": \"Clave platillo=MCL\\u00c133\", \"offsetgroup\": \"Clave platillo=MCL\\u00c133\", \"orientation\": \"v\", \"showlegend\": true, \"textposition\": \"auto\", \"type\": \"bar\", \"x\": [\"CL\\u00c1SICOS\"], \"xaxis\": \"x\", \"y\": [18.0], \"yaxis\": \"y\"}, {\"alignmentgroup\": \"True\", \"hoverlabel\": {\"namelength\": 0}, \"hovertemplate\": \"Clave platillo=MCL\\u00c132<br>Grupo=%{x}<br>Cantidad=%{y}\", \"legendgroup\": \"Clave platillo=MCL\\u00c132\", \"marker\": {\"color\": \"#EF553B\"}, \"name\": \"Clave platillo=MCL\\u00c132\", \"offsetgroup\": \"Clave platillo=MCL\\u00c132\", \"orientation\": \"v\", \"showlegend\": true, \"textposition\": \"auto\", \"type\": \"bar\", \"x\": [\"CL\\u00c1SICOS\"], \"xaxis\": \"x\", \"y\": [13.0], \"yaxis\": \"y\"}, {\"alignmentgroup\": \"True\", \"hoverlabel\": {\"namelength\": 0}, \"hovertemplate\": \"Clave platillo=MCL\\u00c131<br>Grupo=%{x}<br>Cantidad=%{y}\", \"legendgroup\": \"Clave platillo=MCL\\u00c131\", \"marker\": {\"color\": \"#00cc96\"}, \"name\": \"Clave platillo=MCL\\u00c131\", \"offsetgroup\": \"Clave platillo=MCL\\u00c131\", \"orientation\": \"v\", \"showlegend\": true, \"textposition\": \"auto\", \"type\": \"bar\", \"x\": [\"CL\\u00c1SICOS\"], \"xaxis\": \"x\", \"y\": [13.0], \"yaxis\": \"y\"}, {\"alignmentgroup\": \"True\", \"hoverlabel\": {\"namelength\": 0}, \"hovertemplate\": \"Clave platillo=MCL\\u00c130<br>Grupo=%{x}<br>Cantidad=%{y}\", \"legendgroup\": \"Clave platillo=MCL\\u00c130\", \"marker\": {\"color\": \"#ab63fa\"}, \"name\": \"Clave platillo=MCL\\u00c130\", \"offsetgroup\": \"Clave platillo=MCL\\u00c130\", \"orientation\": \"v\", \"showlegend\": true, \"textposition\": \"auto\", \"type\": \"bar\", \"x\": [\"CL\\u00c1SICOS\"], \"xaxis\": \"x\", \"y\": [28.0], \"yaxis\": \"y\"}, {\"alignmentgroup\": \"True\", \"hoverlabel\": {\"namelength\": 0}, \"hovertemplate\": \"Clave platillo=MCL\\u00c128<br>Grupo=%{x}<br>Cantidad=%{y}\", \"legendgroup\": \"Clave platillo=MCL\\u00c128\", \"marker\": {\"color\": \"#FFA15A\"}, \"name\": \"Clave platillo=MCL\\u00c128\", \"offsetgroup\": \"Clave platillo=MCL\\u00c128\", \"orientation\": \"v\", \"showlegend\": true, \"textposition\": \"auto\", \"type\": \"bar\", \"x\": [\"CL\\u00c1SICOS\"], \"xaxis\": \"x\", \"y\": [25.0], \"yaxis\": \"y\"}, {\"alignmentgroup\": \"True\", \"hoverlabel\": {\"namelength\": 0}, \"hovertemplate\": \"Clave platillo=MCL\\u00c127<br>Grupo=%{x}<br>Cantidad=%{y}\", \"legendgroup\": \"Clave platillo=MCL\\u00c127\", \"marker\": {\"color\": \"#19d3f3\"}, \"name\": \"Clave platillo=MCL\\u00c127\", \"offsetgroup\": \"Clave platillo=MCL\\u00c127\", \"orientation\": \"v\", \"showlegend\": true, \"textposition\": \"auto\", \"type\": \"bar\", \"x\": [\"CL\\u00c1SICOS\"], \"xaxis\": \"x\", \"y\": [9.0], \"yaxis\": \"y\"}, {\"alignmentgroup\": \"True\", \"hoverlabel\": {\"namelength\": 0}, \"hovertemplate\": \"Clave platillo=MCL\\u00c126<br>Grupo=%{x}<br>Cantidad=%{y}\", \"legendgroup\": \"Clave platillo=MCL\\u00c126\", \"marker\": {\"color\": \"#FF6692\"}, \"name\": \"Clave platillo=MCL\\u00c126\", \"offsetgroup\": \"Clave platillo=MCL\\u00c126\", \"orientation\": \"v\", \"showlegend\": true, \"textposition\": \"auto\", \"type\": \"bar\", \"x\": [\"CL\\u00c1SICOS\"], \"xaxis\": \"x\", \"y\": [1.0], \"yaxis\": \"y\"}, {\"alignmentgroup\": \"True\", \"hoverlabel\": {\"namelength\": 0}, \"hovertemplate\": \"Clave platillo=MCL\\u00c125<br>Grupo=%{x}<br>Cantidad=%{y}\", \"legendgroup\": \"Clave platillo=MCL\\u00c125\", \"marker\": {\"color\": \"#B6E880\"}, \"name\": \"Clave platillo=MCL\\u00c125\", \"offsetgroup\": \"Clave platillo=MCL\\u00c125\", \"orientation\": \"v\", \"showlegend\": true, \"textposition\": \"auto\", \"type\": \"bar\", \"x\": [\"CL\\u00c1SICOS\"], \"xaxis\": \"x\", \"y\": [804.0], \"yaxis\": \"y\"}, {\"alignmentgroup\": \"True\", \"hoverlabel\": {\"namelength\": 0}, \"hovertemplate\": \"Clave platillo=MCL\\u00c124<br>Grupo=%{x}<br>Cantidad=%{y}\", \"legendgroup\": \"Clave platillo=MCL\\u00c124\", \"marker\": {\"color\": \"#FF97FF\"}, \"name\": \"Clave platillo=MCL\\u00c124\", \"offsetgroup\": \"Clave platillo=MCL\\u00c124\", \"orientation\": \"v\", \"showlegend\": true, \"textposition\": \"auto\", \"type\": \"bar\", \"x\": [\"CL\\u00c1SICOS\"], \"xaxis\": \"x\", \"y\": [39.0], \"yaxis\": \"y\"}, {\"alignmentgroup\": \"True\", \"hoverlabel\": {\"namelength\": 0}, \"hovertemplate\": \"Clave platillo=MCL\\u00c123<br>Grupo=%{x}<br>Cantidad=%{y}\", \"legendgroup\": \"Clave platillo=MCL\\u00c123\", \"marker\": {\"color\": \"#FECB52\"}, \"name\": \"Clave platillo=MCL\\u00c123\", \"offsetgroup\": \"Clave platillo=MCL\\u00c123\", \"orientation\": \"v\", \"showlegend\": true, \"textposition\": \"auto\", \"type\": \"bar\", \"x\": [\"CL\\u00c1SICOS\"], \"xaxis\": \"x\", \"y\": [56.0], \"yaxis\": \"y\"}, {\"alignmentgroup\": \"True\", \"hoverlabel\": {\"namelength\": 0}, \"hovertemplate\": \"Clave platillo=MCL\\u00c122<br>Grupo=%{x}<br>Cantidad=%{y}\", \"legendgroup\": \"Clave platillo=MCL\\u00c122\", \"marker\": {\"color\": \"#636efa\"}, \"name\": \"Clave platillo=MCL\\u00c122\", \"offsetgroup\": \"Clave platillo=MCL\\u00c122\", \"orientation\": \"v\", \"showlegend\": true, \"textposition\": \"auto\", \"type\": \"bar\", \"x\": [\"CL\\u00c1SICOS\"], \"xaxis\": \"x\", \"y\": [58.0], \"yaxis\": \"y\"}, {\"alignmentgroup\": \"True\", \"hoverlabel\": {\"namelength\": 0}, \"hovertemplate\": \"Clave platillo=MCL\\u00c121<br>Grupo=%{x}<br>Cantidad=%{y}\", \"legendgroup\": \"Clave platillo=MCL\\u00c121\", \"marker\": {\"color\": \"#EF553B\"}, \"name\": \"Clave platillo=MCL\\u00c121\", \"offsetgroup\": \"Clave platillo=MCL\\u00c121\", \"orientation\": \"v\", \"showlegend\": true, \"textposition\": \"auto\", \"type\": \"bar\", \"x\": [\"CL\\u00c1SICOS\"], \"xaxis\": \"x\", \"y\": [62.0], \"yaxis\": \"y\"}, {\"alignmentgroup\": \"True\", \"hoverlabel\": {\"namelength\": 0}, \"hovertemplate\": \"Clave platillo=MCL\\u00c120<br>Grupo=%{x}<br>Cantidad=%{y}\", \"legendgroup\": \"Clave platillo=MCL\\u00c120\", \"marker\": {\"color\": \"#00cc96\"}, \"name\": \"Clave platillo=MCL\\u00c120\", \"offsetgroup\": \"Clave platillo=MCL\\u00c120\", \"orientation\": \"v\", \"showlegend\": true, \"textposition\": \"auto\", \"type\": \"bar\", \"x\": [\"CL\\u00c1SICOS\"], \"xaxis\": \"x\", \"y\": [13.0], \"yaxis\": \"y\"}, {\"alignmentgroup\": \"True\", \"hoverlabel\": {\"namelength\": 0}, \"hovertemplate\": \"Clave platillo=MCL\\u00c12<br>Grupo=%{x}<br>Cantidad=%{y}\", \"legendgroup\": \"Clave platillo=MCL\\u00c12\", \"marker\": {\"color\": \"#ab63fa\"}, \"name\": \"Clave platillo=MCL\\u00c12\", \"offsetgroup\": \"Clave platillo=MCL\\u00c12\", \"orientation\": \"v\", \"showlegend\": true, \"textposition\": \"auto\", \"type\": \"bar\", \"x\": [\"CL\\u00c1SICOS\"], \"xaxis\": \"x\", \"y\": [14.0], \"yaxis\": \"y\"}, {\"alignmentgroup\": \"True\", \"hoverlabel\": {\"namelength\": 0}, \"hovertemplate\": \"Clave platillo=MCL\\u00c119<br>Grupo=%{x}<br>Cantidad=%{y}\", \"legendgroup\": \"Clave platillo=MCL\\u00c119\", \"marker\": {\"color\": \"#FFA15A\"}, \"name\": \"Clave platillo=MCL\\u00c119\", \"offsetgroup\": \"Clave platillo=MCL\\u00c119\", \"orientation\": \"v\", \"showlegend\": true, \"textposition\": \"auto\", \"type\": \"bar\", \"x\": [\"CL\\u00c1SICOS\"], \"xaxis\": \"x\", \"y\": [100.0], \"yaxis\": \"y\"}, {\"alignmentgroup\": \"True\", \"hoverlabel\": {\"namelength\": 0}, \"hovertemplate\": \"Clave platillo=MCL\\u00c118<br>Grupo=%{x}<br>Cantidad=%{y}\", \"legendgroup\": \"Clave platillo=MCL\\u00c118\", \"marker\": {\"color\": \"#19d3f3\"}, \"name\": \"Clave platillo=MCL\\u00c118\", \"offsetgroup\": \"Clave platillo=MCL\\u00c118\", \"orientation\": \"v\", \"showlegend\": true, \"textposition\": \"auto\", \"type\": \"bar\", \"x\": [\"CL\\u00c1SICOS\"], \"xaxis\": \"x\", \"y\": [44.0], \"yaxis\": \"y\"}, {\"alignmentgroup\": \"True\", \"hoverlabel\": {\"namelength\": 0}, \"hovertemplate\": \"Clave platillo=MCL\\u00c117<br>Grupo=%{x}<br>Cantidad=%{y}\", \"legendgroup\": \"Clave platillo=MCL\\u00c117\", \"marker\": {\"color\": \"#FF6692\"}, \"name\": \"Clave platillo=MCL\\u00c117\", \"offsetgroup\": \"Clave platillo=MCL\\u00c117\", \"orientation\": \"v\", \"showlegend\": true, \"textposition\": \"auto\", \"type\": \"bar\", \"x\": [\"CL\\u00c1SICOS\"], \"xaxis\": \"x\", \"y\": [35.0], \"yaxis\": \"y\"}, {\"alignmentgroup\": \"True\", \"hoverlabel\": {\"namelength\": 0}, \"hovertemplate\": \"Clave platillo=MCL\\u00c116<br>Grupo=%{x}<br>Cantidad=%{y}\", \"legendgroup\": \"Clave platillo=MCL\\u00c116\", \"marker\": {\"color\": \"#B6E880\"}, \"name\": \"Clave platillo=MCL\\u00c116\", \"offsetgroup\": \"Clave platillo=MCL\\u00c116\", \"orientation\": \"v\", \"showlegend\": true, \"textposition\": \"auto\", \"type\": \"bar\", \"x\": [\"CL\\u00c1SICOS\"], \"xaxis\": \"x\", \"y\": [12.0], \"yaxis\": \"y\"}, {\"alignmentgroup\": \"True\", \"hoverlabel\": {\"namelength\": 0}, \"hovertemplate\": \"Clave platillo=MCL\\u00c115<br>Grupo=%{x}<br>Cantidad=%{y}\", \"legendgroup\": \"Clave platillo=MCL\\u00c115\", \"marker\": {\"color\": \"#FF97FF\"}, \"name\": \"Clave platillo=MCL\\u00c115\", \"offsetgroup\": \"Clave platillo=MCL\\u00c115\", \"orientation\": \"v\", \"showlegend\": true, \"textposition\": \"auto\", \"type\": \"bar\", \"x\": [\"CL\\u00c1SICOS\"], \"xaxis\": \"x\", \"y\": [9.0], \"yaxis\": \"y\"}, {\"alignmentgroup\": \"True\", \"hoverlabel\": {\"namelength\": 0}, \"hovertemplate\": \"Clave platillo=MCL\\u00c114<br>Grupo=%{x}<br>Cantidad=%{y}\", \"legendgroup\": \"Clave platillo=MCL\\u00c114\", \"marker\": {\"color\": \"#FECB52\"}, \"name\": \"Clave platillo=MCL\\u00c114\", \"offsetgroup\": \"Clave platillo=MCL\\u00c114\", \"orientation\": \"v\", \"showlegend\": true, \"textposition\": \"auto\", \"type\": \"bar\", \"x\": [\"CL\\u00c1SICOS\"], \"xaxis\": \"x\", \"y\": [8.0], \"yaxis\": \"y\"}, {\"alignmentgroup\": \"True\", \"hoverlabel\": {\"namelength\": 0}, \"hovertemplate\": \"Clave platillo=MCL\\u00c113<br>Grupo=%{x}<br>Cantidad=%{y}\", \"legendgroup\": \"Clave platillo=MCL\\u00c113\", \"marker\": {\"color\": \"#636efa\"}, \"name\": \"Clave platillo=MCL\\u00c113\", \"offsetgroup\": \"Clave platillo=MCL\\u00c113\", \"orientation\": \"v\", \"showlegend\": true, \"textposition\": \"auto\", \"type\": \"bar\", \"x\": [\"CL\\u00c1SICOS\"], \"xaxis\": \"x\", \"y\": [7.0], \"yaxis\": \"y\"}, {\"alignmentgroup\": \"True\", \"hoverlabel\": {\"namelength\": 0}, \"hovertemplate\": \"Clave platillo=MCL\\u00c111<br>Grupo=%{x}<br>Cantidad=%{y}\", \"legendgroup\": \"Clave platillo=MCL\\u00c111\", \"marker\": {\"color\": \"#EF553B\"}, \"name\": \"Clave platillo=MCL\\u00c111\", \"offsetgroup\": \"Clave platillo=MCL\\u00c111\", \"orientation\": \"v\", \"showlegend\": true, \"textposition\": \"auto\", \"type\": \"bar\", \"x\": [\"CL\\u00c1SICOS\"], \"xaxis\": \"x\", \"y\": [3.0], \"yaxis\": \"y\"}, {\"alignmentgroup\": \"True\", \"hoverlabel\": {\"namelength\": 0}, \"hovertemplate\": \"Clave platillo=MCL\\u00c110<br>Grupo=%{x}<br>Cantidad=%{y}\", \"legendgroup\": \"Clave platillo=MCL\\u00c110\", \"marker\": {\"color\": \"#00cc96\"}, \"name\": \"Clave platillo=MCL\\u00c110\", \"offsetgroup\": \"Clave platillo=MCL\\u00c110\", \"orientation\": \"v\", \"showlegend\": true, \"textposition\": \"auto\", \"type\": \"bar\", \"x\": [\"CL\\u00c1SICOS\"], \"xaxis\": \"x\", \"y\": [4.0], \"yaxis\": \"y\"}, {\"alignmentgroup\": \"True\", \"hoverlabel\": {\"namelength\": 0}, \"hovertemplate\": \"Clave platillo=MCL\\u00c11<br>Grupo=%{x}<br>Cantidad=%{y}\", \"legendgroup\": \"Clave platillo=MCL\\u00c11\", \"marker\": {\"color\": \"#ab63fa\"}, \"name\": \"Clave platillo=MCL\\u00c11\", \"offsetgroup\": \"Clave platillo=MCL\\u00c11\", \"orientation\": \"v\", \"showlegend\": true, \"textposition\": \"auto\", \"type\": \"bar\", \"x\": [\"CL\\u00c1SICOS\"], \"xaxis\": \"x\", \"y\": [6.0], \"yaxis\": \"y\"}, {\"alignmentgroup\": \"True\", \"hoverlabel\": {\"namelength\": 0}, \"hovertemplate\": \"Clave platillo=MCL90003<br>Grupo=%{x}<br>Cantidad=%{y}\", \"legendgroup\": \"Clave platillo=MCL90003\", \"marker\": {\"color\": \"#FFA15A\"}, \"name\": \"Clave platillo=MCL90003\", \"offsetgroup\": \"Clave platillo=MCL90003\", \"orientation\": \"v\", \"showlegend\": true, \"textposition\": \"auto\", \"type\": \"bar\", \"x\": [\"CL\\u00c1SICOS\"], \"xaxis\": \"x\", \"y\": [2.0], \"yaxis\": \"y\"}, {\"alignmentgroup\": \"True\", \"hoverlabel\": {\"namelength\": 0}, \"hovertemplate\": \"Clave platillo=MCL90002<br>Grupo=%{x}<br>Cantidad=%{y}\", \"legendgroup\": \"Clave platillo=MCL90002\", \"marker\": {\"color\": \"#19d3f3\"}, \"name\": \"Clave platillo=MCL90002\", \"offsetgroup\": \"Clave platillo=MCL90002\", \"orientation\": \"v\", \"showlegend\": true, \"textposition\": \"auto\", \"type\": \"bar\", \"x\": [\"CL\\u00c1SICOS\"], \"xaxis\": \"x\", \"y\": [115.0], \"yaxis\": \"y\"}, {\"alignmentgroup\": \"True\", \"hoverlabel\": {\"namelength\": 0}, \"hovertemplate\": \"Clave platillo=MCL90001<br>Grupo=%{x}<br>Cantidad=%{y}\", \"legendgroup\": \"Clave platillo=MCL90001\", \"marker\": {\"color\": \"#FF6692\"}, \"name\": \"Clave platillo=MCL90001\", \"offsetgroup\": \"Clave platillo=MCL90001\", \"orientation\": \"v\", \"showlegend\": true, \"textposition\": \"auto\", \"type\": \"bar\", \"x\": [\"CL\\u00c1SICOS\"], \"xaxis\": \"x\", \"y\": [31.0], \"yaxis\": \"y\"}, {\"alignmentgroup\": \"True\", \"hoverlabel\": {\"namelength\": 0}, \"hovertemplate\": \"Clave platillo=MBEB7<br>Grupo=%{x}<br>Cantidad=%{y}\", \"legendgroup\": \"Clave platillo=MBEB7\", \"marker\": {\"color\": \"#B6E880\"}, \"name\": \"Clave platillo=MBEB7\", \"offsetgroup\": \"Clave platillo=MBEB7\", \"orientation\": \"v\", \"showlegend\": true, \"textposition\": \"auto\", \"type\": \"bar\", \"x\": [\"BEBIDAS\"], \"xaxis\": \"x\", \"y\": [10.0], \"yaxis\": \"y\"}, {\"alignmentgroup\": \"True\", \"hoverlabel\": {\"namelength\": 0}, \"hovertemplate\": \"Clave platillo=MBEB6<br>Grupo=%{x}<br>Cantidad=%{y}\", \"legendgroup\": \"Clave platillo=MBEB6\", \"marker\": {\"color\": \"#FF97FF\"}, \"name\": \"Clave platillo=MBEB6\", \"offsetgroup\": \"Clave platillo=MBEB6\", \"orientation\": \"v\", \"showlegend\": true, \"textposition\": \"auto\", \"type\": \"bar\", \"x\": [\"BEBIDAS\"], \"xaxis\": \"x\", \"y\": [93.0], \"yaxis\": \"y\"}, {\"alignmentgroup\": \"True\", \"hoverlabel\": {\"namelength\": 0}, \"hovertemplate\": \"Clave platillo=MBEB5<br>Grupo=%{x}<br>Cantidad=%{y}\", \"legendgroup\": \"Clave platillo=MBEB5\", \"marker\": {\"color\": \"#FECB52\"}, \"name\": \"Clave platillo=MBEB5\", \"offsetgroup\": \"Clave platillo=MBEB5\", \"orientation\": \"v\", \"showlegend\": true, \"textposition\": \"auto\", \"type\": \"bar\", \"x\": [\"BEBIDAS\"], \"xaxis\": \"x\", \"y\": [11.0], \"yaxis\": \"y\"}, {\"alignmentgroup\": \"True\", \"hoverlabel\": {\"namelength\": 0}, \"hovertemplate\": \"Clave platillo=MBEB4<br>Grupo=%{x}<br>Cantidad=%{y}\", \"legendgroup\": \"Clave platillo=MBEB4\", \"marker\": {\"color\": \"#636efa\"}, \"name\": \"Clave platillo=MBEB4\", \"offsetgroup\": \"Clave platillo=MBEB4\", \"orientation\": \"v\", \"showlegend\": true, \"textposition\": \"auto\", \"type\": \"bar\", \"x\": [\"BEBIDAS\"], \"xaxis\": \"x\", \"y\": [120.0], \"yaxis\": \"y\"}, {\"alignmentgroup\": \"True\", \"hoverlabel\": {\"namelength\": 0}, \"hovertemplate\": \"Clave platillo=MBEB3<br>Grupo=%{x}<br>Cantidad=%{y}\", \"legendgroup\": \"Clave platillo=MBEB3\", \"marker\": {\"color\": \"#EF553B\"}, \"name\": \"Clave platillo=MBEB3\", \"offsetgroup\": \"Clave platillo=MBEB3\", \"orientation\": \"v\", \"showlegend\": true, \"textposition\": \"auto\", \"type\": \"bar\", \"x\": [\"BEBIDAS\"], \"xaxis\": \"x\", \"y\": [3.0], \"yaxis\": \"y\"}, {\"alignmentgroup\": \"True\", \"hoverlabel\": {\"namelength\": 0}, \"hovertemplate\": \"Clave platillo=MBEB1<br>Grupo=%{x}<br>Cantidad=%{y}\", \"legendgroup\": \"Clave platillo=MBEB1\", \"marker\": {\"color\": \"#00cc96\"}, \"name\": \"Clave platillo=MBEB1\", \"offsetgroup\": \"Clave platillo=MBEB1\", \"orientation\": \"v\", \"showlegend\": true, \"textposition\": \"auto\", \"type\": \"bar\", \"x\": [\"BEBIDAS\"], \"xaxis\": \"x\", \"y\": [31.0], \"yaxis\": \"y\"}, {\"alignmentgroup\": \"True\", \"hoverlabel\": {\"namelength\": 0}, \"hovertemplate\": \"Clave platillo=MBCA9<br>Grupo=%{x}<br>Cantidad=%{y}\", \"legendgroup\": \"Clave platillo=MBCA9\", \"marker\": {\"color\": \"#ab63fa\"}, \"name\": \"Clave platillo=MBCA9\", \"offsetgroup\": \"Clave platillo=MBCA9\", \"orientation\": \"v\", \"showlegend\": true, \"textposition\": \"auto\", \"type\": \"bar\", \"x\": [\"BEBIDAS CON ALCOHOL\"], \"xaxis\": \"x\", \"y\": [10.0], \"yaxis\": \"y\"}, {\"alignmentgroup\": \"True\", \"hoverlabel\": {\"namelength\": 0}, \"hovertemplate\": \"Clave platillo=MBCA8<br>Grupo=%{x}<br>Cantidad=%{y}\", \"legendgroup\": \"Clave platillo=MBCA8\", \"marker\": {\"color\": \"#FFA15A\"}, \"name\": \"Clave platillo=MBCA8\", \"offsetgroup\": \"Clave platillo=MBCA8\", \"orientation\": \"v\", \"showlegend\": true, \"textposition\": \"auto\", \"type\": \"bar\", \"x\": [\"BEBIDAS CON ALCOHOL\"], \"xaxis\": \"x\", \"y\": [54.0], \"yaxis\": \"y\"}, {\"alignmentgroup\": \"True\", \"hoverlabel\": {\"namelength\": 0}, \"hovertemplate\": \"Clave platillo=MBCA73<br>Grupo=%{x}<br>Cantidad=%{y}\", \"legendgroup\": \"Clave platillo=MBCA73\", \"marker\": {\"color\": \"#19d3f3\"}, \"name\": \"Clave platillo=MBCA73\", \"offsetgroup\": \"Clave platillo=MBCA73\", \"orientation\": \"v\", \"showlegend\": true, \"textposition\": \"auto\", \"type\": \"bar\", \"x\": [\"BEBIDAS CON ALCOHOL\"], \"xaxis\": \"x\", \"y\": [3.0], \"yaxis\": \"y\"}, {\"alignmentgroup\": \"True\", \"hoverlabel\": {\"namelength\": 0}, \"hovertemplate\": \"Clave platillo=MBCA72<br>Grupo=%{x}<br>Cantidad=%{y}\", \"legendgroup\": \"Clave platillo=MBCA72\", \"marker\": {\"color\": \"#FF6692\"}, \"name\": \"Clave platillo=MBCA72\", \"offsetgroup\": \"Clave platillo=MBCA72\", \"orientation\": \"v\", \"showlegend\": true, \"textposition\": \"auto\", \"type\": \"bar\", \"x\": [\"BEBIDAS CON ALCOHOL\"], \"xaxis\": \"x\", \"y\": [142.0], \"yaxis\": \"y\"}, {\"alignmentgroup\": \"True\", \"hoverlabel\": {\"namelength\": 0}, \"hovertemplate\": \"Clave platillo=MBCA71<br>Grupo=%{x}<br>Cantidad=%{y}\", \"legendgroup\": \"Clave platillo=MBCA71\", \"marker\": {\"color\": \"#B6E880\"}, \"name\": \"Clave platillo=MBCA71\", \"offsetgroup\": \"Clave platillo=MBCA71\", \"orientation\": \"v\", \"showlegend\": true, \"textposition\": \"auto\", \"type\": \"bar\", \"x\": [\"BEBIDAS CON ALCOHOL\"], \"xaxis\": \"x\", \"y\": [19.0], \"yaxis\": \"y\"}, {\"alignmentgroup\": \"True\", \"hoverlabel\": {\"namelength\": 0}, \"hovertemplate\": \"Clave platillo=MBCA70<br>Grupo=%{x}<br>Cantidad=%{y}\", \"legendgroup\": \"Clave platillo=MBCA70\", \"marker\": {\"color\": \"#FF97FF\"}, \"name\": \"Clave platillo=MBCA70\", \"offsetgroup\": \"Clave platillo=MBCA70\", \"orientation\": \"v\", \"showlegend\": true, \"textposition\": \"auto\", \"type\": \"bar\", \"x\": [\"BEBIDAS CON ALCOHOL\"], \"xaxis\": \"x\", \"y\": [224.0], \"yaxis\": \"y\"}, {\"alignmentgroup\": \"True\", \"hoverlabel\": {\"namelength\": 0}, \"hovertemplate\": \"Clave platillo=MBCA7<br>Grupo=%{x}<br>Cantidad=%{y}\", \"legendgroup\": \"Clave platillo=MBCA7\", \"marker\": {\"color\": \"#FECB52\"}, \"name\": \"Clave platillo=MBCA7\", \"offsetgroup\": \"Clave platillo=MBCA7\", \"orientation\": \"v\", \"showlegend\": true, \"textposition\": \"auto\", \"type\": \"bar\", \"x\": [\"BEBIDAS CON ALCOHOL\"], \"xaxis\": \"x\", \"y\": [10.0], \"yaxis\": \"y\"}, {\"alignmentgroup\": \"True\", \"hoverlabel\": {\"namelength\": 0}, \"hovertemplate\": \"Clave platillo=MBCA66<br>Grupo=%{x}<br>Cantidad=%{y}\", \"legendgroup\": \"Clave platillo=MBCA66\", \"marker\": {\"color\": \"#636efa\"}, \"name\": \"Clave platillo=MBCA66\", \"offsetgroup\": \"Clave platillo=MBCA66\", \"orientation\": \"v\", \"showlegend\": true, \"textposition\": \"auto\", \"type\": \"bar\", \"x\": [\"BEBIDAS SIN ALCOHOL\"], \"xaxis\": \"x\", \"y\": [6.0], \"yaxis\": \"y\"}, {\"alignmentgroup\": \"True\", \"hoverlabel\": {\"namelength\": 0}, \"hovertemplate\": \"Clave platillo=MBCA65<br>Grupo=%{x}<br>Cantidad=%{y}\", \"legendgroup\": \"Clave platillo=MBCA65\", \"marker\": {\"color\": \"#EF553B\"}, \"name\": \"Clave platillo=MBCA65\", \"offsetgroup\": \"Clave platillo=MBCA65\", \"orientation\": \"v\", \"showlegend\": true, \"textposition\": \"auto\", \"type\": \"bar\", \"x\": [\"BEBIDAS SIN ALCOHOL\"], \"xaxis\": \"x\", \"y\": [8.0], \"yaxis\": \"y\"}, {\"alignmentgroup\": \"True\", \"hoverlabel\": {\"namelength\": 0}, \"hovertemplate\": \"Clave platillo=MBCA64<br>Grupo=%{x}<br>Cantidad=%{y}\", \"legendgroup\": \"Clave platillo=MBCA64\", \"marker\": {\"color\": \"#00cc96\"}, \"name\": \"Clave platillo=MBCA64\", \"offsetgroup\": \"Clave platillo=MBCA64\", \"orientation\": \"v\", \"showlegend\": true, \"textposition\": \"auto\", \"type\": \"bar\", \"x\": [\"BEBIDAS SIN ALCOHOL\"], \"xaxis\": \"x\", \"y\": [342.0], \"yaxis\": \"y\"}, {\"alignmentgroup\": \"True\", \"hoverlabel\": {\"namelength\": 0}, \"hovertemplate\": \"Clave platillo=MBCA63<br>Grupo=%{x}<br>Cantidad=%{y}\", \"legendgroup\": \"Clave platillo=MBCA63\", \"marker\": {\"color\": \"#ab63fa\"}, \"name\": \"Clave platillo=MBCA63\", \"offsetgroup\": \"Clave platillo=MBCA63\", \"orientation\": \"v\", \"showlegend\": true, \"textposition\": \"auto\", \"type\": \"bar\", \"x\": [\"BEBIDAS SIN ALCOHOL\"], \"xaxis\": \"x\", \"y\": [2002.0], \"yaxis\": \"y\"}, {\"alignmentgroup\": \"True\", \"hoverlabel\": {\"namelength\": 0}, \"hovertemplate\": \"Clave platillo=MBCA61<br>Grupo=%{x}<br>Cantidad=%{y}\", \"legendgroup\": \"Clave platillo=MBCA61\", \"marker\": {\"color\": \"#FFA15A\"}, \"name\": \"Clave platillo=MBCA61\", \"offsetgroup\": \"Clave platillo=MBCA61\", \"orientation\": \"v\", \"showlegend\": true, \"textposition\": \"auto\", \"type\": \"bar\", \"x\": [\"BEBIDAS CON ALCOHOL\"], \"xaxis\": \"x\", \"y\": [28.0], \"yaxis\": \"y\"}, {\"alignmentgroup\": \"True\", \"hoverlabel\": {\"namelength\": 0}, \"hovertemplate\": \"Clave platillo=MBCA60<br>Grupo=%{x}<br>Cantidad=%{y}\", \"legendgroup\": \"Clave platillo=MBCA60\", \"marker\": {\"color\": \"#19d3f3\"}, \"name\": \"Clave platillo=MBCA60\", \"offsetgroup\": \"Clave platillo=MBCA60\", \"orientation\": \"v\", \"showlegend\": true, \"textposition\": \"auto\", \"type\": \"bar\", \"x\": [\"BEBIDAS CON ALCOHOL\"], \"xaxis\": \"x\", \"y\": [10.0], \"yaxis\": \"y\"}, {\"alignmentgroup\": \"True\", \"hoverlabel\": {\"namelength\": 0}, \"hovertemplate\": \"Clave platillo=MBCA6<br>Grupo=%{x}<br>Cantidad=%{y}\", \"legendgroup\": \"Clave platillo=MBCA6\", \"marker\": {\"color\": \"#FF6692\"}, \"name\": \"Clave platillo=MBCA6\", \"offsetgroup\": \"Clave platillo=MBCA6\", \"orientation\": \"v\", \"showlegend\": true, \"textposition\": \"auto\", \"type\": \"bar\", \"x\": [\"BEBIDAS CON ALCOHOL\"], \"xaxis\": \"x\", \"y\": [6.0], \"yaxis\": \"y\"}, {\"alignmentgroup\": \"True\", \"hoverlabel\": {\"namelength\": 0}, \"hovertemplate\": \"Clave platillo=MBCA58<br>Grupo=%{x}<br>Cantidad=%{y}\", \"legendgroup\": \"Clave platillo=MBCA58\", \"marker\": {\"color\": \"#B6E880\"}, \"name\": \"Clave platillo=MBCA58\", \"offsetgroup\": \"Clave platillo=MBCA58\", \"orientation\": \"v\", \"showlegend\": true, \"textposition\": \"auto\", \"type\": \"bar\", \"x\": [\"BEBIDAS CON ALCOHOL\"], \"xaxis\": \"x\", \"y\": [8.0], \"yaxis\": \"y\"}, {\"alignmentgroup\": \"True\", \"hoverlabel\": {\"namelength\": 0}, \"hovertemplate\": \"Clave platillo=MBCA56<br>Grupo=%{x}<br>Cantidad=%{y}\", \"legendgroup\": \"Clave platillo=MBCA56\", \"marker\": {\"color\": \"#FF97FF\"}, \"name\": \"Clave platillo=MBCA56\", \"offsetgroup\": \"Clave platillo=MBCA56\", \"orientation\": \"v\", \"showlegend\": true, \"textposition\": \"auto\", \"type\": \"bar\", \"x\": [\"BEBIDAS CON ALCOHOL\"], \"xaxis\": \"x\", \"y\": [260.0], \"yaxis\": \"y\"}, {\"alignmentgroup\": \"True\", \"hoverlabel\": {\"namelength\": 0}, \"hovertemplate\": \"Clave platillo=MBCA54<br>Grupo=%{x}<br>Cantidad=%{y}\", \"legendgroup\": \"Clave platillo=MBCA54\", \"marker\": {\"color\": \"#FECB52\"}, \"name\": \"Clave platillo=MBCA54\", \"offsetgroup\": \"Clave platillo=MBCA54\", \"orientation\": \"v\", \"showlegend\": true, \"textposition\": \"auto\", \"type\": \"bar\", \"x\": [\"BEBIDAS CON ALCOHOL\"], \"xaxis\": \"x\", \"y\": [26.0], \"yaxis\": \"y\"}, {\"alignmentgroup\": \"True\", \"hoverlabel\": {\"namelength\": 0}, \"hovertemplate\": \"Clave platillo=MBCA52<br>Grupo=%{x}<br>Cantidad=%{y}\", \"legendgroup\": \"Clave platillo=MBCA52\", \"marker\": {\"color\": \"#636efa\"}, \"name\": \"Clave platillo=MBCA52\", \"offsetgroup\": \"Clave platillo=MBCA52\", \"orientation\": \"v\", \"showlegend\": true, \"textposition\": \"auto\", \"type\": \"bar\", \"x\": [\"BEBIDAS CON ALCOHOL\"], \"xaxis\": \"x\", \"y\": [8.0], \"yaxis\": \"y\"}, {\"alignmentgroup\": \"True\", \"hoverlabel\": {\"namelength\": 0}, \"hovertemplate\": \"Clave platillo=MBCA50<br>Grupo=%{x}<br>Cantidad=%{y}\", \"legendgroup\": \"Clave platillo=MBCA50\", \"marker\": {\"color\": \"#EF553B\"}, \"name\": \"Clave platillo=MBCA50\", \"offsetgroup\": \"Clave platillo=MBCA50\", \"orientation\": \"v\", \"showlegend\": true, \"textposition\": \"auto\", \"type\": \"bar\", \"x\": [\"BEBIDAS CON ALCOHOL\"], \"xaxis\": \"x\", \"y\": [65.0], \"yaxis\": \"y\"}, {\"alignmentgroup\": \"True\", \"hoverlabel\": {\"namelength\": 0}, \"hovertemplate\": \"Clave platillo=MBCA5<br>Grupo=%{x}<br>Cantidad=%{y}\", \"legendgroup\": \"Clave platillo=MBCA5\", \"marker\": {\"color\": \"#00cc96\"}, \"name\": \"Clave platillo=MBCA5\", \"offsetgroup\": \"Clave platillo=MBCA5\", \"orientation\": \"v\", \"showlegend\": true, \"textposition\": \"auto\", \"type\": \"bar\", \"x\": [\"BEBIDAS CON ALCOHOL\"], \"xaxis\": \"x\", \"y\": [125.0], \"yaxis\": \"y\"}, {\"alignmentgroup\": \"True\", \"hoverlabel\": {\"namelength\": 0}, \"hovertemplate\": \"Clave platillo=MBCA49<br>Grupo=%{x}<br>Cantidad=%{y}\", \"legendgroup\": \"Clave platillo=MBCA49\", \"marker\": {\"color\": \"#ab63fa\"}, \"name\": \"Clave platillo=MBCA49\", \"offsetgroup\": \"Clave platillo=MBCA49\", \"orientation\": \"v\", \"showlegend\": true, \"textposition\": \"auto\", \"type\": \"bar\", \"x\": [\"BEBIDAS CON ALCOHOL\"], \"xaxis\": \"x\", \"y\": [2.0], \"yaxis\": \"y\"}, {\"alignmentgroup\": \"True\", \"hoverlabel\": {\"namelength\": 0}, \"hovertemplate\": \"Clave platillo=MBCA48<br>Grupo=%{x}<br>Cantidad=%{y}\", \"legendgroup\": \"Clave platillo=MBCA48\", \"marker\": {\"color\": \"#FFA15A\"}, \"name\": \"Clave platillo=MBCA48\", \"offsetgroup\": \"Clave platillo=MBCA48\", \"orientation\": \"v\", \"showlegend\": true, \"textposition\": \"auto\", \"type\": \"bar\", \"x\": [\"BEBIDAS CON ALCOHOL\"], \"xaxis\": \"x\", \"y\": [46.0], \"yaxis\": \"y\"}, {\"alignmentgroup\": \"True\", \"hoverlabel\": {\"namelength\": 0}, \"hovertemplate\": \"Clave platillo=MBCA47<br>Grupo=%{x}<br>Cantidad=%{y}\", \"legendgroup\": \"Clave platillo=MBCA47\", \"marker\": {\"color\": \"#19d3f3\"}, \"name\": \"Clave platillo=MBCA47\", \"offsetgroup\": \"Clave platillo=MBCA47\", \"orientation\": \"v\", \"showlegend\": true, \"textposition\": \"auto\", \"type\": \"bar\", \"x\": [\"BEBIDAS CON ALCOHOL\"], \"xaxis\": \"x\", \"y\": [11.0], \"yaxis\": \"y\"}, {\"alignmentgroup\": \"True\", \"hoverlabel\": {\"namelength\": 0}, \"hovertemplate\": \"Clave platillo=MBCA46<br>Grupo=%{x}<br>Cantidad=%{y}\", \"legendgroup\": \"Clave platillo=MBCA46\", \"marker\": {\"color\": \"#FF6692\"}, \"name\": \"Clave platillo=MBCA46\", \"offsetgroup\": \"Clave platillo=MBCA46\", \"orientation\": \"v\", \"showlegend\": true, \"textposition\": \"auto\", \"type\": \"bar\", \"x\": [\"BEBIDAS CON ALCOHOL\"], \"xaxis\": \"x\", \"y\": [2.0], \"yaxis\": \"y\"}, {\"alignmentgroup\": \"True\", \"hoverlabel\": {\"namelength\": 0}, \"hovertemplate\": \"Clave platillo=MBCA44<br>Grupo=%{x}<br>Cantidad=%{y}\", \"legendgroup\": \"Clave platillo=MBCA44\", \"marker\": {\"color\": \"#B6E880\"}, \"name\": \"Clave platillo=MBCA44\", \"offsetgroup\": \"Clave platillo=MBCA44\", \"orientation\": \"v\", \"showlegend\": true, \"textposition\": \"auto\", \"type\": \"bar\", \"x\": [\"BEBIDAS CON ALCOHOL\"], \"xaxis\": \"x\", \"y\": [10.0], \"yaxis\": \"y\"}, {\"alignmentgroup\": \"True\", \"hoverlabel\": {\"namelength\": 0}, \"hovertemplate\": \"Clave platillo=MBCA43<br>Grupo=%{x}<br>Cantidad=%{y}\", \"legendgroup\": \"Clave platillo=MBCA43\", \"marker\": {\"color\": \"#FF97FF\"}, \"name\": \"Clave platillo=MBCA43\", \"offsetgroup\": \"Clave platillo=MBCA43\", \"orientation\": \"v\", \"showlegend\": true, \"textposition\": \"auto\", \"type\": \"bar\", \"x\": [\"BEBIDAS CON ALCOHOL\"], \"xaxis\": \"x\", \"y\": [202.0], \"yaxis\": \"y\"}, {\"alignmentgroup\": \"True\", \"hoverlabel\": {\"namelength\": 0}, \"hovertemplate\": \"Clave platillo=MBCA40<br>Grupo=%{x}<br>Cantidad=%{y}\", \"legendgroup\": \"Clave platillo=MBCA40\", \"marker\": {\"color\": \"#FECB52\"}, \"name\": \"Clave platillo=MBCA40\", \"offsetgroup\": \"Clave platillo=MBCA40\", \"orientation\": \"v\", \"showlegend\": true, \"textposition\": \"auto\", \"type\": \"bar\", \"x\": [\"BEBIDAS CON ALCOHOL\"], \"xaxis\": \"x\", \"y\": [279.0], \"yaxis\": \"y\"}, {\"alignmentgroup\": \"True\", \"hoverlabel\": {\"namelength\": 0}, \"hovertemplate\": \"Clave platillo=MBCA4<br>Grupo=%{x}<br>Cantidad=%{y}\", \"legendgroup\": \"Clave platillo=MBCA4\", \"marker\": {\"color\": \"#636efa\"}, \"name\": \"Clave platillo=MBCA4\", \"offsetgroup\": \"Clave platillo=MBCA4\", \"orientation\": \"v\", \"showlegend\": true, \"textposition\": \"auto\", \"type\": \"bar\", \"x\": [\"BEBIDAS CON ALCOHOL\"], \"xaxis\": \"x\", \"y\": [109.0], \"yaxis\": \"y\"}, {\"alignmentgroup\": \"True\", \"hoverlabel\": {\"namelength\": 0}, \"hovertemplate\": \"Clave platillo=MBCA39<br>Grupo=%{x}<br>Cantidad=%{y}\", \"legendgroup\": \"Clave platillo=MBCA39\", \"marker\": {\"color\": \"#EF553B\"}, \"name\": \"Clave platillo=MBCA39\", \"offsetgroup\": \"Clave platillo=MBCA39\", \"orientation\": \"v\", \"showlegend\": true, \"textposition\": \"auto\", \"type\": \"bar\", \"x\": [\"BEBIDAS CON ALCOHOL\"], \"xaxis\": \"x\", \"y\": [263.0], \"yaxis\": \"y\"}, {\"alignmentgroup\": \"True\", \"hoverlabel\": {\"namelength\": 0}, \"hovertemplate\": \"Clave platillo=MBCA38<br>Grupo=%{x}<br>Cantidad=%{y}\", \"legendgroup\": \"Clave platillo=MBCA38\", \"marker\": {\"color\": \"#00cc96\"}, \"name\": \"Clave platillo=MBCA38\", \"offsetgroup\": \"Clave platillo=MBCA38\", \"orientation\": \"v\", \"showlegend\": true, \"textposition\": \"auto\", \"type\": \"bar\", \"x\": [\"BEBIDAS CON ALCOHOL\"], \"xaxis\": \"x\", \"y\": [694.0], \"yaxis\": \"y\"}, {\"alignmentgroup\": \"True\", \"hoverlabel\": {\"namelength\": 0}, \"hovertemplate\": \"Clave platillo=MBCA37<br>Grupo=%{x}<br>Cantidad=%{y}\", \"legendgroup\": \"Clave platillo=MBCA37\", \"marker\": {\"color\": \"#ab63fa\"}, \"name\": \"Clave platillo=MBCA37\", \"offsetgroup\": \"Clave platillo=MBCA37\", \"orientation\": \"v\", \"showlegend\": true, \"textposition\": \"auto\", \"type\": \"bar\", \"x\": [\"BEBIDAS CON ALCOHOL\"], \"xaxis\": \"x\", \"y\": [245.0], \"yaxis\": \"y\"}, {\"alignmentgroup\": \"True\", \"hoverlabel\": {\"namelength\": 0}, \"hovertemplate\": \"Clave platillo=MBCA33<br>Grupo=%{x}<br>Cantidad=%{y}\", \"legendgroup\": \"Clave platillo=MBCA33\", \"marker\": {\"color\": \"#FFA15A\"}, \"name\": \"Clave platillo=MBCA33\", \"offsetgroup\": \"Clave platillo=MBCA33\", \"orientation\": \"v\", \"showlegend\": true, \"textposition\": \"auto\", \"type\": \"bar\", \"x\": [\"BEBIDAS CON ALCOHOL\"], \"xaxis\": \"x\", \"y\": [3.0], \"yaxis\": \"y\"}, {\"alignmentgroup\": \"True\", \"hoverlabel\": {\"namelength\": 0}, \"hovertemplate\": \"Clave platillo=MBCA32<br>Grupo=%{x}<br>Cantidad=%{y}\", \"legendgroup\": \"Clave platillo=MBCA32\", \"marker\": {\"color\": \"#19d3f3\"}, \"name\": \"Clave platillo=MBCA32\", \"offsetgroup\": \"Clave platillo=MBCA32\", \"orientation\": \"v\", \"showlegend\": true, \"textposition\": \"auto\", \"type\": \"bar\", \"x\": [\"BEBIDAS CON ALCOHOL\"], \"xaxis\": \"x\", \"y\": [1.0], \"yaxis\": \"y\"}, {\"alignmentgroup\": \"True\", \"hoverlabel\": {\"namelength\": 0}, \"hovertemplate\": \"Clave platillo=MBCA31<br>Grupo=%{x}<br>Cantidad=%{y}\", \"legendgroup\": \"Clave platillo=MBCA31\", \"marker\": {\"color\": \"#FF6692\"}, \"name\": \"Clave platillo=MBCA31\", \"offsetgroup\": \"Clave platillo=MBCA31\", \"orientation\": \"v\", \"showlegend\": true, \"textposition\": \"auto\", \"type\": \"bar\", \"x\": [\"BEBIDAS CON ALCOHOL\"], \"xaxis\": \"x\", \"y\": [1.0], \"yaxis\": \"y\"}, {\"alignmentgroup\": \"True\", \"hoverlabel\": {\"namelength\": 0}, \"hovertemplate\": \"Clave platillo=MBCA30<br>Grupo=%{x}<br>Cantidad=%{y}\", \"legendgroup\": \"Clave platillo=MBCA30\", \"marker\": {\"color\": \"#B6E880\"}, \"name\": \"Clave platillo=MBCA30\", \"offsetgroup\": \"Clave platillo=MBCA30\", \"orientation\": \"v\", \"showlegend\": true, \"textposition\": \"auto\", \"type\": \"bar\", \"x\": [\"BEBIDAS CON ALCOHOL\"], \"xaxis\": \"x\", \"y\": [2.0], \"yaxis\": \"y\"}, {\"alignmentgroup\": \"True\", \"hoverlabel\": {\"namelength\": 0}, \"hovertemplate\": \"Clave platillo=MBCA3<br>Grupo=%{x}<br>Cantidad=%{y}\", \"legendgroup\": \"Clave platillo=MBCA3\", \"marker\": {\"color\": \"#FF97FF\"}, \"name\": \"Clave platillo=MBCA3\", \"offsetgroup\": \"Clave platillo=MBCA3\", \"orientation\": \"v\", \"showlegend\": true, \"textposition\": \"auto\", \"type\": \"bar\", \"x\": [\"BEBIDAS CON ALCOHOL\"], \"xaxis\": \"x\", \"y\": [5.0], \"yaxis\": \"y\"}, {\"alignmentgroup\": \"True\", \"hoverlabel\": {\"namelength\": 0}, \"hovertemplate\": \"Clave platillo=MBCA29<br>Grupo=%{x}<br>Cantidad=%{y}\", \"legendgroup\": \"Clave platillo=MBCA29\", \"marker\": {\"color\": \"#FECB52\"}, \"name\": \"Clave platillo=MBCA29\", \"offsetgroup\": \"Clave platillo=MBCA29\", \"orientation\": \"v\", \"showlegend\": true, \"textposition\": \"auto\", \"type\": \"bar\", \"x\": [\"BEBIDAS CON ALCOHOL\"], \"xaxis\": \"x\", \"y\": [30.0], \"yaxis\": \"y\"}, {\"alignmentgroup\": \"True\", \"hoverlabel\": {\"namelength\": 0}, \"hovertemplate\": \"Clave platillo=MBCA27<br>Grupo=%{x}<br>Cantidad=%{y}\", \"legendgroup\": \"Clave platillo=MBCA27\", \"marker\": {\"color\": \"#636efa\"}, \"name\": \"Clave platillo=MBCA27\", \"offsetgroup\": \"Clave platillo=MBCA27\", \"orientation\": \"v\", \"showlegend\": true, \"textposition\": \"auto\", \"type\": \"bar\", \"x\": [\"BEBIDAS CON ALCOHOL\"], \"xaxis\": \"x\", \"y\": [1.0], \"yaxis\": \"y\"}, {\"alignmentgroup\": \"True\", \"hoverlabel\": {\"namelength\": 0}, \"hovertemplate\": \"Clave platillo=MBCA26<br>Grupo=%{x}<br>Cantidad=%{y}\", \"legendgroup\": \"Clave platillo=MBCA26\", \"marker\": {\"color\": \"#EF553B\"}, \"name\": \"Clave platillo=MBCA26\", \"offsetgroup\": \"Clave platillo=MBCA26\", \"orientation\": \"v\", \"showlegend\": true, \"textposition\": \"auto\", \"type\": \"bar\", \"x\": [\"BEBIDAS CON ALCOHOL\"], \"xaxis\": \"x\", \"y\": [6.0], \"yaxis\": \"y\"}, {\"alignmentgroup\": \"True\", \"hoverlabel\": {\"namelength\": 0}, \"hovertemplate\": \"Clave platillo=MBCA25<br>Grupo=%{x}<br>Cantidad=%{y}\", \"legendgroup\": \"Clave platillo=MBCA25\", \"marker\": {\"color\": \"#00cc96\"}, \"name\": \"Clave platillo=MBCA25\", \"offsetgroup\": \"Clave platillo=MBCA25\", \"orientation\": \"v\", \"showlegend\": true, \"textposition\": \"auto\", \"type\": \"bar\", \"x\": [\"BEBIDAS CON ALCOHOL\"], \"xaxis\": \"x\", \"y\": [13.0], \"yaxis\": \"y\"}, {\"alignmentgroup\": \"True\", \"hoverlabel\": {\"namelength\": 0}, \"hovertemplate\": \"Clave platillo=MBCA23<br>Grupo=%{x}<br>Cantidad=%{y}\", \"legendgroup\": \"Clave platillo=MBCA23\", \"marker\": {\"color\": \"#ab63fa\"}, \"name\": \"Clave platillo=MBCA23\", \"offsetgroup\": \"Clave platillo=MBCA23\", \"orientation\": \"v\", \"showlegend\": true, \"textposition\": \"auto\", \"type\": \"bar\", \"x\": [\"BEBIDAS CON ALCOHOL\"], \"xaxis\": \"x\", \"y\": [11.0], \"yaxis\": \"y\"}, {\"alignmentgroup\": \"True\", \"hoverlabel\": {\"namelength\": 0}, \"hovertemplate\": \"Clave platillo=MBCA2<br>Grupo=%{x}<br>Cantidad=%{y}\", \"legendgroup\": \"Clave platillo=MBCA2\", \"marker\": {\"color\": \"#FFA15A\"}, \"name\": \"Clave platillo=MBCA2\", \"offsetgroup\": \"Clave platillo=MBCA2\", \"orientation\": \"v\", \"showlegend\": true, \"textposition\": \"auto\", \"type\": \"bar\", \"x\": [\"BEBIDAS CON ALCOHOL\"], \"xaxis\": \"x\", \"y\": [5.0], \"yaxis\": \"y\"}, {\"alignmentgroup\": \"True\", \"hoverlabel\": {\"namelength\": 0}, \"hovertemplate\": \"Clave platillo=MBCA19<br>Grupo=%{x}<br>Cantidad=%{y}\", \"legendgroup\": \"Clave platillo=MBCA19\", \"marker\": {\"color\": \"#19d3f3\"}, \"name\": \"Clave platillo=MBCA19\", \"offsetgroup\": \"Clave platillo=MBCA19\", \"orientation\": \"v\", \"showlegend\": true, \"textposition\": \"auto\", \"type\": \"bar\", \"x\": [\"BEBIDAS CON ALCOHOL\"], \"xaxis\": \"x\", \"y\": [373.0], \"yaxis\": \"y\"}, {\"alignmentgroup\": \"True\", \"hoverlabel\": {\"namelength\": 0}, \"hovertemplate\": \"Clave platillo=MBCA18<br>Grupo=%{x}<br>Cantidad=%{y}\", \"legendgroup\": \"Clave platillo=MBCA18\", \"marker\": {\"color\": \"#FF6692\"}, \"name\": \"Clave platillo=MBCA18\", \"offsetgroup\": \"Clave platillo=MBCA18\", \"orientation\": \"v\", \"showlegend\": true, \"textposition\": \"auto\", \"type\": \"bar\", \"x\": [\"BEBIDAS CON ALCOHOL\"], \"xaxis\": \"x\", \"y\": [1.0], \"yaxis\": \"y\"}, {\"alignmentgroup\": \"True\", \"hoverlabel\": {\"namelength\": 0}, \"hovertemplate\": \"Clave platillo=MBCA16<br>Grupo=%{x}<br>Cantidad=%{y}\", \"legendgroup\": \"Clave platillo=MBCA16\", \"marker\": {\"color\": \"#B6E880\"}, \"name\": \"Clave platillo=MBCA16\", \"offsetgroup\": \"Clave platillo=MBCA16\", \"orientation\": \"v\", \"showlegend\": true, \"textposition\": \"auto\", \"type\": \"bar\", \"x\": [\"BEBIDAS CON ALCOHOL\"], \"xaxis\": \"x\", \"y\": [19.0], \"yaxis\": \"y\"}, {\"alignmentgroup\": \"True\", \"hoverlabel\": {\"namelength\": 0}, \"hovertemplate\": \"Clave platillo=MBCA14<br>Grupo=%{x}<br>Cantidad=%{y}\", \"legendgroup\": \"Clave platillo=MBCA14\", \"marker\": {\"color\": \"#FF97FF\"}, \"name\": \"Clave platillo=MBCA14\", \"offsetgroup\": \"Clave platillo=MBCA14\", \"orientation\": \"v\", \"showlegend\": true, \"textposition\": \"auto\", \"type\": \"bar\", \"x\": [\"BEBIDAS CON ALCOHOL\"], \"xaxis\": \"x\", \"y\": [1.0], \"yaxis\": \"y\"}, {\"alignmentgroup\": \"True\", \"hoverlabel\": {\"namelength\": 0}, \"hovertemplate\": \"Clave platillo=MBCA13<br>Grupo=%{x}<br>Cantidad=%{y}\", \"legendgroup\": \"Clave platillo=MBCA13\", \"marker\": {\"color\": \"#FECB52\"}, \"name\": \"Clave platillo=MBCA13\", \"offsetgroup\": \"Clave platillo=MBCA13\", \"orientation\": \"v\", \"showlegend\": true, \"textposition\": \"auto\", \"type\": \"bar\", \"x\": [\"BEBIDAS CON ALCOHOL\"], \"xaxis\": \"x\", \"y\": [39.0], \"yaxis\": \"y\"}, {\"alignmentgroup\": \"True\", \"hoverlabel\": {\"namelength\": 0}, \"hovertemplate\": \"Clave platillo=MBCA111<br>Grupo=%{x}<br>Cantidad=%{y}\", \"legendgroup\": \"Clave platillo=MBCA111\", \"marker\": {\"color\": \"#636efa\"}, \"name\": \"Clave platillo=MBCA111\", \"offsetgroup\": \"Clave platillo=MBCA111\", \"orientation\": \"v\", \"showlegend\": true, \"textposition\": \"auto\", \"type\": \"bar\", \"x\": [\"BEBIDAS CON ALCOHOL\"], \"xaxis\": \"x\", \"y\": [18.0], \"yaxis\": \"y\"}, {\"alignmentgroup\": \"True\", \"hoverlabel\": {\"namelength\": 0}, \"hovertemplate\": \"Clave platillo=MBCA11<br>Grupo=%{x}<br>Cantidad=%{y}\", \"legendgroup\": \"Clave platillo=MBCA11\", \"marker\": {\"color\": \"#EF553B\"}, \"name\": \"Clave platillo=MBCA11\", \"offsetgroup\": \"Clave platillo=MBCA11\", \"orientation\": \"v\", \"showlegend\": true, \"textposition\": \"auto\", \"type\": \"bar\", \"x\": [\"BEBIDAS CON ALCOHOL\"], \"xaxis\": \"x\", \"y\": [1.0], \"yaxis\": \"y\"}, {\"alignmentgroup\": \"True\", \"hoverlabel\": {\"namelength\": 0}, \"hovertemplate\": \"Clave platillo=MBCA10<br>Grupo=%{x}<br>Cantidad=%{y}\", \"legendgroup\": \"Clave platillo=MBCA10\", \"marker\": {\"color\": \"#00cc96\"}, \"name\": \"Clave platillo=MBCA10\", \"offsetgroup\": \"Clave platillo=MBCA10\", \"orientation\": \"v\", \"showlegend\": true, \"textposition\": \"auto\", \"type\": \"bar\", \"x\": [\"BEBIDAS CON ALCOHOL\"], \"xaxis\": \"x\", \"y\": [48.0], \"yaxis\": \"y\"}, {\"alignmentgroup\": \"True\", \"hoverlabel\": {\"namelength\": 0}, \"hovertemplate\": \"Clave platillo=MBCA1<br>Grupo=%{x}<br>Cantidad=%{y}\", \"legendgroup\": \"Clave platillo=MBCA1\", \"marker\": {\"color\": \"#ab63fa\"}, \"name\": \"Clave platillo=MBCA1\", \"offsetgroup\": \"Clave platillo=MBCA1\", \"orientation\": \"v\", \"showlegend\": true, \"textposition\": \"auto\", \"type\": \"bar\", \"x\": [\"BEBIDAS CON ALCOHOL\"], \"xaxis\": \"x\", \"y\": [151.0], \"yaxis\": \"y\"}, {\"alignmentgroup\": \"True\", \"hoverlabel\": {\"namelength\": 0}, \"hovertemplate\": \"Clave platillo=MBCA<br>Grupo=%{x}<br>Cantidad=%{y}\", \"legendgroup\": \"Clave platillo=MBCA\", \"marker\": {\"color\": \"#FFA15A\"}, \"name\": \"Clave platillo=MBCA\", \"offsetgroup\": \"Clave platillo=MBCA\", \"orientation\": \"v\", \"showlegend\": true, \"textposition\": \"auto\", \"type\": \"bar\", \"x\": [\"BEBIDAS CON ALCOHOL\"], \"xaxis\": \"x\", \"y\": [37.0], \"yaxis\": \"y\"}, {\"alignmentgroup\": \"True\", \"hoverlabel\": {\"namelength\": 0}, \"hovertemplate\": \"Clave platillo=HAM9<br>Grupo=%{x}<br>Cantidad=%{y}\", \"legendgroup\": \"Clave platillo=HAM9\", \"marker\": {\"color\": \"#19d3f3\"}, \"name\": \"Clave platillo=HAM9\", \"offsetgroup\": \"Clave platillo=HAM9\", \"orientation\": \"v\", \"showlegend\": true, \"textposition\": \"auto\", \"type\": \"bar\", \"x\": [\"HAMBURGUESAS\"], \"xaxis\": \"x\", \"y\": [28.0], \"yaxis\": \"y\"}, {\"alignmentgroup\": \"True\", \"hoverlabel\": {\"namelength\": 0}, \"hovertemplate\": \"Clave platillo=HAM8<br>Grupo=%{x}<br>Cantidad=%{y}\", \"legendgroup\": \"Clave platillo=HAM8\", \"marker\": {\"color\": \"#FF6692\"}, \"name\": \"Clave platillo=HAM8\", \"offsetgroup\": \"Clave platillo=HAM8\", \"orientation\": \"v\", \"showlegend\": true, \"textposition\": \"auto\", \"type\": \"bar\", \"x\": [\"HAMBURGUESAS\"], \"xaxis\": \"x\", \"y\": [142.0], \"yaxis\": \"y\"}, {\"alignmentgroup\": \"True\", \"hoverlabel\": {\"namelength\": 0}, \"hovertemplate\": \"Clave platillo=HAM7<br>Grupo=%{x}<br>Cantidad=%{y}\", \"legendgroup\": \"Clave platillo=HAM7\", \"marker\": {\"color\": \"#B6E880\"}, \"name\": \"Clave platillo=HAM7\", \"offsetgroup\": \"Clave platillo=HAM7\", \"orientation\": \"v\", \"showlegend\": true, \"textposition\": \"auto\", \"type\": \"bar\", \"x\": [\"HAMBURGUESAS\"], \"xaxis\": \"x\", \"y\": [1137.0], \"yaxis\": \"y\"}, {\"alignmentgroup\": \"True\", \"hoverlabel\": {\"namelength\": 0}, \"hovertemplate\": \"Clave platillo=HAM6<br>Grupo=%{x}<br>Cantidad=%{y}\", \"legendgroup\": \"Clave platillo=HAM6\", \"marker\": {\"color\": \"#FF97FF\"}, \"name\": \"Clave platillo=HAM6\", \"offsetgroup\": \"Clave platillo=HAM6\", \"orientation\": \"v\", \"showlegend\": true, \"textposition\": \"auto\", \"type\": \"bar\", \"x\": [\"HAMBURGUESAS\"], \"xaxis\": \"x\", \"y\": [328.0], \"yaxis\": \"y\"}, {\"alignmentgroup\": \"True\", \"hoverlabel\": {\"namelength\": 0}, \"hovertemplate\": \"Clave platillo=HAM5<br>Grupo=%{x}<br>Cantidad=%{y}\", \"legendgroup\": \"Clave platillo=HAM5\", \"marker\": {\"color\": \"#FECB52\"}, \"name\": \"Clave platillo=HAM5\", \"offsetgroup\": \"Clave platillo=HAM5\", \"orientation\": \"v\", \"showlegend\": true, \"textposition\": \"auto\", \"type\": \"bar\", \"x\": [\"HAMBURGUESAS\"], \"xaxis\": \"x\", \"y\": [124.0], \"yaxis\": \"y\"}, {\"alignmentgroup\": \"True\", \"hoverlabel\": {\"namelength\": 0}, \"hovertemplate\": \"Clave platillo=HAM4<br>Grupo=%{x}<br>Cantidad=%{y}\", \"legendgroup\": \"Clave platillo=HAM4\", \"marker\": {\"color\": \"#636efa\"}, \"name\": \"Clave platillo=HAM4\", \"offsetgroup\": \"Clave platillo=HAM4\", \"orientation\": \"v\", \"showlegend\": true, \"textposition\": \"auto\", \"type\": \"bar\", \"x\": [\"HAMBURGUESAS\"], \"xaxis\": \"x\", \"y\": [37.0], \"yaxis\": \"y\"}, {\"alignmentgroup\": \"True\", \"hoverlabel\": {\"namelength\": 0}, \"hovertemplate\": \"Clave platillo=HAM3<br>Grupo=%{x}<br>Cantidad=%{y}\", \"legendgroup\": \"Clave platillo=HAM3\", \"marker\": {\"color\": \"#EF553B\"}, \"name\": \"Clave platillo=HAM3\", \"offsetgroup\": \"Clave platillo=HAM3\", \"orientation\": \"v\", \"showlegend\": true, \"textposition\": \"auto\", \"type\": \"bar\", \"x\": [\"HAMBURGUESAS\"], \"xaxis\": \"x\", \"y\": [145.0], \"yaxis\": \"y\"}, {\"alignmentgroup\": \"True\", \"hoverlabel\": {\"namelength\": 0}, \"hovertemplate\": \"Clave platillo=HAM2<br>Grupo=%{x}<br>Cantidad=%{y}\", \"legendgroup\": \"Clave platillo=HAM2\", \"marker\": {\"color\": \"#00cc96\"}, \"name\": \"Clave platillo=HAM2\", \"offsetgroup\": \"Clave platillo=HAM2\", \"orientation\": \"v\", \"showlegend\": true, \"textposition\": \"auto\", \"type\": \"bar\", \"x\": [\"HAMBURGUESAS\"], \"xaxis\": \"x\", \"y\": [166.0], \"yaxis\": \"y\"}, {\"alignmentgroup\": \"True\", \"hoverlabel\": {\"namelength\": 0}, \"hovertemplate\": \"Clave platillo=HAM12<br>Grupo=%{x}<br>Cantidad=%{y}\", \"legendgroup\": \"Clave platillo=HAM12\", \"marker\": {\"color\": \"#ab63fa\"}, \"name\": \"Clave platillo=HAM12\", \"offsetgroup\": \"Clave platillo=HAM12\", \"orientation\": \"v\", \"showlegend\": true, \"textposition\": \"auto\", \"type\": \"bar\", \"x\": [\"HAMBURGUESAS\"], \"xaxis\": \"x\", \"y\": [2261.0], \"yaxis\": \"y\"}, {\"alignmentgroup\": \"True\", \"hoverlabel\": {\"namelength\": 0}, \"hovertemplate\": \"Clave platillo=HAM11<br>Grupo=%{x}<br>Cantidad=%{y}\", \"legendgroup\": \"Clave platillo=HAM11\", \"marker\": {\"color\": \"#FFA15A\"}, \"name\": \"Clave platillo=HAM11\", \"offsetgroup\": \"Clave platillo=HAM11\", \"orientation\": \"v\", \"showlegend\": true, \"textposition\": \"auto\", \"type\": \"bar\", \"x\": [\"HAMBURGUESAS\"], \"xaxis\": \"x\", \"y\": [578.0], \"yaxis\": \"y\"}, {\"alignmentgroup\": \"True\", \"hoverlabel\": {\"namelength\": 0}, \"hovertemplate\": \"Clave platillo=HAM10<br>Grupo=%{x}<br>Cantidad=%{y}\", \"legendgroup\": \"Clave platillo=HAM10\", \"marker\": {\"color\": \"#19d3f3\"}, \"name\": \"Clave platillo=HAM10\", \"offsetgroup\": \"Clave platillo=HAM10\", \"orientation\": \"v\", \"showlegend\": true, \"textposition\": \"auto\", \"type\": \"bar\", \"x\": [\"HAMBURGUESAS\"], \"xaxis\": \"x\", \"y\": [187.0], \"yaxis\": \"y\"}, {\"alignmentgroup\": \"True\", \"hoverlabel\": {\"namelength\": 0}, \"hovertemplate\": \"Clave platillo=HAM1<br>Grupo=%{x}<br>Cantidad=%{y}\", \"legendgroup\": \"Clave platillo=HAM1\", \"marker\": {\"color\": \"#FF6692\"}, \"name\": \"Clave platillo=HAM1\", \"offsetgroup\": \"Clave platillo=HAM1\", \"orientation\": \"v\", \"showlegend\": true, \"textposition\": \"auto\", \"type\": \"bar\", \"x\": [\"HAMBURGUESAS\"], \"xaxis\": \"x\", \"y\": [1345.0], \"yaxis\": \"y\"}, {\"alignmentgroup\": \"True\", \"hoverlabel\": {\"namelength\": 0}, \"hovertemplate\": \"Clave platillo=EXT4651<br>Grupo=%{x}<br>Cantidad=%{y}\", \"legendgroup\": \"Clave platillo=EXT4651\", \"marker\": {\"color\": \"#B6E880\"}, \"name\": \"Clave platillo=EXT4651\", \"offsetgroup\": \"Clave platillo=EXT4651\", \"orientation\": \"v\", \"showlegend\": true, \"textposition\": \"auto\", \"type\": \"bar\", \"x\": [\"EXTRAS COCINA\"], \"xaxis\": \"x\", \"y\": [4.0], \"yaxis\": \"y\"}, {\"alignmentgroup\": \"True\", \"hoverlabel\": {\"namelength\": 0}, \"hovertemplate\": \"Clave platillo=EXT4650<br>Grupo=%{x}<br>Cantidad=%{y}\", \"legendgroup\": \"Clave platillo=EXT4650\", \"marker\": {\"color\": \"#FF97FF\"}, \"name\": \"Clave platillo=EXT4650\", \"offsetgroup\": \"Clave platillo=EXT4650\", \"orientation\": \"v\", \"showlegend\": true, \"textposition\": \"auto\", \"type\": \"bar\", \"x\": [\"EXTRAS COCINA\"], \"xaxis\": \"x\", \"y\": [3.0], \"yaxis\": \"y\"}, {\"alignmentgroup\": \"True\", \"hoverlabel\": {\"namelength\": 0}, \"hovertemplate\": \"Clave platillo=EXT4620<br>Grupo=%{x}<br>Cantidad=%{y}\", \"legendgroup\": \"Clave platillo=EXT4620\", \"marker\": {\"color\": \"#FECB52\"}, \"name\": \"Clave platillo=EXT4620\", \"offsetgroup\": \"Clave platillo=EXT4620\", \"orientation\": \"v\", \"showlegend\": true, \"textposition\": \"auto\", \"type\": \"bar\", \"x\": [\"EXTRAS COCINA\"], \"xaxis\": \"x\", \"y\": [4.0], \"yaxis\": \"y\"}, {\"alignmentgroup\": \"True\", \"hoverlabel\": {\"namelength\": 0}, \"hovertemplate\": \"Clave platillo=EXT4619<br>Grupo=%{x}<br>Cantidad=%{y}\", \"legendgroup\": \"Clave platillo=EXT4619\", \"marker\": {\"color\": \"#636efa\"}, \"name\": \"Clave platillo=EXT4619\", \"offsetgroup\": \"Clave platillo=EXT4619\", \"orientation\": \"v\", \"showlegend\": true, \"textposition\": \"auto\", \"type\": \"bar\", \"x\": [\"EXTRAS COCINA\"], \"xaxis\": \"x\", \"y\": [3.0], \"yaxis\": \"y\"}, {\"alignmentgroup\": \"True\", \"hoverlabel\": {\"namelength\": 0}, \"hovertemplate\": \"Clave platillo=EXT4617<br>Grupo=%{x}<br>Cantidad=%{y}\", \"legendgroup\": \"Clave platillo=EXT4617\", \"marker\": {\"color\": \"#EF553B\"}, \"name\": \"Clave platillo=EXT4617\", \"offsetgroup\": \"Clave platillo=EXT4617\", \"orientation\": \"v\", \"showlegend\": true, \"textposition\": \"auto\", \"type\": \"bar\", \"x\": [\"EXTRAS COCINA\"], \"xaxis\": \"x\", \"y\": [6.0], \"yaxis\": \"y\"}, {\"alignmentgroup\": \"True\", \"hoverlabel\": {\"namelength\": 0}, \"hovertemplate\": \"Clave platillo=EXT4616<br>Grupo=%{x}<br>Cantidad=%{y}\", \"legendgroup\": \"Clave platillo=EXT4616\", \"marker\": {\"color\": \"#00cc96\"}, \"name\": \"Clave platillo=EXT4616\", \"offsetgroup\": \"Clave platillo=EXT4616\", \"orientation\": \"v\", \"showlegend\": true, \"textposition\": \"auto\", \"type\": \"bar\", \"x\": [\"EXTRAS COCINA\"], \"xaxis\": \"x\", \"y\": [13.0], \"yaxis\": \"y\"}, {\"alignmentgroup\": \"True\", \"hoverlabel\": {\"namelength\": 0}, \"hovertemplate\": \"Clave platillo=EXT4615<br>Grupo=%{x}<br>Cantidad=%{y}\", \"legendgroup\": \"Clave platillo=EXT4615\", \"marker\": {\"color\": \"#ab63fa\"}, \"name\": \"Clave platillo=EXT4615\", \"offsetgroup\": \"Clave platillo=EXT4615\", \"orientation\": \"v\", \"showlegend\": true, \"textposition\": \"auto\", \"type\": \"bar\", \"x\": [\"EXTRAS COCINA\"], \"xaxis\": \"x\", \"y\": [1.0], \"yaxis\": \"y\"}, {\"alignmentgroup\": \"True\", \"hoverlabel\": {\"namelength\": 0}, \"hovertemplate\": \"Clave platillo=EXT4614<br>Grupo=%{x}<br>Cantidad=%{y}\", \"legendgroup\": \"Clave platillo=EXT4614\", \"marker\": {\"color\": \"#FFA15A\"}, \"name\": \"Clave platillo=EXT4614\", \"offsetgroup\": \"Clave platillo=EXT4614\", \"orientation\": \"v\", \"showlegend\": true, \"textposition\": \"auto\", \"type\": \"bar\", \"x\": [\"EXTRAS COCINA\"], \"xaxis\": \"x\", \"y\": [49.0], \"yaxis\": \"y\"}, {\"alignmentgroup\": \"True\", \"hoverlabel\": {\"namelength\": 0}, \"hovertemplate\": \"Clave platillo=EXT4613<br>Grupo=%{x}<br>Cantidad=%{y}\", \"legendgroup\": \"Clave platillo=EXT4613\", \"marker\": {\"color\": \"#19d3f3\"}, \"name\": \"Clave platillo=EXT4613\", \"offsetgroup\": \"Clave platillo=EXT4613\", \"orientation\": \"v\", \"showlegend\": true, \"textposition\": \"auto\", \"type\": \"bar\", \"x\": [\"EXTRAS COCINA\"], \"xaxis\": \"x\", \"y\": [129.0], \"yaxis\": \"y\"}, {\"alignmentgroup\": \"True\", \"hoverlabel\": {\"namelength\": 0}, \"hovertemplate\": \"Clave platillo=EXT4612<br>Grupo=%{x}<br>Cantidad=%{y}\", \"legendgroup\": \"Clave platillo=EXT4612\", \"marker\": {\"color\": \"#FF6692\"}, \"name\": \"Clave platillo=EXT4612\", \"offsetgroup\": \"Clave platillo=EXT4612\", \"orientation\": \"v\", \"showlegend\": true, \"textposition\": \"auto\", \"type\": \"bar\", \"x\": [\"EXTRAS COCINA\"], \"xaxis\": \"x\", \"y\": [14.0], \"yaxis\": \"y\"}, {\"alignmentgroup\": \"True\", \"hoverlabel\": {\"namelength\": 0}, \"hovertemplate\": \"Clave platillo=EXT4611<br>Grupo=%{x}<br>Cantidad=%{y}\", \"legendgroup\": \"Clave platillo=EXT4611\", \"marker\": {\"color\": \"#B6E880\"}, \"name\": \"Clave platillo=EXT4611\", \"offsetgroup\": \"Clave platillo=EXT4611\", \"orientation\": \"v\", \"showlegend\": true, \"textposition\": \"auto\", \"type\": \"bar\", \"x\": [\"EXTRAS COCINA\"], \"xaxis\": \"x\", \"y\": [5.0], \"yaxis\": \"y\"}, {\"alignmentgroup\": \"True\", \"hoverlabel\": {\"namelength\": 0}, \"hovertemplate\": \"Clave platillo=EXT4610<br>Grupo=%{x}<br>Cantidad=%{y}\", \"legendgroup\": \"Clave platillo=EXT4610\", \"marker\": {\"color\": \"#FF97FF\"}, \"name\": \"Clave platillo=EXT4610\", \"offsetgroup\": \"Clave platillo=EXT4610\", \"orientation\": \"v\", \"showlegend\": true, \"textposition\": \"auto\", \"type\": \"bar\", \"x\": [\"EXTRAS COCINA\"], \"xaxis\": \"x\", \"y\": [10.0], \"yaxis\": \"y\"}, {\"alignmentgroup\": \"True\", \"hoverlabel\": {\"namelength\": 0}, \"hovertemplate\": \"Clave platillo=EXT4609<br>Grupo=%{x}<br>Cantidad=%{y}\", \"legendgroup\": \"Clave platillo=EXT4609\", \"marker\": {\"color\": \"#FECB52\"}, \"name\": \"Clave platillo=EXT4609\", \"offsetgroup\": \"Clave platillo=EXT4609\", \"orientation\": \"v\", \"showlegend\": true, \"textposition\": \"auto\", \"type\": \"bar\", \"x\": [\"EXTRAS COCINA\"], \"xaxis\": \"x\", \"y\": [8.0], \"yaxis\": \"y\"}, {\"alignmentgroup\": \"True\", \"hoverlabel\": {\"namelength\": 0}, \"hovertemplate\": \"Clave platillo=EXT4608<br>Grupo=%{x}<br>Cantidad=%{y}\", \"legendgroup\": \"Clave platillo=EXT4608\", \"marker\": {\"color\": \"#636efa\"}, \"name\": \"Clave platillo=EXT4608\", \"offsetgroup\": \"Clave platillo=EXT4608\", \"orientation\": \"v\", \"showlegend\": true, \"textposition\": \"auto\", \"type\": \"bar\", \"x\": [\"EXTRAS COCINA\"], \"xaxis\": \"x\", \"y\": [53.0], \"yaxis\": \"y\"}, {\"alignmentgroup\": \"True\", \"hoverlabel\": {\"namelength\": 0}, \"hovertemplate\": \"Clave platillo=EXT4607<br>Grupo=%{x}<br>Cantidad=%{y}\", \"legendgroup\": \"Clave platillo=EXT4607\", \"marker\": {\"color\": \"#EF553B\"}, \"name\": \"Clave platillo=EXT4607\", \"offsetgroup\": \"Clave platillo=EXT4607\", \"orientation\": \"v\", \"showlegend\": true, \"textposition\": \"auto\", \"type\": \"bar\", \"x\": [\"EXTRAS COCINA\"], \"xaxis\": \"x\", \"y\": [28.0], \"yaxis\": \"y\"}, {\"alignmentgroup\": \"True\", \"hoverlabel\": {\"namelength\": 0}, \"hovertemplate\": \"Clave platillo=EXT4606<br>Grupo=%{x}<br>Cantidad=%{y}\", \"legendgroup\": \"Clave platillo=EXT4606\", \"marker\": {\"color\": \"#00cc96\"}, \"name\": \"Clave platillo=EXT4606\", \"offsetgroup\": \"Clave platillo=EXT4606\", \"orientation\": \"v\", \"showlegend\": true, \"textposition\": \"auto\", \"type\": \"bar\", \"x\": [\"EXTRAS COCINA\"], \"xaxis\": \"x\", \"y\": [54.0], \"yaxis\": \"y\"}, {\"alignmentgroup\": \"True\", \"hoverlabel\": {\"namelength\": 0}, \"hovertemplate\": \"Clave platillo=EXT4603<br>Grupo=%{x}<br>Cantidad=%{y}\", \"legendgroup\": \"Clave platillo=EXT4603\", \"marker\": {\"color\": \"#ab63fa\"}, \"name\": \"Clave platillo=EXT4603\", \"offsetgroup\": \"Clave platillo=EXT4603\", \"orientation\": \"v\", \"showlegend\": true, \"textposition\": \"auto\", \"type\": \"bar\", \"x\": [\"EXTRAS COCINA\"], \"xaxis\": \"x\", \"y\": [7.0], \"yaxis\": \"y\"}, {\"alignmentgroup\": \"True\", \"hoverlabel\": {\"namelength\": 0}, \"hovertemplate\": \"Clave platillo=EXT4602<br>Grupo=%{x}<br>Cantidad=%{y}\", \"legendgroup\": \"Clave platillo=EXT4602\", \"marker\": {\"color\": \"#FFA15A\"}, \"name\": \"Clave platillo=EXT4602\", \"offsetgroup\": \"Clave platillo=EXT4602\", \"orientation\": \"v\", \"showlegend\": true, \"textposition\": \"auto\", \"type\": \"bar\", \"x\": [\"EXTRAS COCINA\"], \"xaxis\": \"x\", \"y\": [4.0], \"yaxis\": \"y\"}, {\"alignmentgroup\": \"True\", \"hoverlabel\": {\"namelength\": 0}, \"hovertemplate\": \"Clave platillo=EXT4599<br>Grupo=%{x}<br>Cantidad=%{y}\", \"legendgroup\": \"Clave platillo=EXT4599\", \"marker\": {\"color\": \"#19d3f3\"}, \"name\": \"Clave platillo=EXT4599\", \"offsetgroup\": \"Clave platillo=EXT4599\", \"orientation\": \"v\", \"showlegend\": true, \"textposition\": \"auto\", \"type\": \"bar\", \"x\": [\"EXTRAS COCINA\"], \"xaxis\": \"x\", \"y\": [3.0], \"yaxis\": \"y\"}, {\"alignmentgroup\": \"True\", \"hoverlabel\": {\"namelength\": 0}, \"hovertemplate\": \"Clave platillo=EXT4598<br>Grupo=%{x}<br>Cantidad=%{y}\", \"legendgroup\": \"Clave platillo=EXT4598\", \"marker\": {\"color\": \"#FF6692\"}, \"name\": \"Clave platillo=EXT4598\", \"offsetgroup\": \"Clave platillo=EXT4598\", \"orientation\": \"v\", \"showlegend\": true, \"textposition\": \"auto\", \"type\": \"bar\", \"x\": [\"EXTRAS COCINA\"], \"xaxis\": \"x\", \"y\": [15.0], \"yaxis\": \"y\"}, {\"alignmentgroup\": \"True\", \"hoverlabel\": {\"namelength\": 0}, \"hovertemplate\": \"Clave platillo=EXT4596<br>Grupo=%{x}<br>Cantidad=%{y}\", \"legendgroup\": \"Clave platillo=EXT4596\", \"marker\": {\"color\": \"#B6E880\"}, \"name\": \"Clave platillo=EXT4596\", \"offsetgroup\": \"Clave platillo=EXT4596\", \"orientation\": \"v\", \"showlegend\": true, \"textposition\": \"auto\", \"type\": \"bar\", \"x\": [\"EXTRAS COCINA\"], \"xaxis\": \"x\", \"y\": [25.0], \"yaxis\": \"y\"}, {\"alignmentgroup\": \"True\", \"hoverlabel\": {\"namelength\": 0}, \"hovertemplate\": \"Clave platillo=EXT4595<br>Grupo=%{x}<br>Cantidad=%{y}\", \"legendgroup\": \"Clave platillo=EXT4595\", \"marker\": {\"color\": \"#FF97FF\"}, \"name\": \"Clave platillo=EXT4595\", \"offsetgroup\": \"Clave platillo=EXT4595\", \"orientation\": \"v\", \"showlegend\": true, \"textposition\": \"auto\", \"type\": \"bar\", \"x\": [\"EXTRAS COCINA\"], \"xaxis\": \"x\", \"y\": [4.0], \"yaxis\": \"y\"}, {\"alignmentgroup\": \"True\", \"hoverlabel\": {\"namelength\": 0}, \"hovertemplate\": \"Clave platillo=EXT4594<br>Grupo=%{x}<br>Cantidad=%{y}\", \"legendgroup\": \"Clave platillo=EXT4594\", \"marker\": {\"color\": \"#FECB52\"}, \"name\": \"Clave platillo=EXT4594\", \"offsetgroup\": \"Clave platillo=EXT4594\", \"orientation\": \"v\", \"showlegend\": true, \"textposition\": \"auto\", \"type\": \"bar\", \"x\": [\"EXTRAS COCINA\"], \"xaxis\": \"x\", \"y\": [1.0], \"yaxis\": \"y\"}, {\"alignmentgroup\": \"True\", \"hoverlabel\": {\"namelength\": 0}, \"hovertemplate\": \"Clave platillo=EXT4593<br>Grupo=%{x}<br>Cantidad=%{y}\", \"legendgroup\": \"Clave platillo=EXT4593\", \"marker\": {\"color\": \"#636efa\"}, \"name\": \"Clave platillo=EXT4593\", \"offsetgroup\": \"Clave platillo=EXT4593\", \"orientation\": \"v\", \"showlegend\": true, \"textposition\": \"auto\", \"type\": \"bar\", \"x\": [\"EXTRAS COCINA\"], \"xaxis\": \"x\", \"y\": [20.0], \"yaxis\": \"y\"}, {\"alignmentgroup\": \"True\", \"hoverlabel\": {\"namelength\": 0}, \"hovertemplate\": \"Clave platillo=EXT4590<br>Grupo=%{x}<br>Cantidad=%{y}\", \"legendgroup\": \"Clave platillo=EXT4590\", \"marker\": {\"color\": \"#EF553B\"}, \"name\": \"Clave platillo=EXT4590\", \"offsetgroup\": \"Clave platillo=EXT4590\", \"orientation\": \"v\", \"showlegend\": true, \"textposition\": \"auto\", \"type\": \"bar\", \"x\": [\"EXTRAS COCINA\"], \"xaxis\": \"x\", \"y\": [2.0], \"yaxis\": \"y\"}, {\"alignmentgroup\": \"True\", \"hoverlabel\": {\"namelength\": 0}, \"hovertemplate\": \"Clave platillo=EXT4589<br>Grupo=%{x}<br>Cantidad=%{y}\", \"legendgroup\": \"Clave platillo=EXT4589\", \"marker\": {\"color\": \"#00cc96\"}, \"name\": \"Clave platillo=EXT4589\", \"offsetgroup\": \"Clave platillo=EXT4589\", \"orientation\": \"v\", \"showlegend\": true, \"textposition\": \"auto\", \"type\": \"bar\", \"x\": [\"EXTRAS COCINA\"], \"xaxis\": \"x\", \"y\": [6.0], \"yaxis\": \"y\"}, {\"alignmentgroup\": \"True\", \"hoverlabel\": {\"namelength\": 0}, \"hovertemplate\": \"Clave platillo=EXT0105<br>Grupo=%{x}<br>Cantidad=%{y}\", \"legendgroup\": \"Clave platillo=EXT0105\", \"marker\": {\"color\": \"#ab63fa\"}, \"name\": \"Clave platillo=EXT0105\", \"offsetgroup\": \"Clave platillo=EXT0105\", \"orientation\": \"v\", \"showlegend\": true, \"textposition\": \"auto\", \"type\": \"bar\", \"x\": [\"EXTRAS COCINA\"], \"xaxis\": \"x\", \"y\": [8.0], \"yaxis\": \"y\"}, {\"alignmentgroup\": \"True\", \"hoverlabel\": {\"namelength\": 0}, \"hovertemplate\": \"Clave platillo=EXT0104<br>Grupo=%{x}<br>Cantidad=%{y}\", \"legendgroup\": \"Clave platillo=EXT0104\", \"marker\": {\"color\": \"#FFA15A\"}, \"name\": \"Clave platillo=EXT0104\", \"offsetgroup\": \"Clave platillo=EXT0104\", \"orientation\": \"v\", \"showlegend\": true, \"textposition\": \"auto\", \"type\": \"bar\", \"x\": [\"EXTRAS COCINA\"], \"xaxis\": \"x\", \"y\": [19.0], \"yaxis\": \"y\"}, {\"alignmentgroup\": \"True\", \"hoverlabel\": {\"namelength\": 0}, \"hovertemplate\": \"Clave platillo=EXT0103<br>Grupo=%{x}<br>Cantidad=%{y}\", \"legendgroup\": \"Clave platillo=EXT0103\", \"marker\": {\"color\": \"#19d3f3\"}, \"name\": \"Clave platillo=EXT0103\", \"offsetgroup\": \"Clave platillo=EXT0103\", \"orientation\": \"v\", \"showlegend\": true, \"textposition\": \"auto\", \"type\": \"bar\", \"x\": [\"EXTRAS COCINA\"], \"xaxis\": \"x\", \"y\": [135.0], \"yaxis\": \"y\"}, {\"alignmentgroup\": \"True\", \"hoverlabel\": {\"namelength\": 0}, \"hovertemplate\": \"Clave platillo=EXT0102<br>Grupo=%{x}<br>Cantidad=%{y}\", \"legendgroup\": \"Clave platillo=EXT0102\", \"marker\": {\"color\": \"#FF6692\"}, \"name\": \"Clave platillo=EXT0102\", \"offsetgroup\": \"Clave platillo=EXT0102\", \"orientation\": \"v\", \"showlegend\": true, \"textposition\": \"auto\", \"type\": \"bar\", \"x\": [\"EXTRAS COCINA\"], \"xaxis\": \"x\", \"y\": [6.0], \"yaxis\": \"y\"}, {\"alignmentgroup\": \"True\", \"hoverlabel\": {\"namelength\": 0}, \"hovertemplate\": \"Clave platillo=EXT005<br>Grupo=%{x}<br>Cantidad=%{y}\", \"legendgroup\": \"Clave platillo=EXT005\", \"marker\": {\"color\": \"#B6E880\"}, \"name\": \"Clave platillo=EXT005\", \"offsetgroup\": \"Clave platillo=EXT005\", \"orientation\": \"v\", \"showlegend\": true, \"textposition\": \"auto\", \"type\": \"bar\", \"x\": [\"EXTRAS BARRA\"], \"xaxis\": \"x\", \"y\": [9.0], \"yaxis\": \"y\"}, {\"alignmentgroup\": \"True\", \"hoverlabel\": {\"namelength\": 0}, \"hovertemplate\": \"Clave platillo=EXT004<br>Grupo=%{x}<br>Cantidad=%{y}\", \"legendgroup\": \"Clave platillo=EXT004\", \"marker\": {\"color\": \"#FF97FF\"}, \"name\": \"Clave platillo=EXT004\", \"offsetgroup\": \"Clave platillo=EXT004\", \"orientation\": \"v\", \"showlegend\": true, \"textposition\": \"auto\", \"type\": \"bar\", \"x\": [\"EXTRAS BARRA\"], \"xaxis\": \"x\", \"y\": [6.0], \"yaxis\": \"y\"}, {\"alignmentgroup\": \"True\", \"hoverlabel\": {\"namelength\": 0}, \"hovertemplate\": \"Clave platillo=EXT003<br>Grupo=%{x}<br>Cantidad=%{y}\", \"legendgroup\": \"Clave platillo=EXT003\", \"marker\": {\"color\": \"#FECB52\"}, \"name\": \"Clave platillo=EXT003\", \"offsetgroup\": \"Clave platillo=EXT003\", \"orientation\": \"v\", \"showlegend\": true, \"textposition\": \"auto\", \"type\": \"bar\", \"x\": [\"EXTRAS BARRA\"], \"xaxis\": \"x\", \"y\": [8.0], \"yaxis\": \"y\"}, {\"alignmentgroup\": \"True\", \"hoverlabel\": {\"namelength\": 0}, \"hovertemplate\": \"Clave platillo=ENT4<br>Grupo=%{x}<br>Cantidad=%{y}\", \"legendgroup\": \"Clave platillo=ENT4\", \"marker\": {\"color\": \"#636efa\"}, \"name\": \"Clave platillo=ENT4\", \"offsetgroup\": \"Clave platillo=ENT4\", \"orientation\": \"v\", \"showlegend\": true, \"textposition\": \"auto\", \"type\": \"bar\", \"x\": [\"ENTRADAS\"], \"xaxis\": \"x\", \"y\": [555.0], \"yaxis\": \"y\"}, {\"alignmentgroup\": \"True\", \"hoverlabel\": {\"namelength\": 0}, \"hovertemplate\": \"Clave platillo=ENT3<br>Grupo=%{x}<br>Cantidad=%{y}\", \"legendgroup\": \"Clave platillo=ENT3\", \"marker\": {\"color\": \"#EF553B\"}, \"name\": \"Clave platillo=ENT3\", \"offsetgroup\": \"Clave platillo=ENT3\", \"orientation\": \"v\", \"showlegend\": true, \"textposition\": \"auto\", \"type\": \"bar\", \"x\": [\"ENTRADAS\"], \"xaxis\": \"x\", \"y\": [45.0], \"yaxis\": \"y\"}, {\"alignmentgroup\": \"True\", \"hoverlabel\": {\"namelength\": 0}, \"hovertemplate\": \"Clave platillo=ENT2<br>Grupo=%{x}<br>Cantidad=%{y}\", \"legendgroup\": \"Clave platillo=ENT2\", \"marker\": {\"color\": \"#00cc96\"}, \"name\": \"Clave platillo=ENT2\", \"offsetgroup\": \"Clave platillo=ENT2\", \"orientation\": \"v\", \"showlegend\": true, \"textposition\": \"auto\", \"type\": \"bar\", \"x\": [\"ENTRADAS\"], \"xaxis\": \"x\", \"y\": [56.0], \"yaxis\": \"y\"}, {\"alignmentgroup\": \"True\", \"hoverlabel\": {\"namelength\": 0}, \"hovertemplate\": \"Clave platillo=ENT1<br>Grupo=%{x}<br>Cantidad=%{y}\", \"legendgroup\": \"Clave platillo=ENT1\", \"marker\": {\"color\": \"#ab63fa\"}, \"name\": \"Clave platillo=ENT1\", \"offsetgroup\": \"Clave platillo=ENT1\", \"orientation\": \"v\", \"showlegend\": true, \"textposition\": \"auto\", \"type\": \"bar\", \"x\": [\"ENTRADAS\"], \"xaxis\": \"x\", \"y\": [318.0], \"yaxis\": \"y\"}, {\"alignmentgroup\": \"True\", \"hoverlabel\": {\"namelength\": 0}, \"hovertemplate\": \"Clave platillo=ENS4<br>Grupo=%{x}<br>Cantidad=%{y}\", \"legendgroup\": \"Clave platillo=ENS4\", \"marker\": {\"color\": \"#FFA15A\"}, \"name\": \"Clave platillo=ENS4\", \"offsetgroup\": \"Clave platillo=ENS4\", \"orientation\": \"v\", \"showlegend\": true, \"textposition\": \"auto\", \"type\": \"bar\", \"x\": [\"ENSALADAS\"], \"xaxis\": \"x\", \"y\": [68.0], \"yaxis\": \"y\"}, {\"alignmentgroup\": \"True\", \"hoverlabel\": {\"namelength\": 0}, \"hovertemplate\": \"Clave platillo=ENS3<br>Grupo=%{x}<br>Cantidad=%{y}\", \"legendgroup\": \"Clave platillo=ENS3\", \"marker\": {\"color\": \"#19d3f3\"}, \"name\": \"Clave platillo=ENS3\", \"offsetgroup\": \"Clave platillo=ENS3\", \"orientation\": \"v\", \"showlegend\": true, \"textposition\": \"auto\", \"type\": \"bar\", \"x\": [\"ENSALADAS\"], \"xaxis\": \"x\", \"y\": [50.0], \"yaxis\": \"y\"}, {\"alignmentgroup\": \"True\", \"hoverlabel\": {\"namelength\": 0}, \"hovertemplate\": \"Clave platillo=ENS2<br>Grupo=%{x}<br>Cantidad=%{y}\", \"legendgroup\": \"Clave platillo=ENS2\", \"marker\": {\"color\": \"#FF6692\"}, \"name\": \"Clave platillo=ENS2\", \"offsetgroup\": \"Clave platillo=ENS2\", \"orientation\": \"v\", \"showlegend\": true, \"textposition\": \"auto\", \"type\": \"bar\", \"x\": [\"ENSALADAS\"], \"xaxis\": \"x\", \"y\": [57.0], \"yaxis\": \"y\"}, {\"alignmentgroup\": \"True\", \"hoverlabel\": {\"namelength\": 0}, \"hovertemplate\": \"Clave platillo=ENS1<br>Grupo=%{x}<br>Cantidad=%{y}\", \"legendgroup\": \"Clave platillo=ENS1\", \"marker\": {\"color\": \"#B6E880\"}, \"name\": \"Clave platillo=ENS1\", \"offsetgroup\": \"Clave platillo=ENS1\", \"orientation\": \"v\", \"showlegend\": true, \"textposition\": \"auto\", \"type\": \"bar\", \"x\": [\"ENSALADAS\"], \"xaxis\": \"x\", \"y\": [81.0], \"yaxis\": \"y\"}, {\"alignmentgroup\": \"True\", \"hoverlabel\": {\"namelength\": 0}, \"hovertemplate\": \"Clave platillo=DES61<br>Grupo=%{x}<br>Cantidad=%{y}\", \"legendgroup\": \"Clave platillo=DES61\", \"marker\": {\"color\": \"#FF97FF\"}, \"name\": \"Clave platillo=DES61\", \"offsetgroup\": \"Clave platillo=DES61\", \"orientation\": \"v\", \"showlegend\": true, \"textposition\": \"auto\", \"type\": \"bar\", \"x\": [\"DESTILADOS\"], \"xaxis\": \"x\", \"y\": [1.0], \"yaxis\": \"y\"}, {\"alignmentgroup\": \"True\", \"hoverlabel\": {\"namelength\": 0}, \"hovertemplate\": \"Clave platillo=DES5<br>Grupo=%{x}<br>Cantidad=%{y}\", \"legendgroup\": \"Clave platillo=DES5\", \"marker\": {\"color\": \"#FECB52\"}, \"name\": \"Clave platillo=DES5\", \"offsetgroup\": \"Clave platillo=DES5\", \"orientation\": \"v\", \"showlegend\": true, \"textposition\": \"auto\", \"type\": \"bar\", \"x\": [\"DESTILADOS\"], \"xaxis\": \"x\", \"y\": [14.0], \"yaxis\": \"y\"}, {\"alignmentgroup\": \"True\", \"hoverlabel\": {\"namelength\": 0}, \"hovertemplate\": \"Clave platillo=DES41<br>Grupo=%{x}<br>Cantidad=%{y}\", \"legendgroup\": \"Clave platillo=DES41\", \"marker\": {\"color\": \"#636efa\"}, \"name\": \"Clave platillo=DES41\", \"offsetgroup\": \"Clave platillo=DES41\", \"orientation\": \"v\", \"showlegend\": true, \"textposition\": \"auto\", \"type\": \"bar\", \"x\": [\"DESTILADOS\"], \"xaxis\": \"x\", \"y\": [4.0], \"yaxis\": \"y\"}, {\"alignmentgroup\": \"True\", \"hoverlabel\": {\"namelength\": 0}, \"hovertemplate\": \"Clave platillo=DES40<br>Grupo=%{x}<br>Cantidad=%{y}\", \"legendgroup\": \"Clave platillo=DES40\", \"marker\": {\"color\": \"#EF553B\"}, \"name\": \"Clave platillo=DES40\", \"offsetgroup\": \"Clave platillo=DES40\", \"orientation\": \"v\", \"showlegend\": true, \"textposition\": \"auto\", \"type\": \"bar\", \"x\": [\"DESTILADOS\"], \"xaxis\": \"x\", \"y\": [1.0], \"yaxis\": \"y\"}, {\"alignmentgroup\": \"True\", \"hoverlabel\": {\"namelength\": 0}, \"hovertemplate\": \"Clave platillo=DES39<br>Grupo=%{x}<br>Cantidad=%{y}\", \"legendgroup\": \"Clave platillo=DES39\", \"marker\": {\"color\": \"#00cc96\"}, \"name\": \"Clave platillo=DES39\", \"offsetgroup\": \"Clave platillo=DES39\", \"orientation\": \"v\", \"showlegend\": true, \"textposition\": \"auto\", \"type\": \"bar\", \"x\": [\"DESTILADOS\"], \"xaxis\": \"x\", \"y\": [1.0], \"yaxis\": \"y\"}, {\"alignmentgroup\": \"True\", \"hoverlabel\": {\"namelength\": 0}, \"hovertemplate\": \"Clave platillo=DES36<br>Grupo=%{x}<br>Cantidad=%{y}\", \"legendgroup\": \"Clave platillo=DES36\", \"marker\": {\"color\": \"#ab63fa\"}, \"name\": \"Clave platillo=DES36\", \"offsetgroup\": \"Clave platillo=DES36\", \"orientation\": \"v\", \"showlegend\": true, \"textposition\": \"auto\", \"type\": \"bar\", \"x\": [\"DESTILADOS\"], \"xaxis\": \"x\", \"y\": [3.0], \"yaxis\": \"y\"}, {\"alignmentgroup\": \"True\", \"hoverlabel\": {\"namelength\": 0}, \"hovertemplate\": \"Clave platillo=DES32<br>Grupo=%{x}<br>Cantidad=%{y}\", \"legendgroup\": \"Clave platillo=DES32\", \"marker\": {\"color\": \"#FFA15A\"}, \"name\": \"Clave platillo=DES32\", \"offsetgroup\": \"Clave platillo=DES32\", \"orientation\": \"v\", \"showlegend\": true, \"textposition\": \"auto\", \"type\": \"bar\", \"x\": [\"DESTILADOS\"], \"xaxis\": \"x\", \"y\": [7.0], \"yaxis\": \"y\"}, {\"alignmentgroup\": \"True\", \"hoverlabel\": {\"namelength\": 0}, \"hovertemplate\": \"Clave platillo=DES28<br>Grupo=%{x}<br>Cantidad=%{y}\", \"legendgroup\": \"Clave platillo=DES28\", \"marker\": {\"color\": \"#19d3f3\"}, \"name\": \"Clave platillo=DES28\", \"offsetgroup\": \"Clave platillo=DES28\", \"orientation\": \"v\", \"showlegend\": true, \"textposition\": \"auto\", \"type\": \"bar\", \"x\": [\"DESTILADOS\"], \"xaxis\": \"x\", \"y\": [8.0], \"yaxis\": \"y\"}, {\"alignmentgroup\": \"True\", \"hoverlabel\": {\"namelength\": 0}, \"hovertemplate\": \"Clave platillo=DES27<br>Grupo=%{x}<br>Cantidad=%{y}\", \"legendgroup\": \"Clave platillo=DES27\", \"marker\": {\"color\": \"#FF6692\"}, \"name\": \"Clave platillo=DES27\", \"offsetgroup\": \"Clave platillo=DES27\", \"orientation\": \"v\", \"showlegend\": true, \"textposition\": \"auto\", \"type\": \"bar\", \"x\": [\"DESTILADOS\"], \"xaxis\": \"x\", \"y\": [14.0], \"yaxis\": \"y\"}, {\"alignmentgroup\": \"True\", \"hoverlabel\": {\"namelength\": 0}, \"hovertemplate\": \"Clave platillo=DES26<br>Grupo=%{x}<br>Cantidad=%{y}\", \"legendgroup\": \"Clave platillo=DES26\", \"marker\": {\"color\": \"#B6E880\"}, \"name\": \"Clave platillo=DES26\", \"offsetgroup\": \"Clave platillo=DES26\", \"orientation\": \"v\", \"showlegend\": true, \"textposition\": \"auto\", \"type\": \"bar\", \"x\": [\"DESTILADOS\"], \"xaxis\": \"x\", \"y\": [4.0], \"yaxis\": \"y\"}, {\"alignmentgroup\": \"True\", \"hoverlabel\": {\"namelength\": 0}, \"hovertemplate\": \"Clave platillo=DES25<br>Grupo=%{x}<br>Cantidad=%{y}\", \"legendgroup\": \"Clave platillo=DES25\", \"marker\": {\"color\": \"#FF97FF\"}, \"name\": \"Clave platillo=DES25\", \"offsetgroup\": \"Clave platillo=DES25\", \"orientation\": \"v\", \"showlegend\": true, \"textposition\": \"auto\", \"type\": \"bar\", \"x\": [\"DESTILADOS\"], \"xaxis\": \"x\", \"y\": [2.0], \"yaxis\": \"y\"}, {\"alignmentgroup\": \"True\", \"hoverlabel\": {\"namelength\": 0}, \"hovertemplate\": \"Clave platillo=DES23<br>Grupo=%{x}<br>Cantidad=%{y}\", \"legendgroup\": \"Clave platillo=DES23\", \"marker\": {\"color\": \"#FECB52\"}, \"name\": \"Clave platillo=DES23\", \"offsetgroup\": \"Clave platillo=DES23\", \"orientation\": \"v\", \"showlegend\": true, \"textposition\": \"auto\", \"type\": \"bar\", \"x\": [\"DESTILADOS\"], \"xaxis\": \"x\", \"y\": [7.0], \"yaxis\": \"y\"}, {\"alignmentgroup\": \"True\", \"hoverlabel\": {\"namelength\": 0}, \"hovertemplate\": \"Clave platillo=DES22<br>Grupo=%{x}<br>Cantidad=%{y}\", \"legendgroup\": \"Clave platillo=DES22\", \"marker\": {\"color\": \"#636efa\"}, \"name\": \"Clave platillo=DES22\", \"offsetgroup\": \"Clave platillo=DES22\", \"orientation\": \"v\", \"showlegend\": true, \"textposition\": \"auto\", \"type\": \"bar\", \"x\": [\"DESTILADOS\"], \"xaxis\": \"x\", \"y\": [12.0], \"yaxis\": \"y\"}, {\"alignmentgroup\": \"True\", \"hoverlabel\": {\"namelength\": 0}, \"hovertemplate\": \"Clave platillo=DES21<br>Grupo=%{x}<br>Cantidad=%{y}\", \"legendgroup\": \"Clave platillo=DES21\", \"marker\": {\"color\": \"#EF553B\"}, \"name\": \"Clave platillo=DES21\", \"offsetgroup\": \"Clave platillo=DES21\", \"orientation\": \"v\", \"showlegend\": true, \"textposition\": \"auto\", \"type\": \"bar\", \"x\": [\"DESTILADOS\"], \"xaxis\": \"x\", \"y\": [2.0], \"yaxis\": \"y\"}, {\"alignmentgroup\": \"True\", \"hoverlabel\": {\"namelength\": 0}, \"hovertemplate\": \"Clave platillo=DES20<br>Grupo=%{x}<br>Cantidad=%{y}\", \"legendgroup\": \"Clave platillo=DES20\", \"marker\": {\"color\": \"#00cc96\"}, \"name\": \"Clave platillo=DES20\", \"offsetgroup\": \"Clave platillo=DES20\", \"orientation\": \"v\", \"showlegend\": true, \"textposition\": \"auto\", \"type\": \"bar\", \"x\": [\"DESTILADOS\"], \"xaxis\": \"x\", \"y\": [2.0], \"yaxis\": \"y\"}, {\"alignmentgroup\": \"True\", \"hoverlabel\": {\"namelength\": 0}, \"hovertemplate\": \"Clave platillo=DES2<br>Grupo=%{x}<br>Cantidad=%{y}\", \"legendgroup\": \"Clave platillo=DES2\", \"marker\": {\"color\": \"#ab63fa\"}, \"name\": \"Clave platillo=DES2\", \"offsetgroup\": \"Clave platillo=DES2\", \"orientation\": \"v\", \"showlegend\": true, \"textposition\": \"auto\", \"type\": \"bar\", \"x\": [\"DESTILADOS\"], \"xaxis\": \"x\", \"y\": [23.0], \"yaxis\": \"y\"}, {\"alignmentgroup\": \"True\", \"hoverlabel\": {\"namelength\": 0}, \"hovertemplate\": \"Clave platillo=DES19<br>Grupo=%{x}<br>Cantidad=%{y}\", \"legendgroup\": \"Clave platillo=DES19\", \"marker\": {\"color\": \"#FFA15A\"}, \"name\": \"Clave platillo=DES19\", \"offsetgroup\": \"Clave platillo=DES19\", \"orientation\": \"v\", \"showlegend\": true, \"textposition\": \"auto\", \"type\": \"bar\", \"x\": [\"DESTILADOS\"], \"xaxis\": \"x\", \"y\": [4.0], \"yaxis\": \"y\"}, {\"alignmentgroup\": \"True\", \"hoverlabel\": {\"namelength\": 0}, \"hovertemplate\": \"Clave platillo=DES17<br>Grupo=%{x}<br>Cantidad=%{y}\", \"legendgroup\": \"Clave platillo=DES17\", \"marker\": {\"color\": \"#19d3f3\"}, \"name\": \"Clave platillo=DES17\", \"offsetgroup\": \"Clave platillo=DES17\", \"orientation\": \"v\", \"showlegend\": true, \"textposition\": \"auto\", \"type\": \"bar\", \"x\": [\"DESTILADOS\"], \"xaxis\": \"x\", \"y\": [4.0], \"yaxis\": \"y\"}, {\"alignmentgroup\": \"True\", \"hoverlabel\": {\"namelength\": 0}, \"hovertemplate\": \"Clave platillo=DES15<br>Grupo=%{x}<br>Cantidad=%{y}\", \"legendgroup\": \"Clave platillo=DES15\", \"marker\": {\"color\": \"#FF6692\"}, \"name\": \"Clave platillo=DES15\", \"offsetgroup\": \"Clave platillo=DES15\", \"orientation\": \"v\", \"showlegend\": true, \"textposition\": \"auto\", \"type\": \"bar\", \"x\": [\"DESTILADOS\"], \"xaxis\": \"x\", \"y\": [2.0], \"yaxis\": \"y\"}, {\"alignmentgroup\": \"True\", \"hoverlabel\": {\"namelength\": 0}, \"hovertemplate\": \"Clave platillo=DES14<br>Grupo=%{x}<br>Cantidad=%{y}\", \"legendgroup\": \"Clave platillo=DES14\", \"marker\": {\"color\": \"#B6E880\"}, \"name\": \"Clave platillo=DES14\", \"offsetgroup\": \"Clave platillo=DES14\", \"orientation\": \"v\", \"showlegend\": true, \"textposition\": \"auto\", \"type\": \"bar\", \"x\": [\"DESTILADOS\"], \"xaxis\": \"x\", \"y\": [4.0], \"yaxis\": \"y\"}, {\"alignmentgroup\": \"True\", \"hoverlabel\": {\"namelength\": 0}, \"hovertemplate\": \"Clave platillo=DES12<br>Grupo=%{x}<br>Cantidad=%{y}\", \"legendgroup\": \"Clave platillo=DES12\", \"marker\": {\"color\": \"#FF97FF\"}, \"name\": \"Clave platillo=DES12\", \"offsetgroup\": \"Clave platillo=DES12\", \"orientation\": \"v\", \"showlegend\": true, \"textposition\": \"auto\", \"type\": \"bar\", \"x\": [\"DESTILADOS\"], \"xaxis\": \"x\", \"y\": [2.0], \"yaxis\": \"y\"}, {\"alignmentgroup\": \"True\", \"hoverlabel\": {\"namelength\": 0}, \"hovertemplate\": \"Clave platillo=DES10<br>Grupo=%{x}<br>Cantidad=%{y}\", \"legendgroup\": \"Clave platillo=DES10\", \"marker\": {\"color\": \"#FECB52\"}, \"name\": \"Clave platillo=DES10\", \"offsetgroup\": \"Clave platillo=DES10\", \"orientation\": \"v\", \"showlegend\": true, \"textposition\": \"auto\", \"type\": \"bar\", \"x\": [\"DESTILADOS\"], \"xaxis\": \"x\", \"y\": [1.0], \"yaxis\": \"y\"}, {\"alignmentgroup\": \"True\", \"hoverlabel\": {\"namelength\": 0}, \"hovertemplate\": \"Clave platillo=DES1<br>Grupo=%{x}<br>Cantidad=%{y}\", \"legendgroup\": \"Clave platillo=DES1\", \"marker\": {\"color\": \"#636efa\"}, \"name\": \"Clave platillo=DES1\", \"offsetgroup\": \"Clave platillo=DES1\", \"orientation\": \"v\", \"showlegend\": true, \"textposition\": \"auto\", \"type\": \"bar\", \"x\": [\"DESTILADOS\"], \"xaxis\": \"x\", \"y\": [6.0], \"yaxis\": \"y\"}, {\"alignmentgroup\": \"True\", \"hoverlabel\": {\"namelength\": 0}, \"hovertemplate\": \"Clave platillo=DES08<br>Grupo=%{x}<br>Cantidad=%{y}\", \"legendgroup\": \"Clave platillo=DES08\", \"marker\": {\"color\": \"#EF553B\"}, \"name\": \"Clave platillo=DES08\", \"offsetgroup\": \"Clave platillo=DES08\", \"orientation\": \"v\", \"showlegend\": true, \"textposition\": \"auto\", \"type\": \"bar\", \"x\": [\"DESTILADOS\"], \"xaxis\": \"x\", \"y\": [3.0], \"yaxis\": \"y\"}, {\"alignmentgroup\": \"True\", \"hoverlabel\": {\"namelength\": 0}, \"hovertemplate\": \"Clave platillo=DES07<br>Grupo=%{x}<br>Cantidad=%{y}\", \"legendgroup\": \"Clave platillo=DES07\", \"marker\": {\"color\": \"#00cc96\"}, \"name\": \"Clave platillo=DES07\", \"offsetgroup\": \"Clave platillo=DES07\", \"orientation\": \"v\", \"showlegend\": true, \"textposition\": \"auto\", \"type\": \"bar\", \"x\": [\"DESTILADOS\"], \"xaxis\": \"x\", \"y\": [3.0], \"yaxis\": \"y\"}, {\"alignmentgroup\": \"True\", \"hoverlabel\": {\"namelength\": 0}, \"hovertemplate\": \"Clave platillo=DES06<br>Grupo=%{x}<br>Cantidad=%{y}\", \"legendgroup\": \"Clave platillo=DES06\", \"marker\": {\"color\": \"#ab63fa\"}, \"name\": \"Clave platillo=DES06\", \"offsetgroup\": \"Clave platillo=DES06\", \"orientation\": \"v\", \"showlegend\": true, \"textposition\": \"auto\", \"type\": \"bar\", \"x\": [\"DESTILADOS\"], \"xaxis\": \"x\", \"y\": [14.0], \"yaxis\": \"y\"}, {\"alignmentgroup\": \"True\", \"hoverlabel\": {\"namelength\": 0}, \"hovertemplate\": \"Clave platillo=DES05<br>Grupo=%{x}<br>Cantidad=%{y}\", \"legendgroup\": \"Clave platillo=DES05\", \"marker\": {\"color\": \"#FFA15A\"}, \"name\": \"Clave platillo=DES05\", \"offsetgroup\": \"Clave platillo=DES05\", \"orientation\": \"v\", \"showlegend\": true, \"textposition\": \"auto\", \"type\": \"bar\", \"x\": [\"DESTILADOS\"], \"xaxis\": \"x\", \"y\": [4.0], \"yaxis\": \"y\"}, {\"alignmentgroup\": \"True\", \"hoverlabel\": {\"namelength\": 0}, \"hovertemplate\": \"Clave platillo=DES04<br>Grupo=%{x}<br>Cantidad=%{y}\", \"legendgroup\": \"Clave platillo=DES04\", \"marker\": {\"color\": \"#19d3f3\"}, \"name\": \"Clave platillo=DES04\", \"offsetgroup\": \"Clave platillo=DES04\", \"orientation\": \"v\", \"showlegend\": true, \"textposition\": \"auto\", \"type\": \"bar\", \"x\": [\"DESTILADOS\"], \"xaxis\": \"x\", \"y\": [1.0], \"yaxis\": \"y\"}, {\"alignmentgroup\": \"True\", \"hoverlabel\": {\"namelength\": 0}, \"hovertemplate\": \"Clave platillo=DES03<br>Grupo=%{x}<br>Cantidad=%{y}\", \"legendgroup\": \"Clave platillo=DES03\", \"marker\": {\"color\": \"#FF6692\"}, \"name\": \"Clave platillo=DES03\", \"offsetgroup\": \"Clave platillo=DES03\", \"orientation\": \"v\", \"showlegend\": true, \"textposition\": \"auto\", \"type\": \"bar\", \"x\": [\"DESTILADOS\"], \"xaxis\": \"x\", \"y\": [1.0], \"yaxis\": \"y\"}, {\"alignmentgroup\": \"True\", \"hoverlabel\": {\"namelength\": 0}, \"hovertemplate\": \"Clave platillo=DES02<br>Grupo=%{x}<br>Cantidad=%{y}\", \"legendgroup\": \"Clave platillo=DES02\", \"marker\": {\"color\": \"#B6E880\"}, \"name\": \"Clave platillo=DES02\", \"offsetgroup\": \"Clave platillo=DES02\", \"orientation\": \"v\", \"showlegend\": true, \"textposition\": \"auto\", \"type\": \"bar\", \"x\": [\"DESTILADOS\"], \"xaxis\": \"x\", \"y\": [5.0], \"yaxis\": \"y\"}, {\"alignmentgroup\": \"True\", \"hoverlabel\": {\"namelength\": 0}, \"hovertemplate\": \"Clave platillo=DES01<br>Grupo=%{x}<br>Cantidad=%{y}\", \"legendgroup\": \"Clave platillo=DES01\", \"marker\": {\"color\": \"#FF97FF\"}, \"name\": \"Clave platillo=DES01\", \"offsetgroup\": \"Clave platillo=DES01\", \"orientation\": \"v\", \"showlegend\": true, \"textposition\": \"auto\", \"type\": \"bar\", \"x\": [\"DESTILADOS\"], \"xaxis\": \"x\", \"y\": [2.0], \"yaxis\": \"y\"}, {\"alignmentgroup\": \"True\", \"hoverlabel\": {\"namelength\": 0}, \"hovertemplate\": \"Clave platillo=CLA5<br>Grupo=%{x}<br>Cantidad=%{y}\", \"legendgroup\": \"Clave platillo=CLA5\", \"marker\": {\"color\": \"#FECB52\"}, \"name\": \"Clave platillo=CLA5\", \"offsetgroup\": \"Clave platillo=CLA5\", \"orientation\": \"v\", \"showlegend\": true, \"textposition\": \"auto\", \"type\": \"bar\", \"x\": [\"CL\\u00c1SICOS\"], \"xaxis\": \"x\", \"y\": [110.0], \"yaxis\": \"y\"}, {\"alignmentgroup\": \"True\", \"hoverlabel\": {\"namelength\": 0}, \"hovertemplate\": \"Clave platillo=CLA4<br>Grupo=%{x}<br>Cantidad=%{y}\", \"legendgroup\": \"Clave platillo=CLA4\", \"marker\": {\"color\": \"#636efa\"}, \"name\": \"Clave platillo=CLA4\", \"offsetgroup\": \"Clave platillo=CLA4\", \"orientation\": \"v\", \"showlegend\": true, \"textposition\": \"auto\", \"type\": \"bar\", \"x\": [\"CL\\u00c1SICOS\"], \"xaxis\": \"x\", \"y\": [58.0], \"yaxis\": \"y\"}, {\"alignmentgroup\": \"True\", \"hoverlabel\": {\"namelength\": 0}, \"hovertemplate\": \"Clave platillo=CLA3<br>Grupo=%{x}<br>Cantidad=%{y}\", \"legendgroup\": \"Clave platillo=CLA3\", \"marker\": {\"color\": \"#EF553B\"}, \"name\": \"Clave platillo=CLA3\", \"offsetgroup\": \"Clave platillo=CLA3\", \"orientation\": \"v\", \"showlegend\": true, \"textposition\": \"auto\", \"type\": \"bar\", \"x\": [\"CL\\u00c1SICOS\"], \"xaxis\": \"x\", \"y\": [189.0], \"yaxis\": \"y\"}, {\"alignmentgroup\": \"True\", \"hoverlabel\": {\"namelength\": 0}, \"hovertemplate\": \"Clave platillo=CLA2<br>Grupo=%{x}<br>Cantidad=%{y}\", \"legendgroup\": \"Clave platillo=CLA2\", \"marker\": {\"color\": \"#00cc96\"}, \"name\": \"Clave platillo=CLA2\", \"offsetgroup\": \"Clave platillo=CLA2\", \"orientation\": \"v\", \"showlegend\": true, \"textposition\": \"auto\", \"type\": \"bar\", \"x\": [\"CL\\u00c1SICOS\"], \"xaxis\": \"x\", \"y\": [121.0], \"yaxis\": \"y\"}, {\"alignmentgroup\": \"True\", \"hoverlabel\": {\"namelength\": 0}, \"hovertemplate\": \"Clave platillo=CLA1<br>Grupo=%{x}<br>Cantidad=%{y}\", \"legendgroup\": \"Clave platillo=CLA1\", \"marker\": {\"color\": \"#ab63fa\"}, \"name\": \"Clave platillo=CLA1\", \"offsetgroup\": \"Clave platillo=CLA1\", \"orientation\": \"v\", \"showlegend\": true, \"textposition\": \"auto\", \"type\": \"bar\", \"x\": [\"CL\\u00c1SICOS\"], \"xaxis\": \"x\", \"y\": [1219.0], \"yaxis\": \"y\"}, {\"alignmentgroup\": \"True\", \"hoverlabel\": {\"namelength\": 0}, \"hovertemplate\": \"Clave platillo=BSP9<br>Grupo=%{x}<br>Cantidad=%{y}\", \"legendgroup\": \"Clave platillo=BSP9\", \"marker\": {\"color\": \"#FFA15A\"}, \"name\": \"Clave platillo=BSP9\", \"offsetgroup\": \"Clave platillo=BSP9\", \"orientation\": \"v\", \"showlegend\": true, \"textposition\": \"auto\", \"type\": \"bar\", \"x\": [\"BEBIDAS S\\u00daPER\"], \"xaxis\": \"x\", \"y\": [5.0], \"yaxis\": \"y\"}, {\"alignmentgroup\": \"True\", \"hoverlabel\": {\"namelength\": 0}, \"hovertemplate\": \"Clave platillo=BSP7<br>Grupo=%{x}<br>Cantidad=%{y}\", \"legendgroup\": \"Clave platillo=BSP7\", \"marker\": {\"color\": \"#19d3f3\"}, \"name\": \"Clave platillo=BSP7\", \"offsetgroup\": \"Clave platillo=BSP7\", \"orientation\": \"v\", \"showlegend\": true, \"textposition\": \"auto\", \"type\": \"bar\", \"x\": [\"BEBIDAS S\\u00daPER\"], \"xaxis\": \"x\", \"y\": [3.0], \"yaxis\": \"y\"}, {\"alignmentgroup\": \"True\", \"hoverlabel\": {\"namelength\": 0}, \"hovertemplate\": \"Clave platillo=BSP6<br>Grupo=%{x}<br>Cantidad=%{y}\", \"legendgroup\": \"Clave platillo=BSP6\", \"marker\": {\"color\": \"#FF6692\"}, \"name\": \"Clave platillo=BSP6\", \"offsetgroup\": \"Clave platillo=BSP6\", \"orientation\": \"v\", \"showlegend\": true, \"textposition\": \"auto\", \"type\": \"bar\", \"x\": [\"BEBIDAS S\\u00daPER\"], \"xaxis\": \"x\", \"y\": [1.0], \"yaxis\": \"y\"}, {\"alignmentgroup\": \"True\", \"hoverlabel\": {\"namelength\": 0}, \"hovertemplate\": \"Clave platillo=BSP5<br>Grupo=%{x}<br>Cantidad=%{y}\", \"legendgroup\": \"Clave platillo=BSP5\", \"marker\": {\"color\": \"#B6E880\"}, \"name\": \"Clave platillo=BSP5\", \"offsetgroup\": \"Clave platillo=BSP5\", \"orientation\": \"v\", \"showlegend\": true, \"textposition\": \"auto\", \"type\": \"bar\", \"x\": [\"BEBIDAS S\\u00daPER\"], \"xaxis\": \"x\", \"y\": [3.0], \"yaxis\": \"y\"}, {\"alignmentgroup\": \"True\", \"hoverlabel\": {\"namelength\": 0}, \"hovertemplate\": \"Clave platillo=BSP3<br>Grupo=%{x}<br>Cantidad=%{y}\", \"legendgroup\": \"Clave platillo=BSP3\", \"marker\": {\"color\": \"#FF97FF\"}, \"name\": \"Clave platillo=BSP3\", \"offsetgroup\": \"Clave platillo=BSP3\", \"orientation\": \"v\", \"showlegend\": true, \"textposition\": \"auto\", \"type\": \"bar\", \"x\": [\"BEBIDAS S\\u00daPER\"], \"xaxis\": \"x\", \"y\": [7.0], \"yaxis\": \"y\"}, {\"alignmentgroup\": \"True\", \"hoverlabel\": {\"namelength\": 0}, \"hovertemplate\": \"Clave platillo=BSP2<br>Grupo=%{x}<br>Cantidad=%{y}\", \"legendgroup\": \"Clave platillo=BSP2\", \"marker\": {\"color\": \"#FECB52\"}, \"name\": \"Clave platillo=BSP2\", \"offsetgroup\": \"Clave platillo=BSP2\", \"orientation\": \"v\", \"showlegend\": true, \"textposition\": \"auto\", \"type\": \"bar\", \"x\": [\"BEBIDAS S\\u00daPER\"], \"xaxis\": \"x\", \"y\": [2.0], \"yaxis\": \"y\"}, {\"alignmentgroup\": \"True\", \"hoverlabel\": {\"namelength\": 0}, \"hovertemplate\": \"Clave platillo=BSP18<br>Grupo=%{x}<br>Cantidad=%{y}\", \"legendgroup\": \"Clave platillo=BSP18\", \"marker\": {\"color\": \"#636efa\"}, \"name\": \"Clave platillo=BSP18\", \"offsetgroup\": \"Clave platillo=BSP18\", \"orientation\": \"v\", \"showlegend\": true, \"textposition\": \"auto\", \"type\": \"bar\", \"x\": [\"BEBIDAS S\\u00daPER\"], \"xaxis\": \"x\", \"y\": [1.0], \"yaxis\": \"y\"}, {\"alignmentgroup\": \"True\", \"hoverlabel\": {\"namelength\": 0}, \"hovertemplate\": \"Clave platillo=BSP17<br>Grupo=%{x}<br>Cantidad=%{y}\", \"legendgroup\": \"Clave platillo=BSP17\", \"marker\": {\"color\": \"#EF553B\"}, \"name\": \"Clave platillo=BSP17\", \"offsetgroup\": \"Clave platillo=BSP17\", \"orientation\": \"v\", \"showlegend\": true, \"textposition\": \"auto\", \"type\": \"bar\", \"x\": [\"BEBIDAS S\\u00daPER\"], \"xaxis\": \"x\", \"y\": [3.0], \"yaxis\": \"y\"}, {\"alignmentgroup\": \"True\", \"hoverlabel\": {\"namelength\": 0}, \"hovertemplate\": \"Clave platillo=BSP16<br>Grupo=%{x}<br>Cantidad=%{y}\", \"legendgroup\": \"Clave platillo=BSP16\", \"marker\": {\"color\": \"#00cc96\"}, \"name\": \"Clave platillo=BSP16\", \"offsetgroup\": \"Clave platillo=BSP16\", \"orientation\": \"v\", \"showlegend\": true, \"textposition\": \"auto\", \"type\": \"bar\", \"x\": [\"BEBIDAS S\\u00daPER\"], \"xaxis\": \"x\", \"y\": [3.0], \"yaxis\": \"y\"}, {\"alignmentgroup\": \"True\", \"hoverlabel\": {\"namelength\": 0}, \"hovertemplate\": \"Clave platillo=BSP15<br>Grupo=%{x}<br>Cantidad=%{y}\", \"legendgroup\": \"Clave platillo=BSP15\", \"marker\": {\"color\": \"#ab63fa\"}, \"name\": \"Clave platillo=BSP15\", \"offsetgroup\": \"Clave platillo=BSP15\", \"orientation\": \"v\", \"showlegend\": true, \"textposition\": \"auto\", \"type\": \"bar\", \"x\": [\"BEBIDAS S\\u00daPER\"], \"xaxis\": \"x\", \"y\": [24.0], \"yaxis\": \"y\"}, {\"alignmentgroup\": \"True\", \"hoverlabel\": {\"namelength\": 0}, \"hovertemplate\": \"Clave platillo=BSP14<br>Grupo=%{x}<br>Cantidad=%{y}\", \"legendgroup\": \"Clave platillo=BSP14\", \"marker\": {\"color\": \"#FFA15A\"}, \"name\": \"Clave platillo=BSP14\", \"offsetgroup\": \"Clave platillo=BSP14\", \"orientation\": \"v\", \"showlegend\": true, \"textposition\": \"auto\", \"type\": \"bar\", \"x\": [\"BEBIDAS S\\u00daPER\"], \"xaxis\": \"x\", \"y\": [1.0], \"yaxis\": \"y\"}, {\"alignmentgroup\": \"True\", \"hoverlabel\": {\"namelength\": 0}, \"hovertemplate\": \"Clave platillo=BSP12<br>Grupo=%{x}<br>Cantidad=%{y}\", \"legendgroup\": \"Clave platillo=BSP12\", \"marker\": {\"color\": \"#19d3f3\"}, \"name\": \"Clave platillo=BSP12\", \"offsetgroup\": \"Clave platillo=BSP12\", \"orientation\": \"v\", \"showlegend\": true, \"textposition\": \"auto\", \"type\": \"bar\", \"x\": [\"BEBIDAS S\\u00daPER\"], \"xaxis\": \"x\", \"y\": [1.0], \"yaxis\": \"y\"}, {\"alignmentgroup\": \"True\", \"hoverlabel\": {\"namelength\": 0}, \"hovertemplate\": \"Clave platillo=BSP11<br>Grupo=%{x}<br>Cantidad=%{y}\", \"legendgroup\": \"Clave platillo=BSP11\", \"marker\": {\"color\": \"#FF6692\"}, \"name\": \"Clave platillo=BSP11\", \"offsetgroup\": \"Clave platillo=BSP11\", \"orientation\": \"v\", \"showlegend\": true, \"textposition\": \"auto\", \"type\": \"bar\", \"x\": [\"BEBIDAS S\\u00daPER\"], \"xaxis\": \"x\", \"y\": [3.0], \"yaxis\": \"y\"}, {\"alignmentgroup\": \"True\", \"hoverlabel\": {\"namelength\": 0}, \"hovertemplate\": \"Clave platillo=BSP1<br>Grupo=%{x}<br>Cantidad=%{y}\", \"legendgroup\": \"Clave platillo=BSP1\", \"marker\": {\"color\": \"#B6E880\"}, \"name\": \"Clave platillo=BSP1\", \"offsetgroup\": \"Clave platillo=BSP1\", \"orientation\": \"v\", \"showlegend\": true, \"textposition\": \"auto\", \"type\": \"bar\", \"x\": [\"BEBIDAS S\\u00daPER\"], \"xaxis\": \"x\", \"y\": [14.0], \"yaxis\": \"y\"}, {\"alignmentgroup\": \"True\", \"hoverlabel\": {\"namelength\": 0}, \"hovertemplate\": \"Clave platillo=BSA9<br>Grupo=%{x}<br>Cantidad=%{y}\", \"legendgroup\": \"Clave platillo=BSA9\", \"marker\": {\"color\": \"#FF97FF\"}, \"name\": \"Clave platillo=BSA9\", \"offsetgroup\": \"Clave platillo=BSA9\", \"orientation\": \"v\", \"showlegend\": true, \"textposition\": \"auto\", \"type\": \"bar\", \"x\": [\"BEBIDAS SIN ALCOHOL\"], \"xaxis\": \"x\", \"y\": [65.0], \"yaxis\": \"y\"}, {\"alignmentgroup\": \"True\", \"hoverlabel\": {\"namelength\": 0}, \"hovertemplate\": \"Clave platillo=BSA8<br>Grupo=%{x}<br>Cantidad=%{y}\", \"legendgroup\": \"Clave platillo=BSA8\", \"marker\": {\"color\": \"#FECB52\"}, \"name\": \"Clave platillo=BSA8\", \"offsetgroup\": \"Clave platillo=BSA8\", \"orientation\": \"v\", \"showlegend\": true, \"textposition\": \"auto\", \"type\": \"bar\", \"x\": [\"BEBIDAS SIN ALCOHOL\"], \"xaxis\": \"x\", \"y\": [338.0], \"yaxis\": \"y\"}, {\"alignmentgroup\": \"True\", \"hoverlabel\": {\"namelength\": 0}, \"hovertemplate\": \"Clave platillo=BSA7<br>Grupo=%{x}<br>Cantidad=%{y}\", \"legendgroup\": \"Clave platillo=BSA7\", \"marker\": {\"color\": \"#636efa\"}, \"name\": \"Clave platillo=BSA7\", \"offsetgroup\": \"Clave platillo=BSA7\", \"orientation\": \"v\", \"showlegend\": true, \"textposition\": \"auto\", \"type\": \"bar\", \"x\": [\"BEBIDAS SIN ALCOHOL\"], \"xaxis\": \"x\", \"y\": [29.0], \"yaxis\": \"y\"}, {\"alignmentgroup\": \"True\", \"hoverlabel\": {\"namelength\": 0}, \"hovertemplate\": \"Clave platillo=BSA6<br>Grupo=%{x}<br>Cantidad=%{y}\", \"legendgroup\": \"Clave platillo=BSA6\", \"marker\": {\"color\": \"#EF553B\"}, \"name\": \"Clave platillo=BSA6\", \"offsetgroup\": \"Clave platillo=BSA6\", \"orientation\": \"v\", \"showlegend\": true, \"textposition\": \"auto\", \"type\": \"bar\", \"x\": [\"BEBIDAS SIN ALCOHOL\"], \"xaxis\": \"x\", \"y\": [143.0], \"yaxis\": \"y\"}, {\"alignmentgroup\": \"True\", \"hoverlabel\": {\"namelength\": 0}, \"hovertemplate\": \"Clave platillo=BSA5<br>Grupo=%{x}<br>Cantidad=%{y}\", \"legendgroup\": \"Clave platillo=BSA5\", \"marker\": {\"color\": \"#00cc96\"}, \"name\": \"Clave platillo=BSA5\", \"offsetgroup\": \"Clave platillo=BSA5\", \"orientation\": \"v\", \"showlegend\": true, \"textposition\": \"auto\", \"type\": \"bar\", \"x\": [\"BEBIDAS SIN ALCOHOL\"], \"xaxis\": \"x\", \"y\": [252.0], \"yaxis\": \"y\"}, {\"alignmentgroup\": \"True\", \"hoverlabel\": {\"namelength\": 0}, \"hovertemplate\": \"Clave platillo=BSA4<br>Grupo=%{x}<br>Cantidad=%{y}\", \"legendgroup\": \"Clave platillo=BSA4\", \"marker\": {\"color\": \"#ab63fa\"}, \"name\": \"Clave platillo=BSA4\", \"offsetgroup\": \"Clave platillo=BSA4\", \"orientation\": \"v\", \"showlegend\": true, \"textposition\": \"auto\", \"type\": \"bar\", \"x\": [\"BEBIDAS SIN ALCOHOL\"], \"xaxis\": \"x\", \"y\": [109.0], \"yaxis\": \"y\"}, {\"alignmentgroup\": \"True\", \"hoverlabel\": {\"namelength\": 0}, \"hovertemplate\": \"Clave platillo=BSA3<br>Grupo=%{x}<br>Cantidad=%{y}\", \"legendgroup\": \"Clave platillo=BSA3\", \"marker\": {\"color\": \"#FFA15A\"}, \"name\": \"Clave platillo=BSA3\", \"offsetgroup\": \"Clave platillo=BSA3\", \"orientation\": \"v\", \"showlegend\": true, \"textposition\": \"auto\", \"type\": \"bar\", \"x\": [\"BEBIDAS SIN ALCOHOL\"], \"xaxis\": \"x\", \"y\": [186.0], \"yaxis\": \"y\"}, {\"alignmentgroup\": \"True\", \"hoverlabel\": {\"namelength\": 0}, \"hovertemplate\": \"Clave platillo=BSA2<br>Grupo=%{x}<br>Cantidad=%{y}\", \"legendgroup\": \"Clave platillo=BSA2\", \"marker\": {\"color\": \"#19d3f3\"}, \"name\": \"Clave platillo=BSA2\", \"offsetgroup\": \"Clave platillo=BSA2\", \"orientation\": \"v\", \"showlegend\": true, \"textposition\": \"auto\", \"type\": \"bar\", \"x\": [\"BEBIDAS SIN ALCOHOL\"], \"xaxis\": \"x\", \"y\": [500.0], \"yaxis\": \"y\"}, {\"alignmentgroup\": \"True\", \"hoverlabel\": {\"namelength\": 0}, \"hovertemplate\": \"Clave platillo=BSA1<br>Grupo=%{x}<br>Cantidad=%{y}\", \"legendgroup\": \"Clave platillo=BSA1\", \"marker\": {\"color\": \"#FF6692\"}, \"name\": \"Clave platillo=BSA1\", \"offsetgroup\": \"Clave platillo=BSA1\", \"orientation\": \"v\", \"showlegend\": true, \"textposition\": \"auto\", \"type\": \"bar\", \"x\": [\"BEBIDAS SIN ALCOHOL\"], \"xaxis\": \"x\", \"y\": [692.0], \"yaxis\": \"y\"}, {\"alignmentgroup\": \"True\", \"hoverlabel\": {\"namelength\": 0}, \"hovertemplate\": \"Clave platillo=BCA8<br>Grupo=%{x}<br>Cantidad=%{y}\", \"legendgroup\": \"Clave platillo=BCA8\", \"marker\": {\"color\": \"#B6E880\"}, \"name\": \"Clave platillo=BCA8\", \"offsetgroup\": \"Clave platillo=BCA8\", \"orientation\": \"v\", \"showlegend\": true, \"textposition\": \"auto\", \"type\": \"bar\", \"x\": [\"BEBIDAS CON ALCOHOL\"], \"xaxis\": \"x\", \"y\": [1981.0], \"yaxis\": \"y\"}, {\"alignmentgroup\": \"True\", \"hoverlabel\": {\"namelength\": 0}, \"hovertemplate\": \"Clave platillo=BCA7<br>Grupo=%{x}<br>Cantidad=%{y}\", \"legendgroup\": \"Clave platillo=BCA7\", \"marker\": {\"color\": \"#FF97FF\"}, \"name\": \"Clave platillo=BCA7\", \"offsetgroup\": \"Clave platillo=BCA7\", \"orientation\": \"v\", \"showlegend\": true, \"textposition\": \"auto\", \"type\": \"bar\", \"x\": [\"BEBIDAS CON ALCOHOL\"], \"xaxis\": \"x\", \"y\": [29.0], \"yaxis\": \"y\"}, {\"alignmentgroup\": \"True\", \"hoverlabel\": {\"namelength\": 0}, \"hovertemplate\": \"Clave platillo=BCA6<br>Grupo=%{x}<br>Cantidad=%{y}\", \"legendgroup\": \"Clave platillo=BCA6\", \"marker\": {\"color\": \"#FECB52\"}, \"name\": \"Clave platillo=BCA6\", \"offsetgroup\": \"Clave platillo=BCA6\", \"orientation\": \"v\", \"showlegend\": true, \"textposition\": \"auto\", \"type\": \"bar\", \"x\": [\"BEBIDAS CON ALCOHOL\"], \"xaxis\": \"x\", \"y\": [248.0], \"yaxis\": \"y\"}, {\"alignmentgroup\": \"True\", \"hoverlabel\": {\"namelength\": 0}, \"hovertemplate\": \"Clave platillo=BCA5<br>Grupo=%{x}<br>Cantidad=%{y}\", \"legendgroup\": \"Clave platillo=BCA5\", \"marker\": {\"color\": \"#636efa\"}, \"name\": \"Clave platillo=BCA5\", \"offsetgroup\": \"Clave platillo=BCA5\", \"orientation\": \"v\", \"showlegend\": true, \"textposition\": \"auto\", \"type\": \"bar\", \"x\": [\"BEBIDAS CON ALCOHOL\"], \"xaxis\": \"x\", \"y\": [232.0], \"yaxis\": \"y\"}, {\"alignmentgroup\": \"True\", \"hoverlabel\": {\"namelength\": 0}, \"hovertemplate\": \"Clave platillo=BCA4<br>Grupo=%{x}<br>Cantidad=%{y}\", \"legendgroup\": \"Clave platillo=BCA4\", \"marker\": {\"color\": \"#EF553B\"}, \"name\": \"Clave platillo=BCA4\", \"offsetgroup\": \"Clave platillo=BCA4\", \"orientation\": \"v\", \"showlegend\": true, \"textposition\": \"auto\", \"type\": \"bar\", \"x\": [\"BEBIDAS CON ALCOHOL\"], \"xaxis\": \"x\", \"y\": [205.0], \"yaxis\": \"y\"}, {\"alignmentgroup\": \"True\", \"hoverlabel\": {\"namelength\": 0}, \"hovertemplate\": \"Clave platillo=BCA3<br>Grupo=%{x}<br>Cantidad=%{y}\", \"legendgroup\": \"Clave platillo=BCA3\", \"marker\": {\"color\": \"#00cc96\"}, \"name\": \"Clave platillo=BCA3\", \"offsetgroup\": \"Clave platillo=BCA3\", \"orientation\": \"v\", \"showlegend\": true, \"textposition\": \"auto\", \"type\": \"bar\", \"x\": [\"BEBIDAS CON ALCOHOL\"], \"xaxis\": \"x\", \"y\": [151.0], \"yaxis\": \"y\"}, {\"alignmentgroup\": \"True\", \"hoverlabel\": {\"namelength\": 0}, \"hovertemplate\": \"Clave platillo=BCA2<br>Grupo=%{x}<br>Cantidad=%{y}\", \"legendgroup\": \"Clave platillo=BCA2\", \"marker\": {\"color\": \"#ab63fa\"}, \"name\": \"Clave platillo=BCA2\", \"offsetgroup\": \"Clave platillo=BCA2\", \"orientation\": \"v\", \"showlegend\": true, \"textposition\": \"auto\", \"type\": \"bar\", \"x\": [\"BEBIDAS CON ALCOHOL\"], \"xaxis\": \"x\", \"y\": [69.0], \"yaxis\": \"y\"}, {\"alignmentgroup\": \"True\", \"hoverlabel\": {\"namelength\": 0}, \"hovertemplate\": \"Clave platillo=BCA10<br>Grupo=%{x}<br>Cantidad=%{y}\", \"legendgroup\": \"Clave platillo=BCA10\", \"marker\": {\"color\": \"#FFA15A\"}, \"name\": \"Clave platillo=BCA10\", \"offsetgroup\": \"Clave platillo=BCA10\", \"orientation\": \"v\", \"showlegend\": true, \"textposition\": \"auto\", \"type\": \"bar\", \"x\": [\"BEBIDAS CON ALCOHOL\"], \"xaxis\": \"x\", \"y\": [12.0], \"yaxis\": \"y\"}, {\"alignmentgroup\": \"True\", \"hoverlabel\": {\"namelength\": 0}, \"hovertemplate\": \"Clave platillo=BCA1<br>Grupo=%{x}<br>Cantidad=%{y}\", \"legendgroup\": \"Clave platillo=BCA1\", \"marker\": {\"color\": \"#19d3f3\"}, \"name\": \"Clave platillo=BCA1\", \"offsetgroup\": \"Clave platillo=BCA1\", \"orientation\": \"v\", \"showlegend\": true, \"textposition\": \"auto\", \"type\": \"bar\", \"x\": [\"BEBIDAS CON ALCOHOL\"], \"xaxis\": \"x\", \"y\": [221.0], \"yaxis\": \"y\"}, {\"alignmentgroup\": \"True\", \"hoverlabel\": {\"namelength\": 0}, \"hovertemplate\": \"Clave platillo=BAS9<br>Grupo=%{x}<br>Cantidad=%{y}\", \"legendgroup\": \"Clave platillo=BAS9\", \"marker\": {\"color\": \"#FF6692\"}, \"name\": \"Clave platillo=BAS9\", \"offsetgroup\": \"Clave platillo=BAS9\", \"orientation\": \"v\", \"showlegend\": true, \"textposition\": \"auto\", \"type\": \"bar\", \"x\": [\"B\\u00c1SICOS\"], \"xaxis\": \"x\", \"y\": [14.0], \"yaxis\": \"y\"}, {\"alignmentgroup\": \"True\", \"hoverlabel\": {\"namelength\": 0}, \"hovertemplate\": \"Clave platillo=BAS8<br>Grupo=%{x}<br>Cantidad=%{y}\", \"legendgroup\": \"Clave platillo=BAS8\", \"marker\": {\"color\": \"#B6E880\"}, \"name\": \"Clave platillo=BAS8\", \"offsetgroup\": \"Clave platillo=BAS8\", \"orientation\": \"v\", \"showlegend\": true, \"textposition\": \"auto\", \"type\": \"bar\", \"x\": [\"B\\u00c1SICOS\"], \"xaxis\": \"x\", \"y\": [6.0], \"yaxis\": \"y\"}, {\"alignmentgroup\": \"True\", \"hoverlabel\": {\"namelength\": 0}, \"hovertemplate\": \"Clave platillo=BAS7<br>Grupo=%{x}<br>Cantidad=%{y}\", \"legendgroup\": \"Clave platillo=BAS7\", \"marker\": {\"color\": \"#FF97FF\"}, \"name\": \"Clave platillo=BAS7\", \"offsetgroup\": \"Clave platillo=BAS7\", \"orientation\": \"v\", \"showlegend\": true, \"textposition\": \"auto\", \"type\": \"bar\", \"x\": [\"B\\u00c1SICOS\"], \"xaxis\": \"x\", \"y\": [40.0], \"yaxis\": \"y\"}, {\"alignmentgroup\": \"True\", \"hoverlabel\": {\"namelength\": 0}, \"hovertemplate\": \"Clave platillo=BAS6<br>Grupo=%{x}<br>Cantidad=%{y}\", \"legendgroup\": \"Clave platillo=BAS6\", \"marker\": {\"color\": \"#FECB52\"}, \"name\": \"Clave platillo=BAS6\", \"offsetgroup\": \"Clave platillo=BAS6\", \"orientation\": \"v\", \"showlegend\": true, \"textposition\": \"auto\", \"type\": \"bar\", \"x\": [\"B\\u00c1SICOS\"], \"xaxis\": \"x\", \"y\": [25.0], \"yaxis\": \"y\"}, {\"alignmentgroup\": \"True\", \"hoverlabel\": {\"namelength\": 0}, \"hovertemplate\": \"Clave platillo=BAS53<br>Grupo=%{x}<br>Cantidad=%{y}\", \"legendgroup\": \"Clave platillo=BAS53\", \"marker\": {\"color\": \"#636efa\"}, \"name\": \"Clave platillo=BAS53\", \"offsetgroup\": \"Clave platillo=BAS53\", \"orientation\": \"v\", \"showlegend\": true, \"textposition\": \"auto\", \"type\": \"bar\", \"x\": [\"B\\u00c1SICOS\"], \"xaxis\": \"x\", \"y\": [339.0], \"yaxis\": \"y\"}, {\"alignmentgroup\": \"True\", \"hoverlabel\": {\"namelength\": 0}, \"hovertemplate\": \"Clave platillo=BAS52<br>Grupo=%{x}<br>Cantidad=%{y}\", \"legendgroup\": \"Clave platillo=BAS52\", \"marker\": {\"color\": \"#EF553B\"}, \"name\": \"Clave platillo=BAS52\", \"offsetgroup\": \"Clave platillo=BAS52\", \"orientation\": \"v\", \"showlegend\": true, \"textposition\": \"auto\", \"type\": \"bar\", \"x\": [\"B\\u00c1SICOS\"], \"xaxis\": \"x\", \"y\": [174.0], \"yaxis\": \"y\"}, {\"alignmentgroup\": \"True\", \"hoverlabel\": {\"namelength\": 0}, \"hovertemplate\": \"Clave platillo=BAS51<br>Grupo=%{x}<br>Cantidad=%{y}\", \"legendgroup\": \"Clave platillo=BAS51\", \"marker\": {\"color\": \"#00cc96\"}, \"name\": \"Clave platillo=BAS51\", \"offsetgroup\": \"Clave platillo=BAS51\", \"orientation\": \"v\", \"showlegend\": true, \"textposition\": \"auto\", \"type\": \"bar\", \"x\": [\"B\\u00c1SICOS\"], \"xaxis\": \"x\", \"y\": [470.0], \"yaxis\": \"y\"}, {\"alignmentgroup\": \"True\", \"hoverlabel\": {\"namelength\": 0}, \"hovertemplate\": \"Clave platillo=BAS50<br>Grupo=%{x}<br>Cantidad=%{y}\", \"legendgroup\": \"Clave platillo=BAS50\", \"marker\": {\"color\": \"#ab63fa\"}, \"name\": \"Clave platillo=BAS50\", \"offsetgroup\": \"Clave platillo=BAS50\", \"orientation\": \"v\", \"showlegend\": true, \"textposition\": \"auto\", \"type\": \"bar\", \"x\": [\"B\\u00c1SICOS\"], \"xaxis\": \"x\", \"y\": [1420.0], \"yaxis\": \"y\"}, {\"alignmentgroup\": \"True\", \"hoverlabel\": {\"namelength\": 0}, \"hovertemplate\": \"Clave platillo=BAS5<br>Grupo=%{x}<br>Cantidad=%{y}\", \"legendgroup\": \"Clave platillo=BAS5\", \"marker\": {\"color\": \"#FFA15A\"}, \"name\": \"Clave platillo=BAS5\", \"offsetgroup\": \"Clave platillo=BAS5\", \"orientation\": \"v\", \"showlegend\": true, \"textposition\": \"auto\", \"type\": \"bar\", \"x\": [\"B\\u00c1SICOS\"], \"xaxis\": \"x\", \"y\": [77.0], \"yaxis\": \"y\"}, {\"alignmentgroup\": \"True\", \"hoverlabel\": {\"namelength\": 0}, \"hovertemplate\": \"Clave platillo=BAS4<br>Grupo=%{x}<br>Cantidad=%{y}\", \"legendgroup\": \"Clave platillo=BAS4\", \"marker\": {\"color\": \"#19d3f3\"}, \"name\": \"Clave platillo=BAS4\", \"offsetgroup\": \"Clave platillo=BAS4\", \"orientation\": \"v\", \"showlegend\": true, \"textposition\": \"auto\", \"type\": \"bar\", \"x\": [\"B\\u00c1SICOS\"], \"xaxis\": \"x\", \"y\": [49.0], \"yaxis\": \"y\"}, {\"alignmentgroup\": \"True\", \"hoverlabel\": {\"namelength\": 0}, \"hovertemplate\": \"Clave platillo=BAS3<br>Grupo=%{x}<br>Cantidad=%{y}\", \"legendgroup\": \"Clave platillo=BAS3\", \"marker\": {\"color\": \"#FF6692\"}, \"name\": \"Clave platillo=BAS3\", \"offsetgroup\": \"Clave platillo=BAS3\", \"orientation\": \"v\", \"showlegend\": true, \"textposition\": \"auto\", \"type\": \"bar\", \"x\": [\"B\\u00c1SICOS\"], \"xaxis\": \"x\", \"y\": [170.0], \"yaxis\": \"y\"}, {\"alignmentgroup\": \"True\", \"hoverlabel\": {\"namelength\": 0}, \"hovertemplate\": \"Clave platillo=BAS2<br>Grupo=%{x}<br>Cantidad=%{y}\", \"legendgroup\": \"Clave platillo=BAS2\", \"marker\": {\"color\": \"#B6E880\"}, \"name\": \"Clave platillo=BAS2\", \"offsetgroup\": \"Clave platillo=BAS2\", \"orientation\": \"v\", \"showlegend\": true, \"textposition\": \"auto\", \"type\": \"bar\", \"x\": [\"B\\u00c1SICOS\"], \"xaxis\": \"x\", \"y\": [713.0], \"yaxis\": \"y\"}, {\"alignmentgroup\": \"True\", \"hoverlabel\": {\"namelength\": 0}, \"hovertemplate\": \"Clave platillo=BAS14<br>Grupo=%{x}<br>Cantidad=%{y}\", \"legendgroup\": \"Clave platillo=BAS14\", \"marker\": {\"color\": \"#FF97FF\"}, \"name\": \"Clave platillo=BAS14\", \"offsetgroup\": \"Clave platillo=BAS14\", \"orientation\": \"v\", \"showlegend\": true, \"textposition\": \"auto\", \"type\": \"bar\", \"x\": [\"B\\u00c1SICOS\"], \"xaxis\": \"x\", \"y\": [8.0], \"yaxis\": \"y\"}, {\"alignmentgroup\": \"True\", \"hoverlabel\": {\"namelength\": 0}, \"hovertemplate\": \"Clave platillo=BAS13<br>Grupo=%{x}<br>Cantidad=%{y}\", \"legendgroup\": \"Clave platillo=BAS13\", \"marker\": {\"color\": \"#FECB52\"}, \"name\": \"Clave platillo=BAS13\", \"offsetgroup\": \"Clave platillo=BAS13\", \"orientation\": \"v\", \"showlegend\": true, \"textposition\": \"auto\", \"type\": \"bar\", \"x\": [\"B\\u00c1SICOS\"], \"xaxis\": \"x\", \"y\": [25.0], \"yaxis\": \"y\"}, {\"alignmentgroup\": \"True\", \"hoverlabel\": {\"namelength\": 0}, \"hovertemplate\": \"Clave platillo=BAS12<br>Grupo=%{x}<br>Cantidad=%{y}\", \"legendgroup\": \"Clave platillo=BAS12\", \"marker\": {\"color\": \"#636efa\"}, \"name\": \"Clave platillo=BAS12\", \"offsetgroup\": \"Clave platillo=BAS12\", \"orientation\": \"v\", \"showlegend\": true, \"textposition\": \"auto\", \"type\": \"bar\", \"x\": [\"B\\u00c1SICOS\"], \"xaxis\": \"x\", \"y\": [11.0], \"yaxis\": \"y\"}, {\"alignmentgroup\": \"True\", \"hoverlabel\": {\"namelength\": 0}, \"hovertemplate\": \"Clave platillo=BAS11<br>Grupo=%{x}<br>Cantidad=%{y}\", \"legendgroup\": \"Clave platillo=BAS11\", \"marker\": {\"color\": \"#EF553B\"}, \"name\": \"Clave platillo=BAS11\", \"offsetgroup\": \"Clave platillo=BAS11\", \"orientation\": \"v\", \"showlegend\": true, \"textposition\": \"auto\", \"type\": \"bar\", \"x\": [\"B\\u00c1SICOS\"], \"xaxis\": \"x\", \"y\": [1.0], \"yaxis\": \"y\"}, {\"alignmentgroup\": \"True\", \"hoverlabel\": {\"namelength\": 0}, \"hovertemplate\": \"Clave platillo=BAS10<br>Grupo=%{x}<br>Cantidad=%{y}\", \"legendgroup\": \"Clave platillo=BAS10\", \"marker\": {\"color\": \"#00cc96\"}, \"name\": \"Clave platillo=BAS10\", \"offsetgroup\": \"Clave platillo=BAS10\", \"orientation\": \"v\", \"showlegend\": true, \"textposition\": \"auto\", \"type\": \"bar\", \"x\": [\"B\\u00c1SICOS\"], \"xaxis\": \"x\", \"y\": [4.0], \"yaxis\": \"y\"}, {\"alignmentgroup\": \"True\", \"hoverlabel\": {\"namelength\": 0}, \"hovertemplate\": \"Clave platillo=BAS1<br>Grupo=%{x}<br>Cantidad=%{y}\", \"legendgroup\": \"Clave platillo=BAS1\", \"marker\": {\"color\": \"#ab63fa\"}, \"name\": \"Clave platillo=BAS1\", \"offsetgroup\": \"Clave platillo=BAS1\", \"orientation\": \"v\", \"showlegend\": true, \"textposition\": \"auto\", \"type\": \"bar\", \"x\": [\"B\\u00c1SICOS\"], \"xaxis\": \"x\", \"y\": [2712.0], \"yaxis\": \"y\"}],\n",
       "                        {\"barmode\": \"relative\", \"height\": 600, \"legend\": {\"tracegroupgap\": 0}, \"margin\": {\"t\": 60}, \"template\": {\"data\": {\"bar\": [{\"error_x\": {\"color\": \"#2a3f5f\"}, \"error_y\": {\"color\": \"#2a3f5f\"}, \"marker\": {\"line\": {\"color\": \"#E5ECF6\", \"width\": 0.5}}, \"type\": \"bar\"}], \"barpolar\": [{\"marker\": {\"line\": {\"color\": \"#E5ECF6\", \"width\": 0.5}}, \"type\": \"barpolar\"}], \"carpet\": [{\"aaxis\": {\"endlinecolor\": \"#2a3f5f\", \"gridcolor\": \"white\", \"linecolor\": \"white\", \"minorgridcolor\": \"white\", \"startlinecolor\": \"#2a3f5f\"}, \"baxis\": {\"endlinecolor\": \"#2a3f5f\", \"gridcolor\": \"white\", \"linecolor\": \"white\", \"minorgridcolor\": \"white\", \"startlinecolor\": \"#2a3f5f\"}, \"type\": \"carpet\"}], \"choropleth\": [{\"colorbar\": {\"outlinewidth\": 0, \"ticks\": \"\"}, \"type\": \"choropleth\"}], \"contour\": [{\"colorbar\": {\"outlinewidth\": 0, \"ticks\": \"\"}, \"colorscale\": [[0.0, \"#0d0887\"], [0.1111111111111111, \"#46039f\"], [0.2222222222222222, \"#7201a8\"], [0.3333333333333333, \"#9c179e\"], [0.4444444444444444, \"#bd3786\"], [0.5555555555555556, \"#d8576b\"], [0.6666666666666666, \"#ed7953\"], [0.7777777777777778, \"#fb9f3a\"], [0.8888888888888888, \"#fdca26\"], [1.0, \"#f0f921\"]], \"type\": \"contour\"}], \"contourcarpet\": [{\"colorbar\": {\"outlinewidth\": 0, \"ticks\": \"\"}, \"type\": \"contourcarpet\"}], \"heatmap\": [{\"colorbar\": {\"outlinewidth\": 0, \"ticks\": \"\"}, \"colorscale\": [[0.0, \"#0d0887\"], [0.1111111111111111, \"#46039f\"], [0.2222222222222222, \"#7201a8\"], [0.3333333333333333, \"#9c179e\"], [0.4444444444444444, \"#bd3786\"], [0.5555555555555556, \"#d8576b\"], [0.6666666666666666, \"#ed7953\"], [0.7777777777777778, \"#fb9f3a\"], [0.8888888888888888, \"#fdca26\"], [1.0, \"#f0f921\"]], \"type\": \"heatmap\"}], \"heatmapgl\": [{\"colorbar\": {\"outlinewidth\": 0, \"ticks\": \"\"}, \"colorscale\": [[0.0, \"#0d0887\"], [0.1111111111111111, \"#46039f\"], [0.2222222222222222, \"#7201a8\"], [0.3333333333333333, \"#9c179e\"], [0.4444444444444444, \"#bd3786\"], [0.5555555555555556, \"#d8576b\"], [0.6666666666666666, \"#ed7953\"], [0.7777777777777778, \"#fb9f3a\"], [0.8888888888888888, \"#fdca26\"], [1.0, \"#f0f921\"]], \"type\": \"heatmapgl\"}], \"histogram\": [{\"marker\": {\"colorbar\": {\"outlinewidth\": 0, \"ticks\": \"\"}}, \"type\": \"histogram\"}], \"histogram2d\": [{\"colorbar\": {\"outlinewidth\": 0, \"ticks\": \"\"}, \"colorscale\": [[0.0, \"#0d0887\"], [0.1111111111111111, \"#46039f\"], [0.2222222222222222, \"#7201a8\"], [0.3333333333333333, \"#9c179e\"], [0.4444444444444444, \"#bd3786\"], [0.5555555555555556, \"#d8576b\"], [0.6666666666666666, \"#ed7953\"], [0.7777777777777778, \"#fb9f3a\"], [0.8888888888888888, \"#fdca26\"], [1.0, \"#f0f921\"]], \"type\": \"histogram2d\"}], \"histogram2dcontour\": [{\"colorbar\": {\"outlinewidth\": 0, \"ticks\": \"\"}, \"colorscale\": [[0.0, \"#0d0887\"], [0.1111111111111111, \"#46039f\"], [0.2222222222222222, \"#7201a8\"], [0.3333333333333333, \"#9c179e\"], [0.4444444444444444, \"#bd3786\"], [0.5555555555555556, \"#d8576b\"], [0.6666666666666666, \"#ed7953\"], [0.7777777777777778, \"#fb9f3a\"], [0.8888888888888888, \"#fdca26\"], [1.0, \"#f0f921\"]], \"type\": \"histogram2dcontour\"}], \"mesh3d\": [{\"colorbar\": {\"outlinewidth\": 0, \"ticks\": \"\"}, \"type\": \"mesh3d\"}], \"parcoords\": [{\"line\": {\"colorbar\": {\"outlinewidth\": 0, \"ticks\": \"\"}}, \"type\": \"parcoords\"}], \"scatter\": [{\"marker\": {\"colorbar\": {\"outlinewidth\": 0, \"ticks\": \"\"}}, \"type\": \"scatter\"}], \"scatter3d\": [{\"line\": {\"colorbar\": {\"outlinewidth\": 0, \"ticks\": \"\"}}, \"marker\": {\"colorbar\": {\"outlinewidth\": 0, \"ticks\": \"\"}}, \"type\": \"scatter3d\"}], \"scattercarpet\": [{\"marker\": {\"colorbar\": {\"outlinewidth\": 0, \"ticks\": \"\"}}, \"type\": \"scattercarpet\"}], \"scattergeo\": [{\"marker\": {\"colorbar\": {\"outlinewidth\": 0, \"ticks\": \"\"}}, \"type\": \"scattergeo\"}], \"scattergl\": [{\"marker\": {\"colorbar\": {\"outlinewidth\": 0, \"ticks\": \"\"}}, \"type\": \"scattergl\"}], \"scattermapbox\": [{\"marker\": {\"colorbar\": {\"outlinewidth\": 0, \"ticks\": \"\"}}, \"type\": \"scattermapbox\"}], \"scatterpolar\": [{\"marker\": {\"colorbar\": {\"outlinewidth\": 0, \"ticks\": \"\"}}, \"type\": \"scatterpolar\"}], \"scatterpolargl\": [{\"marker\": {\"colorbar\": {\"outlinewidth\": 0, \"ticks\": \"\"}}, \"type\": \"scatterpolargl\"}], \"scatterternary\": [{\"marker\": {\"colorbar\": {\"outlinewidth\": 0, \"ticks\": \"\"}}, \"type\": \"scatterternary\"}], \"surface\": [{\"colorbar\": {\"outlinewidth\": 0, \"ticks\": \"\"}, \"colorscale\": [[0.0, \"#0d0887\"], [0.1111111111111111, \"#46039f\"], [0.2222222222222222, \"#7201a8\"], [0.3333333333333333, \"#9c179e\"], [0.4444444444444444, \"#bd3786\"], [0.5555555555555556, \"#d8576b\"], [0.6666666666666666, \"#ed7953\"], [0.7777777777777778, \"#fb9f3a\"], [0.8888888888888888, \"#fdca26\"], [1.0, \"#f0f921\"]], \"type\": \"surface\"}], \"table\": [{\"cells\": {\"fill\": {\"color\": \"#EBF0F8\"}, \"line\": {\"color\": \"white\"}}, \"header\": {\"fill\": {\"color\": \"#C8D4E3\"}, \"line\": {\"color\": \"white\"}}, \"type\": \"table\"}]}, \"layout\": {\"annotationdefaults\": {\"arrowcolor\": \"#2a3f5f\", \"arrowhead\": 0, \"arrowwidth\": 1}, \"colorscale\": {\"diverging\": [[0, \"#8e0152\"], [0.1, \"#c51b7d\"], [0.2, \"#de77ae\"], [0.3, \"#f1b6da\"], [0.4, \"#fde0ef\"], [0.5, \"#f7f7f7\"], [0.6, \"#e6f5d0\"], [0.7, \"#b8e186\"], [0.8, \"#7fbc41\"], [0.9, \"#4d9221\"], [1, \"#276419\"]], \"sequential\": [[0.0, \"#0d0887\"], [0.1111111111111111, \"#46039f\"], [0.2222222222222222, \"#7201a8\"], [0.3333333333333333, \"#9c179e\"], [0.4444444444444444, \"#bd3786\"], [0.5555555555555556, \"#d8576b\"], [0.6666666666666666, \"#ed7953\"], [0.7777777777777778, \"#fb9f3a\"], [0.8888888888888888, \"#fdca26\"], [1.0, \"#f0f921\"]], \"sequentialminus\": [[0.0, \"#0d0887\"], [0.1111111111111111, \"#46039f\"], [0.2222222222222222, \"#7201a8\"], [0.3333333333333333, \"#9c179e\"], [0.4444444444444444, \"#bd3786\"], [0.5555555555555556, \"#d8576b\"], [0.6666666666666666, \"#ed7953\"], [0.7777777777777778, \"#fb9f3a\"], [0.8888888888888888, \"#fdca26\"], [1.0, \"#f0f921\"]]}, \"colorway\": [\"#636efa\", \"#EF553B\", \"#00cc96\", \"#ab63fa\", \"#FFA15A\", \"#19d3f3\", \"#FF6692\", \"#B6E880\", \"#FF97FF\", \"#FECB52\"], \"font\": {\"color\": \"#2a3f5f\"}, \"geo\": {\"bgcolor\": \"white\", \"lakecolor\": \"white\", \"landcolor\": \"#E5ECF6\", \"showlakes\": true, \"showland\": true, \"subunitcolor\": \"white\"}, \"hoverlabel\": {\"align\": \"left\"}, \"hovermode\": \"closest\", \"mapbox\": {\"style\": \"light\"}, \"paper_bgcolor\": \"white\", \"plot_bgcolor\": \"#E5ECF6\", \"polar\": {\"angularaxis\": {\"gridcolor\": \"white\", \"linecolor\": \"white\", \"ticks\": \"\"}, \"bgcolor\": \"#E5ECF6\", \"radialaxis\": {\"gridcolor\": \"white\", \"linecolor\": \"white\", \"ticks\": \"\"}}, \"scene\": {\"xaxis\": {\"backgroundcolor\": \"#E5ECF6\", \"gridcolor\": \"white\", \"gridwidth\": 2, \"linecolor\": \"white\", \"showbackground\": true, \"ticks\": \"\", \"zerolinecolor\": \"white\"}, \"yaxis\": {\"backgroundcolor\": \"#E5ECF6\", \"gridcolor\": \"white\", \"gridwidth\": 2, \"linecolor\": \"white\", \"showbackground\": true, \"ticks\": \"\", \"zerolinecolor\": \"white\"}, \"zaxis\": {\"backgroundcolor\": \"#E5ECF6\", \"gridcolor\": \"white\", \"gridwidth\": 2, \"linecolor\": \"white\", \"showbackground\": true, \"ticks\": \"\", \"zerolinecolor\": \"white\"}}, \"shapedefaults\": {\"line\": {\"color\": \"#2a3f5f\"}}, \"ternary\": {\"aaxis\": {\"gridcolor\": \"white\", \"linecolor\": \"white\", \"ticks\": \"\"}, \"baxis\": {\"gridcolor\": \"white\", \"linecolor\": \"white\", \"ticks\": \"\"}, \"bgcolor\": \"#E5ECF6\", \"caxis\": {\"gridcolor\": \"white\", \"linecolor\": \"white\", \"ticks\": \"\"}}, \"title\": {\"x\": 0.05}, \"xaxis\": {\"automargin\": true, \"gridcolor\": \"white\", \"linecolor\": \"white\", \"ticks\": \"\", \"zerolinecolor\": \"white\", \"zerolinewidth\": 2}, \"yaxis\": {\"automargin\": true, \"gridcolor\": \"white\", \"linecolor\": \"white\", \"ticks\": \"\", \"zerolinecolor\": \"white\", \"zerolinewidth\": 2}}}, \"xaxis\": {\"anchor\": \"y\", \"domain\": [0.0, 0.98], \"title\": {\"text\": \"Grupo\"}}, \"yaxis\": {\"anchor\": \"x\", \"domain\": [0.0, 1.0], \"title\": {\"text\": \"Cantidad\"}}},\n",
       "                        {\"responsive\": true}\n",
       "                    ).then(function(){\n",
       "                            \n",
       "var gd = document.getElementById('c69b22a7-9466-46b8-99ac-a99be118f0f7');\n",
       "var x = new MutationObserver(function (mutations, observer) {{\n",
       "        var display = window.getComputedStyle(gd).display;\n",
       "        if (!display || display === 'none') {{\n",
       "            console.log([gd, 'removed!']);\n",
       "            Plotly.purge(gd);\n",
       "            observer.disconnect();\n",
       "        }}\n",
       "}});\n",
       "\n",
       "// Listen for the removal of the full notebook cells\n",
       "var notebookContainer = gd.closest('#notebook-container');\n",
       "if (notebookContainer) {{\n",
       "    x.observe(notebookContainer, {childList: true});\n",
       "}}\n",
       "\n",
       "// Listen for the clearing of the current output cell\n",
       "var outputEl = gd.closest('.output');\n",
       "if (outputEl) {{\n",
       "    x.observe(outputEl, {childList: true});\n",
       "}}\n",
       "\n",
       "                        })\n",
       "                };\n",
       "                });\n",
       "            </script>\n",
       "        </div>"
      ]
     },
     "metadata": {},
     "output_type": "display_data"
    }
   ],
   "source": [
    "data_stacked = data.groupby(['Clave platillo', 'Grupo'])['Cantidad'].sum().reset_index().sort_values(['Clave platillo','Cantidad'],ascending=False)\n",
    "fig = pyx.bar(data_stacked, x='Grupo', y='Cantidad', color = 'Clave platillo')\n",
    "fig.show()"
   ]
  },
  {
   "cell_type": "code",
   "execution_count": null,
   "metadata": {},
   "outputs": [],
   "source": []
  },
  {
   "cell_type": "code",
   "execution_count": 4,
   "metadata": {},
   "outputs": [],
   "source": [
    "data2 = data[data[\"Acción\"] != \"Cancelación\"]\n",
    "data2.dropna(axis=0, subset=['Clave platillo'], inplace=True)\n",
    "data2 = data2[['Cantidad','Clave platillo', 'idEncuesta']]\n",
    "data2 = data2.dropna()"
   ]
  },
  {
   "cell_type": "code",
   "execution_count": null,
   "metadata": {},
   "outputs": [],
   "source": []
  },
  {
   "cell_type": "code",
   "execution_count": 5,
   "metadata": {},
   "outputs": [],
   "source": [
    "data2 = data2.groupby(['idEncuesta', 'Clave platillo'])['Cantidad'].sum().unstack().reset_index().fillna(0).set_index('idEncuesta')"
   ]
  },
  {
   "cell_type": "code",
   "execution_count": 6,
   "metadata": {},
   "outputs": [
    {
     "data": {
      "text/html": [
       "<div>\n",
       "<style scoped>\n",
       "    .dataframe tbody tr th:only-of-type {\n",
       "        vertical-align: middle;\n",
       "    }\n",
       "\n",
       "    .dataframe tbody tr th {\n",
       "        vertical-align: top;\n",
       "    }\n",
       "\n",
       "    .dataframe thead th {\n",
       "        text-align: right;\n",
       "    }\n",
       "</style>\n",
       "<table border=\"1\" class=\"dataframe\">\n",
       "  <thead>\n",
       "    <tr style=\"text-align: right;\">\n",
       "      <th>Clave platillo</th>\n",
       "      <th>BAS1</th>\n",
       "      <th>BAS50</th>\n",
       "      <th>BCA8</th>\n",
       "      <th>CLA1</th>\n",
       "      <th>HAM1</th>\n",
       "      <th>HAM12</th>\n",
       "      <th>HAM7</th>\n",
       "      <th>MBCA63</th>\n",
       "      <th>MCLÁ25</th>\n",
       "      <th>MHAM30</th>\n",
       "    </tr>\n",
       "    <tr>\n",
       "      <th>idEncuesta</th>\n",
       "      <th></th>\n",
       "      <th></th>\n",
       "      <th></th>\n",
       "      <th></th>\n",
       "      <th></th>\n",
       "      <th></th>\n",
       "      <th></th>\n",
       "      <th></th>\n",
       "      <th></th>\n",
       "      <th></th>\n",
       "    </tr>\n",
       "  </thead>\n",
       "  <tbody>\n",
       "    <tr>\n",
       "      <th>115788</th>\n",
       "      <td>0</td>\n",
       "      <td>0</td>\n",
       "      <td>0</td>\n",
       "      <td>0</td>\n",
       "      <td>0</td>\n",
       "      <td>0</td>\n",
       "      <td>0</td>\n",
       "      <td>0</td>\n",
       "      <td>0</td>\n",
       "      <td>1</td>\n",
       "    </tr>\n",
       "    <tr>\n",
       "      <th>115789</th>\n",
       "      <td>0</td>\n",
       "      <td>0</td>\n",
       "      <td>0</td>\n",
       "      <td>0</td>\n",
       "      <td>1</td>\n",
       "      <td>0</td>\n",
       "      <td>0</td>\n",
       "      <td>0</td>\n",
       "      <td>0</td>\n",
       "      <td>0</td>\n",
       "    </tr>\n",
       "    <tr>\n",
       "      <th>117530</th>\n",
       "      <td>0</td>\n",
       "      <td>0</td>\n",
       "      <td>1</td>\n",
       "      <td>0</td>\n",
       "      <td>0</td>\n",
       "      <td>0</td>\n",
       "      <td>0</td>\n",
       "      <td>0</td>\n",
       "      <td>0</td>\n",
       "      <td>0</td>\n",
       "    </tr>\n",
       "    <tr>\n",
       "      <th>117533</th>\n",
       "      <td>0</td>\n",
       "      <td>0</td>\n",
       "      <td>0</td>\n",
       "      <td>0</td>\n",
       "      <td>0</td>\n",
       "      <td>0</td>\n",
       "      <td>0</td>\n",
       "      <td>0</td>\n",
       "      <td>0</td>\n",
       "      <td>1</td>\n",
       "    </tr>\n",
       "    <tr>\n",
       "      <th>117536</th>\n",
       "      <td>0</td>\n",
       "      <td>1</td>\n",
       "      <td>0</td>\n",
       "      <td>0</td>\n",
       "      <td>0</td>\n",
       "      <td>0</td>\n",
       "      <td>0</td>\n",
       "      <td>1</td>\n",
       "      <td>0</td>\n",
       "      <td>0</td>\n",
       "    </tr>\n",
       "    <tr>\n",
       "      <th>...</th>\n",
       "      <td>...</td>\n",
       "      <td>...</td>\n",
       "      <td>...</td>\n",
       "      <td>...</td>\n",
       "      <td>...</td>\n",
       "      <td>...</td>\n",
       "      <td>...</td>\n",
       "      <td>...</td>\n",
       "      <td>...</td>\n",
       "      <td>...</td>\n",
       "    </tr>\n",
       "    <tr>\n",
       "      <th>615342</th>\n",
       "      <td>0</td>\n",
       "      <td>0</td>\n",
       "      <td>1</td>\n",
       "      <td>0</td>\n",
       "      <td>1</td>\n",
       "      <td>0</td>\n",
       "      <td>0</td>\n",
       "      <td>0</td>\n",
       "      <td>0</td>\n",
       "      <td>0</td>\n",
       "    </tr>\n",
       "    <tr>\n",
       "      <th>615470</th>\n",
       "      <td>0</td>\n",
       "      <td>0</td>\n",
       "      <td>0</td>\n",
       "      <td>0</td>\n",
       "      <td>1</td>\n",
       "      <td>0</td>\n",
       "      <td>0</td>\n",
       "      <td>0</td>\n",
       "      <td>0</td>\n",
       "      <td>0</td>\n",
       "    </tr>\n",
       "    <tr>\n",
       "      <th>615569</th>\n",
       "      <td>0</td>\n",
       "      <td>0</td>\n",
       "      <td>1</td>\n",
       "      <td>0</td>\n",
       "      <td>0</td>\n",
       "      <td>1</td>\n",
       "      <td>0</td>\n",
       "      <td>0</td>\n",
       "      <td>0</td>\n",
       "      <td>0</td>\n",
       "    </tr>\n",
       "    <tr>\n",
       "      <th>615571</th>\n",
       "      <td>1</td>\n",
       "      <td>0</td>\n",
       "      <td>0</td>\n",
       "      <td>0</td>\n",
       "      <td>0</td>\n",
       "      <td>0</td>\n",
       "      <td>0</td>\n",
       "      <td>0</td>\n",
       "      <td>1</td>\n",
       "      <td>0</td>\n",
       "    </tr>\n",
       "    <tr>\n",
       "      <th>615573</th>\n",
       "      <td>0</td>\n",
       "      <td>0</td>\n",
       "      <td>0</td>\n",
       "      <td>0</td>\n",
       "      <td>1</td>\n",
       "      <td>0</td>\n",
       "      <td>0</td>\n",
       "      <td>0</td>\n",
       "      <td>0</td>\n",
       "      <td>0</td>\n",
       "    </tr>\n",
       "  </tbody>\n",
       "</table>\n",
       "<p>11924 rows × 10 columns</p>\n",
       "</div>"
      ],
      "text/plain": [
       "Clave platillo  BAS1  BAS50  BCA8  CLA1  HAM1  HAM12  HAM7  MBCA63  MCLÁ25  \\\n",
       "idEncuesta                                                                   \n",
       "115788             0      0     0     0     0      0     0       0       0   \n",
       "115789             0      0     0     0     1      0     0       0       0   \n",
       "117530             0      0     1     0     0      0     0       0       0   \n",
       "117533             0      0     0     0     0      0     0       0       0   \n",
       "117536             0      1     0     0     0      0     0       1       0   \n",
       "...              ...    ...   ...   ...   ...    ...   ...     ...     ...   \n",
       "615342             0      0     1     0     1      0     0       0       0   \n",
       "615470             0      0     0     0     1      0     0       0       0   \n",
       "615569             0      0     1     0     0      1     0       0       0   \n",
       "615571             1      0     0     0     0      0     0       0       1   \n",
       "615573             0      0     0     0     1      0     0       0       0   \n",
       "\n",
       "Clave platillo  MHAM30  \n",
       "idEncuesta              \n",
       "115788               1  \n",
       "115789               0  \n",
       "117530               0  \n",
       "117533               1  \n",
       "117536               0  \n",
       "...                ...  \n",
       "615342               0  \n",
       "615470               0  \n",
       "615569               0  \n",
       "615571               0  \n",
       "615573               0  \n",
       "\n",
       "[11924 rows x 10 columns]"
      ]
     },
     "execution_count": 6,
     "metadata": {},
     "output_type": "execute_result"
    }
   ],
   "source": [
    "def encode_units(x):\n",
    "    if x <= 0:\n",
    "        return 0\n",
    "    if x >= 1:\n",
    "        return 1\n",
    "\n",
    "data2 = data2.applymap(encode_units)\n",
    "data2 = data2.loc[:, data2.columns.intersection(top_10)]\n",
    "data2 = data2[(data2.T != 0).any()]\n",
    "data2"
   ]
  },
  {
   "cell_type": "code",
   "execution_count": 7,
   "metadata": {
    "scrolled": true
   },
   "outputs": [
    {
     "data": {
      "text/html": [
       "<div>\n",
       "<style scoped>\n",
       "    .dataframe tbody tr th:only-of-type {\n",
       "        vertical-align: middle;\n",
       "    }\n",
       "\n",
       "    .dataframe tbody tr th {\n",
       "        vertical-align: top;\n",
       "    }\n",
       "\n",
       "    .dataframe thead th {\n",
       "        text-align: right;\n",
       "    }\n",
       "</style>\n",
       "<table border=\"1\" class=\"dataframe\">\n",
       "  <thead>\n",
       "    <tr style=\"text-align: right;\">\n",
       "      <th>Clave platillo</th>\n",
       "      <th>BAS1</th>\n",
       "      <th>BAS50</th>\n",
       "      <th>BCA8</th>\n",
       "      <th>CLA1</th>\n",
       "      <th>HAM1</th>\n",
       "      <th>HAM12</th>\n",
       "      <th>HAM7</th>\n",
       "      <th>MBCA63</th>\n",
       "      <th>MCLÁ25</th>\n",
       "      <th>MHAM30</th>\n",
       "    </tr>\n",
       "  </thead>\n",
       "  <tbody>\n",
       "    <tr>\n",
       "      <th>0</th>\n",
       "      <td>1.0</td>\n",
       "      <td>151.0</td>\n",
       "      <td>142.0</td>\n",
       "      <td>192.0</td>\n",
       "      <td>178.0</td>\n",
       "      <td>316.0</td>\n",
       "      <td>177.0</td>\n",
       "      <td>123.0</td>\n",
       "      <td>136.0</td>\n",
       "      <td>783.0</td>\n",
       "    </tr>\n",
       "    <tr>\n",
       "      <th>0</th>\n",
       "      <td>316.0</td>\n",
       "      <td>204.0</td>\n",
       "      <td>168.0</td>\n",
       "      <td>97.0</td>\n",
       "      <td>112.0</td>\n",
       "      <td>1.0</td>\n",
       "      <td>80.0</td>\n",
       "      <td>190.0</td>\n",
       "      <td>72.0</td>\n",
       "      <td>710.0</td>\n",
       "    </tr>\n",
       "    <tr>\n",
       "      <th>0</th>\n",
       "      <td>123.0</td>\n",
       "      <td>97.0</td>\n",
       "      <td>124.0</td>\n",
       "      <td>132.0</td>\n",
       "      <td>130.0</td>\n",
       "      <td>190.0</td>\n",
       "      <td>94.0</td>\n",
       "      <td>1.0</td>\n",
       "      <td>81.0</td>\n",
       "      <td>531.0</td>\n",
       "    </tr>\n",
       "    <tr>\n",
       "      <th>0</th>\n",
       "      <td>142.0</td>\n",
       "      <td>84.0</td>\n",
       "      <td>1.0</td>\n",
       "      <td>133.0</td>\n",
       "      <td>128.0</td>\n",
       "      <td>168.0</td>\n",
       "      <td>90.0</td>\n",
       "      <td>124.0</td>\n",
       "      <td>73.0</td>\n",
       "      <td>473.0</td>\n",
       "    </tr>\n",
       "    <tr>\n",
       "      <th>0</th>\n",
       "      <td>151.0</td>\n",
       "      <td>1.0</td>\n",
       "      <td>84.0</td>\n",
       "      <td>98.0</td>\n",
       "      <td>124.0</td>\n",
       "      <td>204.0</td>\n",
       "      <td>103.0</td>\n",
       "      <td>97.0</td>\n",
       "      <td>63.0</td>\n",
       "      <td>443.0</td>\n",
       "    </tr>\n",
       "    <tr>\n",
       "      <th>0</th>\n",
       "      <td>178.0</td>\n",
       "      <td>124.0</td>\n",
       "      <td>128.0</td>\n",
       "      <td>73.0</td>\n",
       "      <td>1.0</td>\n",
       "      <td>112.0</td>\n",
       "      <td>53.0</td>\n",
       "      <td>130.0</td>\n",
       "      <td>39.0</td>\n",
       "      <td>486.0</td>\n",
       "    </tr>\n",
       "    <tr>\n",
       "      <th>0</th>\n",
       "      <td>192.0</td>\n",
       "      <td>98.0</td>\n",
       "      <td>133.0</td>\n",
       "      <td>1.0</td>\n",
       "      <td>73.0</td>\n",
       "      <td>97.0</td>\n",
       "      <td>63.0</td>\n",
       "      <td>132.0</td>\n",
       "      <td>197.0</td>\n",
       "      <td>287.0</td>\n",
       "    </tr>\n",
       "    <tr>\n",
       "      <th>0</th>\n",
       "      <td>177.0</td>\n",
       "      <td>103.0</td>\n",
       "      <td>90.0</td>\n",
       "      <td>63.0</td>\n",
       "      <td>53.0</td>\n",
       "      <td>80.0</td>\n",
       "      <td>1.0</td>\n",
       "      <td>94.0</td>\n",
       "      <td>40.0</td>\n",
       "      <td>396.0</td>\n",
       "    </tr>\n",
       "    <tr>\n",
       "      <th>0</th>\n",
       "      <td>136.0</td>\n",
       "      <td>63.0</td>\n",
       "      <td>73.0</td>\n",
       "      <td>197.0</td>\n",
       "      <td>39.0</td>\n",
       "      <td>72.0</td>\n",
       "      <td>40.0</td>\n",
       "      <td>81.0</td>\n",
       "      <td>1.0</td>\n",
       "      <td>168.0</td>\n",
       "    </tr>\n",
       "  </tbody>\n",
       "</table>\n",
       "</div>"
      ],
      "text/plain": [
       "Clave platillo   BAS1  BAS50   BCA8   CLA1   HAM1  HAM12   HAM7  MBCA63  \\\n",
       "0                 1.0  151.0  142.0  192.0  178.0  316.0  177.0   123.0   \n",
       "0               316.0  204.0  168.0   97.0  112.0    1.0   80.0   190.0   \n",
       "0               123.0   97.0  124.0  132.0  130.0  190.0   94.0     1.0   \n",
       "0               142.0   84.0    1.0  133.0  128.0  168.0   90.0   124.0   \n",
       "0               151.0    1.0   84.0   98.0  124.0  204.0  103.0    97.0   \n",
       "0               178.0  124.0  128.0   73.0    1.0  112.0   53.0   130.0   \n",
       "0               192.0   98.0  133.0    1.0   73.0   97.0   63.0   132.0   \n",
       "0               177.0  103.0   90.0   63.0   53.0   80.0    1.0    94.0   \n",
       "0               136.0   63.0   73.0  197.0   39.0   72.0   40.0    81.0   \n",
       "\n",
       "Clave platillo  MCLÁ25  MHAM30  \n",
       "0                136.0   783.0  \n",
       "0                 72.0   710.0  \n",
       "0                 81.0   531.0  \n",
       "0                 73.0   473.0  \n",
       "0                 63.0   443.0  \n",
       "0                 39.0   486.0  \n",
       "0                197.0   287.0  \n",
       "0                 40.0   396.0  \n",
       "0                  1.0   168.0  "
      ]
     },
     "execution_count": 7,
     "metadata": {},
     "output_type": "execute_result"
    }
   ],
   "source": [
    "datatemp1 = data2[data2[top_10] == 1].groupby(top_10[1]).sum().reset_index().reindex(sorted(data2.columns), axis=1)\n",
    "for i in range(8):\n",
    "    datatemp2 = data2[data2[top_10] == 1].groupby(top_10[i+2]).sum().reset_index().reindex(sorted(data2.columns), axis=1)\n",
    "    datatemp1 = datatemp1.append(datatemp2)\n",
    "datatemp1"
   ]
  },
  {
   "cell_type": "code",
   "execution_count": 8,
   "metadata": {
    "scrolled": true
   },
   "outputs": [
    {
     "data": {
      "text/html": [
       "<div>\n",
       "<style scoped>\n",
       "    .dataframe tbody tr th:only-of-type {\n",
       "        vertical-align: middle;\n",
       "    }\n",
       "\n",
       "    .dataframe tbody tr th {\n",
       "        vertical-align: top;\n",
       "    }\n",
       "\n",
       "    .dataframe thead th {\n",
       "        text-align: right;\n",
       "    }\n",
       "</style>\n",
       "<table border=\"1\" class=\"dataframe\">\n",
       "  <thead>\n",
       "    <tr style=\"text-align: right;\">\n",
       "      <th>Clave platillo</th>\n",
       "      <th>index</th>\n",
       "      <th>BAS1</th>\n",
       "      <th>BAS50</th>\n",
       "      <th>BCA8</th>\n",
       "      <th>CLA1</th>\n",
       "      <th>HAM1</th>\n",
       "      <th>HAM12</th>\n",
       "      <th>HAM7</th>\n",
       "      <th>MBCA63</th>\n",
       "      <th>MCLÁ25</th>\n",
       "      <th>MHAM30</th>\n",
       "    </tr>\n",
       "  </thead>\n",
       "  <tbody>\n",
       "    <tr>\n",
       "      <th>0</th>\n",
       "      <td>0</td>\n",
       "      <td>1.0</td>\n",
       "      <td>151.0</td>\n",
       "      <td>142.0</td>\n",
       "      <td>192.0</td>\n",
       "      <td>178.0</td>\n",
       "      <td>316.0</td>\n",
       "      <td>177.0</td>\n",
       "      <td>123.0</td>\n",
       "      <td>136.0</td>\n",
       "      <td>783.0</td>\n",
       "    </tr>\n",
       "    <tr>\n",
       "      <th>1</th>\n",
       "      <td>0</td>\n",
       "      <td>316.0</td>\n",
       "      <td>204.0</td>\n",
       "      <td>168.0</td>\n",
       "      <td>97.0</td>\n",
       "      <td>112.0</td>\n",
       "      <td>1.0</td>\n",
       "      <td>80.0</td>\n",
       "      <td>190.0</td>\n",
       "      <td>72.0</td>\n",
       "      <td>710.0</td>\n",
       "    </tr>\n",
       "    <tr>\n",
       "      <th>2</th>\n",
       "      <td>0</td>\n",
       "      <td>123.0</td>\n",
       "      <td>97.0</td>\n",
       "      <td>124.0</td>\n",
       "      <td>132.0</td>\n",
       "      <td>130.0</td>\n",
       "      <td>190.0</td>\n",
       "      <td>94.0</td>\n",
       "      <td>1.0</td>\n",
       "      <td>81.0</td>\n",
       "      <td>531.0</td>\n",
       "    </tr>\n",
       "    <tr>\n",
       "      <th>3</th>\n",
       "      <td>0</td>\n",
       "      <td>142.0</td>\n",
       "      <td>84.0</td>\n",
       "      <td>1.0</td>\n",
       "      <td>133.0</td>\n",
       "      <td>128.0</td>\n",
       "      <td>168.0</td>\n",
       "      <td>90.0</td>\n",
       "      <td>124.0</td>\n",
       "      <td>73.0</td>\n",
       "      <td>473.0</td>\n",
       "    </tr>\n",
       "    <tr>\n",
       "      <th>4</th>\n",
       "      <td>0</td>\n",
       "      <td>151.0</td>\n",
       "      <td>1.0</td>\n",
       "      <td>84.0</td>\n",
       "      <td>98.0</td>\n",
       "      <td>124.0</td>\n",
       "      <td>204.0</td>\n",
       "      <td>103.0</td>\n",
       "      <td>97.0</td>\n",
       "      <td>63.0</td>\n",
       "      <td>443.0</td>\n",
       "    </tr>\n",
       "    <tr>\n",
       "      <th>5</th>\n",
       "      <td>0</td>\n",
       "      <td>178.0</td>\n",
       "      <td>124.0</td>\n",
       "      <td>128.0</td>\n",
       "      <td>73.0</td>\n",
       "      <td>1.0</td>\n",
       "      <td>112.0</td>\n",
       "      <td>53.0</td>\n",
       "      <td>130.0</td>\n",
       "      <td>39.0</td>\n",
       "      <td>486.0</td>\n",
       "    </tr>\n",
       "    <tr>\n",
       "      <th>6</th>\n",
       "      <td>0</td>\n",
       "      <td>192.0</td>\n",
       "      <td>98.0</td>\n",
       "      <td>133.0</td>\n",
       "      <td>1.0</td>\n",
       "      <td>73.0</td>\n",
       "      <td>97.0</td>\n",
       "      <td>63.0</td>\n",
       "      <td>132.0</td>\n",
       "      <td>197.0</td>\n",
       "      <td>287.0</td>\n",
       "    </tr>\n",
       "    <tr>\n",
       "      <th>7</th>\n",
       "      <td>0</td>\n",
       "      <td>177.0</td>\n",
       "      <td>103.0</td>\n",
       "      <td>90.0</td>\n",
       "      <td>63.0</td>\n",
       "      <td>53.0</td>\n",
       "      <td>80.0</td>\n",
       "      <td>1.0</td>\n",
       "      <td>94.0</td>\n",
       "      <td>40.0</td>\n",
       "      <td>396.0</td>\n",
       "    </tr>\n",
       "    <tr>\n",
       "      <th>8</th>\n",
       "      <td>0</td>\n",
       "      <td>136.0</td>\n",
       "      <td>63.0</td>\n",
       "      <td>73.0</td>\n",
       "      <td>197.0</td>\n",
       "      <td>39.0</td>\n",
       "      <td>72.0</td>\n",
       "      <td>40.0</td>\n",
       "      <td>81.0</td>\n",
       "      <td>1.0</td>\n",
       "      <td>168.0</td>\n",
       "    </tr>\n",
       "  </tbody>\n",
       "</table>\n",
       "</div>"
      ],
      "text/plain": [
       "Clave platillo  index   BAS1  BAS50   BCA8   CLA1   HAM1  HAM12   HAM7  \\\n",
       "0                   0    1.0  151.0  142.0  192.0  178.0  316.0  177.0   \n",
       "1                   0  316.0  204.0  168.0   97.0  112.0    1.0   80.0   \n",
       "2                   0  123.0   97.0  124.0  132.0  130.0  190.0   94.0   \n",
       "3                   0  142.0   84.0    1.0  133.0  128.0  168.0   90.0   \n",
       "4                   0  151.0    1.0   84.0   98.0  124.0  204.0  103.0   \n",
       "5                   0  178.0  124.0  128.0   73.0    1.0  112.0   53.0   \n",
       "6                   0  192.0   98.0  133.0    1.0   73.0   97.0   63.0   \n",
       "7                   0  177.0  103.0   90.0   63.0   53.0   80.0    1.0   \n",
       "8                   0  136.0   63.0   73.0  197.0   39.0   72.0   40.0   \n",
       "\n",
       "Clave platillo  MBCA63  MCLÁ25  MHAM30  \n",
       "0                123.0   136.0   783.0  \n",
       "1                190.0    72.0   710.0  \n",
       "2                  1.0    81.0   531.0  \n",
       "3                124.0    73.0   473.0  \n",
       "4                 97.0    63.0   443.0  \n",
       "5                130.0    39.0   486.0  \n",
       "6                132.0   197.0   287.0  \n",
       "7                 94.0    40.0   396.0  \n",
       "8                 81.0     1.0   168.0  "
      ]
     },
     "execution_count": 8,
     "metadata": {},
     "output_type": "execute_result"
    }
   ],
   "source": [
    "datatemp1 = datatemp1.reset_index()\n",
    "datatemp1"
   ]
  },
  {
   "cell_type": "code",
   "execution_count": 9,
   "metadata": {
    "scrolled": true
   },
   "outputs": [
    {
     "data": {
      "text/html": [
       "<style  type=\"text/css\" >\n",
       "    #T_0d4d281a_fb81_11e9_b910_c85b763db6b8row0_col0 {\n",
       "            background-color:  #f7fbff;\n",
       "            color:  #000000;\n",
       "        }    #T_0d4d281a_fb81_11e9_b910_c85b763db6b8row0_col1 {\n",
       "            background-color:  #08306b;\n",
       "            color:  #f1f1f1;\n",
       "        }    #T_0d4d281a_fb81_11e9_b910_c85b763db6b8row0_col2 {\n",
       "            background-color:  #3c8cc3;\n",
       "            color:  #000000;\n",
       "        }    #T_0d4d281a_fb81_11e9_b910_c85b763db6b8row0_col3 {\n",
       "            background-color:  #0e58a2;\n",
       "            color:  #f1f1f1;\n",
       "        }    #T_0d4d281a_fb81_11e9_b910_c85b763db6b8row0_col4 {\n",
       "            background-color:  #2373b6;\n",
       "            color:  #f1f1f1;\n",
       "        }    #T_0d4d281a_fb81_11e9_b910_c85b763db6b8row0_col5 {\n",
       "            background-color:  #08306b;\n",
       "            color:  #f1f1f1;\n",
       "        }    #T_0d4d281a_fb81_11e9_b910_c85b763db6b8row0_col6 {\n",
       "            background-color:  #083674;\n",
       "            color:  #f1f1f1;\n",
       "        }    #T_0d4d281a_fb81_11e9_b910_c85b763db6b8row0_col7 {\n",
       "            background-color:  #08306b;\n",
       "            color:  #f1f1f1;\n",
       "        }    #T_0d4d281a_fb81_11e9_b910_c85b763db6b8row0_col8 {\n",
       "            background-color:  #3181bd;\n",
       "            color:  #000000;\n",
       "        }    #T_0d4d281a_fb81_11e9_b910_c85b763db6b8row1_col0 {\n",
       "            background-color:  #08306b;\n",
       "            color:  #f1f1f1;\n",
       "        }    #T_0d4d281a_fb81_11e9_b910_c85b763db6b8row1_col1 {\n",
       "            background-color:  #f7fbff;\n",
       "            color:  #000000;\n",
       "        }    #T_0d4d281a_fb81_11e9_b910_c85b763db6b8row1_col2 {\n",
       "            background-color:  #08306b;\n",
       "            color:  #f1f1f1;\n",
       "        }    #T_0d4d281a_fb81_11e9_b910_c85b763db6b8row1_col3 {\n",
       "            background-color:  #08306b;\n",
       "            color:  #f1f1f1;\n",
       "        }    #T_0d4d281a_fb81_11e9_b910_c85b763db6b8row1_col4 {\n",
       "            background-color:  #08306b;\n",
       "            color:  #f1f1f1;\n",
       "        }    #T_0d4d281a_fb81_11e9_b910_c85b763db6b8row1_col5 {\n",
       "            background-color:  #4191c6;\n",
       "            color:  #000000;\n",
       "        }    #T_0d4d281a_fb81_11e9_b910_c85b763db6b8row1_col6 {\n",
       "            background-color:  #6fb0d7;\n",
       "            color:  #000000;\n",
       "        }    #T_0d4d281a_fb81_11e9_b910_c85b763db6b8row1_col7 {\n",
       "            background-color:  #81badb;\n",
       "            color:  #000000;\n",
       "        }    #T_0d4d281a_fb81_11e9_b910_c85b763db6b8row1_col8 {\n",
       "            background-color:  #a3cce3;\n",
       "            color:  #000000;\n",
       "        }    #T_0d4d281a_fb81_11e9_b910_c85b763db6b8row2_col0 {\n",
       "            background-color:  #99c7e0;\n",
       "            color:  #000000;\n",
       "        }    #T_0d4d281a_fb81_11e9_b910_c85b763db6b8row2_col1 {\n",
       "            background-color:  #4a98c9;\n",
       "            color:  #000000;\n",
       "        }    #T_0d4d281a_fb81_11e9_b910_c85b763db6b8row2_col2 {\n",
       "            background-color:  #f7fbff;\n",
       "            color:  #000000;\n",
       "        }    #T_0d4d281a_fb81_11e9_b910_c85b763db6b8row2_col3 {\n",
       "            background-color:  #2474b7;\n",
       "            color:  #f1f1f1;\n",
       "        }    #T_0d4d281a_fb81_11e9_b910_c85b763db6b8row2_col4 {\n",
       "            background-color:  #75b4d8;\n",
       "            color:  #000000;\n",
       "        }    #T_0d4d281a_fb81_11e9_b910_c85b763db6b8row2_col5 {\n",
       "            background-color:  #2676b8;\n",
       "            color:  #000000;\n",
       "        }    #T_0d4d281a_fb81_11e9_b910_c85b763db6b8row2_col6 {\n",
       "            background-color:  #3686c0;\n",
       "            color:  #000000;\n",
       "        }    #T_0d4d281a_fb81_11e9_b910_c85b763db6b8row2_col7 {\n",
       "            background-color:  #61a7d2;\n",
       "            color:  #000000;\n",
       "        }    #T_0d4d281a_fb81_11e9_b910_c85b763db6b8row2_col8 {\n",
       "            background-color:  #91c3de;\n",
       "            color:  #000000;\n",
       "        }    #T_0d4d281a_fb81_11e9_b910_c85b763db6b8row3_col0 {\n",
       "            background-color:  #81badb;\n",
       "            color:  #000000;\n",
       "        }    #T_0d4d281a_fb81_11e9_b910_c85b763db6b8row3_col1 {\n",
       "            background-color:  #61a7d2;\n",
       "            color:  #000000;\n",
       "        }    #T_0d4d281a_fb81_11e9_b910_c85b763db6b8row3_col2 {\n",
       "            background-color:  #3b8bc2;\n",
       "            color:  #000000;\n",
       "        }    #T_0d4d281a_fb81_11e9_b910_c85b763db6b8row3_col3 {\n",
       "            background-color:  #f7fbff;\n",
       "            color:  #000000;\n",
       "        }    #T_0d4d281a_fb81_11e9_b910_c85b763db6b8row3_col4 {\n",
       "            background-color:  #91c3de;\n",
       "            color:  #000000;\n",
       "        }    #T_0d4d281a_fb81_11e9_b910_c85b763db6b8row3_col5 {\n",
       "            background-color:  #2a7ab9;\n",
       "            color:  #000000;\n",
       "        }    #T_0d4d281a_fb81_11e9_b910_c85b763db6b8row3_col6 {\n",
       "            background-color:  #3585bf;\n",
       "            color:  #000000;\n",
       "        }    #T_0d4d281a_fb81_11e9_b910_c85b763db6b8row3_col7 {\n",
       "            background-color:  #69add5;\n",
       "            color:  #000000;\n",
       "        }    #T_0d4d281a_fb81_11e9_b910_c85b763db6b8row3_col8 {\n",
       "            background-color:  #a0cbe2;\n",
       "            color:  #000000;\n",
       "        }    #T_0d4d281a_fb81_11e9_b910_c85b763db6b8row4_col0 {\n",
       "            background-color:  #75b4d8;\n",
       "            color:  #000000;\n",
       "        }    #T_0d4d281a_fb81_11e9_b910_c85b763db6b8row4_col1 {\n",
       "            background-color:  #3d8dc4;\n",
       "            color:  #000000;\n",
       "        }    #T_0d4d281a_fb81_11e9_b910_c85b763db6b8row4_col2 {\n",
       "            background-color:  #68acd5;\n",
       "            color:  #000000;\n",
       "        }    #T_0d4d281a_fb81_11e9_b910_c85b763db6b8row4_col3 {\n",
       "            background-color:  #6caed6;\n",
       "            color:  #000000;\n",
       "        }    #T_0d4d281a_fb81_11e9_b910_c85b763db6b8row4_col4 {\n",
       "            background-color:  #f7fbff;\n",
       "            color:  #000000;\n",
       "        }    #T_0d4d281a_fb81_11e9_b910_c85b763db6b8row4_col5 {\n",
       "            background-color:  #3080bd;\n",
       "            color:  #000000;\n",
       "        }    #T_0d4d281a_fb81_11e9_b910_c85b763db6b8row4_col6 {\n",
       "            background-color:  #6dafd7;\n",
       "            color:  #000000;\n",
       "        }    #T_0d4d281a_fb81_11e9_b910_c85b763db6b8row4_col7 {\n",
       "            background-color:  #519ccc;\n",
       "            color:  #000000;\n",
       "        }    #T_0d4d281a_fb81_11e9_b910_c85b763db6b8row4_col8 {\n",
       "            background-color:  #b2d2e8;\n",
       "            color:  #000000;\n",
       "        }    #T_0d4d281a_fb81_11e9_b910_c85b763db6b8row5_col0 {\n",
       "            background-color:  #57a0ce;\n",
       "            color:  #000000;\n",
       "        }    #T_0d4d281a_fb81_11e9_b910_c85b763db6b8row5_col1 {\n",
       "            background-color:  #a5cde3;\n",
       "            color:  #000000;\n",
       "        }    #T_0d4d281a_fb81_11e9_b910_c85b763db6b8row5_col2 {\n",
       "            background-color:  #3383be;\n",
       "            color:  #000000;\n",
       "        }    #T_0d4d281a_fb81_11e9_b910_c85b763db6b8row5_col3 {\n",
       "            background-color:  #1f6eb3;\n",
       "            color:  #f1f1f1;\n",
       "        }    #T_0d4d281a_fb81_11e9_b910_c85b763db6b8row5_col4 {\n",
       "            background-color:  #4896c8;\n",
       "            color:  #000000;\n",
       "        }    #T_0d4d281a_fb81_11e9_b910_c85b763db6b8row5_col5 {\n",
       "            background-color:  #f7fbff;\n",
       "            color:  #000000;\n",
       "        }    #T_0d4d281a_fb81_11e9_b910_c85b763db6b8row5_col6 {\n",
       "            background-color:  #a0cbe2;\n",
       "            color:  #000000;\n",
       "        }    #T_0d4d281a_fb81_11e9_b910_c85b763db6b8row5_col7 {\n",
       "            background-color:  #b8d5ea;\n",
       "            color:  #000000;\n",
       "        }    #T_0d4d281a_fb81_11e9_b910_c85b763db6b8row5_col8 {\n",
       "            background-color:  #d1e2f3;\n",
       "            color:  #000000;\n",
       "        }    #T_0d4d281a_fb81_11e9_b910_c85b763db6b8row6_col0 {\n",
       "            background-color:  #4896c8;\n",
       "            color:  #000000;\n",
       "        }    #T_0d4d281a_fb81_11e9_b910_c85b763db6b8row6_col1 {\n",
       "            background-color:  #b4d3e9;\n",
       "            color:  #000000;\n",
       "        }    #T_0d4d281a_fb81_11e9_b910_c85b763db6b8row6_col2 {\n",
       "            background-color:  #3080bd;\n",
       "            color:  #000000;\n",
       "        }    #T_0d4d281a_fb81_11e9_b910_c85b763db6b8row6_col3 {\n",
       "            background-color:  #1966ad;\n",
       "            color:  #f1f1f1;\n",
       "        }    #T_0d4d281a_fb81_11e9_b910_c85b763db6b8row6_col4 {\n",
       "            background-color:  #74b3d8;\n",
       "            color:  #000000;\n",
       "        }    #T_0d4d281a_fb81_11e9_b910_c85b763db6b8row6_col5 {\n",
       "            background-color:  #91c3de;\n",
       "            color:  #000000;\n",
       "        }    #T_0d4d281a_fb81_11e9_b910_c85b763db6b8row6_col6 {\n",
       "            background-color:  #f7fbff;\n",
       "            color:  #000000;\n",
       "        }    #T_0d4d281a_fb81_11e9_b910_c85b763db6b8row6_col7 {\n",
       "            background-color:  #a5cde3;\n",
       "            color:  #000000;\n",
       "        }    #T_0d4d281a_fb81_11e9_b910_c85b763db6b8row6_col8 {\n",
       "            background-color:  #08306b;\n",
       "            color:  #f1f1f1;\n",
       "        }    #T_0d4d281a_fb81_11e9_b910_c85b763db6b8row7_col0 {\n",
       "            background-color:  #57a0ce;\n",
       "            color:  #000000;\n",
       "        }    #T_0d4d281a_fb81_11e9_b910_c85b763db6b8row7_col1 {\n",
       "            background-color:  #c6dbef;\n",
       "            color:  #000000;\n",
       "        }    #T_0d4d281a_fb81_11e9_b910_c85b763db6b8row7_col2 {\n",
       "            background-color:  #6fb0d7;\n",
       "            color:  #000000;\n",
       "        }    #T_0d4d281a_fb81_11e9_b910_c85b763db6b8row7_col3 {\n",
       "            background-color:  #60a7d2;\n",
       "            color:  #000000;\n",
       "        }    #T_0d4d281a_fb81_11e9_b910_c85b763db6b8row7_col4 {\n",
       "            background-color:  #6aaed6;\n",
       "            color:  #000000;\n",
       "        }    #T_0d4d281a_fb81_11e9_b910_c85b763db6b8row7_col5 {\n",
       "            background-color:  #b8d5ea;\n",
       "            color:  #000000;\n",
       "        }    #T_0d4d281a_fb81_11e9_b910_c85b763db6b8row7_col6 {\n",
       "            background-color:  #b2d2e8;\n",
       "            color:  #000000;\n",
       "        }    #T_0d4d281a_fb81_11e9_b910_c85b763db6b8row7_col7 {\n",
       "            background-color:  #f7fbff;\n",
       "            color:  #000000;\n",
       "        }    #T_0d4d281a_fb81_11e9_b910_c85b763db6b8row7_col8 {\n",
       "            background-color:  #d0e2f2;\n",
       "            color:  #000000;\n",
       "        }    #T_0d4d281a_fb81_11e9_b910_c85b763db6b8row8_col0 {\n",
       "            background-color:  #89bedc;\n",
       "            color:  #000000;\n",
       "        }    #T_0d4d281a_fb81_11e9_b910_c85b763db6b8row8_col1 {\n",
       "            background-color:  #cbdef1;\n",
       "            color:  #000000;\n",
       "        }    #T_0d4d281a_fb81_11e9_b910_c85b763db6b8row8_col2 {\n",
       "            background-color:  #8abfdd;\n",
       "            color:  #000000;\n",
       "        }    #T_0d4d281a_fb81_11e9_b910_c85b763db6b8row8_col3 {\n",
       "            background-color:  #87bddc;\n",
       "            color:  #000000;\n",
       "        }    #T_0d4d281a_fb81_11e9_b910_c85b763db6b8row8_col4 {\n",
       "            background-color:  #b4d3e9;\n",
       "            color:  #000000;\n",
       "        }    #T_0d4d281a_fb81_11e9_b910_c85b763db6b8row8_col5 {\n",
       "            background-color:  #cde0f1;\n",
       "            color:  #000000;\n",
       "        }    #T_0d4d281a_fb81_11e9_b910_c85b763db6b8row8_col6 {\n",
       "            background-color:  #08306b;\n",
       "            color:  #f1f1f1;\n",
       "        }    #T_0d4d281a_fb81_11e9_b910_c85b763db6b8row8_col7 {\n",
       "            background-color:  #ccdff1;\n",
       "            color:  #000000;\n",
       "        }    #T_0d4d281a_fb81_11e9_b910_c85b763db6b8row8_col8 {\n",
       "            background-color:  #f7fbff;\n",
       "            color:  #000000;\n",
       "        }</style><table id=\"T_0d4d281a_fb81_11e9_b910_c85b763db6b8\" ><thead>    <tr>        <th class=\"index_name level0\" >Clave platillo</th>        <th class=\"col_heading level0 col0\" >BAS1</th>        <th class=\"col_heading level0 col1\" >HAM12</th>        <th class=\"col_heading level0 col2\" >MBCA63</th>        <th class=\"col_heading level0 col3\" >BCA8</th>        <th class=\"col_heading level0 col4\" >BAS50</th>        <th class=\"col_heading level0 col5\" >HAM1</th>        <th class=\"col_heading level0 col6\" >CLA1</th>        <th class=\"col_heading level0 col7\" >HAM7</th>        <th class=\"col_heading level0 col8\" >MCLÁ25</th>    </tr></thead><tbody>\n",
       "                <tr>\n",
       "                        <th id=\"T_0d4d281a_fb81_11e9_b910_c85b763db6b8level0_row0\" class=\"row_heading level0 row0\" >0</th>\n",
       "                        <td id=\"T_0d4d281a_fb81_11e9_b910_c85b763db6b8row0_col0\" class=\"data row0 col0\" >1</td>\n",
       "                        <td id=\"T_0d4d281a_fb81_11e9_b910_c85b763db6b8row0_col1\" class=\"data row0 col1\" >316</td>\n",
       "                        <td id=\"T_0d4d281a_fb81_11e9_b910_c85b763db6b8row0_col2\" class=\"data row0 col2\" >123</td>\n",
       "                        <td id=\"T_0d4d281a_fb81_11e9_b910_c85b763db6b8row0_col3\" class=\"data row0 col3\" >142</td>\n",
       "                        <td id=\"T_0d4d281a_fb81_11e9_b910_c85b763db6b8row0_col4\" class=\"data row0 col4\" >151</td>\n",
       "                        <td id=\"T_0d4d281a_fb81_11e9_b910_c85b763db6b8row0_col5\" class=\"data row0 col5\" >178</td>\n",
       "                        <td id=\"T_0d4d281a_fb81_11e9_b910_c85b763db6b8row0_col6\" class=\"data row0 col6\" >192</td>\n",
       "                        <td id=\"T_0d4d281a_fb81_11e9_b910_c85b763db6b8row0_col7\" class=\"data row0 col7\" >177</td>\n",
       "                        <td id=\"T_0d4d281a_fb81_11e9_b910_c85b763db6b8row0_col8\" class=\"data row0 col8\" >136</td>\n",
       "            </tr>\n",
       "            <tr>\n",
       "                        <th id=\"T_0d4d281a_fb81_11e9_b910_c85b763db6b8level0_row1\" class=\"row_heading level0 row1\" >1</th>\n",
       "                        <td id=\"T_0d4d281a_fb81_11e9_b910_c85b763db6b8row1_col0\" class=\"data row1 col0\" >316</td>\n",
       "                        <td id=\"T_0d4d281a_fb81_11e9_b910_c85b763db6b8row1_col1\" class=\"data row1 col1\" >1</td>\n",
       "                        <td id=\"T_0d4d281a_fb81_11e9_b910_c85b763db6b8row1_col2\" class=\"data row1 col2\" >190</td>\n",
       "                        <td id=\"T_0d4d281a_fb81_11e9_b910_c85b763db6b8row1_col3\" class=\"data row1 col3\" >168</td>\n",
       "                        <td id=\"T_0d4d281a_fb81_11e9_b910_c85b763db6b8row1_col4\" class=\"data row1 col4\" >204</td>\n",
       "                        <td id=\"T_0d4d281a_fb81_11e9_b910_c85b763db6b8row1_col5\" class=\"data row1 col5\" >112</td>\n",
       "                        <td id=\"T_0d4d281a_fb81_11e9_b910_c85b763db6b8row1_col6\" class=\"data row1 col6\" >97</td>\n",
       "                        <td id=\"T_0d4d281a_fb81_11e9_b910_c85b763db6b8row1_col7\" class=\"data row1 col7\" >80</td>\n",
       "                        <td id=\"T_0d4d281a_fb81_11e9_b910_c85b763db6b8row1_col8\" class=\"data row1 col8\" >72</td>\n",
       "            </tr>\n",
       "            <tr>\n",
       "                        <th id=\"T_0d4d281a_fb81_11e9_b910_c85b763db6b8level0_row2\" class=\"row_heading level0 row2\" >2</th>\n",
       "                        <td id=\"T_0d4d281a_fb81_11e9_b910_c85b763db6b8row2_col0\" class=\"data row2 col0\" >123</td>\n",
       "                        <td id=\"T_0d4d281a_fb81_11e9_b910_c85b763db6b8row2_col1\" class=\"data row2 col1\" >190</td>\n",
       "                        <td id=\"T_0d4d281a_fb81_11e9_b910_c85b763db6b8row2_col2\" class=\"data row2 col2\" >1</td>\n",
       "                        <td id=\"T_0d4d281a_fb81_11e9_b910_c85b763db6b8row2_col3\" class=\"data row2 col3\" >124</td>\n",
       "                        <td id=\"T_0d4d281a_fb81_11e9_b910_c85b763db6b8row2_col4\" class=\"data row2 col4\" >97</td>\n",
       "                        <td id=\"T_0d4d281a_fb81_11e9_b910_c85b763db6b8row2_col5\" class=\"data row2 col5\" >130</td>\n",
       "                        <td id=\"T_0d4d281a_fb81_11e9_b910_c85b763db6b8row2_col6\" class=\"data row2 col6\" >132</td>\n",
       "                        <td id=\"T_0d4d281a_fb81_11e9_b910_c85b763db6b8row2_col7\" class=\"data row2 col7\" >94</td>\n",
       "                        <td id=\"T_0d4d281a_fb81_11e9_b910_c85b763db6b8row2_col8\" class=\"data row2 col8\" >81</td>\n",
       "            </tr>\n",
       "            <tr>\n",
       "                        <th id=\"T_0d4d281a_fb81_11e9_b910_c85b763db6b8level0_row3\" class=\"row_heading level0 row3\" >3</th>\n",
       "                        <td id=\"T_0d4d281a_fb81_11e9_b910_c85b763db6b8row3_col0\" class=\"data row3 col0\" >142</td>\n",
       "                        <td id=\"T_0d4d281a_fb81_11e9_b910_c85b763db6b8row3_col1\" class=\"data row3 col1\" >168</td>\n",
       "                        <td id=\"T_0d4d281a_fb81_11e9_b910_c85b763db6b8row3_col2\" class=\"data row3 col2\" >124</td>\n",
       "                        <td id=\"T_0d4d281a_fb81_11e9_b910_c85b763db6b8row3_col3\" class=\"data row3 col3\" >1</td>\n",
       "                        <td id=\"T_0d4d281a_fb81_11e9_b910_c85b763db6b8row3_col4\" class=\"data row3 col4\" >84</td>\n",
       "                        <td id=\"T_0d4d281a_fb81_11e9_b910_c85b763db6b8row3_col5\" class=\"data row3 col5\" >128</td>\n",
       "                        <td id=\"T_0d4d281a_fb81_11e9_b910_c85b763db6b8row3_col6\" class=\"data row3 col6\" >133</td>\n",
       "                        <td id=\"T_0d4d281a_fb81_11e9_b910_c85b763db6b8row3_col7\" class=\"data row3 col7\" >90</td>\n",
       "                        <td id=\"T_0d4d281a_fb81_11e9_b910_c85b763db6b8row3_col8\" class=\"data row3 col8\" >73</td>\n",
       "            </tr>\n",
       "            <tr>\n",
       "                        <th id=\"T_0d4d281a_fb81_11e9_b910_c85b763db6b8level0_row4\" class=\"row_heading level0 row4\" >4</th>\n",
       "                        <td id=\"T_0d4d281a_fb81_11e9_b910_c85b763db6b8row4_col0\" class=\"data row4 col0\" >151</td>\n",
       "                        <td id=\"T_0d4d281a_fb81_11e9_b910_c85b763db6b8row4_col1\" class=\"data row4 col1\" >204</td>\n",
       "                        <td id=\"T_0d4d281a_fb81_11e9_b910_c85b763db6b8row4_col2\" class=\"data row4 col2\" >97</td>\n",
       "                        <td id=\"T_0d4d281a_fb81_11e9_b910_c85b763db6b8row4_col3\" class=\"data row4 col3\" >84</td>\n",
       "                        <td id=\"T_0d4d281a_fb81_11e9_b910_c85b763db6b8row4_col4\" class=\"data row4 col4\" >1</td>\n",
       "                        <td id=\"T_0d4d281a_fb81_11e9_b910_c85b763db6b8row4_col5\" class=\"data row4 col5\" >124</td>\n",
       "                        <td id=\"T_0d4d281a_fb81_11e9_b910_c85b763db6b8row4_col6\" class=\"data row4 col6\" >98</td>\n",
       "                        <td id=\"T_0d4d281a_fb81_11e9_b910_c85b763db6b8row4_col7\" class=\"data row4 col7\" >103</td>\n",
       "                        <td id=\"T_0d4d281a_fb81_11e9_b910_c85b763db6b8row4_col8\" class=\"data row4 col8\" >63</td>\n",
       "            </tr>\n",
       "            <tr>\n",
       "                        <th id=\"T_0d4d281a_fb81_11e9_b910_c85b763db6b8level0_row5\" class=\"row_heading level0 row5\" >5</th>\n",
       "                        <td id=\"T_0d4d281a_fb81_11e9_b910_c85b763db6b8row5_col0\" class=\"data row5 col0\" >178</td>\n",
       "                        <td id=\"T_0d4d281a_fb81_11e9_b910_c85b763db6b8row5_col1\" class=\"data row5 col1\" >112</td>\n",
       "                        <td id=\"T_0d4d281a_fb81_11e9_b910_c85b763db6b8row5_col2\" class=\"data row5 col2\" >130</td>\n",
       "                        <td id=\"T_0d4d281a_fb81_11e9_b910_c85b763db6b8row5_col3\" class=\"data row5 col3\" >128</td>\n",
       "                        <td id=\"T_0d4d281a_fb81_11e9_b910_c85b763db6b8row5_col4\" class=\"data row5 col4\" >124</td>\n",
       "                        <td id=\"T_0d4d281a_fb81_11e9_b910_c85b763db6b8row5_col5\" class=\"data row5 col5\" >1</td>\n",
       "                        <td id=\"T_0d4d281a_fb81_11e9_b910_c85b763db6b8row5_col6\" class=\"data row5 col6\" >73</td>\n",
       "                        <td id=\"T_0d4d281a_fb81_11e9_b910_c85b763db6b8row5_col7\" class=\"data row5 col7\" >53</td>\n",
       "                        <td id=\"T_0d4d281a_fb81_11e9_b910_c85b763db6b8row5_col8\" class=\"data row5 col8\" >39</td>\n",
       "            </tr>\n",
       "            <tr>\n",
       "                        <th id=\"T_0d4d281a_fb81_11e9_b910_c85b763db6b8level0_row6\" class=\"row_heading level0 row6\" >6</th>\n",
       "                        <td id=\"T_0d4d281a_fb81_11e9_b910_c85b763db6b8row6_col0\" class=\"data row6 col0\" >192</td>\n",
       "                        <td id=\"T_0d4d281a_fb81_11e9_b910_c85b763db6b8row6_col1\" class=\"data row6 col1\" >97</td>\n",
       "                        <td id=\"T_0d4d281a_fb81_11e9_b910_c85b763db6b8row6_col2\" class=\"data row6 col2\" >132</td>\n",
       "                        <td id=\"T_0d4d281a_fb81_11e9_b910_c85b763db6b8row6_col3\" class=\"data row6 col3\" >133</td>\n",
       "                        <td id=\"T_0d4d281a_fb81_11e9_b910_c85b763db6b8row6_col4\" class=\"data row6 col4\" >98</td>\n",
       "                        <td id=\"T_0d4d281a_fb81_11e9_b910_c85b763db6b8row6_col5\" class=\"data row6 col5\" >73</td>\n",
       "                        <td id=\"T_0d4d281a_fb81_11e9_b910_c85b763db6b8row6_col6\" class=\"data row6 col6\" >1</td>\n",
       "                        <td id=\"T_0d4d281a_fb81_11e9_b910_c85b763db6b8row6_col7\" class=\"data row6 col7\" >63</td>\n",
       "                        <td id=\"T_0d4d281a_fb81_11e9_b910_c85b763db6b8row6_col8\" class=\"data row6 col8\" >197</td>\n",
       "            </tr>\n",
       "            <tr>\n",
       "                        <th id=\"T_0d4d281a_fb81_11e9_b910_c85b763db6b8level0_row7\" class=\"row_heading level0 row7\" >7</th>\n",
       "                        <td id=\"T_0d4d281a_fb81_11e9_b910_c85b763db6b8row7_col0\" class=\"data row7 col0\" >177</td>\n",
       "                        <td id=\"T_0d4d281a_fb81_11e9_b910_c85b763db6b8row7_col1\" class=\"data row7 col1\" >80</td>\n",
       "                        <td id=\"T_0d4d281a_fb81_11e9_b910_c85b763db6b8row7_col2\" class=\"data row7 col2\" >94</td>\n",
       "                        <td id=\"T_0d4d281a_fb81_11e9_b910_c85b763db6b8row7_col3\" class=\"data row7 col3\" >90</td>\n",
       "                        <td id=\"T_0d4d281a_fb81_11e9_b910_c85b763db6b8row7_col4\" class=\"data row7 col4\" >103</td>\n",
       "                        <td id=\"T_0d4d281a_fb81_11e9_b910_c85b763db6b8row7_col5\" class=\"data row7 col5\" >53</td>\n",
       "                        <td id=\"T_0d4d281a_fb81_11e9_b910_c85b763db6b8row7_col6\" class=\"data row7 col6\" >63</td>\n",
       "                        <td id=\"T_0d4d281a_fb81_11e9_b910_c85b763db6b8row7_col7\" class=\"data row7 col7\" >1</td>\n",
       "                        <td id=\"T_0d4d281a_fb81_11e9_b910_c85b763db6b8row7_col8\" class=\"data row7 col8\" >40</td>\n",
       "            </tr>\n",
       "            <tr>\n",
       "                        <th id=\"T_0d4d281a_fb81_11e9_b910_c85b763db6b8level0_row8\" class=\"row_heading level0 row8\" >8</th>\n",
       "                        <td id=\"T_0d4d281a_fb81_11e9_b910_c85b763db6b8row8_col0\" class=\"data row8 col0\" >136</td>\n",
       "                        <td id=\"T_0d4d281a_fb81_11e9_b910_c85b763db6b8row8_col1\" class=\"data row8 col1\" >72</td>\n",
       "                        <td id=\"T_0d4d281a_fb81_11e9_b910_c85b763db6b8row8_col2\" class=\"data row8 col2\" >81</td>\n",
       "                        <td id=\"T_0d4d281a_fb81_11e9_b910_c85b763db6b8row8_col3\" class=\"data row8 col3\" >73</td>\n",
       "                        <td id=\"T_0d4d281a_fb81_11e9_b910_c85b763db6b8row8_col4\" class=\"data row8 col4\" >63</td>\n",
       "                        <td id=\"T_0d4d281a_fb81_11e9_b910_c85b763db6b8row8_col5\" class=\"data row8 col5\" >39</td>\n",
       "                        <td id=\"T_0d4d281a_fb81_11e9_b910_c85b763db6b8row8_col6\" class=\"data row8 col6\" >197</td>\n",
       "                        <td id=\"T_0d4d281a_fb81_11e9_b910_c85b763db6b8row8_col7\" class=\"data row8 col7\" >40</td>\n",
       "                        <td id=\"T_0d4d281a_fb81_11e9_b910_c85b763db6b8row8_col8\" class=\"data row8 col8\" >1</td>\n",
       "            </tr>\n",
       "    </tbody></table>"
      ],
      "text/plain": [
       "<pandas.io.formats.style.Styler at 0x7fab1020a828>"
      ]
     },
     "execution_count": 9,
     "metadata": {},
     "output_type": "execute_result"
    }
   ],
   "source": [
    "datatemp1 = datatemp1[['BAS1', 'HAM12', 'MBCA63', 'BCA8', 'BAS50', 'HAM1','CLA1', 'HAM7', 'MCLÁ25']]\n",
    "datatemp_tot = datatemp1.copy()\n",
    "datatemp_tot['Total'] = datatemp_tot.sum(axis=1).values - 1\n",
    "top_10 = top_10[1:]\n",
    "datatemp_tot.set_index(top_10,inplace =True)\n",
    "datatemp1.style.background_gradient(cmap='Blues')\n",
    "\n"
   ]
  },
  {
   "cell_type": "code",
   "execution_count": 10,
   "metadata": {},
   "outputs": [
    {
     "data": {
      "application/vnd.plotly.v1+json": {
       "config": {
        "plotlyServerURL": "https://plot.ly"
       },
       "data": [
        {
         "type": "heatmap",
         "x": [
          "BAS1",
          "HAM12",
          "MBCA63",
          "BCA8",
          "BAS50",
          "HAM1",
          "CLA1",
          "HAM7",
          "MCLÁ25"
         ],
         "y": [
          "BAS1",
          "HAM12",
          "MBCA63",
          "BCA8",
          "BAS50",
          "HAM1",
          "CLA1",
          "HAM7",
          "MCLÁ25"
         ],
         "z": [
          [
           1,
           316,
           123,
           142,
           151,
           178,
           192,
           177,
           136
          ],
          [
           316,
           1,
           190,
           168,
           204,
           112,
           97,
           80,
           72
          ],
          [
           123,
           190,
           1,
           124,
           97,
           130,
           132,
           94,
           81
          ],
          [
           142,
           168,
           124,
           1,
           84,
           128,
           133,
           90,
           73
          ],
          [
           151,
           204,
           97,
           84,
           1,
           124,
           98,
           103,
           63
          ],
          [
           178,
           112,
           130,
           128,
           124,
           1,
           73,
           53,
           39
          ],
          [
           192,
           97,
           132,
           133,
           98,
           73,
           1,
           63,
           197
          ],
          [
           177,
           80,
           94,
           90,
           103,
           53,
           63,
           1,
           40
          ],
          [
           136,
           72,
           81,
           73,
           63,
           39,
           197,
           40,
           1
          ]
         ]
        }
       ],
       "layout": {
        "template": {
         "data": {
          "bar": [
           {
            "error_x": {
             "color": "#2a3f5f"
            },
            "error_y": {
             "color": "#2a3f5f"
            },
            "marker": {
             "line": {
              "color": "#E5ECF6",
              "width": 0.5
             }
            },
            "type": "bar"
           }
          ],
          "barpolar": [
           {
            "marker": {
             "line": {
              "color": "#E5ECF6",
              "width": 0.5
             }
            },
            "type": "barpolar"
           }
          ],
          "carpet": [
           {
            "aaxis": {
             "endlinecolor": "#2a3f5f",
             "gridcolor": "white",
             "linecolor": "white",
             "minorgridcolor": "white",
             "startlinecolor": "#2a3f5f"
            },
            "baxis": {
             "endlinecolor": "#2a3f5f",
             "gridcolor": "white",
             "linecolor": "white",
             "minorgridcolor": "white",
             "startlinecolor": "#2a3f5f"
            },
            "type": "carpet"
           }
          ],
          "choropleth": [
           {
            "colorbar": {
             "outlinewidth": 0,
             "ticks": ""
            },
            "type": "choropleth"
           }
          ],
          "contour": [
           {
            "colorbar": {
             "outlinewidth": 0,
             "ticks": ""
            },
            "colorscale": [
             [
              0,
              "#0d0887"
             ],
             [
              0.1111111111111111,
              "#46039f"
             ],
             [
              0.2222222222222222,
              "#7201a8"
             ],
             [
              0.3333333333333333,
              "#9c179e"
             ],
             [
              0.4444444444444444,
              "#bd3786"
             ],
             [
              0.5555555555555556,
              "#d8576b"
             ],
             [
              0.6666666666666666,
              "#ed7953"
             ],
             [
              0.7777777777777778,
              "#fb9f3a"
             ],
             [
              0.8888888888888888,
              "#fdca26"
             ],
             [
              1,
              "#f0f921"
             ]
            ],
            "type": "contour"
           }
          ],
          "contourcarpet": [
           {
            "colorbar": {
             "outlinewidth": 0,
             "ticks": ""
            },
            "type": "contourcarpet"
           }
          ],
          "heatmap": [
           {
            "colorbar": {
             "outlinewidth": 0,
             "ticks": ""
            },
            "colorscale": [
             [
              0,
              "#0d0887"
             ],
             [
              0.1111111111111111,
              "#46039f"
             ],
             [
              0.2222222222222222,
              "#7201a8"
             ],
             [
              0.3333333333333333,
              "#9c179e"
             ],
             [
              0.4444444444444444,
              "#bd3786"
             ],
             [
              0.5555555555555556,
              "#d8576b"
             ],
             [
              0.6666666666666666,
              "#ed7953"
             ],
             [
              0.7777777777777778,
              "#fb9f3a"
             ],
             [
              0.8888888888888888,
              "#fdca26"
             ],
             [
              1,
              "#f0f921"
             ]
            ],
            "type": "heatmap"
           }
          ],
          "heatmapgl": [
           {
            "colorbar": {
             "outlinewidth": 0,
             "ticks": ""
            },
            "colorscale": [
             [
              0,
              "#0d0887"
             ],
             [
              0.1111111111111111,
              "#46039f"
             ],
             [
              0.2222222222222222,
              "#7201a8"
             ],
             [
              0.3333333333333333,
              "#9c179e"
             ],
             [
              0.4444444444444444,
              "#bd3786"
             ],
             [
              0.5555555555555556,
              "#d8576b"
             ],
             [
              0.6666666666666666,
              "#ed7953"
             ],
             [
              0.7777777777777778,
              "#fb9f3a"
             ],
             [
              0.8888888888888888,
              "#fdca26"
             ],
             [
              1,
              "#f0f921"
             ]
            ],
            "type": "heatmapgl"
           }
          ],
          "histogram": [
           {
            "marker": {
             "colorbar": {
              "outlinewidth": 0,
              "ticks": ""
             }
            },
            "type": "histogram"
           }
          ],
          "histogram2d": [
           {
            "colorbar": {
             "outlinewidth": 0,
             "ticks": ""
            },
            "colorscale": [
             [
              0,
              "#0d0887"
             ],
             [
              0.1111111111111111,
              "#46039f"
             ],
             [
              0.2222222222222222,
              "#7201a8"
             ],
             [
              0.3333333333333333,
              "#9c179e"
             ],
             [
              0.4444444444444444,
              "#bd3786"
             ],
             [
              0.5555555555555556,
              "#d8576b"
             ],
             [
              0.6666666666666666,
              "#ed7953"
             ],
             [
              0.7777777777777778,
              "#fb9f3a"
             ],
             [
              0.8888888888888888,
              "#fdca26"
             ],
             [
              1,
              "#f0f921"
             ]
            ],
            "type": "histogram2d"
           }
          ],
          "histogram2dcontour": [
           {
            "colorbar": {
             "outlinewidth": 0,
             "ticks": ""
            },
            "colorscale": [
             [
              0,
              "#0d0887"
             ],
             [
              0.1111111111111111,
              "#46039f"
             ],
             [
              0.2222222222222222,
              "#7201a8"
             ],
             [
              0.3333333333333333,
              "#9c179e"
             ],
             [
              0.4444444444444444,
              "#bd3786"
             ],
             [
              0.5555555555555556,
              "#d8576b"
             ],
             [
              0.6666666666666666,
              "#ed7953"
             ],
             [
              0.7777777777777778,
              "#fb9f3a"
             ],
             [
              0.8888888888888888,
              "#fdca26"
             ],
             [
              1,
              "#f0f921"
             ]
            ],
            "type": "histogram2dcontour"
           }
          ],
          "mesh3d": [
           {
            "colorbar": {
             "outlinewidth": 0,
             "ticks": ""
            },
            "type": "mesh3d"
           }
          ],
          "parcoords": [
           {
            "line": {
             "colorbar": {
              "outlinewidth": 0,
              "ticks": ""
             }
            },
            "type": "parcoords"
           }
          ],
          "scatter": [
           {
            "marker": {
             "colorbar": {
              "outlinewidth": 0,
              "ticks": ""
             }
            },
            "type": "scatter"
           }
          ],
          "scatter3d": [
           {
            "line": {
             "colorbar": {
              "outlinewidth": 0,
              "ticks": ""
             }
            },
            "marker": {
             "colorbar": {
              "outlinewidth": 0,
              "ticks": ""
             }
            },
            "type": "scatter3d"
           }
          ],
          "scattercarpet": [
           {
            "marker": {
             "colorbar": {
              "outlinewidth": 0,
              "ticks": ""
             }
            },
            "type": "scattercarpet"
           }
          ],
          "scattergeo": [
           {
            "marker": {
             "colorbar": {
              "outlinewidth": 0,
              "ticks": ""
             }
            },
            "type": "scattergeo"
           }
          ],
          "scattergl": [
           {
            "marker": {
             "colorbar": {
              "outlinewidth": 0,
              "ticks": ""
             }
            },
            "type": "scattergl"
           }
          ],
          "scattermapbox": [
           {
            "marker": {
             "colorbar": {
              "outlinewidth": 0,
              "ticks": ""
             }
            },
            "type": "scattermapbox"
           }
          ],
          "scatterpolar": [
           {
            "marker": {
             "colorbar": {
              "outlinewidth": 0,
              "ticks": ""
             }
            },
            "type": "scatterpolar"
           }
          ],
          "scatterpolargl": [
           {
            "marker": {
             "colorbar": {
              "outlinewidth": 0,
              "ticks": ""
             }
            },
            "type": "scatterpolargl"
           }
          ],
          "scatterternary": [
           {
            "marker": {
             "colorbar": {
              "outlinewidth": 0,
              "ticks": ""
             }
            },
            "type": "scatterternary"
           }
          ],
          "surface": [
           {
            "colorbar": {
             "outlinewidth": 0,
             "ticks": ""
            },
            "colorscale": [
             [
              0,
              "#0d0887"
             ],
             [
              0.1111111111111111,
              "#46039f"
             ],
             [
              0.2222222222222222,
              "#7201a8"
             ],
             [
              0.3333333333333333,
              "#9c179e"
             ],
             [
              0.4444444444444444,
              "#bd3786"
             ],
             [
              0.5555555555555556,
              "#d8576b"
             ],
             [
              0.6666666666666666,
              "#ed7953"
             ],
             [
              0.7777777777777778,
              "#fb9f3a"
             ],
             [
              0.8888888888888888,
              "#fdca26"
             ],
             [
              1,
              "#f0f921"
             ]
            ],
            "type": "surface"
           }
          ],
          "table": [
           {
            "cells": {
             "fill": {
              "color": "#EBF0F8"
             },
             "line": {
              "color": "white"
             }
            },
            "header": {
             "fill": {
              "color": "#C8D4E3"
             },
             "line": {
              "color": "white"
             }
            },
            "type": "table"
           }
          ]
         },
         "layout": {
          "annotationdefaults": {
           "arrowcolor": "#2a3f5f",
           "arrowhead": 0,
           "arrowwidth": 1
          },
          "colorscale": {
           "diverging": [
            [
             0,
             "#8e0152"
            ],
            [
             0.1,
             "#c51b7d"
            ],
            [
             0.2,
             "#de77ae"
            ],
            [
             0.3,
             "#f1b6da"
            ],
            [
             0.4,
             "#fde0ef"
            ],
            [
             0.5,
             "#f7f7f7"
            ],
            [
             0.6,
             "#e6f5d0"
            ],
            [
             0.7,
             "#b8e186"
            ],
            [
             0.8,
             "#7fbc41"
            ],
            [
             0.9,
             "#4d9221"
            ],
            [
             1,
             "#276419"
            ]
           ],
           "sequential": [
            [
             0,
             "#0d0887"
            ],
            [
             0.1111111111111111,
             "#46039f"
            ],
            [
             0.2222222222222222,
             "#7201a8"
            ],
            [
             0.3333333333333333,
             "#9c179e"
            ],
            [
             0.4444444444444444,
             "#bd3786"
            ],
            [
             0.5555555555555556,
             "#d8576b"
            ],
            [
             0.6666666666666666,
             "#ed7953"
            ],
            [
             0.7777777777777778,
             "#fb9f3a"
            ],
            [
             0.8888888888888888,
             "#fdca26"
            ],
            [
             1,
             "#f0f921"
            ]
           ],
           "sequentialminus": [
            [
             0,
             "#0d0887"
            ],
            [
             0.1111111111111111,
             "#46039f"
            ],
            [
             0.2222222222222222,
             "#7201a8"
            ],
            [
             0.3333333333333333,
             "#9c179e"
            ],
            [
             0.4444444444444444,
             "#bd3786"
            ],
            [
             0.5555555555555556,
             "#d8576b"
            ],
            [
             0.6666666666666666,
             "#ed7953"
            ],
            [
             0.7777777777777778,
             "#fb9f3a"
            ],
            [
             0.8888888888888888,
             "#fdca26"
            ],
            [
             1,
             "#f0f921"
            ]
           ]
          },
          "colorway": [
           "#636efa",
           "#EF553B",
           "#00cc96",
           "#ab63fa",
           "#FFA15A",
           "#19d3f3",
           "#FF6692",
           "#B6E880",
           "#FF97FF",
           "#FECB52"
          ],
          "font": {
           "color": "#2a3f5f"
          },
          "geo": {
           "bgcolor": "white",
           "lakecolor": "white",
           "landcolor": "#E5ECF6",
           "showlakes": true,
           "showland": true,
           "subunitcolor": "white"
          },
          "hoverlabel": {
           "align": "left"
          },
          "hovermode": "closest",
          "mapbox": {
           "style": "light"
          },
          "paper_bgcolor": "white",
          "plot_bgcolor": "#E5ECF6",
          "polar": {
           "angularaxis": {
            "gridcolor": "white",
            "linecolor": "white",
            "ticks": ""
           },
           "bgcolor": "#E5ECF6",
           "radialaxis": {
            "gridcolor": "white",
            "linecolor": "white",
            "ticks": ""
           }
          },
          "scene": {
           "xaxis": {
            "backgroundcolor": "#E5ECF6",
            "gridcolor": "white",
            "gridwidth": 2,
            "linecolor": "white",
            "showbackground": true,
            "ticks": "",
            "zerolinecolor": "white"
           },
           "yaxis": {
            "backgroundcolor": "#E5ECF6",
            "gridcolor": "white",
            "gridwidth": 2,
            "linecolor": "white",
            "showbackground": true,
            "ticks": "",
            "zerolinecolor": "white"
           },
           "zaxis": {
            "backgroundcolor": "#E5ECF6",
            "gridcolor": "white",
            "gridwidth": 2,
            "linecolor": "white",
            "showbackground": true,
            "ticks": "",
            "zerolinecolor": "white"
           }
          },
          "shapedefaults": {
           "line": {
            "color": "#2a3f5f"
           }
          },
          "ternary": {
           "aaxis": {
            "gridcolor": "white",
            "linecolor": "white",
            "ticks": ""
           },
           "baxis": {
            "gridcolor": "white",
            "linecolor": "white",
            "ticks": ""
           },
           "bgcolor": "#E5ECF6",
           "caxis": {
            "gridcolor": "white",
            "linecolor": "white",
            "ticks": ""
           }
          },
          "title": {
           "x": 0.05
          },
          "xaxis": {
           "automargin": true,
           "gridcolor": "white",
           "linecolor": "white",
           "ticks": "",
           "zerolinecolor": "white",
           "zerolinewidth": 2
          },
          "yaxis": {
           "automargin": true,
           "gridcolor": "white",
           "linecolor": "white",
           "ticks": "",
           "zerolinecolor": "white",
           "zerolinewidth": 2
          }
         }
        }
       }
      },
      "text/html": [
       "<div>\n",
       "        \n",
       "        \n",
       "            <div id=\"f19dfa6e-725a-4c56-b200-dde87f0f113b\" class=\"plotly-graph-div\" style=\"height:525px; width:100%;\"></div>\n",
       "            <script type=\"text/javascript\">\n",
       "                require([\"plotly\"], function(Plotly) {\n",
       "                    window.PLOTLYENV=window.PLOTLYENV || {};\n",
       "                    \n",
       "                if (document.getElementById(\"f19dfa6e-725a-4c56-b200-dde87f0f113b\")) {\n",
       "                    Plotly.newPlot(\n",
       "                        'f19dfa6e-725a-4c56-b200-dde87f0f113b',\n",
       "                        [{\"type\": \"heatmap\", \"x\": [\"BAS1\", \"HAM12\", \"MBCA63\", \"BCA8\", \"BAS50\", \"HAM1\", \"CLA1\", \"HAM7\", \"MCL\\u00c125\"], \"y\": [\"BAS1\", \"HAM12\", \"MBCA63\", \"BCA8\", \"BAS50\", \"HAM1\", \"CLA1\", \"HAM7\", \"MCL\\u00c125\"], \"z\": [[1.0, 316.0, 123.0, 142.0, 151.0, 178.0, 192.0, 177.0, 136.0], [316.0, 1.0, 190.0, 168.0, 204.0, 112.0, 97.0, 80.0, 72.0], [123.0, 190.0, 1.0, 124.0, 97.0, 130.0, 132.0, 94.0, 81.0], [142.0, 168.0, 124.0, 1.0, 84.0, 128.0, 133.0, 90.0, 73.0], [151.0, 204.0, 97.0, 84.0, 1.0, 124.0, 98.0, 103.0, 63.0], [178.0, 112.0, 130.0, 128.0, 124.0, 1.0, 73.0, 53.0, 39.0], [192.0, 97.0, 132.0, 133.0, 98.0, 73.0, 1.0, 63.0, 197.0], [177.0, 80.0, 94.0, 90.0, 103.0, 53.0, 63.0, 1.0, 40.0], [136.0, 72.0, 81.0, 73.0, 63.0, 39.0, 197.0, 40.0, 1.0]]}],\n",
       "                        {\"template\": {\"data\": {\"bar\": [{\"error_x\": {\"color\": \"#2a3f5f\"}, \"error_y\": {\"color\": \"#2a3f5f\"}, \"marker\": {\"line\": {\"color\": \"#E5ECF6\", \"width\": 0.5}}, \"type\": \"bar\"}], \"barpolar\": [{\"marker\": {\"line\": {\"color\": \"#E5ECF6\", \"width\": 0.5}}, \"type\": \"barpolar\"}], \"carpet\": [{\"aaxis\": {\"endlinecolor\": \"#2a3f5f\", \"gridcolor\": \"white\", \"linecolor\": \"white\", \"minorgridcolor\": \"white\", \"startlinecolor\": \"#2a3f5f\"}, \"baxis\": {\"endlinecolor\": \"#2a3f5f\", \"gridcolor\": \"white\", \"linecolor\": \"white\", \"minorgridcolor\": \"white\", \"startlinecolor\": \"#2a3f5f\"}, \"type\": \"carpet\"}], \"choropleth\": [{\"colorbar\": {\"outlinewidth\": 0, \"ticks\": \"\"}, \"type\": \"choropleth\"}], \"contour\": [{\"colorbar\": {\"outlinewidth\": 0, \"ticks\": \"\"}, \"colorscale\": [[0.0, \"#0d0887\"], [0.1111111111111111, \"#46039f\"], [0.2222222222222222, \"#7201a8\"], [0.3333333333333333, \"#9c179e\"], [0.4444444444444444, \"#bd3786\"], [0.5555555555555556, \"#d8576b\"], [0.6666666666666666, \"#ed7953\"], [0.7777777777777778, \"#fb9f3a\"], [0.8888888888888888, \"#fdca26\"], [1.0, \"#f0f921\"]], \"type\": \"contour\"}], \"contourcarpet\": [{\"colorbar\": {\"outlinewidth\": 0, \"ticks\": \"\"}, \"type\": \"contourcarpet\"}], \"heatmap\": [{\"colorbar\": {\"outlinewidth\": 0, \"ticks\": \"\"}, \"colorscale\": [[0.0, \"#0d0887\"], [0.1111111111111111, \"#46039f\"], [0.2222222222222222, \"#7201a8\"], [0.3333333333333333, \"#9c179e\"], [0.4444444444444444, \"#bd3786\"], [0.5555555555555556, \"#d8576b\"], [0.6666666666666666, \"#ed7953\"], [0.7777777777777778, \"#fb9f3a\"], [0.8888888888888888, \"#fdca26\"], [1.0, \"#f0f921\"]], \"type\": \"heatmap\"}], \"heatmapgl\": [{\"colorbar\": {\"outlinewidth\": 0, \"ticks\": \"\"}, \"colorscale\": [[0.0, \"#0d0887\"], [0.1111111111111111, \"#46039f\"], [0.2222222222222222, \"#7201a8\"], [0.3333333333333333, \"#9c179e\"], [0.4444444444444444, \"#bd3786\"], [0.5555555555555556, \"#d8576b\"], [0.6666666666666666, \"#ed7953\"], [0.7777777777777778, \"#fb9f3a\"], [0.8888888888888888, \"#fdca26\"], [1.0, \"#f0f921\"]], \"type\": \"heatmapgl\"}], \"histogram\": [{\"marker\": {\"colorbar\": {\"outlinewidth\": 0, \"ticks\": \"\"}}, \"type\": \"histogram\"}], \"histogram2d\": [{\"colorbar\": {\"outlinewidth\": 0, \"ticks\": \"\"}, \"colorscale\": [[0.0, \"#0d0887\"], [0.1111111111111111, \"#46039f\"], [0.2222222222222222, \"#7201a8\"], [0.3333333333333333, \"#9c179e\"], [0.4444444444444444, \"#bd3786\"], [0.5555555555555556, \"#d8576b\"], [0.6666666666666666, \"#ed7953\"], [0.7777777777777778, \"#fb9f3a\"], [0.8888888888888888, \"#fdca26\"], [1.0, \"#f0f921\"]], \"type\": \"histogram2d\"}], \"histogram2dcontour\": [{\"colorbar\": {\"outlinewidth\": 0, \"ticks\": \"\"}, \"colorscale\": [[0.0, \"#0d0887\"], [0.1111111111111111, \"#46039f\"], [0.2222222222222222, \"#7201a8\"], [0.3333333333333333, \"#9c179e\"], [0.4444444444444444, \"#bd3786\"], [0.5555555555555556, \"#d8576b\"], [0.6666666666666666, \"#ed7953\"], [0.7777777777777778, \"#fb9f3a\"], [0.8888888888888888, \"#fdca26\"], [1.0, \"#f0f921\"]], \"type\": \"histogram2dcontour\"}], \"mesh3d\": [{\"colorbar\": {\"outlinewidth\": 0, \"ticks\": \"\"}, \"type\": \"mesh3d\"}], \"parcoords\": [{\"line\": {\"colorbar\": {\"outlinewidth\": 0, \"ticks\": \"\"}}, \"type\": \"parcoords\"}], \"scatter\": [{\"marker\": {\"colorbar\": {\"outlinewidth\": 0, \"ticks\": \"\"}}, \"type\": \"scatter\"}], \"scatter3d\": [{\"line\": {\"colorbar\": {\"outlinewidth\": 0, \"ticks\": \"\"}}, \"marker\": {\"colorbar\": {\"outlinewidth\": 0, \"ticks\": \"\"}}, \"type\": \"scatter3d\"}], \"scattercarpet\": [{\"marker\": {\"colorbar\": {\"outlinewidth\": 0, \"ticks\": \"\"}}, \"type\": \"scattercarpet\"}], \"scattergeo\": [{\"marker\": {\"colorbar\": {\"outlinewidth\": 0, \"ticks\": \"\"}}, \"type\": \"scattergeo\"}], \"scattergl\": [{\"marker\": {\"colorbar\": {\"outlinewidth\": 0, \"ticks\": \"\"}}, \"type\": \"scattergl\"}], \"scattermapbox\": [{\"marker\": {\"colorbar\": {\"outlinewidth\": 0, \"ticks\": \"\"}}, \"type\": \"scattermapbox\"}], \"scatterpolar\": [{\"marker\": {\"colorbar\": {\"outlinewidth\": 0, \"ticks\": \"\"}}, \"type\": \"scatterpolar\"}], \"scatterpolargl\": [{\"marker\": {\"colorbar\": {\"outlinewidth\": 0, \"ticks\": \"\"}}, \"type\": \"scatterpolargl\"}], \"scatterternary\": [{\"marker\": {\"colorbar\": {\"outlinewidth\": 0, \"ticks\": \"\"}}, \"type\": \"scatterternary\"}], \"surface\": [{\"colorbar\": {\"outlinewidth\": 0, \"ticks\": \"\"}, \"colorscale\": [[0.0, \"#0d0887\"], [0.1111111111111111, \"#46039f\"], [0.2222222222222222, \"#7201a8\"], [0.3333333333333333, \"#9c179e\"], [0.4444444444444444, \"#bd3786\"], [0.5555555555555556, \"#d8576b\"], [0.6666666666666666, \"#ed7953\"], [0.7777777777777778, \"#fb9f3a\"], [0.8888888888888888, \"#fdca26\"], [1.0, \"#f0f921\"]], \"type\": \"surface\"}], \"table\": [{\"cells\": {\"fill\": {\"color\": \"#EBF0F8\"}, \"line\": {\"color\": \"white\"}}, \"header\": {\"fill\": {\"color\": \"#C8D4E3\"}, \"line\": {\"color\": \"white\"}}, \"type\": \"table\"}]}, \"layout\": {\"annotationdefaults\": {\"arrowcolor\": \"#2a3f5f\", \"arrowhead\": 0, \"arrowwidth\": 1}, \"colorscale\": {\"diverging\": [[0, \"#8e0152\"], [0.1, \"#c51b7d\"], [0.2, \"#de77ae\"], [0.3, \"#f1b6da\"], [0.4, \"#fde0ef\"], [0.5, \"#f7f7f7\"], [0.6, \"#e6f5d0\"], [0.7, \"#b8e186\"], [0.8, \"#7fbc41\"], [0.9, \"#4d9221\"], [1, \"#276419\"]], \"sequential\": [[0.0, \"#0d0887\"], [0.1111111111111111, \"#46039f\"], [0.2222222222222222, \"#7201a8\"], [0.3333333333333333, \"#9c179e\"], [0.4444444444444444, \"#bd3786\"], [0.5555555555555556, \"#d8576b\"], [0.6666666666666666, \"#ed7953\"], [0.7777777777777778, \"#fb9f3a\"], [0.8888888888888888, \"#fdca26\"], [1.0, \"#f0f921\"]], \"sequentialminus\": [[0.0, \"#0d0887\"], [0.1111111111111111, \"#46039f\"], [0.2222222222222222, \"#7201a8\"], [0.3333333333333333, \"#9c179e\"], [0.4444444444444444, \"#bd3786\"], [0.5555555555555556, \"#d8576b\"], [0.6666666666666666, \"#ed7953\"], [0.7777777777777778, \"#fb9f3a\"], [0.8888888888888888, \"#fdca26\"], [1.0, \"#f0f921\"]]}, \"colorway\": [\"#636efa\", \"#EF553B\", \"#00cc96\", \"#ab63fa\", \"#FFA15A\", \"#19d3f3\", \"#FF6692\", \"#B6E880\", \"#FF97FF\", \"#FECB52\"], \"font\": {\"color\": \"#2a3f5f\"}, \"geo\": {\"bgcolor\": \"white\", \"lakecolor\": \"white\", \"landcolor\": \"#E5ECF6\", \"showlakes\": true, \"showland\": true, \"subunitcolor\": \"white\"}, \"hoverlabel\": {\"align\": \"left\"}, \"hovermode\": \"closest\", \"mapbox\": {\"style\": \"light\"}, \"paper_bgcolor\": \"white\", \"plot_bgcolor\": \"#E5ECF6\", \"polar\": {\"angularaxis\": {\"gridcolor\": \"white\", \"linecolor\": \"white\", \"ticks\": \"\"}, \"bgcolor\": \"#E5ECF6\", \"radialaxis\": {\"gridcolor\": \"white\", \"linecolor\": \"white\", \"ticks\": \"\"}}, \"scene\": {\"xaxis\": {\"backgroundcolor\": \"#E5ECF6\", \"gridcolor\": \"white\", \"gridwidth\": 2, \"linecolor\": \"white\", \"showbackground\": true, \"ticks\": \"\", \"zerolinecolor\": \"white\"}, \"yaxis\": {\"backgroundcolor\": \"#E5ECF6\", \"gridcolor\": \"white\", \"gridwidth\": 2, \"linecolor\": \"white\", \"showbackground\": true, \"ticks\": \"\", \"zerolinecolor\": \"white\"}, \"zaxis\": {\"backgroundcolor\": \"#E5ECF6\", \"gridcolor\": \"white\", \"gridwidth\": 2, \"linecolor\": \"white\", \"showbackground\": true, \"ticks\": \"\", \"zerolinecolor\": \"white\"}}, \"shapedefaults\": {\"line\": {\"color\": \"#2a3f5f\"}}, \"ternary\": {\"aaxis\": {\"gridcolor\": \"white\", \"linecolor\": \"white\", \"ticks\": \"\"}, \"baxis\": {\"gridcolor\": \"white\", \"linecolor\": \"white\", \"ticks\": \"\"}, \"bgcolor\": \"#E5ECF6\", \"caxis\": {\"gridcolor\": \"white\", \"linecolor\": \"white\", \"ticks\": \"\"}}, \"title\": {\"x\": 0.05}, \"xaxis\": {\"automargin\": true, \"gridcolor\": \"white\", \"linecolor\": \"white\", \"ticks\": \"\", \"zerolinecolor\": \"white\", \"zerolinewidth\": 2}, \"yaxis\": {\"automargin\": true, \"gridcolor\": \"white\", \"linecolor\": \"white\", \"ticks\": \"\", \"zerolinecolor\": \"white\", \"zerolinewidth\": 2}}}},\n",
       "                        {\"responsive\": true}\n",
       "                    ).then(function(){\n",
       "                            \n",
       "var gd = document.getElementById('f19dfa6e-725a-4c56-b200-dde87f0f113b');\n",
       "var x = new MutationObserver(function (mutations, observer) {{\n",
       "        var display = window.getComputedStyle(gd).display;\n",
       "        if (!display || display === 'none') {{\n",
       "            console.log([gd, 'removed!']);\n",
       "            Plotly.purge(gd);\n",
       "            observer.disconnect();\n",
       "        }}\n",
       "}});\n",
       "\n",
       "// Listen for the removal of the full notebook cells\n",
       "var notebookContainer = gd.closest('#notebook-container');\n",
       "if (notebookContainer) {{\n",
       "    x.observe(notebookContainer, {childList: true});\n",
       "}}\n",
       "\n",
       "// Listen for the clearing of the current output cell\n",
       "var outputEl = gd.closest('.output');\n",
       "if (outputEl) {{\n",
       "    x.observe(outputEl, {childList: true});\n",
       "}}\n",
       "\n",
       "                        })\n",
       "                };\n",
       "                });\n",
       "            </script>\n",
       "        </div>"
      ]
     },
     "metadata": {},
     "output_type": "display_data"
    }
   ],
   "source": [
    "values_list = datatemp1.values.tolist()\n",
    "productos = ['BAS1', 'HAM12', 'MBCA63', 'BCA8', 'BAS50', 'HAM1','CLA1', 'HAM7', 'MCLÁ25']\n",
    "fig = go.Figure(data=go.Heatmap(\n",
    "                    x=productos,\n",
    "                    y=productos,\n",
    "                    z=values_list))\n",
    "fig.show()"
   ]
  },
  {
   "cell_type": "code",
   "execution_count": null,
   "metadata": {},
   "outputs": [],
   "source": []
  },
  {
   "cell_type": "code",
   "execution_count": 11,
   "metadata": {},
   "outputs": [
    {
     "ename": "KeyError",
     "evalue": "'¿Cuál es el rango de edades de tu mesa?'",
     "output_type": "error",
     "traceback": [
      "\u001b[0;31m---------------------------------------------------------------------------\u001b[0m",
      "\u001b[0;31mKeyError\u001b[0m                                  Traceback (most recent call last)",
      "\u001b[0;32m~/.local/lib64/python3.6/site-packages/pandas/core/indexes/base.py\u001b[0m in \u001b[0;36mget_loc\u001b[0;34m(self, key, method, tolerance)\u001b[0m\n\u001b[1;32m   2896\u001b[0m             \u001b[0;32mtry\u001b[0m\u001b[0;34m:\u001b[0m\u001b[0;34m\u001b[0m\u001b[0;34m\u001b[0m\u001b[0m\n\u001b[0;32m-> 2897\u001b[0;31m                 \u001b[0;32mreturn\u001b[0m \u001b[0mself\u001b[0m\u001b[0;34m.\u001b[0m\u001b[0m_engine\u001b[0m\u001b[0;34m.\u001b[0m\u001b[0mget_loc\u001b[0m\u001b[0;34m(\u001b[0m\u001b[0mkey\u001b[0m\u001b[0;34m)\u001b[0m\u001b[0;34m\u001b[0m\u001b[0;34m\u001b[0m\u001b[0m\n\u001b[0m\u001b[1;32m   2898\u001b[0m             \u001b[0;32mexcept\u001b[0m \u001b[0mKeyError\u001b[0m\u001b[0;34m:\u001b[0m\u001b[0;34m\u001b[0m\u001b[0;34m\u001b[0m\u001b[0m\n",
      "\u001b[0;32mpandas/_libs/index.pyx\u001b[0m in \u001b[0;36mpandas._libs.index.IndexEngine.get_loc\u001b[0;34m()\u001b[0m\n",
      "\u001b[0;32mpandas/_libs/index.pyx\u001b[0m in \u001b[0;36mpandas._libs.index.IndexEngine.get_loc\u001b[0;34m()\u001b[0m\n",
      "\u001b[0;32mpandas/_libs/hashtable_class_helper.pxi\u001b[0m in \u001b[0;36mpandas._libs.hashtable.PyObjectHashTable.get_item\u001b[0;34m()\u001b[0m\n",
      "\u001b[0;32mpandas/_libs/hashtable_class_helper.pxi\u001b[0m in \u001b[0;36mpandas._libs.hashtable.PyObjectHashTable.get_item\u001b[0;34m()\u001b[0m\n",
      "\u001b[0;31mKeyError\u001b[0m: '¿Cuál es el rango de edades de tu mesa?'",
      "\nDuring handling of the above exception, another exception occurred:\n",
      "\u001b[0;31mKeyError\u001b[0m                                  Traceback (most recent call last)",
      "\u001b[0;32m<ipython-input-11-cd09fcd7a8e1>\u001b[0m in \u001b[0;36m<module>\u001b[0;34m\u001b[0m\n\u001b[0;32m----> 1\u001b[0;31m \u001b[0mdf_por_edades\u001b[0m\u001b[0;34m=\u001b[0m \u001b[0mdata\u001b[0m\u001b[0;34m[\u001b[0m\u001b[0;34m'¿Cuál es el rango de edades de tu mesa?'\u001b[0m\u001b[0;34m]\u001b[0m\u001b[0;34m.\u001b[0m\u001b[0mstr\u001b[0m\u001b[0;34m.\u001b[0m\u001b[0mget_dummies\u001b[0m\u001b[0;34m(\u001b[0m\u001b[0;34m\" \"\u001b[0m\u001b[0;34m)\u001b[0m\u001b[0;34m\u001b[0m\u001b[0;34m\u001b[0m\u001b[0m\n\u001b[0m\u001b[1;32m      2\u001b[0m \u001b[0mdf_con_quien\u001b[0m\u001b[0;34m=\u001b[0m \u001b[0mdata\u001b[0m\u001b[0;34m[\u001b[0m\u001b[0;34m'El día de hoy ¿Con quién nos visita?'\u001b[0m\u001b[0;34m]\u001b[0m\u001b[0;34m.\u001b[0m\u001b[0mstr\u001b[0m\u001b[0;34m.\u001b[0m\u001b[0mget_dummies\u001b[0m\u001b[0;34m(\u001b[0m\u001b[0;34m\" \"\u001b[0m\u001b[0;34m)\u001b[0m\u001b[0;34m\u001b[0m\u001b[0;34m\u001b[0m\u001b[0m\n\u001b[1;32m      3\u001b[0m \u001b[0mdf_grupos\u001b[0m\u001b[0;34m=\u001b[0m \u001b[0mdata\u001b[0m\u001b[0;34m[\u001b[0m\u001b[0;34m'Grupo'\u001b[0m\u001b[0;34m]\u001b[0m\u001b[0;34m.\u001b[0m\u001b[0mstr\u001b[0m\u001b[0;34m.\u001b[0m\u001b[0mget_dummies\u001b[0m\u001b[0;34m(\u001b[0m\u001b[0;34m\" \"\u001b[0m\u001b[0;34m)\u001b[0m\u001b[0;34m\u001b[0m\u001b[0;34m\u001b[0m\u001b[0m\n",
      "\u001b[0;32m~/.local/lib64/python3.6/site-packages/pandas/core/frame.py\u001b[0m in \u001b[0;36m__getitem__\u001b[0;34m(self, key)\u001b[0m\n\u001b[1;32m   2993\u001b[0m             \u001b[0;32mif\u001b[0m \u001b[0mself\u001b[0m\u001b[0;34m.\u001b[0m\u001b[0mcolumns\u001b[0m\u001b[0;34m.\u001b[0m\u001b[0mnlevels\u001b[0m \u001b[0;34m>\u001b[0m \u001b[0;36m1\u001b[0m\u001b[0;34m:\u001b[0m\u001b[0;34m\u001b[0m\u001b[0;34m\u001b[0m\u001b[0m\n\u001b[1;32m   2994\u001b[0m                 \u001b[0;32mreturn\u001b[0m \u001b[0mself\u001b[0m\u001b[0;34m.\u001b[0m\u001b[0m_getitem_multilevel\u001b[0m\u001b[0;34m(\u001b[0m\u001b[0mkey\u001b[0m\u001b[0;34m)\u001b[0m\u001b[0;34m\u001b[0m\u001b[0;34m\u001b[0m\u001b[0m\n\u001b[0;32m-> 2995\u001b[0;31m             \u001b[0mindexer\u001b[0m \u001b[0;34m=\u001b[0m \u001b[0mself\u001b[0m\u001b[0;34m.\u001b[0m\u001b[0mcolumns\u001b[0m\u001b[0;34m.\u001b[0m\u001b[0mget_loc\u001b[0m\u001b[0;34m(\u001b[0m\u001b[0mkey\u001b[0m\u001b[0;34m)\u001b[0m\u001b[0;34m\u001b[0m\u001b[0;34m\u001b[0m\u001b[0m\n\u001b[0m\u001b[1;32m   2996\u001b[0m             \u001b[0;32mif\u001b[0m \u001b[0mis_integer\u001b[0m\u001b[0;34m(\u001b[0m\u001b[0mindexer\u001b[0m\u001b[0;34m)\u001b[0m\u001b[0;34m:\u001b[0m\u001b[0;34m\u001b[0m\u001b[0;34m\u001b[0m\u001b[0m\n\u001b[1;32m   2997\u001b[0m                 \u001b[0mindexer\u001b[0m \u001b[0;34m=\u001b[0m \u001b[0;34m[\u001b[0m\u001b[0mindexer\u001b[0m\u001b[0;34m]\u001b[0m\u001b[0;34m\u001b[0m\u001b[0;34m\u001b[0m\u001b[0m\n",
      "\u001b[0;32m~/.local/lib64/python3.6/site-packages/pandas/core/indexes/base.py\u001b[0m in \u001b[0;36mget_loc\u001b[0;34m(self, key, method, tolerance)\u001b[0m\n\u001b[1;32m   2897\u001b[0m                 \u001b[0;32mreturn\u001b[0m \u001b[0mself\u001b[0m\u001b[0;34m.\u001b[0m\u001b[0m_engine\u001b[0m\u001b[0;34m.\u001b[0m\u001b[0mget_loc\u001b[0m\u001b[0;34m(\u001b[0m\u001b[0mkey\u001b[0m\u001b[0;34m)\u001b[0m\u001b[0;34m\u001b[0m\u001b[0;34m\u001b[0m\u001b[0m\n\u001b[1;32m   2898\u001b[0m             \u001b[0;32mexcept\u001b[0m \u001b[0mKeyError\u001b[0m\u001b[0;34m:\u001b[0m\u001b[0;34m\u001b[0m\u001b[0;34m\u001b[0m\u001b[0m\n\u001b[0;32m-> 2899\u001b[0;31m                 \u001b[0;32mreturn\u001b[0m \u001b[0mself\u001b[0m\u001b[0;34m.\u001b[0m\u001b[0m_engine\u001b[0m\u001b[0;34m.\u001b[0m\u001b[0mget_loc\u001b[0m\u001b[0;34m(\u001b[0m\u001b[0mself\u001b[0m\u001b[0;34m.\u001b[0m\u001b[0m_maybe_cast_indexer\u001b[0m\u001b[0;34m(\u001b[0m\u001b[0mkey\u001b[0m\u001b[0;34m)\u001b[0m\u001b[0;34m)\u001b[0m\u001b[0;34m\u001b[0m\u001b[0;34m\u001b[0m\u001b[0m\n\u001b[0m\u001b[1;32m   2900\u001b[0m         \u001b[0mindexer\u001b[0m \u001b[0;34m=\u001b[0m \u001b[0mself\u001b[0m\u001b[0;34m.\u001b[0m\u001b[0mget_indexer\u001b[0m\u001b[0;34m(\u001b[0m\u001b[0;34m[\u001b[0m\u001b[0mkey\u001b[0m\u001b[0;34m]\u001b[0m\u001b[0;34m,\u001b[0m \u001b[0mmethod\u001b[0m\u001b[0;34m=\u001b[0m\u001b[0mmethod\u001b[0m\u001b[0;34m,\u001b[0m \u001b[0mtolerance\u001b[0m\u001b[0;34m=\u001b[0m\u001b[0mtolerance\u001b[0m\u001b[0;34m)\u001b[0m\u001b[0;34m\u001b[0m\u001b[0;34m\u001b[0m\u001b[0m\n\u001b[1;32m   2901\u001b[0m         \u001b[0;32mif\u001b[0m \u001b[0mindexer\u001b[0m\u001b[0;34m.\u001b[0m\u001b[0mndim\u001b[0m \u001b[0;34m>\u001b[0m \u001b[0;36m1\u001b[0m \u001b[0;32mor\u001b[0m \u001b[0mindexer\u001b[0m\u001b[0;34m.\u001b[0m\u001b[0msize\u001b[0m \u001b[0;34m>\u001b[0m \u001b[0;36m1\u001b[0m\u001b[0;34m:\u001b[0m\u001b[0;34m\u001b[0m\u001b[0;34m\u001b[0m\u001b[0m\n",
      "\u001b[0;32mpandas/_libs/index.pyx\u001b[0m in \u001b[0;36mpandas._libs.index.IndexEngine.get_loc\u001b[0;34m()\u001b[0m\n",
      "\u001b[0;32mpandas/_libs/index.pyx\u001b[0m in \u001b[0;36mpandas._libs.index.IndexEngine.get_loc\u001b[0;34m()\u001b[0m\n",
      "\u001b[0;32mpandas/_libs/hashtable_class_helper.pxi\u001b[0m in \u001b[0;36mpandas._libs.hashtable.PyObjectHashTable.get_item\u001b[0;34m()\u001b[0m\n",
      "\u001b[0;32mpandas/_libs/hashtable_class_helper.pxi\u001b[0m in \u001b[0;36mpandas._libs.hashtable.PyObjectHashTable.get_item\u001b[0;34m()\u001b[0m\n",
      "\u001b[0;31mKeyError\u001b[0m: '¿Cuál es el rango de edades de tu mesa?'"
     ]
    }
   ],
   "source": [
    "df_por_edades= data['¿Cuál es el rango de edades de tu mesa?'].str.get_dummies(\" \")\n",
    "df_con_quien= data['El día de hoy ¿Con quién nos visita?'].str.get_dummies(\" \")\n",
    "df_grupos= data['Grupo'].str.get_dummies(\" \")\n"
   ]
  }
 ],
 "metadata": {
  "kernelspec": {
   "display_name": "Python 3",
   "language": "python",
   "name": "python3"
  },
  "language_info": {
   "codemirror_mode": {
    "name": "ipython",
    "version": 3
   },
   "file_extension": ".py",
   "mimetype": "text/x-python",
   "name": "python",
   "nbconvert_exporter": "python",
   "pygments_lexer": "ipython3",
   "version": "3.6.9"
  }
 },
 "nbformat": 4,
 "nbformat_minor": 2
}
