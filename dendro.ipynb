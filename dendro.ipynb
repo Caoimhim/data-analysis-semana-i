{
 "cells": [
  {
   "cell_type": "code",
   "execution_count": 1,
   "metadata": {},
   "outputs": [
    {
     "name": "stderr",
     "output_type": "stream",
     "text": [
      "/home/kaetahr/.local/lib64/python3.6/site-packages/ipykernel_launcher.py:17: FutureWarning:\n",
      "\n",
      "using a dict on a Series for aggregation\n",
      "is deprecated and will be removed in a future version. Use                 named aggregation instead.\n",
      "\n",
      "    >>> grouper.agg(name_1=func_1, name_2=func_2)\n",
      "\n",
      "\n"
     ]
    }
   ],
   "source": [
    "import plotly.offline as pyo\n",
    "import plotly_express as pyx\n",
    "import plotly.graph_objects as go\n",
    "from mlxtend.frequent_patterns import apriori\n",
    "from mlxtend.frequent_patterns import association_rules\n",
    "from mlxtend.preprocessing import TransactionEncoder\n",
    "import plotly.figure_factory as ff\n",
    "import numpy as np\n",
    "from numpy import *\n",
    "import pandas as pd\n",
    "import statsmodels.api as sm\n",
    "from statsmodels.discrete.discrete_model import Logit \n",
    "\n",
    "data = pd.read_csv(\"sample_semanai.csv\")\n",
    "data = data.drop_duplicates().iloc[:]\n",
    "top_10 = data.groupby(['Clave platillo'])['Cantidad'].agg(\n",
    "    {\"Cuenta\": len}).sort_values(\n",
    "    \"Cuenta\", ascending=False).head(10).reset_index()\n",
    "top_10 = top_10['Clave platillo']"
   ]
  },
  {
   "cell_type": "code",
   "execution_count": 131,
   "metadata": {
    "scrolled": false
   },
   "outputs": [
    {
     "data": {
      "application/vnd.plotly.v1+json": {
       "config": {
        "plotlyServerURL": "https://plot.ly"
       },
       "data": [
        {
         "alignmentgroup": "True",
         "hoverlabel": {
          "namelength": 0
         },
         "hovertemplate": "Grupo=HAMBURGUESAS<br>Día=%{x}<br>Cantidad=%{y}",
         "legendgroup": "Grupo=HAMBURGUESAS",
         "marker": {
          "color": "#636efa"
         },
         "name": "Grupo=HAMBURGUESAS",
         "offsetgroup": "Grupo=HAMBURGUESAS",
         "orientation": "v",
         "showlegend": true,
         "textposition": "auto",
         "type": "bar",
         "x": [
          "viernes",
          "sábado",
          "miércoles",
          "martes",
          "lunes",
          "jueves",
          "domingo"
         ],
         "xaxis": "x",
         "y": [
          2352,
          2740,
          1872,
          1525,
          1364,
          1708,
          2458
         ],
         "yaxis": "y"
        },
        {
         "alignmentgroup": "True",
         "hoverlabel": {
          "namelength": 0
         },
         "hovertemplate": "Grupo=BEBIDAS CON ALCOHOL<br>Día=%{x}<br>Cantidad=%{y}",
         "legendgroup": "Grupo=BEBIDAS CON ALCOHOL",
         "marker": {
          "color": "#EF553B"
         },
         "name": "Grupo=BEBIDAS CON ALCOHOL",
         "offsetgroup": "Grupo=BEBIDAS CON ALCOHOL",
         "orientation": "v",
         "showlegend": true,
         "textposition": "auto",
         "type": "bar",
         "x": [
          "viernes",
          "sábado",
          "miércoles",
          "martes",
          "lunes",
          "jueves",
          "domingo"
         ],
         "xaxis": "x",
         "y": [
          1252,
          1341,
          1018,
          704,
          637,
          958,
          1126
         ],
         "yaxis": "y"
        },
        {
         "alignmentgroup": "True",
         "hoverlabel": {
          "namelength": 0
         },
         "hovertemplate": "Grupo=BÁSICOS<br>Día=%{x}<br>Cantidad=%{y}",
         "legendgroup": "Grupo=BÁSICOS",
         "marker": {
          "color": "#00cc96"
         },
         "name": "Grupo=BÁSICOS",
         "offsetgroup": "Grupo=BÁSICOS",
         "orientation": "v",
         "showlegend": true,
         "textposition": "auto",
         "type": "bar",
         "x": [
          "viernes",
          "sábado",
          "miércoles",
          "martes",
          "lunes",
          "jueves",
          "domingo"
         ],
         "xaxis": "x",
         "y": [
          1020,
          1157,
          904,
          759,
          662,
          768,
          1097
         ],
         "yaxis": "y"
        },
        {
         "alignmentgroup": "True",
         "hoverlabel": {
          "namelength": 0
         },
         "hovertemplate": "Grupo=CLÁSICOS<br>Día=%{x}<br>Cantidad=%{y}",
         "legendgroup": "Grupo=CLÁSICOS",
         "marker": {
          "color": "#ab63fa"
         },
         "name": "Grupo=CLÁSICOS",
         "offsetgroup": "Grupo=CLÁSICOS",
         "orientation": "v",
         "showlegend": true,
         "textposition": "auto",
         "type": "bar",
         "x": [
          "viernes",
          "sábado",
          "miércoles",
          "martes",
          "lunes",
          "jueves",
          "domingo"
         ],
         "xaxis": "x",
         "y": [
          964,
          1127,
          914,
          699,
          549,
          757,
          1001
         ],
         "yaxis": "y"
        },
        {
         "alignmentgroup": "True",
         "hoverlabel": {
          "namelength": 0
         },
         "hovertemplate": "Grupo=BEBIDAS SIN ALCOHOL<br>Día=%{x}<br>Cantidad=%{y}",
         "legendgroup": "Grupo=BEBIDAS SIN ALCOHOL",
         "marker": {
          "color": "#FFA15A"
         },
         "name": "Grupo=BEBIDAS SIN ALCOHOL",
         "offsetgroup": "Grupo=BEBIDAS SIN ALCOHOL",
         "orientation": "v",
         "showlegend": true,
         "textposition": "auto",
         "type": "bar",
         "x": [
          "viernes",
          "sábado",
          "miércoles",
          "martes",
          "lunes",
          "jueves",
          "domingo"
         ],
         "xaxis": "x",
         "y": [
          807,
          908,
          679,
          536,
          387,
          592,
          767
         ],
         "yaxis": "y"
        },
        {
         "alignmentgroup": "True",
         "hoverlabel": {
          "namelength": 0
         },
         "hovertemplate": "Grupo=ENTRADAS<br>Día=%{x}<br>Cantidad=%{y}",
         "legendgroup": "Grupo=ENTRADAS",
         "marker": {
          "color": "#19d3f3"
         },
         "name": "Grupo=ENTRADAS",
         "offsetgroup": "Grupo=ENTRADAS",
         "orientation": "v",
         "showlegend": true,
         "textposition": "auto",
         "type": "bar",
         "x": [
          "viernes",
          "sábado",
          "miércoles",
          "martes",
          "lunes",
          "jueves",
          "domingo"
         ],
         "xaxis": "x",
         "y": [
          189,
          179,
          132,
          90,
          98,
          120,
          169
         ],
         "yaxis": "y"
        },
        {
         "alignmentgroup": "True",
         "hoverlabel": {
          "namelength": 0
         },
         "hovertemplate": "Grupo=POSTRES<br>Día=%{x}<br>Cantidad=%{y}",
         "legendgroup": "Grupo=POSTRES",
         "marker": {
          "color": "#FF6692"
         },
         "name": "Grupo=POSTRES",
         "offsetgroup": "Grupo=POSTRES",
         "orientation": "v",
         "showlegend": true,
         "textposition": "auto",
         "type": "bar",
         "x": [
          "viernes",
          "sábado",
          "miércoles",
          "martes",
          "lunes",
          "jueves",
          "domingo"
         ],
         "xaxis": "x",
         "y": [
          102,
          73,
          127,
          104,
          89,
          86,
          86
         ],
         "yaxis": "y"
        },
        {
         "alignmentgroup": "True",
         "hoverlabel": {
          "namelength": 0
         },
         "hovertemplate": "Grupo=SANDWICHES<br>Día=%{x}<br>Cantidad=%{y}",
         "legendgroup": "Grupo=SANDWICHES",
         "marker": {
          "color": "#B6E880"
         },
         "name": "Grupo=SANDWICHES",
         "offsetgroup": "Grupo=SANDWICHES",
         "orientation": "v",
         "showlegend": true,
         "textposition": "auto",
         "type": "bar",
         "x": [
          "viernes",
          "sábado",
          "miércoles",
          "martes",
          "lunes",
          "jueves",
          "domingo"
         ],
         "xaxis": "x",
         "y": [
          102,
          102,
          99,
          85,
          71,
          78,
          113
         ],
         "yaxis": "y"
        },
        {
         "alignmentgroup": "True",
         "hoverlabel": {
          "namelength": 0
         },
         "hovertemplate": "Grupo=ENSALADAS<br>Día=%{x}<br>Cantidad=%{y}",
         "legendgroup": "Grupo=ENSALADAS",
         "marker": {
          "color": "#FF97FF"
         },
         "name": "Grupo=ENSALADAS",
         "offsetgroup": "Grupo=ENSALADAS",
         "orientation": "v",
         "showlegend": true,
         "textposition": "auto",
         "type": "bar",
         "x": [
          "viernes",
          "sábado",
          "miércoles",
          "martes",
          "lunes",
          "jueves",
          "domingo"
         ],
         "xaxis": "x",
         "y": [
          100,
          65,
          90,
          74,
          72,
          79,
          88
         ],
         "yaxis": "y"
        },
        {
         "alignmentgroup": "True",
         "hoverlabel": {
          "namelength": 0
         },
         "hovertemplate": "Grupo=EXTRAS COCINA<br>Día=%{x}<br>Cantidad=%{y}",
         "legendgroup": "Grupo=EXTRAS COCINA",
         "marker": {
          "color": "#FECB52"
         },
         "name": "Grupo=EXTRAS COCINA",
         "offsetgroup": "Grupo=EXTRAS COCINA",
         "orientation": "v",
         "showlegend": true,
         "textposition": "auto",
         "type": "bar",
         "x": [
          "viernes",
          "sábado",
          "miércoles",
          "martes",
          "lunes",
          "jueves",
          "domingo"
         ],
         "xaxis": "x",
         "y": [
          98,
          109,
          86,
          79,
          84,
          97,
          91
         ],
         "yaxis": "y"
        },
        {
         "alignmentgroup": "True",
         "hoverlabel": {
          "namelength": 0
         },
         "hovertemplate": "Grupo=PAPAS, PAPAS Y MÁS PAPAS<br>Día=%{x}<br>Cantidad=%{y}",
         "legendgroup": "Grupo=PAPAS, PAPAS Y MÁS PAPAS",
         "marker": {
          "color": "#636efa"
         },
         "name": "Grupo=PAPAS, PAPAS Y MÁS PAPAS",
         "offsetgroup": "Grupo=PAPAS, PAPAS Y MÁS PAPAS",
         "orientation": "v",
         "showlegend": true,
         "textposition": "auto",
         "type": "bar",
         "x": [
          "viernes",
          "sábado",
          "miércoles",
          "martes",
          "lunes",
          "jueves",
          "domingo"
         ],
         "xaxis": "x",
         "y": [
          85,
          100,
          75,
          50,
          54,
          70,
          82
         ],
         "yaxis": "y"
        },
        {
         "alignmentgroup": "True",
         "hoverlabel": {
          "namelength": 0
         },
         "hovertemplate": "Grupo=PASTAS<br>Día=%{x}<br>Cantidad=%{y}",
         "legendgroup": "Grupo=PASTAS",
         "marker": {
          "color": "#EF553B"
         },
         "name": "Grupo=PASTAS",
         "offsetgroup": "Grupo=PASTAS",
         "orientation": "v",
         "showlegend": true,
         "textposition": "auto",
         "type": "bar",
         "x": [
          "viernes",
          "sábado",
          "miércoles",
          "martes",
          "lunes",
          "jueves",
          "domingo"
         ],
         "xaxis": "x",
         "y": [
          53,
          48,
          59,
          42,
          34,
          47,
          55
         ],
         "yaxis": "y"
        },
        {
         "alignmentgroup": "True",
         "hoverlabel": {
          "namelength": 0
         },
         "hovertemplate": "Grupo=BEBIDAS<br>Día=%{x}<br>Cantidad=%{y}",
         "legendgroup": "Grupo=BEBIDAS",
         "marker": {
          "color": "#00cc96"
         },
         "name": "Grupo=BEBIDAS",
         "offsetgroup": "Grupo=BEBIDAS",
         "orientation": "v",
         "showlegend": true,
         "textposition": "auto",
         "type": "bar",
         "x": [
          "viernes",
          "sábado",
          "miércoles",
          "martes",
          "lunes",
          "jueves",
          "domingo"
         ],
         "xaxis": "x",
         "y": [
          42,
          60,
          43,
          22,
          29,
          32,
          40
         ],
         "yaxis": "y"
        },
        {
         "alignmentgroup": "True",
         "hoverlabel": {
          "namelength": 0
         },
         "hovertemplate": "Grupo=DESTILADOS<br>Día=%{x}<br>Cantidad=%{y}",
         "legendgroup": "Grupo=DESTILADOS",
         "marker": {
          "color": "#ab63fa"
         },
         "name": "Grupo=DESTILADOS",
         "offsetgroup": "Grupo=DESTILADOS",
         "orientation": "v",
         "showlegend": true,
         "textposition": "auto",
         "type": "bar",
         "x": [
          "viernes",
          "sábado",
          "miércoles",
          "martes",
          "lunes",
          "jueves",
          "domingo"
         ],
         "xaxis": "x",
         "y": [
          25,
          15,
          24,
          26,
          14,
          35,
          23
         ],
         "yaxis": "y"
        },
        {
         "alignmentgroup": "True",
         "hoverlabel": {
          "namelength": 0
         },
         "hovertemplate": "Grupo=BEBIDAS SÚPER<br>Día=%{x}<br>Cantidad=%{y}",
         "legendgroup": "Grupo=BEBIDAS SÚPER",
         "marker": {
          "color": "#FFA15A"
         },
         "name": "Grupo=BEBIDAS SÚPER",
         "offsetgroup": "Grupo=BEBIDAS SÚPER",
         "orientation": "v",
         "showlegend": true,
         "textposition": "auto",
         "type": "bar",
         "x": [
          "viernes",
          "sábado",
          "miércoles",
          "martes",
          "lunes",
          "jueves",
          "domingo"
         ],
         "xaxis": "x",
         "y": [
          11,
          12,
          12,
          6,
          8,
          15,
          11
         ],
         "yaxis": "y"
        },
        {
         "alignmentgroup": "True",
         "hoverlabel": {
          "namelength": 0
         },
         "hovertemplate": "Grupo=EXTRAS BARRA<br>Día=%{x}<br>Cantidad=%{y}",
         "legendgroup": "Grupo=EXTRAS BARRA",
         "marker": {
          "color": "#19d3f3"
         },
         "name": "Grupo=EXTRAS BARRA",
         "offsetgroup": "Grupo=EXTRAS BARRA",
         "orientation": "v",
         "showlegend": true,
         "textposition": "auto",
         "type": "bar",
         "x": [
          "viernes",
          "sábado",
          "miércoles",
          "martes",
          "lunes",
          "jueves",
          "domingo"
         ],
         "xaxis": "x",
         "y": [
          7,
          2,
          2,
          3,
          1,
          3,
          5
         ],
         "yaxis": "y"
        }
       ],
       "layout": {
        "barmode": "relative",
        "height": 600,
        "legend": {
         "tracegroupgap": 0
        },
        "margin": {
         "t": 60
        },
        "template": {
         "data": {
          "bar": [
           {
            "error_x": {
             "color": "#2a3f5f"
            },
            "error_y": {
             "color": "#2a3f5f"
            },
            "marker": {
             "line": {
              "color": "#E5ECF6",
              "width": 0.5
             }
            },
            "type": "bar"
           }
          ],
          "barpolar": [
           {
            "marker": {
             "line": {
              "color": "#E5ECF6",
              "width": 0.5
             }
            },
            "type": "barpolar"
           }
          ],
          "carpet": [
           {
            "aaxis": {
             "endlinecolor": "#2a3f5f",
             "gridcolor": "white",
             "linecolor": "white",
             "minorgridcolor": "white",
             "startlinecolor": "#2a3f5f"
            },
            "baxis": {
             "endlinecolor": "#2a3f5f",
             "gridcolor": "white",
             "linecolor": "white",
             "minorgridcolor": "white",
             "startlinecolor": "#2a3f5f"
            },
            "type": "carpet"
           }
          ],
          "choropleth": [
           {
            "colorbar": {
             "outlinewidth": 0,
             "ticks": ""
            },
            "type": "choropleth"
           }
          ],
          "contour": [
           {
            "colorbar": {
             "outlinewidth": 0,
             "ticks": ""
            },
            "colorscale": [
             [
              0,
              "#0d0887"
             ],
             [
              0.1111111111111111,
              "#46039f"
             ],
             [
              0.2222222222222222,
              "#7201a8"
             ],
             [
              0.3333333333333333,
              "#9c179e"
             ],
             [
              0.4444444444444444,
              "#bd3786"
             ],
             [
              0.5555555555555556,
              "#d8576b"
             ],
             [
              0.6666666666666666,
              "#ed7953"
             ],
             [
              0.7777777777777778,
              "#fb9f3a"
             ],
             [
              0.8888888888888888,
              "#fdca26"
             ],
             [
              1,
              "#f0f921"
             ]
            ],
            "type": "contour"
           }
          ],
          "contourcarpet": [
           {
            "colorbar": {
             "outlinewidth": 0,
             "ticks": ""
            },
            "type": "contourcarpet"
           }
          ],
          "heatmap": [
           {
            "colorbar": {
             "outlinewidth": 0,
             "ticks": ""
            },
            "colorscale": [
             [
              0,
              "#0d0887"
             ],
             [
              0.1111111111111111,
              "#46039f"
             ],
             [
              0.2222222222222222,
              "#7201a8"
             ],
             [
              0.3333333333333333,
              "#9c179e"
             ],
             [
              0.4444444444444444,
              "#bd3786"
             ],
             [
              0.5555555555555556,
              "#d8576b"
             ],
             [
              0.6666666666666666,
              "#ed7953"
             ],
             [
              0.7777777777777778,
              "#fb9f3a"
             ],
             [
              0.8888888888888888,
              "#fdca26"
             ],
             [
              1,
              "#f0f921"
             ]
            ],
            "type": "heatmap"
           }
          ],
          "heatmapgl": [
           {
            "colorbar": {
             "outlinewidth": 0,
             "ticks": ""
            },
            "colorscale": [
             [
              0,
              "#0d0887"
             ],
             [
              0.1111111111111111,
              "#46039f"
             ],
             [
              0.2222222222222222,
              "#7201a8"
             ],
             [
              0.3333333333333333,
              "#9c179e"
             ],
             [
              0.4444444444444444,
              "#bd3786"
             ],
             [
              0.5555555555555556,
              "#d8576b"
             ],
             [
              0.6666666666666666,
              "#ed7953"
             ],
             [
              0.7777777777777778,
              "#fb9f3a"
             ],
             [
              0.8888888888888888,
              "#fdca26"
             ],
             [
              1,
              "#f0f921"
             ]
            ],
            "type": "heatmapgl"
           }
          ],
          "histogram": [
           {
            "marker": {
             "colorbar": {
              "outlinewidth": 0,
              "ticks": ""
             }
            },
            "type": "histogram"
           }
          ],
          "histogram2d": [
           {
            "colorbar": {
             "outlinewidth": 0,
             "ticks": ""
            },
            "colorscale": [
             [
              0,
              "#0d0887"
             ],
             [
              0.1111111111111111,
              "#46039f"
             ],
             [
              0.2222222222222222,
              "#7201a8"
             ],
             [
              0.3333333333333333,
              "#9c179e"
             ],
             [
              0.4444444444444444,
              "#bd3786"
             ],
             [
              0.5555555555555556,
              "#d8576b"
             ],
             [
              0.6666666666666666,
              "#ed7953"
             ],
             [
              0.7777777777777778,
              "#fb9f3a"
             ],
             [
              0.8888888888888888,
              "#fdca26"
             ],
             [
              1,
              "#f0f921"
             ]
            ],
            "type": "histogram2d"
           }
          ],
          "histogram2dcontour": [
           {
            "colorbar": {
             "outlinewidth": 0,
             "ticks": ""
            },
            "colorscale": [
             [
              0,
              "#0d0887"
             ],
             [
              0.1111111111111111,
              "#46039f"
             ],
             [
              0.2222222222222222,
              "#7201a8"
             ],
             [
              0.3333333333333333,
              "#9c179e"
             ],
             [
              0.4444444444444444,
              "#bd3786"
             ],
             [
              0.5555555555555556,
              "#d8576b"
             ],
             [
              0.6666666666666666,
              "#ed7953"
             ],
             [
              0.7777777777777778,
              "#fb9f3a"
             ],
             [
              0.8888888888888888,
              "#fdca26"
             ],
             [
              1,
              "#f0f921"
             ]
            ],
            "type": "histogram2dcontour"
           }
          ],
          "mesh3d": [
           {
            "colorbar": {
             "outlinewidth": 0,
             "ticks": ""
            },
            "type": "mesh3d"
           }
          ],
          "parcoords": [
           {
            "line": {
             "colorbar": {
              "outlinewidth": 0,
              "ticks": ""
             }
            },
            "type": "parcoords"
           }
          ],
          "scatter": [
           {
            "marker": {
             "colorbar": {
              "outlinewidth": 0,
              "ticks": ""
             }
            },
            "type": "scatter"
           }
          ],
          "scatter3d": [
           {
            "line": {
             "colorbar": {
              "outlinewidth": 0,
              "ticks": ""
             }
            },
            "marker": {
             "colorbar": {
              "outlinewidth": 0,
              "ticks": ""
             }
            },
            "type": "scatter3d"
           }
          ],
          "scattercarpet": [
           {
            "marker": {
             "colorbar": {
              "outlinewidth": 0,
              "ticks": ""
             }
            },
            "type": "scattercarpet"
           }
          ],
          "scattergeo": [
           {
            "marker": {
             "colorbar": {
              "outlinewidth": 0,
              "ticks": ""
             }
            },
            "type": "scattergeo"
           }
          ],
          "scattergl": [
           {
            "marker": {
             "colorbar": {
              "outlinewidth": 0,
              "ticks": ""
             }
            },
            "type": "scattergl"
           }
          ],
          "scattermapbox": [
           {
            "marker": {
             "colorbar": {
              "outlinewidth": 0,
              "ticks": ""
             }
            },
            "type": "scattermapbox"
           }
          ],
          "scatterpolar": [
           {
            "marker": {
             "colorbar": {
              "outlinewidth": 0,
              "ticks": ""
             }
            },
            "type": "scatterpolar"
           }
          ],
          "scatterpolargl": [
           {
            "marker": {
             "colorbar": {
              "outlinewidth": 0,
              "ticks": ""
             }
            },
            "type": "scatterpolargl"
           }
          ],
          "scatterternary": [
           {
            "marker": {
             "colorbar": {
              "outlinewidth": 0,
              "ticks": ""
             }
            },
            "type": "scatterternary"
           }
          ],
          "surface": [
           {
            "colorbar": {
             "outlinewidth": 0,
             "ticks": ""
            },
            "colorscale": [
             [
              0,
              "#0d0887"
             ],
             [
              0.1111111111111111,
              "#46039f"
             ],
             [
              0.2222222222222222,
              "#7201a8"
             ],
             [
              0.3333333333333333,
              "#9c179e"
             ],
             [
              0.4444444444444444,
              "#bd3786"
             ],
             [
              0.5555555555555556,
              "#d8576b"
             ],
             [
              0.6666666666666666,
              "#ed7953"
             ],
             [
              0.7777777777777778,
              "#fb9f3a"
             ],
             [
              0.8888888888888888,
              "#fdca26"
             ],
             [
              1,
              "#f0f921"
             ]
            ],
            "type": "surface"
           }
          ],
          "table": [
           {
            "cells": {
             "fill": {
              "color": "#EBF0F8"
             },
             "line": {
              "color": "white"
             }
            },
            "header": {
             "fill": {
              "color": "#C8D4E3"
             },
             "line": {
              "color": "white"
             }
            },
            "type": "table"
           }
          ]
         },
         "layout": {
          "annotationdefaults": {
           "arrowcolor": "#2a3f5f",
           "arrowhead": 0,
           "arrowwidth": 1
          },
          "colorscale": {
           "diverging": [
            [
             0,
             "#8e0152"
            ],
            [
             0.1,
             "#c51b7d"
            ],
            [
             0.2,
             "#de77ae"
            ],
            [
             0.3,
             "#f1b6da"
            ],
            [
             0.4,
             "#fde0ef"
            ],
            [
             0.5,
             "#f7f7f7"
            ],
            [
             0.6,
             "#e6f5d0"
            ],
            [
             0.7,
             "#b8e186"
            ],
            [
             0.8,
             "#7fbc41"
            ],
            [
             0.9,
             "#4d9221"
            ],
            [
             1,
             "#276419"
            ]
           ],
           "sequential": [
            [
             0,
             "#0d0887"
            ],
            [
             0.1111111111111111,
             "#46039f"
            ],
            [
             0.2222222222222222,
             "#7201a8"
            ],
            [
             0.3333333333333333,
             "#9c179e"
            ],
            [
             0.4444444444444444,
             "#bd3786"
            ],
            [
             0.5555555555555556,
             "#d8576b"
            ],
            [
             0.6666666666666666,
             "#ed7953"
            ],
            [
             0.7777777777777778,
             "#fb9f3a"
            ],
            [
             0.8888888888888888,
             "#fdca26"
            ],
            [
             1,
             "#f0f921"
            ]
           ],
           "sequentialminus": [
            [
             0,
             "#0d0887"
            ],
            [
             0.1111111111111111,
             "#46039f"
            ],
            [
             0.2222222222222222,
             "#7201a8"
            ],
            [
             0.3333333333333333,
             "#9c179e"
            ],
            [
             0.4444444444444444,
             "#bd3786"
            ],
            [
             0.5555555555555556,
             "#d8576b"
            ],
            [
             0.6666666666666666,
             "#ed7953"
            ],
            [
             0.7777777777777778,
             "#fb9f3a"
            ],
            [
             0.8888888888888888,
             "#fdca26"
            ],
            [
             1,
             "#f0f921"
            ]
           ]
          },
          "colorway": [
           "#636efa",
           "#EF553B",
           "#00cc96",
           "#ab63fa",
           "#FFA15A",
           "#19d3f3",
           "#FF6692",
           "#B6E880",
           "#FF97FF",
           "#FECB52"
          ],
          "font": {
           "color": "#2a3f5f"
          },
          "geo": {
           "bgcolor": "white",
           "lakecolor": "white",
           "landcolor": "#E5ECF6",
           "showlakes": true,
           "showland": true,
           "subunitcolor": "white"
          },
          "hoverlabel": {
           "align": "left"
          },
          "hovermode": "closest",
          "mapbox": {
           "style": "light"
          },
          "paper_bgcolor": "white",
          "plot_bgcolor": "#E5ECF6",
          "polar": {
           "angularaxis": {
            "gridcolor": "white",
            "linecolor": "white",
            "ticks": ""
           },
           "bgcolor": "#E5ECF6",
           "radialaxis": {
            "gridcolor": "white",
            "linecolor": "white",
            "ticks": ""
           }
          },
          "scene": {
           "xaxis": {
            "backgroundcolor": "#E5ECF6",
            "gridcolor": "white",
            "gridwidth": 2,
            "linecolor": "white",
            "showbackground": true,
            "ticks": "",
            "zerolinecolor": "white"
           },
           "yaxis": {
            "backgroundcolor": "#E5ECF6",
            "gridcolor": "white",
            "gridwidth": 2,
            "linecolor": "white",
            "showbackground": true,
            "ticks": "",
            "zerolinecolor": "white"
           },
           "zaxis": {
            "backgroundcolor": "#E5ECF6",
            "gridcolor": "white",
            "gridwidth": 2,
            "linecolor": "white",
            "showbackground": true,
            "ticks": "",
            "zerolinecolor": "white"
           }
          },
          "shapedefaults": {
           "line": {
            "color": "#2a3f5f"
           }
          },
          "ternary": {
           "aaxis": {
            "gridcolor": "white",
            "linecolor": "white",
            "ticks": ""
           },
           "baxis": {
            "gridcolor": "white",
            "linecolor": "white",
            "ticks": ""
           },
           "bgcolor": "#E5ECF6",
           "caxis": {
            "gridcolor": "white",
            "linecolor": "white",
            "ticks": ""
           }
          },
          "title": {
           "x": 0.05
          },
          "xaxis": {
           "automargin": true,
           "gridcolor": "white",
           "linecolor": "white",
           "ticks": "",
           "zerolinecolor": "white",
           "zerolinewidth": 2
          },
          "yaxis": {
           "automargin": true,
           "gridcolor": "white",
           "linecolor": "white",
           "ticks": "",
           "zerolinecolor": "white",
           "zerolinewidth": 2
          }
         }
        },
        "xaxis": {
         "anchor": "y",
         "categoryarray": [
          "lunes",
          "martes",
          "miércoles",
          "jueves",
          "viernes",
          "sábado",
          "domingo"
         ],
         "categoryorder": "array",
         "domain": [
          0,
          0.98
         ],
         "title": {
          "text": "Día"
         }
        },
        "yaxis": {
         "anchor": "x",
         "domain": [
          0,
          1
         ],
         "title": {
          "text": "Cantidad"
         }
        }
       }
      },
      "text/html": [
       "<div>\n",
       "        \n",
       "        \n",
       "            <div id=\"6419eb34-aa8a-497b-b6c1-ce488e0f6a8f\" class=\"plotly-graph-div\" style=\"height:600px; width:100%;\"></div>\n",
       "            <script type=\"text/javascript\">\n",
       "                require([\"plotly\"], function(Plotly) {\n",
       "                    window.PLOTLYENV=window.PLOTLYENV || {};\n",
       "                    \n",
       "                if (document.getElementById(\"6419eb34-aa8a-497b-b6c1-ce488e0f6a8f\")) {\n",
       "                    Plotly.newPlot(\n",
       "                        '6419eb34-aa8a-497b-b6c1-ce488e0f6a8f',\n",
       "                        [{\"alignmentgroup\": \"True\", \"hoverlabel\": {\"namelength\": 0}, \"hovertemplate\": \"Grupo=HAMBURGUESAS<br>D\\u00eda=%{x}<br>Cantidad=%{y}\", \"legendgroup\": \"Grupo=HAMBURGUESAS\", \"marker\": {\"color\": \"#636efa\"}, \"name\": \"Grupo=HAMBURGUESAS\", \"offsetgroup\": \"Grupo=HAMBURGUESAS\", \"orientation\": \"v\", \"showlegend\": true, \"textposition\": \"auto\", \"type\": \"bar\", \"x\": [\"viernes\", \"s\\u00e1bado\", \"mi\\u00e9rcoles\", \"martes\", \"lunes\", \"jueves\", \"domingo\"], \"xaxis\": \"x\", \"y\": [2352.0, 2740.0, 1872.0, 1525.0, 1364.0, 1708.0, 2458.0], \"yaxis\": \"y\"}, {\"alignmentgroup\": \"True\", \"hoverlabel\": {\"namelength\": 0}, \"hovertemplate\": \"Grupo=BEBIDAS CON ALCOHOL<br>D\\u00eda=%{x}<br>Cantidad=%{y}\", \"legendgroup\": \"Grupo=BEBIDAS CON ALCOHOL\", \"marker\": {\"color\": \"#EF553B\"}, \"name\": \"Grupo=BEBIDAS CON ALCOHOL\", \"offsetgroup\": \"Grupo=BEBIDAS CON ALCOHOL\", \"orientation\": \"v\", \"showlegend\": true, \"textposition\": \"auto\", \"type\": \"bar\", \"x\": [\"viernes\", \"s\\u00e1bado\", \"mi\\u00e9rcoles\", \"martes\", \"lunes\", \"jueves\", \"domingo\"], \"xaxis\": \"x\", \"y\": [1252.0, 1341.0, 1018.0, 704.0, 637.0, 958.0, 1126.0], \"yaxis\": \"y\"}, {\"alignmentgroup\": \"True\", \"hoverlabel\": {\"namelength\": 0}, \"hovertemplate\": \"Grupo=B\\u00c1SICOS<br>D\\u00eda=%{x}<br>Cantidad=%{y}\", \"legendgroup\": \"Grupo=B\\u00c1SICOS\", \"marker\": {\"color\": \"#00cc96\"}, \"name\": \"Grupo=B\\u00c1SICOS\", \"offsetgroup\": \"Grupo=B\\u00c1SICOS\", \"orientation\": \"v\", \"showlegend\": true, \"textposition\": \"auto\", \"type\": \"bar\", \"x\": [\"viernes\", \"s\\u00e1bado\", \"mi\\u00e9rcoles\", \"martes\", \"lunes\", \"jueves\", \"domingo\"], \"xaxis\": \"x\", \"y\": [1020.0, 1157.0, 904.0, 759.0, 662.0, 768.0, 1097.0], \"yaxis\": \"y\"}, {\"alignmentgroup\": \"True\", \"hoverlabel\": {\"namelength\": 0}, \"hovertemplate\": \"Grupo=CL\\u00c1SICOS<br>D\\u00eda=%{x}<br>Cantidad=%{y}\", \"legendgroup\": \"Grupo=CL\\u00c1SICOS\", \"marker\": {\"color\": \"#ab63fa\"}, \"name\": \"Grupo=CL\\u00c1SICOS\", \"offsetgroup\": \"Grupo=CL\\u00c1SICOS\", \"orientation\": \"v\", \"showlegend\": true, \"textposition\": \"auto\", \"type\": \"bar\", \"x\": [\"viernes\", \"s\\u00e1bado\", \"mi\\u00e9rcoles\", \"martes\", \"lunes\", \"jueves\", \"domingo\"], \"xaxis\": \"x\", \"y\": [964.0, 1127.0, 914.0, 699.0, 549.0, 757.0, 1001.0], \"yaxis\": \"y\"}, {\"alignmentgroup\": \"True\", \"hoverlabel\": {\"namelength\": 0}, \"hovertemplate\": \"Grupo=BEBIDAS SIN ALCOHOL<br>D\\u00eda=%{x}<br>Cantidad=%{y}\", \"legendgroup\": \"Grupo=BEBIDAS SIN ALCOHOL\", \"marker\": {\"color\": \"#FFA15A\"}, \"name\": \"Grupo=BEBIDAS SIN ALCOHOL\", \"offsetgroup\": \"Grupo=BEBIDAS SIN ALCOHOL\", \"orientation\": \"v\", \"showlegend\": true, \"textposition\": \"auto\", \"type\": \"bar\", \"x\": [\"viernes\", \"s\\u00e1bado\", \"mi\\u00e9rcoles\", \"martes\", \"lunes\", \"jueves\", \"domingo\"], \"xaxis\": \"x\", \"y\": [807.0, 908.0, 679.0, 536.0, 387.0, 592.0, 767.0], \"yaxis\": \"y\"}, {\"alignmentgroup\": \"True\", \"hoverlabel\": {\"namelength\": 0}, \"hovertemplate\": \"Grupo=ENTRADAS<br>D\\u00eda=%{x}<br>Cantidad=%{y}\", \"legendgroup\": \"Grupo=ENTRADAS\", \"marker\": {\"color\": \"#19d3f3\"}, \"name\": \"Grupo=ENTRADAS\", \"offsetgroup\": \"Grupo=ENTRADAS\", \"orientation\": \"v\", \"showlegend\": true, \"textposition\": \"auto\", \"type\": \"bar\", \"x\": [\"viernes\", \"s\\u00e1bado\", \"mi\\u00e9rcoles\", \"martes\", \"lunes\", \"jueves\", \"domingo\"], \"xaxis\": \"x\", \"y\": [189.0, 179.0, 132.0, 90.0, 98.0, 120.0, 169.0], \"yaxis\": \"y\"}, {\"alignmentgroup\": \"True\", \"hoverlabel\": {\"namelength\": 0}, \"hovertemplate\": \"Grupo=POSTRES<br>D\\u00eda=%{x}<br>Cantidad=%{y}\", \"legendgroup\": \"Grupo=POSTRES\", \"marker\": {\"color\": \"#FF6692\"}, \"name\": \"Grupo=POSTRES\", \"offsetgroup\": \"Grupo=POSTRES\", \"orientation\": \"v\", \"showlegend\": true, \"textposition\": \"auto\", \"type\": \"bar\", \"x\": [\"viernes\", \"s\\u00e1bado\", \"mi\\u00e9rcoles\", \"martes\", \"lunes\", \"jueves\", \"domingo\"], \"xaxis\": \"x\", \"y\": [102.0, 73.0, 127.0, 104.0, 89.0, 86.0, 86.0], \"yaxis\": \"y\"}, {\"alignmentgroup\": \"True\", \"hoverlabel\": {\"namelength\": 0}, \"hovertemplate\": \"Grupo=SANDWICHES<br>D\\u00eda=%{x}<br>Cantidad=%{y}\", \"legendgroup\": \"Grupo=SANDWICHES\", \"marker\": {\"color\": \"#B6E880\"}, \"name\": \"Grupo=SANDWICHES\", \"offsetgroup\": \"Grupo=SANDWICHES\", \"orientation\": \"v\", \"showlegend\": true, \"textposition\": \"auto\", \"type\": \"bar\", \"x\": [\"viernes\", \"s\\u00e1bado\", \"mi\\u00e9rcoles\", \"martes\", \"lunes\", \"jueves\", \"domingo\"], \"xaxis\": \"x\", \"y\": [102.0, 102.0, 99.0, 85.0, 71.0, 78.0, 113.0], \"yaxis\": \"y\"}, {\"alignmentgroup\": \"True\", \"hoverlabel\": {\"namelength\": 0}, \"hovertemplate\": \"Grupo=ENSALADAS<br>D\\u00eda=%{x}<br>Cantidad=%{y}\", \"legendgroup\": \"Grupo=ENSALADAS\", \"marker\": {\"color\": \"#FF97FF\"}, \"name\": \"Grupo=ENSALADAS\", \"offsetgroup\": \"Grupo=ENSALADAS\", \"orientation\": \"v\", \"showlegend\": true, \"textposition\": \"auto\", \"type\": \"bar\", \"x\": [\"viernes\", \"s\\u00e1bado\", \"mi\\u00e9rcoles\", \"martes\", \"lunes\", \"jueves\", \"domingo\"], \"xaxis\": \"x\", \"y\": [100.0, 65.0, 90.0, 74.0, 72.0, 79.0, 88.0], \"yaxis\": \"y\"}, {\"alignmentgroup\": \"True\", \"hoverlabel\": {\"namelength\": 0}, \"hovertemplate\": \"Grupo=EXTRAS COCINA<br>D\\u00eda=%{x}<br>Cantidad=%{y}\", \"legendgroup\": \"Grupo=EXTRAS COCINA\", \"marker\": {\"color\": \"#FECB52\"}, \"name\": \"Grupo=EXTRAS COCINA\", \"offsetgroup\": \"Grupo=EXTRAS COCINA\", \"orientation\": \"v\", \"showlegend\": true, \"textposition\": \"auto\", \"type\": \"bar\", \"x\": [\"viernes\", \"s\\u00e1bado\", \"mi\\u00e9rcoles\", \"martes\", \"lunes\", \"jueves\", \"domingo\"], \"xaxis\": \"x\", \"y\": [98.0, 109.0, 86.0, 79.0, 84.0, 97.0, 91.0], \"yaxis\": \"y\"}, {\"alignmentgroup\": \"True\", \"hoverlabel\": {\"namelength\": 0}, \"hovertemplate\": \"Grupo=PAPAS, PAPAS Y M\\u00c1S PAPAS<br>D\\u00eda=%{x}<br>Cantidad=%{y}\", \"legendgroup\": \"Grupo=PAPAS, PAPAS Y M\\u00c1S PAPAS\", \"marker\": {\"color\": \"#636efa\"}, \"name\": \"Grupo=PAPAS, PAPAS Y M\\u00c1S PAPAS\", \"offsetgroup\": \"Grupo=PAPAS, PAPAS Y M\\u00c1S PAPAS\", \"orientation\": \"v\", \"showlegend\": true, \"textposition\": \"auto\", \"type\": \"bar\", \"x\": [\"viernes\", \"s\\u00e1bado\", \"mi\\u00e9rcoles\", \"martes\", \"lunes\", \"jueves\", \"domingo\"], \"xaxis\": \"x\", \"y\": [85.0, 100.0, 75.0, 50.0, 54.0, 70.0, 82.0], \"yaxis\": \"y\"}, {\"alignmentgroup\": \"True\", \"hoverlabel\": {\"namelength\": 0}, \"hovertemplate\": \"Grupo=PASTAS<br>D\\u00eda=%{x}<br>Cantidad=%{y}\", \"legendgroup\": \"Grupo=PASTAS\", \"marker\": {\"color\": \"#EF553B\"}, \"name\": \"Grupo=PASTAS\", \"offsetgroup\": \"Grupo=PASTAS\", \"orientation\": \"v\", \"showlegend\": true, \"textposition\": \"auto\", \"type\": \"bar\", \"x\": [\"viernes\", \"s\\u00e1bado\", \"mi\\u00e9rcoles\", \"martes\", \"lunes\", \"jueves\", \"domingo\"], \"xaxis\": \"x\", \"y\": [53.0, 48.0, 59.0, 42.0, 34.0, 47.0, 55.0], \"yaxis\": \"y\"}, {\"alignmentgroup\": \"True\", \"hoverlabel\": {\"namelength\": 0}, \"hovertemplate\": \"Grupo=BEBIDAS<br>D\\u00eda=%{x}<br>Cantidad=%{y}\", \"legendgroup\": \"Grupo=BEBIDAS\", \"marker\": {\"color\": \"#00cc96\"}, \"name\": \"Grupo=BEBIDAS\", \"offsetgroup\": \"Grupo=BEBIDAS\", \"orientation\": \"v\", \"showlegend\": true, \"textposition\": \"auto\", \"type\": \"bar\", \"x\": [\"viernes\", \"s\\u00e1bado\", \"mi\\u00e9rcoles\", \"martes\", \"lunes\", \"jueves\", \"domingo\"], \"xaxis\": \"x\", \"y\": [42.0, 60.0, 43.0, 22.0, 29.0, 32.0, 40.0], \"yaxis\": \"y\"}, {\"alignmentgroup\": \"True\", \"hoverlabel\": {\"namelength\": 0}, \"hovertemplate\": \"Grupo=DESTILADOS<br>D\\u00eda=%{x}<br>Cantidad=%{y}\", \"legendgroup\": \"Grupo=DESTILADOS\", \"marker\": {\"color\": \"#ab63fa\"}, \"name\": \"Grupo=DESTILADOS\", \"offsetgroup\": \"Grupo=DESTILADOS\", \"orientation\": \"v\", \"showlegend\": true, \"textposition\": \"auto\", \"type\": \"bar\", \"x\": [\"viernes\", \"s\\u00e1bado\", \"mi\\u00e9rcoles\", \"martes\", \"lunes\", \"jueves\", \"domingo\"], \"xaxis\": \"x\", \"y\": [25.0, 15.0, 24.0, 26.0, 14.0, 35.0, 23.0], \"yaxis\": \"y\"}, {\"alignmentgroup\": \"True\", \"hoverlabel\": {\"namelength\": 0}, \"hovertemplate\": \"Grupo=BEBIDAS S\\u00daPER<br>D\\u00eda=%{x}<br>Cantidad=%{y}\", \"legendgroup\": \"Grupo=BEBIDAS S\\u00daPER\", \"marker\": {\"color\": \"#FFA15A\"}, \"name\": \"Grupo=BEBIDAS S\\u00daPER\", \"offsetgroup\": \"Grupo=BEBIDAS S\\u00daPER\", \"orientation\": \"v\", \"showlegend\": true, \"textposition\": \"auto\", \"type\": \"bar\", \"x\": [\"viernes\", \"s\\u00e1bado\", \"mi\\u00e9rcoles\", \"martes\", \"lunes\", \"jueves\", \"domingo\"], \"xaxis\": \"x\", \"y\": [11.0, 12.0, 12.0, 6.0, 8.0, 15.0, 11.0], \"yaxis\": \"y\"}, {\"alignmentgroup\": \"True\", \"hoverlabel\": {\"namelength\": 0}, \"hovertemplate\": \"Grupo=EXTRAS BARRA<br>D\\u00eda=%{x}<br>Cantidad=%{y}\", \"legendgroup\": \"Grupo=EXTRAS BARRA\", \"marker\": {\"color\": \"#19d3f3\"}, \"name\": \"Grupo=EXTRAS BARRA\", \"offsetgroup\": \"Grupo=EXTRAS BARRA\", \"orientation\": \"v\", \"showlegend\": true, \"textposition\": \"auto\", \"type\": \"bar\", \"x\": [\"viernes\", \"s\\u00e1bado\", \"mi\\u00e9rcoles\", \"martes\", \"lunes\", \"jueves\", \"domingo\"], \"xaxis\": \"x\", \"y\": [7.0, 2.0, 2.0, 3.0, 1.0, 3.0, 5.0], \"yaxis\": \"y\"}],\n",
       "                        {\"barmode\": \"relative\", \"height\": 600, \"legend\": {\"tracegroupgap\": 0}, \"margin\": {\"t\": 60}, \"template\": {\"data\": {\"bar\": [{\"error_x\": {\"color\": \"#2a3f5f\"}, \"error_y\": {\"color\": \"#2a3f5f\"}, \"marker\": {\"line\": {\"color\": \"#E5ECF6\", \"width\": 0.5}}, \"type\": \"bar\"}], \"barpolar\": [{\"marker\": {\"line\": {\"color\": \"#E5ECF6\", \"width\": 0.5}}, \"type\": \"barpolar\"}], \"carpet\": [{\"aaxis\": {\"endlinecolor\": \"#2a3f5f\", \"gridcolor\": \"white\", \"linecolor\": \"white\", \"minorgridcolor\": \"white\", \"startlinecolor\": \"#2a3f5f\"}, \"baxis\": {\"endlinecolor\": \"#2a3f5f\", \"gridcolor\": \"white\", \"linecolor\": \"white\", \"minorgridcolor\": \"white\", \"startlinecolor\": \"#2a3f5f\"}, \"type\": \"carpet\"}], \"choropleth\": [{\"colorbar\": {\"outlinewidth\": 0, \"ticks\": \"\"}, \"type\": \"choropleth\"}], \"contour\": [{\"colorbar\": {\"outlinewidth\": 0, \"ticks\": \"\"}, \"colorscale\": [[0.0, \"#0d0887\"], [0.1111111111111111, \"#46039f\"], [0.2222222222222222, \"#7201a8\"], [0.3333333333333333, \"#9c179e\"], [0.4444444444444444, \"#bd3786\"], [0.5555555555555556, \"#d8576b\"], [0.6666666666666666, \"#ed7953\"], [0.7777777777777778, \"#fb9f3a\"], [0.8888888888888888, \"#fdca26\"], [1.0, \"#f0f921\"]], \"type\": \"contour\"}], \"contourcarpet\": [{\"colorbar\": {\"outlinewidth\": 0, \"ticks\": \"\"}, \"type\": \"contourcarpet\"}], \"heatmap\": [{\"colorbar\": {\"outlinewidth\": 0, \"ticks\": \"\"}, \"colorscale\": [[0.0, \"#0d0887\"], [0.1111111111111111, \"#46039f\"], [0.2222222222222222, \"#7201a8\"], [0.3333333333333333, \"#9c179e\"], [0.4444444444444444, \"#bd3786\"], [0.5555555555555556, \"#d8576b\"], [0.6666666666666666, \"#ed7953\"], [0.7777777777777778, \"#fb9f3a\"], [0.8888888888888888, \"#fdca26\"], [1.0, \"#f0f921\"]], \"type\": \"heatmap\"}], \"heatmapgl\": [{\"colorbar\": {\"outlinewidth\": 0, \"ticks\": \"\"}, \"colorscale\": [[0.0, \"#0d0887\"], [0.1111111111111111, \"#46039f\"], [0.2222222222222222, \"#7201a8\"], [0.3333333333333333, \"#9c179e\"], [0.4444444444444444, \"#bd3786\"], [0.5555555555555556, \"#d8576b\"], [0.6666666666666666, \"#ed7953\"], [0.7777777777777778, \"#fb9f3a\"], [0.8888888888888888, \"#fdca26\"], [1.0, \"#f0f921\"]], \"type\": \"heatmapgl\"}], \"histogram\": [{\"marker\": {\"colorbar\": {\"outlinewidth\": 0, \"ticks\": \"\"}}, \"type\": \"histogram\"}], \"histogram2d\": [{\"colorbar\": {\"outlinewidth\": 0, \"ticks\": \"\"}, \"colorscale\": [[0.0, \"#0d0887\"], [0.1111111111111111, \"#46039f\"], [0.2222222222222222, \"#7201a8\"], [0.3333333333333333, \"#9c179e\"], [0.4444444444444444, \"#bd3786\"], [0.5555555555555556, \"#d8576b\"], [0.6666666666666666, \"#ed7953\"], [0.7777777777777778, \"#fb9f3a\"], [0.8888888888888888, \"#fdca26\"], [1.0, \"#f0f921\"]], \"type\": \"histogram2d\"}], \"histogram2dcontour\": [{\"colorbar\": {\"outlinewidth\": 0, \"ticks\": \"\"}, \"colorscale\": [[0.0, \"#0d0887\"], [0.1111111111111111, \"#46039f\"], [0.2222222222222222, \"#7201a8\"], [0.3333333333333333, \"#9c179e\"], [0.4444444444444444, \"#bd3786\"], [0.5555555555555556, \"#d8576b\"], [0.6666666666666666, \"#ed7953\"], [0.7777777777777778, \"#fb9f3a\"], [0.8888888888888888, \"#fdca26\"], [1.0, \"#f0f921\"]], \"type\": \"histogram2dcontour\"}], \"mesh3d\": [{\"colorbar\": {\"outlinewidth\": 0, \"ticks\": \"\"}, \"type\": \"mesh3d\"}], \"parcoords\": [{\"line\": {\"colorbar\": {\"outlinewidth\": 0, \"ticks\": \"\"}}, \"type\": \"parcoords\"}], \"scatter\": [{\"marker\": {\"colorbar\": {\"outlinewidth\": 0, \"ticks\": \"\"}}, \"type\": \"scatter\"}], \"scatter3d\": [{\"line\": {\"colorbar\": {\"outlinewidth\": 0, \"ticks\": \"\"}}, \"marker\": {\"colorbar\": {\"outlinewidth\": 0, \"ticks\": \"\"}}, \"type\": \"scatter3d\"}], \"scattercarpet\": [{\"marker\": {\"colorbar\": {\"outlinewidth\": 0, \"ticks\": \"\"}}, \"type\": \"scattercarpet\"}], \"scattergeo\": [{\"marker\": {\"colorbar\": {\"outlinewidth\": 0, \"ticks\": \"\"}}, \"type\": \"scattergeo\"}], \"scattergl\": [{\"marker\": {\"colorbar\": {\"outlinewidth\": 0, \"ticks\": \"\"}}, \"type\": \"scattergl\"}], \"scattermapbox\": [{\"marker\": {\"colorbar\": {\"outlinewidth\": 0, \"ticks\": \"\"}}, \"type\": \"scattermapbox\"}], \"scatterpolar\": [{\"marker\": {\"colorbar\": {\"outlinewidth\": 0, \"ticks\": \"\"}}, \"type\": \"scatterpolar\"}], \"scatterpolargl\": [{\"marker\": {\"colorbar\": {\"outlinewidth\": 0, \"ticks\": \"\"}}, \"type\": \"scatterpolargl\"}], \"scatterternary\": [{\"marker\": {\"colorbar\": {\"outlinewidth\": 0, \"ticks\": \"\"}}, \"type\": \"scatterternary\"}], \"surface\": [{\"colorbar\": {\"outlinewidth\": 0, \"ticks\": \"\"}, \"colorscale\": [[0.0, \"#0d0887\"], [0.1111111111111111, \"#46039f\"], [0.2222222222222222, \"#7201a8\"], [0.3333333333333333, \"#9c179e\"], [0.4444444444444444, \"#bd3786\"], [0.5555555555555556, \"#d8576b\"], [0.6666666666666666, \"#ed7953\"], [0.7777777777777778, \"#fb9f3a\"], [0.8888888888888888, \"#fdca26\"], [1.0, \"#f0f921\"]], \"type\": \"surface\"}], \"table\": [{\"cells\": {\"fill\": {\"color\": \"#EBF0F8\"}, \"line\": {\"color\": \"white\"}}, \"header\": {\"fill\": {\"color\": \"#C8D4E3\"}, \"line\": {\"color\": \"white\"}}, \"type\": \"table\"}]}, \"layout\": {\"annotationdefaults\": {\"arrowcolor\": \"#2a3f5f\", \"arrowhead\": 0, \"arrowwidth\": 1}, \"colorscale\": {\"diverging\": [[0, \"#8e0152\"], [0.1, \"#c51b7d\"], [0.2, \"#de77ae\"], [0.3, \"#f1b6da\"], [0.4, \"#fde0ef\"], [0.5, \"#f7f7f7\"], [0.6, \"#e6f5d0\"], [0.7, \"#b8e186\"], [0.8, \"#7fbc41\"], [0.9, \"#4d9221\"], [1, \"#276419\"]], \"sequential\": [[0.0, \"#0d0887\"], [0.1111111111111111, \"#46039f\"], [0.2222222222222222, \"#7201a8\"], [0.3333333333333333, \"#9c179e\"], [0.4444444444444444, \"#bd3786\"], [0.5555555555555556, \"#d8576b\"], [0.6666666666666666, \"#ed7953\"], [0.7777777777777778, \"#fb9f3a\"], [0.8888888888888888, \"#fdca26\"], [1.0, \"#f0f921\"]], \"sequentialminus\": [[0.0, \"#0d0887\"], [0.1111111111111111, \"#46039f\"], [0.2222222222222222, \"#7201a8\"], [0.3333333333333333, \"#9c179e\"], [0.4444444444444444, \"#bd3786\"], [0.5555555555555556, \"#d8576b\"], [0.6666666666666666, \"#ed7953\"], [0.7777777777777778, \"#fb9f3a\"], [0.8888888888888888, \"#fdca26\"], [1.0, \"#f0f921\"]]}, \"colorway\": [\"#636efa\", \"#EF553B\", \"#00cc96\", \"#ab63fa\", \"#FFA15A\", \"#19d3f3\", \"#FF6692\", \"#B6E880\", \"#FF97FF\", \"#FECB52\"], \"font\": {\"color\": \"#2a3f5f\"}, \"geo\": {\"bgcolor\": \"white\", \"lakecolor\": \"white\", \"landcolor\": \"#E5ECF6\", \"showlakes\": true, \"showland\": true, \"subunitcolor\": \"white\"}, \"hoverlabel\": {\"align\": \"left\"}, \"hovermode\": \"closest\", \"mapbox\": {\"style\": \"light\"}, \"paper_bgcolor\": \"white\", \"plot_bgcolor\": \"#E5ECF6\", \"polar\": {\"angularaxis\": {\"gridcolor\": \"white\", \"linecolor\": \"white\", \"ticks\": \"\"}, \"bgcolor\": \"#E5ECF6\", \"radialaxis\": {\"gridcolor\": \"white\", \"linecolor\": \"white\", \"ticks\": \"\"}}, \"scene\": {\"xaxis\": {\"backgroundcolor\": \"#E5ECF6\", \"gridcolor\": \"white\", \"gridwidth\": 2, \"linecolor\": \"white\", \"showbackground\": true, \"ticks\": \"\", \"zerolinecolor\": \"white\"}, \"yaxis\": {\"backgroundcolor\": \"#E5ECF6\", \"gridcolor\": \"white\", \"gridwidth\": 2, \"linecolor\": \"white\", \"showbackground\": true, \"ticks\": \"\", \"zerolinecolor\": \"white\"}, \"zaxis\": {\"backgroundcolor\": \"#E5ECF6\", \"gridcolor\": \"white\", \"gridwidth\": 2, \"linecolor\": \"white\", \"showbackground\": true, \"ticks\": \"\", \"zerolinecolor\": \"white\"}}, \"shapedefaults\": {\"line\": {\"color\": \"#2a3f5f\"}}, \"ternary\": {\"aaxis\": {\"gridcolor\": \"white\", \"linecolor\": \"white\", \"ticks\": \"\"}, \"baxis\": {\"gridcolor\": \"white\", \"linecolor\": \"white\", \"ticks\": \"\"}, \"bgcolor\": \"#E5ECF6\", \"caxis\": {\"gridcolor\": \"white\", \"linecolor\": \"white\", \"ticks\": \"\"}}, \"title\": {\"x\": 0.05}, \"xaxis\": {\"automargin\": true, \"gridcolor\": \"white\", \"linecolor\": \"white\", \"ticks\": \"\", \"zerolinecolor\": \"white\", \"zerolinewidth\": 2}, \"yaxis\": {\"automargin\": true, \"gridcolor\": \"white\", \"linecolor\": \"white\", \"ticks\": \"\", \"zerolinecolor\": \"white\", \"zerolinewidth\": 2}}}, \"xaxis\": {\"anchor\": \"y\", \"categoryarray\": [\"lunes\", \"martes\", \"mi\\u00e9rcoles\", \"jueves\", \"viernes\", \"s\\u00e1bado\", \"domingo\"], \"categoryorder\": \"array\", \"domain\": [0.0, 0.98], \"title\": {\"text\": \"D\\u00eda\"}}, \"yaxis\": {\"anchor\": \"x\", \"domain\": [0.0, 1.0], \"title\": {\"text\": \"Cantidad\"}}},\n",
       "                        {\"responsive\": true}\n",
       "                    ).then(function(){\n",
       "                            \n",
       "var gd = document.getElementById('6419eb34-aa8a-497b-b6c1-ce488e0f6a8f');\n",
       "var x = new MutationObserver(function (mutations, observer) {{\n",
       "        var display = window.getComputedStyle(gd).display;\n",
       "        if (!display || display === 'none') {{\n",
       "            console.log([gd, 'removed!']);\n",
       "            Plotly.purge(gd);\n",
       "            observer.disconnect();\n",
       "        }}\n",
       "}});\n",
       "\n",
       "// Listen for the removal of the full notebook cells\n",
       "var notebookContainer = gd.closest('#notebook-container');\n",
       "if (notebookContainer) {{\n",
       "    x.observe(notebookContainer, {childList: true});\n",
       "}}\n",
       "\n",
       "// Listen for the clearing of the current output cell\n",
       "var outputEl = gd.closest('.output');\n",
       "if (outputEl) {{\n",
       "    x.observe(outputEl, {childList: true});\n",
       "}}\n",
       "\n",
       "                        })\n",
       "                };\n",
       "                });\n",
       "            </script>\n",
       "        </div>"
      ]
     },
     "metadata": {},
     "output_type": "display_data"
    }
   ],
   "source": [
    "data_stacked = data.groupby(['Día', 'Grupo'])['Cantidad'].sum().reset_index().sort_values(['Día','Cantidad'],ascending=False)\n",
    "fig = pyx.bar(data_stacked, x='Día', y='Cantidad', color='Grupo', category_orders = {\n",
    "    'Día' : ['lunes', 'martes', 'miércoles', 'jueves', 'viernes', 'sábado', 'domingo' ]\n",
    "})\n",
    "fig.show()"
   ]
  },
  {
   "cell_type": "code",
   "execution_count": 132,
   "metadata": {},
   "outputs": [
    {
     "data": {
      "application/vnd.plotly.v1+json": {
       "config": {
        "plotlyServerURL": "https://plot.ly"
       },
       "data": [
        {
         "alignmentgroup": "True",
         "hoverlabel": {
          "namelength": 0
         },
         "hovertemplate": "Clave platillo=mcla9006<br>Grupo=%{x}<br>Cantidad=%{y}",
         "legendgroup": "Clave platillo=mcla9006",
         "marker": {
          "color": "#636efa"
         },
         "name": "Clave platillo=mcla9006",
         "offsetgroup": "Clave platillo=mcla9006",
         "orientation": "v",
         "showlegend": true,
         "textposition": "auto",
         "type": "bar",
         "x": [
          "CLÁSICOS"
         ],
         "xaxis": "x",
         "y": [
          8
         ],
         "yaxis": "y"
        },
        {
         "alignmentgroup": "True",
         "hoverlabel": {
          "namelength": 0
         },
         "hovertemplate": "Clave platillo=mcl90009<br>Grupo=%{x}<br>Cantidad=%{y}",
         "legendgroup": "Clave platillo=mcl90009",
         "marker": {
          "color": "#EF553B"
         },
         "name": "Clave platillo=mcl90009",
         "offsetgroup": "Clave platillo=mcl90009",
         "orientation": "v",
         "showlegend": true,
         "textposition": "auto",
         "type": "bar",
         "x": [
          "CLÁSICOS"
         ],
         "xaxis": "x",
         "y": [
          1
         ],
         "yaxis": "y"
        },
        {
         "alignmentgroup": "True",
         "hoverlabel": {
          "namelength": 0
         },
         "hovertemplate": "Clave platillo=mcl90005<br>Grupo=%{x}<br>Cantidad=%{y}",
         "legendgroup": "Clave platillo=mcl90005",
         "marker": {
          "color": "#00cc96"
         },
         "name": "Clave platillo=mcl90005",
         "offsetgroup": "Clave platillo=mcl90005",
         "orientation": "v",
         "showlegend": true,
         "textposition": "auto",
         "type": "bar",
         "x": [
          "CLÁSICOS"
         ],
         "xaxis": "x",
         "y": [
          1
         ],
         "yaxis": "y"
        },
        {
         "alignmentgroup": "True",
         "hoverlabel": {
          "namelength": 0
         },
         "hovertemplate": "Clave platillo=mcl90004<br>Grupo=%{x}<br>Cantidad=%{y}",
         "legendgroup": "Clave platillo=mcl90004",
         "marker": {
          "color": "#ab63fa"
         },
         "name": "Clave platillo=mcl90004",
         "offsetgroup": "Clave platillo=mcl90004",
         "orientation": "v",
         "showlegend": true,
         "textposition": "auto",
         "type": "bar",
         "x": [
          "CLÁSICOS"
         ],
         "xaxis": "x",
         "y": [
          6
         ],
         "yaxis": "y"
        },
        {
         "alignmentgroup": "True",
         "hoverlabel": {
          "namelength": 0
         },
         "hovertemplate": "Clave platillo=bebi03<br>Grupo=%{x}<br>Cantidad=%{y}",
         "legendgroup": "Clave platillo=bebi03",
         "marker": {
          "color": "#FFA15A"
         },
         "name": "Clave platillo=bebi03",
         "offsetgroup": "Clave platillo=bebi03",
         "orientation": "v",
         "showlegend": true,
         "textposition": "auto",
         "type": "bar",
         "x": [
          "BEBIDAS CON ALCOHOL"
         ],
         "xaxis": "x",
         "y": [
          75
         ],
         "yaxis": "y"
        },
        {
         "alignmentgroup": "True",
         "hoverlabel": {
          "namelength": 0
         },
         "hovertemplate": "Clave platillo=bebi02<br>Grupo=%{x}<br>Cantidad=%{y}",
         "legendgroup": "Clave platillo=bebi02",
         "marker": {
          "color": "#19d3f3"
         },
         "name": "Clave platillo=bebi02",
         "offsetgroup": "Clave platillo=bebi02",
         "orientation": "v",
         "showlegend": true,
         "textposition": "auto",
         "type": "bar",
         "x": [
          "BEBIDAS CON ALCOHOL"
         ],
         "xaxis": "x",
         "y": [
          35
         ],
         "yaxis": "y"
        },
        {
         "alignmentgroup": "True",
         "hoverlabel": {
          "namelength": 0
         },
         "hovertemplate": "Clave platillo=bebi01<br>Grupo=%{x}<br>Cantidad=%{y}",
         "legendgroup": "Clave platillo=bebi01",
         "marker": {
          "color": "#FF6692"
         },
         "name": "Clave platillo=bebi01",
         "offsetgroup": "Clave platillo=bebi01",
         "orientation": "v",
         "showlegend": true,
         "textposition": "auto",
         "type": "bar",
         "x": [
          "BEBIDAS CON ALCOHOL"
         ],
         "xaxis": "x",
         "y": [
          26
         ],
         "yaxis": "y"
        },
        {
         "alignmentgroup": "True",
         "hoverlabel": {
          "namelength": 0
         },
         "hovertemplate": "Clave platillo=bebi006<br>Grupo=%{x}<br>Cantidad=%{y}",
         "legendgroup": "Clave platillo=bebi006",
         "marker": {
          "color": "#B6E880"
         },
         "name": "Clave platillo=bebi006",
         "offsetgroup": "Clave platillo=bebi006",
         "orientation": "v",
         "showlegend": true,
         "textposition": "auto",
         "type": "bar",
         "x": [
          "BEBIDAS CON ALCOHOL"
         ],
         "xaxis": "x",
         "y": [
          55
         ],
         "yaxis": "y"
        },
        {
         "alignmentgroup": "True",
         "hoverlabel": {
          "namelength": 0
         },
         "hovertemplate": "Clave platillo=bebi005<br>Grupo=%{x}<br>Cantidad=%{y}",
         "legendgroup": "Clave platillo=bebi005",
         "marker": {
          "color": "#FF97FF"
         },
         "name": "Clave platillo=bebi005",
         "offsetgroup": "Clave platillo=bebi005",
         "orientation": "v",
         "showlegend": true,
         "textposition": "auto",
         "type": "bar",
         "x": [
          "BEBIDAS CON ALCOHOL"
         ],
         "xaxis": "x",
         "y": [
          11
         ],
         "yaxis": "y"
        },
        {
         "alignmentgroup": "True",
         "hoverlabel": {
          "namelength": 0
         },
         "hovertemplate": "Clave platillo=bebi004<br>Grupo=%{x}<br>Cantidad=%{y}",
         "legendgroup": "Clave platillo=bebi004",
         "marker": {
          "color": "#FECB52"
         },
         "name": "Clave platillo=bebi004",
         "offsetgroup": "Clave platillo=bebi004",
         "orientation": "v",
         "showlegend": true,
         "textposition": "auto",
         "type": "bar",
         "x": [
          "BEBIDAS CON ALCOHOL"
         ],
         "xaxis": "x",
         "y": [
          55
         ],
         "yaxis": "y"
        },
        {
         "alignmentgroup": "True",
         "hoverlabel": {
          "namelength": 0
         },
         "hovertemplate": "Clave platillo=bas15<br>Grupo=%{x}<br>Cantidad=%{y}",
         "legendgroup": "Clave platillo=bas15",
         "marker": {
          "color": "#636efa"
         },
         "name": "Clave platillo=bas15",
         "offsetgroup": "Clave platillo=bas15",
         "orientation": "v",
         "showlegend": true,
         "textposition": "auto",
         "type": "bar",
         "x": [
          "BÁSICOS"
         ],
         "xaxis": "x",
         "y": [
          96
         ],
         "yaxis": "y"
        },
        {
         "alignmentgroup": "True",
         "hoverlabel": {
          "namelength": 0
         },
         "hovertemplate": "Clave platillo=SAN4<br>Grupo=%{x}<br>Cantidad=%{y}",
         "legendgroup": "Clave platillo=SAN4",
         "marker": {
          "color": "#EF553B"
         },
         "name": "Clave platillo=SAN4",
         "offsetgroup": "Clave platillo=SAN4",
         "orientation": "v",
         "showlegend": true,
         "textposition": "auto",
         "type": "bar",
         "x": [
          "SANDWICHES"
         ],
         "xaxis": "x",
         "y": [
          107
         ],
         "yaxis": "y"
        },
        {
         "alignmentgroup": "True",
         "hoverlabel": {
          "namelength": 0
         },
         "hovertemplate": "Clave platillo=SAN3<br>Grupo=%{x}<br>Cantidad=%{y}",
         "legendgroup": "Clave platillo=SAN3",
         "marker": {
          "color": "#00cc96"
         },
         "name": "Clave platillo=SAN3",
         "offsetgroup": "Clave platillo=SAN3",
         "orientation": "v",
         "showlegend": true,
         "textposition": "auto",
         "type": "bar",
         "x": [
          "SANDWICHES"
         ],
         "xaxis": "x",
         "y": [
          179
         ],
         "yaxis": "y"
        },
        {
         "alignmentgroup": "True",
         "hoverlabel": {
          "namelength": 0
         },
         "hovertemplate": "Clave platillo=SAN2<br>Grupo=%{x}<br>Cantidad=%{y}",
         "legendgroup": "Clave platillo=SAN2",
         "marker": {
          "color": "#ab63fa"
         },
         "name": "Clave platillo=SAN2",
         "offsetgroup": "Clave platillo=SAN2",
         "orientation": "v",
         "showlegend": true,
         "textposition": "auto",
         "type": "bar",
         "x": [
          "SANDWICHES"
         ],
         "xaxis": "x",
         "y": [
          154
         ],
         "yaxis": "y"
        },
        {
         "alignmentgroup": "True",
         "hoverlabel": {
          "namelength": 0
         },
         "hovertemplate": "Clave platillo=SAN1<br>Grupo=%{x}<br>Cantidad=%{y}",
         "legendgroup": "Clave platillo=SAN1",
         "marker": {
          "color": "#FFA15A"
         },
         "name": "Clave platillo=SAN1",
         "offsetgroup": "Clave platillo=SAN1",
         "orientation": "v",
         "showlegend": true,
         "textposition": "auto",
         "type": "bar",
         "x": [
          "SANDWICHES"
         ],
         "xaxis": "x",
         "y": [
          209
         ],
         "yaxis": "y"
        },
        {
         "alignmentgroup": "True",
         "hoverlabel": {
          "namelength": 0
         },
         "hovertemplate": "Clave platillo=PPP4<br>Grupo=%{x}<br>Cantidad=%{y}",
         "legendgroup": "Clave platillo=PPP4",
         "marker": {
          "color": "#19d3f3"
         },
         "name": "Clave platillo=PPP4",
         "offsetgroup": "Clave platillo=PPP4",
         "orientation": "v",
         "showlegend": true,
         "textposition": "auto",
         "type": "bar",
         "x": [
          "PAPAS, PAPAS Y MÁS PAPAS"
         ],
         "xaxis": "x",
         "y": [
          86
         ],
         "yaxis": "y"
        },
        {
         "alignmentgroup": "True",
         "hoverlabel": {
          "namelength": 0
         },
         "hovertemplate": "Clave platillo=PPP3<br>Grupo=%{x}<br>Cantidad=%{y}",
         "legendgroup": "Clave platillo=PPP3",
         "marker": {
          "color": "#FF6692"
         },
         "name": "Clave platillo=PPP3",
         "offsetgroup": "Clave platillo=PPP3",
         "orientation": "v",
         "showlegend": true,
         "textposition": "auto",
         "type": "bar",
         "x": [
          "PAPAS, PAPAS Y MÁS PAPAS"
         ],
         "xaxis": "x",
         "y": [
          24
         ],
         "yaxis": "y"
        },
        {
         "alignmentgroup": "True",
         "hoverlabel": {
          "namelength": 0
         },
         "hovertemplate": "Clave platillo=PPP2<br>Grupo=%{x}<br>Cantidad=%{y}",
         "legendgroup": "Clave platillo=PPP2",
         "marker": {
          "color": "#B6E880"
         },
         "name": "Clave platillo=PPP2",
         "offsetgroup": "Clave platillo=PPP2",
         "orientation": "v",
         "showlegend": true,
         "textposition": "auto",
         "type": "bar",
         "x": [
          "PAPAS, PAPAS Y MÁS PAPAS"
         ],
         "xaxis": "x",
         "y": [
          207
         ],
         "yaxis": "y"
        },
        {
         "alignmentgroup": "True",
         "hoverlabel": {
          "namelength": 0
         },
         "hovertemplate": "Clave platillo=PPP1<br>Grupo=%{x}<br>Cantidad=%{y}",
         "legendgroup": "Clave platillo=PPP1",
         "marker": {
          "color": "#FF97FF"
         },
         "name": "Clave platillo=PPP1",
         "offsetgroup": "Clave platillo=PPP1",
         "orientation": "v",
         "showlegend": true,
         "textposition": "auto",
         "type": "bar",
         "x": [
          "PAPAS, PAPAS Y MÁS PAPAS"
         ],
         "xaxis": "x",
         "y": [
          193
         ],
         "yaxis": "y"
        },
        {
         "alignmentgroup": "True",
         "hoverlabel": {
          "namelength": 0
         },
         "hovertemplate": "Clave platillo=POS5<br>Grupo=%{x}<br>Cantidad=%{y}",
         "legendgroup": "Clave platillo=POS5",
         "marker": {
          "color": "#FECB52"
         },
         "name": "Clave platillo=POS5",
         "offsetgroup": "Clave platillo=POS5",
         "orientation": "v",
         "showlegend": true,
         "textposition": "auto",
         "type": "bar",
         "x": [
          "POSTRES"
         ],
         "xaxis": "x",
         "y": [
          19
         ],
         "yaxis": "y"
        },
        {
         "alignmentgroup": "True",
         "hoverlabel": {
          "namelength": 0
         },
         "hovertemplate": "Clave platillo=POS4<br>Grupo=%{x}<br>Cantidad=%{y}",
         "legendgroup": "Clave platillo=POS4",
         "marker": {
          "color": "#636efa"
         },
         "name": "Clave platillo=POS4",
         "offsetgroup": "Clave platillo=POS4",
         "orientation": "v",
         "showlegend": true,
         "textposition": "auto",
         "type": "bar",
         "x": [
          "POSTRES"
         ],
         "xaxis": "x",
         "y": [
          10
         ],
         "yaxis": "y"
        },
        {
         "alignmentgroup": "True",
         "hoverlabel": {
          "namelength": 0
         },
         "hovertemplate": "Clave platillo=POS3<br>Grupo=%{x}<br>Cantidad=%{y}",
         "legendgroup": "Clave platillo=POS3",
         "marker": {
          "color": "#EF553B"
         },
         "name": "Clave platillo=POS3",
         "offsetgroup": "Clave platillo=POS3",
         "orientation": "v",
         "showlegend": true,
         "textposition": "auto",
         "type": "bar",
         "x": [
          "POSTRES"
         ],
         "xaxis": "x",
         "y": [
          30
         ],
         "yaxis": "y"
        },
        {
         "alignmentgroup": "True",
         "hoverlabel": {
          "namelength": 0
         },
         "hovertemplate": "Clave platillo=POS2<br>Grupo=%{x}<br>Cantidad=%{y}",
         "legendgroup": "Clave platillo=POS2",
         "marker": {
          "color": "#00cc96"
         },
         "name": "Clave platillo=POS2",
         "offsetgroup": "Clave platillo=POS2",
         "orientation": "v",
         "showlegend": true,
         "textposition": "auto",
         "type": "bar",
         "x": [
          "POSTRES"
         ],
         "xaxis": "x",
         "y": [
          53
         ],
         "yaxis": "y"
        },
        {
         "alignmentgroup": "True",
         "hoverlabel": {
          "namelength": 0
         },
         "hovertemplate": "Clave platillo=POS1<br>Grupo=%{x}<br>Cantidad=%{y}",
         "legendgroup": "Clave platillo=POS1",
         "marker": {
          "color": "#ab63fa"
         },
         "name": "Clave platillo=POS1",
         "offsetgroup": "Clave platillo=POS1",
         "orientation": "v",
         "showlegend": true,
         "textposition": "auto",
         "type": "bar",
         "x": [
          "POSTRES"
         ],
         "xaxis": "x",
         "y": [
          212
         ],
         "yaxis": "y"
        },
        {
         "alignmentgroup": "True",
         "hoverlabel": {
          "namelength": 0
         },
         "hovertemplate": "Clave platillo=PAS478602<br>Grupo=%{x}<br>Cantidad=%{y}",
         "legendgroup": "Clave platillo=PAS478602",
         "marker": {
          "color": "#FFA15A"
         },
         "name": "Clave platillo=PAS478602",
         "offsetgroup": "Clave platillo=PAS478602",
         "orientation": "v",
         "showlegend": true,
         "textposition": "auto",
         "type": "bar",
         "x": [
          "PASTAS"
         ],
         "xaxis": "x",
         "y": [
          1
         ],
         "yaxis": "y"
        },
        {
         "alignmentgroup": "True",
         "hoverlabel": {
          "namelength": 0
         },
         "hovertemplate": "Clave platillo=PAS478601<br>Grupo=%{x}<br>Cantidad=%{y}",
         "legendgroup": "Clave platillo=PAS478601",
         "marker": {
          "color": "#19d3f3"
         },
         "name": "Clave platillo=PAS478601",
         "offsetgroup": "Clave platillo=PAS478601",
         "orientation": "v",
         "showlegend": true,
         "textposition": "auto",
         "type": "bar",
         "x": [
          "PASTAS"
         ],
         "xaxis": "x",
         "y": [
          1
         ],
         "yaxis": "y"
        },
        {
         "alignmentgroup": "True",
         "hoverlabel": {
          "namelength": 0
         },
         "hovertemplate": "Clave platillo=PAS478599<br>Grupo=%{x}<br>Cantidad=%{y}",
         "legendgroup": "Clave platillo=PAS478599",
         "marker": {
          "color": "#FF6692"
         },
         "name": "Clave platillo=PAS478599",
         "offsetgroup": "Clave platillo=PAS478599",
         "orientation": "v",
         "showlegend": true,
         "textposition": "auto",
         "type": "bar",
         "x": [
          "PASTAS"
         ],
         "xaxis": "x",
         "y": [
          4
         ],
         "yaxis": "y"
        },
        {
         "alignmentgroup": "True",
         "hoverlabel": {
          "namelength": 0
         },
         "hovertemplate": "Clave platillo=PAS478597<br>Grupo=%{x}<br>Cantidad=%{y}",
         "legendgroup": "Clave platillo=PAS478597",
         "marker": {
          "color": "#B6E880"
         },
         "name": "Clave platillo=PAS478597",
         "offsetgroup": "Clave platillo=PAS478597",
         "orientation": "v",
         "showlegend": true,
         "textposition": "auto",
         "type": "bar",
         "x": [
          "PASTAS"
         ],
         "xaxis": "x",
         "y": [
          1
         ],
         "yaxis": "y"
        },
        {
         "alignmentgroup": "True",
         "hoverlabel": {
          "namelength": 0
         },
         "hovertemplate": "Clave platillo=PAS478596<br>Grupo=%{x}<br>Cantidad=%{y}",
         "legendgroup": "Clave platillo=PAS478596",
         "marker": {
          "color": "#FF97FF"
         },
         "name": "Clave platillo=PAS478596",
         "offsetgroup": "Clave platillo=PAS478596",
         "orientation": "v",
         "showlegend": true,
         "textposition": "auto",
         "type": "bar",
         "x": [
          "PASTAS"
         ],
         "xaxis": "x",
         "y": [
          1
         ],
         "yaxis": "y"
        },
        {
         "alignmentgroup": "True",
         "hoverlabel": {
          "namelength": 0
         },
         "hovertemplate": "Clave platillo=PAS3<br>Grupo=%{x}<br>Cantidad=%{y}",
         "legendgroup": "Clave platillo=PAS3",
         "marker": {
          "color": "#FECB52"
         },
         "name": "Clave platillo=PAS3",
         "offsetgroup": "Clave platillo=PAS3",
         "orientation": "v",
         "showlegend": true,
         "textposition": "auto",
         "type": "bar",
         "x": [
          "PASTAS"
         ],
         "xaxis": "x",
         "y": [
          209
         ],
         "yaxis": "y"
        },
        {
         "alignmentgroup": "True",
         "hoverlabel": {
          "namelength": 0
         },
         "hovertemplate": "Clave platillo=PAS2<br>Grupo=%{x}<br>Cantidad=%{y}",
         "legendgroup": "Clave platillo=PAS2",
         "marker": {
          "color": "#636efa"
         },
         "name": "Clave platillo=PAS2",
         "offsetgroup": "Clave platillo=PAS2",
         "orientation": "v",
         "showlegend": true,
         "textposition": "auto",
         "type": "bar",
         "x": [
          "PASTAS"
         ],
         "xaxis": "x",
         "y": [
          55
         ],
         "yaxis": "y"
        },
        {
         "alignmentgroup": "True",
         "hoverlabel": {
          "namelength": 0
         },
         "hovertemplate": "Clave platillo=PAS1<br>Grupo=%{x}<br>Cantidad=%{y}",
         "legendgroup": "Clave platillo=PAS1",
         "marker": {
          "color": "#EF553B"
         },
         "name": "Clave platillo=PAS1",
         "offsetgroup": "Clave platillo=PAS1",
         "orientation": "v",
         "showlegend": true,
         "textposition": "auto",
         "type": "bar",
         "x": [
          "PASTAS"
         ],
         "xaxis": "x",
         "y": [
          65
         ],
         "yaxis": "y"
        },
        {
         "alignmentgroup": "True",
         "hoverlabel": {
          "namelength": 0
         },
         "hovertemplate": "Clave platillo=MSAN16<br>Grupo=%{x}<br>Cantidad=%{y}",
         "legendgroup": "Clave platillo=MSAN16",
         "marker": {
          "color": "#00cc96"
         },
         "name": "Clave platillo=MSAN16",
         "offsetgroup": "Clave platillo=MSAN16",
         "orientation": "v",
         "showlegend": true,
         "textposition": "auto",
         "type": "bar",
         "x": [
          "SANDWICHES"
         ],
         "xaxis": "x",
         "y": [
          1
         ],
         "yaxis": "y"
        },
        {
         "alignmentgroup": "True",
         "hoverlabel": {
          "namelength": 0
         },
         "hovertemplate": "Clave platillo=MPOS9<br>Grupo=%{x}<br>Cantidad=%{y}",
         "legendgroup": "Clave platillo=MPOS9",
         "marker": {
          "color": "#ab63fa"
         },
         "name": "Clave platillo=MPOS9",
         "offsetgroup": "Clave platillo=MPOS9",
         "orientation": "v",
         "showlegend": true,
         "textposition": "auto",
         "type": "bar",
         "x": [
          "POSTRES"
         ],
         "xaxis": "x",
         "y": [
          9
         ],
         "yaxis": "y"
        },
        {
         "alignmentgroup": "True",
         "hoverlabel": {
          "namelength": 0
         },
         "hovertemplate": "Clave platillo=MPOS8<br>Grupo=%{x}<br>Cantidad=%{y}",
         "legendgroup": "Clave platillo=MPOS8",
         "marker": {
          "color": "#FFA15A"
         },
         "name": "Clave platillo=MPOS8",
         "offsetgroup": "Clave platillo=MPOS8",
         "orientation": "v",
         "showlegend": true,
         "textposition": "auto",
         "type": "bar",
         "x": [
          "POSTRES"
         ],
         "xaxis": "x",
         "y": [
          7
         ],
         "yaxis": "y"
        },
        {
         "alignmentgroup": "True",
         "hoverlabel": {
          "namelength": 0
         },
         "hovertemplate": "Clave platillo=MPOS7<br>Grupo=%{x}<br>Cantidad=%{y}",
         "legendgroup": "Clave platillo=MPOS7",
         "marker": {
          "color": "#19d3f3"
         },
         "name": "Clave platillo=MPOS7",
         "offsetgroup": "Clave platillo=MPOS7",
         "orientation": "v",
         "showlegend": true,
         "textposition": "auto",
         "type": "bar",
         "x": [
          "POSTRES"
         ],
         "xaxis": "x",
         "y": [
          3
         ],
         "yaxis": "y"
        },
        {
         "alignmentgroup": "True",
         "hoverlabel": {
          "namelength": 0
         },
         "hovertemplate": "Clave platillo=MPOS6<br>Grupo=%{x}<br>Cantidad=%{y}",
         "legendgroup": "Clave platillo=MPOS6",
         "marker": {
          "color": "#FF6692"
         },
         "name": "Clave platillo=MPOS6",
         "offsetgroup": "Clave platillo=MPOS6",
         "orientation": "v",
         "showlegend": true,
         "textposition": "auto",
         "type": "bar",
         "x": [
          "POSTRES"
         ],
         "xaxis": "x",
         "y": [
          4
         ],
         "yaxis": "y"
        },
        {
         "alignmentgroup": "True",
         "hoverlabel": {
          "namelength": 0
         },
         "hovertemplate": "Clave platillo=MPOS5<br>Grupo=%{x}<br>Cantidad=%{y}",
         "legendgroup": "Clave platillo=MPOS5",
         "marker": {
          "color": "#B6E880"
         },
         "name": "Clave platillo=MPOS5",
         "offsetgroup": "Clave platillo=MPOS5",
         "orientation": "v",
         "showlegend": true,
         "textposition": "auto",
         "type": "bar",
         "x": [
          "POSTRES"
         ],
         "xaxis": "x",
         "y": [
          2
         ],
         "yaxis": "y"
        },
        {
         "alignmentgroup": "True",
         "hoverlabel": {
          "namelength": 0
         },
         "hovertemplate": "Clave platillo=MPOS4<br>Grupo=%{x}<br>Cantidad=%{y}",
         "legendgroup": "Clave platillo=MPOS4",
         "marker": {
          "color": "#FF97FF"
         },
         "name": "Clave platillo=MPOS4",
         "offsetgroup": "Clave platillo=MPOS4",
         "orientation": "v",
         "showlegend": true,
         "textposition": "auto",
         "type": "bar",
         "x": [
          "POSTRES"
         ],
         "xaxis": "x",
         "y": [
          2
         ],
         "yaxis": "y"
        },
        {
         "alignmentgroup": "True",
         "hoverlabel": {
          "namelength": 0
         },
         "hovertemplate": "Clave platillo=MPOS3<br>Grupo=%{x}<br>Cantidad=%{y}",
         "legendgroup": "Clave platillo=MPOS3",
         "marker": {
          "color": "#FECB52"
         },
         "name": "Clave platillo=MPOS3",
         "offsetgroup": "Clave platillo=MPOS3",
         "orientation": "v",
         "showlegend": true,
         "textposition": "auto",
         "type": "bar",
         "x": [
          "POSTRES"
         ],
         "xaxis": "x",
         "y": [
          14
         ],
         "yaxis": "y"
        },
        {
         "alignmentgroup": "True",
         "hoverlabel": {
          "namelength": 0
         },
         "hovertemplate": "Clave platillo=MPOS2<br>Grupo=%{x}<br>Cantidad=%{y}",
         "legendgroup": "Clave platillo=MPOS2",
         "marker": {
          "color": "#636efa"
         },
         "name": "Clave platillo=MPOS2",
         "offsetgroup": "Clave platillo=MPOS2",
         "orientation": "v",
         "showlegend": true,
         "textposition": "auto",
         "type": "bar",
         "x": [
          "POSTRES"
         ],
         "xaxis": "x",
         "y": [
          25
         ],
         "yaxis": "y"
        },
        {
         "alignmentgroup": "True",
         "hoverlabel": {
          "namelength": 0
         },
         "hovertemplate": "Clave platillo=MPOS10<br>Grupo=%{x}<br>Cantidad=%{y}",
         "legendgroup": "Clave platillo=MPOS10",
         "marker": {
          "color": "#EF553B"
         },
         "name": "Clave platillo=MPOS10",
         "offsetgroup": "Clave platillo=MPOS10",
         "orientation": "v",
         "showlegend": true,
         "textposition": "auto",
         "type": "bar",
         "x": [
          "POSTRES"
         ],
         "xaxis": "x",
         "y": [
          9
         ],
         "yaxis": "y"
        },
        {
         "alignmentgroup": "True",
         "hoverlabel": {
          "namelength": 0
         },
         "hovertemplate": "Clave platillo=MPOS1<br>Grupo=%{x}<br>Cantidad=%{y}",
         "legendgroup": "Clave platillo=MPOS1",
         "marker": {
          "color": "#00cc96"
         },
         "name": "Clave platillo=MPOS1",
         "offsetgroup": "Clave platillo=MPOS1",
         "orientation": "v",
         "showlegend": true,
         "textposition": "auto",
         "type": "bar",
         "x": [
          "POSTRES"
         ],
         "xaxis": "x",
         "y": [
          62
         ],
         "yaxis": "y"
        },
        {
         "alignmentgroup": "True",
         "hoverlabel": {
          "namelength": 0
         },
         "hovertemplate": "Clave platillo=MPAP4<br>Grupo=%{x}<br>Cantidad=%{y}",
         "legendgroup": "Clave platillo=MPAP4",
         "marker": {
          "color": "#ab63fa"
         },
         "name": "Clave platillo=MPAP4",
         "offsetgroup": "Clave platillo=MPAP4",
         "orientation": "v",
         "showlegend": true,
         "textposition": "auto",
         "type": "bar",
         "x": [
          "PAPAS, PAPAS Y MÁS PAPAS"
         ],
         "xaxis": "x",
         "y": [
          1
         ],
         "yaxis": "y"
        },
        {
         "alignmentgroup": "True",
         "hoverlabel": {
          "namelength": 0
         },
         "hovertemplate": "Clave platillo=MPAP2<br>Grupo=%{x}<br>Cantidad=%{y}",
         "legendgroup": "Clave platillo=MPAP2",
         "marker": {
          "color": "#FFA15A"
         },
         "name": "Clave platillo=MPAP2",
         "offsetgroup": "Clave platillo=MPAP2",
         "orientation": "v",
         "showlegend": true,
         "textposition": "auto",
         "type": "bar",
         "x": [
          "PAPAS, PAPAS Y MÁS PAPAS"
         ],
         "xaxis": "x",
         "y": [
          1
         ],
         "yaxis": "y"
        },
        {
         "alignmentgroup": "True",
         "hoverlabel": {
          "namelength": 0
         },
         "hovertemplate": "Clave platillo=MPAP1<br>Grupo=%{x}<br>Cantidad=%{y}",
         "legendgroup": "Clave platillo=MPAP1",
         "marker": {
          "color": "#19d3f3"
         },
         "name": "Clave platillo=MPAP1",
         "offsetgroup": "Clave platillo=MPAP1",
         "orientation": "v",
         "showlegend": true,
         "textposition": "auto",
         "type": "bar",
         "x": [
          "PAPAS, PAPAS Y MÁS PAPAS"
         ],
         "xaxis": "x",
         "y": [
          3
         ],
         "yaxis": "y"
        },
        {
         "alignmentgroup": "True",
         "hoverlabel": {
          "namelength": 0
         },
         "hovertemplate": "Clave platillo=MHAM9<br>Grupo=%{x}<br>Cantidad=%{y}",
         "legendgroup": "Clave platillo=MHAM9",
         "marker": {
          "color": "#FF6692"
         },
         "name": "Clave platillo=MHAM9",
         "offsetgroup": "Clave platillo=MHAM9",
         "orientation": "v",
         "showlegend": true,
         "textposition": "auto",
         "type": "bar",
         "x": [
          "HAMBURGUESAS"
         ],
         "xaxis": "x",
         "y": [
          73
         ],
         "yaxis": "y"
        },
        {
         "alignmentgroup": "True",
         "hoverlabel": {
          "namelength": 0
         },
         "hovertemplate": "Clave platillo=MHAM8<br>Grupo=%{x}<br>Cantidad=%{y}",
         "legendgroup": "Clave platillo=MHAM8",
         "marker": {
          "color": "#B6E880"
         },
         "name": "Clave platillo=MHAM8",
         "offsetgroup": "Clave platillo=MHAM8",
         "orientation": "v",
         "showlegend": true,
         "textposition": "auto",
         "type": "bar",
         "x": [
          "HAMBURGUESAS"
         ],
         "xaxis": "x",
         "y": [
          68
         ],
         "yaxis": "y"
        },
        {
         "alignmentgroup": "True",
         "hoverlabel": {
          "namelength": 0
         },
         "hovertemplate": "Clave platillo=MHAM75<br>Grupo=%{x}<br>Cantidad=%{y}",
         "legendgroup": "Clave platillo=MHAM75",
         "marker": {
          "color": "#FF97FF"
         },
         "name": "Clave platillo=MHAM75",
         "offsetgroup": "Clave platillo=MHAM75",
         "orientation": "v",
         "showlegend": true,
         "textposition": "auto",
         "type": "bar",
         "x": [
          "HAMBURGUESAS"
         ],
         "xaxis": "x",
         "y": [
          1
         ],
         "yaxis": "y"
        },
        {
         "alignmentgroup": "True",
         "hoverlabel": {
          "namelength": 0
         },
         "hovertemplate": "Clave platillo=MHAM72<br>Grupo=%{x}<br>Cantidad=%{y}",
         "legendgroup": "Clave platillo=MHAM72",
         "marker": {
          "color": "#FECB52"
         },
         "name": "Clave platillo=MHAM72",
         "offsetgroup": "Clave platillo=MHAM72",
         "orientation": "v",
         "showlegend": true,
         "textposition": "auto",
         "type": "bar",
         "x": [
          "HAMBURGUESAS"
         ],
         "xaxis": "x",
         "y": [
          3
         ],
         "yaxis": "y"
        },
        {
         "alignmentgroup": "True",
         "hoverlabel": {
          "namelength": 0
         },
         "hovertemplate": "Clave platillo=MHAM71<br>Grupo=%{x}<br>Cantidad=%{y}",
         "legendgroup": "Clave platillo=MHAM71",
         "marker": {
          "color": "#636efa"
         },
         "name": "Clave platillo=MHAM71",
         "offsetgroup": "Clave platillo=MHAM71",
         "orientation": "v",
         "showlegend": true,
         "textposition": "auto",
         "type": "bar",
         "x": [
          "HAMBURGUESAS"
         ],
         "xaxis": "x",
         "y": [
          2
         ],
         "yaxis": "y"
        },
        {
         "alignmentgroup": "True",
         "hoverlabel": {
          "namelength": 0
         },
         "hovertemplate": "Clave platillo=MHAM70<br>Grupo=%{x}<br>Cantidad=%{y}",
         "legendgroup": "Clave platillo=MHAM70",
         "marker": {
          "color": "#EF553B"
         },
         "name": "Clave platillo=MHAM70",
         "offsetgroup": "Clave platillo=MHAM70",
         "orientation": "v",
         "showlegend": true,
         "textposition": "auto",
         "type": "bar",
         "x": [
          "HAMBURGUESAS"
         ],
         "xaxis": "x",
         "y": [
          1
         ],
         "yaxis": "y"
        },
        {
         "alignmentgroup": "True",
         "hoverlabel": {
          "namelength": 0
         },
         "hovertemplate": "Clave platillo=MHAM69<br>Grupo=%{x}<br>Cantidad=%{y}",
         "legendgroup": "Clave platillo=MHAM69",
         "marker": {
          "color": "#00cc96"
         },
         "name": "Clave platillo=MHAM69",
         "offsetgroup": "Clave platillo=MHAM69",
         "orientation": "v",
         "showlegend": true,
         "textposition": "auto",
         "type": "bar",
         "x": [
          "HAMBURGUESAS"
         ],
         "xaxis": "x",
         "y": [
          1
         ],
         "yaxis": "y"
        },
        {
         "alignmentgroup": "True",
         "hoverlabel": {
          "namelength": 0
         },
         "hovertemplate": "Clave platillo=MHAM68<br>Grupo=%{x}<br>Cantidad=%{y}",
         "legendgroup": "Clave platillo=MHAM68",
         "marker": {
          "color": "#ab63fa"
         },
         "name": "Clave platillo=MHAM68",
         "offsetgroup": "Clave platillo=MHAM68",
         "orientation": "v",
         "showlegend": true,
         "textposition": "auto",
         "type": "bar",
         "x": [
          "HAMBURGUESAS"
         ],
         "xaxis": "x",
         "y": [
          1
         ],
         "yaxis": "y"
        },
        {
         "alignmentgroup": "True",
         "hoverlabel": {
          "namelength": 0
         },
         "hovertemplate": "Clave platillo=MHAM67<br>Grupo=%{x}<br>Cantidad=%{y}",
         "legendgroup": "Clave platillo=MHAM67",
         "marker": {
          "color": "#FFA15A"
         },
         "name": "Clave platillo=MHAM67",
         "offsetgroup": "Clave platillo=MHAM67",
         "orientation": "v",
         "showlegend": true,
         "textposition": "auto",
         "type": "bar",
         "x": [
          "HAMBURGUESAS"
         ],
         "xaxis": "x",
         "y": [
          11
         ],
         "yaxis": "y"
        },
        {
         "alignmentgroup": "True",
         "hoverlabel": {
          "namelength": 0
         },
         "hovertemplate": "Clave platillo=MHAM66<br>Grupo=%{x}<br>Cantidad=%{y}",
         "legendgroup": "Clave platillo=MHAM66",
         "marker": {
          "color": "#19d3f3"
         },
         "name": "Clave platillo=MHAM66",
         "offsetgroup": "Clave platillo=MHAM66",
         "orientation": "v",
         "showlegend": true,
         "textposition": "auto",
         "type": "bar",
         "x": [
          "HAMBURGUESAS"
         ],
         "xaxis": "x",
         "y": [
          4
         ],
         "yaxis": "y"
        },
        {
         "alignmentgroup": "True",
         "hoverlabel": {
          "namelength": 0
         },
         "hovertemplate": "Clave platillo=MHAM65<br>Grupo=%{x}<br>Cantidad=%{y}",
         "legendgroup": "Clave platillo=MHAM65",
         "marker": {
          "color": "#FF6692"
         },
         "name": "Clave platillo=MHAM65",
         "offsetgroup": "Clave platillo=MHAM65",
         "orientation": "v",
         "showlegend": true,
         "textposition": "auto",
         "type": "bar",
         "x": [
          "HAMBURGUESAS"
         ],
         "xaxis": "x",
         "y": [
          1
         ],
         "yaxis": "y"
        },
        {
         "alignmentgroup": "True",
         "hoverlabel": {
          "namelength": 0
         },
         "hovertemplate": "Clave platillo=MHAM64<br>Grupo=%{x}<br>Cantidad=%{y}",
         "legendgroup": "Clave platillo=MHAM64",
         "marker": {
          "color": "#B6E880"
         },
         "name": "Clave platillo=MHAM64",
         "offsetgroup": "Clave platillo=MHAM64",
         "orientation": "v",
         "showlegend": true,
         "textposition": "auto",
         "type": "bar",
         "x": [
          "HAMBURGUESAS"
         ],
         "xaxis": "x",
         "y": [
          1
         ],
         "yaxis": "y"
        },
        {
         "alignmentgroup": "True",
         "hoverlabel": {
          "namelength": 0
         },
         "hovertemplate": "Clave platillo=MHAM63<br>Grupo=%{x}<br>Cantidad=%{y}",
         "legendgroup": "Clave platillo=MHAM63",
         "marker": {
          "color": "#FF97FF"
         },
         "name": "Clave platillo=MHAM63",
         "offsetgroup": "Clave platillo=MHAM63",
         "orientation": "v",
         "showlegend": true,
         "textposition": "auto",
         "type": "bar",
         "x": [
          "HAMBURGUESAS"
         ],
         "xaxis": "x",
         "y": [
          1
         ],
         "yaxis": "y"
        },
        {
         "alignmentgroup": "True",
         "hoverlabel": {
          "namelength": 0
         },
         "hovertemplate": "Clave platillo=MHAM53<br>Grupo=%{x}<br>Cantidad=%{y}",
         "legendgroup": "Clave platillo=MHAM53",
         "marker": {
          "color": "#FECB52"
         },
         "name": "Clave platillo=MHAM53",
         "offsetgroup": "Clave platillo=MHAM53",
         "orientation": "v",
         "showlegend": true,
         "textposition": "auto",
         "type": "bar",
         "x": [
          "HAMBURGUESAS"
         ],
         "xaxis": "x",
         "y": [
          5
         ],
         "yaxis": "y"
        },
        {
         "alignmentgroup": "True",
         "hoverlabel": {
          "namelength": 0
         },
         "hovertemplate": "Clave platillo=MHAM52<br>Grupo=%{x}<br>Cantidad=%{y}",
         "legendgroup": "Clave platillo=MHAM52",
         "marker": {
          "color": "#636efa"
         },
         "name": "Clave platillo=MHAM52",
         "offsetgroup": "Clave platillo=MHAM52",
         "orientation": "v",
         "showlegend": true,
         "textposition": "auto",
         "type": "bar",
         "x": [
          "HAMBURGUESAS"
         ],
         "xaxis": "x",
         "y": [
          3
         ],
         "yaxis": "y"
        },
        {
         "alignmentgroup": "True",
         "hoverlabel": {
          "namelength": 0
         },
         "hovertemplate": "Clave platillo=MHAM5<br>Grupo=%{x}<br>Cantidad=%{y}",
         "legendgroup": "Clave platillo=MHAM5",
         "marker": {
          "color": "#EF553B"
         },
         "name": "Clave platillo=MHAM5",
         "offsetgroup": "Clave platillo=MHAM5",
         "orientation": "v",
         "showlegend": true,
         "textposition": "auto",
         "type": "bar",
         "x": [
          "HAMBURGUESAS"
         ],
         "xaxis": "x",
         "y": [
          6
         ],
         "yaxis": "y"
        },
        {
         "alignmentgroup": "True",
         "hoverlabel": {
          "namelength": 0
         },
         "hovertemplate": "Clave platillo=MHAM45<br>Grupo=%{x}<br>Cantidad=%{y}",
         "legendgroup": "Clave platillo=MHAM45",
         "marker": {
          "color": "#00cc96"
         },
         "name": "Clave platillo=MHAM45",
         "offsetgroup": "Clave platillo=MHAM45",
         "orientation": "v",
         "showlegend": true,
         "textposition": "auto",
         "type": "bar",
         "x": [
          "HAMBURGUESAS"
         ],
         "xaxis": "x",
         "y": [
          1
         ],
         "yaxis": "y"
        },
        {
         "alignmentgroup": "True",
         "hoverlabel": {
          "namelength": 0
         },
         "hovertemplate": "Clave platillo=MHAM42<br>Grupo=%{x}<br>Cantidad=%{y}",
         "legendgroup": "Clave platillo=MHAM42",
         "marker": {
          "color": "#ab63fa"
         },
         "name": "Clave platillo=MHAM42",
         "offsetgroup": "Clave platillo=MHAM42",
         "orientation": "v",
         "showlegend": true,
         "textposition": "auto",
         "type": "bar",
         "x": [
          "HAMBURGUESAS"
         ],
         "xaxis": "x",
         "y": [
          4
         ],
         "yaxis": "y"
        },
        {
         "alignmentgroup": "True",
         "hoverlabel": {
          "namelength": 0
         },
         "hovertemplate": "Clave platillo=MHAM41<br>Grupo=%{x}<br>Cantidad=%{y}",
         "legendgroup": "Clave platillo=MHAM41",
         "marker": {
          "color": "#FFA15A"
         },
         "name": "Clave platillo=MHAM41",
         "offsetgroup": "Clave platillo=MHAM41",
         "orientation": "v",
         "showlegend": true,
         "textposition": "auto",
         "type": "bar",
         "x": [
          "HAMBURGUESAS"
         ],
         "xaxis": "x",
         "y": [
          1
         ],
         "yaxis": "y"
        },
        {
         "alignmentgroup": "True",
         "hoverlabel": {
          "namelength": 0
         },
         "hovertemplate": "Clave platillo=MHAM39<br>Grupo=%{x}<br>Cantidad=%{y}",
         "legendgroup": "Clave platillo=MHAM39",
         "marker": {
          "color": "#19d3f3"
         },
         "name": "Clave platillo=MHAM39",
         "offsetgroup": "Clave platillo=MHAM39",
         "orientation": "v",
         "showlegend": true,
         "textposition": "auto",
         "type": "bar",
         "x": [
          "HAMBURGUESAS"
         ],
         "xaxis": "x",
         "y": [
          2
         ],
         "yaxis": "y"
        },
        {
         "alignmentgroup": "True",
         "hoverlabel": {
          "namelength": 0
         },
         "hovertemplate": "Clave platillo=MHAM35<br>Grupo=%{x}<br>Cantidad=%{y}",
         "legendgroup": "Clave platillo=MHAM35",
         "marker": {
          "color": "#FF6692"
         },
         "name": "Clave platillo=MHAM35",
         "offsetgroup": "Clave platillo=MHAM35",
         "orientation": "v",
         "showlegend": true,
         "textposition": "auto",
         "type": "bar",
         "x": [
          "HAMBURGUESAS"
         ],
         "xaxis": "x",
         "y": [
          1
         ],
         "yaxis": "y"
        },
        {
         "alignmentgroup": "True",
         "hoverlabel": {
          "namelength": 0
         },
         "hovertemplate": "Clave platillo=MHAM33<br>Grupo=%{x}<br>Cantidad=%{y}",
         "legendgroup": "Clave platillo=MHAM33",
         "marker": {
          "color": "#B6E880"
         },
         "name": "Clave platillo=MHAM33",
         "offsetgroup": "Clave platillo=MHAM33",
         "orientation": "v",
         "showlegend": true,
         "textposition": "auto",
         "type": "bar",
         "x": [
          "HAMBURGUESAS"
         ],
         "xaxis": "x",
         "y": [
          127
         ],
         "yaxis": "y"
        },
        {
         "alignmentgroup": "True",
         "hoverlabel": {
          "namelength": 0
         },
         "hovertemplate": "Clave platillo=MHAM32<br>Grupo=%{x}<br>Cantidad=%{y}",
         "legendgroup": "Clave platillo=MHAM32",
         "marker": {
          "color": "#FF97FF"
         },
         "name": "Clave platillo=MHAM32",
         "offsetgroup": "Clave platillo=MHAM32",
         "orientation": "v",
         "showlegend": true,
         "textposition": "auto",
         "type": "bar",
         "x": [
          "HAMBURGUESAS"
         ],
         "xaxis": "x",
         "y": [
          103
         ],
         "yaxis": "y"
        },
        {
         "alignmentgroup": "True",
         "hoverlabel": {
          "namelength": 0
         },
         "hovertemplate": "Clave platillo=MHAM31<br>Grupo=%{x}<br>Cantidad=%{y}",
         "legendgroup": "Clave platillo=MHAM31",
         "marker": {
          "color": "#FECB52"
         },
         "name": "Clave platillo=MHAM31",
         "offsetgroup": "Clave platillo=MHAM31",
         "orientation": "v",
         "showlegend": true,
         "textposition": "auto",
         "type": "bar",
         "x": [
          "HAMBURGUESAS"
         ],
         "xaxis": "x",
         "y": [
          163
         ],
         "yaxis": "y"
        },
        {
         "alignmentgroup": "True",
         "hoverlabel": {
          "namelength": 0
         },
         "hovertemplate": "Clave platillo=MHAM30<br>Grupo=%{x}<br>Cantidad=%{y}",
         "legendgroup": "Clave platillo=MHAM30",
         "marker": {
          "color": "#636efa"
         },
         "name": "Clave platillo=MHAM30",
         "offsetgroup": "Clave platillo=MHAM30",
         "orientation": "v",
         "showlegend": true,
         "textposition": "auto",
         "type": "bar",
         "x": [
          "HAMBURGUESAS"
         ],
         "xaxis": "x",
         "y": [
          6454
         ],
         "yaxis": "y"
        },
        {
         "alignmentgroup": "True",
         "hoverlabel": {
          "namelength": 0
         },
         "hovertemplate": "Clave platillo=MHAM3<br>Grupo=%{x}<br>Cantidad=%{y}",
         "legendgroup": "Clave platillo=MHAM3",
         "marker": {
          "color": "#EF553B"
         },
         "name": "Clave platillo=MHAM3",
         "offsetgroup": "Clave platillo=MHAM3",
         "orientation": "v",
         "showlegend": true,
         "textposition": "auto",
         "type": "bar",
         "x": [
          "HAMBURGUESAS"
         ],
         "xaxis": "x",
         "y": [
          32
         ],
         "yaxis": "y"
        },
        {
         "alignmentgroup": "True",
         "hoverlabel": {
          "namelength": 0
         },
         "hovertemplate": "Clave platillo=MHAM29<br>Grupo=%{x}<br>Cantidad=%{y}",
         "legendgroup": "Clave platillo=MHAM29",
         "marker": {
          "color": "#00cc96"
         },
         "name": "Clave platillo=MHAM29",
         "offsetgroup": "Clave platillo=MHAM29",
         "orientation": "v",
         "showlegend": true,
         "textposition": "auto",
         "type": "bar",
         "x": [
          "HAMBURGUESAS"
         ],
         "xaxis": "x",
         "y": [
          292
         ],
         "yaxis": "y"
        },
        {
         "alignmentgroup": "True",
         "hoverlabel": {
          "namelength": 0
         },
         "hovertemplate": "Clave platillo=MHAM28<br>Grupo=%{x}<br>Cantidad=%{y}",
         "legendgroup": "Clave platillo=MHAM28",
         "marker": {
          "color": "#ab63fa"
         },
         "name": "Clave platillo=MHAM28",
         "offsetgroup": "Clave platillo=MHAM28",
         "orientation": "v",
         "showlegend": true,
         "textposition": "auto",
         "type": "bar",
         "x": [
          "HAMBURGUESAS"
         ],
         "xaxis": "x",
         "y": [
          14
         ],
         "yaxis": "y"
        },
        {
         "alignmentgroup": "True",
         "hoverlabel": {
          "namelength": 0
         },
         "hovertemplate": "Clave platillo=MHAM27<br>Grupo=%{x}<br>Cantidad=%{y}",
         "legendgroup": "Clave platillo=MHAM27",
         "marker": {
          "color": "#FFA15A"
         },
         "name": "Clave platillo=MHAM27",
         "offsetgroup": "Clave platillo=MHAM27",
         "orientation": "v",
         "showlegend": true,
         "textposition": "auto",
         "type": "bar",
         "x": [
          "HAMBURGUESAS"
         ],
         "xaxis": "x",
         "y": [
          66
         ],
         "yaxis": "y"
        },
        {
         "alignmentgroup": "True",
         "hoverlabel": {
          "namelength": 0
         },
         "hovertemplate": "Clave platillo=MHAM24<br>Grupo=%{x}<br>Cantidad=%{y}",
         "legendgroup": "Clave platillo=MHAM24",
         "marker": {
          "color": "#19d3f3"
         },
         "name": "Clave platillo=MHAM24",
         "offsetgroup": "Clave platillo=MHAM24",
         "orientation": "v",
         "showlegend": true,
         "textposition": "auto",
         "type": "bar",
         "x": [
          "HAMBURGUESAS"
         ],
         "xaxis": "x",
         "y": [
          1
         ],
         "yaxis": "y"
        },
        {
         "alignmentgroup": "True",
         "hoverlabel": {
          "namelength": 0
         },
         "hovertemplate": "Clave platillo=MHAM23<br>Grupo=%{x}<br>Cantidad=%{y}",
         "legendgroup": "Clave platillo=MHAM23",
         "marker": {
          "color": "#FF6692"
         },
         "name": "Clave platillo=MHAM23",
         "offsetgroup": "Clave platillo=MHAM23",
         "orientation": "v",
         "showlegend": true,
         "textposition": "auto",
         "type": "bar",
         "x": [
          "HAMBURGUESAS"
         ],
         "xaxis": "x",
         "y": [
          14
         ],
         "yaxis": "y"
        },
        {
         "alignmentgroup": "True",
         "hoverlabel": {
          "namelength": 0
         },
         "hovertemplate": "Clave platillo=MHAM2<br>Grupo=%{x}<br>Cantidad=%{y}",
         "legendgroup": "Clave platillo=MHAM2",
         "marker": {
          "color": "#B6E880"
         },
         "name": "Clave platillo=MHAM2",
         "offsetgroup": "Clave platillo=MHAM2",
         "orientation": "v",
         "showlegend": true,
         "textposition": "auto",
         "type": "bar",
         "x": [
          "HAMBURGUESAS"
         ],
         "xaxis": "x",
         "y": [
          4
         ],
         "yaxis": "y"
        },
        {
         "alignmentgroup": "True",
         "hoverlabel": {
          "namelength": 0
         },
         "hovertemplate": "Clave platillo=MHAM18<br>Grupo=%{x}<br>Cantidad=%{y}",
         "legendgroup": "Clave platillo=MHAM18",
         "marker": {
          "color": "#FF97FF"
         },
         "name": "Clave platillo=MHAM18",
         "offsetgroup": "Clave platillo=MHAM18",
         "orientation": "v",
         "showlegend": true,
         "textposition": "auto",
         "type": "bar",
         "x": [
          "HAMBURGUESAS"
         ],
         "xaxis": "x",
         "y": [
          9
         ],
         "yaxis": "y"
        },
        {
         "alignmentgroup": "True",
         "hoverlabel": {
          "namelength": 0
         },
         "hovertemplate": "Clave platillo=MHAM17<br>Grupo=%{x}<br>Cantidad=%{y}",
         "legendgroup": "Clave platillo=MHAM17",
         "marker": {
          "color": "#FECB52"
         },
         "name": "Clave platillo=MHAM17",
         "offsetgroup": "Clave platillo=MHAM17",
         "orientation": "v",
         "showlegend": true,
         "textposition": "auto",
         "type": "bar",
         "x": [
          "HAMBURGUESAS"
         ],
         "xaxis": "x",
         "y": [
          9
         ],
         "yaxis": "y"
        },
        {
         "alignmentgroup": "True",
         "hoverlabel": {
          "namelength": 0
         },
         "hovertemplate": "Clave platillo=MHAM16<br>Grupo=%{x}<br>Cantidad=%{y}",
         "legendgroup": "Clave platillo=MHAM16",
         "marker": {
          "color": "#636efa"
         },
         "name": "Clave platillo=MHAM16",
         "offsetgroup": "Clave platillo=MHAM16",
         "orientation": "v",
         "showlegend": true,
         "textposition": "auto",
         "type": "bar",
         "x": [
          "HAMBURGUESAS"
         ],
         "xaxis": "x",
         "y": [
          1
         ],
         "yaxis": "y"
        },
        {
         "alignmentgroup": "True",
         "hoverlabel": {
          "namelength": 0
         },
         "hovertemplate": "Clave platillo=MHAM15<br>Grupo=%{x}<br>Cantidad=%{y}",
         "legendgroup": "Clave platillo=MHAM15",
         "marker": {
          "color": "#EF553B"
         },
         "name": "Clave platillo=MHAM15",
         "offsetgroup": "Clave platillo=MHAM15",
         "orientation": "v",
         "showlegend": true,
         "textposition": "auto",
         "type": "bar",
         "x": [
          "HAMBURGUESAS"
         ],
         "xaxis": "x",
         "y": [
          2
         ],
         "yaxis": "y"
        },
        {
         "alignmentgroup": "True",
         "hoverlabel": {
          "namelength": 0
         },
         "hovertemplate": "Clave platillo=MHAM14<br>Grupo=%{x}<br>Cantidad=%{y}",
         "legendgroup": "Clave platillo=MHAM14",
         "marker": {
          "color": "#00cc96"
         },
         "name": "Clave platillo=MHAM14",
         "offsetgroup": "Clave platillo=MHAM14",
         "orientation": "v",
         "showlegend": true,
         "textposition": "auto",
         "type": "bar",
         "x": [
          "HAMBURGUESAS"
         ],
         "xaxis": "x",
         "y": [
          1
         ],
         "yaxis": "y"
        },
        {
         "alignmentgroup": "True",
         "hoverlabel": {
          "namelength": 0
         },
         "hovertemplate": "Clave platillo=MHAM13<br>Grupo=%{x}<br>Cantidad=%{y}",
         "legendgroup": "Clave platillo=MHAM13",
         "marker": {
          "color": "#ab63fa"
         },
         "name": "Clave platillo=MHAM13",
         "offsetgroup": "Clave platillo=MHAM13",
         "orientation": "v",
         "showlegend": true,
         "textposition": "auto",
         "type": "bar",
         "x": [
          "HAMBURGUESAS"
         ],
         "xaxis": "x",
         "y": [
          34
         ],
         "yaxis": "y"
        },
        {
         "alignmentgroup": "True",
         "hoverlabel": {
          "namelength": 0
         },
         "hovertemplate": "Clave platillo=MHAM12<br>Grupo=%{x}<br>Cantidad=%{y}",
         "legendgroup": "Clave platillo=MHAM12",
         "marker": {
          "color": "#FFA15A"
         },
         "name": "Clave platillo=MHAM12",
         "offsetgroup": "Clave platillo=MHAM12",
         "orientation": "v",
         "showlegend": true,
         "textposition": "auto",
         "type": "bar",
         "x": [
          "HAMBURGUESAS"
         ],
         "xaxis": "x",
         "y": [
          16
         ],
         "yaxis": "y"
        },
        {
         "alignmentgroup": "True",
         "hoverlabel": {
          "namelength": 0
         },
         "hovertemplate": "Clave platillo=MENS9<br>Grupo=%{x}<br>Cantidad=%{y}",
         "legendgroup": "Clave platillo=MENS9",
         "marker": {
          "color": "#19d3f3"
         },
         "name": "Clave platillo=MENS9",
         "offsetgroup": "Clave platillo=MENS9",
         "orientation": "v",
         "showlegend": true,
         "textposition": "auto",
         "type": "bar",
         "x": [
          "ENSALADAS"
         ],
         "xaxis": "x",
         "y": [
          2
         ],
         "yaxis": "y"
        },
        {
         "alignmentgroup": "True",
         "hoverlabel": {
          "namelength": 0
         },
         "hovertemplate": "Clave platillo=MENS5<br>Grupo=%{x}<br>Cantidad=%{y}",
         "legendgroup": "Clave platillo=MENS5",
         "marker": {
          "color": "#FF6692"
         },
         "name": "Clave platillo=MENS5",
         "offsetgroup": "Clave platillo=MENS5",
         "orientation": "v",
         "showlegend": true,
         "textposition": "auto",
         "type": "bar",
         "x": [
          "ENSALADAS"
         ],
         "xaxis": "x",
         "y": [
          1
         ],
         "yaxis": "y"
        },
        {
         "alignmentgroup": "True",
         "hoverlabel": {
          "namelength": 0
         },
         "hovertemplate": "Clave platillo=MENS4<br>Grupo=%{x}<br>Cantidad=%{y}",
         "legendgroup": "Clave platillo=MENS4",
         "marker": {
          "color": "#B6E880"
         },
         "name": "Clave platillo=MENS4",
         "offsetgroup": "Clave platillo=MENS4",
         "orientation": "v",
         "showlegend": true,
         "textposition": "auto",
         "type": "bar",
         "x": [
          "ENSALADAS"
         ],
         "xaxis": "x",
         "y": [
          4
         ],
         "yaxis": "y"
        },
        {
         "alignmentgroup": "True",
         "hoverlabel": {
          "namelength": 0
         },
         "hovertemplate": "Clave platillo=MENS21<br>Grupo=%{x}<br>Cantidad=%{y}",
         "legendgroup": "Clave platillo=MENS21",
         "marker": {
          "color": "#FF97FF"
         },
         "name": "Clave platillo=MENS21",
         "offsetgroup": "Clave platillo=MENS21",
         "orientation": "v",
         "showlegend": true,
         "textposition": "auto",
         "type": "bar",
         "x": [
          "ENSALADAS"
         ],
         "xaxis": "x",
         "y": [
          1
         ],
         "yaxis": "y"
        },
        {
         "alignmentgroup": "True",
         "hoverlabel": {
          "namelength": 0
         },
         "hovertemplate": "Clave platillo=MENS20<br>Grupo=%{x}<br>Cantidad=%{y}",
         "legendgroup": "Clave platillo=MENS20",
         "marker": {
          "color": "#FECB52"
         },
         "name": "Clave platillo=MENS20",
         "offsetgroup": "Clave platillo=MENS20",
         "orientation": "v",
         "showlegend": true,
         "textposition": "auto",
         "type": "bar",
         "x": [
          "ENSALADAS"
         ],
         "xaxis": "x",
         "y": [
          8
         ],
         "yaxis": "y"
        },
        {
         "alignmentgroup": "True",
         "hoverlabel": {
          "namelength": 0
         },
         "hovertemplate": "Clave platillo=MENS19<br>Grupo=%{x}<br>Cantidad=%{y}",
         "legendgroup": "Clave platillo=MENS19",
         "marker": {
          "color": "#636efa"
         },
         "name": "Clave platillo=MENS19",
         "offsetgroup": "Clave platillo=MENS19",
         "orientation": "v",
         "showlegend": true,
         "textposition": "auto",
         "type": "bar",
         "x": [
          "ENSALADAS"
         ],
         "xaxis": "x",
         "y": [
          282
         ],
         "yaxis": "y"
        },
        {
         "alignmentgroup": "True",
         "hoverlabel": {
          "namelength": 0
         },
         "hovertemplate": "Clave platillo=MENS18<br>Grupo=%{x}<br>Cantidad=%{y}",
         "legendgroup": "Clave platillo=MENS18",
         "marker": {
          "color": "#EF553B"
         },
         "name": "Clave platillo=MENS18",
         "offsetgroup": "Clave platillo=MENS18",
         "orientation": "v",
         "showlegend": true,
         "textposition": "auto",
         "type": "bar",
         "x": [
          "ENSALADAS"
         ],
         "xaxis": "x",
         "y": [
          11
         ],
         "yaxis": "y"
        },
        {
         "alignmentgroup": "True",
         "hoverlabel": {
          "namelength": 0
         },
         "hovertemplate": "Clave platillo=MENS16<br>Grupo=%{x}<br>Cantidad=%{y}",
         "legendgroup": "Clave platillo=MENS16",
         "marker": {
          "color": "#00cc96"
         },
         "name": "Clave platillo=MENS16",
         "offsetgroup": "Clave platillo=MENS16",
         "orientation": "v",
         "showlegend": true,
         "textposition": "auto",
         "type": "bar",
         "x": [
          "ENSALADAS"
         ],
         "xaxis": "x",
         "y": [
          1
         ],
         "yaxis": "y"
        },
        {
         "alignmentgroup": "True",
         "hoverlabel": {
          "namelength": 0
         },
         "hovertemplate": "Clave platillo=MENS13<br>Grupo=%{x}<br>Cantidad=%{y}",
         "legendgroup": "Clave platillo=MENS13",
         "marker": {
          "color": "#ab63fa"
         },
         "name": "Clave platillo=MENS13",
         "offsetgroup": "Clave platillo=MENS13",
         "orientation": "v",
         "showlegend": true,
         "textposition": "auto",
         "type": "bar",
         "x": [
          "ENSALADAS"
         ],
         "xaxis": "x",
         "y": [
          1
         ],
         "yaxis": "y"
        },
        {
         "alignmentgroup": "True",
         "hoverlabel": {
          "namelength": 0
         },
         "hovertemplate": "Clave platillo=MCLÁ8<br>Grupo=%{x}<br>Cantidad=%{y}",
         "legendgroup": "Clave platillo=MCLÁ8",
         "marker": {
          "color": "#FFA15A"
         },
         "name": "Clave platillo=MCLÁ8",
         "offsetgroup": "Clave platillo=MCLÁ8",
         "orientation": "v",
         "showlegend": true,
         "textposition": "auto",
         "type": "bar",
         "x": [
          "CLÁSICOS"
         ],
         "xaxis": "x",
         "y": [
          117
         ],
         "yaxis": "y"
        },
        {
         "alignmentgroup": "True",
         "hoverlabel": {
          "namelength": 0
         },
         "hovertemplate": "Clave platillo=MCLÁ7<br>Grupo=%{x}<br>Cantidad=%{y}",
         "legendgroup": "Clave platillo=MCLÁ7",
         "marker": {
          "color": "#19d3f3"
         },
         "name": "Clave platillo=MCLÁ7",
         "offsetgroup": "Clave platillo=MCLÁ7",
         "orientation": "v",
         "showlegend": true,
         "textposition": "auto",
         "type": "bar",
         "x": [
          "CLÁSICOS"
         ],
         "xaxis": "x",
         "y": [
          7
         ],
         "yaxis": "y"
        },
        {
         "alignmentgroup": "True",
         "hoverlabel": {
          "namelength": 0
         },
         "hovertemplate": "Clave platillo=MCLÁ69<br>Grupo=%{x}<br>Cantidad=%{y}",
         "legendgroup": "Clave platillo=MCLÁ69",
         "marker": {
          "color": "#FF6692"
         },
         "name": "Clave platillo=MCLÁ69",
         "offsetgroup": "Clave platillo=MCLÁ69",
         "orientation": "v",
         "showlegend": true,
         "textposition": "auto",
         "type": "bar",
         "x": [
          "CLÁSICOS"
         ],
         "xaxis": "x",
         "y": [
          1
         ],
         "yaxis": "y"
        },
        {
         "alignmentgroup": "True",
         "hoverlabel": {
          "namelength": 0
         },
         "hovertemplate": "Clave platillo=MCLÁ65<br>Grupo=%{x}<br>Cantidad=%{y}",
         "legendgroup": "Clave platillo=MCLÁ65",
         "marker": {
          "color": "#B6E880"
         },
         "name": "Clave platillo=MCLÁ65",
         "offsetgroup": "Clave platillo=MCLÁ65",
         "orientation": "v",
         "showlegend": true,
         "textposition": "auto",
         "type": "bar",
         "x": [
          "CLÁSICOS"
         ],
         "xaxis": "x",
         "y": [
          1
         ],
         "yaxis": "y"
        },
        {
         "alignmentgroup": "True",
         "hoverlabel": {
          "namelength": 0
         },
         "hovertemplate": "Clave platillo=MCLÁ64<br>Grupo=%{x}<br>Cantidad=%{y}",
         "legendgroup": "Clave platillo=MCLÁ64",
         "marker": {
          "color": "#FF97FF"
         },
         "name": "Clave platillo=MCLÁ64",
         "offsetgroup": "Clave platillo=MCLÁ64",
         "orientation": "v",
         "showlegend": true,
         "textposition": "auto",
         "type": "bar",
         "x": [
          "CLÁSICOS"
         ],
         "xaxis": "x",
         "y": [
          231
         ],
         "yaxis": "y"
        },
        {
         "alignmentgroup": "True",
         "hoverlabel": {
          "namelength": 0
         },
         "hovertemplate": "Clave platillo=MCLÁ63<br>Grupo=%{x}<br>Cantidad=%{y}",
         "legendgroup": "Clave platillo=MCLÁ63",
         "marker": {
          "color": "#FECB52"
         },
         "name": "Clave platillo=MCLÁ63",
         "offsetgroup": "Clave platillo=MCLÁ63",
         "orientation": "v",
         "showlegend": true,
         "textposition": "auto",
         "type": "bar",
         "x": [
          "CLÁSICOS"
         ],
         "xaxis": "x",
         "y": [
          1
         ],
         "yaxis": "y"
        },
        {
         "alignmentgroup": "True",
         "hoverlabel": {
          "namelength": 0
         },
         "hovertemplate": "Clave platillo=MCLÁ62<br>Grupo=%{x}<br>Cantidad=%{y}",
         "legendgroup": "Clave platillo=MCLÁ62",
         "marker": {
          "color": "#636efa"
         },
         "name": "Clave platillo=MCLÁ62",
         "offsetgroup": "Clave platillo=MCLÁ62",
         "orientation": "v",
         "showlegend": true,
         "textposition": "auto",
         "type": "bar",
         "x": [
          "CLÁSICOS"
         ],
         "xaxis": "x",
         "y": [
          1
         ],
         "yaxis": "y"
        },
        {
         "alignmentgroup": "True",
         "hoverlabel": {
          "namelength": 0
         },
         "hovertemplate": "Clave platillo=MCLÁ6<br>Grupo=%{x}<br>Cantidad=%{y}",
         "legendgroup": "Clave platillo=MCLÁ6",
         "marker": {
          "color": "#EF553B"
         },
         "name": "Clave platillo=MCLÁ6",
         "offsetgroup": "Clave platillo=MCLÁ6",
         "orientation": "v",
         "showlegend": true,
         "textposition": "auto",
         "type": "bar",
         "x": [
          "CLÁSICOS"
         ],
         "xaxis": "x",
         "y": [
          12
         ],
         "yaxis": "y"
        },
        {
         "alignmentgroup": "True",
         "hoverlabel": {
          "namelength": 0
         },
         "hovertemplate": "Clave platillo=MCLÁ59<br>Grupo=%{x}<br>Cantidad=%{y}",
         "legendgroup": "Clave platillo=MCLÁ59",
         "marker": {
          "color": "#00cc96"
         },
         "name": "Clave platillo=MCLÁ59",
         "offsetgroup": "Clave platillo=MCLÁ59",
         "orientation": "v",
         "showlegend": true,
         "textposition": "auto",
         "type": "bar",
         "x": [
          "CLÁSICOS"
         ],
         "xaxis": "x",
         "y": [
          1
         ],
         "yaxis": "y"
        },
        {
         "alignmentgroup": "True",
         "hoverlabel": {
          "namelength": 0
         },
         "hovertemplate": "Clave platillo=MCLÁ58<br>Grupo=%{x}<br>Cantidad=%{y}",
         "legendgroup": "Clave platillo=MCLÁ58",
         "marker": {
          "color": "#ab63fa"
         },
         "name": "Clave platillo=MCLÁ58",
         "offsetgroup": "Clave platillo=MCLÁ58",
         "orientation": "v",
         "showlegend": true,
         "textposition": "auto",
         "type": "bar",
         "x": [
          "CLÁSICOS"
         ],
         "xaxis": "x",
         "y": [
          1
         ],
         "yaxis": "y"
        },
        {
         "alignmentgroup": "True",
         "hoverlabel": {
          "namelength": 0
         },
         "hovertemplate": "Clave platillo=MCLÁ57<br>Grupo=%{x}<br>Cantidad=%{y}",
         "legendgroup": "Clave platillo=MCLÁ57",
         "marker": {
          "color": "#FFA15A"
         },
         "name": "Clave platillo=MCLÁ57",
         "offsetgroup": "Clave platillo=MCLÁ57",
         "orientation": "v",
         "showlegend": true,
         "textposition": "auto",
         "type": "bar",
         "x": [
          "CLÁSICOS"
         ],
         "xaxis": "x",
         "y": [
          328
         ],
         "yaxis": "y"
        },
        {
         "alignmentgroup": "True",
         "hoverlabel": {
          "namelength": 0
         },
         "hovertemplate": "Clave platillo=MCLÁ56<br>Grupo=%{x}<br>Cantidad=%{y}",
         "legendgroup": "Clave platillo=MCLÁ56",
         "marker": {
          "color": "#19d3f3"
         },
         "name": "Clave platillo=MCLÁ56",
         "offsetgroup": "Clave platillo=MCLÁ56",
         "orientation": "v",
         "showlegend": true,
         "textposition": "auto",
         "type": "bar",
         "x": [
          "CLÁSICOS"
         ],
         "xaxis": "x",
         "y": [
          20
         ],
         "yaxis": "y"
        },
        {
         "alignmentgroup": "True",
         "hoverlabel": {
          "namelength": 0
         },
         "hovertemplate": "Clave platillo=MCLÁ55<br>Grupo=%{x}<br>Cantidad=%{y}",
         "legendgroup": "Clave platillo=MCLÁ55",
         "marker": {
          "color": "#FF6692"
         },
         "name": "Clave platillo=MCLÁ55",
         "offsetgroup": "Clave platillo=MCLÁ55",
         "orientation": "v",
         "showlegend": true,
         "textposition": "auto",
         "type": "bar",
         "x": [
          "CLÁSICOS"
         ],
         "xaxis": "x",
         "y": [
          8
         ],
         "yaxis": "y"
        },
        {
         "alignmentgroup": "True",
         "hoverlabel": {
          "namelength": 0
         },
         "hovertemplate": "Clave platillo=MCLÁ54<br>Grupo=%{x}<br>Cantidad=%{y}",
         "legendgroup": "Clave platillo=MCLÁ54",
         "marker": {
          "color": "#B6E880"
         },
         "name": "Clave platillo=MCLÁ54",
         "offsetgroup": "Clave platillo=MCLÁ54",
         "orientation": "v",
         "showlegend": true,
         "textposition": "auto",
         "type": "bar",
         "x": [
          "CLÁSICOS"
         ],
         "xaxis": "x",
         "y": [
          516
         ],
         "yaxis": "y"
        },
        {
         "alignmentgroup": "True",
         "hoverlabel": {
          "namelength": 0
         },
         "hovertemplate": "Clave platillo=MCLÁ53<br>Grupo=%{x}<br>Cantidad=%{y}",
         "legendgroup": "Clave platillo=MCLÁ53",
         "marker": {
          "color": "#FF97FF"
         },
         "name": "Clave platillo=MCLÁ53",
         "offsetgroup": "Clave platillo=MCLÁ53",
         "orientation": "v",
         "showlegend": true,
         "textposition": "auto",
         "type": "bar",
         "x": [
          "CLÁSICOS"
         ],
         "xaxis": "x",
         "y": [
          195
         ],
         "yaxis": "y"
        },
        {
         "alignmentgroup": "True",
         "hoverlabel": {
          "namelength": 0
         },
         "hovertemplate": "Clave platillo=MCLÁ52<br>Grupo=%{x}<br>Cantidad=%{y}",
         "legendgroup": "Clave platillo=MCLÁ52",
         "marker": {
          "color": "#FECB52"
         },
         "name": "Clave platillo=MCLÁ52",
         "offsetgroup": "Clave platillo=MCLÁ52",
         "orientation": "v",
         "showlegend": true,
         "textposition": "auto",
         "type": "bar",
         "x": [
          "CLÁSICOS"
         ],
         "xaxis": "x",
         "y": [
          4
         ],
         "yaxis": "y"
        },
        {
         "alignmentgroup": "True",
         "hoverlabel": {
          "namelength": 0
         },
         "hovertemplate": "Clave platillo=MCLÁ51<br>Grupo=%{x}<br>Cantidad=%{y}",
         "legendgroup": "Clave platillo=MCLÁ51",
         "marker": {
          "color": "#636efa"
         },
         "name": "Clave platillo=MCLÁ51",
         "offsetgroup": "Clave platillo=MCLÁ51",
         "orientation": "v",
         "showlegend": true,
         "textposition": "auto",
         "type": "bar",
         "x": [
          "CLÁSICOS"
         ],
         "xaxis": "x",
         "y": [
          6
         ],
         "yaxis": "y"
        },
        {
         "alignmentgroup": "True",
         "hoverlabel": {
          "namelength": 0
         },
         "hovertemplate": "Clave platillo=MCLÁ50<br>Grupo=%{x}<br>Cantidad=%{y}",
         "legendgroup": "Clave platillo=MCLÁ50",
         "marker": {
          "color": "#EF553B"
         },
         "name": "Clave platillo=MCLÁ50",
         "offsetgroup": "Clave platillo=MCLÁ50",
         "orientation": "v",
         "showlegend": true,
         "textposition": "auto",
         "type": "bar",
         "x": [
          "CLÁSICOS"
         ],
         "xaxis": "x",
         "y": [
          572
         ],
         "yaxis": "y"
        },
        {
         "alignmentgroup": "True",
         "hoverlabel": {
          "namelength": 0
         },
         "hovertemplate": "Clave platillo=MCLÁ5<br>Grupo=%{x}<br>Cantidad=%{y}",
         "legendgroup": "Clave platillo=MCLÁ5",
         "marker": {
          "color": "#00cc96"
         },
         "name": "Clave platillo=MCLÁ5",
         "offsetgroup": "Clave platillo=MCLÁ5",
         "orientation": "v",
         "showlegend": true,
         "textposition": "auto",
         "type": "bar",
         "x": [
          "CLÁSICOS"
         ],
         "xaxis": "x",
         "y": [
          5
         ],
         "yaxis": "y"
        },
        {
         "alignmentgroup": "True",
         "hoverlabel": {
          "namelength": 0
         },
         "hovertemplate": "Clave platillo=MCLÁ49<br>Grupo=%{x}<br>Cantidad=%{y}",
         "legendgroup": "Clave platillo=MCLÁ49",
         "marker": {
          "color": "#ab63fa"
         },
         "name": "Clave platillo=MCLÁ49",
         "offsetgroup": "Clave platillo=MCLÁ49",
         "orientation": "v",
         "showlegend": true,
         "textposition": "auto",
         "type": "bar",
         "x": [
          "CLÁSICOS"
         ],
         "xaxis": "x",
         "y": [
          491
         ],
         "yaxis": "y"
        },
        {
         "alignmentgroup": "True",
         "hoverlabel": {
          "namelength": 0
         },
         "hovertemplate": "Clave platillo=MCLÁ48<br>Grupo=%{x}<br>Cantidad=%{y}",
         "legendgroup": "Clave platillo=MCLÁ48",
         "marker": {
          "color": "#FFA15A"
         },
         "name": "Clave platillo=MCLÁ48",
         "offsetgroup": "Clave platillo=MCLÁ48",
         "orientation": "v",
         "showlegend": true,
         "textposition": "auto",
         "type": "bar",
         "x": [
          "CLÁSICOS"
         ],
         "xaxis": "x",
         "y": [
          3
         ],
         "yaxis": "y"
        },
        {
         "alignmentgroup": "True",
         "hoverlabel": {
          "namelength": 0
         },
         "hovertemplate": "Clave platillo=MCLÁ47<br>Grupo=%{x}<br>Cantidad=%{y}",
         "legendgroup": "Clave platillo=MCLÁ47",
         "marker": {
          "color": "#19d3f3"
         },
         "name": "Clave platillo=MCLÁ47",
         "offsetgroup": "Clave platillo=MCLÁ47",
         "orientation": "v",
         "showlegend": true,
         "textposition": "auto",
         "type": "bar",
         "x": [
          "CLÁSICOS"
         ],
         "xaxis": "x",
         "y": [
          3
         ],
         "yaxis": "y"
        },
        {
         "alignmentgroup": "True",
         "hoverlabel": {
          "namelength": 0
         },
         "hovertemplate": "Clave platillo=MCLÁ46<br>Grupo=%{x}<br>Cantidad=%{y}",
         "legendgroup": "Clave platillo=MCLÁ46",
         "marker": {
          "color": "#FF6692"
         },
         "name": "Clave platillo=MCLÁ46",
         "offsetgroup": "Clave platillo=MCLÁ46",
         "orientation": "v",
         "showlegend": true,
         "textposition": "auto",
         "type": "bar",
         "x": [
          "CLÁSICOS"
         ],
         "xaxis": "x",
         "y": [
          3
         ],
         "yaxis": "y"
        },
        {
         "alignmentgroup": "True",
         "hoverlabel": {
          "namelength": 0
         },
         "hovertemplate": "Clave platillo=MCLÁ45<br>Grupo=%{x}<br>Cantidad=%{y}",
         "legendgroup": "Clave platillo=MCLÁ45",
         "marker": {
          "color": "#B6E880"
         },
         "name": "Clave platillo=MCLÁ45",
         "offsetgroup": "Clave platillo=MCLÁ45",
         "orientation": "v",
         "showlegend": true,
         "textposition": "auto",
         "type": "bar",
         "x": [
          "CLÁSICOS"
         ],
         "xaxis": "x",
         "y": [
          5
         ],
         "yaxis": "y"
        },
        {
         "alignmentgroup": "True",
         "hoverlabel": {
          "namelength": 0
         },
         "hovertemplate": "Clave platillo=MCLÁ44<br>Grupo=%{x}<br>Cantidad=%{y}",
         "legendgroup": "Clave platillo=MCLÁ44",
         "marker": {
          "color": "#FF97FF"
         },
         "name": "Clave platillo=MCLÁ44",
         "offsetgroup": "Clave platillo=MCLÁ44",
         "orientation": "v",
         "showlegend": true,
         "textposition": "auto",
         "type": "bar",
         "x": [
          "CLÁSICOS"
         ],
         "xaxis": "x",
         "y": [
          14
         ],
         "yaxis": "y"
        },
        {
         "alignmentgroup": "True",
         "hoverlabel": {
          "namelength": 0
         },
         "hovertemplate": "Clave platillo=MCLÁ43<br>Grupo=%{x}<br>Cantidad=%{y}",
         "legendgroup": "Clave platillo=MCLÁ43",
         "marker": {
          "color": "#FECB52"
         },
         "name": "Clave platillo=MCLÁ43",
         "offsetgroup": "Clave platillo=MCLÁ43",
         "orientation": "v",
         "showlegend": true,
         "textposition": "auto",
         "type": "bar",
         "x": [
          "CLÁSICOS"
         ],
         "xaxis": "x",
         "y": [
          12
         ],
         "yaxis": "y"
        },
        {
         "alignmentgroup": "True",
         "hoverlabel": {
          "namelength": 0
         },
         "hovertemplate": "Clave platillo=MCLÁ42<br>Grupo=%{x}<br>Cantidad=%{y}",
         "legendgroup": "Clave platillo=MCLÁ42",
         "marker": {
          "color": "#636efa"
         },
         "name": "Clave platillo=MCLÁ42",
         "offsetgroup": "Clave platillo=MCLÁ42",
         "orientation": "v",
         "showlegend": true,
         "textposition": "auto",
         "type": "bar",
         "x": [
          "CLÁSICOS"
         ],
         "xaxis": "x",
         "y": [
          43
         ],
         "yaxis": "y"
        },
        {
         "alignmentgroup": "True",
         "hoverlabel": {
          "namelength": 0
         },
         "hovertemplate": "Clave platillo=MCLÁ41<br>Grupo=%{x}<br>Cantidad=%{y}",
         "legendgroup": "Clave platillo=MCLÁ41",
         "marker": {
          "color": "#EF553B"
         },
         "name": "Clave platillo=MCLÁ41",
         "offsetgroup": "Clave platillo=MCLÁ41",
         "orientation": "v",
         "showlegend": true,
         "textposition": "auto",
         "type": "bar",
         "x": [
          "CLÁSICOS"
         ],
         "xaxis": "x",
         "y": [
          47
         ],
         "yaxis": "y"
        },
        {
         "alignmentgroup": "True",
         "hoverlabel": {
          "namelength": 0
         },
         "hovertemplate": "Clave platillo=MCLÁ40<br>Grupo=%{x}<br>Cantidad=%{y}",
         "legendgroup": "Clave platillo=MCLÁ40",
         "marker": {
          "color": "#00cc96"
         },
         "name": "Clave platillo=MCLÁ40",
         "offsetgroup": "Clave platillo=MCLÁ40",
         "orientation": "v",
         "showlegend": true,
         "textposition": "auto",
         "type": "bar",
         "x": [
          "CLÁSICOS"
         ],
         "xaxis": "x",
         "y": [
          2
         ],
         "yaxis": "y"
        },
        {
         "alignmentgroup": "True",
         "hoverlabel": {
          "namelength": 0
         },
         "hovertemplate": "Clave platillo=MCLÁ4<br>Grupo=%{x}<br>Cantidad=%{y}",
         "legendgroup": "Clave platillo=MCLÁ4",
         "marker": {
          "color": "#ab63fa"
         },
         "name": "Clave platillo=MCLÁ4",
         "offsetgroup": "Clave platillo=MCLÁ4",
         "orientation": "v",
         "showlegend": true,
         "textposition": "auto",
         "type": "bar",
         "x": [
          "CLÁSICOS"
         ],
         "xaxis": "x",
         "y": [
          12
         ],
         "yaxis": "y"
        },
        {
         "alignmentgroup": "True",
         "hoverlabel": {
          "namelength": 0
         },
         "hovertemplate": "Clave platillo=MCLÁ39<br>Grupo=%{x}<br>Cantidad=%{y}",
         "legendgroup": "Clave platillo=MCLÁ39",
         "marker": {
          "color": "#FFA15A"
         },
         "name": "Clave platillo=MCLÁ39",
         "offsetgroup": "Clave platillo=MCLÁ39",
         "orientation": "v",
         "showlegend": true,
         "textposition": "auto",
         "type": "bar",
         "x": [
          "CLÁSICOS"
         ],
         "xaxis": "x",
         "y": [
          1
         ],
         "yaxis": "y"
        },
        {
         "alignmentgroup": "True",
         "hoverlabel": {
          "namelength": 0
         },
         "hovertemplate": "Clave platillo=MCLÁ38<br>Grupo=%{x}<br>Cantidad=%{y}",
         "legendgroup": "Clave platillo=MCLÁ38",
         "marker": {
          "color": "#19d3f3"
         },
         "name": "Clave platillo=MCLÁ38",
         "offsetgroup": "Clave platillo=MCLÁ38",
         "orientation": "v",
         "showlegend": true,
         "textposition": "auto",
         "type": "bar",
         "x": [
          "CLÁSICOS"
         ],
         "xaxis": "x",
         "y": [
          4
         ],
         "yaxis": "y"
        },
        {
         "alignmentgroup": "True",
         "hoverlabel": {
          "namelength": 0
         },
         "hovertemplate": "Clave platillo=MCLÁ37<br>Grupo=%{x}<br>Cantidad=%{y}",
         "legendgroup": "Clave platillo=MCLÁ37",
         "marker": {
          "color": "#FF6692"
         },
         "name": "Clave platillo=MCLÁ37",
         "offsetgroup": "Clave platillo=MCLÁ37",
         "orientation": "v",
         "showlegend": true,
         "textposition": "auto",
         "type": "bar",
         "x": [
          "CLÁSICOS"
         ],
         "xaxis": "x",
         "y": [
          1
         ],
         "yaxis": "y"
        },
        {
         "alignmentgroup": "True",
         "hoverlabel": {
          "namelength": 0
         },
         "hovertemplate": "Clave platillo=MCLÁ36<br>Grupo=%{x}<br>Cantidad=%{y}",
         "legendgroup": "Clave platillo=MCLÁ36",
         "marker": {
          "color": "#B6E880"
         },
         "name": "Clave platillo=MCLÁ36",
         "offsetgroup": "Clave platillo=MCLÁ36",
         "orientation": "v",
         "showlegend": true,
         "textposition": "auto",
         "type": "bar",
         "x": [
          "CLÁSICOS"
         ],
         "xaxis": "x",
         "y": [
          5
         ],
         "yaxis": "y"
        },
        {
         "alignmentgroup": "True",
         "hoverlabel": {
          "namelength": 0
         },
         "hovertemplate": "Clave platillo=MCLÁ35<br>Grupo=%{x}<br>Cantidad=%{y}",
         "legendgroup": "Clave platillo=MCLÁ35",
         "marker": {
          "color": "#FF97FF"
         },
         "name": "Clave platillo=MCLÁ35",
         "offsetgroup": "Clave platillo=MCLÁ35",
         "orientation": "v",
         "showlegend": true,
         "textposition": "auto",
         "type": "bar",
         "x": [
          "CLÁSICOS"
         ],
         "xaxis": "x",
         "y": [
          1
         ],
         "yaxis": "y"
        },
        {
         "alignmentgroup": "True",
         "hoverlabel": {
          "namelength": 0
         },
         "hovertemplate": "Clave platillo=MCLÁ34<br>Grupo=%{x}<br>Cantidad=%{y}",
         "legendgroup": "Clave platillo=MCLÁ34",
         "marker": {
          "color": "#FECB52"
         },
         "name": "Clave platillo=MCLÁ34",
         "offsetgroup": "Clave platillo=MCLÁ34",
         "orientation": "v",
         "showlegend": true,
         "textposition": "auto",
         "type": "bar",
         "x": [
          "CLÁSICOS"
         ],
         "xaxis": "x",
         "y": [
          88
         ],
         "yaxis": "y"
        },
        {
         "alignmentgroup": "True",
         "hoverlabel": {
          "namelength": 0
         },
         "hovertemplate": "Clave platillo=MCLÁ33<br>Grupo=%{x}<br>Cantidad=%{y}",
         "legendgroup": "Clave platillo=MCLÁ33",
         "marker": {
          "color": "#636efa"
         },
         "name": "Clave platillo=MCLÁ33",
         "offsetgroup": "Clave platillo=MCLÁ33",
         "orientation": "v",
         "showlegend": true,
         "textposition": "auto",
         "type": "bar",
         "x": [
          "CLÁSICOS"
         ],
         "xaxis": "x",
         "y": [
          18
         ],
         "yaxis": "y"
        },
        {
         "alignmentgroup": "True",
         "hoverlabel": {
          "namelength": 0
         },
         "hovertemplate": "Clave platillo=MCLÁ32<br>Grupo=%{x}<br>Cantidad=%{y}",
         "legendgroup": "Clave platillo=MCLÁ32",
         "marker": {
          "color": "#EF553B"
         },
         "name": "Clave platillo=MCLÁ32",
         "offsetgroup": "Clave platillo=MCLÁ32",
         "orientation": "v",
         "showlegend": true,
         "textposition": "auto",
         "type": "bar",
         "x": [
          "CLÁSICOS"
         ],
         "xaxis": "x",
         "y": [
          13
         ],
         "yaxis": "y"
        },
        {
         "alignmentgroup": "True",
         "hoverlabel": {
          "namelength": 0
         },
         "hovertemplate": "Clave platillo=MCLÁ31<br>Grupo=%{x}<br>Cantidad=%{y}",
         "legendgroup": "Clave platillo=MCLÁ31",
         "marker": {
          "color": "#00cc96"
         },
         "name": "Clave platillo=MCLÁ31",
         "offsetgroup": "Clave platillo=MCLÁ31",
         "orientation": "v",
         "showlegend": true,
         "textposition": "auto",
         "type": "bar",
         "x": [
          "CLÁSICOS"
         ],
         "xaxis": "x",
         "y": [
          13
         ],
         "yaxis": "y"
        },
        {
         "alignmentgroup": "True",
         "hoverlabel": {
          "namelength": 0
         },
         "hovertemplate": "Clave platillo=MCLÁ30<br>Grupo=%{x}<br>Cantidad=%{y}",
         "legendgroup": "Clave platillo=MCLÁ30",
         "marker": {
          "color": "#ab63fa"
         },
         "name": "Clave platillo=MCLÁ30",
         "offsetgroup": "Clave platillo=MCLÁ30",
         "orientation": "v",
         "showlegend": true,
         "textposition": "auto",
         "type": "bar",
         "x": [
          "CLÁSICOS"
         ],
         "xaxis": "x",
         "y": [
          28
         ],
         "yaxis": "y"
        },
        {
         "alignmentgroup": "True",
         "hoverlabel": {
          "namelength": 0
         },
         "hovertemplate": "Clave platillo=MCLÁ28<br>Grupo=%{x}<br>Cantidad=%{y}",
         "legendgroup": "Clave platillo=MCLÁ28",
         "marker": {
          "color": "#FFA15A"
         },
         "name": "Clave platillo=MCLÁ28",
         "offsetgroup": "Clave platillo=MCLÁ28",
         "orientation": "v",
         "showlegend": true,
         "textposition": "auto",
         "type": "bar",
         "x": [
          "CLÁSICOS"
         ],
         "xaxis": "x",
         "y": [
          25
         ],
         "yaxis": "y"
        },
        {
         "alignmentgroup": "True",
         "hoverlabel": {
          "namelength": 0
         },
         "hovertemplate": "Clave platillo=MCLÁ27<br>Grupo=%{x}<br>Cantidad=%{y}",
         "legendgroup": "Clave platillo=MCLÁ27",
         "marker": {
          "color": "#19d3f3"
         },
         "name": "Clave platillo=MCLÁ27",
         "offsetgroup": "Clave platillo=MCLÁ27",
         "orientation": "v",
         "showlegend": true,
         "textposition": "auto",
         "type": "bar",
         "x": [
          "CLÁSICOS"
         ],
         "xaxis": "x",
         "y": [
          9
         ],
         "yaxis": "y"
        },
        {
         "alignmentgroup": "True",
         "hoverlabel": {
          "namelength": 0
         },
         "hovertemplate": "Clave platillo=MCLÁ26<br>Grupo=%{x}<br>Cantidad=%{y}",
         "legendgroup": "Clave platillo=MCLÁ26",
         "marker": {
          "color": "#FF6692"
         },
         "name": "Clave platillo=MCLÁ26",
         "offsetgroup": "Clave platillo=MCLÁ26",
         "orientation": "v",
         "showlegend": true,
         "textposition": "auto",
         "type": "bar",
         "x": [
          "CLÁSICOS"
         ],
         "xaxis": "x",
         "y": [
          1
         ],
         "yaxis": "y"
        },
        {
         "alignmentgroup": "True",
         "hoverlabel": {
          "namelength": 0
         },
         "hovertemplate": "Clave platillo=MCLÁ25<br>Grupo=%{x}<br>Cantidad=%{y}",
         "legendgroup": "Clave platillo=MCLÁ25",
         "marker": {
          "color": "#B6E880"
         },
         "name": "Clave platillo=MCLÁ25",
         "offsetgroup": "Clave platillo=MCLÁ25",
         "orientation": "v",
         "showlegend": true,
         "textposition": "auto",
         "type": "bar",
         "x": [
          "CLÁSICOS"
         ],
         "xaxis": "x",
         "y": [
          804
         ],
         "yaxis": "y"
        },
        {
         "alignmentgroup": "True",
         "hoverlabel": {
          "namelength": 0
         },
         "hovertemplate": "Clave platillo=MCLÁ24<br>Grupo=%{x}<br>Cantidad=%{y}",
         "legendgroup": "Clave platillo=MCLÁ24",
         "marker": {
          "color": "#FF97FF"
         },
         "name": "Clave platillo=MCLÁ24",
         "offsetgroup": "Clave platillo=MCLÁ24",
         "orientation": "v",
         "showlegend": true,
         "textposition": "auto",
         "type": "bar",
         "x": [
          "CLÁSICOS"
         ],
         "xaxis": "x",
         "y": [
          39
         ],
         "yaxis": "y"
        },
        {
         "alignmentgroup": "True",
         "hoverlabel": {
          "namelength": 0
         },
         "hovertemplate": "Clave platillo=MCLÁ23<br>Grupo=%{x}<br>Cantidad=%{y}",
         "legendgroup": "Clave platillo=MCLÁ23",
         "marker": {
          "color": "#FECB52"
         },
         "name": "Clave platillo=MCLÁ23",
         "offsetgroup": "Clave platillo=MCLÁ23",
         "orientation": "v",
         "showlegend": true,
         "textposition": "auto",
         "type": "bar",
         "x": [
          "CLÁSICOS"
         ],
         "xaxis": "x",
         "y": [
          56
         ],
         "yaxis": "y"
        },
        {
         "alignmentgroup": "True",
         "hoverlabel": {
          "namelength": 0
         },
         "hovertemplate": "Clave platillo=MCLÁ22<br>Grupo=%{x}<br>Cantidad=%{y}",
         "legendgroup": "Clave platillo=MCLÁ22",
         "marker": {
          "color": "#636efa"
         },
         "name": "Clave platillo=MCLÁ22",
         "offsetgroup": "Clave platillo=MCLÁ22",
         "orientation": "v",
         "showlegend": true,
         "textposition": "auto",
         "type": "bar",
         "x": [
          "CLÁSICOS"
         ],
         "xaxis": "x",
         "y": [
          58
         ],
         "yaxis": "y"
        },
        {
         "alignmentgroup": "True",
         "hoverlabel": {
          "namelength": 0
         },
         "hovertemplate": "Clave platillo=MCLÁ21<br>Grupo=%{x}<br>Cantidad=%{y}",
         "legendgroup": "Clave platillo=MCLÁ21",
         "marker": {
          "color": "#EF553B"
         },
         "name": "Clave platillo=MCLÁ21",
         "offsetgroup": "Clave platillo=MCLÁ21",
         "orientation": "v",
         "showlegend": true,
         "textposition": "auto",
         "type": "bar",
         "x": [
          "CLÁSICOS"
         ],
         "xaxis": "x",
         "y": [
          62
         ],
         "yaxis": "y"
        },
        {
         "alignmentgroup": "True",
         "hoverlabel": {
          "namelength": 0
         },
         "hovertemplate": "Clave platillo=MCLÁ20<br>Grupo=%{x}<br>Cantidad=%{y}",
         "legendgroup": "Clave platillo=MCLÁ20",
         "marker": {
          "color": "#00cc96"
         },
         "name": "Clave platillo=MCLÁ20",
         "offsetgroup": "Clave platillo=MCLÁ20",
         "orientation": "v",
         "showlegend": true,
         "textposition": "auto",
         "type": "bar",
         "x": [
          "CLÁSICOS"
         ],
         "xaxis": "x",
         "y": [
          13
         ],
         "yaxis": "y"
        },
        {
         "alignmentgroup": "True",
         "hoverlabel": {
          "namelength": 0
         },
         "hovertemplate": "Clave platillo=MCLÁ2<br>Grupo=%{x}<br>Cantidad=%{y}",
         "legendgroup": "Clave platillo=MCLÁ2",
         "marker": {
          "color": "#ab63fa"
         },
         "name": "Clave platillo=MCLÁ2",
         "offsetgroup": "Clave platillo=MCLÁ2",
         "orientation": "v",
         "showlegend": true,
         "textposition": "auto",
         "type": "bar",
         "x": [
          "CLÁSICOS"
         ],
         "xaxis": "x",
         "y": [
          14
         ],
         "yaxis": "y"
        },
        {
         "alignmentgroup": "True",
         "hoverlabel": {
          "namelength": 0
         },
         "hovertemplate": "Clave platillo=MCLÁ19<br>Grupo=%{x}<br>Cantidad=%{y}",
         "legendgroup": "Clave platillo=MCLÁ19",
         "marker": {
          "color": "#FFA15A"
         },
         "name": "Clave platillo=MCLÁ19",
         "offsetgroup": "Clave platillo=MCLÁ19",
         "orientation": "v",
         "showlegend": true,
         "textposition": "auto",
         "type": "bar",
         "x": [
          "CLÁSICOS"
         ],
         "xaxis": "x",
         "y": [
          100
         ],
         "yaxis": "y"
        },
        {
         "alignmentgroup": "True",
         "hoverlabel": {
          "namelength": 0
         },
         "hovertemplate": "Clave platillo=MCLÁ18<br>Grupo=%{x}<br>Cantidad=%{y}",
         "legendgroup": "Clave platillo=MCLÁ18",
         "marker": {
          "color": "#19d3f3"
         },
         "name": "Clave platillo=MCLÁ18",
         "offsetgroup": "Clave platillo=MCLÁ18",
         "orientation": "v",
         "showlegend": true,
         "textposition": "auto",
         "type": "bar",
         "x": [
          "CLÁSICOS"
         ],
         "xaxis": "x",
         "y": [
          44
         ],
         "yaxis": "y"
        },
        {
         "alignmentgroup": "True",
         "hoverlabel": {
          "namelength": 0
         },
         "hovertemplate": "Clave platillo=MCLÁ17<br>Grupo=%{x}<br>Cantidad=%{y}",
         "legendgroup": "Clave platillo=MCLÁ17",
         "marker": {
          "color": "#FF6692"
         },
         "name": "Clave platillo=MCLÁ17",
         "offsetgroup": "Clave platillo=MCLÁ17",
         "orientation": "v",
         "showlegend": true,
         "textposition": "auto",
         "type": "bar",
         "x": [
          "CLÁSICOS"
         ],
         "xaxis": "x",
         "y": [
          35
         ],
         "yaxis": "y"
        },
        {
         "alignmentgroup": "True",
         "hoverlabel": {
          "namelength": 0
         },
         "hovertemplate": "Clave platillo=MCLÁ16<br>Grupo=%{x}<br>Cantidad=%{y}",
         "legendgroup": "Clave platillo=MCLÁ16",
         "marker": {
          "color": "#B6E880"
         },
         "name": "Clave platillo=MCLÁ16",
         "offsetgroup": "Clave platillo=MCLÁ16",
         "orientation": "v",
         "showlegend": true,
         "textposition": "auto",
         "type": "bar",
         "x": [
          "CLÁSICOS"
         ],
         "xaxis": "x",
         "y": [
          12
         ],
         "yaxis": "y"
        },
        {
         "alignmentgroup": "True",
         "hoverlabel": {
          "namelength": 0
         },
         "hovertemplate": "Clave platillo=MCLÁ15<br>Grupo=%{x}<br>Cantidad=%{y}",
         "legendgroup": "Clave platillo=MCLÁ15",
         "marker": {
          "color": "#FF97FF"
         },
         "name": "Clave platillo=MCLÁ15",
         "offsetgroup": "Clave platillo=MCLÁ15",
         "orientation": "v",
         "showlegend": true,
         "textposition": "auto",
         "type": "bar",
         "x": [
          "CLÁSICOS"
         ],
         "xaxis": "x",
         "y": [
          9
         ],
         "yaxis": "y"
        },
        {
         "alignmentgroup": "True",
         "hoverlabel": {
          "namelength": 0
         },
         "hovertemplate": "Clave platillo=MCLÁ14<br>Grupo=%{x}<br>Cantidad=%{y}",
         "legendgroup": "Clave platillo=MCLÁ14",
         "marker": {
          "color": "#FECB52"
         },
         "name": "Clave platillo=MCLÁ14",
         "offsetgroup": "Clave platillo=MCLÁ14",
         "orientation": "v",
         "showlegend": true,
         "textposition": "auto",
         "type": "bar",
         "x": [
          "CLÁSICOS"
         ],
         "xaxis": "x",
         "y": [
          8
         ],
         "yaxis": "y"
        },
        {
         "alignmentgroup": "True",
         "hoverlabel": {
          "namelength": 0
         },
         "hovertemplate": "Clave platillo=MCLÁ13<br>Grupo=%{x}<br>Cantidad=%{y}",
         "legendgroup": "Clave platillo=MCLÁ13",
         "marker": {
          "color": "#636efa"
         },
         "name": "Clave platillo=MCLÁ13",
         "offsetgroup": "Clave platillo=MCLÁ13",
         "orientation": "v",
         "showlegend": true,
         "textposition": "auto",
         "type": "bar",
         "x": [
          "CLÁSICOS"
         ],
         "xaxis": "x",
         "y": [
          7
         ],
         "yaxis": "y"
        },
        {
         "alignmentgroup": "True",
         "hoverlabel": {
          "namelength": 0
         },
         "hovertemplate": "Clave platillo=MCLÁ11<br>Grupo=%{x}<br>Cantidad=%{y}",
         "legendgroup": "Clave platillo=MCLÁ11",
         "marker": {
          "color": "#EF553B"
         },
         "name": "Clave platillo=MCLÁ11",
         "offsetgroup": "Clave platillo=MCLÁ11",
         "orientation": "v",
         "showlegend": true,
         "textposition": "auto",
         "type": "bar",
         "x": [
          "CLÁSICOS"
         ],
         "xaxis": "x",
         "y": [
          3
         ],
         "yaxis": "y"
        },
        {
         "alignmentgroup": "True",
         "hoverlabel": {
          "namelength": 0
         },
         "hovertemplate": "Clave platillo=MCLÁ10<br>Grupo=%{x}<br>Cantidad=%{y}",
         "legendgroup": "Clave platillo=MCLÁ10",
         "marker": {
          "color": "#00cc96"
         },
         "name": "Clave platillo=MCLÁ10",
         "offsetgroup": "Clave platillo=MCLÁ10",
         "orientation": "v",
         "showlegend": true,
         "textposition": "auto",
         "type": "bar",
         "x": [
          "CLÁSICOS"
         ],
         "xaxis": "x",
         "y": [
          4
         ],
         "yaxis": "y"
        },
        {
         "alignmentgroup": "True",
         "hoverlabel": {
          "namelength": 0
         },
         "hovertemplate": "Clave platillo=MCLÁ1<br>Grupo=%{x}<br>Cantidad=%{y}",
         "legendgroup": "Clave platillo=MCLÁ1",
         "marker": {
          "color": "#ab63fa"
         },
         "name": "Clave platillo=MCLÁ1",
         "offsetgroup": "Clave platillo=MCLÁ1",
         "orientation": "v",
         "showlegend": true,
         "textposition": "auto",
         "type": "bar",
         "x": [
          "CLÁSICOS"
         ],
         "xaxis": "x",
         "y": [
          6
         ],
         "yaxis": "y"
        },
        {
         "alignmentgroup": "True",
         "hoverlabel": {
          "namelength": 0
         },
         "hovertemplate": "Clave platillo=MCL90003<br>Grupo=%{x}<br>Cantidad=%{y}",
         "legendgroup": "Clave platillo=MCL90003",
         "marker": {
          "color": "#FFA15A"
         },
         "name": "Clave platillo=MCL90003",
         "offsetgroup": "Clave platillo=MCL90003",
         "orientation": "v",
         "showlegend": true,
         "textposition": "auto",
         "type": "bar",
         "x": [
          "CLÁSICOS"
         ],
         "xaxis": "x",
         "y": [
          2
         ],
         "yaxis": "y"
        },
        {
         "alignmentgroup": "True",
         "hoverlabel": {
          "namelength": 0
         },
         "hovertemplate": "Clave platillo=MCL90002<br>Grupo=%{x}<br>Cantidad=%{y}",
         "legendgroup": "Clave platillo=MCL90002",
         "marker": {
          "color": "#19d3f3"
         },
         "name": "Clave platillo=MCL90002",
         "offsetgroup": "Clave platillo=MCL90002",
         "orientation": "v",
         "showlegend": true,
         "textposition": "auto",
         "type": "bar",
         "x": [
          "CLÁSICOS"
         ],
         "xaxis": "x",
         "y": [
          115
         ],
         "yaxis": "y"
        },
        {
         "alignmentgroup": "True",
         "hoverlabel": {
          "namelength": 0
         },
         "hovertemplate": "Clave platillo=MCL90001<br>Grupo=%{x}<br>Cantidad=%{y}",
         "legendgroup": "Clave platillo=MCL90001",
         "marker": {
          "color": "#FF6692"
         },
         "name": "Clave platillo=MCL90001",
         "offsetgroup": "Clave platillo=MCL90001",
         "orientation": "v",
         "showlegend": true,
         "textposition": "auto",
         "type": "bar",
         "x": [
          "CLÁSICOS"
         ],
         "xaxis": "x",
         "y": [
          31
         ],
         "yaxis": "y"
        },
        {
         "alignmentgroup": "True",
         "hoverlabel": {
          "namelength": 0
         },
         "hovertemplate": "Clave platillo=MBEB7<br>Grupo=%{x}<br>Cantidad=%{y}",
         "legendgroup": "Clave platillo=MBEB7",
         "marker": {
          "color": "#B6E880"
         },
         "name": "Clave platillo=MBEB7",
         "offsetgroup": "Clave platillo=MBEB7",
         "orientation": "v",
         "showlegend": true,
         "textposition": "auto",
         "type": "bar",
         "x": [
          "BEBIDAS"
         ],
         "xaxis": "x",
         "y": [
          10
         ],
         "yaxis": "y"
        },
        {
         "alignmentgroup": "True",
         "hoverlabel": {
          "namelength": 0
         },
         "hovertemplate": "Clave platillo=MBEB6<br>Grupo=%{x}<br>Cantidad=%{y}",
         "legendgroup": "Clave platillo=MBEB6",
         "marker": {
          "color": "#FF97FF"
         },
         "name": "Clave platillo=MBEB6",
         "offsetgroup": "Clave platillo=MBEB6",
         "orientation": "v",
         "showlegend": true,
         "textposition": "auto",
         "type": "bar",
         "x": [
          "BEBIDAS"
         ],
         "xaxis": "x",
         "y": [
          93
         ],
         "yaxis": "y"
        },
        {
         "alignmentgroup": "True",
         "hoverlabel": {
          "namelength": 0
         },
         "hovertemplate": "Clave platillo=MBEB5<br>Grupo=%{x}<br>Cantidad=%{y}",
         "legendgroup": "Clave platillo=MBEB5",
         "marker": {
          "color": "#FECB52"
         },
         "name": "Clave platillo=MBEB5",
         "offsetgroup": "Clave platillo=MBEB5",
         "orientation": "v",
         "showlegend": true,
         "textposition": "auto",
         "type": "bar",
         "x": [
          "BEBIDAS"
         ],
         "xaxis": "x",
         "y": [
          11
         ],
         "yaxis": "y"
        },
        {
         "alignmentgroup": "True",
         "hoverlabel": {
          "namelength": 0
         },
         "hovertemplate": "Clave platillo=MBEB4<br>Grupo=%{x}<br>Cantidad=%{y}",
         "legendgroup": "Clave platillo=MBEB4",
         "marker": {
          "color": "#636efa"
         },
         "name": "Clave platillo=MBEB4",
         "offsetgroup": "Clave platillo=MBEB4",
         "orientation": "v",
         "showlegend": true,
         "textposition": "auto",
         "type": "bar",
         "x": [
          "BEBIDAS"
         ],
         "xaxis": "x",
         "y": [
          120
         ],
         "yaxis": "y"
        },
        {
         "alignmentgroup": "True",
         "hoverlabel": {
          "namelength": 0
         },
         "hovertemplate": "Clave platillo=MBEB3<br>Grupo=%{x}<br>Cantidad=%{y}",
         "legendgroup": "Clave platillo=MBEB3",
         "marker": {
          "color": "#EF553B"
         },
         "name": "Clave platillo=MBEB3",
         "offsetgroup": "Clave platillo=MBEB3",
         "orientation": "v",
         "showlegend": true,
         "textposition": "auto",
         "type": "bar",
         "x": [
          "BEBIDAS"
         ],
         "xaxis": "x",
         "y": [
          3
         ],
         "yaxis": "y"
        },
        {
         "alignmentgroup": "True",
         "hoverlabel": {
          "namelength": 0
         },
         "hovertemplate": "Clave platillo=MBEB1<br>Grupo=%{x}<br>Cantidad=%{y}",
         "legendgroup": "Clave platillo=MBEB1",
         "marker": {
          "color": "#00cc96"
         },
         "name": "Clave platillo=MBEB1",
         "offsetgroup": "Clave platillo=MBEB1",
         "orientation": "v",
         "showlegend": true,
         "textposition": "auto",
         "type": "bar",
         "x": [
          "BEBIDAS"
         ],
         "xaxis": "x",
         "y": [
          31
         ],
         "yaxis": "y"
        },
        {
         "alignmentgroup": "True",
         "hoverlabel": {
          "namelength": 0
         },
         "hovertemplate": "Clave platillo=MBCA9<br>Grupo=%{x}<br>Cantidad=%{y}",
         "legendgroup": "Clave platillo=MBCA9",
         "marker": {
          "color": "#ab63fa"
         },
         "name": "Clave platillo=MBCA9",
         "offsetgroup": "Clave platillo=MBCA9",
         "orientation": "v",
         "showlegend": true,
         "textposition": "auto",
         "type": "bar",
         "x": [
          "BEBIDAS CON ALCOHOL"
         ],
         "xaxis": "x",
         "y": [
          10
         ],
         "yaxis": "y"
        },
        {
         "alignmentgroup": "True",
         "hoverlabel": {
          "namelength": 0
         },
         "hovertemplate": "Clave platillo=MBCA8<br>Grupo=%{x}<br>Cantidad=%{y}",
         "legendgroup": "Clave platillo=MBCA8",
         "marker": {
          "color": "#FFA15A"
         },
         "name": "Clave platillo=MBCA8",
         "offsetgroup": "Clave platillo=MBCA8",
         "orientation": "v",
         "showlegend": true,
         "textposition": "auto",
         "type": "bar",
         "x": [
          "BEBIDAS CON ALCOHOL"
         ],
         "xaxis": "x",
         "y": [
          54
         ],
         "yaxis": "y"
        },
        {
         "alignmentgroup": "True",
         "hoverlabel": {
          "namelength": 0
         },
         "hovertemplate": "Clave platillo=MBCA73<br>Grupo=%{x}<br>Cantidad=%{y}",
         "legendgroup": "Clave platillo=MBCA73",
         "marker": {
          "color": "#19d3f3"
         },
         "name": "Clave platillo=MBCA73",
         "offsetgroup": "Clave platillo=MBCA73",
         "orientation": "v",
         "showlegend": true,
         "textposition": "auto",
         "type": "bar",
         "x": [
          "BEBIDAS CON ALCOHOL"
         ],
         "xaxis": "x",
         "y": [
          3
         ],
         "yaxis": "y"
        },
        {
         "alignmentgroup": "True",
         "hoverlabel": {
          "namelength": 0
         },
         "hovertemplate": "Clave platillo=MBCA72<br>Grupo=%{x}<br>Cantidad=%{y}",
         "legendgroup": "Clave platillo=MBCA72",
         "marker": {
          "color": "#FF6692"
         },
         "name": "Clave platillo=MBCA72",
         "offsetgroup": "Clave platillo=MBCA72",
         "orientation": "v",
         "showlegend": true,
         "textposition": "auto",
         "type": "bar",
         "x": [
          "BEBIDAS CON ALCOHOL"
         ],
         "xaxis": "x",
         "y": [
          142
         ],
         "yaxis": "y"
        },
        {
         "alignmentgroup": "True",
         "hoverlabel": {
          "namelength": 0
         },
         "hovertemplate": "Clave platillo=MBCA71<br>Grupo=%{x}<br>Cantidad=%{y}",
         "legendgroup": "Clave platillo=MBCA71",
         "marker": {
          "color": "#B6E880"
         },
         "name": "Clave platillo=MBCA71",
         "offsetgroup": "Clave platillo=MBCA71",
         "orientation": "v",
         "showlegend": true,
         "textposition": "auto",
         "type": "bar",
         "x": [
          "BEBIDAS CON ALCOHOL"
         ],
         "xaxis": "x",
         "y": [
          19
         ],
         "yaxis": "y"
        },
        {
         "alignmentgroup": "True",
         "hoverlabel": {
          "namelength": 0
         },
         "hovertemplate": "Clave platillo=MBCA70<br>Grupo=%{x}<br>Cantidad=%{y}",
         "legendgroup": "Clave platillo=MBCA70",
         "marker": {
          "color": "#FF97FF"
         },
         "name": "Clave platillo=MBCA70",
         "offsetgroup": "Clave platillo=MBCA70",
         "orientation": "v",
         "showlegend": true,
         "textposition": "auto",
         "type": "bar",
         "x": [
          "BEBIDAS CON ALCOHOL"
         ],
         "xaxis": "x",
         "y": [
          224
         ],
         "yaxis": "y"
        },
        {
         "alignmentgroup": "True",
         "hoverlabel": {
          "namelength": 0
         },
         "hovertemplate": "Clave platillo=MBCA7<br>Grupo=%{x}<br>Cantidad=%{y}",
         "legendgroup": "Clave platillo=MBCA7",
         "marker": {
          "color": "#FECB52"
         },
         "name": "Clave platillo=MBCA7",
         "offsetgroup": "Clave platillo=MBCA7",
         "orientation": "v",
         "showlegend": true,
         "textposition": "auto",
         "type": "bar",
         "x": [
          "BEBIDAS CON ALCOHOL"
         ],
         "xaxis": "x",
         "y": [
          10
         ],
         "yaxis": "y"
        },
        {
         "alignmentgroup": "True",
         "hoverlabel": {
          "namelength": 0
         },
         "hovertemplate": "Clave platillo=MBCA66<br>Grupo=%{x}<br>Cantidad=%{y}",
         "legendgroup": "Clave platillo=MBCA66",
         "marker": {
          "color": "#636efa"
         },
         "name": "Clave platillo=MBCA66",
         "offsetgroup": "Clave platillo=MBCA66",
         "orientation": "v",
         "showlegend": true,
         "textposition": "auto",
         "type": "bar",
         "x": [
          "BEBIDAS SIN ALCOHOL"
         ],
         "xaxis": "x",
         "y": [
          6
         ],
         "yaxis": "y"
        },
        {
         "alignmentgroup": "True",
         "hoverlabel": {
          "namelength": 0
         },
         "hovertemplate": "Clave platillo=MBCA65<br>Grupo=%{x}<br>Cantidad=%{y}",
         "legendgroup": "Clave platillo=MBCA65",
         "marker": {
          "color": "#EF553B"
         },
         "name": "Clave platillo=MBCA65",
         "offsetgroup": "Clave platillo=MBCA65",
         "orientation": "v",
         "showlegend": true,
         "textposition": "auto",
         "type": "bar",
         "x": [
          "BEBIDAS SIN ALCOHOL"
         ],
         "xaxis": "x",
         "y": [
          8
         ],
         "yaxis": "y"
        },
        {
         "alignmentgroup": "True",
         "hoverlabel": {
          "namelength": 0
         },
         "hovertemplate": "Clave platillo=MBCA64<br>Grupo=%{x}<br>Cantidad=%{y}",
         "legendgroup": "Clave platillo=MBCA64",
         "marker": {
          "color": "#00cc96"
         },
         "name": "Clave platillo=MBCA64",
         "offsetgroup": "Clave platillo=MBCA64",
         "orientation": "v",
         "showlegend": true,
         "textposition": "auto",
         "type": "bar",
         "x": [
          "BEBIDAS SIN ALCOHOL"
         ],
         "xaxis": "x",
         "y": [
          342
         ],
         "yaxis": "y"
        },
        {
         "alignmentgroup": "True",
         "hoverlabel": {
          "namelength": 0
         },
         "hovertemplate": "Clave platillo=MBCA63<br>Grupo=%{x}<br>Cantidad=%{y}",
         "legendgroup": "Clave platillo=MBCA63",
         "marker": {
          "color": "#ab63fa"
         },
         "name": "Clave platillo=MBCA63",
         "offsetgroup": "Clave platillo=MBCA63",
         "orientation": "v",
         "showlegend": true,
         "textposition": "auto",
         "type": "bar",
         "x": [
          "BEBIDAS SIN ALCOHOL"
         ],
         "xaxis": "x",
         "y": [
          2002
         ],
         "yaxis": "y"
        },
        {
         "alignmentgroup": "True",
         "hoverlabel": {
          "namelength": 0
         },
         "hovertemplate": "Clave platillo=MBCA61<br>Grupo=%{x}<br>Cantidad=%{y}",
         "legendgroup": "Clave platillo=MBCA61",
         "marker": {
          "color": "#FFA15A"
         },
         "name": "Clave platillo=MBCA61",
         "offsetgroup": "Clave platillo=MBCA61",
         "orientation": "v",
         "showlegend": true,
         "textposition": "auto",
         "type": "bar",
         "x": [
          "BEBIDAS CON ALCOHOL"
         ],
         "xaxis": "x",
         "y": [
          28
         ],
         "yaxis": "y"
        },
        {
         "alignmentgroup": "True",
         "hoverlabel": {
          "namelength": 0
         },
         "hovertemplate": "Clave platillo=MBCA60<br>Grupo=%{x}<br>Cantidad=%{y}",
         "legendgroup": "Clave platillo=MBCA60",
         "marker": {
          "color": "#19d3f3"
         },
         "name": "Clave platillo=MBCA60",
         "offsetgroup": "Clave platillo=MBCA60",
         "orientation": "v",
         "showlegend": true,
         "textposition": "auto",
         "type": "bar",
         "x": [
          "BEBIDAS CON ALCOHOL"
         ],
         "xaxis": "x",
         "y": [
          10
         ],
         "yaxis": "y"
        },
        {
         "alignmentgroup": "True",
         "hoverlabel": {
          "namelength": 0
         },
         "hovertemplate": "Clave platillo=MBCA6<br>Grupo=%{x}<br>Cantidad=%{y}",
         "legendgroup": "Clave platillo=MBCA6",
         "marker": {
          "color": "#FF6692"
         },
         "name": "Clave platillo=MBCA6",
         "offsetgroup": "Clave platillo=MBCA6",
         "orientation": "v",
         "showlegend": true,
         "textposition": "auto",
         "type": "bar",
         "x": [
          "BEBIDAS CON ALCOHOL"
         ],
         "xaxis": "x",
         "y": [
          6
         ],
         "yaxis": "y"
        },
        {
         "alignmentgroup": "True",
         "hoverlabel": {
          "namelength": 0
         },
         "hovertemplate": "Clave platillo=MBCA58<br>Grupo=%{x}<br>Cantidad=%{y}",
         "legendgroup": "Clave platillo=MBCA58",
         "marker": {
          "color": "#B6E880"
         },
         "name": "Clave platillo=MBCA58",
         "offsetgroup": "Clave platillo=MBCA58",
         "orientation": "v",
         "showlegend": true,
         "textposition": "auto",
         "type": "bar",
         "x": [
          "BEBIDAS CON ALCOHOL"
         ],
         "xaxis": "x",
         "y": [
          8
         ],
         "yaxis": "y"
        },
        {
         "alignmentgroup": "True",
         "hoverlabel": {
          "namelength": 0
         },
         "hovertemplate": "Clave platillo=MBCA56<br>Grupo=%{x}<br>Cantidad=%{y}",
         "legendgroup": "Clave platillo=MBCA56",
         "marker": {
          "color": "#FF97FF"
         },
         "name": "Clave platillo=MBCA56",
         "offsetgroup": "Clave platillo=MBCA56",
         "orientation": "v",
         "showlegend": true,
         "textposition": "auto",
         "type": "bar",
         "x": [
          "BEBIDAS CON ALCOHOL"
         ],
         "xaxis": "x",
         "y": [
          260
         ],
         "yaxis": "y"
        },
        {
         "alignmentgroup": "True",
         "hoverlabel": {
          "namelength": 0
         },
         "hovertemplate": "Clave platillo=MBCA54<br>Grupo=%{x}<br>Cantidad=%{y}",
         "legendgroup": "Clave platillo=MBCA54",
         "marker": {
          "color": "#FECB52"
         },
         "name": "Clave platillo=MBCA54",
         "offsetgroup": "Clave platillo=MBCA54",
         "orientation": "v",
         "showlegend": true,
         "textposition": "auto",
         "type": "bar",
         "x": [
          "BEBIDAS CON ALCOHOL"
         ],
         "xaxis": "x",
         "y": [
          26
         ],
         "yaxis": "y"
        },
        {
         "alignmentgroup": "True",
         "hoverlabel": {
          "namelength": 0
         },
         "hovertemplate": "Clave platillo=MBCA52<br>Grupo=%{x}<br>Cantidad=%{y}",
         "legendgroup": "Clave platillo=MBCA52",
         "marker": {
          "color": "#636efa"
         },
         "name": "Clave platillo=MBCA52",
         "offsetgroup": "Clave platillo=MBCA52",
         "orientation": "v",
         "showlegend": true,
         "textposition": "auto",
         "type": "bar",
         "x": [
          "BEBIDAS CON ALCOHOL"
         ],
         "xaxis": "x",
         "y": [
          8
         ],
         "yaxis": "y"
        },
        {
         "alignmentgroup": "True",
         "hoverlabel": {
          "namelength": 0
         },
         "hovertemplate": "Clave platillo=MBCA50<br>Grupo=%{x}<br>Cantidad=%{y}",
         "legendgroup": "Clave platillo=MBCA50",
         "marker": {
          "color": "#EF553B"
         },
         "name": "Clave platillo=MBCA50",
         "offsetgroup": "Clave platillo=MBCA50",
         "orientation": "v",
         "showlegend": true,
         "textposition": "auto",
         "type": "bar",
         "x": [
          "BEBIDAS CON ALCOHOL"
         ],
         "xaxis": "x",
         "y": [
          65
         ],
         "yaxis": "y"
        },
        {
         "alignmentgroup": "True",
         "hoverlabel": {
          "namelength": 0
         },
         "hovertemplate": "Clave platillo=MBCA5<br>Grupo=%{x}<br>Cantidad=%{y}",
         "legendgroup": "Clave platillo=MBCA5",
         "marker": {
          "color": "#00cc96"
         },
         "name": "Clave platillo=MBCA5",
         "offsetgroup": "Clave platillo=MBCA5",
         "orientation": "v",
         "showlegend": true,
         "textposition": "auto",
         "type": "bar",
         "x": [
          "BEBIDAS CON ALCOHOL"
         ],
         "xaxis": "x",
         "y": [
          125
         ],
         "yaxis": "y"
        },
        {
         "alignmentgroup": "True",
         "hoverlabel": {
          "namelength": 0
         },
         "hovertemplate": "Clave platillo=MBCA49<br>Grupo=%{x}<br>Cantidad=%{y}",
         "legendgroup": "Clave platillo=MBCA49",
         "marker": {
          "color": "#ab63fa"
         },
         "name": "Clave platillo=MBCA49",
         "offsetgroup": "Clave platillo=MBCA49",
         "orientation": "v",
         "showlegend": true,
         "textposition": "auto",
         "type": "bar",
         "x": [
          "BEBIDAS CON ALCOHOL"
         ],
         "xaxis": "x",
         "y": [
          2
         ],
         "yaxis": "y"
        },
        {
         "alignmentgroup": "True",
         "hoverlabel": {
          "namelength": 0
         },
         "hovertemplate": "Clave platillo=MBCA48<br>Grupo=%{x}<br>Cantidad=%{y}",
         "legendgroup": "Clave platillo=MBCA48",
         "marker": {
          "color": "#FFA15A"
         },
         "name": "Clave platillo=MBCA48",
         "offsetgroup": "Clave platillo=MBCA48",
         "orientation": "v",
         "showlegend": true,
         "textposition": "auto",
         "type": "bar",
         "x": [
          "BEBIDAS CON ALCOHOL"
         ],
         "xaxis": "x",
         "y": [
          46
         ],
         "yaxis": "y"
        },
        {
         "alignmentgroup": "True",
         "hoverlabel": {
          "namelength": 0
         },
         "hovertemplate": "Clave platillo=MBCA47<br>Grupo=%{x}<br>Cantidad=%{y}",
         "legendgroup": "Clave platillo=MBCA47",
         "marker": {
          "color": "#19d3f3"
         },
         "name": "Clave platillo=MBCA47",
         "offsetgroup": "Clave platillo=MBCA47",
         "orientation": "v",
         "showlegend": true,
         "textposition": "auto",
         "type": "bar",
         "x": [
          "BEBIDAS CON ALCOHOL"
         ],
         "xaxis": "x",
         "y": [
          11
         ],
         "yaxis": "y"
        },
        {
         "alignmentgroup": "True",
         "hoverlabel": {
          "namelength": 0
         },
         "hovertemplate": "Clave platillo=MBCA46<br>Grupo=%{x}<br>Cantidad=%{y}",
         "legendgroup": "Clave platillo=MBCA46",
         "marker": {
          "color": "#FF6692"
         },
         "name": "Clave platillo=MBCA46",
         "offsetgroup": "Clave platillo=MBCA46",
         "orientation": "v",
         "showlegend": true,
         "textposition": "auto",
         "type": "bar",
         "x": [
          "BEBIDAS CON ALCOHOL"
         ],
         "xaxis": "x",
         "y": [
          2
         ],
         "yaxis": "y"
        },
        {
         "alignmentgroup": "True",
         "hoverlabel": {
          "namelength": 0
         },
         "hovertemplate": "Clave platillo=MBCA44<br>Grupo=%{x}<br>Cantidad=%{y}",
         "legendgroup": "Clave platillo=MBCA44",
         "marker": {
          "color": "#B6E880"
         },
         "name": "Clave platillo=MBCA44",
         "offsetgroup": "Clave platillo=MBCA44",
         "orientation": "v",
         "showlegend": true,
         "textposition": "auto",
         "type": "bar",
         "x": [
          "BEBIDAS CON ALCOHOL"
         ],
         "xaxis": "x",
         "y": [
          10
         ],
         "yaxis": "y"
        },
        {
         "alignmentgroup": "True",
         "hoverlabel": {
          "namelength": 0
         },
         "hovertemplate": "Clave platillo=MBCA43<br>Grupo=%{x}<br>Cantidad=%{y}",
         "legendgroup": "Clave platillo=MBCA43",
         "marker": {
          "color": "#FF97FF"
         },
         "name": "Clave platillo=MBCA43",
         "offsetgroup": "Clave platillo=MBCA43",
         "orientation": "v",
         "showlegend": true,
         "textposition": "auto",
         "type": "bar",
         "x": [
          "BEBIDAS CON ALCOHOL"
         ],
         "xaxis": "x",
         "y": [
          202
         ],
         "yaxis": "y"
        },
        {
         "alignmentgroup": "True",
         "hoverlabel": {
          "namelength": 0
         },
         "hovertemplate": "Clave platillo=MBCA40<br>Grupo=%{x}<br>Cantidad=%{y}",
         "legendgroup": "Clave platillo=MBCA40",
         "marker": {
          "color": "#FECB52"
         },
         "name": "Clave platillo=MBCA40",
         "offsetgroup": "Clave platillo=MBCA40",
         "orientation": "v",
         "showlegend": true,
         "textposition": "auto",
         "type": "bar",
         "x": [
          "BEBIDAS CON ALCOHOL"
         ],
         "xaxis": "x",
         "y": [
          279
         ],
         "yaxis": "y"
        },
        {
         "alignmentgroup": "True",
         "hoverlabel": {
          "namelength": 0
         },
         "hovertemplate": "Clave platillo=MBCA4<br>Grupo=%{x}<br>Cantidad=%{y}",
         "legendgroup": "Clave platillo=MBCA4",
         "marker": {
          "color": "#636efa"
         },
         "name": "Clave platillo=MBCA4",
         "offsetgroup": "Clave platillo=MBCA4",
         "orientation": "v",
         "showlegend": true,
         "textposition": "auto",
         "type": "bar",
         "x": [
          "BEBIDAS CON ALCOHOL"
         ],
         "xaxis": "x",
         "y": [
          109
         ],
         "yaxis": "y"
        },
        {
         "alignmentgroup": "True",
         "hoverlabel": {
          "namelength": 0
         },
         "hovertemplate": "Clave platillo=MBCA39<br>Grupo=%{x}<br>Cantidad=%{y}",
         "legendgroup": "Clave platillo=MBCA39",
         "marker": {
          "color": "#EF553B"
         },
         "name": "Clave platillo=MBCA39",
         "offsetgroup": "Clave platillo=MBCA39",
         "orientation": "v",
         "showlegend": true,
         "textposition": "auto",
         "type": "bar",
         "x": [
          "BEBIDAS CON ALCOHOL"
         ],
         "xaxis": "x",
         "y": [
          263
         ],
         "yaxis": "y"
        },
        {
         "alignmentgroup": "True",
         "hoverlabel": {
          "namelength": 0
         },
         "hovertemplate": "Clave platillo=MBCA38<br>Grupo=%{x}<br>Cantidad=%{y}",
         "legendgroup": "Clave platillo=MBCA38",
         "marker": {
          "color": "#00cc96"
         },
         "name": "Clave platillo=MBCA38",
         "offsetgroup": "Clave platillo=MBCA38",
         "orientation": "v",
         "showlegend": true,
         "textposition": "auto",
         "type": "bar",
         "x": [
          "BEBIDAS CON ALCOHOL"
         ],
         "xaxis": "x",
         "y": [
          694
         ],
         "yaxis": "y"
        },
        {
         "alignmentgroup": "True",
         "hoverlabel": {
          "namelength": 0
         },
         "hovertemplate": "Clave platillo=MBCA37<br>Grupo=%{x}<br>Cantidad=%{y}",
         "legendgroup": "Clave platillo=MBCA37",
         "marker": {
          "color": "#ab63fa"
         },
         "name": "Clave platillo=MBCA37",
         "offsetgroup": "Clave platillo=MBCA37",
         "orientation": "v",
         "showlegend": true,
         "textposition": "auto",
         "type": "bar",
         "x": [
          "BEBIDAS CON ALCOHOL"
         ],
         "xaxis": "x",
         "y": [
          245
         ],
         "yaxis": "y"
        },
        {
         "alignmentgroup": "True",
         "hoverlabel": {
          "namelength": 0
         },
         "hovertemplate": "Clave platillo=MBCA33<br>Grupo=%{x}<br>Cantidad=%{y}",
         "legendgroup": "Clave platillo=MBCA33",
         "marker": {
          "color": "#FFA15A"
         },
         "name": "Clave platillo=MBCA33",
         "offsetgroup": "Clave platillo=MBCA33",
         "orientation": "v",
         "showlegend": true,
         "textposition": "auto",
         "type": "bar",
         "x": [
          "BEBIDAS CON ALCOHOL"
         ],
         "xaxis": "x",
         "y": [
          3
         ],
         "yaxis": "y"
        },
        {
         "alignmentgroup": "True",
         "hoverlabel": {
          "namelength": 0
         },
         "hovertemplate": "Clave platillo=MBCA32<br>Grupo=%{x}<br>Cantidad=%{y}",
         "legendgroup": "Clave platillo=MBCA32",
         "marker": {
          "color": "#19d3f3"
         },
         "name": "Clave platillo=MBCA32",
         "offsetgroup": "Clave platillo=MBCA32",
         "orientation": "v",
         "showlegend": true,
         "textposition": "auto",
         "type": "bar",
         "x": [
          "BEBIDAS CON ALCOHOL"
         ],
         "xaxis": "x",
         "y": [
          1
         ],
         "yaxis": "y"
        },
        {
         "alignmentgroup": "True",
         "hoverlabel": {
          "namelength": 0
         },
         "hovertemplate": "Clave platillo=MBCA31<br>Grupo=%{x}<br>Cantidad=%{y}",
         "legendgroup": "Clave platillo=MBCA31",
         "marker": {
          "color": "#FF6692"
         },
         "name": "Clave platillo=MBCA31",
         "offsetgroup": "Clave platillo=MBCA31",
         "orientation": "v",
         "showlegend": true,
         "textposition": "auto",
         "type": "bar",
         "x": [
          "BEBIDAS CON ALCOHOL"
         ],
         "xaxis": "x",
         "y": [
          1
         ],
         "yaxis": "y"
        },
        {
         "alignmentgroup": "True",
         "hoverlabel": {
          "namelength": 0
         },
         "hovertemplate": "Clave platillo=MBCA30<br>Grupo=%{x}<br>Cantidad=%{y}",
         "legendgroup": "Clave platillo=MBCA30",
         "marker": {
          "color": "#B6E880"
         },
         "name": "Clave platillo=MBCA30",
         "offsetgroup": "Clave platillo=MBCA30",
         "orientation": "v",
         "showlegend": true,
         "textposition": "auto",
         "type": "bar",
         "x": [
          "BEBIDAS CON ALCOHOL"
         ],
         "xaxis": "x",
         "y": [
          2
         ],
         "yaxis": "y"
        },
        {
         "alignmentgroup": "True",
         "hoverlabel": {
          "namelength": 0
         },
         "hovertemplate": "Clave platillo=MBCA3<br>Grupo=%{x}<br>Cantidad=%{y}",
         "legendgroup": "Clave platillo=MBCA3",
         "marker": {
          "color": "#FF97FF"
         },
         "name": "Clave platillo=MBCA3",
         "offsetgroup": "Clave platillo=MBCA3",
         "orientation": "v",
         "showlegend": true,
         "textposition": "auto",
         "type": "bar",
         "x": [
          "BEBIDAS CON ALCOHOL"
         ],
         "xaxis": "x",
         "y": [
          5
         ],
         "yaxis": "y"
        },
        {
         "alignmentgroup": "True",
         "hoverlabel": {
          "namelength": 0
         },
         "hovertemplate": "Clave platillo=MBCA29<br>Grupo=%{x}<br>Cantidad=%{y}",
         "legendgroup": "Clave platillo=MBCA29",
         "marker": {
          "color": "#FECB52"
         },
         "name": "Clave platillo=MBCA29",
         "offsetgroup": "Clave platillo=MBCA29",
         "orientation": "v",
         "showlegend": true,
         "textposition": "auto",
         "type": "bar",
         "x": [
          "BEBIDAS CON ALCOHOL"
         ],
         "xaxis": "x",
         "y": [
          30
         ],
         "yaxis": "y"
        },
        {
         "alignmentgroup": "True",
         "hoverlabel": {
          "namelength": 0
         },
         "hovertemplate": "Clave platillo=MBCA27<br>Grupo=%{x}<br>Cantidad=%{y}",
         "legendgroup": "Clave platillo=MBCA27",
         "marker": {
          "color": "#636efa"
         },
         "name": "Clave platillo=MBCA27",
         "offsetgroup": "Clave platillo=MBCA27",
         "orientation": "v",
         "showlegend": true,
         "textposition": "auto",
         "type": "bar",
         "x": [
          "BEBIDAS CON ALCOHOL"
         ],
         "xaxis": "x",
         "y": [
          1
         ],
         "yaxis": "y"
        },
        {
         "alignmentgroup": "True",
         "hoverlabel": {
          "namelength": 0
         },
         "hovertemplate": "Clave platillo=MBCA26<br>Grupo=%{x}<br>Cantidad=%{y}",
         "legendgroup": "Clave platillo=MBCA26",
         "marker": {
          "color": "#EF553B"
         },
         "name": "Clave platillo=MBCA26",
         "offsetgroup": "Clave platillo=MBCA26",
         "orientation": "v",
         "showlegend": true,
         "textposition": "auto",
         "type": "bar",
         "x": [
          "BEBIDAS CON ALCOHOL"
         ],
         "xaxis": "x",
         "y": [
          6
         ],
         "yaxis": "y"
        },
        {
         "alignmentgroup": "True",
         "hoverlabel": {
          "namelength": 0
         },
         "hovertemplate": "Clave platillo=MBCA25<br>Grupo=%{x}<br>Cantidad=%{y}",
         "legendgroup": "Clave platillo=MBCA25",
         "marker": {
          "color": "#00cc96"
         },
         "name": "Clave platillo=MBCA25",
         "offsetgroup": "Clave platillo=MBCA25",
         "orientation": "v",
         "showlegend": true,
         "textposition": "auto",
         "type": "bar",
         "x": [
          "BEBIDAS CON ALCOHOL"
         ],
         "xaxis": "x",
         "y": [
          13
         ],
         "yaxis": "y"
        },
        {
         "alignmentgroup": "True",
         "hoverlabel": {
          "namelength": 0
         },
         "hovertemplate": "Clave platillo=MBCA23<br>Grupo=%{x}<br>Cantidad=%{y}",
         "legendgroup": "Clave platillo=MBCA23",
         "marker": {
          "color": "#ab63fa"
         },
         "name": "Clave platillo=MBCA23",
         "offsetgroup": "Clave platillo=MBCA23",
         "orientation": "v",
         "showlegend": true,
         "textposition": "auto",
         "type": "bar",
         "x": [
          "BEBIDAS CON ALCOHOL"
         ],
         "xaxis": "x",
         "y": [
          11
         ],
         "yaxis": "y"
        },
        {
         "alignmentgroup": "True",
         "hoverlabel": {
          "namelength": 0
         },
         "hovertemplate": "Clave platillo=MBCA2<br>Grupo=%{x}<br>Cantidad=%{y}",
         "legendgroup": "Clave platillo=MBCA2",
         "marker": {
          "color": "#FFA15A"
         },
         "name": "Clave platillo=MBCA2",
         "offsetgroup": "Clave platillo=MBCA2",
         "orientation": "v",
         "showlegend": true,
         "textposition": "auto",
         "type": "bar",
         "x": [
          "BEBIDAS CON ALCOHOL"
         ],
         "xaxis": "x",
         "y": [
          5
         ],
         "yaxis": "y"
        },
        {
         "alignmentgroup": "True",
         "hoverlabel": {
          "namelength": 0
         },
         "hovertemplate": "Clave platillo=MBCA19<br>Grupo=%{x}<br>Cantidad=%{y}",
         "legendgroup": "Clave platillo=MBCA19",
         "marker": {
          "color": "#19d3f3"
         },
         "name": "Clave platillo=MBCA19",
         "offsetgroup": "Clave platillo=MBCA19",
         "orientation": "v",
         "showlegend": true,
         "textposition": "auto",
         "type": "bar",
         "x": [
          "BEBIDAS CON ALCOHOL"
         ],
         "xaxis": "x",
         "y": [
          373
         ],
         "yaxis": "y"
        },
        {
         "alignmentgroup": "True",
         "hoverlabel": {
          "namelength": 0
         },
         "hovertemplate": "Clave platillo=MBCA18<br>Grupo=%{x}<br>Cantidad=%{y}",
         "legendgroup": "Clave platillo=MBCA18",
         "marker": {
          "color": "#FF6692"
         },
         "name": "Clave platillo=MBCA18",
         "offsetgroup": "Clave platillo=MBCA18",
         "orientation": "v",
         "showlegend": true,
         "textposition": "auto",
         "type": "bar",
         "x": [
          "BEBIDAS CON ALCOHOL"
         ],
         "xaxis": "x",
         "y": [
          1
         ],
         "yaxis": "y"
        },
        {
         "alignmentgroup": "True",
         "hoverlabel": {
          "namelength": 0
         },
         "hovertemplate": "Clave platillo=MBCA16<br>Grupo=%{x}<br>Cantidad=%{y}",
         "legendgroup": "Clave platillo=MBCA16",
         "marker": {
          "color": "#B6E880"
         },
         "name": "Clave platillo=MBCA16",
         "offsetgroup": "Clave platillo=MBCA16",
         "orientation": "v",
         "showlegend": true,
         "textposition": "auto",
         "type": "bar",
         "x": [
          "BEBIDAS CON ALCOHOL"
         ],
         "xaxis": "x",
         "y": [
          19
         ],
         "yaxis": "y"
        },
        {
         "alignmentgroup": "True",
         "hoverlabel": {
          "namelength": 0
         },
         "hovertemplate": "Clave platillo=MBCA14<br>Grupo=%{x}<br>Cantidad=%{y}",
         "legendgroup": "Clave platillo=MBCA14",
         "marker": {
          "color": "#FF97FF"
         },
         "name": "Clave platillo=MBCA14",
         "offsetgroup": "Clave platillo=MBCA14",
         "orientation": "v",
         "showlegend": true,
         "textposition": "auto",
         "type": "bar",
         "x": [
          "BEBIDAS CON ALCOHOL"
         ],
         "xaxis": "x",
         "y": [
          1
         ],
         "yaxis": "y"
        },
        {
         "alignmentgroup": "True",
         "hoverlabel": {
          "namelength": 0
         },
         "hovertemplate": "Clave platillo=MBCA13<br>Grupo=%{x}<br>Cantidad=%{y}",
         "legendgroup": "Clave platillo=MBCA13",
         "marker": {
          "color": "#FECB52"
         },
         "name": "Clave platillo=MBCA13",
         "offsetgroup": "Clave platillo=MBCA13",
         "orientation": "v",
         "showlegend": true,
         "textposition": "auto",
         "type": "bar",
         "x": [
          "BEBIDAS CON ALCOHOL"
         ],
         "xaxis": "x",
         "y": [
          39
         ],
         "yaxis": "y"
        },
        {
         "alignmentgroup": "True",
         "hoverlabel": {
          "namelength": 0
         },
         "hovertemplate": "Clave platillo=MBCA111<br>Grupo=%{x}<br>Cantidad=%{y}",
         "legendgroup": "Clave platillo=MBCA111",
         "marker": {
          "color": "#636efa"
         },
         "name": "Clave platillo=MBCA111",
         "offsetgroup": "Clave platillo=MBCA111",
         "orientation": "v",
         "showlegend": true,
         "textposition": "auto",
         "type": "bar",
         "x": [
          "BEBIDAS CON ALCOHOL"
         ],
         "xaxis": "x",
         "y": [
          18
         ],
         "yaxis": "y"
        },
        {
         "alignmentgroup": "True",
         "hoverlabel": {
          "namelength": 0
         },
         "hovertemplate": "Clave platillo=MBCA11<br>Grupo=%{x}<br>Cantidad=%{y}",
         "legendgroup": "Clave platillo=MBCA11",
         "marker": {
          "color": "#EF553B"
         },
         "name": "Clave platillo=MBCA11",
         "offsetgroup": "Clave platillo=MBCA11",
         "orientation": "v",
         "showlegend": true,
         "textposition": "auto",
         "type": "bar",
         "x": [
          "BEBIDAS CON ALCOHOL"
         ],
         "xaxis": "x",
         "y": [
          1
         ],
         "yaxis": "y"
        },
        {
         "alignmentgroup": "True",
         "hoverlabel": {
          "namelength": 0
         },
         "hovertemplate": "Clave platillo=MBCA10<br>Grupo=%{x}<br>Cantidad=%{y}",
         "legendgroup": "Clave platillo=MBCA10",
         "marker": {
          "color": "#00cc96"
         },
         "name": "Clave platillo=MBCA10",
         "offsetgroup": "Clave platillo=MBCA10",
         "orientation": "v",
         "showlegend": true,
         "textposition": "auto",
         "type": "bar",
         "x": [
          "BEBIDAS CON ALCOHOL"
         ],
         "xaxis": "x",
         "y": [
          48
         ],
         "yaxis": "y"
        },
        {
         "alignmentgroup": "True",
         "hoverlabel": {
          "namelength": 0
         },
         "hovertemplate": "Clave platillo=MBCA1<br>Grupo=%{x}<br>Cantidad=%{y}",
         "legendgroup": "Clave platillo=MBCA1",
         "marker": {
          "color": "#ab63fa"
         },
         "name": "Clave platillo=MBCA1",
         "offsetgroup": "Clave platillo=MBCA1",
         "orientation": "v",
         "showlegend": true,
         "textposition": "auto",
         "type": "bar",
         "x": [
          "BEBIDAS CON ALCOHOL"
         ],
         "xaxis": "x",
         "y": [
          151
         ],
         "yaxis": "y"
        },
        {
         "alignmentgroup": "True",
         "hoverlabel": {
          "namelength": 0
         },
         "hovertemplate": "Clave platillo=MBCA<br>Grupo=%{x}<br>Cantidad=%{y}",
         "legendgroup": "Clave platillo=MBCA",
         "marker": {
          "color": "#FFA15A"
         },
         "name": "Clave platillo=MBCA",
         "offsetgroup": "Clave platillo=MBCA",
         "orientation": "v",
         "showlegend": true,
         "textposition": "auto",
         "type": "bar",
         "x": [
          "BEBIDAS CON ALCOHOL"
         ],
         "xaxis": "x",
         "y": [
          37
         ],
         "yaxis": "y"
        },
        {
         "alignmentgroup": "True",
         "hoverlabel": {
          "namelength": 0
         },
         "hovertemplate": "Clave platillo=HAM9<br>Grupo=%{x}<br>Cantidad=%{y}",
         "legendgroup": "Clave platillo=HAM9",
         "marker": {
          "color": "#19d3f3"
         },
         "name": "Clave platillo=HAM9",
         "offsetgroup": "Clave platillo=HAM9",
         "orientation": "v",
         "showlegend": true,
         "textposition": "auto",
         "type": "bar",
         "x": [
          "HAMBURGUESAS"
         ],
         "xaxis": "x",
         "y": [
          28
         ],
         "yaxis": "y"
        },
        {
         "alignmentgroup": "True",
         "hoverlabel": {
          "namelength": 0
         },
         "hovertemplate": "Clave platillo=HAM8<br>Grupo=%{x}<br>Cantidad=%{y}",
         "legendgroup": "Clave platillo=HAM8",
         "marker": {
          "color": "#FF6692"
         },
         "name": "Clave platillo=HAM8",
         "offsetgroup": "Clave platillo=HAM8",
         "orientation": "v",
         "showlegend": true,
         "textposition": "auto",
         "type": "bar",
         "x": [
          "HAMBURGUESAS"
         ],
         "xaxis": "x",
         "y": [
          142
         ],
         "yaxis": "y"
        },
        {
         "alignmentgroup": "True",
         "hoverlabel": {
          "namelength": 0
         },
         "hovertemplate": "Clave platillo=HAM7<br>Grupo=%{x}<br>Cantidad=%{y}",
         "legendgroup": "Clave platillo=HAM7",
         "marker": {
          "color": "#B6E880"
         },
         "name": "Clave platillo=HAM7",
         "offsetgroup": "Clave platillo=HAM7",
         "orientation": "v",
         "showlegend": true,
         "textposition": "auto",
         "type": "bar",
         "x": [
          "HAMBURGUESAS"
         ],
         "xaxis": "x",
         "y": [
          1137
         ],
         "yaxis": "y"
        },
        {
         "alignmentgroup": "True",
         "hoverlabel": {
          "namelength": 0
         },
         "hovertemplate": "Clave platillo=HAM6<br>Grupo=%{x}<br>Cantidad=%{y}",
         "legendgroup": "Clave platillo=HAM6",
         "marker": {
          "color": "#FF97FF"
         },
         "name": "Clave platillo=HAM6",
         "offsetgroup": "Clave platillo=HAM6",
         "orientation": "v",
         "showlegend": true,
         "textposition": "auto",
         "type": "bar",
         "x": [
          "HAMBURGUESAS"
         ],
         "xaxis": "x",
         "y": [
          328
         ],
         "yaxis": "y"
        },
        {
         "alignmentgroup": "True",
         "hoverlabel": {
          "namelength": 0
         },
         "hovertemplate": "Clave platillo=HAM5<br>Grupo=%{x}<br>Cantidad=%{y}",
         "legendgroup": "Clave platillo=HAM5",
         "marker": {
          "color": "#FECB52"
         },
         "name": "Clave platillo=HAM5",
         "offsetgroup": "Clave platillo=HAM5",
         "orientation": "v",
         "showlegend": true,
         "textposition": "auto",
         "type": "bar",
         "x": [
          "HAMBURGUESAS"
         ],
         "xaxis": "x",
         "y": [
          124
         ],
         "yaxis": "y"
        },
        {
         "alignmentgroup": "True",
         "hoverlabel": {
          "namelength": 0
         },
         "hovertemplate": "Clave platillo=HAM4<br>Grupo=%{x}<br>Cantidad=%{y}",
         "legendgroup": "Clave platillo=HAM4",
         "marker": {
          "color": "#636efa"
         },
         "name": "Clave platillo=HAM4",
         "offsetgroup": "Clave platillo=HAM4",
         "orientation": "v",
         "showlegend": true,
         "textposition": "auto",
         "type": "bar",
         "x": [
          "HAMBURGUESAS"
         ],
         "xaxis": "x",
         "y": [
          37
         ],
         "yaxis": "y"
        },
        {
         "alignmentgroup": "True",
         "hoverlabel": {
          "namelength": 0
         },
         "hovertemplate": "Clave platillo=HAM3<br>Grupo=%{x}<br>Cantidad=%{y}",
         "legendgroup": "Clave platillo=HAM3",
         "marker": {
          "color": "#EF553B"
         },
         "name": "Clave platillo=HAM3",
         "offsetgroup": "Clave platillo=HAM3",
         "orientation": "v",
         "showlegend": true,
         "textposition": "auto",
         "type": "bar",
         "x": [
          "HAMBURGUESAS"
         ],
         "xaxis": "x",
         "y": [
          145
         ],
         "yaxis": "y"
        },
        {
         "alignmentgroup": "True",
         "hoverlabel": {
          "namelength": 0
         },
         "hovertemplate": "Clave platillo=HAM2<br>Grupo=%{x}<br>Cantidad=%{y}",
         "legendgroup": "Clave platillo=HAM2",
         "marker": {
          "color": "#00cc96"
         },
         "name": "Clave platillo=HAM2",
         "offsetgroup": "Clave platillo=HAM2",
         "orientation": "v",
         "showlegend": true,
         "textposition": "auto",
         "type": "bar",
         "x": [
          "HAMBURGUESAS"
         ],
         "xaxis": "x",
         "y": [
          166
         ],
         "yaxis": "y"
        },
        {
         "alignmentgroup": "True",
         "hoverlabel": {
          "namelength": 0
         },
         "hovertemplate": "Clave platillo=HAM12<br>Grupo=%{x}<br>Cantidad=%{y}",
         "legendgroup": "Clave platillo=HAM12",
         "marker": {
          "color": "#ab63fa"
         },
         "name": "Clave platillo=HAM12",
         "offsetgroup": "Clave platillo=HAM12",
         "orientation": "v",
         "showlegend": true,
         "textposition": "auto",
         "type": "bar",
         "x": [
          "HAMBURGUESAS"
         ],
         "xaxis": "x",
         "y": [
          2261
         ],
         "yaxis": "y"
        },
        {
         "alignmentgroup": "True",
         "hoverlabel": {
          "namelength": 0
         },
         "hovertemplate": "Clave platillo=HAM11<br>Grupo=%{x}<br>Cantidad=%{y}",
         "legendgroup": "Clave platillo=HAM11",
         "marker": {
          "color": "#FFA15A"
         },
         "name": "Clave platillo=HAM11",
         "offsetgroup": "Clave platillo=HAM11",
         "orientation": "v",
         "showlegend": true,
         "textposition": "auto",
         "type": "bar",
         "x": [
          "HAMBURGUESAS"
         ],
         "xaxis": "x",
         "y": [
          578
         ],
         "yaxis": "y"
        },
        {
         "alignmentgroup": "True",
         "hoverlabel": {
          "namelength": 0
         },
         "hovertemplate": "Clave platillo=HAM10<br>Grupo=%{x}<br>Cantidad=%{y}",
         "legendgroup": "Clave platillo=HAM10",
         "marker": {
          "color": "#19d3f3"
         },
         "name": "Clave platillo=HAM10",
         "offsetgroup": "Clave platillo=HAM10",
         "orientation": "v",
         "showlegend": true,
         "textposition": "auto",
         "type": "bar",
         "x": [
          "HAMBURGUESAS"
         ],
         "xaxis": "x",
         "y": [
          187
         ],
         "yaxis": "y"
        },
        {
         "alignmentgroup": "True",
         "hoverlabel": {
          "namelength": 0
         },
         "hovertemplate": "Clave platillo=HAM1<br>Grupo=%{x}<br>Cantidad=%{y}",
         "legendgroup": "Clave platillo=HAM1",
         "marker": {
          "color": "#FF6692"
         },
         "name": "Clave platillo=HAM1",
         "offsetgroup": "Clave platillo=HAM1",
         "orientation": "v",
         "showlegend": true,
         "textposition": "auto",
         "type": "bar",
         "x": [
          "HAMBURGUESAS"
         ],
         "xaxis": "x",
         "y": [
          1345
         ],
         "yaxis": "y"
        },
        {
         "alignmentgroup": "True",
         "hoverlabel": {
          "namelength": 0
         },
         "hovertemplate": "Clave platillo=EXT4651<br>Grupo=%{x}<br>Cantidad=%{y}",
         "legendgroup": "Clave platillo=EXT4651",
         "marker": {
          "color": "#B6E880"
         },
         "name": "Clave platillo=EXT4651",
         "offsetgroup": "Clave platillo=EXT4651",
         "orientation": "v",
         "showlegend": true,
         "textposition": "auto",
         "type": "bar",
         "x": [
          "EXTRAS COCINA"
         ],
         "xaxis": "x",
         "y": [
          4
         ],
         "yaxis": "y"
        },
        {
         "alignmentgroup": "True",
         "hoverlabel": {
          "namelength": 0
         },
         "hovertemplate": "Clave platillo=EXT4650<br>Grupo=%{x}<br>Cantidad=%{y}",
         "legendgroup": "Clave platillo=EXT4650",
         "marker": {
          "color": "#FF97FF"
         },
         "name": "Clave platillo=EXT4650",
         "offsetgroup": "Clave platillo=EXT4650",
         "orientation": "v",
         "showlegend": true,
         "textposition": "auto",
         "type": "bar",
         "x": [
          "EXTRAS COCINA"
         ],
         "xaxis": "x",
         "y": [
          3
         ],
         "yaxis": "y"
        },
        {
         "alignmentgroup": "True",
         "hoverlabel": {
          "namelength": 0
         },
         "hovertemplate": "Clave platillo=EXT4620<br>Grupo=%{x}<br>Cantidad=%{y}",
         "legendgroup": "Clave platillo=EXT4620",
         "marker": {
          "color": "#FECB52"
         },
         "name": "Clave platillo=EXT4620",
         "offsetgroup": "Clave platillo=EXT4620",
         "orientation": "v",
         "showlegend": true,
         "textposition": "auto",
         "type": "bar",
         "x": [
          "EXTRAS COCINA"
         ],
         "xaxis": "x",
         "y": [
          4
         ],
         "yaxis": "y"
        },
        {
         "alignmentgroup": "True",
         "hoverlabel": {
          "namelength": 0
         },
         "hovertemplate": "Clave platillo=EXT4619<br>Grupo=%{x}<br>Cantidad=%{y}",
         "legendgroup": "Clave platillo=EXT4619",
         "marker": {
          "color": "#636efa"
         },
         "name": "Clave platillo=EXT4619",
         "offsetgroup": "Clave platillo=EXT4619",
         "orientation": "v",
         "showlegend": true,
         "textposition": "auto",
         "type": "bar",
         "x": [
          "EXTRAS COCINA"
         ],
         "xaxis": "x",
         "y": [
          3
         ],
         "yaxis": "y"
        },
        {
         "alignmentgroup": "True",
         "hoverlabel": {
          "namelength": 0
         },
         "hovertemplate": "Clave platillo=EXT4617<br>Grupo=%{x}<br>Cantidad=%{y}",
         "legendgroup": "Clave platillo=EXT4617",
         "marker": {
          "color": "#EF553B"
         },
         "name": "Clave platillo=EXT4617",
         "offsetgroup": "Clave platillo=EXT4617",
         "orientation": "v",
         "showlegend": true,
         "textposition": "auto",
         "type": "bar",
         "x": [
          "EXTRAS COCINA"
         ],
         "xaxis": "x",
         "y": [
          6
         ],
         "yaxis": "y"
        },
        {
         "alignmentgroup": "True",
         "hoverlabel": {
          "namelength": 0
         },
         "hovertemplate": "Clave platillo=EXT4616<br>Grupo=%{x}<br>Cantidad=%{y}",
         "legendgroup": "Clave platillo=EXT4616",
         "marker": {
          "color": "#00cc96"
         },
         "name": "Clave platillo=EXT4616",
         "offsetgroup": "Clave platillo=EXT4616",
         "orientation": "v",
         "showlegend": true,
         "textposition": "auto",
         "type": "bar",
         "x": [
          "EXTRAS COCINA"
         ],
         "xaxis": "x",
         "y": [
          13
         ],
         "yaxis": "y"
        },
        {
         "alignmentgroup": "True",
         "hoverlabel": {
          "namelength": 0
         },
         "hovertemplate": "Clave platillo=EXT4615<br>Grupo=%{x}<br>Cantidad=%{y}",
         "legendgroup": "Clave platillo=EXT4615",
         "marker": {
          "color": "#ab63fa"
         },
         "name": "Clave platillo=EXT4615",
         "offsetgroup": "Clave platillo=EXT4615",
         "orientation": "v",
         "showlegend": true,
         "textposition": "auto",
         "type": "bar",
         "x": [
          "EXTRAS COCINA"
         ],
         "xaxis": "x",
         "y": [
          1
         ],
         "yaxis": "y"
        },
        {
         "alignmentgroup": "True",
         "hoverlabel": {
          "namelength": 0
         },
         "hovertemplate": "Clave platillo=EXT4614<br>Grupo=%{x}<br>Cantidad=%{y}",
         "legendgroup": "Clave platillo=EXT4614",
         "marker": {
          "color": "#FFA15A"
         },
         "name": "Clave platillo=EXT4614",
         "offsetgroup": "Clave platillo=EXT4614",
         "orientation": "v",
         "showlegend": true,
         "textposition": "auto",
         "type": "bar",
         "x": [
          "EXTRAS COCINA"
         ],
         "xaxis": "x",
         "y": [
          49
         ],
         "yaxis": "y"
        },
        {
         "alignmentgroup": "True",
         "hoverlabel": {
          "namelength": 0
         },
         "hovertemplate": "Clave platillo=EXT4613<br>Grupo=%{x}<br>Cantidad=%{y}",
         "legendgroup": "Clave platillo=EXT4613",
         "marker": {
          "color": "#19d3f3"
         },
         "name": "Clave platillo=EXT4613",
         "offsetgroup": "Clave platillo=EXT4613",
         "orientation": "v",
         "showlegend": true,
         "textposition": "auto",
         "type": "bar",
         "x": [
          "EXTRAS COCINA"
         ],
         "xaxis": "x",
         "y": [
          129
         ],
         "yaxis": "y"
        },
        {
         "alignmentgroup": "True",
         "hoverlabel": {
          "namelength": 0
         },
         "hovertemplate": "Clave platillo=EXT4612<br>Grupo=%{x}<br>Cantidad=%{y}",
         "legendgroup": "Clave platillo=EXT4612",
         "marker": {
          "color": "#FF6692"
         },
         "name": "Clave platillo=EXT4612",
         "offsetgroup": "Clave platillo=EXT4612",
         "orientation": "v",
         "showlegend": true,
         "textposition": "auto",
         "type": "bar",
         "x": [
          "EXTRAS COCINA"
         ],
         "xaxis": "x",
         "y": [
          14
         ],
         "yaxis": "y"
        },
        {
         "alignmentgroup": "True",
         "hoverlabel": {
          "namelength": 0
         },
         "hovertemplate": "Clave platillo=EXT4611<br>Grupo=%{x}<br>Cantidad=%{y}",
         "legendgroup": "Clave platillo=EXT4611",
         "marker": {
          "color": "#B6E880"
         },
         "name": "Clave platillo=EXT4611",
         "offsetgroup": "Clave platillo=EXT4611",
         "orientation": "v",
         "showlegend": true,
         "textposition": "auto",
         "type": "bar",
         "x": [
          "EXTRAS COCINA"
         ],
         "xaxis": "x",
         "y": [
          5
         ],
         "yaxis": "y"
        },
        {
         "alignmentgroup": "True",
         "hoverlabel": {
          "namelength": 0
         },
         "hovertemplate": "Clave platillo=EXT4610<br>Grupo=%{x}<br>Cantidad=%{y}",
         "legendgroup": "Clave platillo=EXT4610",
         "marker": {
          "color": "#FF97FF"
         },
         "name": "Clave platillo=EXT4610",
         "offsetgroup": "Clave platillo=EXT4610",
         "orientation": "v",
         "showlegend": true,
         "textposition": "auto",
         "type": "bar",
         "x": [
          "EXTRAS COCINA"
         ],
         "xaxis": "x",
         "y": [
          10
         ],
         "yaxis": "y"
        },
        {
         "alignmentgroup": "True",
         "hoverlabel": {
          "namelength": 0
         },
         "hovertemplate": "Clave platillo=EXT4609<br>Grupo=%{x}<br>Cantidad=%{y}",
         "legendgroup": "Clave platillo=EXT4609",
         "marker": {
          "color": "#FECB52"
         },
         "name": "Clave platillo=EXT4609",
         "offsetgroup": "Clave platillo=EXT4609",
         "orientation": "v",
         "showlegend": true,
         "textposition": "auto",
         "type": "bar",
         "x": [
          "EXTRAS COCINA"
         ],
         "xaxis": "x",
         "y": [
          8
         ],
         "yaxis": "y"
        },
        {
         "alignmentgroup": "True",
         "hoverlabel": {
          "namelength": 0
         },
         "hovertemplate": "Clave platillo=EXT4608<br>Grupo=%{x}<br>Cantidad=%{y}",
         "legendgroup": "Clave platillo=EXT4608",
         "marker": {
          "color": "#636efa"
         },
         "name": "Clave platillo=EXT4608",
         "offsetgroup": "Clave platillo=EXT4608",
         "orientation": "v",
         "showlegend": true,
         "textposition": "auto",
         "type": "bar",
         "x": [
          "EXTRAS COCINA"
         ],
         "xaxis": "x",
         "y": [
          53
         ],
         "yaxis": "y"
        },
        {
         "alignmentgroup": "True",
         "hoverlabel": {
          "namelength": 0
         },
         "hovertemplate": "Clave platillo=EXT4607<br>Grupo=%{x}<br>Cantidad=%{y}",
         "legendgroup": "Clave platillo=EXT4607",
         "marker": {
          "color": "#EF553B"
         },
         "name": "Clave platillo=EXT4607",
         "offsetgroup": "Clave platillo=EXT4607",
         "orientation": "v",
         "showlegend": true,
         "textposition": "auto",
         "type": "bar",
         "x": [
          "EXTRAS COCINA"
         ],
         "xaxis": "x",
         "y": [
          28
         ],
         "yaxis": "y"
        },
        {
         "alignmentgroup": "True",
         "hoverlabel": {
          "namelength": 0
         },
         "hovertemplate": "Clave platillo=EXT4606<br>Grupo=%{x}<br>Cantidad=%{y}",
         "legendgroup": "Clave platillo=EXT4606",
         "marker": {
          "color": "#00cc96"
         },
         "name": "Clave platillo=EXT4606",
         "offsetgroup": "Clave platillo=EXT4606",
         "orientation": "v",
         "showlegend": true,
         "textposition": "auto",
         "type": "bar",
         "x": [
          "EXTRAS COCINA"
         ],
         "xaxis": "x",
         "y": [
          54
         ],
         "yaxis": "y"
        },
        {
         "alignmentgroup": "True",
         "hoverlabel": {
          "namelength": 0
         },
         "hovertemplate": "Clave platillo=EXT4603<br>Grupo=%{x}<br>Cantidad=%{y}",
         "legendgroup": "Clave platillo=EXT4603",
         "marker": {
          "color": "#ab63fa"
         },
         "name": "Clave platillo=EXT4603",
         "offsetgroup": "Clave platillo=EXT4603",
         "orientation": "v",
         "showlegend": true,
         "textposition": "auto",
         "type": "bar",
         "x": [
          "EXTRAS COCINA"
         ],
         "xaxis": "x",
         "y": [
          7
         ],
         "yaxis": "y"
        },
        {
         "alignmentgroup": "True",
         "hoverlabel": {
          "namelength": 0
         },
         "hovertemplate": "Clave platillo=EXT4602<br>Grupo=%{x}<br>Cantidad=%{y}",
         "legendgroup": "Clave platillo=EXT4602",
         "marker": {
          "color": "#FFA15A"
         },
         "name": "Clave platillo=EXT4602",
         "offsetgroup": "Clave platillo=EXT4602",
         "orientation": "v",
         "showlegend": true,
         "textposition": "auto",
         "type": "bar",
         "x": [
          "EXTRAS COCINA"
         ],
         "xaxis": "x",
         "y": [
          4
         ],
         "yaxis": "y"
        },
        {
         "alignmentgroup": "True",
         "hoverlabel": {
          "namelength": 0
         },
         "hovertemplate": "Clave platillo=EXT4599<br>Grupo=%{x}<br>Cantidad=%{y}",
         "legendgroup": "Clave platillo=EXT4599",
         "marker": {
          "color": "#19d3f3"
         },
         "name": "Clave platillo=EXT4599",
         "offsetgroup": "Clave platillo=EXT4599",
         "orientation": "v",
         "showlegend": true,
         "textposition": "auto",
         "type": "bar",
         "x": [
          "EXTRAS COCINA"
         ],
         "xaxis": "x",
         "y": [
          3
         ],
         "yaxis": "y"
        },
        {
         "alignmentgroup": "True",
         "hoverlabel": {
          "namelength": 0
         },
         "hovertemplate": "Clave platillo=EXT4598<br>Grupo=%{x}<br>Cantidad=%{y}",
         "legendgroup": "Clave platillo=EXT4598",
         "marker": {
          "color": "#FF6692"
         },
         "name": "Clave platillo=EXT4598",
         "offsetgroup": "Clave platillo=EXT4598",
         "orientation": "v",
         "showlegend": true,
         "textposition": "auto",
         "type": "bar",
         "x": [
          "EXTRAS COCINA"
         ],
         "xaxis": "x",
         "y": [
          15
         ],
         "yaxis": "y"
        },
        {
         "alignmentgroup": "True",
         "hoverlabel": {
          "namelength": 0
         },
         "hovertemplate": "Clave platillo=EXT4596<br>Grupo=%{x}<br>Cantidad=%{y}",
         "legendgroup": "Clave platillo=EXT4596",
         "marker": {
          "color": "#B6E880"
         },
         "name": "Clave platillo=EXT4596",
         "offsetgroup": "Clave platillo=EXT4596",
         "orientation": "v",
         "showlegend": true,
         "textposition": "auto",
         "type": "bar",
         "x": [
          "EXTRAS COCINA"
         ],
         "xaxis": "x",
         "y": [
          25
         ],
         "yaxis": "y"
        },
        {
         "alignmentgroup": "True",
         "hoverlabel": {
          "namelength": 0
         },
         "hovertemplate": "Clave platillo=EXT4595<br>Grupo=%{x}<br>Cantidad=%{y}",
         "legendgroup": "Clave platillo=EXT4595",
         "marker": {
          "color": "#FF97FF"
         },
         "name": "Clave platillo=EXT4595",
         "offsetgroup": "Clave platillo=EXT4595",
         "orientation": "v",
         "showlegend": true,
         "textposition": "auto",
         "type": "bar",
         "x": [
          "EXTRAS COCINA"
         ],
         "xaxis": "x",
         "y": [
          4
         ],
         "yaxis": "y"
        },
        {
         "alignmentgroup": "True",
         "hoverlabel": {
          "namelength": 0
         },
         "hovertemplate": "Clave platillo=EXT4594<br>Grupo=%{x}<br>Cantidad=%{y}",
         "legendgroup": "Clave platillo=EXT4594",
         "marker": {
          "color": "#FECB52"
         },
         "name": "Clave platillo=EXT4594",
         "offsetgroup": "Clave platillo=EXT4594",
         "orientation": "v",
         "showlegend": true,
         "textposition": "auto",
         "type": "bar",
         "x": [
          "EXTRAS COCINA"
         ],
         "xaxis": "x",
         "y": [
          1
         ],
         "yaxis": "y"
        },
        {
         "alignmentgroup": "True",
         "hoverlabel": {
          "namelength": 0
         },
         "hovertemplate": "Clave platillo=EXT4593<br>Grupo=%{x}<br>Cantidad=%{y}",
         "legendgroup": "Clave platillo=EXT4593",
         "marker": {
          "color": "#636efa"
         },
         "name": "Clave platillo=EXT4593",
         "offsetgroup": "Clave platillo=EXT4593",
         "orientation": "v",
         "showlegend": true,
         "textposition": "auto",
         "type": "bar",
         "x": [
          "EXTRAS COCINA"
         ],
         "xaxis": "x",
         "y": [
          20
         ],
         "yaxis": "y"
        },
        {
         "alignmentgroup": "True",
         "hoverlabel": {
          "namelength": 0
         },
         "hovertemplate": "Clave platillo=EXT4590<br>Grupo=%{x}<br>Cantidad=%{y}",
         "legendgroup": "Clave platillo=EXT4590",
         "marker": {
          "color": "#EF553B"
         },
         "name": "Clave platillo=EXT4590",
         "offsetgroup": "Clave platillo=EXT4590",
         "orientation": "v",
         "showlegend": true,
         "textposition": "auto",
         "type": "bar",
         "x": [
          "EXTRAS COCINA"
         ],
         "xaxis": "x",
         "y": [
          2
         ],
         "yaxis": "y"
        },
        {
         "alignmentgroup": "True",
         "hoverlabel": {
          "namelength": 0
         },
         "hovertemplate": "Clave platillo=EXT4589<br>Grupo=%{x}<br>Cantidad=%{y}",
         "legendgroup": "Clave platillo=EXT4589",
         "marker": {
          "color": "#00cc96"
         },
         "name": "Clave platillo=EXT4589",
         "offsetgroup": "Clave platillo=EXT4589",
         "orientation": "v",
         "showlegend": true,
         "textposition": "auto",
         "type": "bar",
         "x": [
          "EXTRAS COCINA"
         ],
         "xaxis": "x",
         "y": [
          6
         ],
         "yaxis": "y"
        },
        {
         "alignmentgroup": "True",
         "hoverlabel": {
          "namelength": 0
         },
         "hovertemplate": "Clave platillo=EXT0105<br>Grupo=%{x}<br>Cantidad=%{y}",
         "legendgroup": "Clave platillo=EXT0105",
         "marker": {
          "color": "#ab63fa"
         },
         "name": "Clave platillo=EXT0105",
         "offsetgroup": "Clave platillo=EXT0105",
         "orientation": "v",
         "showlegend": true,
         "textposition": "auto",
         "type": "bar",
         "x": [
          "EXTRAS COCINA"
         ],
         "xaxis": "x",
         "y": [
          8
         ],
         "yaxis": "y"
        },
        {
         "alignmentgroup": "True",
         "hoverlabel": {
          "namelength": 0
         },
         "hovertemplate": "Clave platillo=EXT0104<br>Grupo=%{x}<br>Cantidad=%{y}",
         "legendgroup": "Clave platillo=EXT0104",
         "marker": {
          "color": "#FFA15A"
         },
         "name": "Clave platillo=EXT0104",
         "offsetgroup": "Clave platillo=EXT0104",
         "orientation": "v",
         "showlegend": true,
         "textposition": "auto",
         "type": "bar",
         "x": [
          "EXTRAS COCINA"
         ],
         "xaxis": "x",
         "y": [
          19
         ],
         "yaxis": "y"
        },
        {
         "alignmentgroup": "True",
         "hoverlabel": {
          "namelength": 0
         },
         "hovertemplate": "Clave platillo=EXT0103<br>Grupo=%{x}<br>Cantidad=%{y}",
         "legendgroup": "Clave platillo=EXT0103",
         "marker": {
          "color": "#19d3f3"
         },
         "name": "Clave platillo=EXT0103",
         "offsetgroup": "Clave platillo=EXT0103",
         "orientation": "v",
         "showlegend": true,
         "textposition": "auto",
         "type": "bar",
         "x": [
          "EXTRAS COCINA"
         ],
         "xaxis": "x",
         "y": [
          135
         ],
         "yaxis": "y"
        },
        {
         "alignmentgroup": "True",
         "hoverlabel": {
          "namelength": 0
         },
         "hovertemplate": "Clave platillo=EXT0102<br>Grupo=%{x}<br>Cantidad=%{y}",
         "legendgroup": "Clave platillo=EXT0102",
         "marker": {
          "color": "#FF6692"
         },
         "name": "Clave platillo=EXT0102",
         "offsetgroup": "Clave platillo=EXT0102",
         "orientation": "v",
         "showlegend": true,
         "textposition": "auto",
         "type": "bar",
         "x": [
          "EXTRAS COCINA"
         ],
         "xaxis": "x",
         "y": [
          6
         ],
         "yaxis": "y"
        },
        {
         "alignmentgroup": "True",
         "hoverlabel": {
          "namelength": 0
         },
         "hovertemplate": "Clave platillo=EXT005<br>Grupo=%{x}<br>Cantidad=%{y}",
         "legendgroup": "Clave platillo=EXT005",
         "marker": {
          "color": "#B6E880"
         },
         "name": "Clave platillo=EXT005",
         "offsetgroup": "Clave platillo=EXT005",
         "orientation": "v",
         "showlegend": true,
         "textposition": "auto",
         "type": "bar",
         "x": [
          "EXTRAS BARRA"
         ],
         "xaxis": "x",
         "y": [
          9
         ],
         "yaxis": "y"
        },
        {
         "alignmentgroup": "True",
         "hoverlabel": {
          "namelength": 0
         },
         "hovertemplate": "Clave platillo=EXT004<br>Grupo=%{x}<br>Cantidad=%{y}",
         "legendgroup": "Clave platillo=EXT004",
         "marker": {
          "color": "#FF97FF"
         },
         "name": "Clave platillo=EXT004",
         "offsetgroup": "Clave platillo=EXT004",
         "orientation": "v",
         "showlegend": true,
         "textposition": "auto",
         "type": "bar",
         "x": [
          "EXTRAS BARRA"
         ],
         "xaxis": "x",
         "y": [
          6
         ],
         "yaxis": "y"
        },
        {
         "alignmentgroup": "True",
         "hoverlabel": {
          "namelength": 0
         },
         "hovertemplate": "Clave platillo=EXT003<br>Grupo=%{x}<br>Cantidad=%{y}",
         "legendgroup": "Clave platillo=EXT003",
         "marker": {
          "color": "#FECB52"
         },
         "name": "Clave platillo=EXT003",
         "offsetgroup": "Clave platillo=EXT003",
         "orientation": "v",
         "showlegend": true,
         "textposition": "auto",
         "type": "bar",
         "x": [
          "EXTRAS BARRA"
         ],
         "xaxis": "x",
         "y": [
          8
         ],
         "yaxis": "y"
        },
        {
         "alignmentgroup": "True",
         "hoverlabel": {
          "namelength": 0
         },
         "hovertemplate": "Clave platillo=ENT4<br>Grupo=%{x}<br>Cantidad=%{y}",
         "legendgroup": "Clave platillo=ENT4",
         "marker": {
          "color": "#636efa"
         },
         "name": "Clave platillo=ENT4",
         "offsetgroup": "Clave platillo=ENT4",
         "orientation": "v",
         "showlegend": true,
         "textposition": "auto",
         "type": "bar",
         "x": [
          "ENTRADAS"
         ],
         "xaxis": "x",
         "y": [
          555
         ],
         "yaxis": "y"
        },
        {
         "alignmentgroup": "True",
         "hoverlabel": {
          "namelength": 0
         },
         "hovertemplate": "Clave platillo=ENT3<br>Grupo=%{x}<br>Cantidad=%{y}",
         "legendgroup": "Clave platillo=ENT3",
         "marker": {
          "color": "#EF553B"
         },
         "name": "Clave platillo=ENT3",
         "offsetgroup": "Clave platillo=ENT3",
         "orientation": "v",
         "showlegend": true,
         "textposition": "auto",
         "type": "bar",
         "x": [
          "ENTRADAS"
         ],
         "xaxis": "x",
         "y": [
          45
         ],
         "yaxis": "y"
        },
        {
         "alignmentgroup": "True",
         "hoverlabel": {
          "namelength": 0
         },
         "hovertemplate": "Clave platillo=ENT2<br>Grupo=%{x}<br>Cantidad=%{y}",
         "legendgroup": "Clave platillo=ENT2",
         "marker": {
          "color": "#00cc96"
         },
         "name": "Clave platillo=ENT2",
         "offsetgroup": "Clave platillo=ENT2",
         "orientation": "v",
         "showlegend": true,
         "textposition": "auto",
         "type": "bar",
         "x": [
          "ENTRADAS"
         ],
         "xaxis": "x",
         "y": [
          56
         ],
         "yaxis": "y"
        },
        {
         "alignmentgroup": "True",
         "hoverlabel": {
          "namelength": 0
         },
         "hovertemplate": "Clave platillo=ENT1<br>Grupo=%{x}<br>Cantidad=%{y}",
         "legendgroup": "Clave platillo=ENT1",
         "marker": {
          "color": "#ab63fa"
         },
         "name": "Clave platillo=ENT1",
         "offsetgroup": "Clave platillo=ENT1",
         "orientation": "v",
         "showlegend": true,
         "textposition": "auto",
         "type": "bar",
         "x": [
          "ENTRADAS"
         ],
         "xaxis": "x",
         "y": [
          318
         ],
         "yaxis": "y"
        },
        {
         "alignmentgroup": "True",
         "hoverlabel": {
          "namelength": 0
         },
         "hovertemplate": "Clave platillo=ENS4<br>Grupo=%{x}<br>Cantidad=%{y}",
         "legendgroup": "Clave platillo=ENS4",
         "marker": {
          "color": "#FFA15A"
         },
         "name": "Clave platillo=ENS4",
         "offsetgroup": "Clave platillo=ENS4",
         "orientation": "v",
         "showlegend": true,
         "textposition": "auto",
         "type": "bar",
         "x": [
          "ENSALADAS"
         ],
         "xaxis": "x",
         "y": [
          68
         ],
         "yaxis": "y"
        },
        {
         "alignmentgroup": "True",
         "hoverlabel": {
          "namelength": 0
         },
         "hovertemplate": "Clave platillo=ENS3<br>Grupo=%{x}<br>Cantidad=%{y}",
         "legendgroup": "Clave platillo=ENS3",
         "marker": {
          "color": "#19d3f3"
         },
         "name": "Clave platillo=ENS3",
         "offsetgroup": "Clave platillo=ENS3",
         "orientation": "v",
         "showlegend": true,
         "textposition": "auto",
         "type": "bar",
         "x": [
          "ENSALADAS"
         ],
         "xaxis": "x",
         "y": [
          50
         ],
         "yaxis": "y"
        },
        {
         "alignmentgroup": "True",
         "hoverlabel": {
          "namelength": 0
         },
         "hovertemplate": "Clave platillo=ENS2<br>Grupo=%{x}<br>Cantidad=%{y}",
         "legendgroup": "Clave platillo=ENS2",
         "marker": {
          "color": "#FF6692"
         },
         "name": "Clave platillo=ENS2",
         "offsetgroup": "Clave platillo=ENS2",
         "orientation": "v",
         "showlegend": true,
         "textposition": "auto",
         "type": "bar",
         "x": [
          "ENSALADAS"
         ],
         "xaxis": "x",
         "y": [
          57
         ],
         "yaxis": "y"
        },
        {
         "alignmentgroup": "True",
         "hoverlabel": {
          "namelength": 0
         },
         "hovertemplate": "Clave platillo=ENS1<br>Grupo=%{x}<br>Cantidad=%{y}",
         "legendgroup": "Clave platillo=ENS1",
         "marker": {
          "color": "#B6E880"
         },
         "name": "Clave platillo=ENS1",
         "offsetgroup": "Clave platillo=ENS1",
         "orientation": "v",
         "showlegend": true,
         "textposition": "auto",
         "type": "bar",
         "x": [
          "ENSALADAS"
         ],
         "xaxis": "x",
         "y": [
          81
         ],
         "yaxis": "y"
        },
        {
         "alignmentgroup": "True",
         "hoverlabel": {
          "namelength": 0
         },
         "hovertemplate": "Clave platillo=DES61<br>Grupo=%{x}<br>Cantidad=%{y}",
         "legendgroup": "Clave platillo=DES61",
         "marker": {
          "color": "#FF97FF"
         },
         "name": "Clave platillo=DES61",
         "offsetgroup": "Clave platillo=DES61",
         "orientation": "v",
         "showlegend": true,
         "textposition": "auto",
         "type": "bar",
         "x": [
          "DESTILADOS"
         ],
         "xaxis": "x",
         "y": [
          1
         ],
         "yaxis": "y"
        },
        {
         "alignmentgroup": "True",
         "hoverlabel": {
          "namelength": 0
         },
         "hovertemplate": "Clave platillo=DES5<br>Grupo=%{x}<br>Cantidad=%{y}",
         "legendgroup": "Clave platillo=DES5",
         "marker": {
          "color": "#FECB52"
         },
         "name": "Clave platillo=DES5",
         "offsetgroup": "Clave platillo=DES5",
         "orientation": "v",
         "showlegend": true,
         "textposition": "auto",
         "type": "bar",
         "x": [
          "DESTILADOS"
         ],
         "xaxis": "x",
         "y": [
          14
         ],
         "yaxis": "y"
        },
        {
         "alignmentgroup": "True",
         "hoverlabel": {
          "namelength": 0
         },
         "hovertemplate": "Clave platillo=DES41<br>Grupo=%{x}<br>Cantidad=%{y}",
         "legendgroup": "Clave platillo=DES41",
         "marker": {
          "color": "#636efa"
         },
         "name": "Clave platillo=DES41",
         "offsetgroup": "Clave platillo=DES41",
         "orientation": "v",
         "showlegend": true,
         "textposition": "auto",
         "type": "bar",
         "x": [
          "DESTILADOS"
         ],
         "xaxis": "x",
         "y": [
          4
         ],
         "yaxis": "y"
        },
        {
         "alignmentgroup": "True",
         "hoverlabel": {
          "namelength": 0
         },
         "hovertemplate": "Clave platillo=DES40<br>Grupo=%{x}<br>Cantidad=%{y}",
         "legendgroup": "Clave platillo=DES40",
         "marker": {
          "color": "#EF553B"
         },
         "name": "Clave platillo=DES40",
         "offsetgroup": "Clave platillo=DES40",
         "orientation": "v",
         "showlegend": true,
         "textposition": "auto",
         "type": "bar",
         "x": [
          "DESTILADOS"
         ],
         "xaxis": "x",
         "y": [
          1
         ],
         "yaxis": "y"
        },
        {
         "alignmentgroup": "True",
         "hoverlabel": {
          "namelength": 0
         },
         "hovertemplate": "Clave platillo=DES39<br>Grupo=%{x}<br>Cantidad=%{y}",
         "legendgroup": "Clave platillo=DES39",
         "marker": {
          "color": "#00cc96"
         },
         "name": "Clave platillo=DES39",
         "offsetgroup": "Clave platillo=DES39",
         "orientation": "v",
         "showlegend": true,
         "textposition": "auto",
         "type": "bar",
         "x": [
          "DESTILADOS"
         ],
         "xaxis": "x",
         "y": [
          1
         ],
         "yaxis": "y"
        },
        {
         "alignmentgroup": "True",
         "hoverlabel": {
          "namelength": 0
         },
         "hovertemplate": "Clave platillo=DES36<br>Grupo=%{x}<br>Cantidad=%{y}",
         "legendgroup": "Clave platillo=DES36",
         "marker": {
          "color": "#ab63fa"
         },
         "name": "Clave platillo=DES36",
         "offsetgroup": "Clave platillo=DES36",
         "orientation": "v",
         "showlegend": true,
         "textposition": "auto",
         "type": "bar",
         "x": [
          "DESTILADOS"
         ],
         "xaxis": "x",
         "y": [
          3
         ],
         "yaxis": "y"
        },
        {
         "alignmentgroup": "True",
         "hoverlabel": {
          "namelength": 0
         },
         "hovertemplate": "Clave platillo=DES32<br>Grupo=%{x}<br>Cantidad=%{y}",
         "legendgroup": "Clave platillo=DES32",
         "marker": {
          "color": "#FFA15A"
         },
         "name": "Clave platillo=DES32",
         "offsetgroup": "Clave platillo=DES32",
         "orientation": "v",
         "showlegend": true,
         "textposition": "auto",
         "type": "bar",
         "x": [
          "DESTILADOS"
         ],
         "xaxis": "x",
         "y": [
          7
         ],
         "yaxis": "y"
        },
        {
         "alignmentgroup": "True",
         "hoverlabel": {
          "namelength": 0
         },
         "hovertemplate": "Clave platillo=DES28<br>Grupo=%{x}<br>Cantidad=%{y}",
         "legendgroup": "Clave platillo=DES28",
         "marker": {
          "color": "#19d3f3"
         },
         "name": "Clave platillo=DES28",
         "offsetgroup": "Clave platillo=DES28",
         "orientation": "v",
         "showlegend": true,
         "textposition": "auto",
         "type": "bar",
         "x": [
          "DESTILADOS"
         ],
         "xaxis": "x",
         "y": [
          8
         ],
         "yaxis": "y"
        },
        {
         "alignmentgroup": "True",
         "hoverlabel": {
          "namelength": 0
         },
         "hovertemplate": "Clave platillo=DES27<br>Grupo=%{x}<br>Cantidad=%{y}",
         "legendgroup": "Clave platillo=DES27",
         "marker": {
          "color": "#FF6692"
         },
         "name": "Clave platillo=DES27",
         "offsetgroup": "Clave platillo=DES27",
         "orientation": "v",
         "showlegend": true,
         "textposition": "auto",
         "type": "bar",
         "x": [
          "DESTILADOS"
         ],
         "xaxis": "x",
         "y": [
          14
         ],
         "yaxis": "y"
        },
        {
         "alignmentgroup": "True",
         "hoverlabel": {
          "namelength": 0
         },
         "hovertemplate": "Clave platillo=DES26<br>Grupo=%{x}<br>Cantidad=%{y}",
         "legendgroup": "Clave platillo=DES26",
         "marker": {
          "color": "#B6E880"
         },
         "name": "Clave platillo=DES26",
         "offsetgroup": "Clave platillo=DES26",
         "orientation": "v",
         "showlegend": true,
         "textposition": "auto",
         "type": "bar",
         "x": [
          "DESTILADOS"
         ],
         "xaxis": "x",
         "y": [
          4
         ],
         "yaxis": "y"
        },
        {
         "alignmentgroup": "True",
         "hoverlabel": {
          "namelength": 0
         },
         "hovertemplate": "Clave platillo=DES25<br>Grupo=%{x}<br>Cantidad=%{y}",
         "legendgroup": "Clave platillo=DES25",
         "marker": {
          "color": "#FF97FF"
         },
         "name": "Clave platillo=DES25",
         "offsetgroup": "Clave platillo=DES25",
         "orientation": "v",
         "showlegend": true,
         "textposition": "auto",
         "type": "bar",
         "x": [
          "DESTILADOS"
         ],
         "xaxis": "x",
         "y": [
          2
         ],
         "yaxis": "y"
        },
        {
         "alignmentgroup": "True",
         "hoverlabel": {
          "namelength": 0
         },
         "hovertemplate": "Clave platillo=DES23<br>Grupo=%{x}<br>Cantidad=%{y}",
         "legendgroup": "Clave platillo=DES23",
         "marker": {
          "color": "#FECB52"
         },
         "name": "Clave platillo=DES23",
         "offsetgroup": "Clave platillo=DES23",
         "orientation": "v",
         "showlegend": true,
         "textposition": "auto",
         "type": "bar",
         "x": [
          "DESTILADOS"
         ],
         "xaxis": "x",
         "y": [
          7
         ],
         "yaxis": "y"
        },
        {
         "alignmentgroup": "True",
         "hoverlabel": {
          "namelength": 0
         },
         "hovertemplate": "Clave platillo=DES22<br>Grupo=%{x}<br>Cantidad=%{y}",
         "legendgroup": "Clave platillo=DES22",
         "marker": {
          "color": "#636efa"
         },
         "name": "Clave platillo=DES22",
         "offsetgroup": "Clave platillo=DES22",
         "orientation": "v",
         "showlegend": true,
         "textposition": "auto",
         "type": "bar",
         "x": [
          "DESTILADOS"
         ],
         "xaxis": "x",
         "y": [
          12
         ],
         "yaxis": "y"
        },
        {
         "alignmentgroup": "True",
         "hoverlabel": {
          "namelength": 0
         },
         "hovertemplate": "Clave platillo=DES21<br>Grupo=%{x}<br>Cantidad=%{y}",
         "legendgroup": "Clave platillo=DES21",
         "marker": {
          "color": "#EF553B"
         },
         "name": "Clave platillo=DES21",
         "offsetgroup": "Clave platillo=DES21",
         "orientation": "v",
         "showlegend": true,
         "textposition": "auto",
         "type": "bar",
         "x": [
          "DESTILADOS"
         ],
         "xaxis": "x",
         "y": [
          2
         ],
         "yaxis": "y"
        },
        {
         "alignmentgroup": "True",
         "hoverlabel": {
          "namelength": 0
         },
         "hovertemplate": "Clave platillo=DES20<br>Grupo=%{x}<br>Cantidad=%{y}",
         "legendgroup": "Clave platillo=DES20",
         "marker": {
          "color": "#00cc96"
         },
         "name": "Clave platillo=DES20",
         "offsetgroup": "Clave platillo=DES20",
         "orientation": "v",
         "showlegend": true,
         "textposition": "auto",
         "type": "bar",
         "x": [
          "DESTILADOS"
         ],
         "xaxis": "x",
         "y": [
          2
         ],
         "yaxis": "y"
        },
        {
         "alignmentgroup": "True",
         "hoverlabel": {
          "namelength": 0
         },
         "hovertemplate": "Clave platillo=DES2<br>Grupo=%{x}<br>Cantidad=%{y}",
         "legendgroup": "Clave platillo=DES2",
         "marker": {
          "color": "#ab63fa"
         },
         "name": "Clave platillo=DES2",
         "offsetgroup": "Clave platillo=DES2",
         "orientation": "v",
         "showlegend": true,
         "textposition": "auto",
         "type": "bar",
         "x": [
          "DESTILADOS"
         ],
         "xaxis": "x",
         "y": [
          23
         ],
         "yaxis": "y"
        },
        {
         "alignmentgroup": "True",
         "hoverlabel": {
          "namelength": 0
         },
         "hovertemplate": "Clave platillo=DES19<br>Grupo=%{x}<br>Cantidad=%{y}",
         "legendgroup": "Clave platillo=DES19",
         "marker": {
          "color": "#FFA15A"
         },
         "name": "Clave platillo=DES19",
         "offsetgroup": "Clave platillo=DES19",
         "orientation": "v",
         "showlegend": true,
         "textposition": "auto",
         "type": "bar",
         "x": [
          "DESTILADOS"
         ],
         "xaxis": "x",
         "y": [
          4
         ],
         "yaxis": "y"
        },
        {
         "alignmentgroup": "True",
         "hoverlabel": {
          "namelength": 0
         },
         "hovertemplate": "Clave platillo=DES17<br>Grupo=%{x}<br>Cantidad=%{y}",
         "legendgroup": "Clave platillo=DES17",
         "marker": {
          "color": "#19d3f3"
         },
         "name": "Clave platillo=DES17",
         "offsetgroup": "Clave platillo=DES17",
         "orientation": "v",
         "showlegend": true,
         "textposition": "auto",
         "type": "bar",
         "x": [
          "DESTILADOS"
         ],
         "xaxis": "x",
         "y": [
          4
         ],
         "yaxis": "y"
        },
        {
         "alignmentgroup": "True",
         "hoverlabel": {
          "namelength": 0
         },
         "hovertemplate": "Clave platillo=DES15<br>Grupo=%{x}<br>Cantidad=%{y}",
         "legendgroup": "Clave platillo=DES15",
         "marker": {
          "color": "#FF6692"
         },
         "name": "Clave platillo=DES15",
         "offsetgroup": "Clave platillo=DES15",
         "orientation": "v",
         "showlegend": true,
         "textposition": "auto",
         "type": "bar",
         "x": [
          "DESTILADOS"
         ],
         "xaxis": "x",
         "y": [
          2
         ],
         "yaxis": "y"
        },
        {
         "alignmentgroup": "True",
         "hoverlabel": {
          "namelength": 0
         },
         "hovertemplate": "Clave platillo=DES14<br>Grupo=%{x}<br>Cantidad=%{y}",
         "legendgroup": "Clave platillo=DES14",
         "marker": {
          "color": "#B6E880"
         },
         "name": "Clave platillo=DES14",
         "offsetgroup": "Clave platillo=DES14",
         "orientation": "v",
         "showlegend": true,
         "textposition": "auto",
         "type": "bar",
         "x": [
          "DESTILADOS"
         ],
         "xaxis": "x",
         "y": [
          4
         ],
         "yaxis": "y"
        },
        {
         "alignmentgroup": "True",
         "hoverlabel": {
          "namelength": 0
         },
         "hovertemplate": "Clave platillo=DES12<br>Grupo=%{x}<br>Cantidad=%{y}",
         "legendgroup": "Clave platillo=DES12",
         "marker": {
          "color": "#FF97FF"
         },
         "name": "Clave platillo=DES12",
         "offsetgroup": "Clave platillo=DES12",
         "orientation": "v",
         "showlegend": true,
         "textposition": "auto",
         "type": "bar",
         "x": [
          "DESTILADOS"
         ],
         "xaxis": "x",
         "y": [
          2
         ],
         "yaxis": "y"
        },
        {
         "alignmentgroup": "True",
         "hoverlabel": {
          "namelength": 0
         },
         "hovertemplate": "Clave platillo=DES10<br>Grupo=%{x}<br>Cantidad=%{y}",
         "legendgroup": "Clave platillo=DES10",
         "marker": {
          "color": "#FECB52"
         },
         "name": "Clave platillo=DES10",
         "offsetgroup": "Clave platillo=DES10",
         "orientation": "v",
         "showlegend": true,
         "textposition": "auto",
         "type": "bar",
         "x": [
          "DESTILADOS"
         ],
         "xaxis": "x",
         "y": [
          1
         ],
         "yaxis": "y"
        },
        {
         "alignmentgroup": "True",
         "hoverlabel": {
          "namelength": 0
         },
         "hovertemplate": "Clave platillo=DES1<br>Grupo=%{x}<br>Cantidad=%{y}",
         "legendgroup": "Clave platillo=DES1",
         "marker": {
          "color": "#636efa"
         },
         "name": "Clave platillo=DES1",
         "offsetgroup": "Clave platillo=DES1",
         "orientation": "v",
         "showlegend": true,
         "textposition": "auto",
         "type": "bar",
         "x": [
          "DESTILADOS"
         ],
         "xaxis": "x",
         "y": [
          6
         ],
         "yaxis": "y"
        },
        {
         "alignmentgroup": "True",
         "hoverlabel": {
          "namelength": 0
         },
         "hovertemplate": "Clave platillo=DES08<br>Grupo=%{x}<br>Cantidad=%{y}",
         "legendgroup": "Clave platillo=DES08",
         "marker": {
          "color": "#EF553B"
         },
         "name": "Clave platillo=DES08",
         "offsetgroup": "Clave platillo=DES08",
         "orientation": "v",
         "showlegend": true,
         "textposition": "auto",
         "type": "bar",
         "x": [
          "DESTILADOS"
         ],
         "xaxis": "x",
         "y": [
          3
         ],
         "yaxis": "y"
        },
        {
         "alignmentgroup": "True",
         "hoverlabel": {
          "namelength": 0
         },
         "hovertemplate": "Clave platillo=DES07<br>Grupo=%{x}<br>Cantidad=%{y}",
         "legendgroup": "Clave platillo=DES07",
         "marker": {
          "color": "#00cc96"
         },
         "name": "Clave platillo=DES07",
         "offsetgroup": "Clave platillo=DES07",
         "orientation": "v",
         "showlegend": true,
         "textposition": "auto",
         "type": "bar",
         "x": [
          "DESTILADOS"
         ],
         "xaxis": "x",
         "y": [
          3
         ],
         "yaxis": "y"
        },
        {
         "alignmentgroup": "True",
         "hoverlabel": {
          "namelength": 0
         },
         "hovertemplate": "Clave platillo=DES06<br>Grupo=%{x}<br>Cantidad=%{y}",
         "legendgroup": "Clave platillo=DES06",
         "marker": {
          "color": "#ab63fa"
         },
         "name": "Clave platillo=DES06",
         "offsetgroup": "Clave platillo=DES06",
         "orientation": "v",
         "showlegend": true,
         "textposition": "auto",
         "type": "bar",
         "x": [
          "DESTILADOS"
         ],
         "xaxis": "x",
         "y": [
          14
         ],
         "yaxis": "y"
        },
        {
         "alignmentgroup": "True",
         "hoverlabel": {
          "namelength": 0
         },
         "hovertemplate": "Clave platillo=DES05<br>Grupo=%{x}<br>Cantidad=%{y}",
         "legendgroup": "Clave platillo=DES05",
         "marker": {
          "color": "#FFA15A"
         },
         "name": "Clave platillo=DES05",
         "offsetgroup": "Clave platillo=DES05",
         "orientation": "v",
         "showlegend": true,
         "textposition": "auto",
         "type": "bar",
         "x": [
          "DESTILADOS"
         ],
         "xaxis": "x",
         "y": [
          4
         ],
         "yaxis": "y"
        },
        {
         "alignmentgroup": "True",
         "hoverlabel": {
          "namelength": 0
         },
         "hovertemplate": "Clave platillo=DES04<br>Grupo=%{x}<br>Cantidad=%{y}",
         "legendgroup": "Clave platillo=DES04",
         "marker": {
          "color": "#19d3f3"
         },
         "name": "Clave platillo=DES04",
         "offsetgroup": "Clave platillo=DES04",
         "orientation": "v",
         "showlegend": true,
         "textposition": "auto",
         "type": "bar",
         "x": [
          "DESTILADOS"
         ],
         "xaxis": "x",
         "y": [
          1
         ],
         "yaxis": "y"
        },
        {
         "alignmentgroup": "True",
         "hoverlabel": {
          "namelength": 0
         },
         "hovertemplate": "Clave platillo=DES03<br>Grupo=%{x}<br>Cantidad=%{y}",
         "legendgroup": "Clave platillo=DES03",
         "marker": {
          "color": "#FF6692"
         },
         "name": "Clave platillo=DES03",
         "offsetgroup": "Clave platillo=DES03",
         "orientation": "v",
         "showlegend": true,
         "textposition": "auto",
         "type": "bar",
         "x": [
          "DESTILADOS"
         ],
         "xaxis": "x",
         "y": [
          1
         ],
         "yaxis": "y"
        },
        {
         "alignmentgroup": "True",
         "hoverlabel": {
          "namelength": 0
         },
         "hovertemplate": "Clave platillo=DES02<br>Grupo=%{x}<br>Cantidad=%{y}",
         "legendgroup": "Clave platillo=DES02",
         "marker": {
          "color": "#B6E880"
         },
         "name": "Clave platillo=DES02",
         "offsetgroup": "Clave platillo=DES02",
         "orientation": "v",
         "showlegend": true,
         "textposition": "auto",
         "type": "bar",
         "x": [
          "DESTILADOS"
         ],
         "xaxis": "x",
         "y": [
          5
         ],
         "yaxis": "y"
        },
        {
         "alignmentgroup": "True",
         "hoverlabel": {
          "namelength": 0
         },
         "hovertemplate": "Clave platillo=DES01<br>Grupo=%{x}<br>Cantidad=%{y}",
         "legendgroup": "Clave platillo=DES01",
         "marker": {
          "color": "#FF97FF"
         },
         "name": "Clave platillo=DES01",
         "offsetgroup": "Clave platillo=DES01",
         "orientation": "v",
         "showlegend": true,
         "textposition": "auto",
         "type": "bar",
         "x": [
          "DESTILADOS"
         ],
         "xaxis": "x",
         "y": [
          2
         ],
         "yaxis": "y"
        },
        {
         "alignmentgroup": "True",
         "hoverlabel": {
          "namelength": 0
         },
         "hovertemplate": "Clave platillo=CLA5<br>Grupo=%{x}<br>Cantidad=%{y}",
         "legendgroup": "Clave platillo=CLA5",
         "marker": {
          "color": "#FECB52"
         },
         "name": "Clave platillo=CLA5",
         "offsetgroup": "Clave platillo=CLA5",
         "orientation": "v",
         "showlegend": true,
         "textposition": "auto",
         "type": "bar",
         "x": [
          "CLÁSICOS"
         ],
         "xaxis": "x",
         "y": [
          110
         ],
         "yaxis": "y"
        },
        {
         "alignmentgroup": "True",
         "hoverlabel": {
          "namelength": 0
         },
         "hovertemplate": "Clave platillo=CLA4<br>Grupo=%{x}<br>Cantidad=%{y}",
         "legendgroup": "Clave platillo=CLA4",
         "marker": {
          "color": "#636efa"
         },
         "name": "Clave platillo=CLA4",
         "offsetgroup": "Clave platillo=CLA4",
         "orientation": "v",
         "showlegend": true,
         "textposition": "auto",
         "type": "bar",
         "x": [
          "CLÁSICOS"
         ],
         "xaxis": "x",
         "y": [
          58
         ],
         "yaxis": "y"
        },
        {
         "alignmentgroup": "True",
         "hoverlabel": {
          "namelength": 0
         },
         "hovertemplate": "Clave platillo=CLA3<br>Grupo=%{x}<br>Cantidad=%{y}",
         "legendgroup": "Clave platillo=CLA3",
         "marker": {
          "color": "#EF553B"
         },
         "name": "Clave platillo=CLA3",
         "offsetgroup": "Clave platillo=CLA3",
         "orientation": "v",
         "showlegend": true,
         "textposition": "auto",
         "type": "bar",
         "x": [
          "CLÁSICOS"
         ],
         "xaxis": "x",
         "y": [
          189
         ],
         "yaxis": "y"
        },
        {
         "alignmentgroup": "True",
         "hoverlabel": {
          "namelength": 0
         },
         "hovertemplate": "Clave platillo=CLA2<br>Grupo=%{x}<br>Cantidad=%{y}",
         "legendgroup": "Clave platillo=CLA2",
         "marker": {
          "color": "#00cc96"
         },
         "name": "Clave platillo=CLA2",
         "offsetgroup": "Clave platillo=CLA2",
         "orientation": "v",
         "showlegend": true,
         "textposition": "auto",
         "type": "bar",
         "x": [
          "CLÁSICOS"
         ],
         "xaxis": "x",
         "y": [
          121
         ],
         "yaxis": "y"
        },
        {
         "alignmentgroup": "True",
         "hoverlabel": {
          "namelength": 0
         },
         "hovertemplate": "Clave platillo=CLA1<br>Grupo=%{x}<br>Cantidad=%{y}",
         "legendgroup": "Clave platillo=CLA1",
         "marker": {
          "color": "#ab63fa"
         },
         "name": "Clave platillo=CLA1",
         "offsetgroup": "Clave platillo=CLA1",
         "orientation": "v",
         "showlegend": true,
         "textposition": "auto",
         "type": "bar",
         "x": [
          "CLÁSICOS"
         ],
         "xaxis": "x",
         "y": [
          1219
         ],
         "yaxis": "y"
        },
        {
         "alignmentgroup": "True",
         "hoverlabel": {
          "namelength": 0
         },
         "hovertemplate": "Clave platillo=BSP9<br>Grupo=%{x}<br>Cantidad=%{y}",
         "legendgroup": "Clave platillo=BSP9",
         "marker": {
          "color": "#FFA15A"
         },
         "name": "Clave platillo=BSP9",
         "offsetgroup": "Clave platillo=BSP9",
         "orientation": "v",
         "showlegend": true,
         "textposition": "auto",
         "type": "bar",
         "x": [
          "BEBIDAS SÚPER"
         ],
         "xaxis": "x",
         "y": [
          5
         ],
         "yaxis": "y"
        },
        {
         "alignmentgroup": "True",
         "hoverlabel": {
          "namelength": 0
         },
         "hovertemplate": "Clave platillo=BSP7<br>Grupo=%{x}<br>Cantidad=%{y}",
         "legendgroup": "Clave platillo=BSP7",
         "marker": {
          "color": "#19d3f3"
         },
         "name": "Clave platillo=BSP7",
         "offsetgroup": "Clave platillo=BSP7",
         "orientation": "v",
         "showlegend": true,
         "textposition": "auto",
         "type": "bar",
         "x": [
          "BEBIDAS SÚPER"
         ],
         "xaxis": "x",
         "y": [
          3
         ],
         "yaxis": "y"
        },
        {
         "alignmentgroup": "True",
         "hoverlabel": {
          "namelength": 0
         },
         "hovertemplate": "Clave platillo=BSP6<br>Grupo=%{x}<br>Cantidad=%{y}",
         "legendgroup": "Clave platillo=BSP6",
         "marker": {
          "color": "#FF6692"
         },
         "name": "Clave platillo=BSP6",
         "offsetgroup": "Clave platillo=BSP6",
         "orientation": "v",
         "showlegend": true,
         "textposition": "auto",
         "type": "bar",
         "x": [
          "BEBIDAS SÚPER"
         ],
         "xaxis": "x",
         "y": [
          1
         ],
         "yaxis": "y"
        },
        {
         "alignmentgroup": "True",
         "hoverlabel": {
          "namelength": 0
         },
         "hovertemplate": "Clave platillo=BSP5<br>Grupo=%{x}<br>Cantidad=%{y}",
         "legendgroup": "Clave platillo=BSP5",
         "marker": {
          "color": "#B6E880"
         },
         "name": "Clave platillo=BSP5",
         "offsetgroup": "Clave platillo=BSP5",
         "orientation": "v",
         "showlegend": true,
         "textposition": "auto",
         "type": "bar",
         "x": [
          "BEBIDAS SÚPER"
         ],
         "xaxis": "x",
         "y": [
          3
         ],
         "yaxis": "y"
        },
        {
         "alignmentgroup": "True",
         "hoverlabel": {
          "namelength": 0
         },
         "hovertemplate": "Clave platillo=BSP3<br>Grupo=%{x}<br>Cantidad=%{y}",
         "legendgroup": "Clave platillo=BSP3",
         "marker": {
          "color": "#FF97FF"
         },
         "name": "Clave platillo=BSP3",
         "offsetgroup": "Clave platillo=BSP3",
         "orientation": "v",
         "showlegend": true,
         "textposition": "auto",
         "type": "bar",
         "x": [
          "BEBIDAS SÚPER"
         ],
         "xaxis": "x",
         "y": [
          7
         ],
         "yaxis": "y"
        },
        {
         "alignmentgroup": "True",
         "hoverlabel": {
          "namelength": 0
         },
         "hovertemplate": "Clave platillo=BSP2<br>Grupo=%{x}<br>Cantidad=%{y}",
         "legendgroup": "Clave platillo=BSP2",
         "marker": {
          "color": "#FECB52"
         },
         "name": "Clave platillo=BSP2",
         "offsetgroup": "Clave platillo=BSP2",
         "orientation": "v",
         "showlegend": true,
         "textposition": "auto",
         "type": "bar",
         "x": [
          "BEBIDAS SÚPER"
         ],
         "xaxis": "x",
         "y": [
          2
         ],
         "yaxis": "y"
        },
        {
         "alignmentgroup": "True",
         "hoverlabel": {
          "namelength": 0
         },
         "hovertemplate": "Clave platillo=BSP18<br>Grupo=%{x}<br>Cantidad=%{y}",
         "legendgroup": "Clave platillo=BSP18",
         "marker": {
          "color": "#636efa"
         },
         "name": "Clave platillo=BSP18",
         "offsetgroup": "Clave platillo=BSP18",
         "orientation": "v",
         "showlegend": true,
         "textposition": "auto",
         "type": "bar",
         "x": [
          "BEBIDAS SÚPER"
         ],
         "xaxis": "x",
         "y": [
          1
         ],
         "yaxis": "y"
        },
        {
         "alignmentgroup": "True",
         "hoverlabel": {
          "namelength": 0
         },
         "hovertemplate": "Clave platillo=BSP17<br>Grupo=%{x}<br>Cantidad=%{y}",
         "legendgroup": "Clave platillo=BSP17",
         "marker": {
          "color": "#EF553B"
         },
         "name": "Clave platillo=BSP17",
         "offsetgroup": "Clave platillo=BSP17",
         "orientation": "v",
         "showlegend": true,
         "textposition": "auto",
         "type": "bar",
         "x": [
          "BEBIDAS SÚPER"
         ],
         "xaxis": "x",
         "y": [
          3
         ],
         "yaxis": "y"
        },
        {
         "alignmentgroup": "True",
         "hoverlabel": {
          "namelength": 0
         },
         "hovertemplate": "Clave platillo=BSP16<br>Grupo=%{x}<br>Cantidad=%{y}",
         "legendgroup": "Clave platillo=BSP16",
         "marker": {
          "color": "#00cc96"
         },
         "name": "Clave platillo=BSP16",
         "offsetgroup": "Clave platillo=BSP16",
         "orientation": "v",
         "showlegend": true,
         "textposition": "auto",
         "type": "bar",
         "x": [
          "BEBIDAS SÚPER"
         ],
         "xaxis": "x",
         "y": [
          3
         ],
         "yaxis": "y"
        },
        {
         "alignmentgroup": "True",
         "hoverlabel": {
          "namelength": 0
         },
         "hovertemplate": "Clave platillo=BSP15<br>Grupo=%{x}<br>Cantidad=%{y}",
         "legendgroup": "Clave platillo=BSP15",
         "marker": {
          "color": "#ab63fa"
         },
         "name": "Clave platillo=BSP15",
         "offsetgroup": "Clave platillo=BSP15",
         "orientation": "v",
         "showlegend": true,
         "textposition": "auto",
         "type": "bar",
         "x": [
          "BEBIDAS SÚPER"
         ],
         "xaxis": "x",
         "y": [
          24
         ],
         "yaxis": "y"
        },
        {
         "alignmentgroup": "True",
         "hoverlabel": {
          "namelength": 0
         },
         "hovertemplate": "Clave platillo=BSP14<br>Grupo=%{x}<br>Cantidad=%{y}",
         "legendgroup": "Clave platillo=BSP14",
         "marker": {
          "color": "#FFA15A"
         },
         "name": "Clave platillo=BSP14",
         "offsetgroup": "Clave platillo=BSP14",
         "orientation": "v",
         "showlegend": true,
         "textposition": "auto",
         "type": "bar",
         "x": [
          "BEBIDAS SÚPER"
         ],
         "xaxis": "x",
         "y": [
          1
         ],
         "yaxis": "y"
        },
        {
         "alignmentgroup": "True",
         "hoverlabel": {
          "namelength": 0
         },
         "hovertemplate": "Clave platillo=BSP12<br>Grupo=%{x}<br>Cantidad=%{y}",
         "legendgroup": "Clave platillo=BSP12",
         "marker": {
          "color": "#19d3f3"
         },
         "name": "Clave platillo=BSP12",
         "offsetgroup": "Clave platillo=BSP12",
         "orientation": "v",
         "showlegend": true,
         "textposition": "auto",
         "type": "bar",
         "x": [
          "BEBIDAS SÚPER"
         ],
         "xaxis": "x",
         "y": [
          1
         ],
         "yaxis": "y"
        },
        {
         "alignmentgroup": "True",
         "hoverlabel": {
          "namelength": 0
         },
         "hovertemplate": "Clave platillo=BSP11<br>Grupo=%{x}<br>Cantidad=%{y}",
         "legendgroup": "Clave platillo=BSP11",
         "marker": {
          "color": "#FF6692"
         },
         "name": "Clave platillo=BSP11",
         "offsetgroup": "Clave platillo=BSP11",
         "orientation": "v",
         "showlegend": true,
         "textposition": "auto",
         "type": "bar",
         "x": [
          "BEBIDAS SÚPER"
         ],
         "xaxis": "x",
         "y": [
          3
         ],
         "yaxis": "y"
        },
        {
         "alignmentgroup": "True",
         "hoverlabel": {
          "namelength": 0
         },
         "hovertemplate": "Clave platillo=BSP1<br>Grupo=%{x}<br>Cantidad=%{y}",
         "legendgroup": "Clave platillo=BSP1",
         "marker": {
          "color": "#B6E880"
         },
         "name": "Clave platillo=BSP1",
         "offsetgroup": "Clave platillo=BSP1",
         "orientation": "v",
         "showlegend": true,
         "textposition": "auto",
         "type": "bar",
         "x": [
          "BEBIDAS SÚPER"
         ],
         "xaxis": "x",
         "y": [
          14
         ],
         "yaxis": "y"
        },
        {
         "alignmentgroup": "True",
         "hoverlabel": {
          "namelength": 0
         },
         "hovertemplate": "Clave platillo=BSA9<br>Grupo=%{x}<br>Cantidad=%{y}",
         "legendgroup": "Clave platillo=BSA9",
         "marker": {
          "color": "#FF97FF"
         },
         "name": "Clave platillo=BSA9",
         "offsetgroup": "Clave platillo=BSA9",
         "orientation": "v",
         "showlegend": true,
         "textposition": "auto",
         "type": "bar",
         "x": [
          "BEBIDAS SIN ALCOHOL"
         ],
         "xaxis": "x",
         "y": [
          65
         ],
         "yaxis": "y"
        },
        {
         "alignmentgroup": "True",
         "hoverlabel": {
          "namelength": 0
         },
         "hovertemplate": "Clave platillo=BSA8<br>Grupo=%{x}<br>Cantidad=%{y}",
         "legendgroup": "Clave platillo=BSA8",
         "marker": {
          "color": "#FECB52"
         },
         "name": "Clave platillo=BSA8",
         "offsetgroup": "Clave platillo=BSA8",
         "orientation": "v",
         "showlegend": true,
         "textposition": "auto",
         "type": "bar",
         "x": [
          "BEBIDAS SIN ALCOHOL"
         ],
         "xaxis": "x",
         "y": [
          338
         ],
         "yaxis": "y"
        },
        {
         "alignmentgroup": "True",
         "hoverlabel": {
          "namelength": 0
         },
         "hovertemplate": "Clave platillo=BSA7<br>Grupo=%{x}<br>Cantidad=%{y}",
         "legendgroup": "Clave platillo=BSA7",
         "marker": {
          "color": "#636efa"
         },
         "name": "Clave platillo=BSA7",
         "offsetgroup": "Clave platillo=BSA7",
         "orientation": "v",
         "showlegend": true,
         "textposition": "auto",
         "type": "bar",
         "x": [
          "BEBIDAS SIN ALCOHOL"
         ],
         "xaxis": "x",
         "y": [
          29
         ],
         "yaxis": "y"
        },
        {
         "alignmentgroup": "True",
         "hoverlabel": {
          "namelength": 0
         },
         "hovertemplate": "Clave platillo=BSA6<br>Grupo=%{x}<br>Cantidad=%{y}",
         "legendgroup": "Clave platillo=BSA6",
         "marker": {
          "color": "#EF553B"
         },
         "name": "Clave platillo=BSA6",
         "offsetgroup": "Clave platillo=BSA6",
         "orientation": "v",
         "showlegend": true,
         "textposition": "auto",
         "type": "bar",
         "x": [
          "BEBIDAS SIN ALCOHOL"
         ],
         "xaxis": "x",
         "y": [
          143
         ],
         "yaxis": "y"
        },
        {
         "alignmentgroup": "True",
         "hoverlabel": {
          "namelength": 0
         },
         "hovertemplate": "Clave platillo=BSA5<br>Grupo=%{x}<br>Cantidad=%{y}",
         "legendgroup": "Clave platillo=BSA5",
         "marker": {
          "color": "#00cc96"
         },
         "name": "Clave platillo=BSA5",
         "offsetgroup": "Clave platillo=BSA5",
         "orientation": "v",
         "showlegend": true,
         "textposition": "auto",
         "type": "bar",
         "x": [
          "BEBIDAS SIN ALCOHOL"
         ],
         "xaxis": "x",
         "y": [
          252
         ],
         "yaxis": "y"
        },
        {
         "alignmentgroup": "True",
         "hoverlabel": {
          "namelength": 0
         },
         "hovertemplate": "Clave platillo=BSA4<br>Grupo=%{x}<br>Cantidad=%{y}",
         "legendgroup": "Clave platillo=BSA4",
         "marker": {
          "color": "#ab63fa"
         },
         "name": "Clave platillo=BSA4",
         "offsetgroup": "Clave platillo=BSA4",
         "orientation": "v",
         "showlegend": true,
         "textposition": "auto",
         "type": "bar",
         "x": [
          "BEBIDAS SIN ALCOHOL"
         ],
         "xaxis": "x",
         "y": [
          109
         ],
         "yaxis": "y"
        },
        {
         "alignmentgroup": "True",
         "hoverlabel": {
          "namelength": 0
         },
         "hovertemplate": "Clave platillo=BSA3<br>Grupo=%{x}<br>Cantidad=%{y}",
         "legendgroup": "Clave platillo=BSA3",
         "marker": {
          "color": "#FFA15A"
         },
         "name": "Clave platillo=BSA3",
         "offsetgroup": "Clave platillo=BSA3",
         "orientation": "v",
         "showlegend": true,
         "textposition": "auto",
         "type": "bar",
         "x": [
          "BEBIDAS SIN ALCOHOL"
         ],
         "xaxis": "x",
         "y": [
          186
         ],
         "yaxis": "y"
        },
        {
         "alignmentgroup": "True",
         "hoverlabel": {
          "namelength": 0
         },
         "hovertemplate": "Clave platillo=BSA2<br>Grupo=%{x}<br>Cantidad=%{y}",
         "legendgroup": "Clave platillo=BSA2",
         "marker": {
          "color": "#19d3f3"
         },
         "name": "Clave platillo=BSA2",
         "offsetgroup": "Clave platillo=BSA2",
         "orientation": "v",
         "showlegend": true,
         "textposition": "auto",
         "type": "bar",
         "x": [
          "BEBIDAS SIN ALCOHOL"
         ],
         "xaxis": "x",
         "y": [
          500
         ],
         "yaxis": "y"
        },
        {
         "alignmentgroup": "True",
         "hoverlabel": {
          "namelength": 0
         },
         "hovertemplate": "Clave platillo=BSA1<br>Grupo=%{x}<br>Cantidad=%{y}",
         "legendgroup": "Clave platillo=BSA1",
         "marker": {
          "color": "#FF6692"
         },
         "name": "Clave platillo=BSA1",
         "offsetgroup": "Clave platillo=BSA1",
         "orientation": "v",
         "showlegend": true,
         "textposition": "auto",
         "type": "bar",
         "x": [
          "BEBIDAS SIN ALCOHOL"
         ],
         "xaxis": "x",
         "y": [
          692
         ],
         "yaxis": "y"
        },
        {
         "alignmentgroup": "True",
         "hoverlabel": {
          "namelength": 0
         },
         "hovertemplate": "Clave platillo=BCA8<br>Grupo=%{x}<br>Cantidad=%{y}",
         "legendgroup": "Clave platillo=BCA8",
         "marker": {
          "color": "#B6E880"
         },
         "name": "Clave platillo=BCA8",
         "offsetgroup": "Clave platillo=BCA8",
         "orientation": "v",
         "showlegend": true,
         "textposition": "auto",
         "type": "bar",
         "x": [
          "BEBIDAS CON ALCOHOL"
         ],
         "xaxis": "x",
         "y": [
          1981
         ],
         "yaxis": "y"
        },
        {
         "alignmentgroup": "True",
         "hoverlabel": {
          "namelength": 0
         },
         "hovertemplate": "Clave platillo=BCA7<br>Grupo=%{x}<br>Cantidad=%{y}",
         "legendgroup": "Clave platillo=BCA7",
         "marker": {
          "color": "#FF97FF"
         },
         "name": "Clave platillo=BCA7",
         "offsetgroup": "Clave platillo=BCA7",
         "orientation": "v",
         "showlegend": true,
         "textposition": "auto",
         "type": "bar",
         "x": [
          "BEBIDAS CON ALCOHOL"
         ],
         "xaxis": "x",
         "y": [
          29
         ],
         "yaxis": "y"
        },
        {
         "alignmentgroup": "True",
         "hoverlabel": {
          "namelength": 0
         },
         "hovertemplate": "Clave platillo=BCA6<br>Grupo=%{x}<br>Cantidad=%{y}",
         "legendgroup": "Clave platillo=BCA6",
         "marker": {
          "color": "#FECB52"
         },
         "name": "Clave platillo=BCA6",
         "offsetgroup": "Clave platillo=BCA6",
         "orientation": "v",
         "showlegend": true,
         "textposition": "auto",
         "type": "bar",
         "x": [
          "BEBIDAS CON ALCOHOL"
         ],
         "xaxis": "x",
         "y": [
          248
         ],
         "yaxis": "y"
        },
        {
         "alignmentgroup": "True",
         "hoverlabel": {
          "namelength": 0
         },
         "hovertemplate": "Clave platillo=BCA5<br>Grupo=%{x}<br>Cantidad=%{y}",
         "legendgroup": "Clave platillo=BCA5",
         "marker": {
          "color": "#636efa"
         },
         "name": "Clave platillo=BCA5",
         "offsetgroup": "Clave platillo=BCA5",
         "orientation": "v",
         "showlegend": true,
         "textposition": "auto",
         "type": "bar",
         "x": [
          "BEBIDAS CON ALCOHOL"
         ],
         "xaxis": "x",
         "y": [
          232
         ],
         "yaxis": "y"
        },
        {
         "alignmentgroup": "True",
         "hoverlabel": {
          "namelength": 0
         },
         "hovertemplate": "Clave platillo=BCA4<br>Grupo=%{x}<br>Cantidad=%{y}",
         "legendgroup": "Clave platillo=BCA4",
         "marker": {
          "color": "#EF553B"
         },
         "name": "Clave platillo=BCA4",
         "offsetgroup": "Clave platillo=BCA4",
         "orientation": "v",
         "showlegend": true,
         "textposition": "auto",
         "type": "bar",
         "x": [
          "BEBIDAS CON ALCOHOL"
         ],
         "xaxis": "x",
         "y": [
          205
         ],
         "yaxis": "y"
        },
        {
         "alignmentgroup": "True",
         "hoverlabel": {
          "namelength": 0
         },
         "hovertemplate": "Clave platillo=BCA3<br>Grupo=%{x}<br>Cantidad=%{y}",
         "legendgroup": "Clave platillo=BCA3",
         "marker": {
          "color": "#00cc96"
         },
         "name": "Clave platillo=BCA3",
         "offsetgroup": "Clave platillo=BCA3",
         "orientation": "v",
         "showlegend": true,
         "textposition": "auto",
         "type": "bar",
         "x": [
          "BEBIDAS CON ALCOHOL"
         ],
         "xaxis": "x",
         "y": [
          151
         ],
         "yaxis": "y"
        },
        {
         "alignmentgroup": "True",
         "hoverlabel": {
          "namelength": 0
         },
         "hovertemplate": "Clave platillo=BCA2<br>Grupo=%{x}<br>Cantidad=%{y}",
         "legendgroup": "Clave platillo=BCA2",
         "marker": {
          "color": "#ab63fa"
         },
         "name": "Clave platillo=BCA2",
         "offsetgroup": "Clave platillo=BCA2",
         "orientation": "v",
         "showlegend": true,
         "textposition": "auto",
         "type": "bar",
         "x": [
          "BEBIDAS CON ALCOHOL"
         ],
         "xaxis": "x",
         "y": [
          69
         ],
         "yaxis": "y"
        },
        {
         "alignmentgroup": "True",
         "hoverlabel": {
          "namelength": 0
         },
         "hovertemplate": "Clave platillo=BCA10<br>Grupo=%{x}<br>Cantidad=%{y}",
         "legendgroup": "Clave platillo=BCA10",
         "marker": {
          "color": "#FFA15A"
         },
         "name": "Clave platillo=BCA10",
         "offsetgroup": "Clave platillo=BCA10",
         "orientation": "v",
         "showlegend": true,
         "textposition": "auto",
         "type": "bar",
         "x": [
          "BEBIDAS CON ALCOHOL"
         ],
         "xaxis": "x",
         "y": [
          12
         ],
         "yaxis": "y"
        },
        {
         "alignmentgroup": "True",
         "hoverlabel": {
          "namelength": 0
         },
         "hovertemplate": "Clave platillo=BCA1<br>Grupo=%{x}<br>Cantidad=%{y}",
         "legendgroup": "Clave platillo=BCA1",
         "marker": {
          "color": "#19d3f3"
         },
         "name": "Clave platillo=BCA1",
         "offsetgroup": "Clave platillo=BCA1",
         "orientation": "v",
         "showlegend": true,
         "textposition": "auto",
         "type": "bar",
         "x": [
          "BEBIDAS CON ALCOHOL"
         ],
         "xaxis": "x",
         "y": [
          221
         ],
         "yaxis": "y"
        },
        {
         "alignmentgroup": "True",
         "hoverlabel": {
          "namelength": 0
         },
         "hovertemplate": "Clave platillo=BAS9<br>Grupo=%{x}<br>Cantidad=%{y}",
         "legendgroup": "Clave platillo=BAS9",
         "marker": {
          "color": "#FF6692"
         },
         "name": "Clave platillo=BAS9",
         "offsetgroup": "Clave platillo=BAS9",
         "orientation": "v",
         "showlegend": true,
         "textposition": "auto",
         "type": "bar",
         "x": [
          "BÁSICOS"
         ],
         "xaxis": "x",
         "y": [
          14
         ],
         "yaxis": "y"
        },
        {
         "alignmentgroup": "True",
         "hoverlabel": {
          "namelength": 0
         },
         "hovertemplate": "Clave platillo=BAS8<br>Grupo=%{x}<br>Cantidad=%{y}",
         "legendgroup": "Clave platillo=BAS8",
         "marker": {
          "color": "#B6E880"
         },
         "name": "Clave platillo=BAS8",
         "offsetgroup": "Clave platillo=BAS8",
         "orientation": "v",
         "showlegend": true,
         "textposition": "auto",
         "type": "bar",
         "x": [
          "BÁSICOS"
         ],
         "xaxis": "x",
         "y": [
          6
         ],
         "yaxis": "y"
        },
        {
         "alignmentgroup": "True",
         "hoverlabel": {
          "namelength": 0
         },
         "hovertemplate": "Clave platillo=BAS7<br>Grupo=%{x}<br>Cantidad=%{y}",
         "legendgroup": "Clave platillo=BAS7",
         "marker": {
          "color": "#FF97FF"
         },
         "name": "Clave platillo=BAS7",
         "offsetgroup": "Clave platillo=BAS7",
         "orientation": "v",
         "showlegend": true,
         "textposition": "auto",
         "type": "bar",
         "x": [
          "BÁSICOS"
         ],
         "xaxis": "x",
         "y": [
          40
         ],
         "yaxis": "y"
        },
        {
         "alignmentgroup": "True",
         "hoverlabel": {
          "namelength": 0
         },
         "hovertemplate": "Clave platillo=BAS6<br>Grupo=%{x}<br>Cantidad=%{y}",
         "legendgroup": "Clave platillo=BAS6",
         "marker": {
          "color": "#FECB52"
         },
         "name": "Clave platillo=BAS6",
         "offsetgroup": "Clave platillo=BAS6",
         "orientation": "v",
         "showlegend": true,
         "textposition": "auto",
         "type": "bar",
         "x": [
          "BÁSICOS"
         ],
         "xaxis": "x",
         "y": [
          25
         ],
         "yaxis": "y"
        },
        {
         "alignmentgroup": "True",
         "hoverlabel": {
          "namelength": 0
         },
         "hovertemplate": "Clave platillo=BAS53<br>Grupo=%{x}<br>Cantidad=%{y}",
         "legendgroup": "Clave platillo=BAS53",
         "marker": {
          "color": "#636efa"
         },
         "name": "Clave platillo=BAS53",
         "offsetgroup": "Clave platillo=BAS53",
         "orientation": "v",
         "showlegend": true,
         "textposition": "auto",
         "type": "bar",
         "x": [
          "BÁSICOS"
         ],
         "xaxis": "x",
         "y": [
          339
         ],
         "yaxis": "y"
        },
        {
         "alignmentgroup": "True",
         "hoverlabel": {
          "namelength": 0
         },
         "hovertemplate": "Clave platillo=BAS52<br>Grupo=%{x}<br>Cantidad=%{y}",
         "legendgroup": "Clave platillo=BAS52",
         "marker": {
          "color": "#EF553B"
         },
         "name": "Clave platillo=BAS52",
         "offsetgroup": "Clave platillo=BAS52",
         "orientation": "v",
         "showlegend": true,
         "textposition": "auto",
         "type": "bar",
         "x": [
          "BÁSICOS"
         ],
         "xaxis": "x",
         "y": [
          174
         ],
         "yaxis": "y"
        },
        {
         "alignmentgroup": "True",
         "hoverlabel": {
          "namelength": 0
         },
         "hovertemplate": "Clave platillo=BAS51<br>Grupo=%{x}<br>Cantidad=%{y}",
         "legendgroup": "Clave platillo=BAS51",
         "marker": {
          "color": "#00cc96"
         },
         "name": "Clave platillo=BAS51",
         "offsetgroup": "Clave platillo=BAS51",
         "orientation": "v",
         "showlegend": true,
         "textposition": "auto",
         "type": "bar",
         "x": [
          "BÁSICOS"
         ],
         "xaxis": "x",
         "y": [
          470
         ],
         "yaxis": "y"
        },
        {
         "alignmentgroup": "True",
         "hoverlabel": {
          "namelength": 0
         },
         "hovertemplate": "Clave platillo=BAS50<br>Grupo=%{x}<br>Cantidad=%{y}",
         "legendgroup": "Clave platillo=BAS50",
         "marker": {
          "color": "#ab63fa"
         },
         "name": "Clave platillo=BAS50",
         "offsetgroup": "Clave platillo=BAS50",
         "orientation": "v",
         "showlegend": true,
         "textposition": "auto",
         "type": "bar",
         "x": [
          "BÁSICOS"
         ],
         "xaxis": "x",
         "y": [
          1420
         ],
         "yaxis": "y"
        },
        {
         "alignmentgroup": "True",
         "hoverlabel": {
          "namelength": 0
         },
         "hovertemplate": "Clave platillo=BAS5<br>Grupo=%{x}<br>Cantidad=%{y}",
         "legendgroup": "Clave platillo=BAS5",
         "marker": {
          "color": "#FFA15A"
         },
         "name": "Clave platillo=BAS5",
         "offsetgroup": "Clave platillo=BAS5",
         "orientation": "v",
         "showlegend": true,
         "textposition": "auto",
         "type": "bar",
         "x": [
          "BÁSICOS"
         ],
         "xaxis": "x",
         "y": [
          77
         ],
         "yaxis": "y"
        },
        {
         "alignmentgroup": "True",
         "hoverlabel": {
          "namelength": 0
         },
         "hovertemplate": "Clave platillo=BAS4<br>Grupo=%{x}<br>Cantidad=%{y}",
         "legendgroup": "Clave platillo=BAS4",
         "marker": {
          "color": "#19d3f3"
         },
         "name": "Clave platillo=BAS4",
         "offsetgroup": "Clave platillo=BAS4",
         "orientation": "v",
         "showlegend": true,
         "textposition": "auto",
         "type": "bar",
         "x": [
          "BÁSICOS"
         ],
         "xaxis": "x",
         "y": [
          49
         ],
         "yaxis": "y"
        },
        {
         "alignmentgroup": "True",
         "hoverlabel": {
          "namelength": 0
         },
         "hovertemplate": "Clave platillo=BAS3<br>Grupo=%{x}<br>Cantidad=%{y}",
         "legendgroup": "Clave platillo=BAS3",
         "marker": {
          "color": "#FF6692"
         },
         "name": "Clave platillo=BAS3",
         "offsetgroup": "Clave platillo=BAS3",
         "orientation": "v",
         "showlegend": true,
         "textposition": "auto",
         "type": "bar",
         "x": [
          "BÁSICOS"
         ],
         "xaxis": "x",
         "y": [
          170
         ],
         "yaxis": "y"
        },
        {
         "alignmentgroup": "True",
         "hoverlabel": {
          "namelength": 0
         },
         "hovertemplate": "Clave platillo=BAS2<br>Grupo=%{x}<br>Cantidad=%{y}",
         "legendgroup": "Clave platillo=BAS2",
         "marker": {
          "color": "#B6E880"
         },
         "name": "Clave platillo=BAS2",
         "offsetgroup": "Clave platillo=BAS2",
         "orientation": "v",
         "showlegend": true,
         "textposition": "auto",
         "type": "bar",
         "x": [
          "BÁSICOS"
         ],
         "xaxis": "x",
         "y": [
          713
         ],
         "yaxis": "y"
        },
        {
         "alignmentgroup": "True",
         "hoverlabel": {
          "namelength": 0
         },
         "hovertemplate": "Clave platillo=BAS14<br>Grupo=%{x}<br>Cantidad=%{y}",
         "legendgroup": "Clave platillo=BAS14",
         "marker": {
          "color": "#FF97FF"
         },
         "name": "Clave platillo=BAS14",
         "offsetgroup": "Clave platillo=BAS14",
         "orientation": "v",
         "showlegend": true,
         "textposition": "auto",
         "type": "bar",
         "x": [
          "BÁSICOS"
         ],
         "xaxis": "x",
         "y": [
          8
         ],
         "yaxis": "y"
        },
        {
         "alignmentgroup": "True",
         "hoverlabel": {
          "namelength": 0
         },
         "hovertemplate": "Clave platillo=BAS13<br>Grupo=%{x}<br>Cantidad=%{y}",
         "legendgroup": "Clave platillo=BAS13",
         "marker": {
          "color": "#FECB52"
         },
         "name": "Clave platillo=BAS13",
         "offsetgroup": "Clave platillo=BAS13",
         "orientation": "v",
         "showlegend": true,
         "textposition": "auto",
         "type": "bar",
         "x": [
          "BÁSICOS"
         ],
         "xaxis": "x",
         "y": [
          25
         ],
         "yaxis": "y"
        },
        {
         "alignmentgroup": "True",
         "hoverlabel": {
          "namelength": 0
         },
         "hovertemplate": "Clave platillo=BAS12<br>Grupo=%{x}<br>Cantidad=%{y}",
         "legendgroup": "Clave platillo=BAS12",
         "marker": {
          "color": "#636efa"
         },
         "name": "Clave platillo=BAS12",
         "offsetgroup": "Clave platillo=BAS12",
         "orientation": "v",
         "showlegend": true,
         "textposition": "auto",
         "type": "bar",
         "x": [
          "BÁSICOS"
         ],
         "xaxis": "x",
         "y": [
          11
         ],
         "yaxis": "y"
        },
        {
         "alignmentgroup": "True",
         "hoverlabel": {
          "namelength": 0
         },
         "hovertemplate": "Clave platillo=BAS11<br>Grupo=%{x}<br>Cantidad=%{y}",
         "legendgroup": "Clave platillo=BAS11",
         "marker": {
          "color": "#EF553B"
         },
         "name": "Clave platillo=BAS11",
         "offsetgroup": "Clave platillo=BAS11",
         "orientation": "v",
         "showlegend": true,
         "textposition": "auto",
         "type": "bar",
         "x": [
          "BÁSICOS"
         ],
         "xaxis": "x",
         "y": [
          1
         ],
         "yaxis": "y"
        },
        {
         "alignmentgroup": "True",
         "hoverlabel": {
          "namelength": 0
         },
         "hovertemplate": "Clave platillo=BAS10<br>Grupo=%{x}<br>Cantidad=%{y}",
         "legendgroup": "Clave platillo=BAS10",
         "marker": {
          "color": "#00cc96"
         },
         "name": "Clave platillo=BAS10",
         "offsetgroup": "Clave platillo=BAS10",
         "orientation": "v",
         "showlegend": true,
         "textposition": "auto",
         "type": "bar",
         "x": [
          "BÁSICOS"
         ],
         "xaxis": "x",
         "y": [
          4
         ],
         "yaxis": "y"
        },
        {
         "alignmentgroup": "True",
         "hoverlabel": {
          "namelength": 0
         },
         "hovertemplate": "Clave platillo=BAS1<br>Grupo=%{x}<br>Cantidad=%{y}",
         "legendgroup": "Clave platillo=BAS1",
         "marker": {
          "color": "#ab63fa"
         },
         "name": "Clave platillo=BAS1",
         "offsetgroup": "Clave platillo=BAS1",
         "orientation": "v",
         "showlegend": true,
         "textposition": "auto",
         "type": "bar",
         "x": [
          "BÁSICOS"
         ],
         "xaxis": "x",
         "y": [
          2712
         ],
         "yaxis": "y"
        }
       ],
       "layout": {
        "barmode": "relative",
        "height": 600,
        "legend": {
         "tracegroupgap": 0
        },
        "margin": {
         "t": 60
        },
        "template": {
         "data": {
          "bar": [
           {
            "error_x": {
             "color": "#2a3f5f"
            },
            "error_y": {
             "color": "#2a3f5f"
            },
            "marker": {
             "line": {
              "color": "#E5ECF6",
              "width": 0.5
             }
            },
            "type": "bar"
           }
          ],
          "barpolar": [
           {
            "marker": {
             "line": {
              "color": "#E5ECF6",
              "width": 0.5
             }
            },
            "type": "barpolar"
           }
          ],
          "carpet": [
           {
            "aaxis": {
             "endlinecolor": "#2a3f5f",
             "gridcolor": "white",
             "linecolor": "white",
             "minorgridcolor": "white",
             "startlinecolor": "#2a3f5f"
            },
            "baxis": {
             "endlinecolor": "#2a3f5f",
             "gridcolor": "white",
             "linecolor": "white",
             "minorgridcolor": "white",
             "startlinecolor": "#2a3f5f"
            },
            "type": "carpet"
           }
          ],
          "choropleth": [
           {
            "colorbar": {
             "outlinewidth": 0,
             "ticks": ""
            },
            "type": "choropleth"
           }
          ],
          "contour": [
           {
            "colorbar": {
             "outlinewidth": 0,
             "ticks": ""
            },
            "colorscale": [
             [
              0,
              "#0d0887"
             ],
             [
              0.1111111111111111,
              "#46039f"
             ],
             [
              0.2222222222222222,
              "#7201a8"
             ],
             [
              0.3333333333333333,
              "#9c179e"
             ],
             [
              0.4444444444444444,
              "#bd3786"
             ],
             [
              0.5555555555555556,
              "#d8576b"
             ],
             [
              0.6666666666666666,
              "#ed7953"
             ],
             [
              0.7777777777777778,
              "#fb9f3a"
             ],
             [
              0.8888888888888888,
              "#fdca26"
             ],
             [
              1,
              "#f0f921"
             ]
            ],
            "type": "contour"
           }
          ],
          "contourcarpet": [
           {
            "colorbar": {
             "outlinewidth": 0,
             "ticks": ""
            },
            "type": "contourcarpet"
           }
          ],
          "heatmap": [
           {
            "colorbar": {
             "outlinewidth": 0,
             "ticks": ""
            },
            "colorscale": [
             [
              0,
              "#0d0887"
             ],
             [
              0.1111111111111111,
              "#46039f"
             ],
             [
              0.2222222222222222,
              "#7201a8"
             ],
             [
              0.3333333333333333,
              "#9c179e"
             ],
             [
              0.4444444444444444,
              "#bd3786"
             ],
             [
              0.5555555555555556,
              "#d8576b"
             ],
             [
              0.6666666666666666,
              "#ed7953"
             ],
             [
              0.7777777777777778,
              "#fb9f3a"
             ],
             [
              0.8888888888888888,
              "#fdca26"
             ],
             [
              1,
              "#f0f921"
             ]
            ],
            "type": "heatmap"
           }
          ],
          "heatmapgl": [
           {
            "colorbar": {
             "outlinewidth": 0,
             "ticks": ""
            },
            "colorscale": [
             [
              0,
              "#0d0887"
             ],
             [
              0.1111111111111111,
              "#46039f"
             ],
             [
              0.2222222222222222,
              "#7201a8"
             ],
             [
              0.3333333333333333,
              "#9c179e"
             ],
             [
              0.4444444444444444,
              "#bd3786"
             ],
             [
              0.5555555555555556,
              "#d8576b"
             ],
             [
              0.6666666666666666,
              "#ed7953"
             ],
             [
              0.7777777777777778,
              "#fb9f3a"
             ],
             [
              0.8888888888888888,
              "#fdca26"
             ],
             [
              1,
              "#f0f921"
             ]
            ],
            "type": "heatmapgl"
           }
          ],
          "histogram": [
           {
            "marker": {
             "colorbar": {
              "outlinewidth": 0,
              "ticks": ""
             }
            },
            "type": "histogram"
           }
          ],
          "histogram2d": [
           {
            "colorbar": {
             "outlinewidth": 0,
             "ticks": ""
            },
            "colorscale": [
             [
              0,
              "#0d0887"
             ],
             [
              0.1111111111111111,
              "#46039f"
             ],
             [
              0.2222222222222222,
              "#7201a8"
             ],
             [
              0.3333333333333333,
              "#9c179e"
             ],
             [
              0.4444444444444444,
              "#bd3786"
             ],
             [
              0.5555555555555556,
              "#d8576b"
             ],
             [
              0.6666666666666666,
              "#ed7953"
             ],
             [
              0.7777777777777778,
              "#fb9f3a"
             ],
             [
              0.8888888888888888,
              "#fdca26"
             ],
             [
              1,
              "#f0f921"
             ]
            ],
            "type": "histogram2d"
           }
          ],
          "histogram2dcontour": [
           {
            "colorbar": {
             "outlinewidth": 0,
             "ticks": ""
            },
            "colorscale": [
             [
              0,
              "#0d0887"
             ],
             [
              0.1111111111111111,
              "#46039f"
             ],
             [
              0.2222222222222222,
              "#7201a8"
             ],
             [
              0.3333333333333333,
              "#9c179e"
             ],
             [
              0.4444444444444444,
              "#bd3786"
             ],
             [
              0.5555555555555556,
              "#d8576b"
             ],
             [
              0.6666666666666666,
              "#ed7953"
             ],
             [
              0.7777777777777778,
              "#fb9f3a"
             ],
             [
              0.8888888888888888,
              "#fdca26"
             ],
             [
              1,
              "#f0f921"
             ]
            ],
            "type": "histogram2dcontour"
           }
          ],
          "mesh3d": [
           {
            "colorbar": {
             "outlinewidth": 0,
             "ticks": ""
            },
            "type": "mesh3d"
           }
          ],
          "parcoords": [
           {
            "line": {
             "colorbar": {
              "outlinewidth": 0,
              "ticks": ""
             }
            },
            "type": "parcoords"
           }
          ],
          "scatter": [
           {
            "marker": {
             "colorbar": {
              "outlinewidth": 0,
              "ticks": ""
             }
            },
            "type": "scatter"
           }
          ],
          "scatter3d": [
           {
            "line": {
             "colorbar": {
              "outlinewidth": 0,
              "ticks": ""
             }
            },
            "marker": {
             "colorbar": {
              "outlinewidth": 0,
              "ticks": ""
             }
            },
            "type": "scatter3d"
           }
          ],
          "scattercarpet": [
           {
            "marker": {
             "colorbar": {
              "outlinewidth": 0,
              "ticks": ""
             }
            },
            "type": "scattercarpet"
           }
          ],
          "scattergeo": [
           {
            "marker": {
             "colorbar": {
              "outlinewidth": 0,
              "ticks": ""
             }
            },
            "type": "scattergeo"
           }
          ],
          "scattergl": [
           {
            "marker": {
             "colorbar": {
              "outlinewidth": 0,
              "ticks": ""
             }
            },
            "type": "scattergl"
           }
          ],
          "scattermapbox": [
           {
            "marker": {
             "colorbar": {
              "outlinewidth": 0,
              "ticks": ""
             }
            },
            "type": "scattermapbox"
           }
          ],
          "scatterpolar": [
           {
            "marker": {
             "colorbar": {
              "outlinewidth": 0,
              "ticks": ""
             }
            },
            "type": "scatterpolar"
           }
          ],
          "scatterpolargl": [
           {
            "marker": {
             "colorbar": {
              "outlinewidth": 0,
              "ticks": ""
             }
            },
            "type": "scatterpolargl"
           }
          ],
          "scatterternary": [
           {
            "marker": {
             "colorbar": {
              "outlinewidth": 0,
              "ticks": ""
             }
            },
            "type": "scatterternary"
           }
          ],
          "surface": [
           {
            "colorbar": {
             "outlinewidth": 0,
             "ticks": ""
            },
            "colorscale": [
             [
              0,
              "#0d0887"
             ],
             [
              0.1111111111111111,
              "#46039f"
             ],
             [
              0.2222222222222222,
              "#7201a8"
             ],
             [
              0.3333333333333333,
              "#9c179e"
             ],
             [
              0.4444444444444444,
              "#bd3786"
             ],
             [
              0.5555555555555556,
              "#d8576b"
             ],
             [
              0.6666666666666666,
              "#ed7953"
             ],
             [
              0.7777777777777778,
              "#fb9f3a"
             ],
             [
              0.8888888888888888,
              "#fdca26"
             ],
             [
              1,
              "#f0f921"
             ]
            ],
            "type": "surface"
           }
          ],
          "table": [
           {
            "cells": {
             "fill": {
              "color": "#EBF0F8"
             },
             "line": {
              "color": "white"
             }
            },
            "header": {
             "fill": {
              "color": "#C8D4E3"
             },
             "line": {
              "color": "white"
             }
            },
            "type": "table"
           }
          ]
         },
         "layout": {
          "annotationdefaults": {
           "arrowcolor": "#2a3f5f",
           "arrowhead": 0,
           "arrowwidth": 1
          },
          "colorscale": {
           "diverging": [
            [
             0,
             "#8e0152"
            ],
            [
             0.1,
             "#c51b7d"
            ],
            [
             0.2,
             "#de77ae"
            ],
            [
             0.3,
             "#f1b6da"
            ],
            [
             0.4,
             "#fde0ef"
            ],
            [
             0.5,
             "#f7f7f7"
            ],
            [
             0.6,
             "#e6f5d0"
            ],
            [
             0.7,
             "#b8e186"
            ],
            [
             0.8,
             "#7fbc41"
            ],
            [
             0.9,
             "#4d9221"
            ],
            [
             1,
             "#276419"
            ]
           ],
           "sequential": [
            [
             0,
             "#0d0887"
            ],
            [
             0.1111111111111111,
             "#46039f"
            ],
            [
             0.2222222222222222,
             "#7201a8"
            ],
            [
             0.3333333333333333,
             "#9c179e"
            ],
            [
             0.4444444444444444,
             "#bd3786"
            ],
            [
             0.5555555555555556,
             "#d8576b"
            ],
            [
             0.6666666666666666,
             "#ed7953"
            ],
            [
             0.7777777777777778,
             "#fb9f3a"
            ],
            [
             0.8888888888888888,
             "#fdca26"
            ],
            [
             1,
             "#f0f921"
            ]
           ],
           "sequentialminus": [
            [
             0,
             "#0d0887"
            ],
            [
             0.1111111111111111,
             "#46039f"
            ],
            [
             0.2222222222222222,
             "#7201a8"
            ],
            [
             0.3333333333333333,
             "#9c179e"
            ],
            [
             0.4444444444444444,
             "#bd3786"
            ],
            [
             0.5555555555555556,
             "#d8576b"
            ],
            [
             0.6666666666666666,
             "#ed7953"
            ],
            [
             0.7777777777777778,
             "#fb9f3a"
            ],
            [
             0.8888888888888888,
             "#fdca26"
            ],
            [
             1,
             "#f0f921"
            ]
           ]
          },
          "colorway": [
           "#636efa",
           "#EF553B",
           "#00cc96",
           "#ab63fa",
           "#FFA15A",
           "#19d3f3",
           "#FF6692",
           "#B6E880",
           "#FF97FF",
           "#FECB52"
          ],
          "font": {
           "color": "#2a3f5f"
          },
          "geo": {
           "bgcolor": "white",
           "lakecolor": "white",
           "landcolor": "#E5ECF6",
           "showlakes": true,
           "showland": true,
           "subunitcolor": "white"
          },
          "hoverlabel": {
           "align": "left"
          },
          "hovermode": "closest",
          "mapbox": {
           "style": "light"
          },
          "paper_bgcolor": "white",
          "plot_bgcolor": "#E5ECF6",
          "polar": {
           "angularaxis": {
            "gridcolor": "white",
            "linecolor": "white",
            "ticks": ""
           },
           "bgcolor": "#E5ECF6",
           "radialaxis": {
            "gridcolor": "white",
            "linecolor": "white",
            "ticks": ""
           }
          },
          "scene": {
           "xaxis": {
            "backgroundcolor": "#E5ECF6",
            "gridcolor": "white",
            "gridwidth": 2,
            "linecolor": "white",
            "showbackground": true,
            "ticks": "",
            "zerolinecolor": "white"
           },
           "yaxis": {
            "backgroundcolor": "#E5ECF6",
            "gridcolor": "white",
            "gridwidth": 2,
            "linecolor": "white",
            "showbackground": true,
            "ticks": "",
            "zerolinecolor": "white"
           },
           "zaxis": {
            "backgroundcolor": "#E5ECF6",
            "gridcolor": "white",
            "gridwidth": 2,
            "linecolor": "white",
            "showbackground": true,
            "ticks": "",
            "zerolinecolor": "white"
           }
          },
          "shapedefaults": {
           "line": {
            "color": "#2a3f5f"
           }
          },
          "ternary": {
           "aaxis": {
            "gridcolor": "white",
            "linecolor": "white",
            "ticks": ""
           },
           "baxis": {
            "gridcolor": "white",
            "linecolor": "white",
            "ticks": ""
           },
           "bgcolor": "#E5ECF6",
           "caxis": {
            "gridcolor": "white",
            "linecolor": "white",
            "ticks": ""
           }
          },
          "title": {
           "x": 0.05
          },
          "xaxis": {
           "automargin": true,
           "gridcolor": "white",
           "linecolor": "white",
           "ticks": "",
           "zerolinecolor": "white",
           "zerolinewidth": 2
          },
          "yaxis": {
           "automargin": true,
           "gridcolor": "white",
           "linecolor": "white",
           "ticks": "",
           "zerolinecolor": "white",
           "zerolinewidth": 2
          }
         }
        },
        "xaxis": {
         "anchor": "y",
         "domain": [
          0,
          0.98
         ],
         "title": {
          "text": "Grupo"
         }
        },
        "yaxis": {
         "anchor": "x",
         "domain": [
          0,
          1
         ],
         "title": {
          "text": "Cantidad"
         }
        }
       }
      },
      "text/html": [
       "<div>\n",
       "        \n",
       "        \n",
       "            <div id=\"417b9ce8-45e2-47a8-8103-3ff1e8be0cf1\" class=\"plotly-graph-div\" style=\"height:600px; width:100%;\"></div>\n",
       "            <script type=\"text/javascript\">\n",
       "                require([\"plotly\"], function(Plotly) {\n",
       "                    window.PLOTLYENV=window.PLOTLYENV || {};\n",
       "                    \n",
       "                if (document.getElementById(\"417b9ce8-45e2-47a8-8103-3ff1e8be0cf1\")) {\n",
       "                    Plotly.newPlot(\n",
       "                        '417b9ce8-45e2-47a8-8103-3ff1e8be0cf1',\n",
       "                        [{\"alignmentgroup\": \"True\", \"hoverlabel\": {\"namelength\": 0}, \"hovertemplate\": \"Clave platillo=mcla9006<br>Grupo=%{x}<br>Cantidad=%{y}\", \"legendgroup\": \"Clave platillo=mcla9006\", \"marker\": {\"color\": \"#636efa\"}, \"name\": \"Clave platillo=mcla9006\", \"offsetgroup\": \"Clave platillo=mcla9006\", \"orientation\": \"v\", \"showlegend\": true, \"textposition\": \"auto\", \"type\": \"bar\", \"x\": [\"CL\\u00c1SICOS\"], \"xaxis\": \"x\", \"y\": [8.0], \"yaxis\": \"y\"}, {\"alignmentgroup\": \"True\", \"hoverlabel\": {\"namelength\": 0}, \"hovertemplate\": \"Clave platillo=mcl90009<br>Grupo=%{x}<br>Cantidad=%{y}\", \"legendgroup\": \"Clave platillo=mcl90009\", \"marker\": {\"color\": \"#EF553B\"}, \"name\": \"Clave platillo=mcl90009\", \"offsetgroup\": \"Clave platillo=mcl90009\", \"orientation\": \"v\", \"showlegend\": true, \"textposition\": \"auto\", \"type\": \"bar\", \"x\": [\"CL\\u00c1SICOS\"], \"xaxis\": \"x\", \"y\": [1.0], \"yaxis\": \"y\"}, {\"alignmentgroup\": \"True\", \"hoverlabel\": {\"namelength\": 0}, \"hovertemplate\": \"Clave platillo=mcl90005<br>Grupo=%{x}<br>Cantidad=%{y}\", \"legendgroup\": \"Clave platillo=mcl90005\", \"marker\": {\"color\": \"#00cc96\"}, \"name\": \"Clave platillo=mcl90005\", \"offsetgroup\": \"Clave platillo=mcl90005\", \"orientation\": \"v\", \"showlegend\": true, \"textposition\": \"auto\", \"type\": \"bar\", \"x\": [\"CL\\u00c1SICOS\"], \"xaxis\": \"x\", \"y\": [1.0], \"yaxis\": \"y\"}, {\"alignmentgroup\": \"True\", \"hoverlabel\": {\"namelength\": 0}, \"hovertemplate\": \"Clave platillo=mcl90004<br>Grupo=%{x}<br>Cantidad=%{y}\", \"legendgroup\": \"Clave platillo=mcl90004\", \"marker\": {\"color\": \"#ab63fa\"}, \"name\": \"Clave platillo=mcl90004\", \"offsetgroup\": \"Clave platillo=mcl90004\", \"orientation\": \"v\", \"showlegend\": true, \"textposition\": \"auto\", \"type\": \"bar\", \"x\": [\"CL\\u00c1SICOS\"], \"xaxis\": \"x\", \"y\": [6.0], \"yaxis\": \"y\"}, {\"alignmentgroup\": \"True\", \"hoverlabel\": {\"namelength\": 0}, \"hovertemplate\": \"Clave platillo=bebi03<br>Grupo=%{x}<br>Cantidad=%{y}\", \"legendgroup\": \"Clave platillo=bebi03\", \"marker\": {\"color\": \"#FFA15A\"}, \"name\": \"Clave platillo=bebi03\", \"offsetgroup\": \"Clave platillo=bebi03\", \"orientation\": \"v\", \"showlegend\": true, \"textposition\": \"auto\", \"type\": \"bar\", \"x\": [\"BEBIDAS CON ALCOHOL\"], \"xaxis\": \"x\", \"y\": [75.0], \"yaxis\": \"y\"}, {\"alignmentgroup\": \"True\", \"hoverlabel\": {\"namelength\": 0}, \"hovertemplate\": \"Clave platillo=bebi02<br>Grupo=%{x}<br>Cantidad=%{y}\", \"legendgroup\": \"Clave platillo=bebi02\", \"marker\": {\"color\": \"#19d3f3\"}, \"name\": \"Clave platillo=bebi02\", \"offsetgroup\": \"Clave platillo=bebi02\", \"orientation\": \"v\", \"showlegend\": true, \"textposition\": \"auto\", \"type\": \"bar\", \"x\": [\"BEBIDAS CON ALCOHOL\"], \"xaxis\": \"x\", \"y\": [35.0], \"yaxis\": \"y\"}, {\"alignmentgroup\": \"True\", \"hoverlabel\": {\"namelength\": 0}, \"hovertemplate\": \"Clave platillo=bebi01<br>Grupo=%{x}<br>Cantidad=%{y}\", \"legendgroup\": \"Clave platillo=bebi01\", \"marker\": {\"color\": \"#FF6692\"}, \"name\": \"Clave platillo=bebi01\", \"offsetgroup\": \"Clave platillo=bebi01\", \"orientation\": \"v\", \"showlegend\": true, \"textposition\": \"auto\", \"type\": \"bar\", \"x\": [\"BEBIDAS CON ALCOHOL\"], \"xaxis\": \"x\", \"y\": [26.0], \"yaxis\": \"y\"}, {\"alignmentgroup\": \"True\", \"hoverlabel\": {\"namelength\": 0}, \"hovertemplate\": \"Clave platillo=bebi006<br>Grupo=%{x}<br>Cantidad=%{y}\", \"legendgroup\": \"Clave platillo=bebi006\", \"marker\": {\"color\": \"#B6E880\"}, \"name\": \"Clave platillo=bebi006\", \"offsetgroup\": \"Clave platillo=bebi006\", \"orientation\": \"v\", \"showlegend\": true, \"textposition\": \"auto\", \"type\": \"bar\", \"x\": [\"BEBIDAS CON ALCOHOL\"], \"xaxis\": \"x\", \"y\": [55.0], \"yaxis\": \"y\"}, {\"alignmentgroup\": \"True\", \"hoverlabel\": {\"namelength\": 0}, \"hovertemplate\": \"Clave platillo=bebi005<br>Grupo=%{x}<br>Cantidad=%{y}\", \"legendgroup\": \"Clave platillo=bebi005\", \"marker\": {\"color\": \"#FF97FF\"}, \"name\": \"Clave platillo=bebi005\", \"offsetgroup\": \"Clave platillo=bebi005\", \"orientation\": \"v\", \"showlegend\": true, \"textposition\": \"auto\", \"type\": \"bar\", \"x\": [\"BEBIDAS CON ALCOHOL\"], \"xaxis\": \"x\", \"y\": [11.0], \"yaxis\": \"y\"}, {\"alignmentgroup\": \"True\", \"hoverlabel\": {\"namelength\": 0}, \"hovertemplate\": \"Clave platillo=bebi004<br>Grupo=%{x}<br>Cantidad=%{y}\", \"legendgroup\": \"Clave platillo=bebi004\", \"marker\": {\"color\": \"#FECB52\"}, \"name\": \"Clave platillo=bebi004\", \"offsetgroup\": \"Clave platillo=bebi004\", \"orientation\": \"v\", \"showlegend\": true, \"textposition\": \"auto\", \"type\": \"bar\", \"x\": [\"BEBIDAS CON ALCOHOL\"], \"xaxis\": \"x\", \"y\": [55.0], \"yaxis\": \"y\"}, {\"alignmentgroup\": \"True\", \"hoverlabel\": {\"namelength\": 0}, \"hovertemplate\": \"Clave platillo=bas15<br>Grupo=%{x}<br>Cantidad=%{y}\", \"legendgroup\": \"Clave platillo=bas15\", \"marker\": {\"color\": \"#636efa\"}, \"name\": \"Clave platillo=bas15\", \"offsetgroup\": \"Clave platillo=bas15\", \"orientation\": \"v\", \"showlegend\": true, \"textposition\": \"auto\", \"type\": \"bar\", \"x\": [\"B\\u00c1SICOS\"], \"xaxis\": \"x\", \"y\": [96.0], \"yaxis\": \"y\"}, {\"alignmentgroup\": \"True\", \"hoverlabel\": {\"namelength\": 0}, \"hovertemplate\": \"Clave platillo=SAN4<br>Grupo=%{x}<br>Cantidad=%{y}\", \"legendgroup\": \"Clave platillo=SAN4\", \"marker\": {\"color\": \"#EF553B\"}, \"name\": \"Clave platillo=SAN4\", \"offsetgroup\": \"Clave platillo=SAN4\", \"orientation\": \"v\", \"showlegend\": true, \"textposition\": \"auto\", \"type\": \"bar\", \"x\": [\"SANDWICHES\"], \"xaxis\": \"x\", \"y\": [107.0], \"yaxis\": \"y\"}, {\"alignmentgroup\": \"True\", \"hoverlabel\": {\"namelength\": 0}, \"hovertemplate\": \"Clave platillo=SAN3<br>Grupo=%{x}<br>Cantidad=%{y}\", \"legendgroup\": \"Clave platillo=SAN3\", \"marker\": {\"color\": \"#00cc96\"}, \"name\": \"Clave platillo=SAN3\", \"offsetgroup\": \"Clave platillo=SAN3\", \"orientation\": \"v\", \"showlegend\": true, \"textposition\": \"auto\", \"type\": \"bar\", \"x\": [\"SANDWICHES\"], \"xaxis\": \"x\", \"y\": [179.0], \"yaxis\": \"y\"}, {\"alignmentgroup\": \"True\", \"hoverlabel\": {\"namelength\": 0}, \"hovertemplate\": \"Clave platillo=SAN2<br>Grupo=%{x}<br>Cantidad=%{y}\", \"legendgroup\": \"Clave platillo=SAN2\", \"marker\": {\"color\": \"#ab63fa\"}, \"name\": \"Clave platillo=SAN2\", \"offsetgroup\": \"Clave platillo=SAN2\", \"orientation\": \"v\", \"showlegend\": true, \"textposition\": \"auto\", \"type\": \"bar\", \"x\": [\"SANDWICHES\"], \"xaxis\": \"x\", \"y\": [154.0], \"yaxis\": \"y\"}, {\"alignmentgroup\": \"True\", \"hoverlabel\": {\"namelength\": 0}, \"hovertemplate\": \"Clave platillo=SAN1<br>Grupo=%{x}<br>Cantidad=%{y}\", \"legendgroup\": \"Clave platillo=SAN1\", \"marker\": {\"color\": \"#FFA15A\"}, \"name\": \"Clave platillo=SAN1\", \"offsetgroup\": \"Clave platillo=SAN1\", \"orientation\": \"v\", \"showlegend\": true, \"textposition\": \"auto\", \"type\": \"bar\", \"x\": [\"SANDWICHES\"], \"xaxis\": \"x\", \"y\": [209.0], \"yaxis\": \"y\"}, {\"alignmentgroup\": \"True\", \"hoverlabel\": {\"namelength\": 0}, \"hovertemplate\": \"Clave platillo=PPP4<br>Grupo=%{x}<br>Cantidad=%{y}\", \"legendgroup\": \"Clave platillo=PPP4\", \"marker\": {\"color\": \"#19d3f3\"}, \"name\": \"Clave platillo=PPP4\", \"offsetgroup\": \"Clave platillo=PPP4\", \"orientation\": \"v\", \"showlegend\": true, \"textposition\": \"auto\", \"type\": \"bar\", \"x\": [\"PAPAS, PAPAS Y M\\u00c1S PAPAS\"], \"xaxis\": \"x\", \"y\": [86.0], \"yaxis\": \"y\"}, {\"alignmentgroup\": \"True\", \"hoverlabel\": {\"namelength\": 0}, \"hovertemplate\": \"Clave platillo=PPP3<br>Grupo=%{x}<br>Cantidad=%{y}\", \"legendgroup\": \"Clave platillo=PPP3\", \"marker\": {\"color\": \"#FF6692\"}, \"name\": \"Clave platillo=PPP3\", \"offsetgroup\": \"Clave platillo=PPP3\", \"orientation\": \"v\", \"showlegend\": true, \"textposition\": \"auto\", \"type\": \"bar\", \"x\": [\"PAPAS, PAPAS Y M\\u00c1S PAPAS\"], \"xaxis\": \"x\", \"y\": [24.0], \"yaxis\": \"y\"}, {\"alignmentgroup\": \"True\", \"hoverlabel\": {\"namelength\": 0}, \"hovertemplate\": \"Clave platillo=PPP2<br>Grupo=%{x}<br>Cantidad=%{y}\", \"legendgroup\": \"Clave platillo=PPP2\", \"marker\": {\"color\": \"#B6E880\"}, \"name\": \"Clave platillo=PPP2\", \"offsetgroup\": \"Clave platillo=PPP2\", \"orientation\": \"v\", \"showlegend\": true, \"textposition\": \"auto\", \"type\": \"bar\", \"x\": [\"PAPAS, PAPAS Y M\\u00c1S PAPAS\"], \"xaxis\": \"x\", \"y\": [207.0], \"yaxis\": \"y\"}, {\"alignmentgroup\": \"True\", \"hoverlabel\": {\"namelength\": 0}, \"hovertemplate\": \"Clave platillo=PPP1<br>Grupo=%{x}<br>Cantidad=%{y}\", \"legendgroup\": \"Clave platillo=PPP1\", \"marker\": {\"color\": \"#FF97FF\"}, \"name\": \"Clave platillo=PPP1\", \"offsetgroup\": \"Clave platillo=PPP1\", \"orientation\": \"v\", \"showlegend\": true, \"textposition\": \"auto\", \"type\": \"bar\", \"x\": [\"PAPAS, PAPAS Y M\\u00c1S PAPAS\"], \"xaxis\": \"x\", \"y\": [193.0], \"yaxis\": \"y\"}, {\"alignmentgroup\": \"True\", \"hoverlabel\": {\"namelength\": 0}, \"hovertemplate\": \"Clave platillo=POS5<br>Grupo=%{x}<br>Cantidad=%{y}\", \"legendgroup\": \"Clave platillo=POS5\", \"marker\": {\"color\": \"#FECB52\"}, \"name\": \"Clave platillo=POS5\", \"offsetgroup\": \"Clave platillo=POS5\", \"orientation\": \"v\", \"showlegend\": true, \"textposition\": \"auto\", \"type\": \"bar\", \"x\": [\"POSTRES\"], \"xaxis\": \"x\", \"y\": [19.0], \"yaxis\": \"y\"}, {\"alignmentgroup\": \"True\", \"hoverlabel\": {\"namelength\": 0}, \"hovertemplate\": \"Clave platillo=POS4<br>Grupo=%{x}<br>Cantidad=%{y}\", \"legendgroup\": \"Clave platillo=POS4\", \"marker\": {\"color\": \"#636efa\"}, \"name\": \"Clave platillo=POS4\", \"offsetgroup\": \"Clave platillo=POS4\", \"orientation\": \"v\", \"showlegend\": true, \"textposition\": \"auto\", \"type\": \"bar\", \"x\": [\"POSTRES\"], \"xaxis\": \"x\", \"y\": [10.0], \"yaxis\": \"y\"}, {\"alignmentgroup\": \"True\", \"hoverlabel\": {\"namelength\": 0}, \"hovertemplate\": \"Clave platillo=POS3<br>Grupo=%{x}<br>Cantidad=%{y}\", \"legendgroup\": \"Clave platillo=POS3\", \"marker\": {\"color\": \"#EF553B\"}, \"name\": \"Clave platillo=POS3\", \"offsetgroup\": \"Clave platillo=POS3\", \"orientation\": \"v\", \"showlegend\": true, \"textposition\": \"auto\", \"type\": \"bar\", \"x\": [\"POSTRES\"], \"xaxis\": \"x\", \"y\": [30.0], \"yaxis\": \"y\"}, {\"alignmentgroup\": \"True\", \"hoverlabel\": {\"namelength\": 0}, \"hovertemplate\": \"Clave platillo=POS2<br>Grupo=%{x}<br>Cantidad=%{y}\", \"legendgroup\": \"Clave platillo=POS2\", \"marker\": {\"color\": \"#00cc96\"}, \"name\": \"Clave platillo=POS2\", \"offsetgroup\": \"Clave platillo=POS2\", \"orientation\": \"v\", \"showlegend\": true, \"textposition\": \"auto\", \"type\": \"bar\", \"x\": [\"POSTRES\"], \"xaxis\": \"x\", \"y\": [53.0], \"yaxis\": \"y\"}, {\"alignmentgroup\": \"True\", \"hoverlabel\": {\"namelength\": 0}, \"hovertemplate\": \"Clave platillo=POS1<br>Grupo=%{x}<br>Cantidad=%{y}\", \"legendgroup\": \"Clave platillo=POS1\", \"marker\": {\"color\": \"#ab63fa\"}, \"name\": \"Clave platillo=POS1\", \"offsetgroup\": \"Clave platillo=POS1\", \"orientation\": \"v\", \"showlegend\": true, \"textposition\": \"auto\", \"type\": \"bar\", \"x\": [\"POSTRES\"], \"xaxis\": \"x\", \"y\": [212.0], \"yaxis\": \"y\"}, {\"alignmentgroup\": \"True\", \"hoverlabel\": {\"namelength\": 0}, \"hovertemplate\": \"Clave platillo=PAS478602<br>Grupo=%{x}<br>Cantidad=%{y}\", \"legendgroup\": \"Clave platillo=PAS478602\", \"marker\": {\"color\": \"#FFA15A\"}, \"name\": \"Clave platillo=PAS478602\", \"offsetgroup\": \"Clave platillo=PAS478602\", \"orientation\": \"v\", \"showlegend\": true, \"textposition\": \"auto\", \"type\": \"bar\", \"x\": [\"PASTAS\"], \"xaxis\": \"x\", \"y\": [1.0], \"yaxis\": \"y\"}, {\"alignmentgroup\": \"True\", \"hoverlabel\": {\"namelength\": 0}, \"hovertemplate\": \"Clave platillo=PAS478601<br>Grupo=%{x}<br>Cantidad=%{y}\", \"legendgroup\": \"Clave platillo=PAS478601\", \"marker\": {\"color\": \"#19d3f3\"}, \"name\": \"Clave platillo=PAS478601\", \"offsetgroup\": \"Clave platillo=PAS478601\", \"orientation\": \"v\", \"showlegend\": true, \"textposition\": \"auto\", \"type\": \"bar\", \"x\": [\"PASTAS\"], \"xaxis\": \"x\", \"y\": [1.0], \"yaxis\": \"y\"}, {\"alignmentgroup\": \"True\", \"hoverlabel\": {\"namelength\": 0}, \"hovertemplate\": \"Clave platillo=PAS478599<br>Grupo=%{x}<br>Cantidad=%{y}\", \"legendgroup\": \"Clave platillo=PAS478599\", \"marker\": {\"color\": \"#FF6692\"}, \"name\": \"Clave platillo=PAS478599\", \"offsetgroup\": \"Clave platillo=PAS478599\", \"orientation\": \"v\", \"showlegend\": true, \"textposition\": \"auto\", \"type\": \"bar\", \"x\": [\"PASTAS\"], \"xaxis\": \"x\", \"y\": [4.0], \"yaxis\": \"y\"}, {\"alignmentgroup\": \"True\", \"hoverlabel\": {\"namelength\": 0}, \"hovertemplate\": \"Clave platillo=PAS478597<br>Grupo=%{x}<br>Cantidad=%{y}\", \"legendgroup\": \"Clave platillo=PAS478597\", \"marker\": {\"color\": \"#B6E880\"}, \"name\": \"Clave platillo=PAS478597\", \"offsetgroup\": \"Clave platillo=PAS478597\", \"orientation\": \"v\", \"showlegend\": true, \"textposition\": \"auto\", \"type\": \"bar\", \"x\": [\"PASTAS\"], \"xaxis\": \"x\", \"y\": [1.0], \"yaxis\": \"y\"}, {\"alignmentgroup\": \"True\", \"hoverlabel\": {\"namelength\": 0}, \"hovertemplate\": \"Clave platillo=PAS478596<br>Grupo=%{x}<br>Cantidad=%{y}\", \"legendgroup\": \"Clave platillo=PAS478596\", \"marker\": {\"color\": \"#FF97FF\"}, \"name\": \"Clave platillo=PAS478596\", \"offsetgroup\": \"Clave platillo=PAS478596\", \"orientation\": \"v\", \"showlegend\": true, \"textposition\": \"auto\", \"type\": \"bar\", \"x\": [\"PASTAS\"], \"xaxis\": \"x\", \"y\": [1.0], \"yaxis\": \"y\"}, {\"alignmentgroup\": \"True\", \"hoverlabel\": {\"namelength\": 0}, \"hovertemplate\": \"Clave platillo=PAS3<br>Grupo=%{x}<br>Cantidad=%{y}\", \"legendgroup\": \"Clave platillo=PAS3\", \"marker\": {\"color\": \"#FECB52\"}, \"name\": \"Clave platillo=PAS3\", \"offsetgroup\": \"Clave platillo=PAS3\", \"orientation\": \"v\", \"showlegend\": true, \"textposition\": \"auto\", \"type\": \"bar\", \"x\": [\"PASTAS\"], \"xaxis\": \"x\", \"y\": [209.0], \"yaxis\": \"y\"}, {\"alignmentgroup\": \"True\", \"hoverlabel\": {\"namelength\": 0}, \"hovertemplate\": \"Clave platillo=PAS2<br>Grupo=%{x}<br>Cantidad=%{y}\", \"legendgroup\": \"Clave platillo=PAS2\", \"marker\": {\"color\": \"#636efa\"}, \"name\": \"Clave platillo=PAS2\", \"offsetgroup\": \"Clave platillo=PAS2\", \"orientation\": \"v\", \"showlegend\": true, \"textposition\": \"auto\", \"type\": \"bar\", \"x\": [\"PASTAS\"], \"xaxis\": \"x\", \"y\": [55.0], \"yaxis\": \"y\"}, {\"alignmentgroup\": \"True\", \"hoverlabel\": {\"namelength\": 0}, \"hovertemplate\": \"Clave platillo=PAS1<br>Grupo=%{x}<br>Cantidad=%{y}\", \"legendgroup\": \"Clave platillo=PAS1\", \"marker\": {\"color\": \"#EF553B\"}, \"name\": \"Clave platillo=PAS1\", \"offsetgroup\": \"Clave platillo=PAS1\", \"orientation\": \"v\", \"showlegend\": true, \"textposition\": \"auto\", \"type\": \"bar\", \"x\": [\"PASTAS\"], \"xaxis\": \"x\", \"y\": [65.0], \"yaxis\": \"y\"}, {\"alignmentgroup\": \"True\", \"hoverlabel\": {\"namelength\": 0}, \"hovertemplate\": \"Clave platillo=MSAN16<br>Grupo=%{x}<br>Cantidad=%{y}\", \"legendgroup\": \"Clave platillo=MSAN16\", \"marker\": {\"color\": \"#00cc96\"}, \"name\": \"Clave platillo=MSAN16\", \"offsetgroup\": \"Clave platillo=MSAN16\", \"orientation\": \"v\", \"showlegend\": true, \"textposition\": \"auto\", \"type\": \"bar\", \"x\": [\"SANDWICHES\"], \"xaxis\": \"x\", \"y\": [1.0], \"yaxis\": \"y\"}, {\"alignmentgroup\": \"True\", \"hoverlabel\": {\"namelength\": 0}, \"hovertemplate\": \"Clave platillo=MPOS9<br>Grupo=%{x}<br>Cantidad=%{y}\", \"legendgroup\": \"Clave platillo=MPOS9\", \"marker\": {\"color\": \"#ab63fa\"}, \"name\": \"Clave platillo=MPOS9\", \"offsetgroup\": \"Clave platillo=MPOS9\", \"orientation\": \"v\", \"showlegend\": true, \"textposition\": \"auto\", \"type\": \"bar\", \"x\": [\"POSTRES\"], \"xaxis\": \"x\", \"y\": [9.0], \"yaxis\": \"y\"}, {\"alignmentgroup\": \"True\", \"hoverlabel\": {\"namelength\": 0}, \"hovertemplate\": \"Clave platillo=MPOS8<br>Grupo=%{x}<br>Cantidad=%{y}\", \"legendgroup\": \"Clave platillo=MPOS8\", \"marker\": {\"color\": \"#FFA15A\"}, \"name\": \"Clave platillo=MPOS8\", \"offsetgroup\": \"Clave platillo=MPOS8\", \"orientation\": \"v\", \"showlegend\": true, \"textposition\": \"auto\", \"type\": \"bar\", \"x\": [\"POSTRES\"], \"xaxis\": \"x\", \"y\": [7.0], \"yaxis\": \"y\"}, {\"alignmentgroup\": \"True\", \"hoverlabel\": {\"namelength\": 0}, \"hovertemplate\": \"Clave platillo=MPOS7<br>Grupo=%{x}<br>Cantidad=%{y}\", \"legendgroup\": \"Clave platillo=MPOS7\", \"marker\": {\"color\": \"#19d3f3\"}, \"name\": \"Clave platillo=MPOS7\", \"offsetgroup\": \"Clave platillo=MPOS7\", \"orientation\": \"v\", \"showlegend\": true, \"textposition\": \"auto\", \"type\": \"bar\", \"x\": [\"POSTRES\"], \"xaxis\": \"x\", \"y\": [3.0], \"yaxis\": \"y\"}, {\"alignmentgroup\": \"True\", \"hoverlabel\": {\"namelength\": 0}, \"hovertemplate\": \"Clave platillo=MPOS6<br>Grupo=%{x}<br>Cantidad=%{y}\", \"legendgroup\": \"Clave platillo=MPOS6\", \"marker\": {\"color\": \"#FF6692\"}, \"name\": \"Clave platillo=MPOS6\", \"offsetgroup\": \"Clave platillo=MPOS6\", \"orientation\": \"v\", \"showlegend\": true, \"textposition\": \"auto\", \"type\": \"bar\", \"x\": [\"POSTRES\"], \"xaxis\": \"x\", \"y\": [4.0], \"yaxis\": \"y\"}, {\"alignmentgroup\": \"True\", \"hoverlabel\": {\"namelength\": 0}, \"hovertemplate\": \"Clave platillo=MPOS5<br>Grupo=%{x}<br>Cantidad=%{y}\", \"legendgroup\": \"Clave platillo=MPOS5\", \"marker\": {\"color\": \"#B6E880\"}, \"name\": \"Clave platillo=MPOS5\", \"offsetgroup\": \"Clave platillo=MPOS5\", \"orientation\": \"v\", \"showlegend\": true, \"textposition\": \"auto\", \"type\": \"bar\", \"x\": [\"POSTRES\"], \"xaxis\": \"x\", \"y\": [2.0], \"yaxis\": \"y\"}, {\"alignmentgroup\": \"True\", \"hoverlabel\": {\"namelength\": 0}, \"hovertemplate\": \"Clave platillo=MPOS4<br>Grupo=%{x}<br>Cantidad=%{y}\", \"legendgroup\": \"Clave platillo=MPOS4\", \"marker\": {\"color\": \"#FF97FF\"}, \"name\": \"Clave platillo=MPOS4\", \"offsetgroup\": \"Clave platillo=MPOS4\", \"orientation\": \"v\", \"showlegend\": true, \"textposition\": \"auto\", \"type\": \"bar\", \"x\": [\"POSTRES\"], \"xaxis\": \"x\", \"y\": [2.0], \"yaxis\": \"y\"}, {\"alignmentgroup\": \"True\", \"hoverlabel\": {\"namelength\": 0}, \"hovertemplate\": \"Clave platillo=MPOS3<br>Grupo=%{x}<br>Cantidad=%{y}\", \"legendgroup\": \"Clave platillo=MPOS3\", \"marker\": {\"color\": \"#FECB52\"}, \"name\": \"Clave platillo=MPOS3\", \"offsetgroup\": \"Clave platillo=MPOS3\", \"orientation\": \"v\", \"showlegend\": true, \"textposition\": \"auto\", \"type\": \"bar\", \"x\": [\"POSTRES\"], \"xaxis\": \"x\", \"y\": [14.0], \"yaxis\": \"y\"}, {\"alignmentgroup\": \"True\", \"hoverlabel\": {\"namelength\": 0}, \"hovertemplate\": \"Clave platillo=MPOS2<br>Grupo=%{x}<br>Cantidad=%{y}\", \"legendgroup\": \"Clave platillo=MPOS2\", \"marker\": {\"color\": \"#636efa\"}, \"name\": \"Clave platillo=MPOS2\", \"offsetgroup\": \"Clave platillo=MPOS2\", \"orientation\": \"v\", \"showlegend\": true, \"textposition\": \"auto\", \"type\": \"bar\", \"x\": [\"POSTRES\"], \"xaxis\": \"x\", \"y\": [25.0], \"yaxis\": \"y\"}, {\"alignmentgroup\": \"True\", \"hoverlabel\": {\"namelength\": 0}, \"hovertemplate\": \"Clave platillo=MPOS10<br>Grupo=%{x}<br>Cantidad=%{y}\", \"legendgroup\": \"Clave platillo=MPOS10\", \"marker\": {\"color\": \"#EF553B\"}, \"name\": \"Clave platillo=MPOS10\", \"offsetgroup\": \"Clave platillo=MPOS10\", \"orientation\": \"v\", \"showlegend\": true, \"textposition\": \"auto\", \"type\": \"bar\", \"x\": [\"POSTRES\"], \"xaxis\": \"x\", \"y\": [9.0], \"yaxis\": \"y\"}, {\"alignmentgroup\": \"True\", \"hoverlabel\": {\"namelength\": 0}, \"hovertemplate\": \"Clave platillo=MPOS1<br>Grupo=%{x}<br>Cantidad=%{y}\", \"legendgroup\": \"Clave platillo=MPOS1\", \"marker\": {\"color\": \"#00cc96\"}, \"name\": \"Clave platillo=MPOS1\", \"offsetgroup\": \"Clave platillo=MPOS1\", \"orientation\": \"v\", \"showlegend\": true, \"textposition\": \"auto\", \"type\": \"bar\", \"x\": [\"POSTRES\"], \"xaxis\": \"x\", \"y\": [62.0], \"yaxis\": \"y\"}, {\"alignmentgroup\": \"True\", \"hoverlabel\": {\"namelength\": 0}, \"hovertemplate\": \"Clave platillo=MPAP4<br>Grupo=%{x}<br>Cantidad=%{y}\", \"legendgroup\": \"Clave platillo=MPAP4\", \"marker\": {\"color\": \"#ab63fa\"}, \"name\": \"Clave platillo=MPAP4\", \"offsetgroup\": \"Clave platillo=MPAP4\", \"orientation\": \"v\", \"showlegend\": true, \"textposition\": \"auto\", \"type\": \"bar\", \"x\": [\"PAPAS, PAPAS Y M\\u00c1S PAPAS\"], \"xaxis\": \"x\", \"y\": [1.0], \"yaxis\": \"y\"}, {\"alignmentgroup\": \"True\", \"hoverlabel\": {\"namelength\": 0}, \"hovertemplate\": \"Clave platillo=MPAP2<br>Grupo=%{x}<br>Cantidad=%{y}\", \"legendgroup\": \"Clave platillo=MPAP2\", \"marker\": {\"color\": \"#FFA15A\"}, \"name\": \"Clave platillo=MPAP2\", \"offsetgroup\": \"Clave platillo=MPAP2\", \"orientation\": \"v\", \"showlegend\": true, \"textposition\": \"auto\", \"type\": \"bar\", \"x\": [\"PAPAS, PAPAS Y M\\u00c1S PAPAS\"], \"xaxis\": \"x\", \"y\": [1.0], \"yaxis\": \"y\"}, {\"alignmentgroup\": \"True\", \"hoverlabel\": {\"namelength\": 0}, \"hovertemplate\": \"Clave platillo=MPAP1<br>Grupo=%{x}<br>Cantidad=%{y}\", \"legendgroup\": \"Clave platillo=MPAP1\", \"marker\": {\"color\": \"#19d3f3\"}, \"name\": \"Clave platillo=MPAP1\", \"offsetgroup\": \"Clave platillo=MPAP1\", \"orientation\": \"v\", \"showlegend\": true, \"textposition\": \"auto\", \"type\": \"bar\", \"x\": [\"PAPAS, PAPAS Y M\\u00c1S PAPAS\"], \"xaxis\": \"x\", \"y\": [3.0], \"yaxis\": \"y\"}, {\"alignmentgroup\": \"True\", \"hoverlabel\": {\"namelength\": 0}, \"hovertemplate\": \"Clave platillo=MHAM9<br>Grupo=%{x}<br>Cantidad=%{y}\", \"legendgroup\": \"Clave platillo=MHAM9\", \"marker\": {\"color\": \"#FF6692\"}, \"name\": \"Clave platillo=MHAM9\", \"offsetgroup\": \"Clave platillo=MHAM9\", \"orientation\": \"v\", \"showlegend\": true, \"textposition\": \"auto\", \"type\": \"bar\", \"x\": [\"HAMBURGUESAS\"], \"xaxis\": \"x\", \"y\": [73.0], \"yaxis\": \"y\"}, {\"alignmentgroup\": \"True\", \"hoverlabel\": {\"namelength\": 0}, \"hovertemplate\": \"Clave platillo=MHAM8<br>Grupo=%{x}<br>Cantidad=%{y}\", \"legendgroup\": \"Clave platillo=MHAM8\", \"marker\": {\"color\": \"#B6E880\"}, \"name\": \"Clave platillo=MHAM8\", \"offsetgroup\": \"Clave platillo=MHAM8\", \"orientation\": \"v\", \"showlegend\": true, \"textposition\": \"auto\", \"type\": \"bar\", \"x\": [\"HAMBURGUESAS\"], \"xaxis\": \"x\", \"y\": [68.0], \"yaxis\": \"y\"}, {\"alignmentgroup\": \"True\", \"hoverlabel\": {\"namelength\": 0}, \"hovertemplate\": \"Clave platillo=MHAM75<br>Grupo=%{x}<br>Cantidad=%{y}\", \"legendgroup\": \"Clave platillo=MHAM75\", \"marker\": {\"color\": \"#FF97FF\"}, \"name\": \"Clave platillo=MHAM75\", \"offsetgroup\": \"Clave platillo=MHAM75\", \"orientation\": \"v\", \"showlegend\": true, \"textposition\": \"auto\", \"type\": \"bar\", \"x\": [\"HAMBURGUESAS\"], \"xaxis\": \"x\", \"y\": [1.0], \"yaxis\": \"y\"}, {\"alignmentgroup\": \"True\", \"hoverlabel\": {\"namelength\": 0}, \"hovertemplate\": \"Clave platillo=MHAM72<br>Grupo=%{x}<br>Cantidad=%{y}\", \"legendgroup\": \"Clave platillo=MHAM72\", \"marker\": {\"color\": \"#FECB52\"}, \"name\": \"Clave platillo=MHAM72\", \"offsetgroup\": \"Clave platillo=MHAM72\", \"orientation\": \"v\", \"showlegend\": true, \"textposition\": \"auto\", \"type\": \"bar\", \"x\": [\"HAMBURGUESAS\"], \"xaxis\": \"x\", \"y\": [3.0], \"yaxis\": \"y\"}, {\"alignmentgroup\": \"True\", \"hoverlabel\": {\"namelength\": 0}, \"hovertemplate\": \"Clave platillo=MHAM71<br>Grupo=%{x}<br>Cantidad=%{y}\", \"legendgroup\": \"Clave platillo=MHAM71\", \"marker\": {\"color\": \"#636efa\"}, \"name\": \"Clave platillo=MHAM71\", \"offsetgroup\": \"Clave platillo=MHAM71\", \"orientation\": \"v\", \"showlegend\": true, \"textposition\": \"auto\", \"type\": \"bar\", \"x\": [\"HAMBURGUESAS\"], \"xaxis\": \"x\", \"y\": [2.0], \"yaxis\": \"y\"}, {\"alignmentgroup\": \"True\", \"hoverlabel\": {\"namelength\": 0}, \"hovertemplate\": \"Clave platillo=MHAM70<br>Grupo=%{x}<br>Cantidad=%{y}\", \"legendgroup\": \"Clave platillo=MHAM70\", \"marker\": {\"color\": \"#EF553B\"}, \"name\": \"Clave platillo=MHAM70\", \"offsetgroup\": \"Clave platillo=MHAM70\", \"orientation\": \"v\", \"showlegend\": true, \"textposition\": \"auto\", \"type\": \"bar\", \"x\": [\"HAMBURGUESAS\"], \"xaxis\": \"x\", \"y\": [1.0], \"yaxis\": \"y\"}, {\"alignmentgroup\": \"True\", \"hoverlabel\": {\"namelength\": 0}, \"hovertemplate\": \"Clave platillo=MHAM69<br>Grupo=%{x}<br>Cantidad=%{y}\", \"legendgroup\": \"Clave platillo=MHAM69\", \"marker\": {\"color\": \"#00cc96\"}, \"name\": \"Clave platillo=MHAM69\", \"offsetgroup\": \"Clave platillo=MHAM69\", \"orientation\": \"v\", \"showlegend\": true, \"textposition\": \"auto\", \"type\": \"bar\", \"x\": [\"HAMBURGUESAS\"], \"xaxis\": \"x\", \"y\": [1.0], \"yaxis\": \"y\"}, {\"alignmentgroup\": \"True\", \"hoverlabel\": {\"namelength\": 0}, \"hovertemplate\": \"Clave platillo=MHAM68<br>Grupo=%{x}<br>Cantidad=%{y}\", \"legendgroup\": \"Clave platillo=MHAM68\", \"marker\": {\"color\": \"#ab63fa\"}, \"name\": \"Clave platillo=MHAM68\", \"offsetgroup\": \"Clave platillo=MHAM68\", \"orientation\": \"v\", \"showlegend\": true, \"textposition\": \"auto\", \"type\": \"bar\", \"x\": [\"HAMBURGUESAS\"], \"xaxis\": \"x\", \"y\": [1.0], \"yaxis\": \"y\"}, {\"alignmentgroup\": \"True\", \"hoverlabel\": {\"namelength\": 0}, \"hovertemplate\": \"Clave platillo=MHAM67<br>Grupo=%{x}<br>Cantidad=%{y}\", \"legendgroup\": \"Clave platillo=MHAM67\", \"marker\": {\"color\": \"#FFA15A\"}, \"name\": \"Clave platillo=MHAM67\", \"offsetgroup\": \"Clave platillo=MHAM67\", \"orientation\": \"v\", \"showlegend\": true, \"textposition\": \"auto\", \"type\": \"bar\", \"x\": [\"HAMBURGUESAS\"], \"xaxis\": \"x\", \"y\": [11.0], \"yaxis\": \"y\"}, {\"alignmentgroup\": \"True\", \"hoverlabel\": {\"namelength\": 0}, \"hovertemplate\": \"Clave platillo=MHAM66<br>Grupo=%{x}<br>Cantidad=%{y}\", \"legendgroup\": \"Clave platillo=MHAM66\", \"marker\": {\"color\": \"#19d3f3\"}, \"name\": \"Clave platillo=MHAM66\", \"offsetgroup\": \"Clave platillo=MHAM66\", \"orientation\": \"v\", \"showlegend\": true, \"textposition\": \"auto\", \"type\": \"bar\", \"x\": [\"HAMBURGUESAS\"], \"xaxis\": \"x\", \"y\": [4.0], \"yaxis\": \"y\"}, {\"alignmentgroup\": \"True\", \"hoverlabel\": {\"namelength\": 0}, \"hovertemplate\": \"Clave platillo=MHAM65<br>Grupo=%{x}<br>Cantidad=%{y}\", \"legendgroup\": \"Clave platillo=MHAM65\", \"marker\": {\"color\": \"#FF6692\"}, \"name\": \"Clave platillo=MHAM65\", \"offsetgroup\": \"Clave platillo=MHAM65\", \"orientation\": \"v\", \"showlegend\": true, \"textposition\": \"auto\", \"type\": \"bar\", \"x\": [\"HAMBURGUESAS\"], \"xaxis\": \"x\", \"y\": [1.0], \"yaxis\": \"y\"}, {\"alignmentgroup\": \"True\", \"hoverlabel\": {\"namelength\": 0}, \"hovertemplate\": \"Clave platillo=MHAM64<br>Grupo=%{x}<br>Cantidad=%{y}\", \"legendgroup\": \"Clave platillo=MHAM64\", \"marker\": {\"color\": \"#B6E880\"}, \"name\": \"Clave platillo=MHAM64\", \"offsetgroup\": \"Clave platillo=MHAM64\", \"orientation\": \"v\", \"showlegend\": true, \"textposition\": \"auto\", \"type\": \"bar\", \"x\": [\"HAMBURGUESAS\"], \"xaxis\": \"x\", \"y\": [1.0], \"yaxis\": \"y\"}, {\"alignmentgroup\": \"True\", \"hoverlabel\": {\"namelength\": 0}, \"hovertemplate\": \"Clave platillo=MHAM63<br>Grupo=%{x}<br>Cantidad=%{y}\", \"legendgroup\": \"Clave platillo=MHAM63\", \"marker\": {\"color\": \"#FF97FF\"}, \"name\": \"Clave platillo=MHAM63\", \"offsetgroup\": \"Clave platillo=MHAM63\", \"orientation\": \"v\", \"showlegend\": true, \"textposition\": \"auto\", \"type\": \"bar\", \"x\": [\"HAMBURGUESAS\"], \"xaxis\": \"x\", \"y\": [1.0], \"yaxis\": \"y\"}, {\"alignmentgroup\": \"True\", \"hoverlabel\": {\"namelength\": 0}, \"hovertemplate\": \"Clave platillo=MHAM53<br>Grupo=%{x}<br>Cantidad=%{y}\", \"legendgroup\": \"Clave platillo=MHAM53\", \"marker\": {\"color\": \"#FECB52\"}, \"name\": \"Clave platillo=MHAM53\", \"offsetgroup\": \"Clave platillo=MHAM53\", \"orientation\": \"v\", \"showlegend\": true, \"textposition\": \"auto\", \"type\": \"bar\", \"x\": [\"HAMBURGUESAS\"], \"xaxis\": \"x\", \"y\": [5.0], \"yaxis\": \"y\"}, {\"alignmentgroup\": \"True\", \"hoverlabel\": {\"namelength\": 0}, \"hovertemplate\": \"Clave platillo=MHAM52<br>Grupo=%{x}<br>Cantidad=%{y}\", \"legendgroup\": \"Clave platillo=MHAM52\", \"marker\": {\"color\": \"#636efa\"}, \"name\": \"Clave platillo=MHAM52\", \"offsetgroup\": \"Clave platillo=MHAM52\", \"orientation\": \"v\", \"showlegend\": true, \"textposition\": \"auto\", \"type\": \"bar\", \"x\": [\"HAMBURGUESAS\"], \"xaxis\": \"x\", \"y\": [3.0], \"yaxis\": \"y\"}, {\"alignmentgroup\": \"True\", \"hoverlabel\": {\"namelength\": 0}, \"hovertemplate\": \"Clave platillo=MHAM5<br>Grupo=%{x}<br>Cantidad=%{y}\", \"legendgroup\": \"Clave platillo=MHAM5\", \"marker\": {\"color\": \"#EF553B\"}, \"name\": \"Clave platillo=MHAM5\", \"offsetgroup\": \"Clave platillo=MHAM5\", \"orientation\": \"v\", \"showlegend\": true, \"textposition\": \"auto\", \"type\": \"bar\", \"x\": [\"HAMBURGUESAS\"], \"xaxis\": \"x\", \"y\": [6.0], \"yaxis\": \"y\"}, {\"alignmentgroup\": \"True\", \"hoverlabel\": {\"namelength\": 0}, \"hovertemplate\": \"Clave platillo=MHAM45<br>Grupo=%{x}<br>Cantidad=%{y}\", \"legendgroup\": \"Clave platillo=MHAM45\", \"marker\": {\"color\": \"#00cc96\"}, \"name\": \"Clave platillo=MHAM45\", \"offsetgroup\": \"Clave platillo=MHAM45\", \"orientation\": \"v\", \"showlegend\": true, \"textposition\": \"auto\", \"type\": \"bar\", \"x\": [\"HAMBURGUESAS\"], \"xaxis\": \"x\", \"y\": [1.0], \"yaxis\": \"y\"}, {\"alignmentgroup\": \"True\", \"hoverlabel\": {\"namelength\": 0}, \"hovertemplate\": \"Clave platillo=MHAM42<br>Grupo=%{x}<br>Cantidad=%{y}\", \"legendgroup\": \"Clave platillo=MHAM42\", \"marker\": {\"color\": \"#ab63fa\"}, \"name\": \"Clave platillo=MHAM42\", \"offsetgroup\": \"Clave platillo=MHAM42\", \"orientation\": \"v\", \"showlegend\": true, \"textposition\": \"auto\", \"type\": \"bar\", \"x\": [\"HAMBURGUESAS\"], \"xaxis\": \"x\", \"y\": [4.0], \"yaxis\": \"y\"}, {\"alignmentgroup\": \"True\", \"hoverlabel\": {\"namelength\": 0}, \"hovertemplate\": \"Clave platillo=MHAM41<br>Grupo=%{x}<br>Cantidad=%{y}\", \"legendgroup\": \"Clave platillo=MHAM41\", \"marker\": {\"color\": \"#FFA15A\"}, \"name\": \"Clave platillo=MHAM41\", \"offsetgroup\": \"Clave platillo=MHAM41\", \"orientation\": \"v\", \"showlegend\": true, \"textposition\": \"auto\", \"type\": \"bar\", \"x\": [\"HAMBURGUESAS\"], \"xaxis\": \"x\", \"y\": [1.0], \"yaxis\": \"y\"}, {\"alignmentgroup\": \"True\", \"hoverlabel\": {\"namelength\": 0}, \"hovertemplate\": \"Clave platillo=MHAM39<br>Grupo=%{x}<br>Cantidad=%{y}\", \"legendgroup\": \"Clave platillo=MHAM39\", \"marker\": {\"color\": \"#19d3f3\"}, \"name\": \"Clave platillo=MHAM39\", \"offsetgroup\": \"Clave platillo=MHAM39\", \"orientation\": \"v\", \"showlegend\": true, \"textposition\": \"auto\", \"type\": \"bar\", \"x\": [\"HAMBURGUESAS\"], \"xaxis\": \"x\", \"y\": [2.0], \"yaxis\": \"y\"}, {\"alignmentgroup\": \"True\", \"hoverlabel\": {\"namelength\": 0}, \"hovertemplate\": \"Clave platillo=MHAM35<br>Grupo=%{x}<br>Cantidad=%{y}\", \"legendgroup\": \"Clave platillo=MHAM35\", \"marker\": {\"color\": \"#FF6692\"}, \"name\": \"Clave platillo=MHAM35\", \"offsetgroup\": \"Clave platillo=MHAM35\", \"orientation\": \"v\", \"showlegend\": true, \"textposition\": \"auto\", \"type\": \"bar\", \"x\": [\"HAMBURGUESAS\"], \"xaxis\": \"x\", \"y\": [1.0], \"yaxis\": \"y\"}, {\"alignmentgroup\": \"True\", \"hoverlabel\": {\"namelength\": 0}, \"hovertemplate\": \"Clave platillo=MHAM33<br>Grupo=%{x}<br>Cantidad=%{y}\", \"legendgroup\": \"Clave platillo=MHAM33\", \"marker\": {\"color\": \"#B6E880\"}, \"name\": \"Clave platillo=MHAM33\", \"offsetgroup\": \"Clave platillo=MHAM33\", \"orientation\": \"v\", \"showlegend\": true, \"textposition\": \"auto\", \"type\": \"bar\", \"x\": [\"HAMBURGUESAS\"], \"xaxis\": \"x\", \"y\": [127.0], \"yaxis\": \"y\"}, {\"alignmentgroup\": \"True\", \"hoverlabel\": {\"namelength\": 0}, \"hovertemplate\": \"Clave platillo=MHAM32<br>Grupo=%{x}<br>Cantidad=%{y}\", \"legendgroup\": \"Clave platillo=MHAM32\", \"marker\": {\"color\": \"#FF97FF\"}, \"name\": \"Clave platillo=MHAM32\", \"offsetgroup\": \"Clave platillo=MHAM32\", \"orientation\": \"v\", \"showlegend\": true, \"textposition\": \"auto\", \"type\": \"bar\", \"x\": [\"HAMBURGUESAS\"], \"xaxis\": \"x\", \"y\": [103.0], \"yaxis\": \"y\"}, {\"alignmentgroup\": \"True\", \"hoverlabel\": {\"namelength\": 0}, \"hovertemplate\": \"Clave platillo=MHAM31<br>Grupo=%{x}<br>Cantidad=%{y}\", \"legendgroup\": \"Clave platillo=MHAM31\", \"marker\": {\"color\": \"#FECB52\"}, \"name\": \"Clave platillo=MHAM31\", \"offsetgroup\": \"Clave platillo=MHAM31\", \"orientation\": \"v\", \"showlegend\": true, \"textposition\": \"auto\", \"type\": \"bar\", \"x\": [\"HAMBURGUESAS\"], \"xaxis\": \"x\", \"y\": [163.0], \"yaxis\": \"y\"}, {\"alignmentgroup\": \"True\", \"hoverlabel\": {\"namelength\": 0}, \"hovertemplate\": \"Clave platillo=MHAM30<br>Grupo=%{x}<br>Cantidad=%{y}\", \"legendgroup\": \"Clave platillo=MHAM30\", \"marker\": {\"color\": \"#636efa\"}, \"name\": \"Clave platillo=MHAM30\", \"offsetgroup\": \"Clave platillo=MHAM30\", \"orientation\": \"v\", \"showlegend\": true, \"textposition\": \"auto\", \"type\": \"bar\", \"x\": [\"HAMBURGUESAS\"], \"xaxis\": \"x\", \"y\": [6454.0], \"yaxis\": \"y\"}, {\"alignmentgroup\": \"True\", \"hoverlabel\": {\"namelength\": 0}, \"hovertemplate\": \"Clave platillo=MHAM3<br>Grupo=%{x}<br>Cantidad=%{y}\", \"legendgroup\": \"Clave platillo=MHAM3\", \"marker\": {\"color\": \"#EF553B\"}, \"name\": \"Clave platillo=MHAM3\", \"offsetgroup\": \"Clave platillo=MHAM3\", \"orientation\": \"v\", \"showlegend\": true, \"textposition\": \"auto\", \"type\": \"bar\", \"x\": [\"HAMBURGUESAS\"], \"xaxis\": \"x\", \"y\": [32.0], \"yaxis\": \"y\"}, {\"alignmentgroup\": \"True\", \"hoverlabel\": {\"namelength\": 0}, \"hovertemplate\": \"Clave platillo=MHAM29<br>Grupo=%{x}<br>Cantidad=%{y}\", \"legendgroup\": \"Clave platillo=MHAM29\", \"marker\": {\"color\": \"#00cc96\"}, \"name\": \"Clave platillo=MHAM29\", \"offsetgroup\": \"Clave platillo=MHAM29\", \"orientation\": \"v\", \"showlegend\": true, \"textposition\": \"auto\", \"type\": \"bar\", \"x\": [\"HAMBURGUESAS\"], \"xaxis\": \"x\", \"y\": [292.0], \"yaxis\": \"y\"}, {\"alignmentgroup\": \"True\", \"hoverlabel\": {\"namelength\": 0}, \"hovertemplate\": \"Clave platillo=MHAM28<br>Grupo=%{x}<br>Cantidad=%{y}\", \"legendgroup\": \"Clave platillo=MHAM28\", \"marker\": {\"color\": \"#ab63fa\"}, \"name\": \"Clave platillo=MHAM28\", \"offsetgroup\": \"Clave platillo=MHAM28\", \"orientation\": \"v\", \"showlegend\": true, \"textposition\": \"auto\", \"type\": \"bar\", \"x\": [\"HAMBURGUESAS\"], \"xaxis\": \"x\", \"y\": [14.0], \"yaxis\": \"y\"}, {\"alignmentgroup\": \"True\", \"hoverlabel\": {\"namelength\": 0}, \"hovertemplate\": \"Clave platillo=MHAM27<br>Grupo=%{x}<br>Cantidad=%{y}\", \"legendgroup\": \"Clave platillo=MHAM27\", \"marker\": {\"color\": \"#FFA15A\"}, \"name\": \"Clave platillo=MHAM27\", \"offsetgroup\": \"Clave platillo=MHAM27\", \"orientation\": \"v\", \"showlegend\": true, \"textposition\": \"auto\", \"type\": \"bar\", \"x\": [\"HAMBURGUESAS\"], \"xaxis\": \"x\", \"y\": [66.0], \"yaxis\": \"y\"}, {\"alignmentgroup\": \"True\", \"hoverlabel\": {\"namelength\": 0}, \"hovertemplate\": \"Clave platillo=MHAM24<br>Grupo=%{x}<br>Cantidad=%{y}\", \"legendgroup\": \"Clave platillo=MHAM24\", \"marker\": {\"color\": \"#19d3f3\"}, \"name\": \"Clave platillo=MHAM24\", \"offsetgroup\": \"Clave platillo=MHAM24\", \"orientation\": \"v\", \"showlegend\": true, \"textposition\": \"auto\", \"type\": \"bar\", \"x\": [\"HAMBURGUESAS\"], \"xaxis\": \"x\", \"y\": [1.0], \"yaxis\": \"y\"}, {\"alignmentgroup\": \"True\", \"hoverlabel\": {\"namelength\": 0}, \"hovertemplate\": \"Clave platillo=MHAM23<br>Grupo=%{x}<br>Cantidad=%{y}\", \"legendgroup\": \"Clave platillo=MHAM23\", \"marker\": {\"color\": \"#FF6692\"}, \"name\": \"Clave platillo=MHAM23\", \"offsetgroup\": \"Clave platillo=MHAM23\", \"orientation\": \"v\", \"showlegend\": true, \"textposition\": \"auto\", \"type\": \"bar\", \"x\": [\"HAMBURGUESAS\"], \"xaxis\": \"x\", \"y\": [14.0], \"yaxis\": \"y\"}, {\"alignmentgroup\": \"True\", \"hoverlabel\": {\"namelength\": 0}, \"hovertemplate\": \"Clave platillo=MHAM2<br>Grupo=%{x}<br>Cantidad=%{y}\", \"legendgroup\": \"Clave platillo=MHAM2\", \"marker\": {\"color\": \"#B6E880\"}, \"name\": \"Clave platillo=MHAM2\", \"offsetgroup\": \"Clave platillo=MHAM2\", \"orientation\": \"v\", \"showlegend\": true, \"textposition\": \"auto\", \"type\": \"bar\", \"x\": [\"HAMBURGUESAS\"], \"xaxis\": \"x\", \"y\": [4.0], \"yaxis\": \"y\"}, {\"alignmentgroup\": \"True\", \"hoverlabel\": {\"namelength\": 0}, \"hovertemplate\": \"Clave platillo=MHAM18<br>Grupo=%{x}<br>Cantidad=%{y}\", \"legendgroup\": \"Clave platillo=MHAM18\", \"marker\": {\"color\": \"#FF97FF\"}, \"name\": \"Clave platillo=MHAM18\", \"offsetgroup\": \"Clave platillo=MHAM18\", \"orientation\": \"v\", \"showlegend\": true, \"textposition\": \"auto\", \"type\": \"bar\", \"x\": [\"HAMBURGUESAS\"], \"xaxis\": \"x\", \"y\": [9.0], \"yaxis\": \"y\"}, {\"alignmentgroup\": \"True\", \"hoverlabel\": {\"namelength\": 0}, \"hovertemplate\": \"Clave platillo=MHAM17<br>Grupo=%{x}<br>Cantidad=%{y}\", \"legendgroup\": \"Clave platillo=MHAM17\", \"marker\": {\"color\": \"#FECB52\"}, \"name\": \"Clave platillo=MHAM17\", \"offsetgroup\": \"Clave platillo=MHAM17\", \"orientation\": \"v\", \"showlegend\": true, \"textposition\": \"auto\", \"type\": \"bar\", \"x\": [\"HAMBURGUESAS\"], \"xaxis\": \"x\", \"y\": [9.0], \"yaxis\": \"y\"}, {\"alignmentgroup\": \"True\", \"hoverlabel\": {\"namelength\": 0}, \"hovertemplate\": \"Clave platillo=MHAM16<br>Grupo=%{x}<br>Cantidad=%{y}\", \"legendgroup\": \"Clave platillo=MHAM16\", \"marker\": {\"color\": \"#636efa\"}, \"name\": \"Clave platillo=MHAM16\", \"offsetgroup\": \"Clave platillo=MHAM16\", \"orientation\": \"v\", \"showlegend\": true, \"textposition\": \"auto\", \"type\": \"bar\", \"x\": [\"HAMBURGUESAS\"], \"xaxis\": \"x\", \"y\": [1.0], \"yaxis\": \"y\"}, {\"alignmentgroup\": \"True\", \"hoverlabel\": {\"namelength\": 0}, \"hovertemplate\": \"Clave platillo=MHAM15<br>Grupo=%{x}<br>Cantidad=%{y}\", \"legendgroup\": \"Clave platillo=MHAM15\", \"marker\": {\"color\": \"#EF553B\"}, \"name\": \"Clave platillo=MHAM15\", \"offsetgroup\": \"Clave platillo=MHAM15\", \"orientation\": \"v\", \"showlegend\": true, \"textposition\": \"auto\", \"type\": \"bar\", \"x\": [\"HAMBURGUESAS\"], \"xaxis\": \"x\", \"y\": [2.0], \"yaxis\": \"y\"}, {\"alignmentgroup\": \"True\", \"hoverlabel\": {\"namelength\": 0}, \"hovertemplate\": \"Clave platillo=MHAM14<br>Grupo=%{x}<br>Cantidad=%{y}\", \"legendgroup\": \"Clave platillo=MHAM14\", \"marker\": {\"color\": \"#00cc96\"}, \"name\": \"Clave platillo=MHAM14\", \"offsetgroup\": \"Clave platillo=MHAM14\", \"orientation\": \"v\", \"showlegend\": true, \"textposition\": \"auto\", \"type\": \"bar\", \"x\": [\"HAMBURGUESAS\"], \"xaxis\": \"x\", \"y\": [1.0], \"yaxis\": \"y\"}, {\"alignmentgroup\": \"True\", \"hoverlabel\": {\"namelength\": 0}, \"hovertemplate\": \"Clave platillo=MHAM13<br>Grupo=%{x}<br>Cantidad=%{y}\", \"legendgroup\": \"Clave platillo=MHAM13\", \"marker\": {\"color\": \"#ab63fa\"}, \"name\": \"Clave platillo=MHAM13\", \"offsetgroup\": \"Clave platillo=MHAM13\", \"orientation\": \"v\", \"showlegend\": true, \"textposition\": \"auto\", \"type\": \"bar\", \"x\": [\"HAMBURGUESAS\"], \"xaxis\": \"x\", \"y\": [34.0], \"yaxis\": \"y\"}, {\"alignmentgroup\": \"True\", \"hoverlabel\": {\"namelength\": 0}, \"hovertemplate\": \"Clave platillo=MHAM12<br>Grupo=%{x}<br>Cantidad=%{y}\", \"legendgroup\": \"Clave platillo=MHAM12\", \"marker\": {\"color\": \"#FFA15A\"}, \"name\": \"Clave platillo=MHAM12\", \"offsetgroup\": \"Clave platillo=MHAM12\", \"orientation\": \"v\", \"showlegend\": true, \"textposition\": \"auto\", \"type\": \"bar\", \"x\": [\"HAMBURGUESAS\"], \"xaxis\": \"x\", \"y\": [16.0], \"yaxis\": \"y\"}, {\"alignmentgroup\": \"True\", \"hoverlabel\": {\"namelength\": 0}, \"hovertemplate\": \"Clave platillo=MENS9<br>Grupo=%{x}<br>Cantidad=%{y}\", \"legendgroup\": \"Clave platillo=MENS9\", \"marker\": {\"color\": \"#19d3f3\"}, \"name\": \"Clave platillo=MENS9\", \"offsetgroup\": \"Clave platillo=MENS9\", \"orientation\": \"v\", \"showlegend\": true, \"textposition\": \"auto\", \"type\": \"bar\", \"x\": [\"ENSALADAS\"], \"xaxis\": \"x\", \"y\": [2.0], \"yaxis\": \"y\"}, {\"alignmentgroup\": \"True\", \"hoverlabel\": {\"namelength\": 0}, \"hovertemplate\": \"Clave platillo=MENS5<br>Grupo=%{x}<br>Cantidad=%{y}\", \"legendgroup\": \"Clave platillo=MENS5\", \"marker\": {\"color\": \"#FF6692\"}, \"name\": \"Clave platillo=MENS5\", \"offsetgroup\": \"Clave platillo=MENS5\", \"orientation\": \"v\", \"showlegend\": true, \"textposition\": \"auto\", \"type\": \"bar\", \"x\": [\"ENSALADAS\"], \"xaxis\": \"x\", \"y\": [1.0], \"yaxis\": \"y\"}, {\"alignmentgroup\": \"True\", \"hoverlabel\": {\"namelength\": 0}, \"hovertemplate\": \"Clave platillo=MENS4<br>Grupo=%{x}<br>Cantidad=%{y}\", \"legendgroup\": \"Clave platillo=MENS4\", \"marker\": {\"color\": \"#B6E880\"}, \"name\": \"Clave platillo=MENS4\", \"offsetgroup\": \"Clave platillo=MENS4\", \"orientation\": \"v\", \"showlegend\": true, \"textposition\": \"auto\", \"type\": \"bar\", \"x\": [\"ENSALADAS\"], \"xaxis\": \"x\", \"y\": [4.0], \"yaxis\": \"y\"}, {\"alignmentgroup\": \"True\", \"hoverlabel\": {\"namelength\": 0}, \"hovertemplate\": \"Clave platillo=MENS21<br>Grupo=%{x}<br>Cantidad=%{y}\", \"legendgroup\": \"Clave platillo=MENS21\", \"marker\": {\"color\": \"#FF97FF\"}, \"name\": \"Clave platillo=MENS21\", \"offsetgroup\": \"Clave platillo=MENS21\", \"orientation\": \"v\", \"showlegend\": true, \"textposition\": \"auto\", \"type\": \"bar\", \"x\": [\"ENSALADAS\"], \"xaxis\": \"x\", \"y\": [1.0], \"yaxis\": \"y\"}, {\"alignmentgroup\": \"True\", \"hoverlabel\": {\"namelength\": 0}, \"hovertemplate\": \"Clave platillo=MENS20<br>Grupo=%{x}<br>Cantidad=%{y}\", \"legendgroup\": \"Clave platillo=MENS20\", \"marker\": {\"color\": \"#FECB52\"}, \"name\": \"Clave platillo=MENS20\", \"offsetgroup\": \"Clave platillo=MENS20\", \"orientation\": \"v\", \"showlegend\": true, \"textposition\": \"auto\", \"type\": \"bar\", \"x\": [\"ENSALADAS\"], \"xaxis\": \"x\", \"y\": [8.0], \"yaxis\": \"y\"}, {\"alignmentgroup\": \"True\", \"hoverlabel\": {\"namelength\": 0}, \"hovertemplate\": \"Clave platillo=MENS19<br>Grupo=%{x}<br>Cantidad=%{y}\", \"legendgroup\": \"Clave platillo=MENS19\", \"marker\": {\"color\": \"#636efa\"}, \"name\": \"Clave platillo=MENS19\", \"offsetgroup\": \"Clave platillo=MENS19\", \"orientation\": \"v\", \"showlegend\": true, \"textposition\": \"auto\", \"type\": \"bar\", \"x\": [\"ENSALADAS\"], \"xaxis\": \"x\", \"y\": [282.0], \"yaxis\": \"y\"}, {\"alignmentgroup\": \"True\", \"hoverlabel\": {\"namelength\": 0}, \"hovertemplate\": \"Clave platillo=MENS18<br>Grupo=%{x}<br>Cantidad=%{y}\", \"legendgroup\": \"Clave platillo=MENS18\", \"marker\": {\"color\": \"#EF553B\"}, \"name\": \"Clave platillo=MENS18\", \"offsetgroup\": \"Clave platillo=MENS18\", \"orientation\": \"v\", \"showlegend\": true, \"textposition\": \"auto\", \"type\": \"bar\", \"x\": [\"ENSALADAS\"], \"xaxis\": \"x\", \"y\": [11.0], \"yaxis\": \"y\"}, {\"alignmentgroup\": \"True\", \"hoverlabel\": {\"namelength\": 0}, \"hovertemplate\": \"Clave platillo=MENS16<br>Grupo=%{x}<br>Cantidad=%{y}\", \"legendgroup\": \"Clave platillo=MENS16\", \"marker\": {\"color\": \"#00cc96\"}, \"name\": \"Clave platillo=MENS16\", \"offsetgroup\": \"Clave platillo=MENS16\", \"orientation\": \"v\", \"showlegend\": true, \"textposition\": \"auto\", \"type\": \"bar\", \"x\": [\"ENSALADAS\"], \"xaxis\": \"x\", \"y\": [1.0], \"yaxis\": \"y\"}, {\"alignmentgroup\": \"True\", \"hoverlabel\": {\"namelength\": 0}, \"hovertemplate\": \"Clave platillo=MENS13<br>Grupo=%{x}<br>Cantidad=%{y}\", \"legendgroup\": \"Clave platillo=MENS13\", \"marker\": {\"color\": \"#ab63fa\"}, \"name\": \"Clave platillo=MENS13\", \"offsetgroup\": \"Clave platillo=MENS13\", \"orientation\": \"v\", \"showlegend\": true, \"textposition\": \"auto\", \"type\": \"bar\", \"x\": [\"ENSALADAS\"], \"xaxis\": \"x\", \"y\": [1.0], \"yaxis\": \"y\"}, {\"alignmentgroup\": \"True\", \"hoverlabel\": {\"namelength\": 0}, \"hovertemplate\": \"Clave platillo=MCL\\u00c18<br>Grupo=%{x}<br>Cantidad=%{y}\", \"legendgroup\": \"Clave platillo=MCL\\u00c18\", \"marker\": {\"color\": \"#FFA15A\"}, \"name\": \"Clave platillo=MCL\\u00c18\", \"offsetgroup\": \"Clave platillo=MCL\\u00c18\", \"orientation\": \"v\", \"showlegend\": true, \"textposition\": \"auto\", \"type\": \"bar\", \"x\": [\"CL\\u00c1SICOS\"], \"xaxis\": \"x\", \"y\": [117.0], \"yaxis\": \"y\"}, {\"alignmentgroup\": \"True\", \"hoverlabel\": {\"namelength\": 0}, \"hovertemplate\": \"Clave platillo=MCL\\u00c17<br>Grupo=%{x}<br>Cantidad=%{y}\", \"legendgroup\": \"Clave platillo=MCL\\u00c17\", \"marker\": {\"color\": \"#19d3f3\"}, \"name\": \"Clave platillo=MCL\\u00c17\", \"offsetgroup\": \"Clave platillo=MCL\\u00c17\", \"orientation\": \"v\", \"showlegend\": true, \"textposition\": \"auto\", \"type\": \"bar\", \"x\": [\"CL\\u00c1SICOS\"], \"xaxis\": \"x\", \"y\": [7.0], \"yaxis\": \"y\"}, {\"alignmentgroup\": \"True\", \"hoverlabel\": {\"namelength\": 0}, \"hovertemplate\": \"Clave platillo=MCL\\u00c169<br>Grupo=%{x}<br>Cantidad=%{y}\", \"legendgroup\": \"Clave platillo=MCL\\u00c169\", \"marker\": {\"color\": \"#FF6692\"}, \"name\": \"Clave platillo=MCL\\u00c169\", \"offsetgroup\": \"Clave platillo=MCL\\u00c169\", \"orientation\": \"v\", \"showlegend\": true, \"textposition\": \"auto\", \"type\": \"bar\", \"x\": [\"CL\\u00c1SICOS\"], \"xaxis\": \"x\", \"y\": [1.0], \"yaxis\": \"y\"}, {\"alignmentgroup\": \"True\", \"hoverlabel\": {\"namelength\": 0}, \"hovertemplate\": \"Clave platillo=MCL\\u00c165<br>Grupo=%{x}<br>Cantidad=%{y}\", \"legendgroup\": \"Clave platillo=MCL\\u00c165\", \"marker\": {\"color\": \"#B6E880\"}, \"name\": \"Clave platillo=MCL\\u00c165\", \"offsetgroup\": \"Clave platillo=MCL\\u00c165\", \"orientation\": \"v\", \"showlegend\": true, \"textposition\": \"auto\", \"type\": \"bar\", \"x\": [\"CL\\u00c1SICOS\"], \"xaxis\": \"x\", \"y\": [1.0], \"yaxis\": \"y\"}, {\"alignmentgroup\": \"True\", \"hoverlabel\": {\"namelength\": 0}, \"hovertemplate\": \"Clave platillo=MCL\\u00c164<br>Grupo=%{x}<br>Cantidad=%{y}\", \"legendgroup\": \"Clave platillo=MCL\\u00c164\", \"marker\": {\"color\": \"#FF97FF\"}, \"name\": \"Clave platillo=MCL\\u00c164\", \"offsetgroup\": \"Clave platillo=MCL\\u00c164\", \"orientation\": \"v\", \"showlegend\": true, \"textposition\": \"auto\", \"type\": \"bar\", \"x\": [\"CL\\u00c1SICOS\"], \"xaxis\": \"x\", \"y\": [231.0], \"yaxis\": \"y\"}, {\"alignmentgroup\": \"True\", \"hoverlabel\": {\"namelength\": 0}, \"hovertemplate\": \"Clave platillo=MCL\\u00c163<br>Grupo=%{x}<br>Cantidad=%{y}\", \"legendgroup\": \"Clave platillo=MCL\\u00c163\", \"marker\": {\"color\": \"#FECB52\"}, \"name\": \"Clave platillo=MCL\\u00c163\", \"offsetgroup\": \"Clave platillo=MCL\\u00c163\", \"orientation\": \"v\", \"showlegend\": true, \"textposition\": \"auto\", \"type\": \"bar\", \"x\": [\"CL\\u00c1SICOS\"], \"xaxis\": \"x\", \"y\": [1.0], \"yaxis\": \"y\"}, {\"alignmentgroup\": \"True\", \"hoverlabel\": {\"namelength\": 0}, \"hovertemplate\": \"Clave platillo=MCL\\u00c162<br>Grupo=%{x}<br>Cantidad=%{y}\", \"legendgroup\": \"Clave platillo=MCL\\u00c162\", \"marker\": {\"color\": \"#636efa\"}, \"name\": \"Clave platillo=MCL\\u00c162\", \"offsetgroup\": \"Clave platillo=MCL\\u00c162\", \"orientation\": \"v\", \"showlegend\": true, \"textposition\": \"auto\", \"type\": \"bar\", \"x\": [\"CL\\u00c1SICOS\"], \"xaxis\": \"x\", \"y\": [1.0], \"yaxis\": \"y\"}, {\"alignmentgroup\": \"True\", \"hoverlabel\": {\"namelength\": 0}, \"hovertemplate\": \"Clave platillo=MCL\\u00c16<br>Grupo=%{x}<br>Cantidad=%{y}\", \"legendgroup\": \"Clave platillo=MCL\\u00c16\", \"marker\": {\"color\": \"#EF553B\"}, \"name\": \"Clave platillo=MCL\\u00c16\", \"offsetgroup\": \"Clave platillo=MCL\\u00c16\", \"orientation\": \"v\", \"showlegend\": true, \"textposition\": \"auto\", \"type\": \"bar\", \"x\": [\"CL\\u00c1SICOS\"], \"xaxis\": \"x\", \"y\": [12.0], \"yaxis\": \"y\"}, {\"alignmentgroup\": \"True\", \"hoverlabel\": {\"namelength\": 0}, \"hovertemplate\": \"Clave platillo=MCL\\u00c159<br>Grupo=%{x}<br>Cantidad=%{y}\", \"legendgroup\": \"Clave platillo=MCL\\u00c159\", \"marker\": {\"color\": \"#00cc96\"}, \"name\": \"Clave platillo=MCL\\u00c159\", \"offsetgroup\": \"Clave platillo=MCL\\u00c159\", \"orientation\": \"v\", \"showlegend\": true, \"textposition\": \"auto\", \"type\": \"bar\", \"x\": [\"CL\\u00c1SICOS\"], \"xaxis\": \"x\", \"y\": [1.0], \"yaxis\": \"y\"}, {\"alignmentgroup\": \"True\", \"hoverlabel\": {\"namelength\": 0}, \"hovertemplate\": \"Clave platillo=MCL\\u00c158<br>Grupo=%{x}<br>Cantidad=%{y}\", \"legendgroup\": \"Clave platillo=MCL\\u00c158\", \"marker\": {\"color\": \"#ab63fa\"}, \"name\": \"Clave platillo=MCL\\u00c158\", \"offsetgroup\": \"Clave platillo=MCL\\u00c158\", \"orientation\": \"v\", \"showlegend\": true, \"textposition\": \"auto\", \"type\": \"bar\", \"x\": [\"CL\\u00c1SICOS\"], \"xaxis\": \"x\", \"y\": [1.0], \"yaxis\": \"y\"}, {\"alignmentgroup\": \"True\", \"hoverlabel\": {\"namelength\": 0}, \"hovertemplate\": \"Clave platillo=MCL\\u00c157<br>Grupo=%{x}<br>Cantidad=%{y}\", \"legendgroup\": \"Clave platillo=MCL\\u00c157\", \"marker\": {\"color\": \"#FFA15A\"}, \"name\": \"Clave platillo=MCL\\u00c157\", \"offsetgroup\": \"Clave platillo=MCL\\u00c157\", \"orientation\": \"v\", \"showlegend\": true, \"textposition\": \"auto\", \"type\": \"bar\", \"x\": [\"CL\\u00c1SICOS\"], \"xaxis\": \"x\", \"y\": [328.0], \"yaxis\": \"y\"}, {\"alignmentgroup\": \"True\", \"hoverlabel\": {\"namelength\": 0}, \"hovertemplate\": \"Clave platillo=MCL\\u00c156<br>Grupo=%{x}<br>Cantidad=%{y}\", \"legendgroup\": \"Clave platillo=MCL\\u00c156\", \"marker\": {\"color\": \"#19d3f3\"}, \"name\": \"Clave platillo=MCL\\u00c156\", \"offsetgroup\": \"Clave platillo=MCL\\u00c156\", \"orientation\": \"v\", \"showlegend\": true, \"textposition\": \"auto\", \"type\": \"bar\", \"x\": [\"CL\\u00c1SICOS\"], \"xaxis\": \"x\", \"y\": [20.0], \"yaxis\": \"y\"}, {\"alignmentgroup\": \"True\", \"hoverlabel\": {\"namelength\": 0}, \"hovertemplate\": \"Clave platillo=MCL\\u00c155<br>Grupo=%{x}<br>Cantidad=%{y}\", \"legendgroup\": \"Clave platillo=MCL\\u00c155\", \"marker\": {\"color\": \"#FF6692\"}, \"name\": \"Clave platillo=MCL\\u00c155\", \"offsetgroup\": \"Clave platillo=MCL\\u00c155\", \"orientation\": \"v\", \"showlegend\": true, \"textposition\": \"auto\", \"type\": \"bar\", \"x\": [\"CL\\u00c1SICOS\"], \"xaxis\": \"x\", \"y\": [8.0], \"yaxis\": \"y\"}, {\"alignmentgroup\": \"True\", \"hoverlabel\": {\"namelength\": 0}, \"hovertemplate\": \"Clave platillo=MCL\\u00c154<br>Grupo=%{x}<br>Cantidad=%{y}\", \"legendgroup\": \"Clave platillo=MCL\\u00c154\", \"marker\": {\"color\": \"#B6E880\"}, \"name\": \"Clave platillo=MCL\\u00c154\", \"offsetgroup\": \"Clave platillo=MCL\\u00c154\", \"orientation\": \"v\", \"showlegend\": true, \"textposition\": \"auto\", \"type\": \"bar\", \"x\": [\"CL\\u00c1SICOS\"], \"xaxis\": \"x\", \"y\": [516.0], \"yaxis\": \"y\"}, {\"alignmentgroup\": \"True\", \"hoverlabel\": {\"namelength\": 0}, \"hovertemplate\": \"Clave platillo=MCL\\u00c153<br>Grupo=%{x}<br>Cantidad=%{y}\", \"legendgroup\": \"Clave platillo=MCL\\u00c153\", \"marker\": {\"color\": \"#FF97FF\"}, \"name\": \"Clave platillo=MCL\\u00c153\", \"offsetgroup\": \"Clave platillo=MCL\\u00c153\", \"orientation\": \"v\", \"showlegend\": true, \"textposition\": \"auto\", \"type\": \"bar\", \"x\": [\"CL\\u00c1SICOS\"], \"xaxis\": \"x\", \"y\": [195.0], \"yaxis\": \"y\"}, {\"alignmentgroup\": \"True\", \"hoverlabel\": {\"namelength\": 0}, \"hovertemplate\": \"Clave platillo=MCL\\u00c152<br>Grupo=%{x}<br>Cantidad=%{y}\", \"legendgroup\": \"Clave platillo=MCL\\u00c152\", \"marker\": {\"color\": \"#FECB52\"}, \"name\": \"Clave platillo=MCL\\u00c152\", \"offsetgroup\": \"Clave platillo=MCL\\u00c152\", \"orientation\": \"v\", \"showlegend\": true, \"textposition\": \"auto\", \"type\": \"bar\", \"x\": [\"CL\\u00c1SICOS\"], \"xaxis\": \"x\", \"y\": [4.0], \"yaxis\": \"y\"}, {\"alignmentgroup\": \"True\", \"hoverlabel\": {\"namelength\": 0}, \"hovertemplate\": \"Clave platillo=MCL\\u00c151<br>Grupo=%{x}<br>Cantidad=%{y}\", \"legendgroup\": \"Clave platillo=MCL\\u00c151\", \"marker\": {\"color\": \"#636efa\"}, \"name\": \"Clave platillo=MCL\\u00c151\", \"offsetgroup\": \"Clave platillo=MCL\\u00c151\", \"orientation\": \"v\", \"showlegend\": true, \"textposition\": \"auto\", \"type\": \"bar\", \"x\": [\"CL\\u00c1SICOS\"], \"xaxis\": \"x\", \"y\": [6.0], \"yaxis\": \"y\"}, {\"alignmentgroup\": \"True\", \"hoverlabel\": {\"namelength\": 0}, \"hovertemplate\": \"Clave platillo=MCL\\u00c150<br>Grupo=%{x}<br>Cantidad=%{y}\", \"legendgroup\": \"Clave platillo=MCL\\u00c150\", \"marker\": {\"color\": \"#EF553B\"}, \"name\": \"Clave platillo=MCL\\u00c150\", \"offsetgroup\": \"Clave platillo=MCL\\u00c150\", \"orientation\": \"v\", \"showlegend\": true, \"textposition\": \"auto\", \"type\": \"bar\", \"x\": [\"CL\\u00c1SICOS\"], \"xaxis\": \"x\", \"y\": [572.0], \"yaxis\": \"y\"}, {\"alignmentgroup\": \"True\", \"hoverlabel\": {\"namelength\": 0}, \"hovertemplate\": \"Clave platillo=MCL\\u00c15<br>Grupo=%{x}<br>Cantidad=%{y}\", \"legendgroup\": \"Clave platillo=MCL\\u00c15\", \"marker\": {\"color\": \"#00cc96\"}, \"name\": \"Clave platillo=MCL\\u00c15\", \"offsetgroup\": \"Clave platillo=MCL\\u00c15\", \"orientation\": \"v\", \"showlegend\": true, \"textposition\": \"auto\", \"type\": \"bar\", \"x\": [\"CL\\u00c1SICOS\"], \"xaxis\": \"x\", \"y\": [5.0], \"yaxis\": \"y\"}, {\"alignmentgroup\": \"True\", \"hoverlabel\": {\"namelength\": 0}, \"hovertemplate\": \"Clave platillo=MCL\\u00c149<br>Grupo=%{x}<br>Cantidad=%{y}\", \"legendgroup\": \"Clave platillo=MCL\\u00c149\", \"marker\": {\"color\": \"#ab63fa\"}, \"name\": \"Clave platillo=MCL\\u00c149\", \"offsetgroup\": \"Clave platillo=MCL\\u00c149\", \"orientation\": \"v\", \"showlegend\": true, \"textposition\": \"auto\", \"type\": \"bar\", \"x\": [\"CL\\u00c1SICOS\"], \"xaxis\": \"x\", \"y\": [491.0], \"yaxis\": \"y\"}, {\"alignmentgroup\": \"True\", \"hoverlabel\": {\"namelength\": 0}, \"hovertemplate\": \"Clave platillo=MCL\\u00c148<br>Grupo=%{x}<br>Cantidad=%{y}\", \"legendgroup\": \"Clave platillo=MCL\\u00c148\", \"marker\": {\"color\": \"#FFA15A\"}, \"name\": \"Clave platillo=MCL\\u00c148\", \"offsetgroup\": \"Clave platillo=MCL\\u00c148\", \"orientation\": \"v\", \"showlegend\": true, \"textposition\": \"auto\", \"type\": \"bar\", \"x\": [\"CL\\u00c1SICOS\"], \"xaxis\": \"x\", \"y\": [3.0], \"yaxis\": \"y\"}, {\"alignmentgroup\": \"True\", \"hoverlabel\": {\"namelength\": 0}, \"hovertemplate\": \"Clave platillo=MCL\\u00c147<br>Grupo=%{x}<br>Cantidad=%{y}\", \"legendgroup\": \"Clave platillo=MCL\\u00c147\", \"marker\": {\"color\": \"#19d3f3\"}, \"name\": \"Clave platillo=MCL\\u00c147\", \"offsetgroup\": \"Clave platillo=MCL\\u00c147\", \"orientation\": \"v\", \"showlegend\": true, \"textposition\": \"auto\", \"type\": \"bar\", \"x\": [\"CL\\u00c1SICOS\"], \"xaxis\": \"x\", \"y\": [3.0], \"yaxis\": \"y\"}, {\"alignmentgroup\": \"True\", \"hoverlabel\": {\"namelength\": 0}, \"hovertemplate\": \"Clave platillo=MCL\\u00c146<br>Grupo=%{x}<br>Cantidad=%{y}\", \"legendgroup\": \"Clave platillo=MCL\\u00c146\", \"marker\": {\"color\": \"#FF6692\"}, \"name\": \"Clave platillo=MCL\\u00c146\", \"offsetgroup\": \"Clave platillo=MCL\\u00c146\", \"orientation\": \"v\", \"showlegend\": true, \"textposition\": \"auto\", \"type\": \"bar\", \"x\": [\"CL\\u00c1SICOS\"], \"xaxis\": \"x\", \"y\": [3.0], \"yaxis\": \"y\"}, {\"alignmentgroup\": \"True\", \"hoverlabel\": {\"namelength\": 0}, \"hovertemplate\": \"Clave platillo=MCL\\u00c145<br>Grupo=%{x}<br>Cantidad=%{y}\", \"legendgroup\": \"Clave platillo=MCL\\u00c145\", \"marker\": {\"color\": \"#B6E880\"}, \"name\": \"Clave platillo=MCL\\u00c145\", \"offsetgroup\": \"Clave platillo=MCL\\u00c145\", \"orientation\": \"v\", \"showlegend\": true, \"textposition\": \"auto\", \"type\": \"bar\", \"x\": [\"CL\\u00c1SICOS\"], \"xaxis\": \"x\", \"y\": [5.0], \"yaxis\": \"y\"}, {\"alignmentgroup\": \"True\", \"hoverlabel\": {\"namelength\": 0}, \"hovertemplate\": \"Clave platillo=MCL\\u00c144<br>Grupo=%{x}<br>Cantidad=%{y}\", \"legendgroup\": \"Clave platillo=MCL\\u00c144\", \"marker\": {\"color\": \"#FF97FF\"}, \"name\": \"Clave platillo=MCL\\u00c144\", \"offsetgroup\": \"Clave platillo=MCL\\u00c144\", \"orientation\": \"v\", \"showlegend\": true, \"textposition\": \"auto\", \"type\": \"bar\", \"x\": [\"CL\\u00c1SICOS\"], \"xaxis\": \"x\", \"y\": [14.0], \"yaxis\": \"y\"}, {\"alignmentgroup\": \"True\", \"hoverlabel\": {\"namelength\": 0}, \"hovertemplate\": \"Clave platillo=MCL\\u00c143<br>Grupo=%{x}<br>Cantidad=%{y}\", \"legendgroup\": \"Clave platillo=MCL\\u00c143\", \"marker\": {\"color\": \"#FECB52\"}, \"name\": \"Clave platillo=MCL\\u00c143\", \"offsetgroup\": \"Clave platillo=MCL\\u00c143\", \"orientation\": \"v\", \"showlegend\": true, \"textposition\": \"auto\", \"type\": \"bar\", \"x\": [\"CL\\u00c1SICOS\"], \"xaxis\": \"x\", \"y\": [12.0], \"yaxis\": \"y\"}, {\"alignmentgroup\": \"True\", \"hoverlabel\": {\"namelength\": 0}, \"hovertemplate\": \"Clave platillo=MCL\\u00c142<br>Grupo=%{x}<br>Cantidad=%{y}\", \"legendgroup\": \"Clave platillo=MCL\\u00c142\", \"marker\": {\"color\": \"#636efa\"}, \"name\": \"Clave platillo=MCL\\u00c142\", \"offsetgroup\": \"Clave platillo=MCL\\u00c142\", \"orientation\": \"v\", \"showlegend\": true, \"textposition\": \"auto\", \"type\": \"bar\", \"x\": [\"CL\\u00c1SICOS\"], \"xaxis\": \"x\", \"y\": [43.0], \"yaxis\": \"y\"}, {\"alignmentgroup\": \"True\", \"hoverlabel\": {\"namelength\": 0}, \"hovertemplate\": \"Clave platillo=MCL\\u00c141<br>Grupo=%{x}<br>Cantidad=%{y}\", \"legendgroup\": \"Clave platillo=MCL\\u00c141\", \"marker\": {\"color\": \"#EF553B\"}, \"name\": \"Clave platillo=MCL\\u00c141\", \"offsetgroup\": \"Clave platillo=MCL\\u00c141\", \"orientation\": \"v\", \"showlegend\": true, \"textposition\": \"auto\", \"type\": \"bar\", \"x\": [\"CL\\u00c1SICOS\"], \"xaxis\": \"x\", \"y\": [47.0], \"yaxis\": \"y\"}, {\"alignmentgroup\": \"True\", \"hoverlabel\": {\"namelength\": 0}, \"hovertemplate\": \"Clave platillo=MCL\\u00c140<br>Grupo=%{x}<br>Cantidad=%{y}\", \"legendgroup\": \"Clave platillo=MCL\\u00c140\", \"marker\": {\"color\": \"#00cc96\"}, \"name\": \"Clave platillo=MCL\\u00c140\", \"offsetgroup\": \"Clave platillo=MCL\\u00c140\", \"orientation\": \"v\", \"showlegend\": true, \"textposition\": \"auto\", \"type\": \"bar\", \"x\": [\"CL\\u00c1SICOS\"], \"xaxis\": \"x\", \"y\": [2.0], \"yaxis\": \"y\"}, {\"alignmentgroup\": \"True\", \"hoverlabel\": {\"namelength\": 0}, \"hovertemplate\": \"Clave platillo=MCL\\u00c14<br>Grupo=%{x}<br>Cantidad=%{y}\", \"legendgroup\": \"Clave platillo=MCL\\u00c14\", \"marker\": {\"color\": \"#ab63fa\"}, \"name\": \"Clave platillo=MCL\\u00c14\", \"offsetgroup\": \"Clave platillo=MCL\\u00c14\", \"orientation\": \"v\", \"showlegend\": true, \"textposition\": \"auto\", \"type\": \"bar\", \"x\": [\"CL\\u00c1SICOS\"], \"xaxis\": \"x\", \"y\": [12.0], \"yaxis\": \"y\"}, {\"alignmentgroup\": \"True\", \"hoverlabel\": {\"namelength\": 0}, \"hovertemplate\": \"Clave platillo=MCL\\u00c139<br>Grupo=%{x}<br>Cantidad=%{y}\", \"legendgroup\": \"Clave platillo=MCL\\u00c139\", \"marker\": {\"color\": \"#FFA15A\"}, \"name\": \"Clave platillo=MCL\\u00c139\", \"offsetgroup\": \"Clave platillo=MCL\\u00c139\", \"orientation\": \"v\", \"showlegend\": true, \"textposition\": \"auto\", \"type\": \"bar\", \"x\": [\"CL\\u00c1SICOS\"], \"xaxis\": \"x\", \"y\": [1.0], \"yaxis\": \"y\"}, {\"alignmentgroup\": \"True\", \"hoverlabel\": {\"namelength\": 0}, \"hovertemplate\": \"Clave platillo=MCL\\u00c138<br>Grupo=%{x}<br>Cantidad=%{y}\", \"legendgroup\": \"Clave platillo=MCL\\u00c138\", \"marker\": {\"color\": \"#19d3f3\"}, \"name\": \"Clave platillo=MCL\\u00c138\", \"offsetgroup\": \"Clave platillo=MCL\\u00c138\", \"orientation\": \"v\", \"showlegend\": true, \"textposition\": \"auto\", \"type\": \"bar\", \"x\": [\"CL\\u00c1SICOS\"], \"xaxis\": \"x\", \"y\": [4.0], \"yaxis\": \"y\"}, {\"alignmentgroup\": \"True\", \"hoverlabel\": {\"namelength\": 0}, \"hovertemplate\": \"Clave platillo=MCL\\u00c137<br>Grupo=%{x}<br>Cantidad=%{y}\", \"legendgroup\": \"Clave platillo=MCL\\u00c137\", \"marker\": {\"color\": \"#FF6692\"}, \"name\": \"Clave platillo=MCL\\u00c137\", \"offsetgroup\": \"Clave platillo=MCL\\u00c137\", \"orientation\": \"v\", \"showlegend\": true, \"textposition\": \"auto\", \"type\": \"bar\", \"x\": [\"CL\\u00c1SICOS\"], \"xaxis\": \"x\", \"y\": [1.0], \"yaxis\": \"y\"}, {\"alignmentgroup\": \"True\", \"hoverlabel\": {\"namelength\": 0}, \"hovertemplate\": \"Clave platillo=MCL\\u00c136<br>Grupo=%{x}<br>Cantidad=%{y}\", \"legendgroup\": \"Clave platillo=MCL\\u00c136\", \"marker\": {\"color\": \"#B6E880\"}, \"name\": \"Clave platillo=MCL\\u00c136\", \"offsetgroup\": \"Clave platillo=MCL\\u00c136\", \"orientation\": \"v\", \"showlegend\": true, \"textposition\": \"auto\", \"type\": \"bar\", \"x\": [\"CL\\u00c1SICOS\"], \"xaxis\": \"x\", \"y\": [5.0], \"yaxis\": \"y\"}, {\"alignmentgroup\": \"True\", \"hoverlabel\": {\"namelength\": 0}, \"hovertemplate\": \"Clave platillo=MCL\\u00c135<br>Grupo=%{x}<br>Cantidad=%{y}\", \"legendgroup\": \"Clave platillo=MCL\\u00c135\", \"marker\": {\"color\": \"#FF97FF\"}, \"name\": \"Clave platillo=MCL\\u00c135\", \"offsetgroup\": \"Clave platillo=MCL\\u00c135\", \"orientation\": \"v\", \"showlegend\": true, \"textposition\": \"auto\", \"type\": \"bar\", \"x\": [\"CL\\u00c1SICOS\"], \"xaxis\": \"x\", \"y\": [1.0], \"yaxis\": \"y\"}, {\"alignmentgroup\": \"True\", \"hoverlabel\": {\"namelength\": 0}, \"hovertemplate\": \"Clave platillo=MCL\\u00c134<br>Grupo=%{x}<br>Cantidad=%{y}\", \"legendgroup\": \"Clave platillo=MCL\\u00c134\", \"marker\": {\"color\": \"#FECB52\"}, \"name\": \"Clave platillo=MCL\\u00c134\", \"offsetgroup\": \"Clave platillo=MCL\\u00c134\", \"orientation\": \"v\", \"showlegend\": true, \"textposition\": \"auto\", \"type\": \"bar\", \"x\": [\"CL\\u00c1SICOS\"], \"xaxis\": \"x\", \"y\": [88.0], \"yaxis\": \"y\"}, {\"alignmentgroup\": \"True\", \"hoverlabel\": {\"namelength\": 0}, \"hovertemplate\": \"Clave platillo=MCL\\u00c133<br>Grupo=%{x}<br>Cantidad=%{y}\", \"legendgroup\": \"Clave platillo=MCL\\u00c133\", \"marker\": {\"color\": \"#636efa\"}, \"name\": \"Clave platillo=MCL\\u00c133\", \"offsetgroup\": \"Clave platillo=MCL\\u00c133\", \"orientation\": \"v\", \"showlegend\": true, \"textposition\": \"auto\", \"type\": \"bar\", \"x\": [\"CL\\u00c1SICOS\"], \"xaxis\": \"x\", \"y\": [18.0], \"yaxis\": \"y\"}, {\"alignmentgroup\": \"True\", \"hoverlabel\": {\"namelength\": 0}, \"hovertemplate\": \"Clave platillo=MCL\\u00c132<br>Grupo=%{x}<br>Cantidad=%{y}\", \"legendgroup\": \"Clave platillo=MCL\\u00c132\", \"marker\": {\"color\": \"#EF553B\"}, \"name\": \"Clave platillo=MCL\\u00c132\", \"offsetgroup\": \"Clave platillo=MCL\\u00c132\", \"orientation\": \"v\", \"showlegend\": true, \"textposition\": \"auto\", \"type\": \"bar\", \"x\": [\"CL\\u00c1SICOS\"], \"xaxis\": \"x\", \"y\": [13.0], \"yaxis\": \"y\"}, {\"alignmentgroup\": \"True\", \"hoverlabel\": {\"namelength\": 0}, \"hovertemplate\": \"Clave platillo=MCL\\u00c131<br>Grupo=%{x}<br>Cantidad=%{y}\", \"legendgroup\": \"Clave platillo=MCL\\u00c131\", \"marker\": {\"color\": \"#00cc96\"}, \"name\": \"Clave platillo=MCL\\u00c131\", \"offsetgroup\": \"Clave platillo=MCL\\u00c131\", \"orientation\": \"v\", \"showlegend\": true, \"textposition\": \"auto\", \"type\": \"bar\", \"x\": [\"CL\\u00c1SICOS\"], \"xaxis\": \"x\", \"y\": [13.0], \"yaxis\": \"y\"}, {\"alignmentgroup\": \"True\", \"hoverlabel\": {\"namelength\": 0}, \"hovertemplate\": \"Clave platillo=MCL\\u00c130<br>Grupo=%{x}<br>Cantidad=%{y}\", \"legendgroup\": \"Clave platillo=MCL\\u00c130\", \"marker\": {\"color\": \"#ab63fa\"}, \"name\": \"Clave platillo=MCL\\u00c130\", \"offsetgroup\": \"Clave platillo=MCL\\u00c130\", \"orientation\": \"v\", \"showlegend\": true, \"textposition\": \"auto\", \"type\": \"bar\", \"x\": [\"CL\\u00c1SICOS\"], \"xaxis\": \"x\", \"y\": [28.0], \"yaxis\": \"y\"}, {\"alignmentgroup\": \"True\", \"hoverlabel\": {\"namelength\": 0}, \"hovertemplate\": \"Clave platillo=MCL\\u00c128<br>Grupo=%{x}<br>Cantidad=%{y}\", \"legendgroup\": \"Clave platillo=MCL\\u00c128\", \"marker\": {\"color\": \"#FFA15A\"}, \"name\": \"Clave platillo=MCL\\u00c128\", \"offsetgroup\": \"Clave platillo=MCL\\u00c128\", \"orientation\": \"v\", \"showlegend\": true, \"textposition\": \"auto\", \"type\": \"bar\", \"x\": [\"CL\\u00c1SICOS\"], \"xaxis\": \"x\", \"y\": [25.0], \"yaxis\": \"y\"}, {\"alignmentgroup\": \"True\", \"hoverlabel\": {\"namelength\": 0}, \"hovertemplate\": \"Clave platillo=MCL\\u00c127<br>Grupo=%{x}<br>Cantidad=%{y}\", \"legendgroup\": \"Clave platillo=MCL\\u00c127\", \"marker\": {\"color\": \"#19d3f3\"}, \"name\": \"Clave platillo=MCL\\u00c127\", \"offsetgroup\": \"Clave platillo=MCL\\u00c127\", \"orientation\": \"v\", \"showlegend\": true, \"textposition\": \"auto\", \"type\": \"bar\", \"x\": [\"CL\\u00c1SICOS\"], \"xaxis\": \"x\", \"y\": [9.0], \"yaxis\": \"y\"}, {\"alignmentgroup\": \"True\", \"hoverlabel\": {\"namelength\": 0}, \"hovertemplate\": \"Clave platillo=MCL\\u00c126<br>Grupo=%{x}<br>Cantidad=%{y}\", \"legendgroup\": \"Clave platillo=MCL\\u00c126\", \"marker\": {\"color\": \"#FF6692\"}, \"name\": \"Clave platillo=MCL\\u00c126\", \"offsetgroup\": \"Clave platillo=MCL\\u00c126\", \"orientation\": \"v\", \"showlegend\": true, \"textposition\": \"auto\", \"type\": \"bar\", \"x\": [\"CL\\u00c1SICOS\"], \"xaxis\": \"x\", \"y\": [1.0], \"yaxis\": \"y\"}, {\"alignmentgroup\": \"True\", \"hoverlabel\": {\"namelength\": 0}, \"hovertemplate\": \"Clave platillo=MCL\\u00c125<br>Grupo=%{x}<br>Cantidad=%{y}\", \"legendgroup\": \"Clave platillo=MCL\\u00c125\", \"marker\": {\"color\": \"#B6E880\"}, \"name\": \"Clave platillo=MCL\\u00c125\", \"offsetgroup\": \"Clave platillo=MCL\\u00c125\", \"orientation\": \"v\", \"showlegend\": true, \"textposition\": \"auto\", \"type\": \"bar\", \"x\": [\"CL\\u00c1SICOS\"], \"xaxis\": \"x\", \"y\": [804.0], \"yaxis\": \"y\"}, {\"alignmentgroup\": \"True\", \"hoverlabel\": {\"namelength\": 0}, \"hovertemplate\": \"Clave platillo=MCL\\u00c124<br>Grupo=%{x}<br>Cantidad=%{y}\", \"legendgroup\": \"Clave platillo=MCL\\u00c124\", \"marker\": {\"color\": \"#FF97FF\"}, \"name\": \"Clave platillo=MCL\\u00c124\", \"offsetgroup\": \"Clave platillo=MCL\\u00c124\", \"orientation\": \"v\", \"showlegend\": true, \"textposition\": \"auto\", \"type\": \"bar\", \"x\": [\"CL\\u00c1SICOS\"], \"xaxis\": \"x\", \"y\": [39.0], \"yaxis\": \"y\"}, {\"alignmentgroup\": \"True\", \"hoverlabel\": {\"namelength\": 0}, \"hovertemplate\": \"Clave platillo=MCL\\u00c123<br>Grupo=%{x}<br>Cantidad=%{y}\", \"legendgroup\": \"Clave platillo=MCL\\u00c123\", \"marker\": {\"color\": \"#FECB52\"}, \"name\": \"Clave platillo=MCL\\u00c123\", \"offsetgroup\": \"Clave platillo=MCL\\u00c123\", \"orientation\": \"v\", \"showlegend\": true, \"textposition\": \"auto\", \"type\": \"bar\", \"x\": [\"CL\\u00c1SICOS\"], \"xaxis\": \"x\", \"y\": [56.0], \"yaxis\": \"y\"}, {\"alignmentgroup\": \"True\", \"hoverlabel\": {\"namelength\": 0}, \"hovertemplate\": \"Clave platillo=MCL\\u00c122<br>Grupo=%{x}<br>Cantidad=%{y}\", \"legendgroup\": \"Clave platillo=MCL\\u00c122\", \"marker\": {\"color\": \"#636efa\"}, \"name\": \"Clave platillo=MCL\\u00c122\", \"offsetgroup\": \"Clave platillo=MCL\\u00c122\", \"orientation\": \"v\", \"showlegend\": true, \"textposition\": \"auto\", \"type\": \"bar\", \"x\": [\"CL\\u00c1SICOS\"], \"xaxis\": \"x\", \"y\": [58.0], \"yaxis\": \"y\"}, {\"alignmentgroup\": \"True\", \"hoverlabel\": {\"namelength\": 0}, \"hovertemplate\": \"Clave platillo=MCL\\u00c121<br>Grupo=%{x}<br>Cantidad=%{y}\", \"legendgroup\": \"Clave platillo=MCL\\u00c121\", \"marker\": {\"color\": \"#EF553B\"}, \"name\": \"Clave platillo=MCL\\u00c121\", \"offsetgroup\": \"Clave platillo=MCL\\u00c121\", \"orientation\": \"v\", \"showlegend\": true, \"textposition\": \"auto\", \"type\": \"bar\", \"x\": [\"CL\\u00c1SICOS\"], \"xaxis\": \"x\", \"y\": [62.0], \"yaxis\": \"y\"}, {\"alignmentgroup\": \"True\", \"hoverlabel\": {\"namelength\": 0}, \"hovertemplate\": \"Clave platillo=MCL\\u00c120<br>Grupo=%{x}<br>Cantidad=%{y}\", \"legendgroup\": \"Clave platillo=MCL\\u00c120\", \"marker\": {\"color\": \"#00cc96\"}, \"name\": \"Clave platillo=MCL\\u00c120\", \"offsetgroup\": \"Clave platillo=MCL\\u00c120\", \"orientation\": \"v\", \"showlegend\": true, \"textposition\": \"auto\", \"type\": \"bar\", \"x\": [\"CL\\u00c1SICOS\"], \"xaxis\": \"x\", \"y\": [13.0], \"yaxis\": \"y\"}, {\"alignmentgroup\": \"True\", \"hoverlabel\": {\"namelength\": 0}, \"hovertemplate\": \"Clave platillo=MCL\\u00c12<br>Grupo=%{x}<br>Cantidad=%{y}\", \"legendgroup\": \"Clave platillo=MCL\\u00c12\", \"marker\": {\"color\": \"#ab63fa\"}, \"name\": \"Clave platillo=MCL\\u00c12\", \"offsetgroup\": \"Clave platillo=MCL\\u00c12\", \"orientation\": \"v\", \"showlegend\": true, \"textposition\": \"auto\", \"type\": \"bar\", \"x\": [\"CL\\u00c1SICOS\"], \"xaxis\": \"x\", \"y\": [14.0], \"yaxis\": \"y\"}, {\"alignmentgroup\": \"True\", \"hoverlabel\": {\"namelength\": 0}, \"hovertemplate\": \"Clave platillo=MCL\\u00c119<br>Grupo=%{x}<br>Cantidad=%{y}\", \"legendgroup\": \"Clave platillo=MCL\\u00c119\", \"marker\": {\"color\": \"#FFA15A\"}, \"name\": \"Clave platillo=MCL\\u00c119\", \"offsetgroup\": \"Clave platillo=MCL\\u00c119\", \"orientation\": \"v\", \"showlegend\": true, \"textposition\": \"auto\", \"type\": \"bar\", \"x\": [\"CL\\u00c1SICOS\"], \"xaxis\": \"x\", \"y\": [100.0], \"yaxis\": \"y\"}, {\"alignmentgroup\": \"True\", \"hoverlabel\": {\"namelength\": 0}, \"hovertemplate\": \"Clave platillo=MCL\\u00c118<br>Grupo=%{x}<br>Cantidad=%{y}\", \"legendgroup\": \"Clave platillo=MCL\\u00c118\", \"marker\": {\"color\": \"#19d3f3\"}, \"name\": \"Clave platillo=MCL\\u00c118\", \"offsetgroup\": \"Clave platillo=MCL\\u00c118\", \"orientation\": \"v\", \"showlegend\": true, \"textposition\": \"auto\", \"type\": \"bar\", \"x\": [\"CL\\u00c1SICOS\"], \"xaxis\": \"x\", \"y\": [44.0], \"yaxis\": \"y\"}, {\"alignmentgroup\": \"True\", \"hoverlabel\": {\"namelength\": 0}, \"hovertemplate\": \"Clave platillo=MCL\\u00c117<br>Grupo=%{x}<br>Cantidad=%{y}\", \"legendgroup\": \"Clave platillo=MCL\\u00c117\", \"marker\": {\"color\": \"#FF6692\"}, \"name\": \"Clave platillo=MCL\\u00c117\", \"offsetgroup\": \"Clave platillo=MCL\\u00c117\", \"orientation\": \"v\", \"showlegend\": true, \"textposition\": \"auto\", \"type\": \"bar\", \"x\": [\"CL\\u00c1SICOS\"], \"xaxis\": \"x\", \"y\": [35.0], \"yaxis\": \"y\"}, {\"alignmentgroup\": \"True\", \"hoverlabel\": {\"namelength\": 0}, \"hovertemplate\": \"Clave platillo=MCL\\u00c116<br>Grupo=%{x}<br>Cantidad=%{y}\", \"legendgroup\": \"Clave platillo=MCL\\u00c116\", \"marker\": {\"color\": \"#B6E880\"}, \"name\": \"Clave platillo=MCL\\u00c116\", \"offsetgroup\": \"Clave platillo=MCL\\u00c116\", \"orientation\": \"v\", \"showlegend\": true, \"textposition\": \"auto\", \"type\": \"bar\", \"x\": [\"CL\\u00c1SICOS\"], \"xaxis\": \"x\", \"y\": [12.0], \"yaxis\": \"y\"}, {\"alignmentgroup\": \"True\", \"hoverlabel\": {\"namelength\": 0}, \"hovertemplate\": \"Clave platillo=MCL\\u00c115<br>Grupo=%{x}<br>Cantidad=%{y}\", \"legendgroup\": \"Clave platillo=MCL\\u00c115\", \"marker\": {\"color\": \"#FF97FF\"}, \"name\": \"Clave platillo=MCL\\u00c115\", \"offsetgroup\": \"Clave platillo=MCL\\u00c115\", \"orientation\": \"v\", \"showlegend\": true, \"textposition\": \"auto\", \"type\": \"bar\", \"x\": [\"CL\\u00c1SICOS\"], \"xaxis\": \"x\", \"y\": [9.0], \"yaxis\": \"y\"}, {\"alignmentgroup\": \"True\", \"hoverlabel\": {\"namelength\": 0}, \"hovertemplate\": \"Clave platillo=MCL\\u00c114<br>Grupo=%{x}<br>Cantidad=%{y}\", \"legendgroup\": \"Clave platillo=MCL\\u00c114\", \"marker\": {\"color\": \"#FECB52\"}, \"name\": \"Clave platillo=MCL\\u00c114\", \"offsetgroup\": \"Clave platillo=MCL\\u00c114\", \"orientation\": \"v\", \"showlegend\": true, \"textposition\": \"auto\", \"type\": \"bar\", \"x\": [\"CL\\u00c1SICOS\"], \"xaxis\": \"x\", \"y\": [8.0], \"yaxis\": \"y\"}, {\"alignmentgroup\": \"True\", \"hoverlabel\": {\"namelength\": 0}, \"hovertemplate\": \"Clave platillo=MCL\\u00c113<br>Grupo=%{x}<br>Cantidad=%{y}\", \"legendgroup\": \"Clave platillo=MCL\\u00c113\", \"marker\": {\"color\": \"#636efa\"}, \"name\": \"Clave platillo=MCL\\u00c113\", \"offsetgroup\": \"Clave platillo=MCL\\u00c113\", \"orientation\": \"v\", \"showlegend\": true, \"textposition\": \"auto\", \"type\": \"bar\", \"x\": [\"CL\\u00c1SICOS\"], \"xaxis\": \"x\", \"y\": [7.0], \"yaxis\": \"y\"}, {\"alignmentgroup\": \"True\", \"hoverlabel\": {\"namelength\": 0}, \"hovertemplate\": \"Clave platillo=MCL\\u00c111<br>Grupo=%{x}<br>Cantidad=%{y}\", \"legendgroup\": \"Clave platillo=MCL\\u00c111\", \"marker\": {\"color\": \"#EF553B\"}, \"name\": \"Clave platillo=MCL\\u00c111\", \"offsetgroup\": \"Clave platillo=MCL\\u00c111\", \"orientation\": \"v\", \"showlegend\": true, \"textposition\": \"auto\", \"type\": \"bar\", \"x\": [\"CL\\u00c1SICOS\"], \"xaxis\": \"x\", \"y\": [3.0], \"yaxis\": \"y\"}, {\"alignmentgroup\": \"True\", \"hoverlabel\": {\"namelength\": 0}, \"hovertemplate\": \"Clave platillo=MCL\\u00c110<br>Grupo=%{x}<br>Cantidad=%{y}\", \"legendgroup\": \"Clave platillo=MCL\\u00c110\", \"marker\": {\"color\": \"#00cc96\"}, \"name\": \"Clave platillo=MCL\\u00c110\", \"offsetgroup\": \"Clave platillo=MCL\\u00c110\", \"orientation\": \"v\", \"showlegend\": true, \"textposition\": \"auto\", \"type\": \"bar\", \"x\": [\"CL\\u00c1SICOS\"], \"xaxis\": \"x\", \"y\": [4.0], \"yaxis\": \"y\"}, {\"alignmentgroup\": \"True\", \"hoverlabel\": {\"namelength\": 0}, \"hovertemplate\": \"Clave platillo=MCL\\u00c11<br>Grupo=%{x}<br>Cantidad=%{y}\", \"legendgroup\": \"Clave platillo=MCL\\u00c11\", \"marker\": {\"color\": \"#ab63fa\"}, \"name\": \"Clave platillo=MCL\\u00c11\", \"offsetgroup\": \"Clave platillo=MCL\\u00c11\", \"orientation\": \"v\", \"showlegend\": true, \"textposition\": \"auto\", \"type\": \"bar\", \"x\": [\"CL\\u00c1SICOS\"], \"xaxis\": \"x\", \"y\": [6.0], \"yaxis\": \"y\"}, {\"alignmentgroup\": \"True\", \"hoverlabel\": {\"namelength\": 0}, \"hovertemplate\": \"Clave platillo=MCL90003<br>Grupo=%{x}<br>Cantidad=%{y}\", \"legendgroup\": \"Clave platillo=MCL90003\", \"marker\": {\"color\": \"#FFA15A\"}, \"name\": \"Clave platillo=MCL90003\", \"offsetgroup\": \"Clave platillo=MCL90003\", \"orientation\": \"v\", \"showlegend\": true, \"textposition\": \"auto\", \"type\": \"bar\", \"x\": [\"CL\\u00c1SICOS\"], \"xaxis\": \"x\", \"y\": [2.0], \"yaxis\": \"y\"}, {\"alignmentgroup\": \"True\", \"hoverlabel\": {\"namelength\": 0}, \"hovertemplate\": \"Clave platillo=MCL90002<br>Grupo=%{x}<br>Cantidad=%{y}\", \"legendgroup\": \"Clave platillo=MCL90002\", \"marker\": {\"color\": \"#19d3f3\"}, \"name\": \"Clave platillo=MCL90002\", \"offsetgroup\": \"Clave platillo=MCL90002\", \"orientation\": \"v\", \"showlegend\": true, \"textposition\": \"auto\", \"type\": \"bar\", \"x\": [\"CL\\u00c1SICOS\"], \"xaxis\": \"x\", \"y\": [115.0], \"yaxis\": \"y\"}, {\"alignmentgroup\": \"True\", \"hoverlabel\": {\"namelength\": 0}, \"hovertemplate\": \"Clave platillo=MCL90001<br>Grupo=%{x}<br>Cantidad=%{y}\", \"legendgroup\": \"Clave platillo=MCL90001\", \"marker\": {\"color\": \"#FF6692\"}, \"name\": \"Clave platillo=MCL90001\", \"offsetgroup\": \"Clave platillo=MCL90001\", \"orientation\": \"v\", \"showlegend\": true, \"textposition\": \"auto\", \"type\": \"bar\", \"x\": [\"CL\\u00c1SICOS\"], \"xaxis\": \"x\", \"y\": [31.0], \"yaxis\": \"y\"}, {\"alignmentgroup\": \"True\", \"hoverlabel\": {\"namelength\": 0}, \"hovertemplate\": \"Clave platillo=MBEB7<br>Grupo=%{x}<br>Cantidad=%{y}\", \"legendgroup\": \"Clave platillo=MBEB7\", \"marker\": {\"color\": \"#B6E880\"}, \"name\": \"Clave platillo=MBEB7\", \"offsetgroup\": \"Clave platillo=MBEB7\", \"orientation\": \"v\", \"showlegend\": true, \"textposition\": \"auto\", \"type\": \"bar\", \"x\": [\"BEBIDAS\"], \"xaxis\": \"x\", \"y\": [10.0], \"yaxis\": \"y\"}, {\"alignmentgroup\": \"True\", \"hoverlabel\": {\"namelength\": 0}, \"hovertemplate\": \"Clave platillo=MBEB6<br>Grupo=%{x}<br>Cantidad=%{y}\", \"legendgroup\": \"Clave platillo=MBEB6\", \"marker\": {\"color\": \"#FF97FF\"}, \"name\": \"Clave platillo=MBEB6\", \"offsetgroup\": \"Clave platillo=MBEB6\", \"orientation\": \"v\", \"showlegend\": true, \"textposition\": \"auto\", \"type\": \"bar\", \"x\": [\"BEBIDAS\"], \"xaxis\": \"x\", \"y\": [93.0], \"yaxis\": \"y\"}, {\"alignmentgroup\": \"True\", \"hoverlabel\": {\"namelength\": 0}, \"hovertemplate\": \"Clave platillo=MBEB5<br>Grupo=%{x}<br>Cantidad=%{y}\", \"legendgroup\": \"Clave platillo=MBEB5\", \"marker\": {\"color\": \"#FECB52\"}, \"name\": \"Clave platillo=MBEB5\", \"offsetgroup\": \"Clave platillo=MBEB5\", \"orientation\": \"v\", \"showlegend\": true, \"textposition\": \"auto\", \"type\": \"bar\", \"x\": [\"BEBIDAS\"], \"xaxis\": \"x\", \"y\": [11.0], \"yaxis\": \"y\"}, {\"alignmentgroup\": \"True\", \"hoverlabel\": {\"namelength\": 0}, \"hovertemplate\": \"Clave platillo=MBEB4<br>Grupo=%{x}<br>Cantidad=%{y}\", \"legendgroup\": \"Clave platillo=MBEB4\", \"marker\": {\"color\": \"#636efa\"}, \"name\": \"Clave platillo=MBEB4\", \"offsetgroup\": \"Clave platillo=MBEB4\", \"orientation\": \"v\", \"showlegend\": true, \"textposition\": \"auto\", \"type\": \"bar\", \"x\": [\"BEBIDAS\"], \"xaxis\": \"x\", \"y\": [120.0], \"yaxis\": \"y\"}, {\"alignmentgroup\": \"True\", \"hoverlabel\": {\"namelength\": 0}, \"hovertemplate\": \"Clave platillo=MBEB3<br>Grupo=%{x}<br>Cantidad=%{y}\", \"legendgroup\": \"Clave platillo=MBEB3\", \"marker\": {\"color\": \"#EF553B\"}, \"name\": \"Clave platillo=MBEB3\", \"offsetgroup\": \"Clave platillo=MBEB3\", \"orientation\": \"v\", \"showlegend\": true, \"textposition\": \"auto\", \"type\": \"bar\", \"x\": [\"BEBIDAS\"], \"xaxis\": \"x\", \"y\": [3.0], \"yaxis\": \"y\"}, {\"alignmentgroup\": \"True\", \"hoverlabel\": {\"namelength\": 0}, \"hovertemplate\": \"Clave platillo=MBEB1<br>Grupo=%{x}<br>Cantidad=%{y}\", \"legendgroup\": \"Clave platillo=MBEB1\", \"marker\": {\"color\": \"#00cc96\"}, \"name\": \"Clave platillo=MBEB1\", \"offsetgroup\": \"Clave platillo=MBEB1\", \"orientation\": \"v\", \"showlegend\": true, \"textposition\": \"auto\", \"type\": \"bar\", \"x\": [\"BEBIDAS\"], \"xaxis\": \"x\", \"y\": [31.0], \"yaxis\": \"y\"}, {\"alignmentgroup\": \"True\", \"hoverlabel\": {\"namelength\": 0}, \"hovertemplate\": \"Clave platillo=MBCA9<br>Grupo=%{x}<br>Cantidad=%{y}\", \"legendgroup\": \"Clave platillo=MBCA9\", \"marker\": {\"color\": \"#ab63fa\"}, \"name\": \"Clave platillo=MBCA9\", \"offsetgroup\": \"Clave platillo=MBCA9\", \"orientation\": \"v\", \"showlegend\": true, \"textposition\": \"auto\", \"type\": \"bar\", \"x\": [\"BEBIDAS CON ALCOHOL\"], \"xaxis\": \"x\", \"y\": [10.0], \"yaxis\": \"y\"}, {\"alignmentgroup\": \"True\", \"hoverlabel\": {\"namelength\": 0}, \"hovertemplate\": \"Clave platillo=MBCA8<br>Grupo=%{x}<br>Cantidad=%{y}\", \"legendgroup\": \"Clave platillo=MBCA8\", \"marker\": {\"color\": \"#FFA15A\"}, \"name\": \"Clave platillo=MBCA8\", \"offsetgroup\": \"Clave platillo=MBCA8\", \"orientation\": \"v\", \"showlegend\": true, \"textposition\": \"auto\", \"type\": \"bar\", \"x\": [\"BEBIDAS CON ALCOHOL\"], \"xaxis\": \"x\", \"y\": [54.0], \"yaxis\": \"y\"}, {\"alignmentgroup\": \"True\", \"hoverlabel\": {\"namelength\": 0}, \"hovertemplate\": \"Clave platillo=MBCA73<br>Grupo=%{x}<br>Cantidad=%{y}\", \"legendgroup\": \"Clave platillo=MBCA73\", \"marker\": {\"color\": \"#19d3f3\"}, \"name\": \"Clave platillo=MBCA73\", \"offsetgroup\": \"Clave platillo=MBCA73\", \"orientation\": \"v\", \"showlegend\": true, \"textposition\": \"auto\", \"type\": \"bar\", \"x\": [\"BEBIDAS CON ALCOHOL\"], \"xaxis\": \"x\", \"y\": [3.0], \"yaxis\": \"y\"}, {\"alignmentgroup\": \"True\", \"hoverlabel\": {\"namelength\": 0}, \"hovertemplate\": \"Clave platillo=MBCA72<br>Grupo=%{x}<br>Cantidad=%{y}\", \"legendgroup\": \"Clave platillo=MBCA72\", \"marker\": {\"color\": \"#FF6692\"}, \"name\": \"Clave platillo=MBCA72\", \"offsetgroup\": \"Clave platillo=MBCA72\", \"orientation\": \"v\", \"showlegend\": true, \"textposition\": \"auto\", \"type\": \"bar\", \"x\": [\"BEBIDAS CON ALCOHOL\"], \"xaxis\": \"x\", \"y\": [142.0], \"yaxis\": \"y\"}, {\"alignmentgroup\": \"True\", \"hoverlabel\": {\"namelength\": 0}, \"hovertemplate\": \"Clave platillo=MBCA71<br>Grupo=%{x}<br>Cantidad=%{y}\", \"legendgroup\": \"Clave platillo=MBCA71\", \"marker\": {\"color\": \"#B6E880\"}, \"name\": \"Clave platillo=MBCA71\", \"offsetgroup\": \"Clave platillo=MBCA71\", \"orientation\": \"v\", \"showlegend\": true, \"textposition\": \"auto\", \"type\": \"bar\", \"x\": [\"BEBIDAS CON ALCOHOL\"], \"xaxis\": \"x\", \"y\": [19.0], \"yaxis\": \"y\"}, {\"alignmentgroup\": \"True\", \"hoverlabel\": {\"namelength\": 0}, \"hovertemplate\": \"Clave platillo=MBCA70<br>Grupo=%{x}<br>Cantidad=%{y}\", \"legendgroup\": \"Clave platillo=MBCA70\", \"marker\": {\"color\": \"#FF97FF\"}, \"name\": \"Clave platillo=MBCA70\", \"offsetgroup\": \"Clave platillo=MBCA70\", \"orientation\": \"v\", \"showlegend\": true, \"textposition\": \"auto\", \"type\": \"bar\", \"x\": [\"BEBIDAS CON ALCOHOL\"], \"xaxis\": \"x\", \"y\": [224.0], \"yaxis\": \"y\"}, {\"alignmentgroup\": \"True\", \"hoverlabel\": {\"namelength\": 0}, \"hovertemplate\": \"Clave platillo=MBCA7<br>Grupo=%{x}<br>Cantidad=%{y}\", \"legendgroup\": \"Clave platillo=MBCA7\", \"marker\": {\"color\": \"#FECB52\"}, \"name\": \"Clave platillo=MBCA7\", \"offsetgroup\": \"Clave platillo=MBCA7\", \"orientation\": \"v\", \"showlegend\": true, \"textposition\": \"auto\", \"type\": \"bar\", \"x\": [\"BEBIDAS CON ALCOHOL\"], \"xaxis\": \"x\", \"y\": [10.0], \"yaxis\": \"y\"}, {\"alignmentgroup\": \"True\", \"hoverlabel\": {\"namelength\": 0}, \"hovertemplate\": \"Clave platillo=MBCA66<br>Grupo=%{x}<br>Cantidad=%{y}\", \"legendgroup\": \"Clave platillo=MBCA66\", \"marker\": {\"color\": \"#636efa\"}, \"name\": \"Clave platillo=MBCA66\", \"offsetgroup\": \"Clave platillo=MBCA66\", \"orientation\": \"v\", \"showlegend\": true, \"textposition\": \"auto\", \"type\": \"bar\", \"x\": [\"BEBIDAS SIN ALCOHOL\"], \"xaxis\": \"x\", \"y\": [6.0], \"yaxis\": \"y\"}, {\"alignmentgroup\": \"True\", \"hoverlabel\": {\"namelength\": 0}, \"hovertemplate\": \"Clave platillo=MBCA65<br>Grupo=%{x}<br>Cantidad=%{y}\", \"legendgroup\": \"Clave platillo=MBCA65\", \"marker\": {\"color\": \"#EF553B\"}, \"name\": \"Clave platillo=MBCA65\", \"offsetgroup\": \"Clave platillo=MBCA65\", \"orientation\": \"v\", \"showlegend\": true, \"textposition\": \"auto\", \"type\": \"bar\", \"x\": [\"BEBIDAS SIN ALCOHOL\"], \"xaxis\": \"x\", \"y\": [8.0], \"yaxis\": \"y\"}, {\"alignmentgroup\": \"True\", \"hoverlabel\": {\"namelength\": 0}, \"hovertemplate\": \"Clave platillo=MBCA64<br>Grupo=%{x}<br>Cantidad=%{y}\", \"legendgroup\": \"Clave platillo=MBCA64\", \"marker\": {\"color\": \"#00cc96\"}, \"name\": \"Clave platillo=MBCA64\", \"offsetgroup\": \"Clave platillo=MBCA64\", \"orientation\": \"v\", \"showlegend\": true, \"textposition\": \"auto\", \"type\": \"bar\", \"x\": [\"BEBIDAS SIN ALCOHOL\"], \"xaxis\": \"x\", \"y\": [342.0], \"yaxis\": \"y\"}, {\"alignmentgroup\": \"True\", \"hoverlabel\": {\"namelength\": 0}, \"hovertemplate\": \"Clave platillo=MBCA63<br>Grupo=%{x}<br>Cantidad=%{y}\", \"legendgroup\": \"Clave platillo=MBCA63\", \"marker\": {\"color\": \"#ab63fa\"}, \"name\": \"Clave platillo=MBCA63\", \"offsetgroup\": \"Clave platillo=MBCA63\", \"orientation\": \"v\", \"showlegend\": true, \"textposition\": \"auto\", \"type\": \"bar\", \"x\": [\"BEBIDAS SIN ALCOHOL\"], \"xaxis\": \"x\", \"y\": [2002.0], \"yaxis\": \"y\"}, {\"alignmentgroup\": \"True\", \"hoverlabel\": {\"namelength\": 0}, \"hovertemplate\": \"Clave platillo=MBCA61<br>Grupo=%{x}<br>Cantidad=%{y}\", \"legendgroup\": \"Clave platillo=MBCA61\", \"marker\": {\"color\": \"#FFA15A\"}, \"name\": \"Clave platillo=MBCA61\", \"offsetgroup\": \"Clave platillo=MBCA61\", \"orientation\": \"v\", \"showlegend\": true, \"textposition\": \"auto\", \"type\": \"bar\", \"x\": [\"BEBIDAS CON ALCOHOL\"], \"xaxis\": \"x\", \"y\": [28.0], \"yaxis\": \"y\"}, {\"alignmentgroup\": \"True\", \"hoverlabel\": {\"namelength\": 0}, \"hovertemplate\": \"Clave platillo=MBCA60<br>Grupo=%{x}<br>Cantidad=%{y}\", \"legendgroup\": \"Clave platillo=MBCA60\", \"marker\": {\"color\": \"#19d3f3\"}, \"name\": \"Clave platillo=MBCA60\", \"offsetgroup\": \"Clave platillo=MBCA60\", \"orientation\": \"v\", \"showlegend\": true, \"textposition\": \"auto\", \"type\": \"bar\", \"x\": [\"BEBIDAS CON ALCOHOL\"], \"xaxis\": \"x\", \"y\": [10.0], \"yaxis\": \"y\"}, {\"alignmentgroup\": \"True\", \"hoverlabel\": {\"namelength\": 0}, \"hovertemplate\": \"Clave platillo=MBCA6<br>Grupo=%{x}<br>Cantidad=%{y}\", \"legendgroup\": \"Clave platillo=MBCA6\", \"marker\": {\"color\": \"#FF6692\"}, \"name\": \"Clave platillo=MBCA6\", \"offsetgroup\": \"Clave platillo=MBCA6\", \"orientation\": \"v\", \"showlegend\": true, \"textposition\": \"auto\", \"type\": \"bar\", \"x\": [\"BEBIDAS CON ALCOHOL\"], \"xaxis\": \"x\", \"y\": [6.0], \"yaxis\": \"y\"}, {\"alignmentgroup\": \"True\", \"hoverlabel\": {\"namelength\": 0}, \"hovertemplate\": \"Clave platillo=MBCA58<br>Grupo=%{x}<br>Cantidad=%{y}\", \"legendgroup\": \"Clave platillo=MBCA58\", \"marker\": {\"color\": \"#B6E880\"}, \"name\": \"Clave platillo=MBCA58\", \"offsetgroup\": \"Clave platillo=MBCA58\", \"orientation\": \"v\", \"showlegend\": true, \"textposition\": \"auto\", \"type\": \"bar\", \"x\": [\"BEBIDAS CON ALCOHOL\"], \"xaxis\": \"x\", \"y\": [8.0], \"yaxis\": \"y\"}, {\"alignmentgroup\": \"True\", \"hoverlabel\": {\"namelength\": 0}, \"hovertemplate\": \"Clave platillo=MBCA56<br>Grupo=%{x}<br>Cantidad=%{y}\", \"legendgroup\": \"Clave platillo=MBCA56\", \"marker\": {\"color\": \"#FF97FF\"}, \"name\": \"Clave platillo=MBCA56\", \"offsetgroup\": \"Clave platillo=MBCA56\", \"orientation\": \"v\", \"showlegend\": true, \"textposition\": \"auto\", \"type\": \"bar\", \"x\": [\"BEBIDAS CON ALCOHOL\"], \"xaxis\": \"x\", \"y\": [260.0], \"yaxis\": \"y\"}, {\"alignmentgroup\": \"True\", \"hoverlabel\": {\"namelength\": 0}, \"hovertemplate\": \"Clave platillo=MBCA54<br>Grupo=%{x}<br>Cantidad=%{y}\", \"legendgroup\": \"Clave platillo=MBCA54\", \"marker\": {\"color\": \"#FECB52\"}, \"name\": \"Clave platillo=MBCA54\", \"offsetgroup\": \"Clave platillo=MBCA54\", \"orientation\": \"v\", \"showlegend\": true, \"textposition\": \"auto\", \"type\": \"bar\", \"x\": [\"BEBIDAS CON ALCOHOL\"], \"xaxis\": \"x\", \"y\": [26.0], \"yaxis\": \"y\"}, {\"alignmentgroup\": \"True\", \"hoverlabel\": {\"namelength\": 0}, \"hovertemplate\": \"Clave platillo=MBCA52<br>Grupo=%{x}<br>Cantidad=%{y}\", \"legendgroup\": \"Clave platillo=MBCA52\", \"marker\": {\"color\": \"#636efa\"}, \"name\": \"Clave platillo=MBCA52\", \"offsetgroup\": \"Clave platillo=MBCA52\", \"orientation\": \"v\", \"showlegend\": true, \"textposition\": \"auto\", \"type\": \"bar\", \"x\": [\"BEBIDAS CON ALCOHOL\"], \"xaxis\": \"x\", \"y\": [8.0], \"yaxis\": \"y\"}, {\"alignmentgroup\": \"True\", \"hoverlabel\": {\"namelength\": 0}, \"hovertemplate\": \"Clave platillo=MBCA50<br>Grupo=%{x}<br>Cantidad=%{y}\", \"legendgroup\": \"Clave platillo=MBCA50\", \"marker\": {\"color\": \"#EF553B\"}, \"name\": \"Clave platillo=MBCA50\", \"offsetgroup\": \"Clave platillo=MBCA50\", \"orientation\": \"v\", \"showlegend\": true, \"textposition\": \"auto\", \"type\": \"bar\", \"x\": [\"BEBIDAS CON ALCOHOL\"], \"xaxis\": \"x\", \"y\": [65.0], \"yaxis\": \"y\"}, {\"alignmentgroup\": \"True\", \"hoverlabel\": {\"namelength\": 0}, \"hovertemplate\": \"Clave platillo=MBCA5<br>Grupo=%{x}<br>Cantidad=%{y}\", \"legendgroup\": \"Clave platillo=MBCA5\", \"marker\": {\"color\": \"#00cc96\"}, \"name\": \"Clave platillo=MBCA5\", \"offsetgroup\": \"Clave platillo=MBCA5\", \"orientation\": \"v\", \"showlegend\": true, \"textposition\": \"auto\", \"type\": \"bar\", \"x\": [\"BEBIDAS CON ALCOHOL\"], \"xaxis\": \"x\", \"y\": [125.0], \"yaxis\": \"y\"}, {\"alignmentgroup\": \"True\", \"hoverlabel\": {\"namelength\": 0}, \"hovertemplate\": \"Clave platillo=MBCA49<br>Grupo=%{x}<br>Cantidad=%{y}\", \"legendgroup\": \"Clave platillo=MBCA49\", \"marker\": {\"color\": \"#ab63fa\"}, \"name\": \"Clave platillo=MBCA49\", \"offsetgroup\": \"Clave platillo=MBCA49\", \"orientation\": \"v\", \"showlegend\": true, \"textposition\": \"auto\", \"type\": \"bar\", \"x\": [\"BEBIDAS CON ALCOHOL\"], \"xaxis\": \"x\", \"y\": [2.0], \"yaxis\": \"y\"}, {\"alignmentgroup\": \"True\", \"hoverlabel\": {\"namelength\": 0}, \"hovertemplate\": \"Clave platillo=MBCA48<br>Grupo=%{x}<br>Cantidad=%{y}\", \"legendgroup\": \"Clave platillo=MBCA48\", \"marker\": {\"color\": \"#FFA15A\"}, \"name\": \"Clave platillo=MBCA48\", \"offsetgroup\": \"Clave platillo=MBCA48\", \"orientation\": \"v\", \"showlegend\": true, \"textposition\": \"auto\", \"type\": \"bar\", \"x\": [\"BEBIDAS CON ALCOHOL\"], \"xaxis\": \"x\", \"y\": [46.0], \"yaxis\": \"y\"}, {\"alignmentgroup\": \"True\", \"hoverlabel\": {\"namelength\": 0}, \"hovertemplate\": \"Clave platillo=MBCA47<br>Grupo=%{x}<br>Cantidad=%{y}\", \"legendgroup\": \"Clave platillo=MBCA47\", \"marker\": {\"color\": \"#19d3f3\"}, \"name\": \"Clave platillo=MBCA47\", \"offsetgroup\": \"Clave platillo=MBCA47\", \"orientation\": \"v\", \"showlegend\": true, \"textposition\": \"auto\", \"type\": \"bar\", \"x\": [\"BEBIDAS CON ALCOHOL\"], \"xaxis\": \"x\", \"y\": [11.0], \"yaxis\": \"y\"}, {\"alignmentgroup\": \"True\", \"hoverlabel\": {\"namelength\": 0}, \"hovertemplate\": \"Clave platillo=MBCA46<br>Grupo=%{x}<br>Cantidad=%{y}\", \"legendgroup\": \"Clave platillo=MBCA46\", \"marker\": {\"color\": \"#FF6692\"}, \"name\": \"Clave platillo=MBCA46\", \"offsetgroup\": \"Clave platillo=MBCA46\", \"orientation\": \"v\", \"showlegend\": true, \"textposition\": \"auto\", \"type\": \"bar\", \"x\": [\"BEBIDAS CON ALCOHOL\"], \"xaxis\": \"x\", \"y\": [2.0], \"yaxis\": \"y\"}, {\"alignmentgroup\": \"True\", \"hoverlabel\": {\"namelength\": 0}, \"hovertemplate\": \"Clave platillo=MBCA44<br>Grupo=%{x}<br>Cantidad=%{y}\", \"legendgroup\": \"Clave platillo=MBCA44\", \"marker\": {\"color\": \"#B6E880\"}, \"name\": \"Clave platillo=MBCA44\", \"offsetgroup\": \"Clave platillo=MBCA44\", \"orientation\": \"v\", \"showlegend\": true, \"textposition\": \"auto\", \"type\": \"bar\", \"x\": [\"BEBIDAS CON ALCOHOL\"], \"xaxis\": \"x\", \"y\": [10.0], \"yaxis\": \"y\"}, {\"alignmentgroup\": \"True\", \"hoverlabel\": {\"namelength\": 0}, \"hovertemplate\": \"Clave platillo=MBCA43<br>Grupo=%{x}<br>Cantidad=%{y}\", \"legendgroup\": \"Clave platillo=MBCA43\", \"marker\": {\"color\": \"#FF97FF\"}, \"name\": \"Clave platillo=MBCA43\", \"offsetgroup\": \"Clave platillo=MBCA43\", \"orientation\": \"v\", \"showlegend\": true, \"textposition\": \"auto\", \"type\": \"bar\", \"x\": [\"BEBIDAS CON ALCOHOL\"], \"xaxis\": \"x\", \"y\": [202.0], \"yaxis\": \"y\"}, {\"alignmentgroup\": \"True\", \"hoverlabel\": {\"namelength\": 0}, \"hovertemplate\": \"Clave platillo=MBCA40<br>Grupo=%{x}<br>Cantidad=%{y}\", \"legendgroup\": \"Clave platillo=MBCA40\", \"marker\": {\"color\": \"#FECB52\"}, \"name\": \"Clave platillo=MBCA40\", \"offsetgroup\": \"Clave platillo=MBCA40\", \"orientation\": \"v\", \"showlegend\": true, \"textposition\": \"auto\", \"type\": \"bar\", \"x\": [\"BEBIDAS CON ALCOHOL\"], \"xaxis\": \"x\", \"y\": [279.0], \"yaxis\": \"y\"}, {\"alignmentgroup\": \"True\", \"hoverlabel\": {\"namelength\": 0}, \"hovertemplate\": \"Clave platillo=MBCA4<br>Grupo=%{x}<br>Cantidad=%{y}\", \"legendgroup\": \"Clave platillo=MBCA4\", \"marker\": {\"color\": \"#636efa\"}, \"name\": \"Clave platillo=MBCA4\", \"offsetgroup\": \"Clave platillo=MBCA4\", \"orientation\": \"v\", \"showlegend\": true, \"textposition\": \"auto\", \"type\": \"bar\", \"x\": [\"BEBIDAS CON ALCOHOL\"], \"xaxis\": \"x\", \"y\": [109.0], \"yaxis\": \"y\"}, {\"alignmentgroup\": \"True\", \"hoverlabel\": {\"namelength\": 0}, \"hovertemplate\": \"Clave platillo=MBCA39<br>Grupo=%{x}<br>Cantidad=%{y}\", \"legendgroup\": \"Clave platillo=MBCA39\", \"marker\": {\"color\": \"#EF553B\"}, \"name\": \"Clave platillo=MBCA39\", \"offsetgroup\": \"Clave platillo=MBCA39\", \"orientation\": \"v\", \"showlegend\": true, \"textposition\": \"auto\", \"type\": \"bar\", \"x\": [\"BEBIDAS CON ALCOHOL\"], \"xaxis\": \"x\", \"y\": [263.0], \"yaxis\": \"y\"}, {\"alignmentgroup\": \"True\", \"hoverlabel\": {\"namelength\": 0}, \"hovertemplate\": \"Clave platillo=MBCA38<br>Grupo=%{x}<br>Cantidad=%{y}\", \"legendgroup\": \"Clave platillo=MBCA38\", \"marker\": {\"color\": \"#00cc96\"}, \"name\": \"Clave platillo=MBCA38\", \"offsetgroup\": \"Clave platillo=MBCA38\", \"orientation\": \"v\", \"showlegend\": true, \"textposition\": \"auto\", \"type\": \"bar\", \"x\": [\"BEBIDAS CON ALCOHOL\"], \"xaxis\": \"x\", \"y\": [694.0], \"yaxis\": \"y\"}, {\"alignmentgroup\": \"True\", \"hoverlabel\": {\"namelength\": 0}, \"hovertemplate\": \"Clave platillo=MBCA37<br>Grupo=%{x}<br>Cantidad=%{y}\", \"legendgroup\": \"Clave platillo=MBCA37\", \"marker\": {\"color\": \"#ab63fa\"}, \"name\": \"Clave platillo=MBCA37\", \"offsetgroup\": \"Clave platillo=MBCA37\", \"orientation\": \"v\", \"showlegend\": true, \"textposition\": \"auto\", \"type\": \"bar\", \"x\": [\"BEBIDAS CON ALCOHOL\"], \"xaxis\": \"x\", \"y\": [245.0], \"yaxis\": \"y\"}, {\"alignmentgroup\": \"True\", \"hoverlabel\": {\"namelength\": 0}, \"hovertemplate\": \"Clave platillo=MBCA33<br>Grupo=%{x}<br>Cantidad=%{y}\", \"legendgroup\": \"Clave platillo=MBCA33\", \"marker\": {\"color\": \"#FFA15A\"}, \"name\": \"Clave platillo=MBCA33\", \"offsetgroup\": \"Clave platillo=MBCA33\", \"orientation\": \"v\", \"showlegend\": true, \"textposition\": \"auto\", \"type\": \"bar\", \"x\": [\"BEBIDAS CON ALCOHOL\"], \"xaxis\": \"x\", \"y\": [3.0], \"yaxis\": \"y\"}, {\"alignmentgroup\": \"True\", \"hoverlabel\": {\"namelength\": 0}, \"hovertemplate\": \"Clave platillo=MBCA32<br>Grupo=%{x}<br>Cantidad=%{y}\", \"legendgroup\": \"Clave platillo=MBCA32\", \"marker\": {\"color\": \"#19d3f3\"}, \"name\": \"Clave platillo=MBCA32\", \"offsetgroup\": \"Clave platillo=MBCA32\", \"orientation\": \"v\", \"showlegend\": true, \"textposition\": \"auto\", \"type\": \"bar\", \"x\": [\"BEBIDAS CON ALCOHOL\"], \"xaxis\": \"x\", \"y\": [1.0], \"yaxis\": \"y\"}, {\"alignmentgroup\": \"True\", \"hoverlabel\": {\"namelength\": 0}, \"hovertemplate\": \"Clave platillo=MBCA31<br>Grupo=%{x}<br>Cantidad=%{y}\", \"legendgroup\": \"Clave platillo=MBCA31\", \"marker\": {\"color\": \"#FF6692\"}, \"name\": \"Clave platillo=MBCA31\", \"offsetgroup\": \"Clave platillo=MBCA31\", \"orientation\": \"v\", \"showlegend\": true, \"textposition\": \"auto\", \"type\": \"bar\", \"x\": [\"BEBIDAS CON ALCOHOL\"], \"xaxis\": \"x\", \"y\": [1.0], \"yaxis\": \"y\"}, {\"alignmentgroup\": \"True\", \"hoverlabel\": {\"namelength\": 0}, \"hovertemplate\": \"Clave platillo=MBCA30<br>Grupo=%{x}<br>Cantidad=%{y}\", \"legendgroup\": \"Clave platillo=MBCA30\", \"marker\": {\"color\": \"#B6E880\"}, \"name\": \"Clave platillo=MBCA30\", \"offsetgroup\": \"Clave platillo=MBCA30\", \"orientation\": \"v\", \"showlegend\": true, \"textposition\": \"auto\", \"type\": \"bar\", \"x\": [\"BEBIDAS CON ALCOHOL\"], \"xaxis\": \"x\", \"y\": [2.0], \"yaxis\": \"y\"}, {\"alignmentgroup\": \"True\", \"hoverlabel\": {\"namelength\": 0}, \"hovertemplate\": \"Clave platillo=MBCA3<br>Grupo=%{x}<br>Cantidad=%{y}\", \"legendgroup\": \"Clave platillo=MBCA3\", \"marker\": {\"color\": \"#FF97FF\"}, \"name\": \"Clave platillo=MBCA3\", \"offsetgroup\": \"Clave platillo=MBCA3\", \"orientation\": \"v\", \"showlegend\": true, \"textposition\": \"auto\", \"type\": \"bar\", \"x\": [\"BEBIDAS CON ALCOHOL\"], \"xaxis\": \"x\", \"y\": [5.0], \"yaxis\": \"y\"}, {\"alignmentgroup\": \"True\", \"hoverlabel\": {\"namelength\": 0}, \"hovertemplate\": \"Clave platillo=MBCA29<br>Grupo=%{x}<br>Cantidad=%{y}\", \"legendgroup\": \"Clave platillo=MBCA29\", \"marker\": {\"color\": \"#FECB52\"}, \"name\": \"Clave platillo=MBCA29\", \"offsetgroup\": \"Clave platillo=MBCA29\", \"orientation\": \"v\", \"showlegend\": true, \"textposition\": \"auto\", \"type\": \"bar\", \"x\": [\"BEBIDAS CON ALCOHOL\"], \"xaxis\": \"x\", \"y\": [30.0], \"yaxis\": \"y\"}, {\"alignmentgroup\": \"True\", \"hoverlabel\": {\"namelength\": 0}, \"hovertemplate\": \"Clave platillo=MBCA27<br>Grupo=%{x}<br>Cantidad=%{y}\", \"legendgroup\": \"Clave platillo=MBCA27\", \"marker\": {\"color\": \"#636efa\"}, \"name\": \"Clave platillo=MBCA27\", \"offsetgroup\": \"Clave platillo=MBCA27\", \"orientation\": \"v\", \"showlegend\": true, \"textposition\": \"auto\", \"type\": \"bar\", \"x\": [\"BEBIDAS CON ALCOHOL\"], \"xaxis\": \"x\", \"y\": [1.0], \"yaxis\": \"y\"}, {\"alignmentgroup\": \"True\", \"hoverlabel\": {\"namelength\": 0}, \"hovertemplate\": \"Clave platillo=MBCA26<br>Grupo=%{x}<br>Cantidad=%{y}\", \"legendgroup\": \"Clave platillo=MBCA26\", \"marker\": {\"color\": \"#EF553B\"}, \"name\": \"Clave platillo=MBCA26\", \"offsetgroup\": \"Clave platillo=MBCA26\", \"orientation\": \"v\", \"showlegend\": true, \"textposition\": \"auto\", \"type\": \"bar\", \"x\": [\"BEBIDAS CON ALCOHOL\"], \"xaxis\": \"x\", \"y\": [6.0], \"yaxis\": \"y\"}, {\"alignmentgroup\": \"True\", \"hoverlabel\": {\"namelength\": 0}, \"hovertemplate\": \"Clave platillo=MBCA25<br>Grupo=%{x}<br>Cantidad=%{y}\", \"legendgroup\": \"Clave platillo=MBCA25\", \"marker\": {\"color\": \"#00cc96\"}, \"name\": \"Clave platillo=MBCA25\", \"offsetgroup\": \"Clave platillo=MBCA25\", \"orientation\": \"v\", \"showlegend\": true, \"textposition\": \"auto\", \"type\": \"bar\", \"x\": [\"BEBIDAS CON ALCOHOL\"], \"xaxis\": \"x\", \"y\": [13.0], \"yaxis\": \"y\"}, {\"alignmentgroup\": \"True\", \"hoverlabel\": {\"namelength\": 0}, \"hovertemplate\": \"Clave platillo=MBCA23<br>Grupo=%{x}<br>Cantidad=%{y}\", \"legendgroup\": \"Clave platillo=MBCA23\", \"marker\": {\"color\": \"#ab63fa\"}, \"name\": \"Clave platillo=MBCA23\", \"offsetgroup\": \"Clave platillo=MBCA23\", \"orientation\": \"v\", \"showlegend\": true, \"textposition\": \"auto\", \"type\": \"bar\", \"x\": [\"BEBIDAS CON ALCOHOL\"], \"xaxis\": \"x\", \"y\": [11.0], \"yaxis\": \"y\"}, {\"alignmentgroup\": \"True\", \"hoverlabel\": {\"namelength\": 0}, \"hovertemplate\": \"Clave platillo=MBCA2<br>Grupo=%{x}<br>Cantidad=%{y}\", \"legendgroup\": \"Clave platillo=MBCA2\", \"marker\": {\"color\": \"#FFA15A\"}, \"name\": \"Clave platillo=MBCA2\", \"offsetgroup\": \"Clave platillo=MBCA2\", \"orientation\": \"v\", \"showlegend\": true, \"textposition\": \"auto\", \"type\": \"bar\", \"x\": [\"BEBIDAS CON ALCOHOL\"], \"xaxis\": \"x\", \"y\": [5.0], \"yaxis\": \"y\"}, {\"alignmentgroup\": \"True\", \"hoverlabel\": {\"namelength\": 0}, \"hovertemplate\": \"Clave platillo=MBCA19<br>Grupo=%{x}<br>Cantidad=%{y}\", \"legendgroup\": \"Clave platillo=MBCA19\", \"marker\": {\"color\": \"#19d3f3\"}, \"name\": \"Clave platillo=MBCA19\", \"offsetgroup\": \"Clave platillo=MBCA19\", \"orientation\": \"v\", \"showlegend\": true, \"textposition\": \"auto\", \"type\": \"bar\", \"x\": [\"BEBIDAS CON ALCOHOL\"], \"xaxis\": \"x\", \"y\": [373.0], \"yaxis\": \"y\"}, {\"alignmentgroup\": \"True\", \"hoverlabel\": {\"namelength\": 0}, \"hovertemplate\": \"Clave platillo=MBCA18<br>Grupo=%{x}<br>Cantidad=%{y}\", \"legendgroup\": \"Clave platillo=MBCA18\", \"marker\": {\"color\": \"#FF6692\"}, \"name\": \"Clave platillo=MBCA18\", \"offsetgroup\": \"Clave platillo=MBCA18\", \"orientation\": \"v\", \"showlegend\": true, \"textposition\": \"auto\", \"type\": \"bar\", \"x\": [\"BEBIDAS CON ALCOHOL\"], \"xaxis\": \"x\", \"y\": [1.0], \"yaxis\": \"y\"}, {\"alignmentgroup\": \"True\", \"hoverlabel\": {\"namelength\": 0}, \"hovertemplate\": \"Clave platillo=MBCA16<br>Grupo=%{x}<br>Cantidad=%{y}\", \"legendgroup\": \"Clave platillo=MBCA16\", \"marker\": {\"color\": \"#B6E880\"}, \"name\": \"Clave platillo=MBCA16\", \"offsetgroup\": \"Clave platillo=MBCA16\", \"orientation\": \"v\", \"showlegend\": true, \"textposition\": \"auto\", \"type\": \"bar\", \"x\": [\"BEBIDAS CON ALCOHOL\"], \"xaxis\": \"x\", \"y\": [19.0], \"yaxis\": \"y\"}, {\"alignmentgroup\": \"True\", \"hoverlabel\": {\"namelength\": 0}, \"hovertemplate\": \"Clave platillo=MBCA14<br>Grupo=%{x}<br>Cantidad=%{y}\", \"legendgroup\": \"Clave platillo=MBCA14\", \"marker\": {\"color\": \"#FF97FF\"}, \"name\": \"Clave platillo=MBCA14\", \"offsetgroup\": \"Clave platillo=MBCA14\", \"orientation\": \"v\", \"showlegend\": true, \"textposition\": \"auto\", \"type\": \"bar\", \"x\": [\"BEBIDAS CON ALCOHOL\"], \"xaxis\": \"x\", \"y\": [1.0], \"yaxis\": \"y\"}, {\"alignmentgroup\": \"True\", \"hoverlabel\": {\"namelength\": 0}, \"hovertemplate\": \"Clave platillo=MBCA13<br>Grupo=%{x}<br>Cantidad=%{y}\", \"legendgroup\": \"Clave platillo=MBCA13\", \"marker\": {\"color\": \"#FECB52\"}, \"name\": \"Clave platillo=MBCA13\", \"offsetgroup\": \"Clave platillo=MBCA13\", \"orientation\": \"v\", \"showlegend\": true, \"textposition\": \"auto\", \"type\": \"bar\", \"x\": [\"BEBIDAS CON ALCOHOL\"], \"xaxis\": \"x\", \"y\": [39.0], \"yaxis\": \"y\"}, {\"alignmentgroup\": \"True\", \"hoverlabel\": {\"namelength\": 0}, \"hovertemplate\": \"Clave platillo=MBCA111<br>Grupo=%{x}<br>Cantidad=%{y}\", \"legendgroup\": \"Clave platillo=MBCA111\", \"marker\": {\"color\": \"#636efa\"}, \"name\": \"Clave platillo=MBCA111\", \"offsetgroup\": \"Clave platillo=MBCA111\", \"orientation\": \"v\", \"showlegend\": true, \"textposition\": \"auto\", \"type\": \"bar\", \"x\": [\"BEBIDAS CON ALCOHOL\"], \"xaxis\": \"x\", \"y\": [18.0], \"yaxis\": \"y\"}, {\"alignmentgroup\": \"True\", \"hoverlabel\": {\"namelength\": 0}, \"hovertemplate\": \"Clave platillo=MBCA11<br>Grupo=%{x}<br>Cantidad=%{y}\", \"legendgroup\": \"Clave platillo=MBCA11\", \"marker\": {\"color\": \"#EF553B\"}, \"name\": \"Clave platillo=MBCA11\", \"offsetgroup\": \"Clave platillo=MBCA11\", \"orientation\": \"v\", \"showlegend\": true, \"textposition\": \"auto\", \"type\": \"bar\", \"x\": [\"BEBIDAS CON ALCOHOL\"], \"xaxis\": \"x\", \"y\": [1.0], \"yaxis\": \"y\"}, {\"alignmentgroup\": \"True\", \"hoverlabel\": {\"namelength\": 0}, \"hovertemplate\": \"Clave platillo=MBCA10<br>Grupo=%{x}<br>Cantidad=%{y}\", \"legendgroup\": \"Clave platillo=MBCA10\", \"marker\": {\"color\": \"#00cc96\"}, \"name\": \"Clave platillo=MBCA10\", \"offsetgroup\": \"Clave platillo=MBCA10\", \"orientation\": \"v\", \"showlegend\": true, \"textposition\": \"auto\", \"type\": \"bar\", \"x\": [\"BEBIDAS CON ALCOHOL\"], \"xaxis\": \"x\", \"y\": [48.0], \"yaxis\": \"y\"}, {\"alignmentgroup\": \"True\", \"hoverlabel\": {\"namelength\": 0}, \"hovertemplate\": \"Clave platillo=MBCA1<br>Grupo=%{x}<br>Cantidad=%{y}\", \"legendgroup\": \"Clave platillo=MBCA1\", \"marker\": {\"color\": \"#ab63fa\"}, \"name\": \"Clave platillo=MBCA1\", \"offsetgroup\": \"Clave platillo=MBCA1\", \"orientation\": \"v\", \"showlegend\": true, \"textposition\": \"auto\", \"type\": \"bar\", \"x\": [\"BEBIDAS CON ALCOHOL\"], \"xaxis\": \"x\", \"y\": [151.0], \"yaxis\": \"y\"}, {\"alignmentgroup\": \"True\", \"hoverlabel\": {\"namelength\": 0}, \"hovertemplate\": \"Clave platillo=MBCA<br>Grupo=%{x}<br>Cantidad=%{y}\", \"legendgroup\": \"Clave platillo=MBCA\", \"marker\": {\"color\": \"#FFA15A\"}, \"name\": \"Clave platillo=MBCA\", \"offsetgroup\": \"Clave platillo=MBCA\", \"orientation\": \"v\", \"showlegend\": true, \"textposition\": \"auto\", \"type\": \"bar\", \"x\": [\"BEBIDAS CON ALCOHOL\"], \"xaxis\": \"x\", \"y\": [37.0], \"yaxis\": \"y\"}, {\"alignmentgroup\": \"True\", \"hoverlabel\": {\"namelength\": 0}, \"hovertemplate\": \"Clave platillo=HAM9<br>Grupo=%{x}<br>Cantidad=%{y}\", \"legendgroup\": \"Clave platillo=HAM9\", \"marker\": {\"color\": \"#19d3f3\"}, \"name\": \"Clave platillo=HAM9\", \"offsetgroup\": \"Clave platillo=HAM9\", \"orientation\": \"v\", \"showlegend\": true, \"textposition\": \"auto\", \"type\": \"bar\", \"x\": [\"HAMBURGUESAS\"], \"xaxis\": \"x\", \"y\": [28.0], \"yaxis\": \"y\"}, {\"alignmentgroup\": \"True\", \"hoverlabel\": {\"namelength\": 0}, \"hovertemplate\": \"Clave platillo=HAM8<br>Grupo=%{x}<br>Cantidad=%{y}\", \"legendgroup\": \"Clave platillo=HAM8\", \"marker\": {\"color\": \"#FF6692\"}, \"name\": \"Clave platillo=HAM8\", \"offsetgroup\": \"Clave platillo=HAM8\", \"orientation\": \"v\", \"showlegend\": true, \"textposition\": \"auto\", \"type\": \"bar\", \"x\": [\"HAMBURGUESAS\"], \"xaxis\": \"x\", \"y\": [142.0], \"yaxis\": \"y\"}, {\"alignmentgroup\": \"True\", \"hoverlabel\": {\"namelength\": 0}, \"hovertemplate\": \"Clave platillo=HAM7<br>Grupo=%{x}<br>Cantidad=%{y}\", \"legendgroup\": \"Clave platillo=HAM7\", \"marker\": {\"color\": \"#B6E880\"}, \"name\": \"Clave platillo=HAM7\", \"offsetgroup\": \"Clave platillo=HAM7\", \"orientation\": \"v\", \"showlegend\": true, \"textposition\": \"auto\", \"type\": \"bar\", \"x\": [\"HAMBURGUESAS\"], \"xaxis\": \"x\", \"y\": [1137.0], \"yaxis\": \"y\"}, {\"alignmentgroup\": \"True\", \"hoverlabel\": {\"namelength\": 0}, \"hovertemplate\": \"Clave platillo=HAM6<br>Grupo=%{x}<br>Cantidad=%{y}\", \"legendgroup\": \"Clave platillo=HAM6\", \"marker\": {\"color\": \"#FF97FF\"}, \"name\": \"Clave platillo=HAM6\", \"offsetgroup\": \"Clave platillo=HAM6\", \"orientation\": \"v\", \"showlegend\": true, \"textposition\": \"auto\", \"type\": \"bar\", \"x\": [\"HAMBURGUESAS\"], \"xaxis\": \"x\", \"y\": [328.0], \"yaxis\": \"y\"}, {\"alignmentgroup\": \"True\", \"hoverlabel\": {\"namelength\": 0}, \"hovertemplate\": \"Clave platillo=HAM5<br>Grupo=%{x}<br>Cantidad=%{y}\", \"legendgroup\": \"Clave platillo=HAM5\", \"marker\": {\"color\": \"#FECB52\"}, \"name\": \"Clave platillo=HAM5\", \"offsetgroup\": \"Clave platillo=HAM5\", \"orientation\": \"v\", \"showlegend\": true, \"textposition\": \"auto\", \"type\": \"bar\", \"x\": [\"HAMBURGUESAS\"], \"xaxis\": \"x\", \"y\": [124.0], \"yaxis\": \"y\"}, {\"alignmentgroup\": \"True\", \"hoverlabel\": {\"namelength\": 0}, \"hovertemplate\": \"Clave platillo=HAM4<br>Grupo=%{x}<br>Cantidad=%{y}\", \"legendgroup\": \"Clave platillo=HAM4\", \"marker\": {\"color\": \"#636efa\"}, \"name\": \"Clave platillo=HAM4\", \"offsetgroup\": \"Clave platillo=HAM4\", \"orientation\": \"v\", \"showlegend\": true, \"textposition\": \"auto\", \"type\": \"bar\", \"x\": [\"HAMBURGUESAS\"], \"xaxis\": \"x\", \"y\": [37.0], \"yaxis\": \"y\"}, {\"alignmentgroup\": \"True\", \"hoverlabel\": {\"namelength\": 0}, \"hovertemplate\": \"Clave platillo=HAM3<br>Grupo=%{x}<br>Cantidad=%{y}\", \"legendgroup\": \"Clave platillo=HAM3\", \"marker\": {\"color\": \"#EF553B\"}, \"name\": \"Clave platillo=HAM3\", \"offsetgroup\": \"Clave platillo=HAM3\", \"orientation\": \"v\", \"showlegend\": true, \"textposition\": \"auto\", \"type\": \"bar\", \"x\": [\"HAMBURGUESAS\"], \"xaxis\": \"x\", \"y\": [145.0], \"yaxis\": \"y\"}, {\"alignmentgroup\": \"True\", \"hoverlabel\": {\"namelength\": 0}, \"hovertemplate\": \"Clave platillo=HAM2<br>Grupo=%{x}<br>Cantidad=%{y}\", \"legendgroup\": \"Clave platillo=HAM2\", \"marker\": {\"color\": \"#00cc96\"}, \"name\": \"Clave platillo=HAM2\", \"offsetgroup\": \"Clave platillo=HAM2\", \"orientation\": \"v\", \"showlegend\": true, \"textposition\": \"auto\", \"type\": \"bar\", \"x\": [\"HAMBURGUESAS\"], \"xaxis\": \"x\", \"y\": [166.0], \"yaxis\": \"y\"}, {\"alignmentgroup\": \"True\", \"hoverlabel\": {\"namelength\": 0}, \"hovertemplate\": \"Clave platillo=HAM12<br>Grupo=%{x}<br>Cantidad=%{y}\", \"legendgroup\": \"Clave platillo=HAM12\", \"marker\": {\"color\": \"#ab63fa\"}, \"name\": \"Clave platillo=HAM12\", \"offsetgroup\": \"Clave platillo=HAM12\", \"orientation\": \"v\", \"showlegend\": true, \"textposition\": \"auto\", \"type\": \"bar\", \"x\": [\"HAMBURGUESAS\"], \"xaxis\": \"x\", \"y\": [2261.0], \"yaxis\": \"y\"}, {\"alignmentgroup\": \"True\", \"hoverlabel\": {\"namelength\": 0}, \"hovertemplate\": \"Clave platillo=HAM11<br>Grupo=%{x}<br>Cantidad=%{y}\", \"legendgroup\": \"Clave platillo=HAM11\", \"marker\": {\"color\": \"#FFA15A\"}, \"name\": \"Clave platillo=HAM11\", \"offsetgroup\": \"Clave platillo=HAM11\", \"orientation\": \"v\", \"showlegend\": true, \"textposition\": \"auto\", \"type\": \"bar\", \"x\": [\"HAMBURGUESAS\"], \"xaxis\": \"x\", \"y\": [578.0], \"yaxis\": \"y\"}, {\"alignmentgroup\": \"True\", \"hoverlabel\": {\"namelength\": 0}, \"hovertemplate\": \"Clave platillo=HAM10<br>Grupo=%{x}<br>Cantidad=%{y}\", \"legendgroup\": \"Clave platillo=HAM10\", \"marker\": {\"color\": \"#19d3f3\"}, \"name\": \"Clave platillo=HAM10\", \"offsetgroup\": \"Clave platillo=HAM10\", \"orientation\": \"v\", \"showlegend\": true, \"textposition\": \"auto\", \"type\": \"bar\", \"x\": [\"HAMBURGUESAS\"], \"xaxis\": \"x\", \"y\": [187.0], \"yaxis\": \"y\"}, {\"alignmentgroup\": \"True\", \"hoverlabel\": {\"namelength\": 0}, \"hovertemplate\": \"Clave platillo=HAM1<br>Grupo=%{x}<br>Cantidad=%{y}\", \"legendgroup\": \"Clave platillo=HAM1\", \"marker\": {\"color\": \"#FF6692\"}, \"name\": \"Clave platillo=HAM1\", \"offsetgroup\": \"Clave platillo=HAM1\", \"orientation\": \"v\", \"showlegend\": true, \"textposition\": \"auto\", \"type\": \"bar\", \"x\": [\"HAMBURGUESAS\"], \"xaxis\": \"x\", \"y\": [1345.0], \"yaxis\": \"y\"}, {\"alignmentgroup\": \"True\", \"hoverlabel\": {\"namelength\": 0}, \"hovertemplate\": \"Clave platillo=EXT4651<br>Grupo=%{x}<br>Cantidad=%{y}\", \"legendgroup\": \"Clave platillo=EXT4651\", \"marker\": {\"color\": \"#B6E880\"}, \"name\": \"Clave platillo=EXT4651\", \"offsetgroup\": \"Clave platillo=EXT4651\", \"orientation\": \"v\", \"showlegend\": true, \"textposition\": \"auto\", \"type\": \"bar\", \"x\": [\"EXTRAS COCINA\"], \"xaxis\": \"x\", \"y\": [4.0], \"yaxis\": \"y\"}, {\"alignmentgroup\": \"True\", \"hoverlabel\": {\"namelength\": 0}, \"hovertemplate\": \"Clave platillo=EXT4650<br>Grupo=%{x}<br>Cantidad=%{y}\", \"legendgroup\": \"Clave platillo=EXT4650\", \"marker\": {\"color\": \"#FF97FF\"}, \"name\": \"Clave platillo=EXT4650\", \"offsetgroup\": \"Clave platillo=EXT4650\", \"orientation\": \"v\", \"showlegend\": true, \"textposition\": \"auto\", \"type\": \"bar\", \"x\": [\"EXTRAS COCINA\"], \"xaxis\": \"x\", \"y\": [3.0], \"yaxis\": \"y\"}, {\"alignmentgroup\": \"True\", \"hoverlabel\": {\"namelength\": 0}, \"hovertemplate\": \"Clave platillo=EXT4620<br>Grupo=%{x}<br>Cantidad=%{y}\", \"legendgroup\": \"Clave platillo=EXT4620\", \"marker\": {\"color\": \"#FECB52\"}, \"name\": \"Clave platillo=EXT4620\", \"offsetgroup\": \"Clave platillo=EXT4620\", \"orientation\": \"v\", \"showlegend\": true, \"textposition\": \"auto\", \"type\": \"bar\", \"x\": [\"EXTRAS COCINA\"], \"xaxis\": \"x\", \"y\": [4.0], \"yaxis\": \"y\"}, {\"alignmentgroup\": \"True\", \"hoverlabel\": {\"namelength\": 0}, \"hovertemplate\": \"Clave platillo=EXT4619<br>Grupo=%{x}<br>Cantidad=%{y}\", \"legendgroup\": \"Clave platillo=EXT4619\", \"marker\": {\"color\": \"#636efa\"}, \"name\": \"Clave platillo=EXT4619\", \"offsetgroup\": \"Clave platillo=EXT4619\", \"orientation\": \"v\", \"showlegend\": true, \"textposition\": \"auto\", \"type\": \"bar\", \"x\": [\"EXTRAS COCINA\"], \"xaxis\": \"x\", \"y\": [3.0], \"yaxis\": \"y\"}, {\"alignmentgroup\": \"True\", \"hoverlabel\": {\"namelength\": 0}, \"hovertemplate\": \"Clave platillo=EXT4617<br>Grupo=%{x}<br>Cantidad=%{y}\", \"legendgroup\": \"Clave platillo=EXT4617\", \"marker\": {\"color\": \"#EF553B\"}, \"name\": \"Clave platillo=EXT4617\", \"offsetgroup\": \"Clave platillo=EXT4617\", \"orientation\": \"v\", \"showlegend\": true, \"textposition\": \"auto\", \"type\": \"bar\", \"x\": [\"EXTRAS COCINA\"], \"xaxis\": \"x\", \"y\": [6.0], \"yaxis\": \"y\"}, {\"alignmentgroup\": \"True\", \"hoverlabel\": {\"namelength\": 0}, \"hovertemplate\": \"Clave platillo=EXT4616<br>Grupo=%{x}<br>Cantidad=%{y}\", \"legendgroup\": \"Clave platillo=EXT4616\", \"marker\": {\"color\": \"#00cc96\"}, \"name\": \"Clave platillo=EXT4616\", \"offsetgroup\": \"Clave platillo=EXT4616\", \"orientation\": \"v\", \"showlegend\": true, \"textposition\": \"auto\", \"type\": \"bar\", \"x\": [\"EXTRAS COCINA\"], \"xaxis\": \"x\", \"y\": [13.0], \"yaxis\": \"y\"}, {\"alignmentgroup\": \"True\", \"hoverlabel\": {\"namelength\": 0}, \"hovertemplate\": \"Clave platillo=EXT4615<br>Grupo=%{x}<br>Cantidad=%{y}\", \"legendgroup\": \"Clave platillo=EXT4615\", \"marker\": {\"color\": \"#ab63fa\"}, \"name\": \"Clave platillo=EXT4615\", \"offsetgroup\": \"Clave platillo=EXT4615\", \"orientation\": \"v\", \"showlegend\": true, \"textposition\": \"auto\", \"type\": \"bar\", \"x\": [\"EXTRAS COCINA\"], \"xaxis\": \"x\", \"y\": [1.0], \"yaxis\": \"y\"}, {\"alignmentgroup\": \"True\", \"hoverlabel\": {\"namelength\": 0}, \"hovertemplate\": \"Clave platillo=EXT4614<br>Grupo=%{x}<br>Cantidad=%{y}\", \"legendgroup\": \"Clave platillo=EXT4614\", \"marker\": {\"color\": \"#FFA15A\"}, \"name\": \"Clave platillo=EXT4614\", \"offsetgroup\": \"Clave platillo=EXT4614\", \"orientation\": \"v\", \"showlegend\": true, \"textposition\": \"auto\", \"type\": \"bar\", \"x\": [\"EXTRAS COCINA\"], \"xaxis\": \"x\", \"y\": [49.0], \"yaxis\": \"y\"}, {\"alignmentgroup\": \"True\", \"hoverlabel\": {\"namelength\": 0}, \"hovertemplate\": \"Clave platillo=EXT4613<br>Grupo=%{x}<br>Cantidad=%{y}\", \"legendgroup\": \"Clave platillo=EXT4613\", \"marker\": {\"color\": \"#19d3f3\"}, \"name\": \"Clave platillo=EXT4613\", \"offsetgroup\": \"Clave platillo=EXT4613\", \"orientation\": \"v\", \"showlegend\": true, \"textposition\": \"auto\", \"type\": \"bar\", \"x\": [\"EXTRAS COCINA\"], \"xaxis\": \"x\", \"y\": [129.0], \"yaxis\": \"y\"}, {\"alignmentgroup\": \"True\", \"hoverlabel\": {\"namelength\": 0}, \"hovertemplate\": \"Clave platillo=EXT4612<br>Grupo=%{x}<br>Cantidad=%{y}\", \"legendgroup\": \"Clave platillo=EXT4612\", \"marker\": {\"color\": \"#FF6692\"}, \"name\": \"Clave platillo=EXT4612\", \"offsetgroup\": \"Clave platillo=EXT4612\", \"orientation\": \"v\", \"showlegend\": true, \"textposition\": \"auto\", \"type\": \"bar\", \"x\": [\"EXTRAS COCINA\"], \"xaxis\": \"x\", \"y\": [14.0], \"yaxis\": \"y\"}, {\"alignmentgroup\": \"True\", \"hoverlabel\": {\"namelength\": 0}, \"hovertemplate\": \"Clave platillo=EXT4611<br>Grupo=%{x}<br>Cantidad=%{y}\", \"legendgroup\": \"Clave platillo=EXT4611\", \"marker\": {\"color\": \"#B6E880\"}, \"name\": \"Clave platillo=EXT4611\", \"offsetgroup\": \"Clave platillo=EXT4611\", \"orientation\": \"v\", \"showlegend\": true, \"textposition\": \"auto\", \"type\": \"bar\", \"x\": [\"EXTRAS COCINA\"], \"xaxis\": \"x\", \"y\": [5.0], \"yaxis\": \"y\"}, {\"alignmentgroup\": \"True\", \"hoverlabel\": {\"namelength\": 0}, \"hovertemplate\": \"Clave platillo=EXT4610<br>Grupo=%{x}<br>Cantidad=%{y}\", \"legendgroup\": \"Clave platillo=EXT4610\", \"marker\": {\"color\": \"#FF97FF\"}, \"name\": \"Clave platillo=EXT4610\", \"offsetgroup\": \"Clave platillo=EXT4610\", \"orientation\": \"v\", \"showlegend\": true, \"textposition\": \"auto\", \"type\": \"bar\", \"x\": [\"EXTRAS COCINA\"], \"xaxis\": \"x\", \"y\": [10.0], \"yaxis\": \"y\"}, {\"alignmentgroup\": \"True\", \"hoverlabel\": {\"namelength\": 0}, \"hovertemplate\": \"Clave platillo=EXT4609<br>Grupo=%{x}<br>Cantidad=%{y}\", \"legendgroup\": \"Clave platillo=EXT4609\", \"marker\": {\"color\": \"#FECB52\"}, \"name\": \"Clave platillo=EXT4609\", \"offsetgroup\": \"Clave platillo=EXT4609\", \"orientation\": \"v\", \"showlegend\": true, \"textposition\": \"auto\", \"type\": \"bar\", \"x\": [\"EXTRAS COCINA\"], \"xaxis\": \"x\", \"y\": [8.0], \"yaxis\": \"y\"}, {\"alignmentgroup\": \"True\", \"hoverlabel\": {\"namelength\": 0}, \"hovertemplate\": \"Clave platillo=EXT4608<br>Grupo=%{x}<br>Cantidad=%{y}\", \"legendgroup\": \"Clave platillo=EXT4608\", \"marker\": {\"color\": \"#636efa\"}, \"name\": \"Clave platillo=EXT4608\", \"offsetgroup\": \"Clave platillo=EXT4608\", \"orientation\": \"v\", \"showlegend\": true, \"textposition\": \"auto\", \"type\": \"bar\", \"x\": [\"EXTRAS COCINA\"], \"xaxis\": \"x\", \"y\": [53.0], \"yaxis\": \"y\"}, {\"alignmentgroup\": \"True\", \"hoverlabel\": {\"namelength\": 0}, \"hovertemplate\": \"Clave platillo=EXT4607<br>Grupo=%{x}<br>Cantidad=%{y}\", \"legendgroup\": \"Clave platillo=EXT4607\", \"marker\": {\"color\": \"#EF553B\"}, \"name\": \"Clave platillo=EXT4607\", \"offsetgroup\": \"Clave platillo=EXT4607\", \"orientation\": \"v\", \"showlegend\": true, \"textposition\": \"auto\", \"type\": \"bar\", \"x\": [\"EXTRAS COCINA\"], \"xaxis\": \"x\", \"y\": [28.0], \"yaxis\": \"y\"}, {\"alignmentgroup\": \"True\", \"hoverlabel\": {\"namelength\": 0}, \"hovertemplate\": \"Clave platillo=EXT4606<br>Grupo=%{x}<br>Cantidad=%{y}\", \"legendgroup\": \"Clave platillo=EXT4606\", \"marker\": {\"color\": \"#00cc96\"}, \"name\": \"Clave platillo=EXT4606\", \"offsetgroup\": \"Clave platillo=EXT4606\", \"orientation\": \"v\", \"showlegend\": true, \"textposition\": \"auto\", \"type\": \"bar\", \"x\": [\"EXTRAS COCINA\"], \"xaxis\": \"x\", \"y\": [54.0], \"yaxis\": \"y\"}, {\"alignmentgroup\": \"True\", \"hoverlabel\": {\"namelength\": 0}, \"hovertemplate\": \"Clave platillo=EXT4603<br>Grupo=%{x}<br>Cantidad=%{y}\", \"legendgroup\": \"Clave platillo=EXT4603\", \"marker\": {\"color\": \"#ab63fa\"}, \"name\": \"Clave platillo=EXT4603\", \"offsetgroup\": \"Clave platillo=EXT4603\", \"orientation\": \"v\", \"showlegend\": true, \"textposition\": \"auto\", \"type\": \"bar\", \"x\": [\"EXTRAS COCINA\"], \"xaxis\": \"x\", \"y\": [7.0], \"yaxis\": \"y\"}, {\"alignmentgroup\": \"True\", \"hoverlabel\": {\"namelength\": 0}, \"hovertemplate\": \"Clave platillo=EXT4602<br>Grupo=%{x}<br>Cantidad=%{y}\", \"legendgroup\": \"Clave platillo=EXT4602\", \"marker\": {\"color\": \"#FFA15A\"}, \"name\": \"Clave platillo=EXT4602\", \"offsetgroup\": \"Clave platillo=EXT4602\", \"orientation\": \"v\", \"showlegend\": true, \"textposition\": \"auto\", \"type\": \"bar\", \"x\": [\"EXTRAS COCINA\"], \"xaxis\": \"x\", \"y\": [4.0], \"yaxis\": \"y\"}, {\"alignmentgroup\": \"True\", \"hoverlabel\": {\"namelength\": 0}, \"hovertemplate\": \"Clave platillo=EXT4599<br>Grupo=%{x}<br>Cantidad=%{y}\", \"legendgroup\": \"Clave platillo=EXT4599\", \"marker\": {\"color\": \"#19d3f3\"}, \"name\": \"Clave platillo=EXT4599\", \"offsetgroup\": \"Clave platillo=EXT4599\", \"orientation\": \"v\", \"showlegend\": true, \"textposition\": \"auto\", \"type\": \"bar\", \"x\": [\"EXTRAS COCINA\"], \"xaxis\": \"x\", \"y\": [3.0], \"yaxis\": \"y\"}, {\"alignmentgroup\": \"True\", \"hoverlabel\": {\"namelength\": 0}, \"hovertemplate\": \"Clave platillo=EXT4598<br>Grupo=%{x}<br>Cantidad=%{y}\", \"legendgroup\": \"Clave platillo=EXT4598\", \"marker\": {\"color\": \"#FF6692\"}, \"name\": \"Clave platillo=EXT4598\", \"offsetgroup\": \"Clave platillo=EXT4598\", \"orientation\": \"v\", \"showlegend\": true, \"textposition\": \"auto\", \"type\": \"bar\", \"x\": [\"EXTRAS COCINA\"], \"xaxis\": \"x\", \"y\": [15.0], \"yaxis\": \"y\"}, {\"alignmentgroup\": \"True\", \"hoverlabel\": {\"namelength\": 0}, \"hovertemplate\": \"Clave platillo=EXT4596<br>Grupo=%{x}<br>Cantidad=%{y}\", \"legendgroup\": \"Clave platillo=EXT4596\", \"marker\": {\"color\": \"#B6E880\"}, \"name\": \"Clave platillo=EXT4596\", \"offsetgroup\": \"Clave platillo=EXT4596\", \"orientation\": \"v\", \"showlegend\": true, \"textposition\": \"auto\", \"type\": \"bar\", \"x\": [\"EXTRAS COCINA\"], \"xaxis\": \"x\", \"y\": [25.0], \"yaxis\": \"y\"}, {\"alignmentgroup\": \"True\", \"hoverlabel\": {\"namelength\": 0}, \"hovertemplate\": \"Clave platillo=EXT4595<br>Grupo=%{x}<br>Cantidad=%{y}\", \"legendgroup\": \"Clave platillo=EXT4595\", \"marker\": {\"color\": \"#FF97FF\"}, \"name\": \"Clave platillo=EXT4595\", \"offsetgroup\": \"Clave platillo=EXT4595\", \"orientation\": \"v\", \"showlegend\": true, \"textposition\": \"auto\", \"type\": \"bar\", \"x\": [\"EXTRAS COCINA\"], \"xaxis\": \"x\", \"y\": [4.0], \"yaxis\": \"y\"}, {\"alignmentgroup\": \"True\", \"hoverlabel\": {\"namelength\": 0}, \"hovertemplate\": \"Clave platillo=EXT4594<br>Grupo=%{x}<br>Cantidad=%{y}\", \"legendgroup\": \"Clave platillo=EXT4594\", \"marker\": {\"color\": \"#FECB52\"}, \"name\": \"Clave platillo=EXT4594\", \"offsetgroup\": \"Clave platillo=EXT4594\", \"orientation\": \"v\", \"showlegend\": true, \"textposition\": \"auto\", \"type\": \"bar\", \"x\": [\"EXTRAS COCINA\"], \"xaxis\": \"x\", \"y\": [1.0], \"yaxis\": \"y\"}, {\"alignmentgroup\": \"True\", \"hoverlabel\": {\"namelength\": 0}, \"hovertemplate\": \"Clave platillo=EXT4593<br>Grupo=%{x}<br>Cantidad=%{y}\", \"legendgroup\": \"Clave platillo=EXT4593\", \"marker\": {\"color\": \"#636efa\"}, \"name\": \"Clave platillo=EXT4593\", \"offsetgroup\": \"Clave platillo=EXT4593\", \"orientation\": \"v\", \"showlegend\": true, \"textposition\": \"auto\", \"type\": \"bar\", \"x\": [\"EXTRAS COCINA\"], \"xaxis\": \"x\", \"y\": [20.0], \"yaxis\": \"y\"}, {\"alignmentgroup\": \"True\", \"hoverlabel\": {\"namelength\": 0}, \"hovertemplate\": \"Clave platillo=EXT4590<br>Grupo=%{x}<br>Cantidad=%{y}\", \"legendgroup\": \"Clave platillo=EXT4590\", \"marker\": {\"color\": \"#EF553B\"}, \"name\": \"Clave platillo=EXT4590\", \"offsetgroup\": \"Clave platillo=EXT4590\", \"orientation\": \"v\", \"showlegend\": true, \"textposition\": \"auto\", \"type\": \"bar\", \"x\": [\"EXTRAS COCINA\"], \"xaxis\": \"x\", \"y\": [2.0], \"yaxis\": \"y\"}, {\"alignmentgroup\": \"True\", \"hoverlabel\": {\"namelength\": 0}, \"hovertemplate\": \"Clave platillo=EXT4589<br>Grupo=%{x}<br>Cantidad=%{y}\", \"legendgroup\": \"Clave platillo=EXT4589\", \"marker\": {\"color\": \"#00cc96\"}, \"name\": \"Clave platillo=EXT4589\", \"offsetgroup\": \"Clave platillo=EXT4589\", \"orientation\": \"v\", \"showlegend\": true, \"textposition\": \"auto\", \"type\": \"bar\", \"x\": [\"EXTRAS COCINA\"], \"xaxis\": \"x\", \"y\": [6.0], \"yaxis\": \"y\"}, {\"alignmentgroup\": \"True\", \"hoverlabel\": {\"namelength\": 0}, \"hovertemplate\": \"Clave platillo=EXT0105<br>Grupo=%{x}<br>Cantidad=%{y}\", \"legendgroup\": \"Clave platillo=EXT0105\", \"marker\": {\"color\": \"#ab63fa\"}, \"name\": \"Clave platillo=EXT0105\", \"offsetgroup\": \"Clave platillo=EXT0105\", \"orientation\": \"v\", \"showlegend\": true, \"textposition\": \"auto\", \"type\": \"bar\", \"x\": [\"EXTRAS COCINA\"], \"xaxis\": \"x\", \"y\": [8.0], \"yaxis\": \"y\"}, {\"alignmentgroup\": \"True\", \"hoverlabel\": {\"namelength\": 0}, \"hovertemplate\": \"Clave platillo=EXT0104<br>Grupo=%{x}<br>Cantidad=%{y}\", \"legendgroup\": \"Clave platillo=EXT0104\", \"marker\": {\"color\": \"#FFA15A\"}, \"name\": \"Clave platillo=EXT0104\", \"offsetgroup\": \"Clave platillo=EXT0104\", \"orientation\": \"v\", \"showlegend\": true, \"textposition\": \"auto\", \"type\": \"bar\", \"x\": [\"EXTRAS COCINA\"], \"xaxis\": \"x\", \"y\": [19.0], \"yaxis\": \"y\"}, {\"alignmentgroup\": \"True\", \"hoverlabel\": {\"namelength\": 0}, \"hovertemplate\": \"Clave platillo=EXT0103<br>Grupo=%{x}<br>Cantidad=%{y}\", \"legendgroup\": \"Clave platillo=EXT0103\", \"marker\": {\"color\": \"#19d3f3\"}, \"name\": \"Clave platillo=EXT0103\", \"offsetgroup\": \"Clave platillo=EXT0103\", \"orientation\": \"v\", \"showlegend\": true, \"textposition\": \"auto\", \"type\": \"bar\", \"x\": [\"EXTRAS COCINA\"], \"xaxis\": \"x\", \"y\": [135.0], \"yaxis\": \"y\"}, {\"alignmentgroup\": \"True\", \"hoverlabel\": {\"namelength\": 0}, \"hovertemplate\": \"Clave platillo=EXT0102<br>Grupo=%{x}<br>Cantidad=%{y}\", \"legendgroup\": \"Clave platillo=EXT0102\", \"marker\": {\"color\": \"#FF6692\"}, \"name\": \"Clave platillo=EXT0102\", \"offsetgroup\": \"Clave platillo=EXT0102\", \"orientation\": \"v\", \"showlegend\": true, \"textposition\": \"auto\", \"type\": \"bar\", \"x\": [\"EXTRAS COCINA\"], \"xaxis\": \"x\", \"y\": [6.0], \"yaxis\": \"y\"}, {\"alignmentgroup\": \"True\", \"hoverlabel\": {\"namelength\": 0}, \"hovertemplate\": \"Clave platillo=EXT005<br>Grupo=%{x}<br>Cantidad=%{y}\", \"legendgroup\": \"Clave platillo=EXT005\", \"marker\": {\"color\": \"#B6E880\"}, \"name\": \"Clave platillo=EXT005\", \"offsetgroup\": \"Clave platillo=EXT005\", \"orientation\": \"v\", \"showlegend\": true, \"textposition\": \"auto\", \"type\": \"bar\", \"x\": [\"EXTRAS BARRA\"], \"xaxis\": \"x\", \"y\": [9.0], \"yaxis\": \"y\"}, {\"alignmentgroup\": \"True\", \"hoverlabel\": {\"namelength\": 0}, \"hovertemplate\": \"Clave platillo=EXT004<br>Grupo=%{x}<br>Cantidad=%{y}\", \"legendgroup\": \"Clave platillo=EXT004\", \"marker\": {\"color\": \"#FF97FF\"}, \"name\": \"Clave platillo=EXT004\", \"offsetgroup\": \"Clave platillo=EXT004\", \"orientation\": \"v\", \"showlegend\": true, \"textposition\": \"auto\", \"type\": \"bar\", \"x\": [\"EXTRAS BARRA\"], \"xaxis\": \"x\", \"y\": [6.0], \"yaxis\": \"y\"}, {\"alignmentgroup\": \"True\", \"hoverlabel\": {\"namelength\": 0}, \"hovertemplate\": \"Clave platillo=EXT003<br>Grupo=%{x}<br>Cantidad=%{y}\", \"legendgroup\": \"Clave platillo=EXT003\", \"marker\": {\"color\": \"#FECB52\"}, \"name\": \"Clave platillo=EXT003\", \"offsetgroup\": \"Clave platillo=EXT003\", \"orientation\": \"v\", \"showlegend\": true, \"textposition\": \"auto\", \"type\": \"bar\", \"x\": [\"EXTRAS BARRA\"], \"xaxis\": \"x\", \"y\": [8.0], \"yaxis\": \"y\"}, {\"alignmentgroup\": \"True\", \"hoverlabel\": {\"namelength\": 0}, \"hovertemplate\": \"Clave platillo=ENT4<br>Grupo=%{x}<br>Cantidad=%{y}\", \"legendgroup\": \"Clave platillo=ENT4\", \"marker\": {\"color\": \"#636efa\"}, \"name\": \"Clave platillo=ENT4\", \"offsetgroup\": \"Clave platillo=ENT4\", \"orientation\": \"v\", \"showlegend\": true, \"textposition\": \"auto\", \"type\": \"bar\", \"x\": [\"ENTRADAS\"], \"xaxis\": \"x\", \"y\": [555.0], \"yaxis\": \"y\"}, {\"alignmentgroup\": \"True\", \"hoverlabel\": {\"namelength\": 0}, \"hovertemplate\": \"Clave platillo=ENT3<br>Grupo=%{x}<br>Cantidad=%{y}\", \"legendgroup\": \"Clave platillo=ENT3\", \"marker\": {\"color\": \"#EF553B\"}, \"name\": \"Clave platillo=ENT3\", \"offsetgroup\": \"Clave platillo=ENT3\", \"orientation\": \"v\", \"showlegend\": true, \"textposition\": \"auto\", \"type\": \"bar\", \"x\": [\"ENTRADAS\"], \"xaxis\": \"x\", \"y\": [45.0], \"yaxis\": \"y\"}, {\"alignmentgroup\": \"True\", \"hoverlabel\": {\"namelength\": 0}, \"hovertemplate\": \"Clave platillo=ENT2<br>Grupo=%{x}<br>Cantidad=%{y}\", \"legendgroup\": \"Clave platillo=ENT2\", \"marker\": {\"color\": \"#00cc96\"}, \"name\": \"Clave platillo=ENT2\", \"offsetgroup\": \"Clave platillo=ENT2\", \"orientation\": \"v\", \"showlegend\": true, \"textposition\": \"auto\", \"type\": \"bar\", \"x\": [\"ENTRADAS\"], \"xaxis\": \"x\", \"y\": [56.0], \"yaxis\": \"y\"}, {\"alignmentgroup\": \"True\", \"hoverlabel\": {\"namelength\": 0}, \"hovertemplate\": \"Clave platillo=ENT1<br>Grupo=%{x}<br>Cantidad=%{y}\", \"legendgroup\": \"Clave platillo=ENT1\", \"marker\": {\"color\": \"#ab63fa\"}, \"name\": \"Clave platillo=ENT1\", \"offsetgroup\": \"Clave platillo=ENT1\", \"orientation\": \"v\", \"showlegend\": true, \"textposition\": \"auto\", \"type\": \"bar\", \"x\": [\"ENTRADAS\"], \"xaxis\": \"x\", \"y\": [318.0], \"yaxis\": \"y\"}, {\"alignmentgroup\": \"True\", \"hoverlabel\": {\"namelength\": 0}, \"hovertemplate\": \"Clave platillo=ENS4<br>Grupo=%{x}<br>Cantidad=%{y}\", \"legendgroup\": \"Clave platillo=ENS4\", \"marker\": {\"color\": \"#FFA15A\"}, \"name\": \"Clave platillo=ENS4\", \"offsetgroup\": \"Clave platillo=ENS4\", \"orientation\": \"v\", \"showlegend\": true, \"textposition\": \"auto\", \"type\": \"bar\", \"x\": [\"ENSALADAS\"], \"xaxis\": \"x\", \"y\": [68.0], \"yaxis\": \"y\"}, {\"alignmentgroup\": \"True\", \"hoverlabel\": {\"namelength\": 0}, \"hovertemplate\": \"Clave platillo=ENS3<br>Grupo=%{x}<br>Cantidad=%{y}\", \"legendgroup\": \"Clave platillo=ENS3\", \"marker\": {\"color\": \"#19d3f3\"}, \"name\": \"Clave platillo=ENS3\", \"offsetgroup\": \"Clave platillo=ENS3\", \"orientation\": \"v\", \"showlegend\": true, \"textposition\": \"auto\", \"type\": \"bar\", \"x\": [\"ENSALADAS\"], \"xaxis\": \"x\", \"y\": [50.0], \"yaxis\": \"y\"}, {\"alignmentgroup\": \"True\", \"hoverlabel\": {\"namelength\": 0}, \"hovertemplate\": \"Clave platillo=ENS2<br>Grupo=%{x}<br>Cantidad=%{y}\", \"legendgroup\": \"Clave platillo=ENS2\", \"marker\": {\"color\": \"#FF6692\"}, \"name\": \"Clave platillo=ENS2\", \"offsetgroup\": \"Clave platillo=ENS2\", \"orientation\": \"v\", \"showlegend\": true, \"textposition\": \"auto\", \"type\": \"bar\", \"x\": [\"ENSALADAS\"], \"xaxis\": \"x\", \"y\": [57.0], \"yaxis\": \"y\"}, {\"alignmentgroup\": \"True\", \"hoverlabel\": {\"namelength\": 0}, \"hovertemplate\": \"Clave platillo=ENS1<br>Grupo=%{x}<br>Cantidad=%{y}\", \"legendgroup\": \"Clave platillo=ENS1\", \"marker\": {\"color\": \"#B6E880\"}, \"name\": \"Clave platillo=ENS1\", \"offsetgroup\": \"Clave platillo=ENS1\", \"orientation\": \"v\", \"showlegend\": true, \"textposition\": \"auto\", \"type\": \"bar\", \"x\": [\"ENSALADAS\"], \"xaxis\": \"x\", \"y\": [81.0], \"yaxis\": \"y\"}, {\"alignmentgroup\": \"True\", \"hoverlabel\": {\"namelength\": 0}, \"hovertemplate\": \"Clave platillo=DES61<br>Grupo=%{x}<br>Cantidad=%{y}\", \"legendgroup\": \"Clave platillo=DES61\", \"marker\": {\"color\": \"#FF97FF\"}, \"name\": \"Clave platillo=DES61\", \"offsetgroup\": \"Clave platillo=DES61\", \"orientation\": \"v\", \"showlegend\": true, \"textposition\": \"auto\", \"type\": \"bar\", \"x\": [\"DESTILADOS\"], \"xaxis\": \"x\", \"y\": [1.0], \"yaxis\": \"y\"}, {\"alignmentgroup\": \"True\", \"hoverlabel\": {\"namelength\": 0}, \"hovertemplate\": \"Clave platillo=DES5<br>Grupo=%{x}<br>Cantidad=%{y}\", \"legendgroup\": \"Clave platillo=DES5\", \"marker\": {\"color\": \"#FECB52\"}, \"name\": \"Clave platillo=DES5\", \"offsetgroup\": \"Clave platillo=DES5\", \"orientation\": \"v\", \"showlegend\": true, \"textposition\": \"auto\", \"type\": \"bar\", \"x\": [\"DESTILADOS\"], \"xaxis\": \"x\", \"y\": [14.0], \"yaxis\": \"y\"}, {\"alignmentgroup\": \"True\", \"hoverlabel\": {\"namelength\": 0}, \"hovertemplate\": \"Clave platillo=DES41<br>Grupo=%{x}<br>Cantidad=%{y}\", \"legendgroup\": \"Clave platillo=DES41\", \"marker\": {\"color\": \"#636efa\"}, \"name\": \"Clave platillo=DES41\", \"offsetgroup\": \"Clave platillo=DES41\", \"orientation\": \"v\", \"showlegend\": true, \"textposition\": \"auto\", \"type\": \"bar\", \"x\": [\"DESTILADOS\"], \"xaxis\": \"x\", \"y\": [4.0], \"yaxis\": \"y\"}, {\"alignmentgroup\": \"True\", \"hoverlabel\": {\"namelength\": 0}, \"hovertemplate\": \"Clave platillo=DES40<br>Grupo=%{x}<br>Cantidad=%{y}\", \"legendgroup\": \"Clave platillo=DES40\", \"marker\": {\"color\": \"#EF553B\"}, \"name\": \"Clave platillo=DES40\", \"offsetgroup\": \"Clave platillo=DES40\", \"orientation\": \"v\", \"showlegend\": true, \"textposition\": \"auto\", \"type\": \"bar\", \"x\": [\"DESTILADOS\"], \"xaxis\": \"x\", \"y\": [1.0], \"yaxis\": \"y\"}, {\"alignmentgroup\": \"True\", \"hoverlabel\": {\"namelength\": 0}, \"hovertemplate\": \"Clave platillo=DES39<br>Grupo=%{x}<br>Cantidad=%{y}\", \"legendgroup\": \"Clave platillo=DES39\", \"marker\": {\"color\": \"#00cc96\"}, \"name\": \"Clave platillo=DES39\", \"offsetgroup\": \"Clave platillo=DES39\", \"orientation\": \"v\", \"showlegend\": true, \"textposition\": \"auto\", \"type\": \"bar\", \"x\": [\"DESTILADOS\"], \"xaxis\": \"x\", \"y\": [1.0], \"yaxis\": \"y\"}, {\"alignmentgroup\": \"True\", \"hoverlabel\": {\"namelength\": 0}, \"hovertemplate\": \"Clave platillo=DES36<br>Grupo=%{x}<br>Cantidad=%{y}\", \"legendgroup\": \"Clave platillo=DES36\", \"marker\": {\"color\": \"#ab63fa\"}, \"name\": \"Clave platillo=DES36\", \"offsetgroup\": \"Clave platillo=DES36\", \"orientation\": \"v\", \"showlegend\": true, \"textposition\": \"auto\", \"type\": \"bar\", \"x\": [\"DESTILADOS\"], \"xaxis\": \"x\", \"y\": [3.0], \"yaxis\": \"y\"}, {\"alignmentgroup\": \"True\", \"hoverlabel\": {\"namelength\": 0}, \"hovertemplate\": \"Clave platillo=DES32<br>Grupo=%{x}<br>Cantidad=%{y}\", \"legendgroup\": \"Clave platillo=DES32\", \"marker\": {\"color\": \"#FFA15A\"}, \"name\": \"Clave platillo=DES32\", \"offsetgroup\": \"Clave platillo=DES32\", \"orientation\": \"v\", \"showlegend\": true, \"textposition\": \"auto\", \"type\": \"bar\", \"x\": [\"DESTILADOS\"], \"xaxis\": \"x\", \"y\": [7.0], \"yaxis\": \"y\"}, {\"alignmentgroup\": \"True\", \"hoverlabel\": {\"namelength\": 0}, \"hovertemplate\": \"Clave platillo=DES28<br>Grupo=%{x}<br>Cantidad=%{y}\", \"legendgroup\": \"Clave platillo=DES28\", \"marker\": {\"color\": \"#19d3f3\"}, \"name\": \"Clave platillo=DES28\", \"offsetgroup\": \"Clave platillo=DES28\", \"orientation\": \"v\", \"showlegend\": true, \"textposition\": \"auto\", \"type\": \"bar\", \"x\": [\"DESTILADOS\"], \"xaxis\": \"x\", \"y\": [8.0], \"yaxis\": \"y\"}, {\"alignmentgroup\": \"True\", \"hoverlabel\": {\"namelength\": 0}, \"hovertemplate\": \"Clave platillo=DES27<br>Grupo=%{x}<br>Cantidad=%{y}\", \"legendgroup\": \"Clave platillo=DES27\", \"marker\": {\"color\": \"#FF6692\"}, \"name\": \"Clave platillo=DES27\", \"offsetgroup\": \"Clave platillo=DES27\", \"orientation\": \"v\", \"showlegend\": true, \"textposition\": \"auto\", \"type\": \"bar\", \"x\": [\"DESTILADOS\"], \"xaxis\": \"x\", \"y\": [14.0], \"yaxis\": \"y\"}, {\"alignmentgroup\": \"True\", \"hoverlabel\": {\"namelength\": 0}, \"hovertemplate\": \"Clave platillo=DES26<br>Grupo=%{x}<br>Cantidad=%{y}\", \"legendgroup\": \"Clave platillo=DES26\", \"marker\": {\"color\": \"#B6E880\"}, \"name\": \"Clave platillo=DES26\", \"offsetgroup\": \"Clave platillo=DES26\", \"orientation\": \"v\", \"showlegend\": true, \"textposition\": \"auto\", \"type\": \"bar\", \"x\": [\"DESTILADOS\"], \"xaxis\": \"x\", \"y\": [4.0], \"yaxis\": \"y\"}, {\"alignmentgroup\": \"True\", \"hoverlabel\": {\"namelength\": 0}, \"hovertemplate\": \"Clave platillo=DES25<br>Grupo=%{x}<br>Cantidad=%{y}\", \"legendgroup\": \"Clave platillo=DES25\", \"marker\": {\"color\": \"#FF97FF\"}, \"name\": \"Clave platillo=DES25\", \"offsetgroup\": \"Clave platillo=DES25\", \"orientation\": \"v\", \"showlegend\": true, \"textposition\": \"auto\", \"type\": \"bar\", \"x\": [\"DESTILADOS\"], \"xaxis\": \"x\", \"y\": [2.0], \"yaxis\": \"y\"}, {\"alignmentgroup\": \"True\", \"hoverlabel\": {\"namelength\": 0}, \"hovertemplate\": \"Clave platillo=DES23<br>Grupo=%{x}<br>Cantidad=%{y}\", \"legendgroup\": \"Clave platillo=DES23\", \"marker\": {\"color\": \"#FECB52\"}, \"name\": \"Clave platillo=DES23\", \"offsetgroup\": \"Clave platillo=DES23\", \"orientation\": \"v\", \"showlegend\": true, \"textposition\": \"auto\", \"type\": \"bar\", \"x\": [\"DESTILADOS\"], \"xaxis\": \"x\", \"y\": [7.0], \"yaxis\": \"y\"}, {\"alignmentgroup\": \"True\", \"hoverlabel\": {\"namelength\": 0}, \"hovertemplate\": \"Clave platillo=DES22<br>Grupo=%{x}<br>Cantidad=%{y}\", \"legendgroup\": \"Clave platillo=DES22\", \"marker\": {\"color\": \"#636efa\"}, \"name\": \"Clave platillo=DES22\", \"offsetgroup\": \"Clave platillo=DES22\", \"orientation\": \"v\", \"showlegend\": true, \"textposition\": \"auto\", \"type\": \"bar\", \"x\": [\"DESTILADOS\"], \"xaxis\": \"x\", \"y\": [12.0], \"yaxis\": \"y\"}, {\"alignmentgroup\": \"True\", \"hoverlabel\": {\"namelength\": 0}, \"hovertemplate\": \"Clave platillo=DES21<br>Grupo=%{x}<br>Cantidad=%{y}\", \"legendgroup\": \"Clave platillo=DES21\", \"marker\": {\"color\": \"#EF553B\"}, \"name\": \"Clave platillo=DES21\", \"offsetgroup\": \"Clave platillo=DES21\", \"orientation\": \"v\", \"showlegend\": true, \"textposition\": \"auto\", \"type\": \"bar\", \"x\": [\"DESTILADOS\"], \"xaxis\": \"x\", \"y\": [2.0], \"yaxis\": \"y\"}, {\"alignmentgroup\": \"True\", \"hoverlabel\": {\"namelength\": 0}, \"hovertemplate\": \"Clave platillo=DES20<br>Grupo=%{x}<br>Cantidad=%{y}\", \"legendgroup\": \"Clave platillo=DES20\", \"marker\": {\"color\": \"#00cc96\"}, \"name\": \"Clave platillo=DES20\", \"offsetgroup\": \"Clave platillo=DES20\", \"orientation\": \"v\", \"showlegend\": true, \"textposition\": \"auto\", \"type\": \"bar\", \"x\": [\"DESTILADOS\"], \"xaxis\": \"x\", \"y\": [2.0], \"yaxis\": \"y\"}, {\"alignmentgroup\": \"True\", \"hoverlabel\": {\"namelength\": 0}, \"hovertemplate\": \"Clave platillo=DES2<br>Grupo=%{x}<br>Cantidad=%{y}\", \"legendgroup\": \"Clave platillo=DES2\", \"marker\": {\"color\": \"#ab63fa\"}, \"name\": \"Clave platillo=DES2\", \"offsetgroup\": \"Clave platillo=DES2\", \"orientation\": \"v\", \"showlegend\": true, \"textposition\": \"auto\", \"type\": \"bar\", \"x\": [\"DESTILADOS\"], \"xaxis\": \"x\", \"y\": [23.0], \"yaxis\": \"y\"}, {\"alignmentgroup\": \"True\", \"hoverlabel\": {\"namelength\": 0}, \"hovertemplate\": \"Clave platillo=DES19<br>Grupo=%{x}<br>Cantidad=%{y}\", \"legendgroup\": \"Clave platillo=DES19\", \"marker\": {\"color\": \"#FFA15A\"}, \"name\": \"Clave platillo=DES19\", \"offsetgroup\": \"Clave platillo=DES19\", \"orientation\": \"v\", \"showlegend\": true, \"textposition\": \"auto\", \"type\": \"bar\", \"x\": [\"DESTILADOS\"], \"xaxis\": \"x\", \"y\": [4.0], \"yaxis\": \"y\"}, {\"alignmentgroup\": \"True\", \"hoverlabel\": {\"namelength\": 0}, \"hovertemplate\": \"Clave platillo=DES17<br>Grupo=%{x}<br>Cantidad=%{y}\", \"legendgroup\": \"Clave platillo=DES17\", \"marker\": {\"color\": \"#19d3f3\"}, \"name\": \"Clave platillo=DES17\", \"offsetgroup\": \"Clave platillo=DES17\", \"orientation\": \"v\", \"showlegend\": true, \"textposition\": \"auto\", \"type\": \"bar\", \"x\": [\"DESTILADOS\"], \"xaxis\": \"x\", \"y\": [4.0], \"yaxis\": \"y\"}, {\"alignmentgroup\": \"True\", \"hoverlabel\": {\"namelength\": 0}, \"hovertemplate\": \"Clave platillo=DES15<br>Grupo=%{x}<br>Cantidad=%{y}\", \"legendgroup\": \"Clave platillo=DES15\", \"marker\": {\"color\": \"#FF6692\"}, \"name\": \"Clave platillo=DES15\", \"offsetgroup\": \"Clave platillo=DES15\", \"orientation\": \"v\", \"showlegend\": true, \"textposition\": \"auto\", \"type\": \"bar\", \"x\": [\"DESTILADOS\"], \"xaxis\": \"x\", \"y\": [2.0], \"yaxis\": \"y\"}, {\"alignmentgroup\": \"True\", \"hoverlabel\": {\"namelength\": 0}, \"hovertemplate\": \"Clave platillo=DES14<br>Grupo=%{x}<br>Cantidad=%{y}\", \"legendgroup\": \"Clave platillo=DES14\", \"marker\": {\"color\": \"#B6E880\"}, \"name\": \"Clave platillo=DES14\", \"offsetgroup\": \"Clave platillo=DES14\", \"orientation\": \"v\", \"showlegend\": true, \"textposition\": \"auto\", \"type\": \"bar\", \"x\": [\"DESTILADOS\"], \"xaxis\": \"x\", \"y\": [4.0], \"yaxis\": \"y\"}, {\"alignmentgroup\": \"True\", \"hoverlabel\": {\"namelength\": 0}, \"hovertemplate\": \"Clave platillo=DES12<br>Grupo=%{x}<br>Cantidad=%{y}\", \"legendgroup\": \"Clave platillo=DES12\", \"marker\": {\"color\": \"#FF97FF\"}, \"name\": \"Clave platillo=DES12\", \"offsetgroup\": \"Clave platillo=DES12\", \"orientation\": \"v\", \"showlegend\": true, \"textposition\": \"auto\", \"type\": \"bar\", \"x\": [\"DESTILADOS\"], \"xaxis\": \"x\", \"y\": [2.0], \"yaxis\": \"y\"}, {\"alignmentgroup\": \"True\", \"hoverlabel\": {\"namelength\": 0}, \"hovertemplate\": \"Clave platillo=DES10<br>Grupo=%{x}<br>Cantidad=%{y}\", \"legendgroup\": \"Clave platillo=DES10\", \"marker\": {\"color\": \"#FECB52\"}, \"name\": \"Clave platillo=DES10\", \"offsetgroup\": \"Clave platillo=DES10\", \"orientation\": \"v\", \"showlegend\": true, \"textposition\": \"auto\", \"type\": \"bar\", \"x\": [\"DESTILADOS\"], \"xaxis\": \"x\", \"y\": [1.0], \"yaxis\": \"y\"}, {\"alignmentgroup\": \"True\", \"hoverlabel\": {\"namelength\": 0}, \"hovertemplate\": \"Clave platillo=DES1<br>Grupo=%{x}<br>Cantidad=%{y}\", \"legendgroup\": \"Clave platillo=DES1\", \"marker\": {\"color\": \"#636efa\"}, \"name\": \"Clave platillo=DES1\", \"offsetgroup\": \"Clave platillo=DES1\", \"orientation\": \"v\", \"showlegend\": true, \"textposition\": \"auto\", \"type\": \"bar\", \"x\": [\"DESTILADOS\"], \"xaxis\": \"x\", \"y\": [6.0], \"yaxis\": \"y\"}, {\"alignmentgroup\": \"True\", \"hoverlabel\": {\"namelength\": 0}, \"hovertemplate\": \"Clave platillo=DES08<br>Grupo=%{x}<br>Cantidad=%{y}\", \"legendgroup\": \"Clave platillo=DES08\", \"marker\": {\"color\": \"#EF553B\"}, \"name\": \"Clave platillo=DES08\", \"offsetgroup\": \"Clave platillo=DES08\", \"orientation\": \"v\", \"showlegend\": true, \"textposition\": \"auto\", \"type\": \"bar\", \"x\": [\"DESTILADOS\"], \"xaxis\": \"x\", \"y\": [3.0], \"yaxis\": \"y\"}, {\"alignmentgroup\": \"True\", \"hoverlabel\": {\"namelength\": 0}, \"hovertemplate\": \"Clave platillo=DES07<br>Grupo=%{x}<br>Cantidad=%{y}\", \"legendgroup\": \"Clave platillo=DES07\", \"marker\": {\"color\": \"#00cc96\"}, \"name\": \"Clave platillo=DES07\", \"offsetgroup\": \"Clave platillo=DES07\", \"orientation\": \"v\", \"showlegend\": true, \"textposition\": \"auto\", \"type\": \"bar\", \"x\": [\"DESTILADOS\"], \"xaxis\": \"x\", \"y\": [3.0], \"yaxis\": \"y\"}, {\"alignmentgroup\": \"True\", \"hoverlabel\": {\"namelength\": 0}, \"hovertemplate\": \"Clave platillo=DES06<br>Grupo=%{x}<br>Cantidad=%{y}\", \"legendgroup\": \"Clave platillo=DES06\", \"marker\": {\"color\": \"#ab63fa\"}, \"name\": \"Clave platillo=DES06\", \"offsetgroup\": \"Clave platillo=DES06\", \"orientation\": \"v\", \"showlegend\": true, \"textposition\": \"auto\", \"type\": \"bar\", \"x\": [\"DESTILADOS\"], \"xaxis\": \"x\", \"y\": [14.0], \"yaxis\": \"y\"}, {\"alignmentgroup\": \"True\", \"hoverlabel\": {\"namelength\": 0}, \"hovertemplate\": \"Clave platillo=DES05<br>Grupo=%{x}<br>Cantidad=%{y}\", \"legendgroup\": \"Clave platillo=DES05\", \"marker\": {\"color\": \"#FFA15A\"}, \"name\": \"Clave platillo=DES05\", \"offsetgroup\": \"Clave platillo=DES05\", \"orientation\": \"v\", \"showlegend\": true, \"textposition\": \"auto\", \"type\": \"bar\", \"x\": [\"DESTILADOS\"], \"xaxis\": \"x\", \"y\": [4.0], \"yaxis\": \"y\"}, {\"alignmentgroup\": \"True\", \"hoverlabel\": {\"namelength\": 0}, \"hovertemplate\": \"Clave platillo=DES04<br>Grupo=%{x}<br>Cantidad=%{y}\", \"legendgroup\": \"Clave platillo=DES04\", \"marker\": {\"color\": \"#19d3f3\"}, \"name\": \"Clave platillo=DES04\", \"offsetgroup\": \"Clave platillo=DES04\", \"orientation\": \"v\", \"showlegend\": true, \"textposition\": \"auto\", \"type\": \"bar\", \"x\": [\"DESTILADOS\"], \"xaxis\": \"x\", \"y\": [1.0], \"yaxis\": \"y\"}, {\"alignmentgroup\": \"True\", \"hoverlabel\": {\"namelength\": 0}, \"hovertemplate\": \"Clave platillo=DES03<br>Grupo=%{x}<br>Cantidad=%{y}\", \"legendgroup\": \"Clave platillo=DES03\", \"marker\": {\"color\": \"#FF6692\"}, \"name\": \"Clave platillo=DES03\", \"offsetgroup\": \"Clave platillo=DES03\", \"orientation\": \"v\", \"showlegend\": true, \"textposition\": \"auto\", \"type\": \"bar\", \"x\": [\"DESTILADOS\"], \"xaxis\": \"x\", \"y\": [1.0], \"yaxis\": \"y\"}, {\"alignmentgroup\": \"True\", \"hoverlabel\": {\"namelength\": 0}, \"hovertemplate\": \"Clave platillo=DES02<br>Grupo=%{x}<br>Cantidad=%{y}\", \"legendgroup\": \"Clave platillo=DES02\", \"marker\": {\"color\": \"#B6E880\"}, \"name\": \"Clave platillo=DES02\", \"offsetgroup\": \"Clave platillo=DES02\", \"orientation\": \"v\", \"showlegend\": true, \"textposition\": \"auto\", \"type\": \"bar\", \"x\": [\"DESTILADOS\"], \"xaxis\": \"x\", \"y\": [5.0], \"yaxis\": \"y\"}, {\"alignmentgroup\": \"True\", \"hoverlabel\": {\"namelength\": 0}, \"hovertemplate\": \"Clave platillo=DES01<br>Grupo=%{x}<br>Cantidad=%{y}\", \"legendgroup\": \"Clave platillo=DES01\", \"marker\": {\"color\": \"#FF97FF\"}, \"name\": \"Clave platillo=DES01\", \"offsetgroup\": \"Clave platillo=DES01\", \"orientation\": \"v\", \"showlegend\": true, \"textposition\": \"auto\", \"type\": \"bar\", \"x\": [\"DESTILADOS\"], \"xaxis\": \"x\", \"y\": [2.0], \"yaxis\": \"y\"}, {\"alignmentgroup\": \"True\", \"hoverlabel\": {\"namelength\": 0}, \"hovertemplate\": \"Clave platillo=CLA5<br>Grupo=%{x}<br>Cantidad=%{y}\", \"legendgroup\": \"Clave platillo=CLA5\", \"marker\": {\"color\": \"#FECB52\"}, \"name\": \"Clave platillo=CLA5\", \"offsetgroup\": \"Clave platillo=CLA5\", \"orientation\": \"v\", \"showlegend\": true, \"textposition\": \"auto\", \"type\": \"bar\", \"x\": [\"CL\\u00c1SICOS\"], \"xaxis\": \"x\", \"y\": [110.0], \"yaxis\": \"y\"}, {\"alignmentgroup\": \"True\", \"hoverlabel\": {\"namelength\": 0}, \"hovertemplate\": \"Clave platillo=CLA4<br>Grupo=%{x}<br>Cantidad=%{y}\", \"legendgroup\": \"Clave platillo=CLA4\", \"marker\": {\"color\": \"#636efa\"}, \"name\": \"Clave platillo=CLA4\", \"offsetgroup\": \"Clave platillo=CLA4\", \"orientation\": \"v\", \"showlegend\": true, \"textposition\": \"auto\", \"type\": \"bar\", \"x\": [\"CL\\u00c1SICOS\"], \"xaxis\": \"x\", \"y\": [58.0], \"yaxis\": \"y\"}, {\"alignmentgroup\": \"True\", \"hoverlabel\": {\"namelength\": 0}, \"hovertemplate\": \"Clave platillo=CLA3<br>Grupo=%{x}<br>Cantidad=%{y}\", \"legendgroup\": \"Clave platillo=CLA3\", \"marker\": {\"color\": \"#EF553B\"}, \"name\": \"Clave platillo=CLA3\", \"offsetgroup\": \"Clave platillo=CLA3\", \"orientation\": \"v\", \"showlegend\": true, \"textposition\": \"auto\", \"type\": \"bar\", \"x\": [\"CL\\u00c1SICOS\"], \"xaxis\": \"x\", \"y\": [189.0], \"yaxis\": \"y\"}, {\"alignmentgroup\": \"True\", \"hoverlabel\": {\"namelength\": 0}, \"hovertemplate\": \"Clave platillo=CLA2<br>Grupo=%{x}<br>Cantidad=%{y}\", \"legendgroup\": \"Clave platillo=CLA2\", \"marker\": {\"color\": \"#00cc96\"}, \"name\": \"Clave platillo=CLA2\", \"offsetgroup\": \"Clave platillo=CLA2\", \"orientation\": \"v\", \"showlegend\": true, \"textposition\": \"auto\", \"type\": \"bar\", \"x\": [\"CL\\u00c1SICOS\"], \"xaxis\": \"x\", \"y\": [121.0], \"yaxis\": \"y\"}, {\"alignmentgroup\": \"True\", \"hoverlabel\": {\"namelength\": 0}, \"hovertemplate\": \"Clave platillo=CLA1<br>Grupo=%{x}<br>Cantidad=%{y}\", \"legendgroup\": \"Clave platillo=CLA1\", \"marker\": {\"color\": \"#ab63fa\"}, \"name\": \"Clave platillo=CLA1\", \"offsetgroup\": \"Clave platillo=CLA1\", \"orientation\": \"v\", \"showlegend\": true, \"textposition\": \"auto\", \"type\": \"bar\", \"x\": [\"CL\\u00c1SICOS\"], \"xaxis\": \"x\", \"y\": [1219.0], \"yaxis\": \"y\"}, {\"alignmentgroup\": \"True\", \"hoverlabel\": {\"namelength\": 0}, \"hovertemplate\": \"Clave platillo=BSP9<br>Grupo=%{x}<br>Cantidad=%{y}\", \"legendgroup\": \"Clave platillo=BSP9\", \"marker\": {\"color\": \"#FFA15A\"}, \"name\": \"Clave platillo=BSP9\", \"offsetgroup\": \"Clave platillo=BSP9\", \"orientation\": \"v\", \"showlegend\": true, \"textposition\": \"auto\", \"type\": \"bar\", \"x\": [\"BEBIDAS S\\u00daPER\"], \"xaxis\": \"x\", \"y\": [5.0], \"yaxis\": \"y\"}, {\"alignmentgroup\": \"True\", \"hoverlabel\": {\"namelength\": 0}, \"hovertemplate\": \"Clave platillo=BSP7<br>Grupo=%{x}<br>Cantidad=%{y}\", \"legendgroup\": \"Clave platillo=BSP7\", \"marker\": {\"color\": \"#19d3f3\"}, \"name\": \"Clave platillo=BSP7\", \"offsetgroup\": \"Clave platillo=BSP7\", \"orientation\": \"v\", \"showlegend\": true, \"textposition\": \"auto\", \"type\": \"bar\", \"x\": [\"BEBIDAS S\\u00daPER\"], \"xaxis\": \"x\", \"y\": [3.0], \"yaxis\": \"y\"}, {\"alignmentgroup\": \"True\", \"hoverlabel\": {\"namelength\": 0}, \"hovertemplate\": \"Clave platillo=BSP6<br>Grupo=%{x}<br>Cantidad=%{y}\", \"legendgroup\": \"Clave platillo=BSP6\", \"marker\": {\"color\": \"#FF6692\"}, \"name\": \"Clave platillo=BSP6\", \"offsetgroup\": \"Clave platillo=BSP6\", \"orientation\": \"v\", \"showlegend\": true, \"textposition\": \"auto\", \"type\": \"bar\", \"x\": [\"BEBIDAS S\\u00daPER\"], \"xaxis\": \"x\", \"y\": [1.0], \"yaxis\": \"y\"}, {\"alignmentgroup\": \"True\", \"hoverlabel\": {\"namelength\": 0}, \"hovertemplate\": \"Clave platillo=BSP5<br>Grupo=%{x}<br>Cantidad=%{y}\", \"legendgroup\": \"Clave platillo=BSP5\", \"marker\": {\"color\": \"#B6E880\"}, \"name\": \"Clave platillo=BSP5\", \"offsetgroup\": \"Clave platillo=BSP5\", \"orientation\": \"v\", \"showlegend\": true, \"textposition\": \"auto\", \"type\": \"bar\", \"x\": [\"BEBIDAS S\\u00daPER\"], \"xaxis\": \"x\", \"y\": [3.0], \"yaxis\": \"y\"}, {\"alignmentgroup\": \"True\", \"hoverlabel\": {\"namelength\": 0}, \"hovertemplate\": \"Clave platillo=BSP3<br>Grupo=%{x}<br>Cantidad=%{y}\", \"legendgroup\": \"Clave platillo=BSP3\", \"marker\": {\"color\": \"#FF97FF\"}, \"name\": \"Clave platillo=BSP3\", \"offsetgroup\": \"Clave platillo=BSP3\", \"orientation\": \"v\", \"showlegend\": true, \"textposition\": \"auto\", \"type\": \"bar\", \"x\": [\"BEBIDAS S\\u00daPER\"], \"xaxis\": \"x\", \"y\": [7.0], \"yaxis\": \"y\"}, {\"alignmentgroup\": \"True\", \"hoverlabel\": {\"namelength\": 0}, \"hovertemplate\": \"Clave platillo=BSP2<br>Grupo=%{x}<br>Cantidad=%{y}\", \"legendgroup\": \"Clave platillo=BSP2\", \"marker\": {\"color\": \"#FECB52\"}, \"name\": \"Clave platillo=BSP2\", \"offsetgroup\": \"Clave platillo=BSP2\", \"orientation\": \"v\", \"showlegend\": true, \"textposition\": \"auto\", \"type\": \"bar\", \"x\": [\"BEBIDAS S\\u00daPER\"], \"xaxis\": \"x\", \"y\": [2.0], \"yaxis\": \"y\"}, {\"alignmentgroup\": \"True\", \"hoverlabel\": {\"namelength\": 0}, \"hovertemplate\": \"Clave platillo=BSP18<br>Grupo=%{x}<br>Cantidad=%{y}\", \"legendgroup\": \"Clave platillo=BSP18\", \"marker\": {\"color\": \"#636efa\"}, \"name\": \"Clave platillo=BSP18\", \"offsetgroup\": \"Clave platillo=BSP18\", \"orientation\": \"v\", \"showlegend\": true, \"textposition\": \"auto\", \"type\": \"bar\", \"x\": [\"BEBIDAS S\\u00daPER\"], \"xaxis\": \"x\", \"y\": [1.0], \"yaxis\": \"y\"}, {\"alignmentgroup\": \"True\", \"hoverlabel\": {\"namelength\": 0}, \"hovertemplate\": \"Clave platillo=BSP17<br>Grupo=%{x}<br>Cantidad=%{y}\", \"legendgroup\": \"Clave platillo=BSP17\", \"marker\": {\"color\": \"#EF553B\"}, \"name\": \"Clave platillo=BSP17\", \"offsetgroup\": \"Clave platillo=BSP17\", \"orientation\": \"v\", \"showlegend\": true, \"textposition\": \"auto\", \"type\": \"bar\", \"x\": [\"BEBIDAS S\\u00daPER\"], \"xaxis\": \"x\", \"y\": [3.0], \"yaxis\": \"y\"}, {\"alignmentgroup\": \"True\", \"hoverlabel\": {\"namelength\": 0}, \"hovertemplate\": \"Clave platillo=BSP16<br>Grupo=%{x}<br>Cantidad=%{y}\", \"legendgroup\": \"Clave platillo=BSP16\", \"marker\": {\"color\": \"#00cc96\"}, \"name\": \"Clave platillo=BSP16\", \"offsetgroup\": \"Clave platillo=BSP16\", \"orientation\": \"v\", \"showlegend\": true, \"textposition\": \"auto\", \"type\": \"bar\", \"x\": [\"BEBIDAS S\\u00daPER\"], \"xaxis\": \"x\", \"y\": [3.0], \"yaxis\": \"y\"}, {\"alignmentgroup\": \"True\", \"hoverlabel\": {\"namelength\": 0}, \"hovertemplate\": \"Clave platillo=BSP15<br>Grupo=%{x}<br>Cantidad=%{y}\", \"legendgroup\": \"Clave platillo=BSP15\", \"marker\": {\"color\": \"#ab63fa\"}, \"name\": \"Clave platillo=BSP15\", \"offsetgroup\": \"Clave platillo=BSP15\", \"orientation\": \"v\", \"showlegend\": true, \"textposition\": \"auto\", \"type\": \"bar\", \"x\": [\"BEBIDAS S\\u00daPER\"], \"xaxis\": \"x\", \"y\": [24.0], \"yaxis\": \"y\"}, {\"alignmentgroup\": \"True\", \"hoverlabel\": {\"namelength\": 0}, \"hovertemplate\": \"Clave platillo=BSP14<br>Grupo=%{x}<br>Cantidad=%{y}\", \"legendgroup\": \"Clave platillo=BSP14\", \"marker\": {\"color\": \"#FFA15A\"}, \"name\": \"Clave platillo=BSP14\", \"offsetgroup\": \"Clave platillo=BSP14\", \"orientation\": \"v\", \"showlegend\": true, \"textposition\": \"auto\", \"type\": \"bar\", \"x\": [\"BEBIDAS S\\u00daPER\"], \"xaxis\": \"x\", \"y\": [1.0], \"yaxis\": \"y\"}, {\"alignmentgroup\": \"True\", \"hoverlabel\": {\"namelength\": 0}, \"hovertemplate\": \"Clave platillo=BSP12<br>Grupo=%{x}<br>Cantidad=%{y}\", \"legendgroup\": \"Clave platillo=BSP12\", \"marker\": {\"color\": \"#19d3f3\"}, \"name\": \"Clave platillo=BSP12\", \"offsetgroup\": \"Clave platillo=BSP12\", \"orientation\": \"v\", \"showlegend\": true, \"textposition\": \"auto\", \"type\": \"bar\", \"x\": [\"BEBIDAS S\\u00daPER\"], \"xaxis\": \"x\", \"y\": [1.0], \"yaxis\": \"y\"}, {\"alignmentgroup\": \"True\", \"hoverlabel\": {\"namelength\": 0}, \"hovertemplate\": \"Clave platillo=BSP11<br>Grupo=%{x}<br>Cantidad=%{y}\", \"legendgroup\": \"Clave platillo=BSP11\", \"marker\": {\"color\": \"#FF6692\"}, \"name\": \"Clave platillo=BSP11\", \"offsetgroup\": \"Clave platillo=BSP11\", \"orientation\": \"v\", \"showlegend\": true, \"textposition\": \"auto\", \"type\": \"bar\", \"x\": [\"BEBIDAS S\\u00daPER\"], \"xaxis\": \"x\", \"y\": [3.0], \"yaxis\": \"y\"}, {\"alignmentgroup\": \"True\", \"hoverlabel\": {\"namelength\": 0}, \"hovertemplate\": \"Clave platillo=BSP1<br>Grupo=%{x}<br>Cantidad=%{y}\", \"legendgroup\": \"Clave platillo=BSP1\", \"marker\": {\"color\": \"#B6E880\"}, \"name\": \"Clave platillo=BSP1\", \"offsetgroup\": \"Clave platillo=BSP1\", \"orientation\": \"v\", \"showlegend\": true, \"textposition\": \"auto\", \"type\": \"bar\", \"x\": [\"BEBIDAS S\\u00daPER\"], \"xaxis\": \"x\", \"y\": [14.0], \"yaxis\": \"y\"}, {\"alignmentgroup\": \"True\", \"hoverlabel\": {\"namelength\": 0}, \"hovertemplate\": \"Clave platillo=BSA9<br>Grupo=%{x}<br>Cantidad=%{y}\", \"legendgroup\": \"Clave platillo=BSA9\", \"marker\": {\"color\": \"#FF97FF\"}, \"name\": \"Clave platillo=BSA9\", \"offsetgroup\": \"Clave platillo=BSA9\", \"orientation\": \"v\", \"showlegend\": true, \"textposition\": \"auto\", \"type\": \"bar\", \"x\": [\"BEBIDAS SIN ALCOHOL\"], \"xaxis\": \"x\", \"y\": [65.0], \"yaxis\": \"y\"}, {\"alignmentgroup\": \"True\", \"hoverlabel\": {\"namelength\": 0}, \"hovertemplate\": \"Clave platillo=BSA8<br>Grupo=%{x}<br>Cantidad=%{y}\", \"legendgroup\": \"Clave platillo=BSA8\", \"marker\": {\"color\": \"#FECB52\"}, \"name\": \"Clave platillo=BSA8\", \"offsetgroup\": \"Clave platillo=BSA8\", \"orientation\": \"v\", \"showlegend\": true, \"textposition\": \"auto\", \"type\": \"bar\", \"x\": [\"BEBIDAS SIN ALCOHOL\"], \"xaxis\": \"x\", \"y\": [338.0], \"yaxis\": \"y\"}, {\"alignmentgroup\": \"True\", \"hoverlabel\": {\"namelength\": 0}, \"hovertemplate\": \"Clave platillo=BSA7<br>Grupo=%{x}<br>Cantidad=%{y}\", \"legendgroup\": \"Clave platillo=BSA7\", \"marker\": {\"color\": \"#636efa\"}, \"name\": \"Clave platillo=BSA7\", \"offsetgroup\": \"Clave platillo=BSA7\", \"orientation\": \"v\", \"showlegend\": true, \"textposition\": \"auto\", \"type\": \"bar\", \"x\": [\"BEBIDAS SIN ALCOHOL\"], \"xaxis\": \"x\", \"y\": [29.0], \"yaxis\": \"y\"}, {\"alignmentgroup\": \"True\", \"hoverlabel\": {\"namelength\": 0}, \"hovertemplate\": \"Clave platillo=BSA6<br>Grupo=%{x}<br>Cantidad=%{y}\", \"legendgroup\": \"Clave platillo=BSA6\", \"marker\": {\"color\": \"#EF553B\"}, \"name\": \"Clave platillo=BSA6\", \"offsetgroup\": \"Clave platillo=BSA6\", \"orientation\": \"v\", \"showlegend\": true, \"textposition\": \"auto\", \"type\": \"bar\", \"x\": [\"BEBIDAS SIN ALCOHOL\"], \"xaxis\": \"x\", \"y\": [143.0], \"yaxis\": \"y\"}, {\"alignmentgroup\": \"True\", \"hoverlabel\": {\"namelength\": 0}, \"hovertemplate\": \"Clave platillo=BSA5<br>Grupo=%{x}<br>Cantidad=%{y}\", \"legendgroup\": \"Clave platillo=BSA5\", \"marker\": {\"color\": \"#00cc96\"}, \"name\": \"Clave platillo=BSA5\", \"offsetgroup\": \"Clave platillo=BSA5\", \"orientation\": \"v\", \"showlegend\": true, \"textposition\": \"auto\", \"type\": \"bar\", \"x\": [\"BEBIDAS SIN ALCOHOL\"], \"xaxis\": \"x\", \"y\": [252.0], \"yaxis\": \"y\"}, {\"alignmentgroup\": \"True\", \"hoverlabel\": {\"namelength\": 0}, \"hovertemplate\": \"Clave platillo=BSA4<br>Grupo=%{x}<br>Cantidad=%{y}\", \"legendgroup\": \"Clave platillo=BSA4\", \"marker\": {\"color\": \"#ab63fa\"}, \"name\": \"Clave platillo=BSA4\", \"offsetgroup\": \"Clave platillo=BSA4\", \"orientation\": \"v\", \"showlegend\": true, \"textposition\": \"auto\", \"type\": \"bar\", \"x\": [\"BEBIDAS SIN ALCOHOL\"], \"xaxis\": \"x\", \"y\": [109.0], \"yaxis\": \"y\"}, {\"alignmentgroup\": \"True\", \"hoverlabel\": {\"namelength\": 0}, \"hovertemplate\": \"Clave platillo=BSA3<br>Grupo=%{x}<br>Cantidad=%{y}\", \"legendgroup\": \"Clave platillo=BSA3\", \"marker\": {\"color\": \"#FFA15A\"}, \"name\": \"Clave platillo=BSA3\", \"offsetgroup\": \"Clave platillo=BSA3\", \"orientation\": \"v\", \"showlegend\": true, \"textposition\": \"auto\", \"type\": \"bar\", \"x\": [\"BEBIDAS SIN ALCOHOL\"], \"xaxis\": \"x\", \"y\": [186.0], \"yaxis\": \"y\"}, {\"alignmentgroup\": \"True\", \"hoverlabel\": {\"namelength\": 0}, \"hovertemplate\": \"Clave platillo=BSA2<br>Grupo=%{x}<br>Cantidad=%{y}\", \"legendgroup\": \"Clave platillo=BSA2\", \"marker\": {\"color\": \"#19d3f3\"}, \"name\": \"Clave platillo=BSA2\", \"offsetgroup\": \"Clave platillo=BSA2\", \"orientation\": \"v\", \"showlegend\": true, \"textposition\": \"auto\", \"type\": \"bar\", \"x\": [\"BEBIDAS SIN ALCOHOL\"], \"xaxis\": \"x\", \"y\": [500.0], \"yaxis\": \"y\"}, {\"alignmentgroup\": \"True\", \"hoverlabel\": {\"namelength\": 0}, \"hovertemplate\": \"Clave platillo=BSA1<br>Grupo=%{x}<br>Cantidad=%{y}\", \"legendgroup\": \"Clave platillo=BSA1\", \"marker\": {\"color\": \"#FF6692\"}, \"name\": \"Clave platillo=BSA1\", \"offsetgroup\": \"Clave platillo=BSA1\", \"orientation\": \"v\", \"showlegend\": true, \"textposition\": \"auto\", \"type\": \"bar\", \"x\": [\"BEBIDAS SIN ALCOHOL\"], \"xaxis\": \"x\", \"y\": [692.0], \"yaxis\": \"y\"}, {\"alignmentgroup\": \"True\", \"hoverlabel\": {\"namelength\": 0}, \"hovertemplate\": \"Clave platillo=BCA8<br>Grupo=%{x}<br>Cantidad=%{y}\", \"legendgroup\": \"Clave platillo=BCA8\", \"marker\": {\"color\": \"#B6E880\"}, \"name\": \"Clave platillo=BCA8\", \"offsetgroup\": \"Clave platillo=BCA8\", \"orientation\": \"v\", \"showlegend\": true, \"textposition\": \"auto\", \"type\": \"bar\", \"x\": [\"BEBIDAS CON ALCOHOL\"], \"xaxis\": \"x\", \"y\": [1981.0], \"yaxis\": \"y\"}, {\"alignmentgroup\": \"True\", \"hoverlabel\": {\"namelength\": 0}, \"hovertemplate\": \"Clave platillo=BCA7<br>Grupo=%{x}<br>Cantidad=%{y}\", \"legendgroup\": \"Clave platillo=BCA7\", \"marker\": {\"color\": \"#FF97FF\"}, \"name\": \"Clave platillo=BCA7\", \"offsetgroup\": \"Clave platillo=BCA7\", \"orientation\": \"v\", \"showlegend\": true, \"textposition\": \"auto\", \"type\": \"bar\", \"x\": [\"BEBIDAS CON ALCOHOL\"], \"xaxis\": \"x\", \"y\": [29.0], \"yaxis\": \"y\"}, {\"alignmentgroup\": \"True\", \"hoverlabel\": {\"namelength\": 0}, \"hovertemplate\": \"Clave platillo=BCA6<br>Grupo=%{x}<br>Cantidad=%{y}\", \"legendgroup\": \"Clave platillo=BCA6\", \"marker\": {\"color\": \"#FECB52\"}, \"name\": \"Clave platillo=BCA6\", \"offsetgroup\": \"Clave platillo=BCA6\", \"orientation\": \"v\", \"showlegend\": true, \"textposition\": \"auto\", \"type\": \"bar\", \"x\": [\"BEBIDAS CON ALCOHOL\"], \"xaxis\": \"x\", \"y\": [248.0], \"yaxis\": \"y\"}, {\"alignmentgroup\": \"True\", \"hoverlabel\": {\"namelength\": 0}, \"hovertemplate\": \"Clave platillo=BCA5<br>Grupo=%{x}<br>Cantidad=%{y}\", \"legendgroup\": \"Clave platillo=BCA5\", \"marker\": {\"color\": \"#636efa\"}, \"name\": \"Clave platillo=BCA5\", \"offsetgroup\": \"Clave platillo=BCA5\", \"orientation\": \"v\", \"showlegend\": true, \"textposition\": \"auto\", \"type\": \"bar\", \"x\": [\"BEBIDAS CON ALCOHOL\"], \"xaxis\": \"x\", \"y\": [232.0], \"yaxis\": \"y\"}, {\"alignmentgroup\": \"True\", \"hoverlabel\": {\"namelength\": 0}, \"hovertemplate\": \"Clave platillo=BCA4<br>Grupo=%{x}<br>Cantidad=%{y}\", \"legendgroup\": \"Clave platillo=BCA4\", \"marker\": {\"color\": \"#EF553B\"}, \"name\": \"Clave platillo=BCA4\", \"offsetgroup\": \"Clave platillo=BCA4\", \"orientation\": \"v\", \"showlegend\": true, \"textposition\": \"auto\", \"type\": \"bar\", \"x\": [\"BEBIDAS CON ALCOHOL\"], \"xaxis\": \"x\", \"y\": [205.0], \"yaxis\": \"y\"}, {\"alignmentgroup\": \"True\", \"hoverlabel\": {\"namelength\": 0}, \"hovertemplate\": \"Clave platillo=BCA3<br>Grupo=%{x}<br>Cantidad=%{y}\", \"legendgroup\": \"Clave platillo=BCA3\", \"marker\": {\"color\": \"#00cc96\"}, \"name\": \"Clave platillo=BCA3\", \"offsetgroup\": \"Clave platillo=BCA3\", \"orientation\": \"v\", \"showlegend\": true, \"textposition\": \"auto\", \"type\": \"bar\", \"x\": [\"BEBIDAS CON ALCOHOL\"], \"xaxis\": \"x\", \"y\": [151.0], \"yaxis\": \"y\"}, {\"alignmentgroup\": \"True\", \"hoverlabel\": {\"namelength\": 0}, \"hovertemplate\": \"Clave platillo=BCA2<br>Grupo=%{x}<br>Cantidad=%{y}\", \"legendgroup\": \"Clave platillo=BCA2\", \"marker\": {\"color\": \"#ab63fa\"}, \"name\": \"Clave platillo=BCA2\", \"offsetgroup\": \"Clave platillo=BCA2\", \"orientation\": \"v\", \"showlegend\": true, \"textposition\": \"auto\", \"type\": \"bar\", \"x\": [\"BEBIDAS CON ALCOHOL\"], \"xaxis\": \"x\", \"y\": [69.0], \"yaxis\": \"y\"}, {\"alignmentgroup\": \"True\", \"hoverlabel\": {\"namelength\": 0}, \"hovertemplate\": \"Clave platillo=BCA10<br>Grupo=%{x}<br>Cantidad=%{y}\", \"legendgroup\": \"Clave platillo=BCA10\", \"marker\": {\"color\": \"#FFA15A\"}, \"name\": \"Clave platillo=BCA10\", \"offsetgroup\": \"Clave platillo=BCA10\", \"orientation\": \"v\", \"showlegend\": true, \"textposition\": \"auto\", \"type\": \"bar\", \"x\": [\"BEBIDAS CON ALCOHOL\"], \"xaxis\": \"x\", \"y\": [12.0], \"yaxis\": \"y\"}, {\"alignmentgroup\": \"True\", \"hoverlabel\": {\"namelength\": 0}, \"hovertemplate\": \"Clave platillo=BCA1<br>Grupo=%{x}<br>Cantidad=%{y}\", \"legendgroup\": \"Clave platillo=BCA1\", \"marker\": {\"color\": \"#19d3f3\"}, \"name\": \"Clave platillo=BCA1\", \"offsetgroup\": \"Clave platillo=BCA1\", \"orientation\": \"v\", \"showlegend\": true, \"textposition\": \"auto\", \"type\": \"bar\", \"x\": [\"BEBIDAS CON ALCOHOL\"], \"xaxis\": \"x\", \"y\": [221.0], \"yaxis\": \"y\"}, {\"alignmentgroup\": \"True\", \"hoverlabel\": {\"namelength\": 0}, \"hovertemplate\": \"Clave platillo=BAS9<br>Grupo=%{x}<br>Cantidad=%{y}\", \"legendgroup\": \"Clave platillo=BAS9\", \"marker\": {\"color\": \"#FF6692\"}, \"name\": \"Clave platillo=BAS9\", \"offsetgroup\": \"Clave platillo=BAS9\", \"orientation\": \"v\", \"showlegend\": true, \"textposition\": \"auto\", \"type\": \"bar\", \"x\": [\"B\\u00c1SICOS\"], \"xaxis\": \"x\", \"y\": [14.0], \"yaxis\": \"y\"}, {\"alignmentgroup\": \"True\", \"hoverlabel\": {\"namelength\": 0}, \"hovertemplate\": \"Clave platillo=BAS8<br>Grupo=%{x}<br>Cantidad=%{y}\", \"legendgroup\": \"Clave platillo=BAS8\", \"marker\": {\"color\": \"#B6E880\"}, \"name\": \"Clave platillo=BAS8\", \"offsetgroup\": \"Clave platillo=BAS8\", \"orientation\": \"v\", \"showlegend\": true, \"textposition\": \"auto\", \"type\": \"bar\", \"x\": [\"B\\u00c1SICOS\"], \"xaxis\": \"x\", \"y\": [6.0], \"yaxis\": \"y\"}, {\"alignmentgroup\": \"True\", \"hoverlabel\": {\"namelength\": 0}, \"hovertemplate\": \"Clave platillo=BAS7<br>Grupo=%{x}<br>Cantidad=%{y}\", \"legendgroup\": \"Clave platillo=BAS7\", \"marker\": {\"color\": \"#FF97FF\"}, \"name\": \"Clave platillo=BAS7\", \"offsetgroup\": \"Clave platillo=BAS7\", \"orientation\": \"v\", \"showlegend\": true, \"textposition\": \"auto\", \"type\": \"bar\", \"x\": [\"B\\u00c1SICOS\"], \"xaxis\": \"x\", \"y\": [40.0], \"yaxis\": \"y\"}, {\"alignmentgroup\": \"True\", \"hoverlabel\": {\"namelength\": 0}, \"hovertemplate\": \"Clave platillo=BAS6<br>Grupo=%{x}<br>Cantidad=%{y}\", \"legendgroup\": \"Clave platillo=BAS6\", \"marker\": {\"color\": \"#FECB52\"}, \"name\": \"Clave platillo=BAS6\", \"offsetgroup\": \"Clave platillo=BAS6\", \"orientation\": \"v\", \"showlegend\": true, \"textposition\": \"auto\", \"type\": \"bar\", \"x\": [\"B\\u00c1SICOS\"], \"xaxis\": \"x\", \"y\": [25.0], \"yaxis\": \"y\"}, {\"alignmentgroup\": \"True\", \"hoverlabel\": {\"namelength\": 0}, \"hovertemplate\": \"Clave platillo=BAS53<br>Grupo=%{x}<br>Cantidad=%{y}\", \"legendgroup\": \"Clave platillo=BAS53\", \"marker\": {\"color\": \"#636efa\"}, \"name\": \"Clave platillo=BAS53\", \"offsetgroup\": \"Clave platillo=BAS53\", \"orientation\": \"v\", \"showlegend\": true, \"textposition\": \"auto\", \"type\": \"bar\", \"x\": [\"B\\u00c1SICOS\"], \"xaxis\": \"x\", \"y\": [339.0], \"yaxis\": \"y\"}, {\"alignmentgroup\": \"True\", \"hoverlabel\": {\"namelength\": 0}, \"hovertemplate\": \"Clave platillo=BAS52<br>Grupo=%{x}<br>Cantidad=%{y}\", \"legendgroup\": \"Clave platillo=BAS52\", \"marker\": {\"color\": \"#EF553B\"}, \"name\": \"Clave platillo=BAS52\", \"offsetgroup\": \"Clave platillo=BAS52\", \"orientation\": \"v\", \"showlegend\": true, \"textposition\": \"auto\", \"type\": \"bar\", \"x\": [\"B\\u00c1SICOS\"], \"xaxis\": \"x\", \"y\": [174.0], \"yaxis\": \"y\"}, {\"alignmentgroup\": \"True\", \"hoverlabel\": {\"namelength\": 0}, \"hovertemplate\": \"Clave platillo=BAS51<br>Grupo=%{x}<br>Cantidad=%{y}\", \"legendgroup\": \"Clave platillo=BAS51\", \"marker\": {\"color\": \"#00cc96\"}, \"name\": \"Clave platillo=BAS51\", \"offsetgroup\": \"Clave platillo=BAS51\", \"orientation\": \"v\", \"showlegend\": true, \"textposition\": \"auto\", \"type\": \"bar\", \"x\": [\"B\\u00c1SICOS\"], \"xaxis\": \"x\", \"y\": [470.0], \"yaxis\": \"y\"}, {\"alignmentgroup\": \"True\", \"hoverlabel\": {\"namelength\": 0}, \"hovertemplate\": \"Clave platillo=BAS50<br>Grupo=%{x}<br>Cantidad=%{y}\", \"legendgroup\": \"Clave platillo=BAS50\", \"marker\": {\"color\": \"#ab63fa\"}, \"name\": \"Clave platillo=BAS50\", \"offsetgroup\": \"Clave platillo=BAS50\", \"orientation\": \"v\", \"showlegend\": true, \"textposition\": \"auto\", \"type\": \"bar\", \"x\": [\"B\\u00c1SICOS\"], \"xaxis\": \"x\", \"y\": [1420.0], \"yaxis\": \"y\"}, {\"alignmentgroup\": \"True\", \"hoverlabel\": {\"namelength\": 0}, \"hovertemplate\": \"Clave platillo=BAS5<br>Grupo=%{x}<br>Cantidad=%{y}\", \"legendgroup\": \"Clave platillo=BAS5\", \"marker\": {\"color\": \"#FFA15A\"}, \"name\": \"Clave platillo=BAS5\", \"offsetgroup\": \"Clave platillo=BAS5\", \"orientation\": \"v\", \"showlegend\": true, \"textposition\": \"auto\", \"type\": \"bar\", \"x\": [\"B\\u00c1SICOS\"], \"xaxis\": \"x\", \"y\": [77.0], \"yaxis\": \"y\"}, {\"alignmentgroup\": \"True\", \"hoverlabel\": {\"namelength\": 0}, \"hovertemplate\": \"Clave platillo=BAS4<br>Grupo=%{x}<br>Cantidad=%{y}\", \"legendgroup\": \"Clave platillo=BAS4\", \"marker\": {\"color\": \"#19d3f3\"}, \"name\": \"Clave platillo=BAS4\", \"offsetgroup\": \"Clave platillo=BAS4\", \"orientation\": \"v\", \"showlegend\": true, \"textposition\": \"auto\", \"type\": \"bar\", \"x\": [\"B\\u00c1SICOS\"], \"xaxis\": \"x\", \"y\": [49.0], \"yaxis\": \"y\"}, {\"alignmentgroup\": \"True\", \"hoverlabel\": {\"namelength\": 0}, \"hovertemplate\": \"Clave platillo=BAS3<br>Grupo=%{x}<br>Cantidad=%{y}\", \"legendgroup\": \"Clave platillo=BAS3\", \"marker\": {\"color\": \"#FF6692\"}, \"name\": \"Clave platillo=BAS3\", \"offsetgroup\": \"Clave platillo=BAS3\", \"orientation\": \"v\", \"showlegend\": true, \"textposition\": \"auto\", \"type\": \"bar\", \"x\": [\"B\\u00c1SICOS\"], \"xaxis\": \"x\", \"y\": [170.0], \"yaxis\": \"y\"}, {\"alignmentgroup\": \"True\", \"hoverlabel\": {\"namelength\": 0}, \"hovertemplate\": \"Clave platillo=BAS2<br>Grupo=%{x}<br>Cantidad=%{y}\", \"legendgroup\": \"Clave platillo=BAS2\", \"marker\": {\"color\": \"#B6E880\"}, \"name\": \"Clave platillo=BAS2\", \"offsetgroup\": \"Clave platillo=BAS2\", \"orientation\": \"v\", \"showlegend\": true, \"textposition\": \"auto\", \"type\": \"bar\", \"x\": [\"B\\u00c1SICOS\"], \"xaxis\": \"x\", \"y\": [713.0], \"yaxis\": \"y\"}, {\"alignmentgroup\": \"True\", \"hoverlabel\": {\"namelength\": 0}, \"hovertemplate\": \"Clave platillo=BAS14<br>Grupo=%{x}<br>Cantidad=%{y}\", \"legendgroup\": \"Clave platillo=BAS14\", \"marker\": {\"color\": \"#FF97FF\"}, \"name\": \"Clave platillo=BAS14\", \"offsetgroup\": \"Clave platillo=BAS14\", \"orientation\": \"v\", \"showlegend\": true, \"textposition\": \"auto\", \"type\": \"bar\", \"x\": [\"B\\u00c1SICOS\"], \"xaxis\": \"x\", \"y\": [8.0], \"yaxis\": \"y\"}, {\"alignmentgroup\": \"True\", \"hoverlabel\": {\"namelength\": 0}, \"hovertemplate\": \"Clave platillo=BAS13<br>Grupo=%{x}<br>Cantidad=%{y}\", \"legendgroup\": \"Clave platillo=BAS13\", \"marker\": {\"color\": \"#FECB52\"}, \"name\": \"Clave platillo=BAS13\", \"offsetgroup\": \"Clave platillo=BAS13\", \"orientation\": \"v\", \"showlegend\": true, \"textposition\": \"auto\", \"type\": \"bar\", \"x\": [\"B\\u00c1SICOS\"], \"xaxis\": \"x\", \"y\": [25.0], \"yaxis\": \"y\"}, {\"alignmentgroup\": \"True\", \"hoverlabel\": {\"namelength\": 0}, \"hovertemplate\": \"Clave platillo=BAS12<br>Grupo=%{x}<br>Cantidad=%{y}\", \"legendgroup\": \"Clave platillo=BAS12\", \"marker\": {\"color\": \"#636efa\"}, \"name\": \"Clave platillo=BAS12\", \"offsetgroup\": \"Clave platillo=BAS12\", \"orientation\": \"v\", \"showlegend\": true, \"textposition\": \"auto\", \"type\": \"bar\", \"x\": [\"B\\u00c1SICOS\"], \"xaxis\": \"x\", \"y\": [11.0], \"yaxis\": \"y\"}, {\"alignmentgroup\": \"True\", \"hoverlabel\": {\"namelength\": 0}, \"hovertemplate\": \"Clave platillo=BAS11<br>Grupo=%{x}<br>Cantidad=%{y}\", \"legendgroup\": \"Clave platillo=BAS11\", \"marker\": {\"color\": \"#EF553B\"}, \"name\": \"Clave platillo=BAS11\", \"offsetgroup\": \"Clave platillo=BAS11\", \"orientation\": \"v\", \"showlegend\": true, \"textposition\": \"auto\", \"type\": \"bar\", \"x\": [\"B\\u00c1SICOS\"], \"xaxis\": \"x\", \"y\": [1.0], \"yaxis\": \"y\"}, {\"alignmentgroup\": \"True\", \"hoverlabel\": {\"namelength\": 0}, \"hovertemplate\": \"Clave platillo=BAS10<br>Grupo=%{x}<br>Cantidad=%{y}\", \"legendgroup\": \"Clave platillo=BAS10\", \"marker\": {\"color\": \"#00cc96\"}, \"name\": \"Clave platillo=BAS10\", \"offsetgroup\": \"Clave platillo=BAS10\", \"orientation\": \"v\", \"showlegend\": true, \"textposition\": \"auto\", \"type\": \"bar\", \"x\": [\"B\\u00c1SICOS\"], \"xaxis\": \"x\", \"y\": [4.0], \"yaxis\": \"y\"}, {\"alignmentgroup\": \"True\", \"hoverlabel\": {\"namelength\": 0}, \"hovertemplate\": \"Clave platillo=BAS1<br>Grupo=%{x}<br>Cantidad=%{y}\", \"legendgroup\": \"Clave platillo=BAS1\", \"marker\": {\"color\": \"#ab63fa\"}, \"name\": \"Clave platillo=BAS1\", \"offsetgroup\": \"Clave platillo=BAS1\", \"orientation\": \"v\", \"showlegend\": true, \"textposition\": \"auto\", \"type\": \"bar\", \"x\": [\"B\\u00c1SICOS\"], \"xaxis\": \"x\", \"y\": [2712.0], \"yaxis\": \"y\"}],\n",
       "                        {\"barmode\": \"relative\", \"height\": 600, \"legend\": {\"tracegroupgap\": 0}, \"margin\": {\"t\": 60}, \"template\": {\"data\": {\"bar\": [{\"error_x\": {\"color\": \"#2a3f5f\"}, \"error_y\": {\"color\": \"#2a3f5f\"}, \"marker\": {\"line\": {\"color\": \"#E5ECF6\", \"width\": 0.5}}, \"type\": \"bar\"}], \"barpolar\": [{\"marker\": {\"line\": {\"color\": \"#E5ECF6\", \"width\": 0.5}}, \"type\": \"barpolar\"}], \"carpet\": [{\"aaxis\": {\"endlinecolor\": \"#2a3f5f\", \"gridcolor\": \"white\", \"linecolor\": \"white\", \"minorgridcolor\": \"white\", \"startlinecolor\": \"#2a3f5f\"}, \"baxis\": {\"endlinecolor\": \"#2a3f5f\", \"gridcolor\": \"white\", \"linecolor\": \"white\", \"minorgridcolor\": \"white\", \"startlinecolor\": \"#2a3f5f\"}, \"type\": \"carpet\"}], \"choropleth\": [{\"colorbar\": {\"outlinewidth\": 0, \"ticks\": \"\"}, \"type\": \"choropleth\"}], \"contour\": [{\"colorbar\": {\"outlinewidth\": 0, \"ticks\": \"\"}, \"colorscale\": [[0.0, \"#0d0887\"], [0.1111111111111111, \"#46039f\"], [0.2222222222222222, \"#7201a8\"], [0.3333333333333333, \"#9c179e\"], [0.4444444444444444, \"#bd3786\"], [0.5555555555555556, \"#d8576b\"], [0.6666666666666666, \"#ed7953\"], [0.7777777777777778, \"#fb9f3a\"], [0.8888888888888888, \"#fdca26\"], [1.0, \"#f0f921\"]], \"type\": \"contour\"}], \"contourcarpet\": [{\"colorbar\": {\"outlinewidth\": 0, \"ticks\": \"\"}, \"type\": \"contourcarpet\"}], \"heatmap\": [{\"colorbar\": {\"outlinewidth\": 0, \"ticks\": \"\"}, \"colorscale\": [[0.0, \"#0d0887\"], [0.1111111111111111, \"#46039f\"], [0.2222222222222222, \"#7201a8\"], [0.3333333333333333, \"#9c179e\"], [0.4444444444444444, \"#bd3786\"], [0.5555555555555556, \"#d8576b\"], [0.6666666666666666, \"#ed7953\"], [0.7777777777777778, \"#fb9f3a\"], [0.8888888888888888, \"#fdca26\"], [1.0, \"#f0f921\"]], \"type\": \"heatmap\"}], \"heatmapgl\": [{\"colorbar\": {\"outlinewidth\": 0, \"ticks\": \"\"}, \"colorscale\": [[0.0, \"#0d0887\"], [0.1111111111111111, \"#46039f\"], [0.2222222222222222, \"#7201a8\"], [0.3333333333333333, \"#9c179e\"], [0.4444444444444444, \"#bd3786\"], [0.5555555555555556, \"#d8576b\"], [0.6666666666666666, \"#ed7953\"], [0.7777777777777778, \"#fb9f3a\"], [0.8888888888888888, \"#fdca26\"], [1.0, \"#f0f921\"]], \"type\": \"heatmapgl\"}], \"histogram\": [{\"marker\": {\"colorbar\": {\"outlinewidth\": 0, \"ticks\": \"\"}}, \"type\": \"histogram\"}], \"histogram2d\": [{\"colorbar\": {\"outlinewidth\": 0, \"ticks\": \"\"}, \"colorscale\": [[0.0, \"#0d0887\"], [0.1111111111111111, \"#46039f\"], [0.2222222222222222, \"#7201a8\"], [0.3333333333333333, \"#9c179e\"], [0.4444444444444444, \"#bd3786\"], [0.5555555555555556, \"#d8576b\"], [0.6666666666666666, \"#ed7953\"], [0.7777777777777778, \"#fb9f3a\"], [0.8888888888888888, \"#fdca26\"], [1.0, \"#f0f921\"]], \"type\": \"histogram2d\"}], \"histogram2dcontour\": [{\"colorbar\": {\"outlinewidth\": 0, \"ticks\": \"\"}, \"colorscale\": [[0.0, \"#0d0887\"], [0.1111111111111111, \"#46039f\"], [0.2222222222222222, \"#7201a8\"], [0.3333333333333333, \"#9c179e\"], [0.4444444444444444, \"#bd3786\"], [0.5555555555555556, \"#d8576b\"], [0.6666666666666666, \"#ed7953\"], [0.7777777777777778, \"#fb9f3a\"], [0.8888888888888888, \"#fdca26\"], [1.0, \"#f0f921\"]], \"type\": \"histogram2dcontour\"}], \"mesh3d\": [{\"colorbar\": {\"outlinewidth\": 0, \"ticks\": \"\"}, \"type\": \"mesh3d\"}], \"parcoords\": [{\"line\": {\"colorbar\": {\"outlinewidth\": 0, \"ticks\": \"\"}}, \"type\": \"parcoords\"}], \"scatter\": [{\"marker\": {\"colorbar\": {\"outlinewidth\": 0, \"ticks\": \"\"}}, \"type\": \"scatter\"}], \"scatter3d\": [{\"line\": {\"colorbar\": {\"outlinewidth\": 0, \"ticks\": \"\"}}, \"marker\": {\"colorbar\": {\"outlinewidth\": 0, \"ticks\": \"\"}}, \"type\": \"scatter3d\"}], \"scattercarpet\": [{\"marker\": {\"colorbar\": {\"outlinewidth\": 0, \"ticks\": \"\"}}, \"type\": \"scattercarpet\"}], \"scattergeo\": [{\"marker\": {\"colorbar\": {\"outlinewidth\": 0, \"ticks\": \"\"}}, \"type\": \"scattergeo\"}], \"scattergl\": [{\"marker\": {\"colorbar\": {\"outlinewidth\": 0, \"ticks\": \"\"}}, \"type\": \"scattergl\"}], \"scattermapbox\": [{\"marker\": {\"colorbar\": {\"outlinewidth\": 0, \"ticks\": \"\"}}, \"type\": \"scattermapbox\"}], \"scatterpolar\": [{\"marker\": {\"colorbar\": {\"outlinewidth\": 0, \"ticks\": \"\"}}, \"type\": \"scatterpolar\"}], \"scatterpolargl\": [{\"marker\": {\"colorbar\": {\"outlinewidth\": 0, \"ticks\": \"\"}}, \"type\": \"scatterpolargl\"}], \"scatterternary\": [{\"marker\": {\"colorbar\": {\"outlinewidth\": 0, \"ticks\": \"\"}}, \"type\": \"scatterternary\"}], \"surface\": [{\"colorbar\": {\"outlinewidth\": 0, \"ticks\": \"\"}, \"colorscale\": [[0.0, \"#0d0887\"], [0.1111111111111111, \"#46039f\"], [0.2222222222222222, \"#7201a8\"], [0.3333333333333333, \"#9c179e\"], [0.4444444444444444, \"#bd3786\"], [0.5555555555555556, \"#d8576b\"], [0.6666666666666666, \"#ed7953\"], [0.7777777777777778, \"#fb9f3a\"], [0.8888888888888888, \"#fdca26\"], [1.0, \"#f0f921\"]], \"type\": \"surface\"}], \"table\": [{\"cells\": {\"fill\": {\"color\": \"#EBF0F8\"}, \"line\": {\"color\": \"white\"}}, \"header\": {\"fill\": {\"color\": \"#C8D4E3\"}, \"line\": {\"color\": \"white\"}}, \"type\": \"table\"}]}, \"layout\": {\"annotationdefaults\": {\"arrowcolor\": \"#2a3f5f\", \"arrowhead\": 0, \"arrowwidth\": 1}, \"colorscale\": {\"diverging\": [[0, \"#8e0152\"], [0.1, \"#c51b7d\"], [0.2, \"#de77ae\"], [0.3, \"#f1b6da\"], [0.4, \"#fde0ef\"], [0.5, \"#f7f7f7\"], [0.6, \"#e6f5d0\"], [0.7, \"#b8e186\"], [0.8, \"#7fbc41\"], [0.9, \"#4d9221\"], [1, \"#276419\"]], \"sequential\": [[0.0, \"#0d0887\"], [0.1111111111111111, \"#46039f\"], [0.2222222222222222, \"#7201a8\"], [0.3333333333333333, \"#9c179e\"], [0.4444444444444444, \"#bd3786\"], [0.5555555555555556, \"#d8576b\"], [0.6666666666666666, \"#ed7953\"], [0.7777777777777778, \"#fb9f3a\"], [0.8888888888888888, \"#fdca26\"], [1.0, \"#f0f921\"]], \"sequentialminus\": [[0.0, \"#0d0887\"], [0.1111111111111111, \"#46039f\"], [0.2222222222222222, \"#7201a8\"], [0.3333333333333333, \"#9c179e\"], [0.4444444444444444, \"#bd3786\"], [0.5555555555555556, \"#d8576b\"], [0.6666666666666666, \"#ed7953\"], [0.7777777777777778, \"#fb9f3a\"], [0.8888888888888888, \"#fdca26\"], [1.0, \"#f0f921\"]]}, \"colorway\": [\"#636efa\", \"#EF553B\", \"#00cc96\", \"#ab63fa\", \"#FFA15A\", \"#19d3f3\", \"#FF6692\", \"#B6E880\", \"#FF97FF\", \"#FECB52\"], \"font\": {\"color\": \"#2a3f5f\"}, \"geo\": {\"bgcolor\": \"white\", \"lakecolor\": \"white\", \"landcolor\": \"#E5ECF6\", \"showlakes\": true, \"showland\": true, \"subunitcolor\": \"white\"}, \"hoverlabel\": {\"align\": \"left\"}, \"hovermode\": \"closest\", \"mapbox\": {\"style\": \"light\"}, \"paper_bgcolor\": \"white\", \"plot_bgcolor\": \"#E5ECF6\", \"polar\": {\"angularaxis\": {\"gridcolor\": \"white\", \"linecolor\": \"white\", \"ticks\": \"\"}, \"bgcolor\": \"#E5ECF6\", \"radialaxis\": {\"gridcolor\": \"white\", \"linecolor\": \"white\", \"ticks\": \"\"}}, \"scene\": {\"xaxis\": {\"backgroundcolor\": \"#E5ECF6\", \"gridcolor\": \"white\", \"gridwidth\": 2, \"linecolor\": \"white\", \"showbackground\": true, \"ticks\": \"\", \"zerolinecolor\": \"white\"}, \"yaxis\": {\"backgroundcolor\": \"#E5ECF6\", \"gridcolor\": \"white\", \"gridwidth\": 2, \"linecolor\": \"white\", \"showbackground\": true, \"ticks\": \"\", \"zerolinecolor\": \"white\"}, \"zaxis\": {\"backgroundcolor\": \"#E5ECF6\", \"gridcolor\": \"white\", \"gridwidth\": 2, \"linecolor\": \"white\", \"showbackground\": true, \"ticks\": \"\", \"zerolinecolor\": \"white\"}}, \"shapedefaults\": {\"line\": {\"color\": \"#2a3f5f\"}}, \"ternary\": {\"aaxis\": {\"gridcolor\": \"white\", \"linecolor\": \"white\", \"ticks\": \"\"}, \"baxis\": {\"gridcolor\": \"white\", \"linecolor\": \"white\", \"ticks\": \"\"}, \"bgcolor\": \"#E5ECF6\", \"caxis\": {\"gridcolor\": \"white\", \"linecolor\": \"white\", \"ticks\": \"\"}}, \"title\": {\"x\": 0.05}, \"xaxis\": {\"automargin\": true, \"gridcolor\": \"white\", \"linecolor\": \"white\", \"ticks\": \"\", \"zerolinecolor\": \"white\", \"zerolinewidth\": 2}, \"yaxis\": {\"automargin\": true, \"gridcolor\": \"white\", \"linecolor\": \"white\", \"ticks\": \"\", \"zerolinecolor\": \"white\", \"zerolinewidth\": 2}}}, \"xaxis\": {\"anchor\": \"y\", \"domain\": [0.0, 0.98], \"title\": {\"text\": \"Grupo\"}}, \"yaxis\": {\"anchor\": \"x\", \"domain\": [0.0, 1.0], \"title\": {\"text\": \"Cantidad\"}}},\n",
       "                        {\"responsive\": true}\n",
       "                    ).then(function(){\n",
       "                            \n",
       "var gd = document.getElementById('417b9ce8-45e2-47a8-8103-3ff1e8be0cf1');\n",
       "var x = new MutationObserver(function (mutations, observer) {{\n",
       "        var display = window.getComputedStyle(gd).display;\n",
       "        if (!display || display === 'none') {{\n",
       "            console.log([gd, 'removed!']);\n",
       "            Plotly.purge(gd);\n",
       "            observer.disconnect();\n",
       "        }}\n",
       "}});\n",
       "\n",
       "// Listen for the removal of the full notebook cells\n",
       "var notebookContainer = gd.closest('#notebook-container');\n",
       "if (notebookContainer) {{\n",
       "    x.observe(notebookContainer, {childList: true});\n",
       "}}\n",
       "\n",
       "// Listen for the clearing of the current output cell\n",
       "var outputEl = gd.closest('.output');\n",
       "if (outputEl) {{\n",
       "    x.observe(outputEl, {childList: true});\n",
       "}}\n",
       "\n",
       "                        })\n",
       "                };\n",
       "                });\n",
       "            </script>\n",
       "        </div>"
      ]
     },
     "metadata": {},
     "output_type": "display_data"
    }
   ],
   "source": [
    "data_stacked = data.groupby(['Clave platillo', 'Grupo'])['Cantidad'].sum().reset_index().sort_values(['Clave platillo','Cantidad'],ascending=False)\n",
    "fig = pyx.bar(data_stacked, x='Grupo', y='Cantidad', color = 'Clave platillo')\n",
    "fig.show()"
   ]
  },
  {
   "cell_type": "code",
   "execution_count": 4,
   "metadata": {},
   "outputs": [],
   "source": [
    "data2 = data[data[\"Acción\"] != \"Cancelación\"]\n",
    "data2.dropna(axis=0, subset=['Clave platillo'], inplace=True)\n",
    "data_reg = data2[['Grupo', \n",
    "               'idEncuesta','El día de hoy ¿Con quién nos visita?',\n",
    "               '¿Cuál es el rango de edades en tu mesa?']]\n",
    "data2 = data2[['Cantidad','Clave platillo', 'idEncuesta']]\n",
    "data2 = data2.dropna()"
   ]
  },
  {
   "cell_type": "code",
   "execution_count": 5,
   "metadata": {
    "scrolled": false
   },
   "outputs": [
    {
     "data": {
      "text/html": [
       "<div>\n",
       "<style scoped>\n",
       "    .dataframe tbody tr th:only-of-type {\n",
       "        vertical-align: middle;\n",
       "    }\n",
       "\n",
       "    .dataframe tbody tr th {\n",
       "        vertical-align: top;\n",
       "    }\n",
       "\n",
       "    .dataframe thead th {\n",
       "        text-align: right;\n",
       "    }\n",
       "</style>\n",
       "<table border=\"1\" class=\"dataframe\">\n",
       "  <thead>\n",
       "    <tr style=\"text-align: right;\">\n",
       "      <th></th>\n",
       "      <th>Grupo</th>\n",
       "      <th>idEncuesta</th>\n",
       "      <th>El día de hoy ¿Con quién nos visita?</th>\n",
       "      <th>¿Cuál es el rango de edades en tu mesa?</th>\n",
       "    </tr>\n",
       "  </thead>\n",
       "  <tbody>\n",
       "    <tr>\n",
       "      <th>0</th>\n",
       "      <td>ENTRADAS</td>\n",
       "      <td>115787</td>\n",
       "      <td>Pareja</td>\n",
       "      <td>22 a 25</td>\n",
       "    </tr>\n",
       "    <tr>\n",
       "      <th>1</th>\n",
       "      <td>CLÁSICOS</td>\n",
       "      <td>115787</td>\n",
       "      <td>Pareja</td>\n",
       "      <td>22 a 25</td>\n",
       "    </tr>\n",
       "    <tr>\n",
       "      <th>2</th>\n",
       "      <td>BEBIDAS SIN ALCOHOL</td>\n",
       "      <td>115793</td>\n",
       "      <td>Amigos</td>\n",
       "      <td>18 a 21</td>\n",
       "    </tr>\n",
       "    <tr>\n",
       "      <th>3</th>\n",
       "      <td>BEBIDAS SIN ALCOHOL</td>\n",
       "      <td>115793</td>\n",
       "      <td>Amigos</td>\n",
       "      <td>18 a 21</td>\n",
       "    </tr>\n",
       "    <tr>\n",
       "      <th>6</th>\n",
       "      <td>CLÁSICOS</td>\n",
       "      <td>115788</td>\n",
       "      <td>Pareja</td>\n",
       "      <td>26 a 32</td>\n",
       "    </tr>\n",
       "    <tr>\n",
       "      <th>...</th>\n",
       "      <td>...</td>\n",
       "      <td>...</td>\n",
       "      <td>...</td>\n",
       "      <td>...</td>\n",
       "    </tr>\n",
       "    <tr>\n",
       "      <th>46467</th>\n",
       "      <td>CLÁSICOS</td>\n",
       "      <td>615571</td>\n",
       "      <td>Pareja</td>\n",
       "      <td>18 a 21</td>\n",
       "    </tr>\n",
       "    <tr>\n",
       "      <th>46468</th>\n",
       "      <td>BÁSICOS</td>\n",
       "      <td>615571</td>\n",
       "      <td>Pareja</td>\n",
       "      <td>18 a 21</td>\n",
       "    </tr>\n",
       "    <tr>\n",
       "      <th>46469</th>\n",
       "      <td>HAMBURGUESAS</td>\n",
       "      <td>615573</td>\n",
       "      <td>Amigos</td>\n",
       "      <td>22 a 25</td>\n",
       "    </tr>\n",
       "    <tr>\n",
       "      <th>46470</th>\n",
       "      <td>BÁSICOS</td>\n",
       "      <td>615574</td>\n",
       "      <td>Familia</td>\n",
       "      <td>26 a 32</td>\n",
       "    </tr>\n",
       "    <tr>\n",
       "      <th>46471</th>\n",
       "      <td>PAPAS, PAPAS Y MÁS PAPAS</td>\n",
       "      <td>615574</td>\n",
       "      <td>Familia</td>\n",
       "      <td>26 a 32</td>\n",
       "    </tr>\n",
       "  </tbody>\n",
       "</table>\n",
       "<p>38607 rows × 4 columns</p>\n",
       "</div>"
      ],
      "text/plain": [
       "                          Grupo  idEncuesta  \\\n",
       "0                      ENTRADAS      115787   \n",
       "1                      CLÁSICOS      115787   \n",
       "2           BEBIDAS SIN ALCOHOL      115793   \n",
       "3           BEBIDAS SIN ALCOHOL      115793   \n",
       "6                      CLÁSICOS      115788   \n",
       "...                         ...         ...   \n",
       "46467                  CLÁSICOS      615571   \n",
       "46468                   BÁSICOS      615571   \n",
       "46469              HAMBURGUESAS      615573   \n",
       "46470                   BÁSICOS      615574   \n",
       "46471  PAPAS, PAPAS Y MÁS PAPAS      615574   \n",
       "\n",
       "      El día de hoy ¿Con quién nos visita?  \\\n",
       "0                                   Pareja   \n",
       "1                                   Pareja   \n",
       "2                                   Amigos   \n",
       "3                                   Amigos   \n",
       "6                                   Pareja   \n",
       "...                                    ...   \n",
       "46467                               Pareja   \n",
       "46468                               Pareja   \n",
       "46469                               Amigos   \n",
       "46470                              Familia   \n",
       "46471                              Familia   \n",
       "\n",
       "      ¿Cuál es el rango de edades en tu mesa?  \n",
       "0                                     22 a 25  \n",
       "1                                     22 a 25  \n",
       "2                                     18 a 21  \n",
       "3                                     18 a 21  \n",
       "6                                     26 a 32  \n",
       "...                                       ...  \n",
       "46467                                 18 a 21  \n",
       "46468                                 18 a 21  \n",
       "46469                                 22 a 25  \n",
       "46470                                 26 a 32  \n",
       "46471                                 26 a 32  \n",
       "\n",
       "[38607 rows x 4 columns]"
      ]
     },
     "execution_count": 5,
     "metadata": {},
     "output_type": "execute_result"
    }
   ],
   "source": [
    "data_reg = data_reg.dropna()\n",
    "data_reg"
   ]
  },
  {
   "cell_type": "code",
   "execution_count": 6,
   "metadata": {},
   "outputs": [],
   "source": [
    "data2 = data2.groupby(['idEncuesta', 'Clave platillo'])['Cantidad'].sum().unstack().reset_index().fillna(0).set_index('idEncuesta')"
   ]
  },
  {
   "cell_type": "code",
   "execution_count": 7,
   "metadata": {},
   "outputs": [],
   "source": [
    "def encode_units(x):\n",
    "    if x <= 0:\n",
    "        return 0\n",
    "    if x >= 1:\n",
    "        return 1\n",
    "\n",
    "data2 = data2.applymap(encode_units)\n",
    "data2 = data2.loc[:, data2.columns.intersection(top_10)]\n",
    "data2 = data2[(data2.T != 0).any()]\n",
    "#data2"
   ]
  },
  {
   "cell_type": "code",
   "execution_count": 8,
   "metadata": {
    "scrolled": true
   },
   "outputs": [],
   "source": [
    "datatemp1 = data2[data2[top_10] == 1].groupby(top_10[1]).sum().reset_index().reindex(sorted(data2.columns), axis=1)\n",
    "for i in range(8):\n",
    "    datatemp2 = data2[data2[top_10] == 1].groupby(top_10[i+2]).sum().reset_index().reindex(sorted(data2.columns), axis=1)\n",
    "    datatemp1 = datatemp1.append(datatemp2)\n",
    "#datatemp1"
   ]
  },
  {
   "cell_type": "code",
   "execution_count": 9,
   "metadata": {
    "scrolled": true
   },
   "outputs": [],
   "source": [
    "datatemp1 = datatemp1.reset_index()\n",
    "#datatemp1"
   ]
  },
  {
   "cell_type": "code",
   "execution_count": 10,
   "metadata": {
    "scrolled": true
   },
   "outputs": [],
   "source": [
    "datatemp1 = datatemp1[['BAS1', 'HAM12', 'MBCA63', 'BCA8', 'BAS50', 'HAM1','CLA1', 'HAM7', 'MCLÁ25']]\n",
    "datatemp_tot = datatemp1.copy()\n",
    "datatemp_tot['Total'] = datatemp_tot.sum(axis=1).values - 1\n",
    "top_10 = top_10[1:]\n",
    "datatemp_tot.set_index(top_10,inplace =True)\n",
    "#datatemp1.style.background_gradient(cmap='Blues')\n",
    "\n"
   ]
  },
  {
   "cell_type": "code",
   "execution_count": 11,
   "metadata": {},
   "outputs": [],
   "source": [
    "values_list = datatemp1.values.tolist()\n",
    "productos = ['BAS1', 'HAM12', 'MBCA63', 'BCA8', 'BAS50', 'HAM1','CLA1', 'HAM7', 'MCLÁ25']\n",
    "fig = go.Figure(data=go.Heatmap(\n",
    "                    x=productos,\n",
    "                    y=productos,\n",
    "                    z=values_list))\n",
    "#fig.show()"
   ]
  },
  {
   "cell_type": "code",
   "execution_count": 12,
   "metadata": {},
   "outputs": [
    {
     "data": {
      "text/html": [
       "<div>\n",
       "<style scoped>\n",
       "    .dataframe tbody tr th:only-of-type {\n",
       "        vertical-align: middle;\n",
       "    }\n",
       "\n",
       "    .dataframe tbody tr th {\n",
       "        vertical-align: top;\n",
       "    }\n",
       "\n",
       "    .dataframe thead th {\n",
       "        text-align: right;\n",
       "    }\n",
       "</style>\n",
       "<table border=\"1\" class=\"dataframe\">\n",
       "  <thead>\n",
       "    <tr style=\"text-align: right;\">\n",
       "      <th></th>\n",
       "      <th>Grupo</th>\n",
       "      <th>El día de hoy ¿Con quién nos visita?</th>\n",
       "      <th>¿Cuál es el rango de edades en tu mesa?</th>\n",
       "    </tr>\n",
       "    <tr>\n",
       "      <th>idEncuesta</th>\n",
       "      <th></th>\n",
       "      <th></th>\n",
       "      <th></th>\n",
       "    </tr>\n",
       "  </thead>\n",
       "  <tbody>\n",
       "    <tr>\n",
       "      <th>115787</th>\n",
       "      <td>ENTRADAS</td>\n",
       "      <td>Pareja</td>\n",
       "      <td>22 a 25</td>\n",
       "    </tr>\n",
       "    <tr>\n",
       "      <th>115787</th>\n",
       "      <td>CLÁSICOS</td>\n",
       "      <td>Pareja</td>\n",
       "      <td>22 a 25</td>\n",
       "    </tr>\n",
       "    <tr>\n",
       "      <th>115793</th>\n",
       "      <td>BEBIDAS SIN ALCOHOL</td>\n",
       "      <td>Amigos</td>\n",
       "      <td>18 a 21</td>\n",
       "    </tr>\n",
       "    <tr>\n",
       "      <th>115793</th>\n",
       "      <td>BEBIDAS SIN ALCOHOL</td>\n",
       "      <td>Amigos</td>\n",
       "      <td>18 a 21</td>\n",
       "    </tr>\n",
       "    <tr>\n",
       "      <th>115788</th>\n",
       "      <td>CLÁSICOS</td>\n",
       "      <td>Pareja</td>\n",
       "      <td>26 a 32</td>\n",
       "    </tr>\n",
       "    <tr>\n",
       "      <th>...</th>\n",
       "      <td>...</td>\n",
       "      <td>...</td>\n",
       "      <td>...</td>\n",
       "    </tr>\n",
       "    <tr>\n",
       "      <th>615571</th>\n",
       "      <td>CLÁSICOS</td>\n",
       "      <td>Pareja</td>\n",
       "      <td>18 a 21</td>\n",
       "    </tr>\n",
       "    <tr>\n",
       "      <th>615571</th>\n",
       "      <td>BÁSICOS</td>\n",
       "      <td>Pareja</td>\n",
       "      <td>18 a 21</td>\n",
       "    </tr>\n",
       "    <tr>\n",
       "      <th>615573</th>\n",
       "      <td>HAMBURGUESAS</td>\n",
       "      <td>Amigos</td>\n",
       "      <td>22 a 25</td>\n",
       "    </tr>\n",
       "    <tr>\n",
       "      <th>615574</th>\n",
       "      <td>BÁSICOS</td>\n",
       "      <td>Familia</td>\n",
       "      <td>26 a 32</td>\n",
       "    </tr>\n",
       "    <tr>\n",
       "      <th>615574</th>\n",
       "      <td>PAPAS, PAPAS Y MÁS PAPAS</td>\n",
       "      <td>Familia</td>\n",
       "      <td>26 a 32</td>\n",
       "    </tr>\n",
       "  </tbody>\n",
       "</table>\n",
       "<p>38607 rows × 3 columns</p>\n",
       "</div>"
      ],
      "text/plain": [
       "                               Grupo El día de hoy ¿Con quién nos visita?  \\\n",
       "idEncuesta                                                                  \n",
       "115787                      ENTRADAS                               Pareja   \n",
       "115787                      CLÁSICOS                               Pareja   \n",
       "115793           BEBIDAS SIN ALCOHOL                               Amigos   \n",
       "115793           BEBIDAS SIN ALCOHOL                               Amigos   \n",
       "115788                      CLÁSICOS                               Pareja   \n",
       "...                              ...                                  ...   \n",
       "615571                      CLÁSICOS                               Pareja   \n",
       "615571                       BÁSICOS                               Pareja   \n",
       "615573                  HAMBURGUESAS                               Amigos   \n",
       "615574                       BÁSICOS                              Familia   \n",
       "615574      PAPAS, PAPAS Y MÁS PAPAS                              Familia   \n",
       "\n",
       "           ¿Cuál es el rango de edades en tu mesa?  \n",
       "idEncuesta                                          \n",
       "115787                                     22 a 25  \n",
       "115787                                     22 a 25  \n",
       "115793                                     18 a 21  \n",
       "115793                                     18 a 21  \n",
       "115788                                     26 a 32  \n",
       "...                                            ...  \n",
       "615571                                     18 a 21  \n",
       "615571                                     18 a 21  \n",
       "615573                                     22 a 25  \n",
       "615574                                     26 a 32  \n",
       "615574                                     26 a 32  \n",
       "\n",
       "[38607 rows x 3 columns]"
      ]
     },
     "execution_count": 12,
     "metadata": {},
     "output_type": "execute_result"
    }
   ],
   "source": [
    "data_reg = data_reg.set_index('idEncuesta')\n",
    "#data_test = pd.DataFrame(data_test)\n",
    "data_reg"
   ]
  },
  {
   "cell_type": "code",
   "execution_count": 114,
   "metadata": {
    "scrolled": true
   },
   "outputs": [],
   "source": [
    "df_grupos = data_reg['Grupo'].str.get_dummies()\n",
    "array_df = df_grupos.columns\n",
    "df_grupos = df_grupos.groupby('idEncuesta')[array_df].sum().reset_index().set_index('idEncuesta')\n",
    "\n",
    "df_por_edades = data_reg['¿Cuál es el rango de edades en tu mesa?'].str.get_dummies()\n",
    "array_df = df_por_edades.columns\n",
    "df_por_edades = df_por_edades.groupby('idEncuesta')[array_df].sum().reset_index().set_index('idEncuesta')\n",
    "\n",
    "df_con_quien = data_reg['El día de hoy ¿Con quién nos visita?'].str.get_dummies()\n",
    "array_df = df_con_quien.columns\n",
    "df_con_quien = df_con_quien.groupby('idEncuesta')[array_df].sum().reset_index().set_index('idEncuesta')\n",
    "#creando chido\n",
    "df_chido = pd.concat([df_por_edades, df_con_quien, df_grupos], axis = 1)\n",
    "df_chido = df_chido.applymap(encode_units)\n",
    "df_chido\n",
    "\n",
    "lista_grupos = df_grupos.columns.to_list()\n",
    "lista_edades = df_por_edades.columns.to_list()\n",
    "lista_quien = df_con_quien.columns.to_list()\n",
    "lista_chida = df_chido.columns.to_list()"
   ]
  },
  {
   "cell_type": "code",
   "execution_count": 147,
   "metadata": {
    "scrolled": true
   },
   "outputs": [
    {
     "name": "stderr",
     "output_type": "stream",
     "text": [
      "/home/kaetahr/.local/lib64/python3.6/site-packages/numpy/core/fromnumeric.py:2495: FutureWarning:\n",
      "\n",
      "Method .ptp is deprecated and will be removed in a future version. Use numpy.ptp instead.\n",
      "\n"
     ]
    },
    {
     "name": "stdout",
     "output_type": "stream",
     "text": [
      "Optimization terminated successfully.\n",
      "         Current function value: 0.568574\n",
      "         Iterations 5\n"
     ]
    },
    {
     "data": {
      "text/html": [
       "<table class=\"simpletable\">\n",
       "<caption>Logit Regression Results</caption>\n",
       "<tr>\n",
       "  <th>Dep. Variable:</th>   <td>BEBIDAS CON ALCOHOL</td> <th>  No. Observations:  </th>  <td> 14836</td>  \n",
       "</tr>\n",
       "<tr>\n",
       "  <th>Model:</th>                  <td>Logit</td>        <th>  Df Residuals:      </th>  <td> 14830</td>  \n",
       "</tr>\n",
       "<tr>\n",
       "  <th>Method:</th>                  <td>MLE</td>         <th>  Df Model:          </th>  <td>     5</td>  \n",
       "</tr>\n",
       "<tr>\n",
       "  <th>Date:</th>             <td>Thu, 31 Oct 2019</td>   <th>  Pseudo R-squ.:     </th> <td>0.004208</td> \n",
       "</tr>\n",
       "<tr>\n",
       "  <th>Time:</th>                 <td>17:16:16</td>       <th>  Log-Likelihood:    </th> <td> -8435.4</td> \n",
       "</tr>\n",
       "<tr>\n",
       "  <th>converged:</th>              <td>True</td>         <th>  LL-Null:           </th> <td> -8471.0</td> \n",
       "</tr>\n",
       "<tr>\n",
       "  <th>Covariance Type:</th>      <td>nonrobust</td>      <th>  LLR p-value:       </th> <td>5.496e-14</td>\n",
       "</tr>\n",
       "</table>\n",
       "<table class=\"simpletable\">\n",
       "<tr>\n",
       "       <td></td>         <th>coef</th>     <th>std err</th>      <th>z</th>      <th>P>|z|</th>  <th>[0.025</th>    <th>0.975]</th>  \n",
       "</tr>\n",
       "<tr>\n",
       "  <th>const</th>      <td>   -1.3034</td> <td>    0.045</td> <td>  -28.826</td> <td> 0.000</td> <td>   -1.392</td> <td>   -1.215</td>\n",
       "</tr>\n",
       "<tr>\n",
       "  <th>22 a 25</th>    <td>    0.2214</td> <td>    0.056</td> <td>    3.956</td> <td> 0.000</td> <td>    0.112</td> <td>    0.331</td>\n",
       "</tr>\n",
       "<tr>\n",
       "  <th>26 a 32</th>    <td>    0.4128</td> <td>    0.057</td> <td>    7.253</td> <td> 0.000</td> <td>    0.301</td> <td>    0.524</td>\n",
       "</tr>\n",
       "<tr>\n",
       "  <th>33 a 44</th>    <td>    0.3973</td> <td>    0.070</td> <td>    5.674</td> <td> 0.000</td> <td>    0.260</td> <td>    0.535</td>\n",
       "</tr>\n",
       "<tr>\n",
       "  <th>45 ó más</th>   <td>    0.2527</td> <td>    0.098</td> <td>    2.576</td> <td> 0.010</td> <td>    0.060</td> <td>    0.445</td>\n",
       "</tr>\n",
       "<tr>\n",
       "  <th>Menor a 17</th> <td>   -0.0486</td> <td>    0.110</td> <td>   -0.443</td> <td> 0.658</td> <td>   -0.264</td> <td>    0.166</td>\n",
       "</tr>\n",
       "</table>"
      ],
      "text/plain": [
       "<class 'statsmodels.iolib.summary.Summary'>\n",
       "\"\"\"\n",
       "                            Logit Regression Results                           \n",
       "===============================================================================\n",
       "Dep. Variable:     BEBIDAS CON ALCOHOL   No. Observations:                14836\n",
       "Model:                           Logit   Df Residuals:                    14830\n",
       "Method:                            MLE   Df Model:                            5\n",
       "Date:                 Thu, 31 Oct 2019   Pseudo R-squ.:                0.004208\n",
       "Time:                         17:16:16   Log-Likelihood:                -8435.4\n",
       "converged:                        True   LL-Null:                       -8471.0\n",
       "Covariance Type:             nonrobust   LLR p-value:                 5.496e-14\n",
       "==============================================================================\n",
       "                 coef    std err          z      P>|z|      [0.025      0.975]\n",
       "------------------------------------------------------------------------------\n",
       "const         -1.3034      0.045    -28.826      0.000      -1.392      -1.215\n",
       "22 a 25        0.2214      0.056      3.956      0.000       0.112       0.331\n",
       "26 a 32        0.4128      0.057      7.253      0.000       0.301       0.524\n",
       "33 a 44        0.3973      0.070      5.674      0.000       0.260       0.535\n",
       "45 ó más       0.2527      0.098      2.576      0.010       0.060       0.445\n",
       "Menor a 17    -0.0486      0.110     -0.443      0.658      -0.264       0.166\n",
       "==============================================================================\n",
       "\"\"\""
      ]
     },
     "execution_count": 147,
     "metadata": {},
     "output_type": "execute_result"
    }
   ],
   "source": [
    "algo = Logit(df_chido['BEBIDAS CON ALCOHOL'], sm.add_constant(df_chido[lista_edades[1:]]))\n",
    "resultados = algo.fit()\n",
    "resultados.summary()"
   ]
  },
  {
   "cell_type": "code",
   "execution_count": 15,
   "metadata": {},
   "outputs": [
    {
     "data": {
      "text/plain": [
       "array([0.2135989])"
      ]
     },
     "execution_count": 15,
     "metadata": {},
     "output_type": "execute_result"
    }
   ],
   "source": [
    "resultados.predict([1,1,0,0,0,0])"
   ]
  },
  {
   "cell_type": "code",
   "execution_count": 137,
   "metadata": {},
   "outputs": [],
   "source": [
    "def get_results(cant, resultados, list_x):\n",
    "    results = []\n",
    "    for i in range(cant):\n",
    "        vector = []\n",
    "        for j in range(cant):\n",
    "            if j == i:\n",
    "                vector.append(1)\n",
    "            elif j == 0:\n",
    "                vector.append(1)\n",
    "            else:\n",
    "                vector.append(0)\n",
    "        results.append(resultados.predict(vector)[0])\n",
    "    #fig = pyx.scatter(x=['AMIGOS'] +list_x, y=results)\n",
    "    fig = pyx.scatter(x=list_x, y=results)\n",
    "\n",
    "    fig.update_traces(marker=dict(size=12,\n",
    "                              line=dict(width=2,\n",
    "                                        color='DarkSlateGrey')),\n",
    "                  selector=dict(mode='markers'))\n",
    "    return fig\n",
    "\n",
    "def get_results_list(cant, resultados):\n",
    "    results = []\n",
    "    for i in range(cant):\n",
    "        vector = []\n",
    "        for j in range(cant):\n",
    "            if j == i:\n",
    "                vector.append(1)\n",
    "            elif j == 0:\n",
    "                vector.append(1)\n",
    "            else:\n",
    "                vector.append(0)\n",
    "        results.append(resultados.predict(vector)[0])\n",
    "    return results\n"
   ]
  },
  {
   "cell_type": "code",
   "execution_count": 17,
   "metadata": {},
   "outputs": [
    {
     "data": {
      "text/html": [
       "<table class=\"simpletable\">\n",
       "<caption>Logit Regression Results</caption>\n",
       "<tr>\n",
       "  <th>Dep. Variable:</th>   <td>BEBIDAS CON ALCOHOL</td> <th>  No. Observations:  </th>  <td> 14836</td>  \n",
       "</tr>\n",
       "<tr>\n",
       "  <th>Model:</th>                  <td>Logit</td>        <th>  Df Residuals:      </th>  <td> 14830</td>  \n",
       "</tr>\n",
       "<tr>\n",
       "  <th>Method:</th>                  <td>MLE</td>         <th>  Df Model:          </th>  <td>     5</td>  \n",
       "</tr>\n",
       "<tr>\n",
       "  <th>Date:</th>             <td>Thu, 31 Oct 2019</td>   <th>  Pseudo R-squ.:     </th> <td>0.004208</td> \n",
       "</tr>\n",
       "<tr>\n",
       "  <th>Time:</th>                 <td>15:32:57</td>       <th>  Log-Likelihood:    </th> <td> -8435.4</td> \n",
       "</tr>\n",
       "<tr>\n",
       "  <th>converged:</th>              <td>True</td>         <th>  LL-Null:           </th> <td> -8471.0</td> \n",
       "</tr>\n",
       "<tr>\n",
       "  <th>Covariance Type:</th>      <td>nonrobust</td>      <th>  LLR p-value:       </th> <td>5.496e-14</td>\n",
       "</tr>\n",
       "</table>\n",
       "<table class=\"simpletable\">\n",
       "<tr>\n",
       "      <td></td>        <th>coef</th>     <th>std err</th>      <th>z</th>      <th>P>|z|</th>  <th>[0.025</th>    <th>0.975]</th>  \n",
       "</tr>\n",
       "<tr>\n",
       "  <th>const</th>    <td>   -1.3520</td> <td>    0.100</td> <td>  -13.527</td> <td> 0.000</td> <td>   -1.548</td> <td>   -1.156</td>\n",
       "</tr>\n",
       "<tr>\n",
       "  <th>18 a 21</th>  <td>    0.0486</td> <td>    0.110</td> <td>    0.443</td> <td> 0.658</td> <td>   -0.166</td> <td>    0.264</td>\n",
       "</tr>\n",
       "<tr>\n",
       "  <th>22 a 25</th>  <td>    0.2700</td> <td>    0.105</td> <td>    2.566</td> <td> 0.010</td> <td>    0.064</td> <td>    0.476</td>\n",
       "</tr>\n",
       "<tr>\n",
       "  <th>26 a 32</th>  <td>    0.4614</td> <td>    0.106</td> <td>    4.363</td> <td> 0.000</td> <td>    0.254</td> <td>    0.669</td>\n",
       "</tr>\n",
       "<tr>\n",
       "  <th>33 a 44</th>  <td>    0.4459</td> <td>    0.113</td> <td>    3.934</td> <td> 0.000</td> <td>    0.224</td> <td>    0.668</td>\n",
       "</tr>\n",
       "<tr>\n",
       "  <th>45 ó más</th> <td>    0.3013</td> <td>    0.133</td> <td>    2.273</td> <td> 0.023</td> <td>    0.042</td> <td>    0.561</td>\n",
       "</tr>\n",
       "</table>"
      ],
      "text/plain": [
       "<class 'statsmodels.iolib.summary.Summary'>\n",
       "\"\"\"\n",
       "                            Logit Regression Results                           \n",
       "===============================================================================\n",
       "Dep. Variable:     BEBIDAS CON ALCOHOL   No. Observations:                14836\n",
       "Model:                           Logit   Df Residuals:                    14830\n",
       "Method:                            MLE   Df Model:                            5\n",
       "Date:                 Thu, 31 Oct 2019   Pseudo R-squ.:                0.004208\n",
       "Time:                         15:32:57   Log-Likelihood:                -8435.4\n",
       "converged:                        True   LL-Null:                       -8471.0\n",
       "Covariance Type:             nonrobust   LLR p-value:                 5.496e-14\n",
       "==============================================================================\n",
       "                 coef    std err          z      P>|z|      [0.025      0.975]\n",
       "------------------------------------------------------------------------------\n",
       "const         -1.3520      0.100    -13.527      0.000      -1.548      -1.156\n",
       "18 a 21        0.0486      0.110      0.443      0.658      -0.166       0.264\n",
       "22 a 25        0.2700      0.105      2.566      0.010       0.064       0.476\n",
       "26 a 32        0.4614      0.106      4.363      0.000       0.254       0.669\n",
       "33 a 44        0.4459      0.113      3.934      0.000       0.224       0.668\n",
       "45 ó más       0.3013      0.133      2.273      0.023       0.042       0.561\n",
       "==============================================================================\n",
       "\"\"\""
      ]
     },
     "execution_count": 17,
     "metadata": {},
     "output_type": "execute_result"
    }
   ],
   "source": [
    "resultados.summary()"
   ]
  },
  {
   "cell_type": "code",
   "execution_count": 148,
   "metadata": {},
   "outputs": [
    {
     "data": {
      "application/vnd.plotly.v1+json": {
       "config": {
        "plotlyServerURL": "https://plot.ly"
       },
       "data": [
        {
         "hoverlabel": {
          "namelength": 0
         },
         "hovertemplate": "x=%{x}<br>y=%{y}",
         "legendgroup": "",
         "marker": {
          "color": "#636efa",
          "line": {
           "color": "DarkSlateGrey",
           "width": 2
          },
          "size": 12,
          "symbol": "circle"
         },
         "mode": "markers",
         "name": "",
         "showlegend": false,
         "type": "scatter",
         "x": [
          "18 a 21",
          "22 a 25",
          "26 a 32",
          "33 a 44",
          "45 ó más",
          "Menor a 17"
         ],
         "xaxis": "x",
         "y": [
          0.21359890109890112,
          0.2531359243265473,
          0.2909987669543773,
          0.2878077373974209,
          0.2590975254730713,
          0.20554649265905378
         ],
         "yaxis": "y"
        }
       ],
       "layout": {
        "height": 600,
        "legend": {
         "tracegroupgap": 0
        },
        "margin": {
         "t": 60
        },
        "template": {
         "data": {
          "bar": [
           {
            "error_x": {
             "color": "#2a3f5f"
            },
            "error_y": {
             "color": "#2a3f5f"
            },
            "marker": {
             "line": {
              "color": "#E5ECF6",
              "width": 0.5
             }
            },
            "type": "bar"
           }
          ],
          "barpolar": [
           {
            "marker": {
             "line": {
              "color": "#E5ECF6",
              "width": 0.5
             }
            },
            "type": "barpolar"
           }
          ],
          "carpet": [
           {
            "aaxis": {
             "endlinecolor": "#2a3f5f",
             "gridcolor": "white",
             "linecolor": "white",
             "minorgridcolor": "white",
             "startlinecolor": "#2a3f5f"
            },
            "baxis": {
             "endlinecolor": "#2a3f5f",
             "gridcolor": "white",
             "linecolor": "white",
             "minorgridcolor": "white",
             "startlinecolor": "#2a3f5f"
            },
            "type": "carpet"
           }
          ],
          "choropleth": [
           {
            "colorbar": {
             "outlinewidth": 0,
             "ticks": ""
            },
            "type": "choropleth"
           }
          ],
          "contour": [
           {
            "colorbar": {
             "outlinewidth": 0,
             "ticks": ""
            },
            "colorscale": [
             [
              0,
              "#0d0887"
             ],
             [
              0.1111111111111111,
              "#46039f"
             ],
             [
              0.2222222222222222,
              "#7201a8"
             ],
             [
              0.3333333333333333,
              "#9c179e"
             ],
             [
              0.4444444444444444,
              "#bd3786"
             ],
             [
              0.5555555555555556,
              "#d8576b"
             ],
             [
              0.6666666666666666,
              "#ed7953"
             ],
             [
              0.7777777777777778,
              "#fb9f3a"
             ],
             [
              0.8888888888888888,
              "#fdca26"
             ],
             [
              1,
              "#f0f921"
             ]
            ],
            "type": "contour"
           }
          ],
          "contourcarpet": [
           {
            "colorbar": {
             "outlinewidth": 0,
             "ticks": ""
            },
            "type": "contourcarpet"
           }
          ],
          "heatmap": [
           {
            "colorbar": {
             "outlinewidth": 0,
             "ticks": ""
            },
            "colorscale": [
             [
              0,
              "#0d0887"
             ],
             [
              0.1111111111111111,
              "#46039f"
             ],
             [
              0.2222222222222222,
              "#7201a8"
             ],
             [
              0.3333333333333333,
              "#9c179e"
             ],
             [
              0.4444444444444444,
              "#bd3786"
             ],
             [
              0.5555555555555556,
              "#d8576b"
             ],
             [
              0.6666666666666666,
              "#ed7953"
             ],
             [
              0.7777777777777778,
              "#fb9f3a"
             ],
             [
              0.8888888888888888,
              "#fdca26"
             ],
             [
              1,
              "#f0f921"
             ]
            ],
            "type": "heatmap"
           }
          ],
          "heatmapgl": [
           {
            "colorbar": {
             "outlinewidth": 0,
             "ticks": ""
            },
            "colorscale": [
             [
              0,
              "#0d0887"
             ],
             [
              0.1111111111111111,
              "#46039f"
             ],
             [
              0.2222222222222222,
              "#7201a8"
             ],
             [
              0.3333333333333333,
              "#9c179e"
             ],
             [
              0.4444444444444444,
              "#bd3786"
             ],
             [
              0.5555555555555556,
              "#d8576b"
             ],
             [
              0.6666666666666666,
              "#ed7953"
             ],
             [
              0.7777777777777778,
              "#fb9f3a"
             ],
             [
              0.8888888888888888,
              "#fdca26"
             ],
             [
              1,
              "#f0f921"
             ]
            ],
            "type": "heatmapgl"
           }
          ],
          "histogram": [
           {
            "marker": {
             "colorbar": {
              "outlinewidth": 0,
              "ticks": ""
             }
            },
            "type": "histogram"
           }
          ],
          "histogram2d": [
           {
            "colorbar": {
             "outlinewidth": 0,
             "ticks": ""
            },
            "colorscale": [
             [
              0,
              "#0d0887"
             ],
             [
              0.1111111111111111,
              "#46039f"
             ],
             [
              0.2222222222222222,
              "#7201a8"
             ],
             [
              0.3333333333333333,
              "#9c179e"
             ],
             [
              0.4444444444444444,
              "#bd3786"
             ],
             [
              0.5555555555555556,
              "#d8576b"
             ],
             [
              0.6666666666666666,
              "#ed7953"
             ],
             [
              0.7777777777777778,
              "#fb9f3a"
             ],
             [
              0.8888888888888888,
              "#fdca26"
             ],
             [
              1,
              "#f0f921"
             ]
            ],
            "type": "histogram2d"
           }
          ],
          "histogram2dcontour": [
           {
            "colorbar": {
             "outlinewidth": 0,
             "ticks": ""
            },
            "colorscale": [
             [
              0,
              "#0d0887"
             ],
             [
              0.1111111111111111,
              "#46039f"
             ],
             [
              0.2222222222222222,
              "#7201a8"
             ],
             [
              0.3333333333333333,
              "#9c179e"
             ],
             [
              0.4444444444444444,
              "#bd3786"
             ],
             [
              0.5555555555555556,
              "#d8576b"
             ],
             [
              0.6666666666666666,
              "#ed7953"
             ],
             [
              0.7777777777777778,
              "#fb9f3a"
             ],
             [
              0.8888888888888888,
              "#fdca26"
             ],
             [
              1,
              "#f0f921"
             ]
            ],
            "type": "histogram2dcontour"
           }
          ],
          "mesh3d": [
           {
            "colorbar": {
             "outlinewidth": 0,
             "ticks": ""
            },
            "type": "mesh3d"
           }
          ],
          "parcoords": [
           {
            "line": {
             "colorbar": {
              "outlinewidth": 0,
              "ticks": ""
             }
            },
            "type": "parcoords"
           }
          ],
          "scatter": [
           {
            "marker": {
             "colorbar": {
              "outlinewidth": 0,
              "ticks": ""
             }
            },
            "type": "scatter"
           }
          ],
          "scatter3d": [
           {
            "line": {
             "colorbar": {
              "outlinewidth": 0,
              "ticks": ""
             }
            },
            "marker": {
             "colorbar": {
              "outlinewidth": 0,
              "ticks": ""
             }
            },
            "type": "scatter3d"
           }
          ],
          "scattercarpet": [
           {
            "marker": {
             "colorbar": {
              "outlinewidth": 0,
              "ticks": ""
             }
            },
            "type": "scattercarpet"
           }
          ],
          "scattergeo": [
           {
            "marker": {
             "colorbar": {
              "outlinewidth": 0,
              "ticks": ""
             }
            },
            "type": "scattergeo"
           }
          ],
          "scattergl": [
           {
            "marker": {
             "colorbar": {
              "outlinewidth": 0,
              "ticks": ""
             }
            },
            "type": "scattergl"
           }
          ],
          "scattermapbox": [
           {
            "marker": {
             "colorbar": {
              "outlinewidth": 0,
              "ticks": ""
             }
            },
            "type": "scattermapbox"
           }
          ],
          "scatterpolar": [
           {
            "marker": {
             "colorbar": {
              "outlinewidth": 0,
              "ticks": ""
             }
            },
            "type": "scatterpolar"
           }
          ],
          "scatterpolargl": [
           {
            "marker": {
             "colorbar": {
              "outlinewidth": 0,
              "ticks": ""
             }
            },
            "type": "scatterpolargl"
           }
          ],
          "scatterternary": [
           {
            "marker": {
             "colorbar": {
              "outlinewidth": 0,
              "ticks": ""
             }
            },
            "type": "scatterternary"
           }
          ],
          "surface": [
           {
            "colorbar": {
             "outlinewidth": 0,
             "ticks": ""
            },
            "colorscale": [
             [
              0,
              "#0d0887"
             ],
             [
              0.1111111111111111,
              "#46039f"
             ],
             [
              0.2222222222222222,
              "#7201a8"
             ],
             [
              0.3333333333333333,
              "#9c179e"
             ],
             [
              0.4444444444444444,
              "#bd3786"
             ],
             [
              0.5555555555555556,
              "#d8576b"
             ],
             [
              0.6666666666666666,
              "#ed7953"
             ],
             [
              0.7777777777777778,
              "#fb9f3a"
             ],
             [
              0.8888888888888888,
              "#fdca26"
             ],
             [
              1,
              "#f0f921"
             ]
            ],
            "type": "surface"
           }
          ],
          "table": [
           {
            "cells": {
             "fill": {
              "color": "#EBF0F8"
             },
             "line": {
              "color": "white"
             }
            },
            "header": {
             "fill": {
              "color": "#C8D4E3"
             },
             "line": {
              "color": "white"
             }
            },
            "type": "table"
           }
          ]
         },
         "layout": {
          "annotationdefaults": {
           "arrowcolor": "#2a3f5f",
           "arrowhead": 0,
           "arrowwidth": 1
          },
          "colorscale": {
           "diverging": [
            [
             0,
             "#8e0152"
            ],
            [
             0.1,
             "#c51b7d"
            ],
            [
             0.2,
             "#de77ae"
            ],
            [
             0.3,
             "#f1b6da"
            ],
            [
             0.4,
             "#fde0ef"
            ],
            [
             0.5,
             "#f7f7f7"
            ],
            [
             0.6,
             "#e6f5d0"
            ],
            [
             0.7,
             "#b8e186"
            ],
            [
             0.8,
             "#7fbc41"
            ],
            [
             0.9,
             "#4d9221"
            ],
            [
             1,
             "#276419"
            ]
           ],
           "sequential": [
            [
             0,
             "#0d0887"
            ],
            [
             0.1111111111111111,
             "#46039f"
            ],
            [
             0.2222222222222222,
             "#7201a8"
            ],
            [
             0.3333333333333333,
             "#9c179e"
            ],
            [
             0.4444444444444444,
             "#bd3786"
            ],
            [
             0.5555555555555556,
             "#d8576b"
            ],
            [
             0.6666666666666666,
             "#ed7953"
            ],
            [
             0.7777777777777778,
             "#fb9f3a"
            ],
            [
             0.8888888888888888,
             "#fdca26"
            ],
            [
             1,
             "#f0f921"
            ]
           ],
           "sequentialminus": [
            [
             0,
             "#0d0887"
            ],
            [
             0.1111111111111111,
             "#46039f"
            ],
            [
             0.2222222222222222,
             "#7201a8"
            ],
            [
             0.3333333333333333,
             "#9c179e"
            ],
            [
             0.4444444444444444,
             "#bd3786"
            ],
            [
             0.5555555555555556,
             "#d8576b"
            ],
            [
             0.6666666666666666,
             "#ed7953"
            ],
            [
             0.7777777777777778,
             "#fb9f3a"
            ],
            [
             0.8888888888888888,
             "#fdca26"
            ],
            [
             1,
             "#f0f921"
            ]
           ]
          },
          "colorway": [
           "#636efa",
           "#EF553B",
           "#00cc96",
           "#ab63fa",
           "#FFA15A",
           "#19d3f3",
           "#FF6692",
           "#B6E880",
           "#FF97FF",
           "#FECB52"
          ],
          "font": {
           "color": "#2a3f5f"
          },
          "geo": {
           "bgcolor": "white",
           "lakecolor": "white",
           "landcolor": "#E5ECF6",
           "showlakes": true,
           "showland": true,
           "subunitcolor": "white"
          },
          "hoverlabel": {
           "align": "left"
          },
          "hovermode": "closest",
          "mapbox": {
           "style": "light"
          },
          "paper_bgcolor": "white",
          "plot_bgcolor": "#E5ECF6",
          "polar": {
           "angularaxis": {
            "gridcolor": "white",
            "linecolor": "white",
            "ticks": ""
           },
           "bgcolor": "#E5ECF6",
           "radialaxis": {
            "gridcolor": "white",
            "linecolor": "white",
            "ticks": ""
           }
          },
          "scene": {
           "xaxis": {
            "backgroundcolor": "#E5ECF6",
            "gridcolor": "white",
            "gridwidth": 2,
            "linecolor": "white",
            "showbackground": true,
            "ticks": "",
            "zerolinecolor": "white"
           },
           "yaxis": {
            "backgroundcolor": "#E5ECF6",
            "gridcolor": "white",
            "gridwidth": 2,
            "linecolor": "white",
            "showbackground": true,
            "ticks": "",
            "zerolinecolor": "white"
           },
           "zaxis": {
            "backgroundcolor": "#E5ECF6",
            "gridcolor": "white",
            "gridwidth": 2,
            "linecolor": "white",
            "showbackground": true,
            "ticks": "",
            "zerolinecolor": "white"
           }
          },
          "shapedefaults": {
           "line": {
            "color": "#2a3f5f"
           }
          },
          "ternary": {
           "aaxis": {
            "gridcolor": "white",
            "linecolor": "white",
            "ticks": ""
           },
           "baxis": {
            "gridcolor": "white",
            "linecolor": "white",
            "ticks": ""
           },
           "bgcolor": "#E5ECF6",
           "caxis": {
            "gridcolor": "white",
            "linecolor": "white",
            "ticks": ""
           }
          },
          "title": {
           "x": 0.05
          },
          "xaxis": {
           "automargin": true,
           "gridcolor": "white",
           "linecolor": "white",
           "ticks": "",
           "zerolinecolor": "white",
           "zerolinewidth": 2
          },
          "yaxis": {
           "automargin": true,
           "gridcolor": "white",
           "linecolor": "white",
           "ticks": "",
           "zerolinecolor": "white",
           "zerolinewidth": 2
          }
         }
        },
        "xaxis": {
         "anchor": "y",
         "domain": [
          0,
          0.98
         ],
         "title": {
          "text": "x"
         }
        },
        "yaxis": {
         "anchor": "x",
         "domain": [
          0,
          1
         ],
         "title": {
          "text": "y"
         }
        }
       }
      },
      "text/html": [
       "<div>\n",
       "        \n",
       "        \n",
       "            <div id=\"103308e6-8700-4731-969e-9981a4973a07\" class=\"plotly-graph-div\" style=\"height:600px; width:100%;\"></div>\n",
       "            <script type=\"text/javascript\">\n",
       "                require([\"plotly\"], function(Plotly) {\n",
       "                    window.PLOTLYENV=window.PLOTLYENV || {};\n",
       "                    \n",
       "                if (document.getElementById(\"103308e6-8700-4731-969e-9981a4973a07\")) {\n",
       "                    Plotly.newPlot(\n",
       "                        '103308e6-8700-4731-969e-9981a4973a07',\n",
       "                        [{\"hoverlabel\": {\"namelength\": 0}, \"hovertemplate\": \"x=%{x}<br>y=%{y}\", \"legendgroup\": \"\", \"marker\": {\"color\": \"#636efa\", \"line\": {\"color\": \"DarkSlateGrey\", \"width\": 2}, \"size\": 12, \"symbol\": \"circle\"}, \"mode\": \"markers\", \"name\": \"\", \"showlegend\": false, \"type\": \"scatter\", \"x\": [\"18 a 21\", \"22 a 25\", \"26 a 32\", \"33 a 44\", \"45 \\u00f3 m\\u00e1s\", \"Menor a 17\"], \"xaxis\": \"x\", \"y\": [0.21359890109890112, 0.2531359243265473, 0.2909987669543773, 0.2878077373974209, 0.2590975254730713, 0.20554649265905378], \"yaxis\": \"y\"}],\n",
       "                        {\"height\": 600, \"legend\": {\"tracegroupgap\": 0}, \"margin\": {\"t\": 60}, \"template\": {\"data\": {\"bar\": [{\"error_x\": {\"color\": \"#2a3f5f\"}, \"error_y\": {\"color\": \"#2a3f5f\"}, \"marker\": {\"line\": {\"color\": \"#E5ECF6\", \"width\": 0.5}}, \"type\": \"bar\"}], \"barpolar\": [{\"marker\": {\"line\": {\"color\": \"#E5ECF6\", \"width\": 0.5}}, \"type\": \"barpolar\"}], \"carpet\": [{\"aaxis\": {\"endlinecolor\": \"#2a3f5f\", \"gridcolor\": \"white\", \"linecolor\": \"white\", \"minorgridcolor\": \"white\", \"startlinecolor\": \"#2a3f5f\"}, \"baxis\": {\"endlinecolor\": \"#2a3f5f\", \"gridcolor\": \"white\", \"linecolor\": \"white\", \"minorgridcolor\": \"white\", \"startlinecolor\": \"#2a3f5f\"}, \"type\": \"carpet\"}], \"choropleth\": [{\"colorbar\": {\"outlinewidth\": 0, \"ticks\": \"\"}, \"type\": \"choropleth\"}], \"contour\": [{\"colorbar\": {\"outlinewidth\": 0, \"ticks\": \"\"}, \"colorscale\": [[0.0, \"#0d0887\"], [0.1111111111111111, \"#46039f\"], [0.2222222222222222, \"#7201a8\"], [0.3333333333333333, \"#9c179e\"], [0.4444444444444444, \"#bd3786\"], [0.5555555555555556, \"#d8576b\"], [0.6666666666666666, \"#ed7953\"], [0.7777777777777778, \"#fb9f3a\"], [0.8888888888888888, \"#fdca26\"], [1.0, \"#f0f921\"]], \"type\": \"contour\"}], \"contourcarpet\": [{\"colorbar\": {\"outlinewidth\": 0, \"ticks\": \"\"}, \"type\": \"contourcarpet\"}], \"heatmap\": [{\"colorbar\": {\"outlinewidth\": 0, \"ticks\": \"\"}, \"colorscale\": [[0.0, \"#0d0887\"], [0.1111111111111111, \"#46039f\"], [0.2222222222222222, \"#7201a8\"], [0.3333333333333333, \"#9c179e\"], [0.4444444444444444, \"#bd3786\"], [0.5555555555555556, \"#d8576b\"], [0.6666666666666666, \"#ed7953\"], [0.7777777777777778, \"#fb9f3a\"], [0.8888888888888888, \"#fdca26\"], [1.0, \"#f0f921\"]], \"type\": \"heatmap\"}], \"heatmapgl\": [{\"colorbar\": {\"outlinewidth\": 0, \"ticks\": \"\"}, \"colorscale\": [[0.0, \"#0d0887\"], [0.1111111111111111, \"#46039f\"], [0.2222222222222222, \"#7201a8\"], [0.3333333333333333, \"#9c179e\"], [0.4444444444444444, \"#bd3786\"], [0.5555555555555556, \"#d8576b\"], [0.6666666666666666, \"#ed7953\"], [0.7777777777777778, \"#fb9f3a\"], [0.8888888888888888, \"#fdca26\"], [1.0, \"#f0f921\"]], \"type\": \"heatmapgl\"}], \"histogram\": [{\"marker\": {\"colorbar\": {\"outlinewidth\": 0, \"ticks\": \"\"}}, \"type\": \"histogram\"}], \"histogram2d\": [{\"colorbar\": {\"outlinewidth\": 0, \"ticks\": \"\"}, \"colorscale\": [[0.0, \"#0d0887\"], [0.1111111111111111, \"#46039f\"], [0.2222222222222222, \"#7201a8\"], [0.3333333333333333, \"#9c179e\"], [0.4444444444444444, \"#bd3786\"], [0.5555555555555556, \"#d8576b\"], [0.6666666666666666, \"#ed7953\"], [0.7777777777777778, \"#fb9f3a\"], [0.8888888888888888, \"#fdca26\"], [1.0, \"#f0f921\"]], \"type\": \"histogram2d\"}], \"histogram2dcontour\": [{\"colorbar\": {\"outlinewidth\": 0, \"ticks\": \"\"}, \"colorscale\": [[0.0, \"#0d0887\"], [0.1111111111111111, \"#46039f\"], [0.2222222222222222, \"#7201a8\"], [0.3333333333333333, \"#9c179e\"], [0.4444444444444444, \"#bd3786\"], [0.5555555555555556, \"#d8576b\"], [0.6666666666666666, \"#ed7953\"], [0.7777777777777778, \"#fb9f3a\"], [0.8888888888888888, \"#fdca26\"], [1.0, \"#f0f921\"]], \"type\": \"histogram2dcontour\"}], \"mesh3d\": [{\"colorbar\": {\"outlinewidth\": 0, \"ticks\": \"\"}, \"type\": \"mesh3d\"}], \"parcoords\": [{\"line\": {\"colorbar\": {\"outlinewidth\": 0, \"ticks\": \"\"}}, \"type\": \"parcoords\"}], \"scatter\": [{\"marker\": {\"colorbar\": {\"outlinewidth\": 0, \"ticks\": \"\"}}, \"type\": \"scatter\"}], \"scatter3d\": [{\"line\": {\"colorbar\": {\"outlinewidth\": 0, \"ticks\": \"\"}}, \"marker\": {\"colorbar\": {\"outlinewidth\": 0, \"ticks\": \"\"}}, \"type\": \"scatter3d\"}], \"scattercarpet\": [{\"marker\": {\"colorbar\": {\"outlinewidth\": 0, \"ticks\": \"\"}}, \"type\": \"scattercarpet\"}], \"scattergeo\": [{\"marker\": {\"colorbar\": {\"outlinewidth\": 0, \"ticks\": \"\"}}, \"type\": \"scattergeo\"}], \"scattergl\": [{\"marker\": {\"colorbar\": {\"outlinewidth\": 0, \"ticks\": \"\"}}, \"type\": \"scattergl\"}], \"scattermapbox\": [{\"marker\": {\"colorbar\": {\"outlinewidth\": 0, \"ticks\": \"\"}}, \"type\": \"scattermapbox\"}], \"scatterpolar\": [{\"marker\": {\"colorbar\": {\"outlinewidth\": 0, \"ticks\": \"\"}}, \"type\": \"scatterpolar\"}], \"scatterpolargl\": [{\"marker\": {\"colorbar\": {\"outlinewidth\": 0, \"ticks\": \"\"}}, \"type\": \"scatterpolargl\"}], \"scatterternary\": [{\"marker\": {\"colorbar\": {\"outlinewidth\": 0, \"ticks\": \"\"}}, \"type\": \"scatterternary\"}], \"surface\": [{\"colorbar\": {\"outlinewidth\": 0, \"ticks\": \"\"}, \"colorscale\": [[0.0, \"#0d0887\"], [0.1111111111111111, \"#46039f\"], [0.2222222222222222, \"#7201a8\"], [0.3333333333333333, \"#9c179e\"], [0.4444444444444444, \"#bd3786\"], [0.5555555555555556, \"#d8576b\"], [0.6666666666666666, \"#ed7953\"], [0.7777777777777778, \"#fb9f3a\"], [0.8888888888888888, \"#fdca26\"], [1.0, \"#f0f921\"]], \"type\": \"surface\"}], \"table\": [{\"cells\": {\"fill\": {\"color\": \"#EBF0F8\"}, \"line\": {\"color\": \"white\"}}, \"header\": {\"fill\": {\"color\": \"#C8D4E3\"}, \"line\": {\"color\": \"white\"}}, \"type\": \"table\"}]}, \"layout\": {\"annotationdefaults\": {\"arrowcolor\": \"#2a3f5f\", \"arrowhead\": 0, \"arrowwidth\": 1}, \"colorscale\": {\"diverging\": [[0, \"#8e0152\"], [0.1, \"#c51b7d\"], [0.2, \"#de77ae\"], [0.3, \"#f1b6da\"], [0.4, \"#fde0ef\"], [0.5, \"#f7f7f7\"], [0.6, \"#e6f5d0\"], [0.7, \"#b8e186\"], [0.8, \"#7fbc41\"], [0.9, \"#4d9221\"], [1, \"#276419\"]], \"sequential\": [[0.0, \"#0d0887\"], [0.1111111111111111, \"#46039f\"], [0.2222222222222222, \"#7201a8\"], [0.3333333333333333, \"#9c179e\"], [0.4444444444444444, \"#bd3786\"], [0.5555555555555556, \"#d8576b\"], [0.6666666666666666, \"#ed7953\"], [0.7777777777777778, \"#fb9f3a\"], [0.8888888888888888, \"#fdca26\"], [1.0, \"#f0f921\"]], \"sequentialminus\": [[0.0, \"#0d0887\"], [0.1111111111111111, \"#46039f\"], [0.2222222222222222, \"#7201a8\"], [0.3333333333333333, \"#9c179e\"], [0.4444444444444444, \"#bd3786\"], [0.5555555555555556, \"#d8576b\"], [0.6666666666666666, \"#ed7953\"], [0.7777777777777778, \"#fb9f3a\"], [0.8888888888888888, \"#fdca26\"], [1.0, \"#f0f921\"]]}, \"colorway\": [\"#636efa\", \"#EF553B\", \"#00cc96\", \"#ab63fa\", \"#FFA15A\", \"#19d3f3\", \"#FF6692\", \"#B6E880\", \"#FF97FF\", \"#FECB52\"], \"font\": {\"color\": \"#2a3f5f\"}, \"geo\": {\"bgcolor\": \"white\", \"lakecolor\": \"white\", \"landcolor\": \"#E5ECF6\", \"showlakes\": true, \"showland\": true, \"subunitcolor\": \"white\"}, \"hoverlabel\": {\"align\": \"left\"}, \"hovermode\": \"closest\", \"mapbox\": {\"style\": \"light\"}, \"paper_bgcolor\": \"white\", \"plot_bgcolor\": \"#E5ECF6\", \"polar\": {\"angularaxis\": {\"gridcolor\": \"white\", \"linecolor\": \"white\", \"ticks\": \"\"}, \"bgcolor\": \"#E5ECF6\", \"radialaxis\": {\"gridcolor\": \"white\", \"linecolor\": \"white\", \"ticks\": \"\"}}, \"scene\": {\"xaxis\": {\"backgroundcolor\": \"#E5ECF6\", \"gridcolor\": \"white\", \"gridwidth\": 2, \"linecolor\": \"white\", \"showbackground\": true, \"ticks\": \"\", \"zerolinecolor\": \"white\"}, \"yaxis\": {\"backgroundcolor\": \"#E5ECF6\", \"gridcolor\": \"white\", \"gridwidth\": 2, \"linecolor\": \"white\", \"showbackground\": true, \"ticks\": \"\", \"zerolinecolor\": \"white\"}, \"zaxis\": {\"backgroundcolor\": \"#E5ECF6\", \"gridcolor\": \"white\", \"gridwidth\": 2, \"linecolor\": \"white\", \"showbackground\": true, \"ticks\": \"\", \"zerolinecolor\": \"white\"}}, \"shapedefaults\": {\"line\": {\"color\": \"#2a3f5f\"}}, \"ternary\": {\"aaxis\": {\"gridcolor\": \"white\", \"linecolor\": \"white\", \"ticks\": \"\"}, \"baxis\": {\"gridcolor\": \"white\", \"linecolor\": \"white\", \"ticks\": \"\"}, \"bgcolor\": \"#E5ECF6\", \"caxis\": {\"gridcolor\": \"white\", \"linecolor\": \"white\", \"ticks\": \"\"}}, \"title\": {\"x\": 0.05}, \"xaxis\": {\"automargin\": true, \"gridcolor\": \"white\", \"linecolor\": \"white\", \"ticks\": \"\", \"zerolinecolor\": \"white\", \"zerolinewidth\": 2}, \"yaxis\": {\"automargin\": true, \"gridcolor\": \"white\", \"linecolor\": \"white\", \"ticks\": \"\", \"zerolinecolor\": \"white\", \"zerolinewidth\": 2}}}, \"xaxis\": {\"anchor\": \"y\", \"domain\": [0.0, 0.98], \"title\": {\"text\": \"x\"}}, \"yaxis\": {\"anchor\": \"x\", \"domain\": [0.0, 1.0], \"title\": {\"text\": \"y\"}}},\n",
       "                        {\"responsive\": true}\n",
       "                    ).then(function(){\n",
       "                            \n",
       "var gd = document.getElementById('103308e6-8700-4731-969e-9981a4973a07');\n",
       "var x = new MutationObserver(function (mutations, observer) {{\n",
       "        var display = window.getComputedStyle(gd).display;\n",
       "        if (!display || display === 'none') {{\n",
       "            console.log([gd, 'removed!']);\n",
       "            Plotly.purge(gd);\n",
       "            observer.disconnect();\n",
       "        }}\n",
       "}});\n",
       "\n",
       "// Listen for the removal of the full notebook cells\n",
       "var notebookContainer = gd.closest('#notebook-container');\n",
       "if (notebookContainer) {{\n",
       "    x.observe(notebookContainer, {childList: true});\n",
       "}}\n",
       "\n",
       "// Listen for the clearing of the current output cell\n",
       "var outputEl = gd.closest('.output');\n",
       "if (outputEl) {{\n",
       "    x.observe(outputEl, {childList: true});\n",
       "}}\n",
       "\n",
       "                        })\n",
       "                };\n",
       "                });\n",
       "            </script>\n",
       "        </div>"
      ]
     },
     "metadata": {},
     "output_type": "display_data"
    }
   ],
   "source": [
    "#res_edad_alcohol = \n",
    "get_results(6, resultados, lista_edades)"
   ]
  },
  {
   "cell_type": "code",
   "execution_count": 129,
   "metadata": {},
   "outputs": [
    {
     "name": "stdout",
     "output_type": "stream",
     "text": [
      "Optimization terminated successfully.\n",
      "         Current function value: 0.568203\n",
      "         Iterations 5\n"
     ]
    },
    {
     "data": {
      "text/html": [
       "<table class=\"simpletable\">\n",
       "<caption>Logit Regression Results</caption>\n",
       "<tr>\n",
       "  <th>Dep. Variable:</th>   <td>BEBIDAS CON ALCOHOL</td> <th>  No. Observations:  </th>  <td> 14836</td>  \n",
       "</tr>\n",
       "<tr>\n",
       "  <th>Model:</th>                  <td>Logit</td>        <th>  Df Residuals:      </th>  <td> 14826</td>  \n",
       "</tr>\n",
       "<tr>\n",
       "  <th>Method:</th>                  <td>MLE</td>         <th>  Df Model:          </th>  <td>     9</td>  \n",
       "</tr>\n",
       "<tr>\n",
       "  <th>Date:</th>             <td>Thu, 31 Oct 2019</td>   <th>  Pseudo R-squ.:     </th> <td>0.004857</td> \n",
       "</tr>\n",
       "<tr>\n",
       "  <th>Time:</th>                 <td>16:52:19</td>       <th>  Log-Likelihood:    </th> <td> -8429.9</td> \n",
       "</tr>\n",
       "<tr>\n",
       "  <th>converged:</th>              <td>True</td>         <th>  LL-Null:           </th> <td> -8471.0</td> \n",
       "</tr>\n",
       "<tr>\n",
       "  <th>Covariance Type:</th>      <td>nonrobust</td>      <th>  LLR p-value:       </th> <td>5.655e-14</td>\n",
       "</tr>\n",
       "</table>\n",
       "<table class=\"simpletable\">\n",
       "<tr>\n",
       "         <td></td>            <th>coef</th>     <th>std err</th>      <th>z</th>      <th>P>|z|</th>  <th>[0.025</th>    <th>0.975]</th>  \n",
       "</tr>\n",
       "<tr>\n",
       "  <th>const</th>           <td>   -1.2320</td> <td>    0.053</td> <td>  -23.275</td> <td> 0.000</td> <td>   -1.336</td> <td>   -1.128</td>\n",
       "</tr>\n",
       "<tr>\n",
       "  <th>Familia</th>         <td>   -0.1215</td> <td>    0.050</td> <td>   -2.442</td> <td> 0.015</td> <td>   -0.219</td> <td>   -0.024</td>\n",
       "</tr>\n",
       "<tr>\n",
       "  <th>Los del Trabajo</th> <td>   -0.2151</td> <td>    0.106</td> <td>   -2.034</td> <td> 0.042</td> <td>   -0.422</td> <td>   -0.008</td>\n",
       "</tr>\n",
       "<tr>\n",
       "  <th>Pareja</th>          <td>   -0.0912</td> <td>    0.046</td> <td>   -1.965</td> <td> 0.049</td> <td>   -0.182</td> <td>   -0.000</td>\n",
       "</tr>\n",
       "<tr>\n",
       "  <th>Solo</th>            <td>   -0.3200</td> <td>    0.166</td> <td>   -1.931</td> <td> 0.054</td> <td>   -0.645</td> <td>    0.005</td>\n",
       "</tr>\n",
       "<tr>\n",
       "  <th>22 a 25</th>         <td>    0.2201</td> <td>    0.056</td> <td>    3.930</td> <td> 0.000</td> <td>    0.110</td> <td>    0.330</td>\n",
       "</tr>\n",
       "<tr>\n",
       "  <th>26 a 32</th>         <td>    0.4258</td> <td>    0.057</td> <td>    7.414</td> <td> 0.000</td> <td>    0.313</td> <td>    0.538</td>\n",
       "</tr>\n",
       "<tr>\n",
       "  <th>33 a 44</th>         <td>    0.4227</td> <td>    0.072</td> <td>    5.903</td> <td> 0.000</td> <td>    0.282</td> <td>    0.563</td>\n",
       "</tr>\n",
       "<tr>\n",
       "  <th>45 ó más</th>        <td>    0.2856</td> <td>    0.100</td> <td>    2.862</td> <td> 0.004</td> <td>    0.090</td> <td>    0.481</td>\n",
       "</tr>\n",
       "<tr>\n",
       "  <th>Menor a 17</th>      <td>   -0.0353</td> <td>    0.111</td> <td>   -0.319</td> <td> 0.749</td> <td>   -0.252</td> <td>    0.181</td>\n",
       "</tr>\n",
       "</table>"
      ],
      "text/plain": [
       "<class 'statsmodels.iolib.summary.Summary'>\n",
       "\"\"\"\n",
       "                            Logit Regression Results                           \n",
       "===============================================================================\n",
       "Dep. Variable:     BEBIDAS CON ALCOHOL   No. Observations:                14836\n",
       "Model:                           Logit   Df Residuals:                    14826\n",
       "Method:                            MLE   Df Model:                            9\n",
       "Date:                 Thu, 31 Oct 2019   Pseudo R-squ.:                0.004857\n",
       "Time:                         16:52:19   Log-Likelihood:                -8429.9\n",
       "converged:                        True   LL-Null:                       -8471.0\n",
       "Covariance Type:             nonrobust   LLR p-value:                 5.655e-14\n",
       "===================================================================================\n",
       "                      coef    std err          z      P>|z|      [0.025      0.975]\n",
       "-----------------------------------------------------------------------------------\n",
       "const              -1.2320      0.053    -23.275      0.000      -1.336      -1.128\n",
       "Familia            -0.1215      0.050     -2.442      0.015      -0.219      -0.024\n",
       "Los del Trabajo    -0.2151      0.106     -2.034      0.042      -0.422      -0.008\n",
       "Pareja             -0.0912      0.046     -1.965      0.049      -0.182      -0.000\n",
       "Solo               -0.3200      0.166     -1.931      0.054      -0.645       0.005\n",
       "22 a 25             0.2201      0.056      3.930      0.000       0.110       0.330\n",
       "26 a 32             0.4258      0.057      7.414      0.000       0.313       0.538\n",
       "33 a 44             0.4227      0.072      5.903      0.000       0.282       0.563\n",
       "45 ó más            0.2856      0.100      2.862      0.004       0.090       0.481\n",
       "Menor a 17         -0.0353      0.111     -0.319      0.749      -0.252       0.181\n",
       "===================================================================================\n",
       "\"\"\""
      ]
     },
     "execution_count": 129,
     "metadata": {},
     "output_type": "execute_result"
    }
   ],
   "source": [
    "list_vals = lista_con_quien[1:] + lista_edades[1:]\n",
    "\n",
    "res_alc_xd = Logit(df_chido['BEBIDAS CON ALCOHOL'], sm.add_constant(df_chido[list_vals]))\n",
    "res_alc_xd = res_alc_xd.fit()\n",
    "res_alc_xd.summary()"
   ]
  },
  {
   "cell_type": "code",
   "execution_count": 115,
   "metadata": {},
   "outputs": [
    {
     "name": "stdout",
     "output_type": "stream",
     "text": [
      "Optimization terminated successfully.\n",
      "         Current function value: 0.570718\n",
      "         Iterations 5\n"
     ]
    },
    {
     "data": {
      "text/html": [
       "<table class=\"simpletable\">\n",
       "<caption>Logit Regression Results</caption>\n",
       "<tr>\n",
       "  <th>Dep. Variable:</th>   <td>BEBIDAS CON ALCOHOL</td> <th>  No. Observations:  </th>  <td> 14836</td>  \n",
       "</tr>\n",
       "<tr>\n",
       "  <th>Model:</th>                  <td>Logit</td>        <th>  Df Residuals:      </th>  <td> 14831</td>  \n",
       "</tr>\n",
       "<tr>\n",
       "  <th>Method:</th>                  <td>MLE</td>         <th>  Df Model:          </th>  <td>     4</td>  \n",
       "</tr>\n",
       "<tr>\n",
       "  <th>Date:</th>             <td>Thu, 31 Oct 2019</td>   <th>  Pseudo R-squ.:     </th> <td>0.0004538</td>\n",
       "</tr>\n",
       "<tr>\n",
       "  <th>Time:</th>                 <td>16:46:37</td>       <th>  Log-Likelihood:    </th> <td> -8467.2</td> \n",
       "</tr>\n",
       "<tr>\n",
       "  <th>converged:</th>              <td>True</td>         <th>  LL-Null:           </th> <td> -8471.0</td> \n",
       "</tr>\n",
       "<tr>\n",
       "  <th>Covariance Type:</th>      <td>nonrobust</td>      <th>  LLR p-value:       </th>  <td>0.1037</td>  \n",
       "</tr>\n",
       "</table>\n",
       "<table class=\"simpletable\">\n",
       "<tr>\n",
       "         <td></td>            <th>coef</th>     <th>std err</th>      <th>z</th>      <th>P>|z|</th>  <th>[0.025</th>    <th>0.975]</th>  \n",
       "</tr>\n",
       "<tr>\n",
       "  <th>const</th>           <td>   -0.9869</td> <td>    0.034</td> <td>  -29.420</td> <td> 0.000</td> <td>   -1.053</td> <td>   -0.921</td>\n",
       "</tr>\n",
       "<tr>\n",
       "  <th>Familia</th>         <td>   -0.0851</td> <td>    0.048</td> <td>   -1.758</td> <td> 0.079</td> <td>   -0.180</td> <td>    0.010</td>\n",
       "</tr>\n",
       "<tr>\n",
       "  <th>Los del Trabajo</th> <td>   -0.1044</td> <td>    0.105</td> <td>   -0.998</td> <td> 0.318</td> <td>   -0.309</td> <td>    0.101</td>\n",
       "</tr>\n",
       "<tr>\n",
       "  <th>Pareja</th>          <td>   -0.1049</td> <td>    0.046</td> <td>   -2.270</td> <td> 0.023</td> <td>   -0.196</td> <td>   -0.014</td>\n",
       "</tr>\n",
       "<tr>\n",
       "  <th>Solo</th>            <td>   -0.2861</td> <td>    0.165</td> <td>   -1.733</td> <td> 0.083</td> <td>   -0.610</td> <td>    0.037</td>\n",
       "</tr>\n",
       "</table>"
      ],
      "text/plain": [
       "<class 'statsmodels.iolib.summary.Summary'>\n",
       "\"\"\"\n",
       "                            Logit Regression Results                           \n",
       "===============================================================================\n",
       "Dep. Variable:     BEBIDAS CON ALCOHOL   No. Observations:                14836\n",
       "Model:                           Logit   Df Residuals:                    14831\n",
       "Method:                            MLE   Df Model:                            4\n",
       "Date:                 Thu, 31 Oct 2019   Pseudo R-squ.:               0.0004538\n",
       "Time:                         16:46:37   Log-Likelihood:                -8467.2\n",
       "converged:                        True   LL-Null:                       -8471.0\n",
       "Covariance Type:             nonrobust   LLR p-value:                    0.1037\n",
       "===================================================================================\n",
       "                      coef    std err          z      P>|z|      [0.025      0.975]\n",
       "-----------------------------------------------------------------------------------\n",
       "const              -0.9869      0.034    -29.420      0.000      -1.053      -0.921\n",
       "Familia            -0.0851      0.048     -1.758      0.079      -0.180       0.010\n",
       "Los del Trabajo    -0.1044      0.105     -0.998      0.318      -0.309       0.101\n",
       "Pareja             -0.1049      0.046     -2.270      0.023      -0.196      -0.014\n",
       "Solo               -0.2861      0.165     -1.733      0.083      -0.610       0.037\n",
       "===================================================================================\n",
       "\"\"\""
      ]
     },
     "execution_count": 115,
     "metadata": {},
     "output_type": "execute_result"
    }
   ],
   "source": [
    "alc_v_gente = Logit(df_chido['BEBIDAS CON ALCOHOL'], sm.add_constant(df_chido[lista_quien[1:]]))\n",
    "res_alc_v_gente = alc_v_gente.fit()\n",
    "res_alc_v_gente.summary()"
   ]
  },
  {
   "cell_type": "code",
   "execution_count": 145,
   "metadata": {},
   "outputs": [
    {
     "data": {
      "application/vnd.plotly.v1+json": {
       "config": {
        "plotlyServerURL": "https://plot.ly"
       },
       "data": [
        {
         "hoverlabel": {
          "namelength": 0
         },
         "hovertemplate": "x=%{x}<br>y=%{y}",
         "legendgroup": "",
         "marker": {
          "color": "#636efa",
          "line": {
           "color": "DarkSlateGrey",
           "width": 2
          },
          "size": 12,
          "symbol": "circle"
         },
         "mode": "markers",
         "name": "",
         "showlegend": false,
         "type": "scatter",
         "x": [
          "Amigos",
          "Familia",
          "Los del Trabajo",
          "Pareja",
          "Solo"
         ],
         "xaxis": "x",
         "y": [
          0.27153349655018916,
          0.25503355704698,
          0.2513863216266174,
          0.2512840022826707,
          0.21875
         ],
         "yaxis": "y"
        }
       ],
       "layout": {
        "height": 600,
        "legend": {
         "tracegroupgap": 0
        },
        "margin": {
         "t": 60
        },
        "template": {
         "data": {
          "bar": [
           {
            "error_x": {
             "color": "#2a3f5f"
            },
            "error_y": {
             "color": "#2a3f5f"
            },
            "marker": {
             "line": {
              "color": "#E5ECF6",
              "width": 0.5
             }
            },
            "type": "bar"
           }
          ],
          "barpolar": [
           {
            "marker": {
             "line": {
              "color": "#E5ECF6",
              "width": 0.5
             }
            },
            "type": "barpolar"
           }
          ],
          "carpet": [
           {
            "aaxis": {
             "endlinecolor": "#2a3f5f",
             "gridcolor": "white",
             "linecolor": "white",
             "minorgridcolor": "white",
             "startlinecolor": "#2a3f5f"
            },
            "baxis": {
             "endlinecolor": "#2a3f5f",
             "gridcolor": "white",
             "linecolor": "white",
             "minorgridcolor": "white",
             "startlinecolor": "#2a3f5f"
            },
            "type": "carpet"
           }
          ],
          "choropleth": [
           {
            "colorbar": {
             "outlinewidth": 0,
             "ticks": ""
            },
            "type": "choropleth"
           }
          ],
          "contour": [
           {
            "colorbar": {
             "outlinewidth": 0,
             "ticks": ""
            },
            "colorscale": [
             [
              0,
              "#0d0887"
             ],
             [
              0.1111111111111111,
              "#46039f"
             ],
             [
              0.2222222222222222,
              "#7201a8"
             ],
             [
              0.3333333333333333,
              "#9c179e"
             ],
             [
              0.4444444444444444,
              "#bd3786"
             ],
             [
              0.5555555555555556,
              "#d8576b"
             ],
             [
              0.6666666666666666,
              "#ed7953"
             ],
             [
              0.7777777777777778,
              "#fb9f3a"
             ],
             [
              0.8888888888888888,
              "#fdca26"
             ],
             [
              1,
              "#f0f921"
             ]
            ],
            "type": "contour"
           }
          ],
          "contourcarpet": [
           {
            "colorbar": {
             "outlinewidth": 0,
             "ticks": ""
            },
            "type": "contourcarpet"
           }
          ],
          "heatmap": [
           {
            "colorbar": {
             "outlinewidth": 0,
             "ticks": ""
            },
            "colorscale": [
             [
              0,
              "#0d0887"
             ],
             [
              0.1111111111111111,
              "#46039f"
             ],
             [
              0.2222222222222222,
              "#7201a8"
             ],
             [
              0.3333333333333333,
              "#9c179e"
             ],
             [
              0.4444444444444444,
              "#bd3786"
             ],
             [
              0.5555555555555556,
              "#d8576b"
             ],
             [
              0.6666666666666666,
              "#ed7953"
             ],
             [
              0.7777777777777778,
              "#fb9f3a"
             ],
             [
              0.8888888888888888,
              "#fdca26"
             ],
             [
              1,
              "#f0f921"
             ]
            ],
            "type": "heatmap"
           }
          ],
          "heatmapgl": [
           {
            "colorbar": {
             "outlinewidth": 0,
             "ticks": ""
            },
            "colorscale": [
             [
              0,
              "#0d0887"
             ],
             [
              0.1111111111111111,
              "#46039f"
             ],
             [
              0.2222222222222222,
              "#7201a8"
             ],
             [
              0.3333333333333333,
              "#9c179e"
             ],
             [
              0.4444444444444444,
              "#bd3786"
             ],
             [
              0.5555555555555556,
              "#d8576b"
             ],
             [
              0.6666666666666666,
              "#ed7953"
             ],
             [
              0.7777777777777778,
              "#fb9f3a"
             ],
             [
              0.8888888888888888,
              "#fdca26"
             ],
             [
              1,
              "#f0f921"
             ]
            ],
            "type": "heatmapgl"
           }
          ],
          "histogram": [
           {
            "marker": {
             "colorbar": {
              "outlinewidth": 0,
              "ticks": ""
             }
            },
            "type": "histogram"
           }
          ],
          "histogram2d": [
           {
            "colorbar": {
             "outlinewidth": 0,
             "ticks": ""
            },
            "colorscale": [
             [
              0,
              "#0d0887"
             ],
             [
              0.1111111111111111,
              "#46039f"
             ],
             [
              0.2222222222222222,
              "#7201a8"
             ],
             [
              0.3333333333333333,
              "#9c179e"
             ],
             [
              0.4444444444444444,
              "#bd3786"
             ],
             [
              0.5555555555555556,
              "#d8576b"
             ],
             [
              0.6666666666666666,
              "#ed7953"
             ],
             [
              0.7777777777777778,
              "#fb9f3a"
             ],
             [
              0.8888888888888888,
              "#fdca26"
             ],
             [
              1,
              "#f0f921"
             ]
            ],
            "type": "histogram2d"
           }
          ],
          "histogram2dcontour": [
           {
            "colorbar": {
             "outlinewidth": 0,
             "ticks": ""
            },
            "colorscale": [
             [
              0,
              "#0d0887"
             ],
             [
              0.1111111111111111,
              "#46039f"
             ],
             [
              0.2222222222222222,
              "#7201a8"
             ],
             [
              0.3333333333333333,
              "#9c179e"
             ],
             [
              0.4444444444444444,
              "#bd3786"
             ],
             [
              0.5555555555555556,
              "#d8576b"
             ],
             [
              0.6666666666666666,
              "#ed7953"
             ],
             [
              0.7777777777777778,
              "#fb9f3a"
             ],
             [
              0.8888888888888888,
              "#fdca26"
             ],
             [
              1,
              "#f0f921"
             ]
            ],
            "type": "histogram2dcontour"
           }
          ],
          "mesh3d": [
           {
            "colorbar": {
             "outlinewidth": 0,
             "ticks": ""
            },
            "type": "mesh3d"
           }
          ],
          "parcoords": [
           {
            "line": {
             "colorbar": {
              "outlinewidth": 0,
              "ticks": ""
             }
            },
            "type": "parcoords"
           }
          ],
          "scatter": [
           {
            "marker": {
             "colorbar": {
              "outlinewidth": 0,
              "ticks": ""
             }
            },
            "type": "scatter"
           }
          ],
          "scatter3d": [
           {
            "line": {
             "colorbar": {
              "outlinewidth": 0,
              "ticks": ""
             }
            },
            "marker": {
             "colorbar": {
              "outlinewidth": 0,
              "ticks": ""
             }
            },
            "type": "scatter3d"
           }
          ],
          "scattercarpet": [
           {
            "marker": {
             "colorbar": {
              "outlinewidth": 0,
              "ticks": ""
             }
            },
            "type": "scattercarpet"
           }
          ],
          "scattergeo": [
           {
            "marker": {
             "colorbar": {
              "outlinewidth": 0,
              "ticks": ""
             }
            },
            "type": "scattergeo"
           }
          ],
          "scattergl": [
           {
            "marker": {
             "colorbar": {
              "outlinewidth": 0,
              "ticks": ""
             }
            },
            "type": "scattergl"
           }
          ],
          "scattermapbox": [
           {
            "marker": {
             "colorbar": {
              "outlinewidth": 0,
              "ticks": ""
             }
            },
            "type": "scattermapbox"
           }
          ],
          "scatterpolar": [
           {
            "marker": {
             "colorbar": {
              "outlinewidth": 0,
              "ticks": ""
             }
            },
            "type": "scatterpolar"
           }
          ],
          "scatterpolargl": [
           {
            "marker": {
             "colorbar": {
              "outlinewidth": 0,
              "ticks": ""
             }
            },
            "type": "scatterpolargl"
           }
          ],
          "scatterternary": [
           {
            "marker": {
             "colorbar": {
              "outlinewidth": 0,
              "ticks": ""
             }
            },
            "type": "scatterternary"
           }
          ],
          "surface": [
           {
            "colorbar": {
             "outlinewidth": 0,
             "ticks": ""
            },
            "colorscale": [
             [
              0,
              "#0d0887"
             ],
             [
              0.1111111111111111,
              "#46039f"
             ],
             [
              0.2222222222222222,
              "#7201a8"
             ],
             [
              0.3333333333333333,
              "#9c179e"
             ],
             [
              0.4444444444444444,
              "#bd3786"
             ],
             [
              0.5555555555555556,
              "#d8576b"
             ],
             [
              0.6666666666666666,
              "#ed7953"
             ],
             [
              0.7777777777777778,
              "#fb9f3a"
             ],
             [
              0.8888888888888888,
              "#fdca26"
             ],
             [
              1,
              "#f0f921"
             ]
            ],
            "type": "surface"
           }
          ],
          "table": [
           {
            "cells": {
             "fill": {
              "color": "#EBF0F8"
             },
             "line": {
              "color": "white"
             }
            },
            "header": {
             "fill": {
              "color": "#C8D4E3"
             },
             "line": {
              "color": "white"
             }
            },
            "type": "table"
           }
          ]
         },
         "layout": {
          "annotationdefaults": {
           "arrowcolor": "#2a3f5f",
           "arrowhead": 0,
           "arrowwidth": 1
          },
          "colorscale": {
           "diverging": [
            [
             0,
             "#8e0152"
            ],
            [
             0.1,
             "#c51b7d"
            ],
            [
             0.2,
             "#de77ae"
            ],
            [
             0.3,
             "#f1b6da"
            ],
            [
             0.4,
             "#fde0ef"
            ],
            [
             0.5,
             "#f7f7f7"
            ],
            [
             0.6,
             "#e6f5d0"
            ],
            [
             0.7,
             "#b8e186"
            ],
            [
             0.8,
             "#7fbc41"
            ],
            [
             0.9,
             "#4d9221"
            ],
            [
             1,
             "#276419"
            ]
           ],
           "sequential": [
            [
             0,
             "#0d0887"
            ],
            [
             0.1111111111111111,
             "#46039f"
            ],
            [
             0.2222222222222222,
             "#7201a8"
            ],
            [
             0.3333333333333333,
             "#9c179e"
            ],
            [
             0.4444444444444444,
             "#bd3786"
            ],
            [
             0.5555555555555556,
             "#d8576b"
            ],
            [
             0.6666666666666666,
             "#ed7953"
            ],
            [
             0.7777777777777778,
             "#fb9f3a"
            ],
            [
             0.8888888888888888,
             "#fdca26"
            ],
            [
             1,
             "#f0f921"
            ]
           ],
           "sequentialminus": [
            [
             0,
             "#0d0887"
            ],
            [
             0.1111111111111111,
             "#46039f"
            ],
            [
             0.2222222222222222,
             "#7201a8"
            ],
            [
             0.3333333333333333,
             "#9c179e"
            ],
            [
             0.4444444444444444,
             "#bd3786"
            ],
            [
             0.5555555555555556,
             "#d8576b"
            ],
            [
             0.6666666666666666,
             "#ed7953"
            ],
            [
             0.7777777777777778,
             "#fb9f3a"
            ],
            [
             0.8888888888888888,
             "#fdca26"
            ],
            [
             1,
             "#f0f921"
            ]
           ]
          },
          "colorway": [
           "#636efa",
           "#EF553B",
           "#00cc96",
           "#ab63fa",
           "#FFA15A",
           "#19d3f3",
           "#FF6692",
           "#B6E880",
           "#FF97FF",
           "#FECB52"
          ],
          "font": {
           "color": "#2a3f5f"
          },
          "geo": {
           "bgcolor": "white",
           "lakecolor": "white",
           "landcolor": "#E5ECF6",
           "showlakes": true,
           "showland": true,
           "subunitcolor": "white"
          },
          "hoverlabel": {
           "align": "left"
          },
          "hovermode": "closest",
          "mapbox": {
           "style": "light"
          },
          "paper_bgcolor": "white",
          "plot_bgcolor": "#E5ECF6",
          "polar": {
           "angularaxis": {
            "gridcolor": "white",
            "linecolor": "white",
            "ticks": ""
           },
           "bgcolor": "#E5ECF6",
           "radialaxis": {
            "gridcolor": "white",
            "linecolor": "white",
            "ticks": ""
           }
          },
          "scene": {
           "xaxis": {
            "backgroundcolor": "#E5ECF6",
            "gridcolor": "white",
            "gridwidth": 2,
            "linecolor": "white",
            "showbackground": true,
            "ticks": "",
            "zerolinecolor": "white"
           },
           "yaxis": {
            "backgroundcolor": "#E5ECF6",
            "gridcolor": "white",
            "gridwidth": 2,
            "linecolor": "white",
            "showbackground": true,
            "ticks": "",
            "zerolinecolor": "white"
           },
           "zaxis": {
            "backgroundcolor": "#E5ECF6",
            "gridcolor": "white",
            "gridwidth": 2,
            "linecolor": "white",
            "showbackground": true,
            "ticks": "",
            "zerolinecolor": "white"
           }
          },
          "shapedefaults": {
           "line": {
            "color": "#2a3f5f"
           }
          },
          "ternary": {
           "aaxis": {
            "gridcolor": "white",
            "linecolor": "white",
            "ticks": ""
           },
           "baxis": {
            "gridcolor": "white",
            "linecolor": "white",
            "ticks": ""
           },
           "bgcolor": "#E5ECF6",
           "caxis": {
            "gridcolor": "white",
            "linecolor": "white",
            "ticks": ""
           }
          },
          "title": {
           "x": 0.05
          },
          "xaxis": {
           "automargin": true,
           "gridcolor": "white",
           "linecolor": "white",
           "ticks": "",
           "zerolinecolor": "white",
           "zerolinewidth": 2
          },
          "yaxis": {
           "automargin": true,
           "gridcolor": "white",
           "linecolor": "white",
           "ticks": "",
           "zerolinecolor": "white",
           "zerolinewidth": 2
          }
         }
        },
        "xaxis": {
         "anchor": "y",
         "domain": [
          0,
          0.98
         ],
         "title": {
          "text": "x"
         }
        },
        "yaxis": {
         "anchor": "x",
         "domain": [
          0,
          1
         ],
         "title": {
          "text": "y"
         }
        }
       }
      },
      "text/html": [
       "<div>\n",
       "        \n",
       "        \n",
       "            <div id=\"fb5c3f13-8137-4b81-aba4-9a6d67e8af26\" class=\"plotly-graph-div\" style=\"height:600px; width:100%;\"></div>\n",
       "            <script type=\"text/javascript\">\n",
       "                require([\"plotly\"], function(Plotly) {\n",
       "                    window.PLOTLYENV=window.PLOTLYENV || {};\n",
       "                    \n",
       "                if (document.getElementById(\"fb5c3f13-8137-4b81-aba4-9a6d67e8af26\")) {\n",
       "                    Plotly.newPlot(\n",
       "                        'fb5c3f13-8137-4b81-aba4-9a6d67e8af26',\n",
       "                        [{\"hoverlabel\": {\"namelength\": 0}, \"hovertemplate\": \"x=%{x}<br>y=%{y}\", \"legendgroup\": \"\", \"marker\": {\"color\": \"#636efa\", \"line\": {\"color\": \"DarkSlateGrey\", \"width\": 2}, \"size\": 12, \"symbol\": \"circle\"}, \"mode\": \"markers\", \"name\": \"\", \"showlegend\": false, \"type\": \"scatter\", \"x\": [\"Amigos\", \"Familia\", \"Los del Trabajo\", \"Pareja\", \"Solo\"], \"xaxis\": \"x\", \"y\": [0.27153349655018916, 0.25503355704698, 0.2513863216266174, 0.2512840022826707, 0.21875], \"yaxis\": \"y\"}],\n",
       "                        {\"height\": 600, \"legend\": {\"tracegroupgap\": 0}, \"margin\": {\"t\": 60}, \"template\": {\"data\": {\"bar\": [{\"error_x\": {\"color\": \"#2a3f5f\"}, \"error_y\": {\"color\": \"#2a3f5f\"}, \"marker\": {\"line\": {\"color\": \"#E5ECF6\", \"width\": 0.5}}, \"type\": \"bar\"}], \"barpolar\": [{\"marker\": {\"line\": {\"color\": \"#E5ECF6\", \"width\": 0.5}}, \"type\": \"barpolar\"}], \"carpet\": [{\"aaxis\": {\"endlinecolor\": \"#2a3f5f\", \"gridcolor\": \"white\", \"linecolor\": \"white\", \"minorgridcolor\": \"white\", \"startlinecolor\": \"#2a3f5f\"}, \"baxis\": {\"endlinecolor\": \"#2a3f5f\", \"gridcolor\": \"white\", \"linecolor\": \"white\", \"minorgridcolor\": \"white\", \"startlinecolor\": \"#2a3f5f\"}, \"type\": \"carpet\"}], \"choropleth\": [{\"colorbar\": {\"outlinewidth\": 0, \"ticks\": \"\"}, \"type\": \"choropleth\"}], \"contour\": [{\"colorbar\": {\"outlinewidth\": 0, \"ticks\": \"\"}, \"colorscale\": [[0.0, \"#0d0887\"], [0.1111111111111111, \"#46039f\"], [0.2222222222222222, \"#7201a8\"], [0.3333333333333333, \"#9c179e\"], [0.4444444444444444, \"#bd3786\"], [0.5555555555555556, \"#d8576b\"], [0.6666666666666666, \"#ed7953\"], [0.7777777777777778, \"#fb9f3a\"], [0.8888888888888888, \"#fdca26\"], [1.0, \"#f0f921\"]], \"type\": \"contour\"}], \"contourcarpet\": [{\"colorbar\": {\"outlinewidth\": 0, \"ticks\": \"\"}, \"type\": \"contourcarpet\"}], \"heatmap\": [{\"colorbar\": {\"outlinewidth\": 0, \"ticks\": \"\"}, \"colorscale\": [[0.0, \"#0d0887\"], [0.1111111111111111, \"#46039f\"], [0.2222222222222222, \"#7201a8\"], [0.3333333333333333, \"#9c179e\"], [0.4444444444444444, \"#bd3786\"], [0.5555555555555556, \"#d8576b\"], [0.6666666666666666, \"#ed7953\"], [0.7777777777777778, \"#fb9f3a\"], [0.8888888888888888, \"#fdca26\"], [1.0, \"#f0f921\"]], \"type\": \"heatmap\"}], \"heatmapgl\": [{\"colorbar\": {\"outlinewidth\": 0, \"ticks\": \"\"}, \"colorscale\": [[0.0, \"#0d0887\"], [0.1111111111111111, \"#46039f\"], [0.2222222222222222, \"#7201a8\"], [0.3333333333333333, \"#9c179e\"], [0.4444444444444444, \"#bd3786\"], [0.5555555555555556, \"#d8576b\"], [0.6666666666666666, \"#ed7953\"], [0.7777777777777778, \"#fb9f3a\"], [0.8888888888888888, \"#fdca26\"], [1.0, \"#f0f921\"]], \"type\": \"heatmapgl\"}], \"histogram\": [{\"marker\": {\"colorbar\": {\"outlinewidth\": 0, \"ticks\": \"\"}}, \"type\": \"histogram\"}], \"histogram2d\": [{\"colorbar\": {\"outlinewidth\": 0, \"ticks\": \"\"}, \"colorscale\": [[0.0, \"#0d0887\"], [0.1111111111111111, \"#46039f\"], [0.2222222222222222, \"#7201a8\"], [0.3333333333333333, \"#9c179e\"], [0.4444444444444444, \"#bd3786\"], [0.5555555555555556, \"#d8576b\"], [0.6666666666666666, \"#ed7953\"], [0.7777777777777778, \"#fb9f3a\"], [0.8888888888888888, \"#fdca26\"], [1.0, \"#f0f921\"]], \"type\": \"histogram2d\"}], \"histogram2dcontour\": [{\"colorbar\": {\"outlinewidth\": 0, \"ticks\": \"\"}, \"colorscale\": [[0.0, \"#0d0887\"], [0.1111111111111111, \"#46039f\"], [0.2222222222222222, \"#7201a8\"], [0.3333333333333333, \"#9c179e\"], [0.4444444444444444, \"#bd3786\"], [0.5555555555555556, \"#d8576b\"], [0.6666666666666666, \"#ed7953\"], [0.7777777777777778, \"#fb9f3a\"], [0.8888888888888888, \"#fdca26\"], [1.0, \"#f0f921\"]], \"type\": \"histogram2dcontour\"}], \"mesh3d\": [{\"colorbar\": {\"outlinewidth\": 0, \"ticks\": \"\"}, \"type\": \"mesh3d\"}], \"parcoords\": [{\"line\": {\"colorbar\": {\"outlinewidth\": 0, \"ticks\": \"\"}}, \"type\": \"parcoords\"}], \"scatter\": [{\"marker\": {\"colorbar\": {\"outlinewidth\": 0, \"ticks\": \"\"}}, \"type\": \"scatter\"}], \"scatter3d\": [{\"line\": {\"colorbar\": {\"outlinewidth\": 0, \"ticks\": \"\"}}, \"marker\": {\"colorbar\": {\"outlinewidth\": 0, \"ticks\": \"\"}}, \"type\": \"scatter3d\"}], \"scattercarpet\": [{\"marker\": {\"colorbar\": {\"outlinewidth\": 0, \"ticks\": \"\"}}, \"type\": \"scattercarpet\"}], \"scattergeo\": [{\"marker\": {\"colorbar\": {\"outlinewidth\": 0, \"ticks\": \"\"}}, \"type\": \"scattergeo\"}], \"scattergl\": [{\"marker\": {\"colorbar\": {\"outlinewidth\": 0, \"ticks\": \"\"}}, \"type\": \"scattergl\"}], \"scattermapbox\": [{\"marker\": {\"colorbar\": {\"outlinewidth\": 0, \"ticks\": \"\"}}, \"type\": \"scattermapbox\"}], \"scatterpolar\": [{\"marker\": {\"colorbar\": {\"outlinewidth\": 0, \"ticks\": \"\"}}, \"type\": \"scatterpolar\"}], \"scatterpolargl\": [{\"marker\": {\"colorbar\": {\"outlinewidth\": 0, \"ticks\": \"\"}}, \"type\": \"scatterpolargl\"}], \"scatterternary\": [{\"marker\": {\"colorbar\": {\"outlinewidth\": 0, \"ticks\": \"\"}}, \"type\": \"scatterternary\"}], \"surface\": [{\"colorbar\": {\"outlinewidth\": 0, \"ticks\": \"\"}, \"colorscale\": [[0.0, \"#0d0887\"], [0.1111111111111111, \"#46039f\"], [0.2222222222222222, \"#7201a8\"], [0.3333333333333333, \"#9c179e\"], [0.4444444444444444, \"#bd3786\"], [0.5555555555555556, \"#d8576b\"], [0.6666666666666666, \"#ed7953\"], [0.7777777777777778, \"#fb9f3a\"], [0.8888888888888888, \"#fdca26\"], [1.0, \"#f0f921\"]], \"type\": \"surface\"}], \"table\": [{\"cells\": {\"fill\": {\"color\": \"#EBF0F8\"}, \"line\": {\"color\": \"white\"}}, \"header\": {\"fill\": {\"color\": \"#C8D4E3\"}, \"line\": {\"color\": \"white\"}}, \"type\": \"table\"}]}, \"layout\": {\"annotationdefaults\": {\"arrowcolor\": \"#2a3f5f\", \"arrowhead\": 0, \"arrowwidth\": 1}, \"colorscale\": {\"diverging\": [[0, \"#8e0152\"], [0.1, \"#c51b7d\"], [0.2, \"#de77ae\"], [0.3, \"#f1b6da\"], [0.4, \"#fde0ef\"], [0.5, \"#f7f7f7\"], [0.6, \"#e6f5d0\"], [0.7, \"#b8e186\"], [0.8, \"#7fbc41\"], [0.9, \"#4d9221\"], [1, \"#276419\"]], \"sequential\": [[0.0, \"#0d0887\"], [0.1111111111111111, \"#46039f\"], [0.2222222222222222, \"#7201a8\"], [0.3333333333333333, \"#9c179e\"], [0.4444444444444444, \"#bd3786\"], [0.5555555555555556, \"#d8576b\"], [0.6666666666666666, \"#ed7953\"], [0.7777777777777778, \"#fb9f3a\"], [0.8888888888888888, \"#fdca26\"], [1.0, \"#f0f921\"]], \"sequentialminus\": [[0.0, \"#0d0887\"], [0.1111111111111111, \"#46039f\"], [0.2222222222222222, \"#7201a8\"], [0.3333333333333333, \"#9c179e\"], [0.4444444444444444, \"#bd3786\"], [0.5555555555555556, \"#d8576b\"], [0.6666666666666666, \"#ed7953\"], [0.7777777777777778, \"#fb9f3a\"], [0.8888888888888888, \"#fdca26\"], [1.0, \"#f0f921\"]]}, \"colorway\": [\"#636efa\", \"#EF553B\", \"#00cc96\", \"#ab63fa\", \"#FFA15A\", \"#19d3f3\", \"#FF6692\", \"#B6E880\", \"#FF97FF\", \"#FECB52\"], \"font\": {\"color\": \"#2a3f5f\"}, \"geo\": {\"bgcolor\": \"white\", \"lakecolor\": \"white\", \"landcolor\": \"#E5ECF6\", \"showlakes\": true, \"showland\": true, \"subunitcolor\": \"white\"}, \"hoverlabel\": {\"align\": \"left\"}, \"hovermode\": \"closest\", \"mapbox\": {\"style\": \"light\"}, \"paper_bgcolor\": \"white\", \"plot_bgcolor\": \"#E5ECF6\", \"polar\": {\"angularaxis\": {\"gridcolor\": \"white\", \"linecolor\": \"white\", \"ticks\": \"\"}, \"bgcolor\": \"#E5ECF6\", \"radialaxis\": {\"gridcolor\": \"white\", \"linecolor\": \"white\", \"ticks\": \"\"}}, \"scene\": {\"xaxis\": {\"backgroundcolor\": \"#E5ECF6\", \"gridcolor\": \"white\", \"gridwidth\": 2, \"linecolor\": \"white\", \"showbackground\": true, \"ticks\": \"\", \"zerolinecolor\": \"white\"}, \"yaxis\": {\"backgroundcolor\": \"#E5ECF6\", \"gridcolor\": \"white\", \"gridwidth\": 2, \"linecolor\": \"white\", \"showbackground\": true, \"ticks\": \"\", \"zerolinecolor\": \"white\"}, \"zaxis\": {\"backgroundcolor\": \"#E5ECF6\", \"gridcolor\": \"white\", \"gridwidth\": 2, \"linecolor\": \"white\", \"showbackground\": true, \"ticks\": \"\", \"zerolinecolor\": \"white\"}}, \"shapedefaults\": {\"line\": {\"color\": \"#2a3f5f\"}}, \"ternary\": {\"aaxis\": {\"gridcolor\": \"white\", \"linecolor\": \"white\", \"ticks\": \"\"}, \"baxis\": {\"gridcolor\": \"white\", \"linecolor\": \"white\", \"ticks\": \"\"}, \"bgcolor\": \"#E5ECF6\", \"caxis\": {\"gridcolor\": \"white\", \"linecolor\": \"white\", \"ticks\": \"\"}}, \"title\": {\"x\": 0.05}, \"xaxis\": {\"automargin\": true, \"gridcolor\": \"white\", \"linecolor\": \"white\", \"ticks\": \"\", \"zerolinecolor\": \"white\", \"zerolinewidth\": 2}, \"yaxis\": {\"automargin\": true, \"gridcolor\": \"white\", \"linecolor\": \"white\", \"ticks\": \"\", \"zerolinecolor\": \"white\", \"zerolinewidth\": 2}}}, \"xaxis\": {\"anchor\": \"y\", \"domain\": [0.0, 0.98], \"title\": {\"text\": \"x\"}}, \"yaxis\": {\"anchor\": \"x\", \"domain\": [0.0, 1.0], \"title\": {\"text\": \"y\"}}},\n",
       "                        {\"responsive\": true}\n",
       "                    ).then(function(){\n",
       "                            \n",
       "var gd = document.getElementById('fb5c3f13-8137-4b81-aba4-9a6d67e8af26');\n",
       "var x = new MutationObserver(function (mutations, observer) {{\n",
       "        var display = window.getComputedStyle(gd).display;\n",
       "        if (!display || display === 'none') {{\n",
       "            console.log([gd, 'removed!']);\n",
       "            Plotly.purge(gd);\n",
       "            observer.disconnect();\n",
       "        }}\n",
       "}});\n",
       "\n",
       "// Listen for the removal of the full notebook cells\n",
       "var notebookContainer = gd.closest('#notebook-container');\n",
       "if (notebookContainer) {{\n",
       "    x.observe(notebookContainer, {childList: true});\n",
       "}}\n",
       "\n",
       "// Listen for the clearing of the current output cell\n",
       "var outputEl = gd.closest('.output');\n",
       "if (outputEl) {{\n",
       "    x.observe(outputEl, {childList: true});\n",
       "}}\n",
       "\n",
       "                        })\n",
       "                };\n",
       "                });\n",
       "            </script>\n",
       "        </div>"
      ]
     },
     "metadata": {},
     "output_type": "display_data"
    }
   ],
   "source": [
    "get\n",
    "get_results(5, res_alc_v_gente, lista_quien)"
   ]
  },
  {
   "cell_type": "code",
   "execution_count": 133,
   "metadata": {},
   "outputs": [
    {
     "data": {
      "application/vnd.plotly.v1+json": {
       "config": {
        "plotlyServerURL": "https://plot.ly"
       },
       "data": [
        {
         "hoverlabel": {
          "namelength": 0
         },
         "hovertemplate": "x=%{x}<br>y=%{y}",
         "legendgroup": "",
         "marker": {
          "color": "#636efa",
          "line": {
           "color": "DarkSlateGrey",
           "width": 2
          },
          "size": 12,
          "symbol": "circle"
         },
         "mode": "markers",
         "name": "",
         "showlegend": false,
         "type": "scatter",
         "x": [
          "AMIGOS",
          "Familia",
          "Los del Trabajo",
          "Pareja",
          "Solo",
          "22 a 25",
          "26 a 32",
          "33 a 44",
          "45 ó más",
          "Menor a 17"
         ],
         "xaxis": "x",
         "y": [
          0.22582672282305924,
          0.2052986765974757,
          0.1904448087849326,
          0.2102823528612114,
          0.1747991120865036,
          0.2666014113971039,
          0.3086899761484076,
          0.3080285708711699,
          0.2795950229453802,
          0.21971381019906175
         ],
         "yaxis": "y"
        }
       ],
       "layout": {
        "height": 600,
        "legend": {
         "tracegroupgap": 0
        },
        "margin": {
         "t": 60
        },
        "template": {
         "data": {
          "bar": [
           {
            "error_x": {
             "color": "#2a3f5f"
            },
            "error_y": {
             "color": "#2a3f5f"
            },
            "marker": {
             "line": {
              "color": "#E5ECF6",
              "width": 0.5
             }
            },
            "type": "bar"
           }
          ],
          "barpolar": [
           {
            "marker": {
             "line": {
              "color": "#E5ECF6",
              "width": 0.5
             }
            },
            "type": "barpolar"
           }
          ],
          "carpet": [
           {
            "aaxis": {
             "endlinecolor": "#2a3f5f",
             "gridcolor": "white",
             "linecolor": "white",
             "minorgridcolor": "white",
             "startlinecolor": "#2a3f5f"
            },
            "baxis": {
             "endlinecolor": "#2a3f5f",
             "gridcolor": "white",
             "linecolor": "white",
             "minorgridcolor": "white",
             "startlinecolor": "#2a3f5f"
            },
            "type": "carpet"
           }
          ],
          "choropleth": [
           {
            "colorbar": {
             "outlinewidth": 0,
             "ticks": ""
            },
            "type": "choropleth"
           }
          ],
          "contour": [
           {
            "colorbar": {
             "outlinewidth": 0,
             "ticks": ""
            },
            "colorscale": [
             [
              0,
              "#0d0887"
             ],
             [
              0.1111111111111111,
              "#46039f"
             ],
             [
              0.2222222222222222,
              "#7201a8"
             ],
             [
              0.3333333333333333,
              "#9c179e"
             ],
             [
              0.4444444444444444,
              "#bd3786"
             ],
             [
              0.5555555555555556,
              "#d8576b"
             ],
             [
              0.6666666666666666,
              "#ed7953"
             ],
             [
              0.7777777777777778,
              "#fb9f3a"
             ],
             [
              0.8888888888888888,
              "#fdca26"
             ],
             [
              1,
              "#f0f921"
             ]
            ],
            "type": "contour"
           }
          ],
          "contourcarpet": [
           {
            "colorbar": {
             "outlinewidth": 0,
             "ticks": ""
            },
            "type": "contourcarpet"
           }
          ],
          "heatmap": [
           {
            "colorbar": {
             "outlinewidth": 0,
             "ticks": ""
            },
            "colorscale": [
             [
              0,
              "#0d0887"
             ],
             [
              0.1111111111111111,
              "#46039f"
             ],
             [
              0.2222222222222222,
              "#7201a8"
             ],
             [
              0.3333333333333333,
              "#9c179e"
             ],
             [
              0.4444444444444444,
              "#bd3786"
             ],
             [
              0.5555555555555556,
              "#d8576b"
             ],
             [
              0.6666666666666666,
              "#ed7953"
             ],
             [
              0.7777777777777778,
              "#fb9f3a"
             ],
             [
              0.8888888888888888,
              "#fdca26"
             ],
             [
              1,
              "#f0f921"
             ]
            ],
            "type": "heatmap"
           }
          ],
          "heatmapgl": [
           {
            "colorbar": {
             "outlinewidth": 0,
             "ticks": ""
            },
            "colorscale": [
             [
              0,
              "#0d0887"
             ],
             [
              0.1111111111111111,
              "#46039f"
             ],
             [
              0.2222222222222222,
              "#7201a8"
             ],
             [
              0.3333333333333333,
              "#9c179e"
             ],
             [
              0.4444444444444444,
              "#bd3786"
             ],
             [
              0.5555555555555556,
              "#d8576b"
             ],
             [
              0.6666666666666666,
              "#ed7953"
             ],
             [
              0.7777777777777778,
              "#fb9f3a"
             ],
             [
              0.8888888888888888,
              "#fdca26"
             ],
             [
              1,
              "#f0f921"
             ]
            ],
            "type": "heatmapgl"
           }
          ],
          "histogram": [
           {
            "marker": {
             "colorbar": {
              "outlinewidth": 0,
              "ticks": ""
             }
            },
            "type": "histogram"
           }
          ],
          "histogram2d": [
           {
            "colorbar": {
             "outlinewidth": 0,
             "ticks": ""
            },
            "colorscale": [
             [
              0,
              "#0d0887"
             ],
             [
              0.1111111111111111,
              "#46039f"
             ],
             [
              0.2222222222222222,
              "#7201a8"
             ],
             [
              0.3333333333333333,
              "#9c179e"
             ],
             [
              0.4444444444444444,
              "#bd3786"
             ],
             [
              0.5555555555555556,
              "#d8576b"
             ],
             [
              0.6666666666666666,
              "#ed7953"
             ],
             [
              0.7777777777777778,
              "#fb9f3a"
             ],
             [
              0.8888888888888888,
              "#fdca26"
             ],
             [
              1,
              "#f0f921"
             ]
            ],
            "type": "histogram2d"
           }
          ],
          "histogram2dcontour": [
           {
            "colorbar": {
             "outlinewidth": 0,
             "ticks": ""
            },
            "colorscale": [
             [
              0,
              "#0d0887"
             ],
             [
              0.1111111111111111,
              "#46039f"
             ],
             [
              0.2222222222222222,
              "#7201a8"
             ],
             [
              0.3333333333333333,
              "#9c179e"
             ],
             [
              0.4444444444444444,
              "#bd3786"
             ],
             [
              0.5555555555555556,
              "#d8576b"
             ],
             [
              0.6666666666666666,
              "#ed7953"
             ],
             [
              0.7777777777777778,
              "#fb9f3a"
             ],
             [
              0.8888888888888888,
              "#fdca26"
             ],
             [
              1,
              "#f0f921"
             ]
            ],
            "type": "histogram2dcontour"
           }
          ],
          "mesh3d": [
           {
            "colorbar": {
             "outlinewidth": 0,
             "ticks": ""
            },
            "type": "mesh3d"
           }
          ],
          "parcoords": [
           {
            "line": {
             "colorbar": {
              "outlinewidth": 0,
              "ticks": ""
             }
            },
            "type": "parcoords"
           }
          ],
          "scatter": [
           {
            "marker": {
             "colorbar": {
              "outlinewidth": 0,
              "ticks": ""
             }
            },
            "type": "scatter"
           }
          ],
          "scatter3d": [
           {
            "line": {
             "colorbar": {
              "outlinewidth": 0,
              "ticks": ""
             }
            },
            "marker": {
             "colorbar": {
              "outlinewidth": 0,
              "ticks": ""
             }
            },
            "type": "scatter3d"
           }
          ],
          "scattercarpet": [
           {
            "marker": {
             "colorbar": {
              "outlinewidth": 0,
              "ticks": ""
             }
            },
            "type": "scattercarpet"
           }
          ],
          "scattergeo": [
           {
            "marker": {
             "colorbar": {
              "outlinewidth": 0,
              "ticks": ""
             }
            },
            "type": "scattergeo"
           }
          ],
          "scattergl": [
           {
            "marker": {
             "colorbar": {
              "outlinewidth": 0,
              "ticks": ""
             }
            },
            "type": "scattergl"
           }
          ],
          "scattermapbox": [
           {
            "marker": {
             "colorbar": {
              "outlinewidth": 0,
              "ticks": ""
             }
            },
            "type": "scattermapbox"
           }
          ],
          "scatterpolar": [
           {
            "marker": {
             "colorbar": {
              "outlinewidth": 0,
              "ticks": ""
             }
            },
            "type": "scatterpolar"
           }
          ],
          "scatterpolargl": [
           {
            "marker": {
             "colorbar": {
              "outlinewidth": 0,
              "ticks": ""
             }
            },
            "type": "scatterpolargl"
           }
          ],
          "scatterternary": [
           {
            "marker": {
             "colorbar": {
              "outlinewidth": 0,
              "ticks": ""
             }
            },
            "type": "scatterternary"
           }
          ],
          "surface": [
           {
            "colorbar": {
             "outlinewidth": 0,
             "ticks": ""
            },
            "colorscale": [
             [
              0,
              "#0d0887"
             ],
             [
              0.1111111111111111,
              "#46039f"
             ],
             [
              0.2222222222222222,
              "#7201a8"
             ],
             [
              0.3333333333333333,
              "#9c179e"
             ],
             [
              0.4444444444444444,
              "#bd3786"
             ],
             [
              0.5555555555555556,
              "#d8576b"
             ],
             [
              0.6666666666666666,
              "#ed7953"
             ],
             [
              0.7777777777777778,
              "#fb9f3a"
             ],
             [
              0.8888888888888888,
              "#fdca26"
             ],
             [
              1,
              "#f0f921"
             ]
            ],
            "type": "surface"
           }
          ],
          "table": [
           {
            "cells": {
             "fill": {
              "color": "#EBF0F8"
             },
             "line": {
              "color": "white"
             }
            },
            "header": {
             "fill": {
              "color": "#C8D4E3"
             },
             "line": {
              "color": "white"
             }
            },
            "type": "table"
           }
          ]
         },
         "layout": {
          "annotationdefaults": {
           "arrowcolor": "#2a3f5f",
           "arrowhead": 0,
           "arrowwidth": 1
          },
          "colorscale": {
           "diverging": [
            [
             0,
             "#8e0152"
            ],
            [
             0.1,
             "#c51b7d"
            ],
            [
             0.2,
             "#de77ae"
            ],
            [
             0.3,
             "#f1b6da"
            ],
            [
             0.4,
             "#fde0ef"
            ],
            [
             0.5,
             "#f7f7f7"
            ],
            [
             0.6,
             "#e6f5d0"
            ],
            [
             0.7,
             "#b8e186"
            ],
            [
             0.8,
             "#7fbc41"
            ],
            [
             0.9,
             "#4d9221"
            ],
            [
             1,
             "#276419"
            ]
           ],
           "sequential": [
            [
             0,
             "#0d0887"
            ],
            [
             0.1111111111111111,
             "#46039f"
            ],
            [
             0.2222222222222222,
             "#7201a8"
            ],
            [
             0.3333333333333333,
             "#9c179e"
            ],
            [
             0.4444444444444444,
             "#bd3786"
            ],
            [
             0.5555555555555556,
             "#d8576b"
            ],
            [
             0.6666666666666666,
             "#ed7953"
            ],
            [
             0.7777777777777778,
             "#fb9f3a"
            ],
            [
             0.8888888888888888,
             "#fdca26"
            ],
            [
             1,
             "#f0f921"
            ]
           ],
           "sequentialminus": [
            [
             0,
             "#0d0887"
            ],
            [
             0.1111111111111111,
             "#46039f"
            ],
            [
             0.2222222222222222,
             "#7201a8"
            ],
            [
             0.3333333333333333,
             "#9c179e"
            ],
            [
             0.4444444444444444,
             "#bd3786"
            ],
            [
             0.5555555555555556,
             "#d8576b"
            ],
            [
             0.6666666666666666,
             "#ed7953"
            ],
            [
             0.7777777777777778,
             "#fb9f3a"
            ],
            [
             0.8888888888888888,
             "#fdca26"
            ],
            [
             1,
             "#f0f921"
            ]
           ]
          },
          "colorway": [
           "#636efa",
           "#EF553B",
           "#00cc96",
           "#ab63fa",
           "#FFA15A",
           "#19d3f3",
           "#FF6692",
           "#B6E880",
           "#FF97FF",
           "#FECB52"
          ],
          "font": {
           "color": "#2a3f5f"
          },
          "geo": {
           "bgcolor": "white",
           "lakecolor": "white",
           "landcolor": "#E5ECF6",
           "showlakes": true,
           "showland": true,
           "subunitcolor": "white"
          },
          "hoverlabel": {
           "align": "left"
          },
          "hovermode": "closest",
          "mapbox": {
           "style": "light"
          },
          "paper_bgcolor": "white",
          "plot_bgcolor": "#E5ECF6",
          "polar": {
           "angularaxis": {
            "gridcolor": "white",
            "linecolor": "white",
            "ticks": ""
           },
           "bgcolor": "#E5ECF6",
           "radialaxis": {
            "gridcolor": "white",
            "linecolor": "white",
            "ticks": ""
           }
          },
          "scene": {
           "xaxis": {
            "backgroundcolor": "#E5ECF6",
            "gridcolor": "white",
            "gridwidth": 2,
            "linecolor": "white",
            "showbackground": true,
            "ticks": "",
            "zerolinecolor": "white"
           },
           "yaxis": {
            "backgroundcolor": "#E5ECF6",
            "gridcolor": "white",
            "gridwidth": 2,
            "linecolor": "white",
            "showbackground": true,
            "ticks": "",
            "zerolinecolor": "white"
           },
           "zaxis": {
            "backgroundcolor": "#E5ECF6",
            "gridcolor": "white",
            "gridwidth": 2,
            "linecolor": "white",
            "showbackground": true,
            "ticks": "",
            "zerolinecolor": "white"
           }
          },
          "shapedefaults": {
           "line": {
            "color": "#2a3f5f"
           }
          },
          "ternary": {
           "aaxis": {
            "gridcolor": "white",
            "linecolor": "white",
            "ticks": ""
           },
           "baxis": {
            "gridcolor": "white",
            "linecolor": "white",
            "ticks": ""
           },
           "bgcolor": "#E5ECF6",
           "caxis": {
            "gridcolor": "white",
            "linecolor": "white",
            "ticks": ""
           }
          },
          "title": {
           "x": 0.05
          },
          "xaxis": {
           "automargin": true,
           "gridcolor": "white",
           "linecolor": "white",
           "ticks": "",
           "zerolinecolor": "white",
           "zerolinewidth": 2
          },
          "yaxis": {
           "automargin": true,
           "gridcolor": "white",
           "linecolor": "white",
           "ticks": "",
           "zerolinecolor": "white",
           "zerolinewidth": 2
          }
         }
        },
        "xaxis": {
         "anchor": "y",
         "domain": [
          0,
          0.98
         ],
         "title": {
          "text": "x"
         }
        },
        "yaxis": {
         "anchor": "x",
         "domain": [
          0,
          1
         ],
         "title": {
          "text": "y"
         }
        }
       }
      },
      "text/html": [
       "<div>\n",
       "        \n",
       "        \n",
       "            <div id=\"73070dff-b125-455e-a892-9783a560cd41\" class=\"plotly-graph-div\" style=\"height:600px; width:100%;\"></div>\n",
       "            <script type=\"text/javascript\">\n",
       "                require([\"plotly\"], function(Plotly) {\n",
       "                    window.PLOTLYENV=window.PLOTLYENV || {};\n",
       "                    \n",
       "                if (document.getElementById(\"73070dff-b125-455e-a892-9783a560cd41\")) {\n",
       "                    Plotly.newPlot(\n",
       "                        '73070dff-b125-455e-a892-9783a560cd41',\n",
       "                        [{\"hoverlabel\": {\"namelength\": 0}, \"hovertemplate\": \"x=%{x}<br>y=%{y}\", \"legendgroup\": \"\", \"marker\": {\"color\": \"#636efa\", \"line\": {\"color\": \"DarkSlateGrey\", \"width\": 2}, \"size\": 12, \"symbol\": \"circle\"}, \"mode\": \"markers\", \"name\": \"\", \"showlegend\": false, \"type\": \"scatter\", \"x\": [\"AMIGOS\", \"Familia\", \"Los del Trabajo\", \"Pareja\", \"Solo\", \"22 a 25\", \"26 a 32\", \"33 a 44\", \"45 \\u00f3 m\\u00e1s\", \"Menor a 17\"], \"xaxis\": \"x\", \"y\": [0.22582672282305924, 0.2052986765974757, 0.1904448087849326, 0.2102823528612114, 0.1747991120865036, 0.2666014113971039, 0.3086899761484076, 0.3080285708711699, 0.2795950229453802, 0.21971381019906175], \"yaxis\": \"y\"}],\n",
       "                        {\"height\": 600, \"legend\": {\"tracegroupgap\": 0}, \"margin\": {\"t\": 60}, \"template\": {\"data\": {\"bar\": [{\"error_x\": {\"color\": \"#2a3f5f\"}, \"error_y\": {\"color\": \"#2a3f5f\"}, \"marker\": {\"line\": {\"color\": \"#E5ECF6\", \"width\": 0.5}}, \"type\": \"bar\"}], \"barpolar\": [{\"marker\": {\"line\": {\"color\": \"#E5ECF6\", \"width\": 0.5}}, \"type\": \"barpolar\"}], \"carpet\": [{\"aaxis\": {\"endlinecolor\": \"#2a3f5f\", \"gridcolor\": \"white\", \"linecolor\": \"white\", \"minorgridcolor\": \"white\", \"startlinecolor\": \"#2a3f5f\"}, \"baxis\": {\"endlinecolor\": \"#2a3f5f\", \"gridcolor\": \"white\", \"linecolor\": \"white\", \"minorgridcolor\": \"white\", \"startlinecolor\": \"#2a3f5f\"}, \"type\": \"carpet\"}], \"choropleth\": [{\"colorbar\": {\"outlinewidth\": 0, \"ticks\": \"\"}, \"type\": \"choropleth\"}], \"contour\": [{\"colorbar\": {\"outlinewidth\": 0, \"ticks\": \"\"}, \"colorscale\": [[0.0, \"#0d0887\"], [0.1111111111111111, \"#46039f\"], [0.2222222222222222, \"#7201a8\"], [0.3333333333333333, \"#9c179e\"], [0.4444444444444444, \"#bd3786\"], [0.5555555555555556, \"#d8576b\"], [0.6666666666666666, \"#ed7953\"], [0.7777777777777778, \"#fb9f3a\"], [0.8888888888888888, \"#fdca26\"], [1.0, \"#f0f921\"]], \"type\": \"contour\"}], \"contourcarpet\": [{\"colorbar\": {\"outlinewidth\": 0, \"ticks\": \"\"}, \"type\": \"contourcarpet\"}], \"heatmap\": [{\"colorbar\": {\"outlinewidth\": 0, \"ticks\": \"\"}, \"colorscale\": [[0.0, \"#0d0887\"], [0.1111111111111111, \"#46039f\"], [0.2222222222222222, \"#7201a8\"], [0.3333333333333333, \"#9c179e\"], [0.4444444444444444, \"#bd3786\"], [0.5555555555555556, \"#d8576b\"], [0.6666666666666666, \"#ed7953\"], [0.7777777777777778, \"#fb9f3a\"], [0.8888888888888888, \"#fdca26\"], [1.0, \"#f0f921\"]], \"type\": \"heatmap\"}], \"heatmapgl\": [{\"colorbar\": {\"outlinewidth\": 0, \"ticks\": \"\"}, \"colorscale\": [[0.0, \"#0d0887\"], [0.1111111111111111, \"#46039f\"], [0.2222222222222222, \"#7201a8\"], [0.3333333333333333, \"#9c179e\"], [0.4444444444444444, \"#bd3786\"], [0.5555555555555556, \"#d8576b\"], [0.6666666666666666, \"#ed7953\"], [0.7777777777777778, \"#fb9f3a\"], [0.8888888888888888, \"#fdca26\"], [1.0, \"#f0f921\"]], \"type\": \"heatmapgl\"}], \"histogram\": [{\"marker\": {\"colorbar\": {\"outlinewidth\": 0, \"ticks\": \"\"}}, \"type\": \"histogram\"}], \"histogram2d\": [{\"colorbar\": {\"outlinewidth\": 0, \"ticks\": \"\"}, \"colorscale\": [[0.0, \"#0d0887\"], [0.1111111111111111, \"#46039f\"], [0.2222222222222222, \"#7201a8\"], [0.3333333333333333, \"#9c179e\"], [0.4444444444444444, \"#bd3786\"], [0.5555555555555556, \"#d8576b\"], [0.6666666666666666, \"#ed7953\"], [0.7777777777777778, \"#fb9f3a\"], [0.8888888888888888, \"#fdca26\"], [1.0, \"#f0f921\"]], \"type\": \"histogram2d\"}], \"histogram2dcontour\": [{\"colorbar\": {\"outlinewidth\": 0, \"ticks\": \"\"}, \"colorscale\": [[0.0, \"#0d0887\"], [0.1111111111111111, \"#46039f\"], [0.2222222222222222, \"#7201a8\"], [0.3333333333333333, \"#9c179e\"], [0.4444444444444444, \"#bd3786\"], [0.5555555555555556, \"#d8576b\"], [0.6666666666666666, \"#ed7953\"], [0.7777777777777778, \"#fb9f3a\"], [0.8888888888888888, \"#fdca26\"], [1.0, \"#f0f921\"]], \"type\": \"histogram2dcontour\"}], \"mesh3d\": [{\"colorbar\": {\"outlinewidth\": 0, \"ticks\": \"\"}, \"type\": \"mesh3d\"}], \"parcoords\": [{\"line\": {\"colorbar\": {\"outlinewidth\": 0, \"ticks\": \"\"}}, \"type\": \"parcoords\"}], \"scatter\": [{\"marker\": {\"colorbar\": {\"outlinewidth\": 0, \"ticks\": \"\"}}, \"type\": \"scatter\"}], \"scatter3d\": [{\"line\": {\"colorbar\": {\"outlinewidth\": 0, \"ticks\": \"\"}}, \"marker\": {\"colorbar\": {\"outlinewidth\": 0, \"ticks\": \"\"}}, \"type\": \"scatter3d\"}], \"scattercarpet\": [{\"marker\": {\"colorbar\": {\"outlinewidth\": 0, \"ticks\": \"\"}}, \"type\": \"scattercarpet\"}], \"scattergeo\": [{\"marker\": {\"colorbar\": {\"outlinewidth\": 0, \"ticks\": \"\"}}, \"type\": \"scattergeo\"}], \"scattergl\": [{\"marker\": {\"colorbar\": {\"outlinewidth\": 0, \"ticks\": \"\"}}, \"type\": \"scattergl\"}], \"scattermapbox\": [{\"marker\": {\"colorbar\": {\"outlinewidth\": 0, \"ticks\": \"\"}}, \"type\": \"scattermapbox\"}], \"scatterpolar\": [{\"marker\": {\"colorbar\": {\"outlinewidth\": 0, \"ticks\": \"\"}}, \"type\": \"scatterpolar\"}], \"scatterpolargl\": [{\"marker\": {\"colorbar\": {\"outlinewidth\": 0, \"ticks\": \"\"}}, \"type\": \"scatterpolargl\"}], \"scatterternary\": [{\"marker\": {\"colorbar\": {\"outlinewidth\": 0, \"ticks\": \"\"}}, \"type\": \"scatterternary\"}], \"surface\": [{\"colorbar\": {\"outlinewidth\": 0, \"ticks\": \"\"}, \"colorscale\": [[0.0, \"#0d0887\"], [0.1111111111111111, \"#46039f\"], [0.2222222222222222, \"#7201a8\"], [0.3333333333333333, \"#9c179e\"], [0.4444444444444444, \"#bd3786\"], [0.5555555555555556, \"#d8576b\"], [0.6666666666666666, \"#ed7953\"], [0.7777777777777778, \"#fb9f3a\"], [0.8888888888888888, \"#fdca26\"], [1.0, \"#f0f921\"]], \"type\": \"surface\"}], \"table\": [{\"cells\": {\"fill\": {\"color\": \"#EBF0F8\"}, \"line\": {\"color\": \"white\"}}, \"header\": {\"fill\": {\"color\": \"#C8D4E3\"}, \"line\": {\"color\": \"white\"}}, \"type\": \"table\"}]}, \"layout\": {\"annotationdefaults\": {\"arrowcolor\": \"#2a3f5f\", \"arrowhead\": 0, \"arrowwidth\": 1}, \"colorscale\": {\"diverging\": [[0, \"#8e0152\"], [0.1, \"#c51b7d\"], [0.2, \"#de77ae\"], [0.3, \"#f1b6da\"], [0.4, \"#fde0ef\"], [0.5, \"#f7f7f7\"], [0.6, \"#e6f5d0\"], [0.7, \"#b8e186\"], [0.8, \"#7fbc41\"], [0.9, \"#4d9221\"], [1, \"#276419\"]], \"sequential\": [[0.0, \"#0d0887\"], [0.1111111111111111, \"#46039f\"], [0.2222222222222222, \"#7201a8\"], [0.3333333333333333, \"#9c179e\"], [0.4444444444444444, \"#bd3786\"], [0.5555555555555556, \"#d8576b\"], [0.6666666666666666, \"#ed7953\"], [0.7777777777777778, \"#fb9f3a\"], [0.8888888888888888, \"#fdca26\"], [1.0, \"#f0f921\"]], \"sequentialminus\": [[0.0, \"#0d0887\"], [0.1111111111111111, \"#46039f\"], [0.2222222222222222, \"#7201a8\"], [0.3333333333333333, \"#9c179e\"], [0.4444444444444444, \"#bd3786\"], [0.5555555555555556, \"#d8576b\"], [0.6666666666666666, \"#ed7953\"], [0.7777777777777778, \"#fb9f3a\"], [0.8888888888888888, \"#fdca26\"], [1.0, \"#f0f921\"]]}, \"colorway\": [\"#636efa\", \"#EF553B\", \"#00cc96\", \"#ab63fa\", \"#FFA15A\", \"#19d3f3\", \"#FF6692\", \"#B6E880\", \"#FF97FF\", \"#FECB52\"], \"font\": {\"color\": \"#2a3f5f\"}, \"geo\": {\"bgcolor\": \"white\", \"lakecolor\": \"white\", \"landcolor\": \"#E5ECF6\", \"showlakes\": true, \"showland\": true, \"subunitcolor\": \"white\"}, \"hoverlabel\": {\"align\": \"left\"}, \"hovermode\": \"closest\", \"mapbox\": {\"style\": \"light\"}, \"paper_bgcolor\": \"white\", \"plot_bgcolor\": \"#E5ECF6\", \"polar\": {\"angularaxis\": {\"gridcolor\": \"white\", \"linecolor\": \"white\", \"ticks\": \"\"}, \"bgcolor\": \"#E5ECF6\", \"radialaxis\": {\"gridcolor\": \"white\", \"linecolor\": \"white\", \"ticks\": \"\"}}, \"scene\": {\"xaxis\": {\"backgroundcolor\": \"#E5ECF6\", \"gridcolor\": \"white\", \"gridwidth\": 2, \"linecolor\": \"white\", \"showbackground\": true, \"ticks\": \"\", \"zerolinecolor\": \"white\"}, \"yaxis\": {\"backgroundcolor\": \"#E5ECF6\", \"gridcolor\": \"white\", \"gridwidth\": 2, \"linecolor\": \"white\", \"showbackground\": true, \"ticks\": \"\", \"zerolinecolor\": \"white\"}, \"zaxis\": {\"backgroundcolor\": \"#E5ECF6\", \"gridcolor\": \"white\", \"gridwidth\": 2, \"linecolor\": \"white\", \"showbackground\": true, \"ticks\": \"\", \"zerolinecolor\": \"white\"}}, \"shapedefaults\": {\"line\": {\"color\": \"#2a3f5f\"}}, \"ternary\": {\"aaxis\": {\"gridcolor\": \"white\", \"linecolor\": \"white\", \"ticks\": \"\"}, \"baxis\": {\"gridcolor\": \"white\", \"linecolor\": \"white\", \"ticks\": \"\"}, \"bgcolor\": \"#E5ECF6\", \"caxis\": {\"gridcolor\": \"white\", \"linecolor\": \"white\", \"ticks\": \"\"}}, \"title\": {\"x\": 0.05}, \"xaxis\": {\"automargin\": true, \"gridcolor\": \"white\", \"linecolor\": \"white\", \"ticks\": \"\", \"zerolinecolor\": \"white\", \"zerolinewidth\": 2}, \"yaxis\": {\"automargin\": true, \"gridcolor\": \"white\", \"linecolor\": \"white\", \"ticks\": \"\", \"zerolinecolor\": \"white\", \"zerolinewidth\": 2}}}, \"xaxis\": {\"anchor\": \"y\", \"domain\": [0.0, 0.98], \"title\": {\"text\": \"x\"}}, \"yaxis\": {\"anchor\": \"x\", \"domain\": [0.0, 1.0], \"title\": {\"text\": \"y\"}}},\n",
       "                        {\"responsive\": true}\n",
       "                    ).then(function(){\n",
       "                            \n",
       "var gd = document.getElementById('73070dff-b125-455e-a892-9783a560cd41');\n",
       "var x = new MutationObserver(function (mutations, observer) {{\n",
       "        var display = window.getComputedStyle(gd).display;\n",
       "        if (!display || display === 'none') {{\n",
       "            console.log([gd, 'removed!']);\n",
       "            Plotly.purge(gd);\n",
       "            observer.disconnect();\n",
       "        }}\n",
       "}});\n",
       "\n",
       "// Listen for the removal of the full notebook cells\n",
       "var notebookContainer = gd.closest('#notebook-container');\n",
       "if (notebookContainer) {{\n",
       "    x.observe(notebookContainer, {childList: true});\n",
       "}}\n",
       "\n",
       "// Listen for the clearing of the current output cell\n",
       "var outputEl = gd.closest('.output');\n",
       "if (outputEl) {{\n",
       "    x.observe(outputEl, {childList: true});\n",
       "}}\n",
       "\n",
       "                        })\n",
       "                };\n",
       "                });\n",
       "            </script>\n",
       "        </div>"
      ]
     },
     "metadata": {},
     "output_type": "display_data"
    }
   ],
   "source": [
    "get_results(10, res_alc_xd, list_vals).show()"
   ]
  },
  {
   "cell_type": "code",
   "execution_count": 130,
   "metadata": {},
   "outputs": [
    {
     "data": {
      "text/plain": [
       "[0.22582672282305924,\n",
       " 0.2052986765974757,\n",
       " 0.1904448087849326,\n",
       " 0.2102823528612114,\n",
       " 0.1747991120865036,\n",
       " 0.2666014113971039,\n",
       " 0.3086899761484076,\n",
       " 0.3080285708711699,\n",
       " 0.2795950229453802,\n",
       " 0.21971381019906175]"
      ]
     },
     "execution_count": 130,
     "metadata": {},
     "output_type": "execute_result"
    }
   ],
   "source": [
    "get_results_list(10, res_alc_xd)"
   ]
  },
  {
   "cell_type": "code",
   "execution_count": 142,
   "metadata": {},
   "outputs": [
    {
     "data": {
      "text/plain": [
       "\"\\nlist_cols = lista_quien + lista_edades\\ndef graphs_2_ints(df, lis_cols):\\n    # Generar resultados\\n    for i in \\n    regresion = Logit(df['BEBIDAS CON ALCOHOL'], sm.add_constant(df[list_cols[0]+list_cols[1]]))\\n    regresion = regresion.fit()\\n\""
      ]
     },
     "execution_count": 142,
     "metadata": {},
     "output_type": "execute_result"
    }
   ],
   "source": [
    "'''\n",
    "list_cols = lista_quien + lista_edades\n",
    "def graphs_2_ints(df, lis_cols):\n",
    "    # Generar resultados\n",
    "    for i in \n",
    "    regresion = Logit(df['BEBIDAS CON ALCOHOL'], sm.add_constant(df[list_cols[0]+list_cols[1]]))\n",
    "    regresion = regresion.fit()\n",
    "'''"
   ]
  },
  {
   "cell_type": "code",
   "execution_count": 82,
   "metadata": {},
   "outputs": [
    {
     "data": {
      "text/plain": [
       "6"
      ]
     },
     "execution_count": 82,
     "metadata": {},
     "output_type": "execute_result"
    }
   ],
   "source": [
    "# lista de p(edades)\n",
    "# lista de p(quien)\n"
   ]
  },
  {
   "cell_type": "code",
   "execution_count": null,
   "metadata": {},
   "outputs": [],
   "source": []
  }
 ],
 "metadata": {
  "kernelspec": {
   "display_name": "Python 3",
   "language": "python",
   "name": "python3"
  },
  "language_info": {
   "codemirror_mode": {
    "name": "ipython",
    "version": 3
   },
   "file_extension": ".py",
   "mimetype": "text/x-python",
   "name": "python",
   "nbconvert_exporter": "python",
   "pygments_lexer": "ipython3",
   "version": "3.6.9"
  }
 },
 "nbformat": 4,
 "nbformat_minor": 2
}
